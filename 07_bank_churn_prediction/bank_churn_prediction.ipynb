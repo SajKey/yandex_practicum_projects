{
 "cells": [
  {
   "attachments": {},
   "cell_type": "markdown",
   "metadata": {
    "toc": true
   },
   "source": [
    "<h1>Содержание<span class=\"tocSkip\"></span></h1>\n",
    "<div class=\"toc\"><ul class=\"toc-item\"><li><span><a href=\"#Подготовка-данных\" data-toc-modified-id=\"Подготовка-данных-1\"><span class=\"toc-item-num\">1&nbsp;&nbsp;</span>Подготовка данных</a></span></li><li><span><a href=\"#Исследование-задачи\" data-toc-modified-id=\"Исследование-задачи-2\"><span class=\"toc-item-num\">2&nbsp;&nbsp;</span>Исследование задачи</a></span><ul class=\"toc-item\"><li><span><a href=\"#Подготовка-данных-к-моделированию\" data-toc-modified-id=\"Подготовка-данных-к-моделированию-2.1\"><span class=\"toc-item-num\">2.1&nbsp;&nbsp;</span>Подготовка данных к моделированию</a></span></li><li><span><a href=\"#Разделение-на-выборки\" data-toc-modified-id=\"Разделение-на-выборки-2.2\"><span class=\"toc-item-num\">2.2&nbsp;&nbsp;</span>Разделение на выборки</a></span></li><li><span><a href=\"#Масштабирование-признаков\" data-toc-modified-id=\"Масштабирование-признаков-2.3\"><span class=\"toc-item-num\">2.3&nbsp;&nbsp;</span>Масштабирование признаков</a></span></li><li><span><a href=\"#Проверка-моделей-на-адекватность\" data-toc-modified-id=\"Проверка-моделей-на-адекватность-2.4\"><span class=\"toc-item-num\">2.4&nbsp;&nbsp;</span>Проверка моделей на адекватность</a></span><ul class=\"toc-item\"><li><span><a href=\"#Модель-дерева-решений\" data-toc-modified-id=\"Модель-дерева-решений-2.4.1\"><span class=\"toc-item-num\">2.4.1&nbsp;&nbsp;</span>Модель дерева решений</a></span></li><li><span><a href=\"#Модель-случайного-леса\" data-toc-modified-id=\"Модель-случайного-леса-2.4.2\"><span class=\"toc-item-num\">2.4.2&nbsp;&nbsp;</span>Модель случайного леса</a></span></li><li><span><a href=\"#Модель-логистической-регрессии\" data-toc-modified-id=\"Модель-логистической-регрессии-2.4.3\"><span class=\"toc-item-num\">2.4.3&nbsp;&nbsp;</span>Модель логистической регрессии</a></span></li></ul></li></ul></li><li><span><a href=\"#Борьба-с-дисбалансом\" data-toc-modified-id=\"Борьба-с-дисбалансом-3\"><span class=\"toc-item-num\">3&nbsp;&nbsp;</span>Борьба с дисбалансом</a></span><ul class=\"toc-item\"><li><span><a href=\"#Увеличение-выборки\" data-toc-modified-id=\"Увеличение-выборки-3.1\"><span class=\"toc-item-num\">3.1&nbsp;&nbsp;</span>Увеличение выборки</a></span></li><li><span><a href=\"#Уменьшение-выборки\" data-toc-modified-id=\"Уменьшение-выборки-3.2\"><span class=\"toc-item-num\">3.2&nbsp;&nbsp;</span>Уменьшение выборки</a></span></li><li><span><a href=\"#Выбор-модели-с-лучшим-значением-F1-меры\" data-toc-modified-id=\"Выбор-модели-с-лучшим-значением-F1-меры-3.3\"><span class=\"toc-item-num\">3.3&nbsp;&nbsp;</span>Выбор модели с лучшим значением F1-меры</a></span></li></ul></li><li><span><a href=\"#Тестирование-модели\" data-toc-modified-id=\"Тестирование-модели-4\"><span class=\"toc-item-num\">4&nbsp;&nbsp;</span>Тестирование модели</a></span></li><li><span><a href=\"#Общий-вывод\" data-toc-modified-id=\"Общий-вывод-5\"><span class=\"toc-item-num\">5&nbsp;&nbsp;</span>Общий вывод</a></span></li>"
   ]
  },
  {
   "attachments": {},
   "cell_type": "markdown",
   "metadata": {},
   "source": [
    "# Отток клиентов"
   ]
  },
  {
   "attachments": {},
   "cell_type": "markdown",
   "metadata": {},
   "source": [
    "**Задача:**\n",
    "\n",
    "Необходимо построить модель машинного обучения для спрогнозирования, уйдет ли клиент из банка или нет.\n",
    "\n",
    "**Данные:**\n",
    "\n",
    "Для работы имеются исторические данные о поведении клиентов и расторжении договоров с банком. \n"
   ]
  },
  {
   "attachments": {},
   "cell_type": "markdown",
   "metadata": {},
   "source": [
    "## Подготовка данных"
   ]
  },
  {
   "cell_type": "code",
   "execution_count": 1,
   "metadata": {},
   "outputs": [],
   "source": [
    "import pandas as pd\n",
    "import numpy as np\n",
    "import matplotlib.pyplot as plt\n",
    "\n",
    "from sklearn.tree import DecisionTreeClassifier\n",
    "from sklearn.ensemble import RandomForestClassifier\n",
    "from sklearn.linear_model import LogisticRegression\n",
    "\n",
    "from sklearn.model_selection import train_test_split\n",
    "from sklearn.preprocessing import OneHotEncoder, StandardScaler\n",
    "from sklearn.metrics import f1_score, recall_score, precision_score, roc_auc_score, roc_curve, confusion_matrix\n",
    "from sklearn.utils import shuffle\n",
    "\n",
    "import warnings\n",
    "warnings.filterwarnings('ignore')"
   ]
  },
  {
   "cell_type": "code",
   "execution_count": 2,
   "metadata": {},
   "outputs": [],
   "source": [
    "data = pd.read_csv('Churn.csv')"
   ]
  },
  {
   "cell_type": "code",
   "execution_count": 3,
   "metadata": {
    "scrolled": true
   },
   "outputs": [
    {
     "data": {
      "text/html": [
       "<div>\n",
       "<style scoped>\n",
       "    .dataframe tbody tr th:only-of-type {\n",
       "        vertical-align: middle;\n",
       "    }\n",
       "\n",
       "    .dataframe tbody tr th {\n",
       "        vertical-align: top;\n",
       "    }\n",
       "\n",
       "    .dataframe thead th {\n",
       "        text-align: right;\n",
       "    }\n",
       "</style>\n",
       "<table border=\"1\" class=\"dataframe\">\n",
       "  <thead>\n",
       "    <tr style=\"text-align: right;\">\n",
       "      <th></th>\n",
       "      <th>RowNumber</th>\n",
       "      <th>CustomerId</th>\n",
       "      <th>Surname</th>\n",
       "      <th>CreditScore</th>\n",
       "      <th>Geography</th>\n",
       "      <th>Gender</th>\n",
       "      <th>Age</th>\n",
       "      <th>Tenure</th>\n",
       "      <th>Balance</th>\n",
       "      <th>NumOfProducts</th>\n",
       "      <th>HasCrCard</th>\n",
       "      <th>IsActiveMember</th>\n",
       "      <th>EstimatedSalary</th>\n",
       "      <th>Exited</th>\n",
       "    </tr>\n",
       "  </thead>\n",
       "  <tbody>\n",
       "    <tr>\n",
       "      <th>0</th>\n",
       "      <td>1</td>\n",
       "      <td>15634602</td>\n",
       "      <td>Hargrave</td>\n",
       "      <td>619</td>\n",
       "      <td>France</td>\n",
       "      <td>Female</td>\n",
       "      <td>42</td>\n",
       "      <td>2.0</td>\n",
       "      <td>0.00</td>\n",
       "      <td>1</td>\n",
       "      <td>1</td>\n",
       "      <td>1</td>\n",
       "      <td>101348.88</td>\n",
       "      <td>1</td>\n",
       "    </tr>\n",
       "    <tr>\n",
       "      <th>1</th>\n",
       "      <td>2</td>\n",
       "      <td>15647311</td>\n",
       "      <td>Hill</td>\n",
       "      <td>608</td>\n",
       "      <td>Spain</td>\n",
       "      <td>Female</td>\n",
       "      <td>41</td>\n",
       "      <td>1.0</td>\n",
       "      <td>83807.86</td>\n",
       "      <td>1</td>\n",
       "      <td>0</td>\n",
       "      <td>1</td>\n",
       "      <td>112542.58</td>\n",
       "      <td>0</td>\n",
       "    </tr>\n",
       "    <tr>\n",
       "      <th>2</th>\n",
       "      <td>3</td>\n",
       "      <td>15619304</td>\n",
       "      <td>Onio</td>\n",
       "      <td>502</td>\n",
       "      <td>France</td>\n",
       "      <td>Female</td>\n",
       "      <td>42</td>\n",
       "      <td>8.0</td>\n",
       "      <td>159660.80</td>\n",
       "      <td>3</td>\n",
       "      <td>1</td>\n",
       "      <td>0</td>\n",
       "      <td>113931.57</td>\n",
       "      <td>1</td>\n",
       "    </tr>\n",
       "    <tr>\n",
       "      <th>3</th>\n",
       "      <td>4</td>\n",
       "      <td>15701354</td>\n",
       "      <td>Boni</td>\n",
       "      <td>699</td>\n",
       "      <td>France</td>\n",
       "      <td>Female</td>\n",
       "      <td>39</td>\n",
       "      <td>1.0</td>\n",
       "      <td>0.00</td>\n",
       "      <td>2</td>\n",
       "      <td>0</td>\n",
       "      <td>0</td>\n",
       "      <td>93826.63</td>\n",
       "      <td>0</td>\n",
       "    </tr>\n",
       "    <tr>\n",
       "      <th>4</th>\n",
       "      <td>5</td>\n",
       "      <td>15737888</td>\n",
       "      <td>Mitchell</td>\n",
       "      <td>850</td>\n",
       "      <td>Spain</td>\n",
       "      <td>Female</td>\n",
       "      <td>43</td>\n",
       "      <td>2.0</td>\n",
       "      <td>125510.82</td>\n",
       "      <td>1</td>\n",
       "      <td>1</td>\n",
       "      <td>1</td>\n",
       "      <td>79084.10</td>\n",
       "      <td>0</td>\n",
       "    </tr>\n",
       "    <tr>\n",
       "      <th>5</th>\n",
       "      <td>6</td>\n",
       "      <td>15574012</td>\n",
       "      <td>Chu</td>\n",
       "      <td>645</td>\n",
       "      <td>Spain</td>\n",
       "      <td>Male</td>\n",
       "      <td>44</td>\n",
       "      <td>8.0</td>\n",
       "      <td>113755.78</td>\n",
       "      <td>2</td>\n",
       "      <td>1</td>\n",
       "      <td>0</td>\n",
       "      <td>149756.71</td>\n",
       "      <td>1</td>\n",
       "    </tr>\n",
       "    <tr>\n",
       "      <th>6</th>\n",
       "      <td>7</td>\n",
       "      <td>15592531</td>\n",
       "      <td>Bartlett</td>\n",
       "      <td>822</td>\n",
       "      <td>France</td>\n",
       "      <td>Male</td>\n",
       "      <td>50</td>\n",
       "      <td>7.0</td>\n",
       "      <td>0.00</td>\n",
       "      <td>2</td>\n",
       "      <td>1</td>\n",
       "      <td>1</td>\n",
       "      <td>10062.80</td>\n",
       "      <td>0</td>\n",
       "    </tr>\n",
       "    <tr>\n",
       "      <th>7</th>\n",
       "      <td>8</td>\n",
       "      <td>15656148</td>\n",
       "      <td>Obinna</td>\n",
       "      <td>376</td>\n",
       "      <td>Germany</td>\n",
       "      <td>Female</td>\n",
       "      <td>29</td>\n",
       "      <td>4.0</td>\n",
       "      <td>115046.74</td>\n",
       "      <td>4</td>\n",
       "      <td>1</td>\n",
       "      <td>0</td>\n",
       "      <td>119346.88</td>\n",
       "      <td>1</td>\n",
       "    </tr>\n",
       "    <tr>\n",
       "      <th>8</th>\n",
       "      <td>9</td>\n",
       "      <td>15792365</td>\n",
       "      <td>He</td>\n",
       "      <td>501</td>\n",
       "      <td>France</td>\n",
       "      <td>Male</td>\n",
       "      <td>44</td>\n",
       "      <td>4.0</td>\n",
       "      <td>142051.07</td>\n",
       "      <td>2</td>\n",
       "      <td>0</td>\n",
       "      <td>1</td>\n",
       "      <td>74940.50</td>\n",
       "      <td>0</td>\n",
       "    </tr>\n",
       "    <tr>\n",
       "      <th>9</th>\n",
       "      <td>10</td>\n",
       "      <td>15592389</td>\n",
       "      <td>H?</td>\n",
       "      <td>684</td>\n",
       "      <td>France</td>\n",
       "      <td>Male</td>\n",
       "      <td>27</td>\n",
       "      <td>2.0</td>\n",
       "      <td>134603.88</td>\n",
       "      <td>1</td>\n",
       "      <td>1</td>\n",
       "      <td>1</td>\n",
       "      <td>71725.73</td>\n",
       "      <td>0</td>\n",
       "    </tr>\n",
       "  </tbody>\n",
       "</table>\n",
       "</div>"
      ],
      "text/plain": [
       "   RowNumber  CustomerId   Surname  CreditScore Geography  Gender  Age  \\\n",
       "0          1    15634602  Hargrave          619    France  Female   42   \n",
       "1          2    15647311      Hill          608     Spain  Female   41   \n",
       "2          3    15619304      Onio          502    France  Female   42   \n",
       "3          4    15701354      Boni          699    France  Female   39   \n",
       "4          5    15737888  Mitchell          850     Spain  Female   43   \n",
       "5          6    15574012       Chu          645     Spain    Male   44   \n",
       "6          7    15592531  Bartlett          822    France    Male   50   \n",
       "7          8    15656148    Obinna          376   Germany  Female   29   \n",
       "8          9    15792365        He          501    France    Male   44   \n",
       "9         10    15592389        H?          684    France    Male   27   \n",
       "\n",
       "   Tenure    Balance  NumOfProducts  HasCrCard  IsActiveMember  \\\n",
       "0     2.0       0.00              1          1               1   \n",
       "1     1.0   83807.86              1          0               1   \n",
       "2     8.0  159660.80              3          1               0   \n",
       "3     1.0       0.00              2          0               0   \n",
       "4     2.0  125510.82              1          1               1   \n",
       "5     8.0  113755.78              2          1               0   \n",
       "6     7.0       0.00              2          1               1   \n",
       "7     4.0  115046.74              4          1               0   \n",
       "8     4.0  142051.07              2          0               1   \n",
       "9     2.0  134603.88              1          1               1   \n",
       "\n",
       "   EstimatedSalary  Exited  \n",
       "0        101348.88       1  \n",
       "1        112542.58       0  \n",
       "2        113931.57       1  \n",
       "3         93826.63       0  \n",
       "4         79084.10       0  \n",
       "5        149756.71       1  \n",
       "6         10062.80       0  \n",
       "7        119346.88       1  \n",
       "8         74940.50       0  \n",
       "9         71725.73       0  "
      ]
     },
     "execution_count": 3,
     "metadata": {},
     "output_type": "execute_result"
    }
   ],
   "source": [
    "data.head(10)"
   ]
  },
  {
   "cell_type": "code",
   "execution_count": 4,
   "metadata": {},
   "outputs": [
    {
     "name": "stdout",
     "output_type": "stream",
     "text": [
      "<class 'pandas.core.frame.DataFrame'>\n",
      "RangeIndex: 10000 entries, 0 to 9999\n",
      "Data columns (total 14 columns):\n",
      " #   Column           Non-Null Count  Dtype  \n",
      "---  ------           --------------  -----  \n",
      " 0   RowNumber        10000 non-null  int64  \n",
      " 1   CustomerId       10000 non-null  int64  \n",
      " 2   Surname          10000 non-null  object \n",
      " 3   CreditScore      10000 non-null  int64  \n",
      " 4   Geography        10000 non-null  object \n",
      " 5   Gender           10000 non-null  object \n",
      " 6   Age              10000 non-null  int64  \n",
      " 7   Tenure           9091 non-null   float64\n",
      " 8   Balance          10000 non-null  float64\n",
      " 9   NumOfProducts    10000 non-null  int64  \n",
      " 10  HasCrCard        10000 non-null  int64  \n",
      " 11  IsActiveMember   10000 non-null  int64  \n",
      " 12  EstimatedSalary  10000 non-null  float64\n",
      " 13  Exited           10000 non-null  int64  \n",
      "dtypes: float64(3), int64(8), object(3)\n",
      "memory usage: 1.1+ MB\n"
     ]
    }
   ],
   "source": [
    "data.info()"
   ]
  },
  {
   "attachments": {},
   "cell_type": "markdown",
   "metadata": {},
   "source": [
    "Описание данных:\n",
    "\n",
    "- `RowNumber` — индекс строки в данных\n",
    "- `CustomerId` — уникальный идентификатор клиента\n",
    "- `Surname` — фамилия\n",
    "- `CreditScore` — кредитный рейтинг\n",
    "- `Geography` — страна проживания\n",
    "- `Gender` — пол\n",
    "- `Age` — возраст\n",
    "- `Tenure` — сколько лет человек является клиентом банка\n",
    "- `Balance` — баланс на счёте\n",
    "- `NumOfProducts` — количество продуктов банка, используемых клиентом\n",
    "- `HasCrCard` — наличие кредитной карты\n",
    "- `IsActiveMember` — активность клиента\n",
    "- `EstimatedSalary` — предполагаемая зарплата\n",
    "- `Exited` — факт ухода клиента (*целевой признак*)"
   ]
  },
  {
   "attachments": {},
   "cell_type": "markdown",
   "metadata": {},
   "source": [
    "Проверка на наличие дубликатов."
   ]
  },
  {
   "cell_type": "code",
   "execution_count": 5,
   "metadata": {},
   "outputs": [
    {
     "data": {
      "text/plain": [
       "0"
      ]
     },
     "execution_count": 5,
     "metadata": {},
     "output_type": "execute_result"
    }
   ],
   "source": [
    "data.duplicated().sum()"
   ]
  },
  {
   "attachments": {},
   "cell_type": "markdown",
   "metadata": {},
   "source": [
    "Переименование столбцов для более читаемого отображения. "
   ]
  },
  {
   "cell_type": "code",
   "execution_count": 6,
   "metadata": {},
   "outputs": [],
   "source": [
    "data.columns = data.columns.str.lower()\n",
    "data = data.rename(columns={'creditscore':'credit_score',\n",
    "                            'numofproducts':'num_of_products',\n",
    "                            'hascrcard':'has_cr_card',\n",
    "                            'isactivemember':'is_active_member',\n",
    "                            'estimatedsalary':'estimated_salary'})"
   ]
  },
  {
   "attachments": {},
   "cell_type": "markdown",
   "metadata": {},
   "source": [
    "Поиск и замена пустых значений в столбце `tenure`.\n",
    "\n",
    "Природа появления пропусков в столбце неизвестна. Можно было бы предположить, что пропуски означают, что клиенты новые и менее года пользуются услугами банка. Но в столбце присутствуют значения равным 0. Возможно, причиной пропусков является сбой. Так же нет никаких связанных с этим столбцов данных, что помогли бы заполнить пропуски. "
   ]
  },
  {
   "cell_type": "code",
   "execution_count": 7,
   "metadata": {},
   "outputs": [
    {
     "data": {
      "text/html": [
       "<div>\n",
       "<style scoped>\n",
       "    .dataframe tbody tr th:only-of-type {\n",
       "        vertical-align: middle;\n",
       "    }\n",
       "\n",
       "    .dataframe tbody tr th {\n",
       "        vertical-align: top;\n",
       "    }\n",
       "\n",
       "    .dataframe thead th {\n",
       "        text-align: right;\n",
       "    }\n",
       "</style>\n",
       "<table border=\"1\" class=\"dataframe\">\n",
       "  <thead>\n",
       "    <tr style=\"text-align: right;\">\n",
       "      <th></th>\n",
       "      <th>rownumber</th>\n",
       "      <th>customerid</th>\n",
       "      <th>surname</th>\n",
       "      <th>credit_score</th>\n",
       "      <th>geography</th>\n",
       "      <th>gender</th>\n",
       "      <th>age</th>\n",
       "      <th>tenure</th>\n",
       "      <th>balance</th>\n",
       "      <th>num_of_products</th>\n",
       "      <th>has_cr_card</th>\n",
       "      <th>is_active_member</th>\n",
       "      <th>estimated_salary</th>\n",
       "      <th>exited</th>\n",
       "    </tr>\n",
       "  </thead>\n",
       "  <tbody>\n",
       "    <tr>\n",
       "      <th>30</th>\n",
       "      <td>31</td>\n",
       "      <td>15589475</td>\n",
       "      <td>Azikiwe</td>\n",
       "      <td>591</td>\n",
       "      <td>Spain</td>\n",
       "      <td>Female</td>\n",
       "      <td>39</td>\n",
       "      <td>NaN</td>\n",
       "      <td>0.00</td>\n",
       "      <td>3</td>\n",
       "      <td>1</td>\n",
       "      <td>0</td>\n",
       "      <td>140469.38</td>\n",
       "      <td>1</td>\n",
       "    </tr>\n",
       "    <tr>\n",
       "      <th>48</th>\n",
       "      <td>49</td>\n",
       "      <td>15766205</td>\n",
       "      <td>Yin</td>\n",
       "      <td>550</td>\n",
       "      <td>Germany</td>\n",
       "      <td>Male</td>\n",
       "      <td>38</td>\n",
       "      <td>NaN</td>\n",
       "      <td>103391.38</td>\n",
       "      <td>1</td>\n",
       "      <td>0</td>\n",
       "      <td>1</td>\n",
       "      <td>90878.13</td>\n",
       "      <td>0</td>\n",
       "    </tr>\n",
       "    <tr>\n",
       "      <th>51</th>\n",
       "      <td>52</td>\n",
       "      <td>15768193</td>\n",
       "      <td>Trevisani</td>\n",
       "      <td>585</td>\n",
       "      <td>Germany</td>\n",
       "      <td>Male</td>\n",
       "      <td>36</td>\n",
       "      <td>NaN</td>\n",
       "      <td>146050.97</td>\n",
       "      <td>2</td>\n",
       "      <td>0</td>\n",
       "      <td>0</td>\n",
       "      <td>86424.57</td>\n",
       "      <td>0</td>\n",
       "    </tr>\n",
       "    <tr>\n",
       "      <th>53</th>\n",
       "      <td>54</td>\n",
       "      <td>15702298</td>\n",
       "      <td>Parkhill</td>\n",
       "      <td>655</td>\n",
       "      <td>Germany</td>\n",
       "      <td>Male</td>\n",
       "      <td>41</td>\n",
       "      <td>NaN</td>\n",
       "      <td>125561.97</td>\n",
       "      <td>1</td>\n",
       "      <td>0</td>\n",
       "      <td>0</td>\n",
       "      <td>164040.94</td>\n",
       "      <td>1</td>\n",
       "    </tr>\n",
       "    <tr>\n",
       "      <th>60</th>\n",
       "      <td>61</td>\n",
       "      <td>15651280</td>\n",
       "      <td>Hunter</td>\n",
       "      <td>742</td>\n",
       "      <td>Germany</td>\n",
       "      <td>Male</td>\n",
       "      <td>35</td>\n",
       "      <td>NaN</td>\n",
       "      <td>136857.00</td>\n",
       "      <td>1</td>\n",
       "      <td>0</td>\n",
       "      <td>0</td>\n",
       "      <td>84509.57</td>\n",
       "      <td>0</td>\n",
       "    </tr>\n",
       "    <tr>\n",
       "      <th>...</th>\n",
       "      <td>...</td>\n",
       "      <td>...</td>\n",
       "      <td>...</td>\n",
       "      <td>...</td>\n",
       "      <td>...</td>\n",
       "      <td>...</td>\n",
       "      <td>...</td>\n",
       "      <td>...</td>\n",
       "      <td>...</td>\n",
       "      <td>...</td>\n",
       "      <td>...</td>\n",
       "      <td>...</td>\n",
       "      <td>...</td>\n",
       "      <td>...</td>\n",
       "    </tr>\n",
       "    <tr>\n",
       "      <th>9944</th>\n",
       "      <td>9945</td>\n",
       "      <td>15703923</td>\n",
       "      <td>Cameron</td>\n",
       "      <td>744</td>\n",
       "      <td>Germany</td>\n",
       "      <td>Male</td>\n",
       "      <td>41</td>\n",
       "      <td>NaN</td>\n",
       "      <td>190409.34</td>\n",
       "      <td>2</td>\n",
       "      <td>1</td>\n",
       "      <td>1</td>\n",
       "      <td>138361.48</td>\n",
       "      <td>0</td>\n",
       "    </tr>\n",
       "    <tr>\n",
       "      <th>9956</th>\n",
       "      <td>9957</td>\n",
       "      <td>15707861</td>\n",
       "      <td>Nucci</td>\n",
       "      <td>520</td>\n",
       "      <td>France</td>\n",
       "      <td>Female</td>\n",
       "      <td>46</td>\n",
       "      <td>NaN</td>\n",
       "      <td>85216.61</td>\n",
       "      <td>1</td>\n",
       "      <td>1</td>\n",
       "      <td>0</td>\n",
       "      <td>117369.52</td>\n",
       "      <td>1</td>\n",
       "    </tr>\n",
       "    <tr>\n",
       "      <th>9964</th>\n",
       "      <td>9965</td>\n",
       "      <td>15642785</td>\n",
       "      <td>Douglas</td>\n",
       "      <td>479</td>\n",
       "      <td>France</td>\n",
       "      <td>Male</td>\n",
       "      <td>34</td>\n",
       "      <td>NaN</td>\n",
       "      <td>117593.48</td>\n",
       "      <td>2</td>\n",
       "      <td>0</td>\n",
       "      <td>0</td>\n",
       "      <td>113308.29</td>\n",
       "      <td>0</td>\n",
       "    </tr>\n",
       "    <tr>\n",
       "      <th>9985</th>\n",
       "      <td>9986</td>\n",
       "      <td>15586914</td>\n",
       "      <td>Nepean</td>\n",
       "      <td>659</td>\n",
       "      <td>France</td>\n",
       "      <td>Male</td>\n",
       "      <td>36</td>\n",
       "      <td>NaN</td>\n",
       "      <td>123841.49</td>\n",
       "      <td>2</td>\n",
       "      <td>1</td>\n",
       "      <td>0</td>\n",
       "      <td>96833.00</td>\n",
       "      <td>0</td>\n",
       "    </tr>\n",
       "    <tr>\n",
       "      <th>9999</th>\n",
       "      <td>10000</td>\n",
       "      <td>15628319</td>\n",
       "      <td>Walker</td>\n",
       "      <td>792</td>\n",
       "      <td>France</td>\n",
       "      <td>Female</td>\n",
       "      <td>28</td>\n",
       "      <td>NaN</td>\n",
       "      <td>130142.79</td>\n",
       "      <td>1</td>\n",
       "      <td>1</td>\n",
       "      <td>0</td>\n",
       "      <td>38190.78</td>\n",
       "      <td>0</td>\n",
       "    </tr>\n",
       "  </tbody>\n",
       "</table>\n",
       "<p>909 rows × 14 columns</p>\n",
       "</div>"
      ],
      "text/plain": [
       "      rownumber  customerid    surname  credit_score geography  gender  age  \\\n",
       "30           31    15589475    Azikiwe           591     Spain  Female   39   \n",
       "48           49    15766205        Yin           550   Germany    Male   38   \n",
       "51           52    15768193  Trevisani           585   Germany    Male   36   \n",
       "53           54    15702298   Parkhill           655   Germany    Male   41   \n",
       "60           61    15651280     Hunter           742   Germany    Male   35   \n",
       "...         ...         ...        ...           ...       ...     ...  ...   \n",
       "9944       9945    15703923    Cameron           744   Germany    Male   41   \n",
       "9956       9957    15707861      Nucci           520    France  Female   46   \n",
       "9964       9965    15642785    Douglas           479    France    Male   34   \n",
       "9985       9986    15586914     Nepean           659    France    Male   36   \n",
       "9999      10000    15628319     Walker           792    France  Female   28   \n",
       "\n",
       "      tenure    balance  num_of_products  has_cr_card  is_active_member  \\\n",
       "30       NaN       0.00                3            1                 0   \n",
       "48       NaN  103391.38                1            0                 1   \n",
       "51       NaN  146050.97                2            0                 0   \n",
       "53       NaN  125561.97                1            0                 0   \n",
       "60       NaN  136857.00                1            0                 0   \n",
       "...      ...        ...              ...          ...               ...   \n",
       "9944     NaN  190409.34                2            1                 1   \n",
       "9956     NaN   85216.61                1            1                 0   \n",
       "9964     NaN  117593.48                2            0                 0   \n",
       "9985     NaN  123841.49                2            1                 0   \n",
       "9999     NaN  130142.79                1            1                 0   \n",
       "\n",
       "      estimated_salary  exited  \n",
       "30           140469.38       1  \n",
       "48            90878.13       0  \n",
       "51            86424.57       0  \n",
       "53           164040.94       1  \n",
       "60            84509.57       0  \n",
       "...                ...     ...  \n",
       "9944         138361.48       0  \n",
       "9956         117369.52       1  \n",
       "9964         113308.29       0  \n",
       "9985          96833.00       0  \n",
       "9999          38190.78       0  \n",
       "\n",
       "[909 rows x 14 columns]"
      ]
     },
     "execution_count": 7,
     "metadata": {},
     "output_type": "execute_result"
    }
   ],
   "source": [
    "data[data['tenure'].isna() == True]"
   ]
  },
  {
   "cell_type": "code",
   "execution_count": 8,
   "metadata": {},
   "outputs": [],
   "source": [
    "data = data[data['tenure'].isna() == False]"
   ]
  },
  {
   "attachments": {},
   "cell_type": "markdown",
   "metadata": {},
   "source": [
    "Изменение типов данных  в столбце `tenure`."
   ]
  },
  {
   "cell_type": "code",
   "execution_count": 9,
   "metadata": {},
   "outputs": [],
   "source": [
    "data['tenure'] = data['tenure'].astype('Int64')"
   ]
  },
  {
   "attachments": {},
   "cell_type": "markdown",
   "metadata": {},
   "source": [
    "**Вывод:**\n",
    "\n",
    "В целом предоставленные данные выглядят хорошо, за исключением пропусков в одном столбце. Но в дальнейшей работе с данными нам понадабятся не все столбцы:\n",
    "\n",
    "- `RowNumber` - повторяет информацию датафрейма и не несет ценности для обучения модели. Поэтому столбец необходимо удалить;\n",
    "- `CustomerId` - является идентификатором пользователя и может только помешать обучению модели;\n",
    "- `Surname` - фамилии пользователей, которые тоже не помогут построению модели, а даже наоборот помешают;\n",
    "\n",
    "`Geography` и `Gender` необходимо закодировать закодировать прямым кодированием (*OHE*), чтобы преобразовать категориальные признаки значений столбцов в численные признки."
   ]
  },
  {
   "attachments": {},
   "cell_type": "markdown",
   "metadata": {},
   "source": [
    "## Исследование задачи"
   ]
  },
  {
   "attachments": {},
   "cell_type": "markdown",
   "metadata": {},
   "source": [
    "### Подготовка данных к моделированию"
   ]
  },
  {
   "attachments": {},
   "cell_type": "markdown",
   "metadata": {},
   "source": [
    "Избавляемся от ненужных столбцов датафрейма."
   ]
  },
  {
   "cell_type": "code",
   "execution_count": 10,
   "metadata": {},
   "outputs": [],
   "source": [
    "data = data.drop(['rownumber', 'surname', 'customerid'], axis=1)"
   ]
  },
  {
   "attachments": {},
   "cell_type": "markdown",
   "metadata": {},
   "source": [
    "### Разделение на выборки"
   ]
  },
  {
   "attachments": {},
   "cell_type": "markdown",
   "metadata": {},
   "source": [
    "Спрятанной тестовой выборки нет. Разобъем данные на три части: обучающая, валидационная и тестовая. Размеры тестового и валидационного наборов равны. Исходные данные разбиваем в соотношении 3:1:1."
   ]
  },
  {
   "cell_type": "code",
   "execution_count": 13,
   "metadata": {},
   "outputs": [],
   "source": [
    "target = data['exited']\n",
    "features = data.drop(['exited'] , axis=1)\n",
    "features_train, features_valid, target_train, target_valid = train_test_split(\n",
    "    features, target, test_size=0.4, random_state=12345)"
   ]
  },
  {
   "attachments": {},
   "cell_type": "markdown",
   "metadata": {},
   "source": [
    "Размер обучаемой выборки:"
   ]
  },
  {
   "cell_type": "code",
   "execution_count": 14,
   "metadata": {},
   "outputs": [
    {
     "name": "stdout",
     "output_type": "stream",
     "text": [
      "(5454, 10)\n",
      "(5454,)\n"
     ]
    }
   ],
   "source": [
    "print(features_train.shape)\n",
    "print(target_train.shape)"
   ]
  },
  {
   "attachments": {},
   "cell_type": "markdown",
   "metadata": {},
   "source": [
    "Разделение на валидационную и тестовую выборки."
   ]
  },
  {
   "cell_type": "code",
   "execution_count": 15,
   "metadata": {},
   "outputs": [],
   "source": [
    "features_valid, features_test, target_valid, target_test = train_test_split(\n",
    "    features_valid, target_valid, test_size=0.5, random_state=12345) "
   ]
  },
  {
   "attachments": {},
   "cell_type": "markdown",
   "metadata": {},
   "source": [
    "Размер валидационной выборки:"
   ]
  },
  {
   "cell_type": "code",
   "execution_count": 16,
   "metadata": {},
   "outputs": [
    {
     "name": "stdout",
     "output_type": "stream",
     "text": [
      "(1818, 10)\n",
      "(1818,)\n"
     ]
    }
   ],
   "source": [
    "print(features_valid.shape)\n",
    "print(target_valid.shape)"
   ]
  },
  {
   "attachments": {},
   "cell_type": "markdown",
   "metadata": {},
   "source": [
    "Размер тестовой выборки:"
   ]
  },
  {
   "cell_type": "code",
   "execution_count": 17,
   "metadata": {},
   "outputs": [
    {
     "name": "stdout",
     "output_type": "stream",
     "text": [
      "(1819, 10)\n",
      "(1819,)\n"
     ]
    }
   ],
   "source": [
    "print(features_test.shape)\n",
    "print(target_test.shape)"
   ]
  },
  {
   "attachments": {},
   "cell_type": "markdown",
   "metadata": {},
   "source": [
    "Кодирование признаков для дальнейшего моделирования."
   ]
  },
  {
   "cell_type": "code",
   "execution_count": 18,
   "metadata": {},
   "outputs": [],
   "source": [
    "geo = features_train[['geography']]\n",
    "gender = features_train[['gender']]"
   ]
  },
  {
   "cell_type": "code",
   "execution_count": 19,
   "metadata": {},
   "outputs": [],
   "source": [
    "def ohe_func(selection):\n",
    "    ohe = OneHotEncoder(drop='first')\n",
    "    geo = features_train[['geography']]\n",
    "    gender = features_train[['gender']]\n",
    "    \n",
    "    ohe = ohe.fit(geo)\n",
    "    selection_ohe_geo = ohe.transform(selection[['geography']]).toarray()\n",
    "    selection_ohe_geo = pd.DataFrame(selection_ohe_geo).set_index(selection.index)\n",
    "    selection_ohe_geo = selection_ohe_geo.rename(columns={0:'geo_g', 1:'geo_s'})\n",
    "    selection_new = selection.join(selection_ohe_geo).drop('geography', axis=1)\n",
    "    \n",
    "    ohe = ohe.fit(gender)\n",
    "    selection_ohe_gender = ohe.fit_transform(selection[['gender']]).toarray()\n",
    "    selection_ohe_gender = pd.DataFrame(selection_ohe_gender).set_index(selection.index)\n",
    "    selection_ohe_gender = selection_ohe_gender.rename(columns={0:'gender_m'})\n",
    "    selection_new = selection_new.join(selection_ohe_gender).drop('gender', axis=1)\n",
    "    \n",
    "    return selection_new"
   ]
  },
  {
   "cell_type": "code",
   "execution_count": 20,
   "metadata": {},
   "outputs": [
    {
     "data": {
      "text/html": [
       "<div>\n",
       "<style scoped>\n",
       "    .dataframe tbody tr th:only-of-type {\n",
       "        vertical-align: middle;\n",
       "    }\n",
       "\n",
       "    .dataframe tbody tr th {\n",
       "        vertical-align: top;\n",
       "    }\n",
       "\n",
       "    .dataframe thead th {\n",
       "        text-align: right;\n",
       "    }\n",
       "</style>\n",
       "<table border=\"1\" class=\"dataframe\">\n",
       "  <thead>\n",
       "    <tr style=\"text-align: right;\">\n",
       "      <th></th>\n",
       "      <th>credit_score</th>\n",
       "      <th>age</th>\n",
       "      <th>tenure</th>\n",
       "      <th>balance</th>\n",
       "      <th>num_of_products</th>\n",
       "      <th>has_cr_card</th>\n",
       "      <th>is_active_member</th>\n",
       "      <th>estimated_salary</th>\n",
       "      <th>geo_g</th>\n",
       "      <th>geo_s</th>\n",
       "      <th>gender_m</th>\n",
       "    </tr>\n",
       "  </thead>\n",
       "  <tbody>\n",
       "    <tr>\n",
       "      <th>9344</th>\n",
       "      <td>727</td>\n",
       "      <td>28</td>\n",
       "      <td>2</td>\n",
       "      <td>110997.76</td>\n",
       "      <td>1</td>\n",
       "      <td>1</td>\n",
       "      <td>0</td>\n",
       "      <td>101433.76</td>\n",
       "      <td>0.0</td>\n",
       "      <td>0.0</td>\n",
       "      <td>0.0</td>\n",
       "    </tr>\n",
       "    <tr>\n",
       "      <th>3796</th>\n",
       "      <td>537</td>\n",
       "      <td>26</td>\n",
       "      <td>7</td>\n",
       "      <td>106397.75</td>\n",
       "      <td>1</td>\n",
       "      <td>0</td>\n",
       "      <td>0</td>\n",
       "      <td>103563.23</td>\n",
       "      <td>0.0</td>\n",
       "      <td>0.0</td>\n",
       "      <td>1.0</td>\n",
       "    </tr>\n",
       "    <tr>\n",
       "      <th>7462</th>\n",
       "      <td>610</td>\n",
       "      <td>40</td>\n",
       "      <td>9</td>\n",
       "      <td>0.00</td>\n",
       "      <td>1</td>\n",
       "      <td>1</td>\n",
       "      <td>1</td>\n",
       "      <td>149602.54</td>\n",
       "      <td>0.0</td>\n",
       "      <td>0.0</td>\n",
       "      <td>1.0</td>\n",
       "    </tr>\n",
       "    <tr>\n",
       "      <th>1508</th>\n",
       "      <td>576</td>\n",
       "      <td>36</td>\n",
       "      <td>6</td>\n",
       "      <td>0.00</td>\n",
       "      <td>2</td>\n",
       "      <td>1</td>\n",
       "      <td>1</td>\n",
       "      <td>48314.00</td>\n",
       "      <td>0.0</td>\n",
       "      <td>0.0</td>\n",
       "      <td>1.0</td>\n",
       "    </tr>\n",
       "    <tr>\n",
       "      <th>4478</th>\n",
       "      <td>549</td>\n",
       "      <td>31</td>\n",
       "      <td>4</td>\n",
       "      <td>0.00</td>\n",
       "      <td>2</td>\n",
       "      <td>0</td>\n",
       "      <td>1</td>\n",
       "      <td>25684.85</td>\n",
       "      <td>0.0</td>\n",
       "      <td>0.0</td>\n",
       "      <td>1.0</td>\n",
       "    </tr>\n",
       "  </tbody>\n",
       "</table>\n",
       "</div>"
      ],
      "text/plain": [
       "      credit_score  age  tenure    balance  num_of_products  has_cr_card  \\\n",
       "9344           727   28       2  110997.76                1            1   \n",
       "3796           537   26       7  106397.75                1            0   \n",
       "7462           610   40       9       0.00                1            1   \n",
       "1508           576   36       6       0.00                2            1   \n",
       "4478           549   31       4       0.00                2            0   \n",
       "\n",
       "      is_active_member  estimated_salary  geo_g  geo_s  gender_m  \n",
       "9344                 0         101433.76    0.0    0.0       0.0  \n",
       "3796                 0         103563.23    0.0    0.0       1.0  \n",
       "7462                 1         149602.54    0.0    0.0       1.0  \n",
       "1508                 1          48314.00    0.0    0.0       1.0  \n",
       "4478                 1          25684.85    0.0    0.0       1.0  "
      ]
     },
     "execution_count": 20,
     "metadata": {},
     "output_type": "execute_result"
    }
   ],
   "source": [
    "features_train = ohe_func(features_train)\n",
    "features_train.head()"
   ]
  },
  {
   "cell_type": "code",
   "execution_count": 21,
   "metadata": {},
   "outputs": [
    {
     "data": {
      "text/html": [
       "<div>\n",
       "<style scoped>\n",
       "    .dataframe tbody tr th:only-of-type {\n",
       "        vertical-align: middle;\n",
       "    }\n",
       "\n",
       "    .dataframe tbody tr th {\n",
       "        vertical-align: top;\n",
       "    }\n",
       "\n",
       "    .dataframe thead th {\n",
       "        text-align: right;\n",
       "    }\n",
       "</style>\n",
       "<table border=\"1\" class=\"dataframe\">\n",
       "  <thead>\n",
       "    <tr style=\"text-align: right;\">\n",
       "      <th></th>\n",
       "      <th>credit_score</th>\n",
       "      <th>age</th>\n",
       "      <th>tenure</th>\n",
       "      <th>balance</th>\n",
       "      <th>num_of_products</th>\n",
       "      <th>has_cr_card</th>\n",
       "      <th>is_active_member</th>\n",
       "      <th>estimated_salary</th>\n",
       "      <th>geo_g</th>\n",
       "      <th>geo_s</th>\n",
       "      <th>gender_m</th>\n",
       "    </tr>\n",
       "  </thead>\n",
       "  <tbody>\n",
       "    <tr>\n",
       "      <th>7445</th>\n",
       "      <td>516</td>\n",
       "      <td>45</td>\n",
       "      <td>4</td>\n",
       "      <td>0.00</td>\n",
       "      <td>1</td>\n",
       "      <td>1</td>\n",
       "      <td>0</td>\n",
       "      <td>95273.73</td>\n",
       "      <td>0.0</td>\n",
       "      <td>0.0</td>\n",
       "      <td>0.0</td>\n",
       "    </tr>\n",
       "    <tr>\n",
       "      <th>8620</th>\n",
       "      <td>768</td>\n",
       "      <td>40</td>\n",
       "      <td>8</td>\n",
       "      <td>0.00</td>\n",
       "      <td>2</td>\n",
       "      <td>0</td>\n",
       "      <td>1</td>\n",
       "      <td>69080.46</td>\n",
       "      <td>0.0</td>\n",
       "      <td>0.0</td>\n",
       "      <td>0.0</td>\n",
       "    </tr>\n",
       "    <tr>\n",
       "      <th>1714</th>\n",
       "      <td>730</td>\n",
       "      <td>45</td>\n",
       "      <td>6</td>\n",
       "      <td>152880.97</td>\n",
       "      <td>1</td>\n",
       "      <td>0</td>\n",
       "      <td>0</td>\n",
       "      <td>162478.11</td>\n",
       "      <td>1.0</td>\n",
       "      <td>0.0</td>\n",
       "      <td>1.0</td>\n",
       "    </tr>\n",
       "    <tr>\n",
       "      <th>5441</th>\n",
       "      <td>751</td>\n",
       "      <td>29</td>\n",
       "      <td>1</td>\n",
       "      <td>135536.50</td>\n",
       "      <td>1</td>\n",
       "      <td>1</td>\n",
       "      <td>0</td>\n",
       "      <td>66825.33</td>\n",
       "      <td>0.0</td>\n",
       "      <td>0.0</td>\n",
       "      <td>1.0</td>\n",
       "    </tr>\n",
       "    <tr>\n",
       "      <th>9001</th>\n",
       "      <td>688</td>\n",
       "      <td>32</td>\n",
       "      <td>6</td>\n",
       "      <td>124179.30</td>\n",
       "      <td>1</td>\n",
       "      <td>1</td>\n",
       "      <td>1</td>\n",
       "      <td>138759.15</td>\n",
       "      <td>0.0</td>\n",
       "      <td>1.0</td>\n",
       "      <td>1.0</td>\n",
       "    </tr>\n",
       "  </tbody>\n",
       "</table>\n",
       "</div>"
      ],
      "text/plain": [
       "      credit_score  age  tenure    balance  num_of_products  has_cr_card  \\\n",
       "7445           516   45       4       0.00                1            1   \n",
       "8620           768   40       8       0.00                2            0   \n",
       "1714           730   45       6  152880.97                1            0   \n",
       "5441           751   29       1  135536.50                1            1   \n",
       "9001           688   32       6  124179.30                1            1   \n",
       "\n",
       "      is_active_member  estimated_salary  geo_g  geo_s  gender_m  \n",
       "7445                 0          95273.73    0.0    0.0       0.0  \n",
       "8620                 1          69080.46    0.0    0.0       0.0  \n",
       "1714                 0         162478.11    1.0    0.0       1.0  \n",
       "5441                 0          66825.33    0.0    0.0       1.0  \n",
       "9001                 1         138759.15    0.0    1.0       1.0  "
      ]
     },
     "execution_count": 21,
     "metadata": {},
     "output_type": "execute_result"
    }
   ],
   "source": [
    "features_valid = ohe_func(features_valid)\n",
    "features_valid.head()"
   ]
  },
  {
   "cell_type": "code",
   "execution_count": 22,
   "metadata": {},
   "outputs": [
    {
     "data": {
      "text/html": [
       "<div>\n",
       "<style scoped>\n",
       "    .dataframe tbody tr th:only-of-type {\n",
       "        vertical-align: middle;\n",
       "    }\n",
       "\n",
       "    .dataframe tbody tr th {\n",
       "        vertical-align: top;\n",
       "    }\n",
       "\n",
       "    .dataframe thead th {\n",
       "        text-align: right;\n",
       "    }\n",
       "</style>\n",
       "<table border=\"1\" class=\"dataframe\">\n",
       "  <thead>\n",
       "    <tr style=\"text-align: right;\">\n",
       "      <th></th>\n",
       "      <th>credit_score</th>\n",
       "      <th>age</th>\n",
       "      <th>tenure</th>\n",
       "      <th>balance</th>\n",
       "      <th>num_of_products</th>\n",
       "      <th>has_cr_card</th>\n",
       "      <th>is_active_member</th>\n",
       "      <th>estimated_salary</th>\n",
       "      <th>geo_g</th>\n",
       "      <th>geo_s</th>\n",
       "      <th>gender_m</th>\n",
       "    </tr>\n",
       "  </thead>\n",
       "  <tbody>\n",
       "    <tr>\n",
       "      <th>5170</th>\n",
       "      <td>814</td>\n",
       "      <td>31</td>\n",
       "      <td>4</td>\n",
       "      <td>0.00</td>\n",
       "      <td>2</td>\n",
       "      <td>1</td>\n",
       "      <td>1</td>\n",
       "      <td>142029.17</td>\n",
       "      <td>0.0</td>\n",
       "      <td>0.0</td>\n",
       "      <td>0.0</td>\n",
       "    </tr>\n",
       "    <tr>\n",
       "      <th>4180</th>\n",
       "      <td>607</td>\n",
       "      <td>36</td>\n",
       "      <td>10</td>\n",
       "      <td>106702.94</td>\n",
       "      <td>2</td>\n",
       "      <td>0</td>\n",
       "      <td>0</td>\n",
       "      <td>198313.69</td>\n",
       "      <td>1.0</td>\n",
       "      <td>0.0</td>\n",
       "      <td>1.0</td>\n",
       "    </tr>\n",
       "    <tr>\n",
       "      <th>7349</th>\n",
       "      <td>632</td>\n",
       "      <td>42</td>\n",
       "      <td>6</td>\n",
       "      <td>59972.26</td>\n",
       "      <td>2</td>\n",
       "      <td>0</td>\n",
       "      <td>1</td>\n",
       "      <td>148172.94</td>\n",
       "      <td>1.0</td>\n",
       "      <td>0.0</td>\n",
       "      <td>1.0</td>\n",
       "    </tr>\n",
       "    <tr>\n",
       "      <th>7469</th>\n",
       "      <td>686</td>\n",
       "      <td>35</td>\n",
       "      <td>8</td>\n",
       "      <td>105419.73</td>\n",
       "      <td>1</td>\n",
       "      <td>1</td>\n",
       "      <td>0</td>\n",
       "      <td>35356.46</td>\n",
       "      <td>0.0</td>\n",
       "      <td>0.0</td>\n",
       "      <td>0.0</td>\n",
       "    </tr>\n",
       "    <tr>\n",
       "      <th>3467</th>\n",
       "      <td>538</td>\n",
       "      <td>42</td>\n",
       "      <td>1</td>\n",
       "      <td>98548.62</td>\n",
       "      <td>2</td>\n",
       "      <td>0</td>\n",
       "      <td>1</td>\n",
       "      <td>94047.75</td>\n",
       "      <td>1.0</td>\n",
       "      <td>0.0</td>\n",
       "      <td>0.0</td>\n",
       "    </tr>\n",
       "  </tbody>\n",
       "</table>\n",
       "</div>"
      ],
      "text/plain": [
       "      credit_score  age  tenure    balance  num_of_products  has_cr_card  \\\n",
       "5170           814   31       4       0.00                2            1   \n",
       "4180           607   36      10  106702.94                2            0   \n",
       "7349           632   42       6   59972.26                2            0   \n",
       "7469           686   35       8  105419.73                1            1   \n",
       "3467           538   42       1   98548.62                2            0   \n",
       "\n",
       "      is_active_member  estimated_salary  geo_g  geo_s  gender_m  \n",
       "5170                 1         142029.17    0.0    0.0       0.0  \n",
       "4180                 0         198313.69    1.0    0.0       1.0  \n",
       "7349                 1         148172.94    1.0    0.0       1.0  \n",
       "7469                 0          35356.46    0.0    0.0       0.0  \n",
       "3467                 1          94047.75    1.0    0.0       0.0  "
      ]
     },
     "execution_count": 22,
     "metadata": {},
     "output_type": "execute_result"
    }
   ],
   "source": [
    "features_test = ohe_func(features_test)\n",
    "features_test.head()"
   ]
  },
  {
   "attachments": {},
   "cell_type": "markdown",
   "metadata": {},
   "source": [
    "### Масштабирование признаков"
   ]
  },
  {
   "attachments": {},
   "cell_type": "markdown",
   "metadata": {},
   "source": [
    "Проведем масштабирование признаков, так как в разных столбцах находитятся значения с разными разбросами."
   ]
  },
  {
   "cell_type": "code",
   "execution_count": 23,
   "metadata": {},
   "outputs": [
    {
     "data": {
      "text/plain": [
       "StandardScaler()"
      ]
     },
     "execution_count": 23,
     "metadata": {},
     "output_type": "execute_result"
    }
   ],
   "source": [
    "numeric = ['credit_score','age','balance','estimated_salary', 'tenure', 'num_of_products']\n",
    "\n",
    "scaler = StandardScaler()\n",
    "scaler.fit(features_train[numeric])"
   ]
  },
  {
   "cell_type": "code",
   "execution_count": 24,
   "metadata": {},
   "outputs": [
    {
     "data": {
      "text/html": [
       "<div>\n",
       "<style scoped>\n",
       "    .dataframe tbody tr th:only-of-type {\n",
       "        vertical-align: middle;\n",
       "    }\n",
       "\n",
       "    .dataframe tbody tr th {\n",
       "        vertical-align: top;\n",
       "    }\n",
       "\n",
       "    .dataframe thead th {\n",
       "        text-align: right;\n",
       "    }\n",
       "</style>\n",
       "<table border=\"1\" class=\"dataframe\">\n",
       "  <thead>\n",
       "    <tr style=\"text-align: right;\">\n",
       "      <th></th>\n",
       "      <th>credit_score</th>\n",
       "      <th>age</th>\n",
       "      <th>tenure</th>\n",
       "      <th>balance</th>\n",
       "      <th>num_of_products</th>\n",
       "      <th>has_cr_card</th>\n",
       "      <th>is_active_member</th>\n",
       "      <th>estimated_salary</th>\n",
       "      <th>geo_g</th>\n",
       "      <th>geo_s</th>\n",
       "      <th>gender_m</th>\n",
       "    </tr>\n",
       "  </thead>\n",
       "  <tbody>\n",
       "    <tr>\n",
       "      <th>9344</th>\n",
       "      <td>0.809075</td>\n",
       "      <td>-1.039327</td>\n",
       "      <td>-1.025995</td>\n",
       "      <td>0.554904</td>\n",
       "      <td>-0.908179</td>\n",
       "      <td>1</td>\n",
       "      <td>0</td>\n",
       "      <td>0.019508</td>\n",
       "      <td>0.0</td>\n",
       "      <td>0.0</td>\n",
       "      <td>0.0</td>\n",
       "    </tr>\n",
       "    <tr>\n",
       "      <th>3796</th>\n",
       "      <td>-1.152518</td>\n",
       "      <td>-1.227561</td>\n",
       "      <td>0.696524</td>\n",
       "      <td>0.480609</td>\n",
       "      <td>-0.908179</td>\n",
       "      <td>0</td>\n",
       "      <td>0</td>\n",
       "      <td>0.056167</td>\n",
       "      <td>0.0</td>\n",
       "      <td>0.0</td>\n",
       "      <td>1.0</td>\n",
       "    </tr>\n",
       "    <tr>\n",
       "      <th>7462</th>\n",
       "      <td>-0.398853</td>\n",
       "      <td>0.090079</td>\n",
       "      <td>1.385532</td>\n",
       "      <td>-1.237830</td>\n",
       "      <td>-0.908179</td>\n",
       "      <td>1</td>\n",
       "      <td>1</td>\n",
       "      <td>0.848738</td>\n",
       "      <td>0.0</td>\n",
       "      <td>0.0</td>\n",
       "      <td>1.0</td>\n",
       "    </tr>\n",
       "    <tr>\n",
       "      <th>1508</th>\n",
       "      <td>-0.749875</td>\n",
       "      <td>-0.286389</td>\n",
       "      <td>0.352020</td>\n",
       "      <td>-1.237830</td>\n",
       "      <td>0.809300</td>\n",
       "      <td>1</td>\n",
       "      <td>1</td>\n",
       "      <td>-0.894953</td>\n",
       "      <td>0.0</td>\n",
       "      <td>0.0</td>\n",
       "      <td>1.0</td>\n",
       "    </tr>\n",
       "    <tr>\n",
       "      <th>4478</th>\n",
       "      <td>-1.028628</td>\n",
       "      <td>-0.756975</td>\n",
       "      <td>-0.336987</td>\n",
       "      <td>-1.237830</td>\n",
       "      <td>0.809300</td>\n",
       "      <td>0</td>\n",
       "      <td>1</td>\n",
       "      <td>-1.284516</td>\n",
       "      <td>0.0</td>\n",
       "      <td>0.0</td>\n",
       "      <td>1.0</td>\n",
       "    </tr>\n",
       "  </tbody>\n",
       "</table>\n",
       "</div>"
      ],
      "text/plain": [
       "      credit_score       age    tenure   balance  num_of_products  \\\n",
       "9344      0.809075 -1.039327 -1.025995  0.554904        -0.908179   \n",
       "3796     -1.152518 -1.227561  0.696524  0.480609        -0.908179   \n",
       "7462     -0.398853  0.090079  1.385532 -1.237830        -0.908179   \n",
       "1508     -0.749875 -0.286389  0.352020 -1.237830         0.809300   \n",
       "4478     -1.028628 -0.756975 -0.336987 -1.237830         0.809300   \n",
       "\n",
       "      has_cr_card  is_active_member  estimated_salary  geo_g  geo_s  gender_m  \n",
       "9344            1                 0          0.019508    0.0    0.0       0.0  \n",
       "3796            0                 0          0.056167    0.0    0.0       1.0  \n",
       "7462            1                 1          0.848738    0.0    0.0       1.0  \n",
       "1508            1                 1         -0.894953    0.0    0.0       1.0  \n",
       "4478            0                 1         -1.284516    0.0    0.0       1.0  "
      ]
     },
     "execution_count": 24,
     "metadata": {},
     "output_type": "execute_result"
    }
   ],
   "source": [
    "features_train[numeric] = scaler.transform(features_train[numeric])\n",
    "features_train.head()"
   ]
  },
  {
   "cell_type": "code",
   "execution_count": 25,
   "metadata": {},
   "outputs": [
    {
     "data": {
      "text/html": [
       "<div>\n",
       "<style scoped>\n",
       "    .dataframe tbody tr th:only-of-type {\n",
       "        vertical-align: middle;\n",
       "    }\n",
       "\n",
       "    .dataframe tbody tr th {\n",
       "        vertical-align: top;\n",
       "    }\n",
       "\n",
       "    .dataframe thead th {\n",
       "        text-align: right;\n",
       "    }\n",
       "</style>\n",
       "<table border=\"1\" class=\"dataframe\">\n",
       "  <thead>\n",
       "    <tr style=\"text-align: right;\">\n",
       "      <th></th>\n",
       "      <th>credit_score</th>\n",
       "      <th>age</th>\n",
       "      <th>tenure</th>\n",
       "      <th>balance</th>\n",
       "      <th>num_of_products</th>\n",
       "      <th>has_cr_card</th>\n",
       "      <th>is_active_member</th>\n",
       "      <th>estimated_salary</th>\n",
       "      <th>geo_g</th>\n",
       "      <th>geo_s</th>\n",
       "      <th>gender_m</th>\n",
       "    </tr>\n",
       "  </thead>\n",
       "  <tbody>\n",
       "    <tr>\n",
       "      <th>7445</th>\n",
       "      <td>-1.369326</td>\n",
       "      <td>0.560665</td>\n",
       "      <td>-0.336987</td>\n",
       "      <td>-1.237830</td>\n",
       "      <td>-0.908179</td>\n",
       "      <td>1</td>\n",
       "      <td>0</td>\n",
       "      <td>-0.086537</td>\n",
       "      <td>0.0</td>\n",
       "      <td>0.0</td>\n",
       "      <td>0.0</td>\n",
       "    </tr>\n",
       "    <tr>\n",
       "      <th>8620</th>\n",
       "      <td>1.232367</td>\n",
       "      <td>0.090079</td>\n",
       "      <td>1.041028</td>\n",
       "      <td>-1.237830</td>\n",
       "      <td>0.809300</td>\n",
       "      <td>0</td>\n",
       "      <td>1</td>\n",
       "      <td>-0.537457</td>\n",
       "      <td>0.0</td>\n",
       "      <td>0.0</td>\n",
       "      <td>0.0</td>\n",
       "    </tr>\n",
       "    <tr>\n",
       "      <th>1714</th>\n",
       "      <td>0.840048</td>\n",
       "      <td>0.560665</td>\n",
       "      <td>0.352020</td>\n",
       "      <td>1.231363</td>\n",
       "      <td>-0.908179</td>\n",
       "      <td>0</td>\n",
       "      <td>0</td>\n",
       "      <td>1.070393</td>\n",
       "      <td>1.0</td>\n",
       "      <td>0.0</td>\n",
       "      <td>1.0</td>\n",
       "    </tr>\n",
       "    <tr>\n",
       "      <th>5441</th>\n",
       "      <td>1.056856</td>\n",
       "      <td>-0.945210</td>\n",
       "      <td>-1.370498</td>\n",
       "      <td>0.951231</td>\n",
       "      <td>-0.908179</td>\n",
       "      <td>1</td>\n",
       "      <td>0</td>\n",
       "      <td>-0.576279</td>\n",
       "      <td>0.0</td>\n",
       "      <td>0.0</td>\n",
       "      <td>1.0</td>\n",
       "    </tr>\n",
       "    <tr>\n",
       "      <th>9001</th>\n",
       "      <td>0.406433</td>\n",
       "      <td>-0.662858</td>\n",
       "      <td>0.352020</td>\n",
       "      <td>0.767800</td>\n",
       "      <td>-0.908179</td>\n",
       "      <td>1</td>\n",
       "      <td>1</td>\n",
       "      <td>0.662068</td>\n",
       "      <td>0.0</td>\n",
       "      <td>1.0</td>\n",
       "      <td>1.0</td>\n",
       "    </tr>\n",
       "  </tbody>\n",
       "</table>\n",
       "</div>"
      ],
      "text/plain": [
       "      credit_score       age    tenure   balance  num_of_products  \\\n",
       "7445     -1.369326  0.560665 -0.336987 -1.237830        -0.908179   \n",
       "8620      1.232367  0.090079  1.041028 -1.237830         0.809300   \n",
       "1714      0.840048  0.560665  0.352020  1.231363        -0.908179   \n",
       "5441      1.056856 -0.945210 -1.370498  0.951231        -0.908179   \n",
       "9001      0.406433 -0.662858  0.352020  0.767800        -0.908179   \n",
       "\n",
       "      has_cr_card  is_active_member  estimated_salary  geo_g  geo_s  gender_m  \n",
       "7445            1                 0         -0.086537    0.0    0.0       0.0  \n",
       "8620            0                 1         -0.537457    0.0    0.0       0.0  \n",
       "1714            0                 0          1.070393    1.0    0.0       1.0  \n",
       "5441            1                 0         -0.576279    0.0    0.0       1.0  \n",
       "9001            1                 1          0.662068    0.0    1.0       1.0  "
      ]
     },
     "execution_count": 25,
     "metadata": {},
     "output_type": "execute_result"
    }
   ],
   "source": [
    "features_valid[numeric] = scaler.transform(features_valid[numeric])\n",
    "features_valid.head()"
   ]
  },
  {
   "cell_type": "code",
   "execution_count": 26,
   "metadata": {
    "scrolled": true
   },
   "outputs": [
    {
     "data": {
      "text/html": [
       "<div>\n",
       "<style scoped>\n",
       "    .dataframe tbody tr th:only-of-type {\n",
       "        vertical-align: middle;\n",
       "    }\n",
       "\n",
       "    .dataframe tbody tr th {\n",
       "        vertical-align: top;\n",
       "    }\n",
       "\n",
       "    .dataframe thead th {\n",
       "        text-align: right;\n",
       "    }\n",
       "</style>\n",
       "<table border=\"1\" class=\"dataframe\">\n",
       "  <thead>\n",
       "    <tr style=\"text-align: right;\">\n",
       "      <th></th>\n",
       "      <th>credit_score</th>\n",
       "      <th>age</th>\n",
       "      <th>tenure</th>\n",
       "      <th>balance</th>\n",
       "      <th>num_of_products</th>\n",
       "      <th>has_cr_card</th>\n",
       "      <th>is_active_member</th>\n",
       "      <th>estimated_salary</th>\n",
       "      <th>geo_g</th>\n",
       "      <th>geo_s</th>\n",
       "      <th>gender_m</th>\n",
       "    </tr>\n",
       "  </thead>\n",
       "  <tbody>\n",
       "    <tr>\n",
       "      <th>5170</th>\n",
       "      <td>1.707279</td>\n",
       "      <td>-0.756975</td>\n",
       "      <td>-0.336987</td>\n",
       "      <td>-1.237830</td>\n",
       "      <td>0.809300</td>\n",
       "      <td>1</td>\n",
       "      <td>1</td>\n",
       "      <td>0.718362</td>\n",
       "      <td>0.0</td>\n",
       "      <td>0.0</td>\n",
       "      <td>0.0</td>\n",
       "    </tr>\n",
       "    <tr>\n",
       "      <th>4180</th>\n",
       "      <td>-0.429826</td>\n",
       "      <td>-0.286389</td>\n",
       "      <td>1.730036</td>\n",
       "      <td>0.485538</td>\n",
       "      <td>0.809300</td>\n",
       "      <td>0</td>\n",
       "      <td>0</td>\n",
       "      <td>1.687305</td>\n",
       "      <td>1.0</td>\n",
       "      <td>0.0</td>\n",
       "      <td>1.0</td>\n",
       "    </tr>\n",
       "    <tr>\n",
       "      <th>7349</th>\n",
       "      <td>-0.171721</td>\n",
       "      <td>0.278313</td>\n",
       "      <td>0.352020</td>\n",
       "      <td>-0.269213</td>\n",
       "      <td>0.809300</td>\n",
       "      <td>0</td>\n",
       "      <td>1</td>\n",
       "      <td>0.824128</td>\n",
       "      <td>1.0</td>\n",
       "      <td>0.0</td>\n",
       "      <td>1.0</td>\n",
       "    </tr>\n",
       "    <tr>\n",
       "      <th>7469</th>\n",
       "      <td>0.385784</td>\n",
       "      <td>-0.380507</td>\n",
       "      <td>1.041028</td>\n",
       "      <td>0.464813</td>\n",
       "      <td>-0.908179</td>\n",
       "      <td>1</td>\n",
       "      <td>0</td>\n",
       "      <td>-1.118018</td>\n",
       "      <td>0.0</td>\n",
       "      <td>0.0</td>\n",
       "      <td>0.0</td>\n",
       "    </tr>\n",
       "    <tr>\n",
       "      <th>3467</th>\n",
       "      <td>-1.142194</td>\n",
       "      <td>0.278313</td>\n",
       "      <td>-1.370498</td>\n",
       "      <td>0.353837</td>\n",
       "      <td>0.809300</td>\n",
       "      <td>0</td>\n",
       "      <td>1</td>\n",
       "      <td>-0.107642</td>\n",
       "      <td>1.0</td>\n",
       "      <td>0.0</td>\n",
       "      <td>0.0</td>\n",
       "    </tr>\n",
       "  </tbody>\n",
       "</table>\n",
       "</div>"
      ],
      "text/plain": [
       "      credit_score       age    tenure   balance  num_of_products  \\\n",
       "5170      1.707279 -0.756975 -0.336987 -1.237830         0.809300   \n",
       "4180     -0.429826 -0.286389  1.730036  0.485538         0.809300   \n",
       "7349     -0.171721  0.278313  0.352020 -0.269213         0.809300   \n",
       "7469      0.385784 -0.380507  1.041028  0.464813        -0.908179   \n",
       "3467     -1.142194  0.278313 -1.370498  0.353837         0.809300   \n",
       "\n",
       "      has_cr_card  is_active_member  estimated_salary  geo_g  geo_s  gender_m  \n",
       "5170            1                 1          0.718362    0.0    0.0       0.0  \n",
       "4180            0                 0          1.687305    1.0    0.0       1.0  \n",
       "7349            0                 1          0.824128    1.0    0.0       1.0  \n",
       "7469            1                 0         -1.118018    0.0    0.0       0.0  \n",
       "3467            0                 1         -0.107642    1.0    0.0       0.0  "
      ]
     },
     "execution_count": 26,
     "metadata": {},
     "output_type": "execute_result"
    }
   ],
   "source": [
    "features_test[numeric] = scaler.transform(features_test[numeric])\n",
    "features_test.head()"
   ]
  },
  {
   "attachments": {},
   "cell_type": "markdown",
   "metadata": {},
   "source": [
    "### Проверка моделей на адекватность"
   ]
  },
  {
   "attachments": {},
   "cell_type": "markdown",
   "metadata": {},
   "source": [
    "Проверка качества моделей до борьбы с дисбалансом классов."
   ]
  },
  {
   "attachments": {},
   "cell_type": "markdown",
   "metadata": {},
   "source": [
    "#### Модель дерева решений"
   ]
  },
  {
   "cell_type": "code",
   "execution_count": 27,
   "metadata": {},
   "outputs": [
    {
     "name": "stdout",
     "output_type": "stream",
     "text": [
      "Лучшие гиперпараметры:\n",
      "      max_depth: 11\n",
      "      max_features:5\n",
      "      min_samples_leaf:7\n",
      "      min_samples_split:2\n"
     ]
    }
   ],
   "source": [
    "best_depth = 0\n",
    "best_features = 0        \n",
    "best_samples_leaf = 0\n",
    "best_samples_split = 0\n",
    "best_result = 0\n",
    "\n",
    "for depth in range(1,30):\n",
    "    for features in range(1,10):\n",
    "        for samples_leaf in range(1,10):\n",
    "            for samples_split in range(2,16,2):\n",
    "                model_dtc = DecisionTreeClassifier(random_state=12345, max_depth=depth,\n",
    "                                                   max_features=features, min_samples_leaf=samples_leaf,\n",
    "                                                   min_samples_split=samples_split)\n",
    "                model_dtc.fit(features_train, target_train)\n",
    "                dtc_prediction = model_dtc.predict(features_valid)\n",
    "                result = f1_score(target_valid, dtc_prediction)\n",
    "                if result > best_result:\n",
    "                    best_result = result\n",
    "                    best_depth = depth\n",
    "                    best_features = features      \n",
    "                    best_samples_leaf = samples_leaf\n",
    "                    best_samples_split = samples_split\n",
    "                    \n",
    "print(f'Лучшие гиперпараметры:\\n\\\n",
    "      max_depth: {best_depth}\\n\\\n",
    "      max_features:{best_features}\\n\\\n",
    "      min_samples_leaf:{best_samples_leaf}\\n\\\n",
    "      min_samples_split:{best_samples_split}')"
   ]
  },
  {
   "cell_type": "code",
   "execution_count": 28,
   "metadata": {},
   "outputs": [
    {
     "name": "stdout",
     "output_type": "stream",
     "text": [
      "Точность: 0.7293577981651376\n",
      "Полнота: 0.4217506631299735\n",
      "F1: 0.534453781512605\n"
     ]
    },
    {
     "data": {
      "text/plain": [
       "array([[1382,   59],\n",
       "       [ 218,  159]])"
      ]
     },
     "execution_count": 28,
     "metadata": {},
     "output_type": "execute_result"
    }
   ],
   "source": [
    "model_dtc = DecisionTreeClassifier(random_state=12345, max_depth=8,\n",
    "                                                   max_features=6, min_samples_leaf=2,\n",
    "                                                   min_samples_split=12)\n",
    "model_dtc.fit(features_train, target_train)\n",
    "dtc_prediction = model_dtc.predict(features_valid)\n",
    "\n",
    "print('Точность:', precision_score(target_valid, dtc_prediction))\n",
    "print('Полнота:', recall_score(target_valid, dtc_prediction))\n",
    "print('F1:', f1_score(target_valid, dtc_prediction))\n",
    "confusion_matrix(target_valid, dtc_prediction)"
   ]
  },
  {
   "cell_type": "code",
   "execution_count": 29,
   "metadata": {},
   "outputs": [
    {
     "name": "stdout",
     "output_type": "stream",
     "text": [
      "0.8322930031274333\n"
     ]
    }
   ],
   "source": [
    "dtc_probabilities_one_valid = model_dtc.predict_proba(features_valid)[:, 1]\n",
    "print(roc_auc_score(target_valid, dtc_probabilities_one_valid))"
   ]
  },
  {
   "attachments": {},
   "cell_type": "markdown",
   "metadata": {},
   "source": [
    "**Вывод:**\n",
    "\n",
    "Матрица ошибок модели дерева решений показывает, что модель выдает большое количество истинно отрицательных предсказаний, но в тоже время ложноотрицательных немного больше, чем истинно положительных. Полнота находятся на достаточно низком уровне, из-за чего значение F1 метрики тоже низкое."
   ]
  },
  {
   "attachments": {},
   "cell_type": "markdown",
   "metadata": {},
   "source": [
    "#### Модель случайного леса"
   ]
  },
  {
   "cell_type": "code",
   "execution_count": 30,
   "metadata": {},
   "outputs": [
    {
     "name": "stdout",
     "output_type": "stream",
     "text": [
      "Лучшие гиперпараметры:\n",
      "      max_depth: 20\n",
      "      n_estimators: 10\n",
      "      max_features:3\n",
      "      min_samples_leaf:1\n",
      "      min_samples_split:4\n"
     ]
    }
   ],
   "source": [
    "best_depth = 0\n",
    "best_est = 0\n",
    "best_features = 0        \n",
    "best_samples_leaf = 0\n",
    "best_samples_split = 0\n",
    "best_result = 0\n",
    "\n",
    "for depth in range(10,21):\n",
    "    for est in range(10,21,10):\n",
    "        for features in range(1,5):\n",
    "            for samples_leaf in range(1,3):\n",
    "                for samples_split in range(2,6,2):\n",
    "                    model_rfc = RandomForestClassifier(random_state=12345, max_depth=depth,\n",
    "                                                       n_estimators=est, max_features=features,\n",
    "                                                       min_samples_leaf=samples_leaf,\n",
    "                                                       min_samples_split=samples_split)\n",
    "                    model_rfc.fit(features_train, target_train)\n",
    "                    rfc_prediction = model_rfc.predict(features_valid)\n",
    "                    result = f1_score(target_valid, rfc_prediction)\n",
    "                    if result > best_result:\n",
    "                        best_result = result\n",
    "                        best_depth = depth\n",
    "                        best_est = est\n",
    "                        best_features = features      \n",
    "                        best_samples_leaf = samples_leaf\n",
    "                        best_samples_split = samples_split\n",
    "                        \n",
    "print(f'Лучшие гиперпараметры:\\n\\\n",
    "      max_depth: {best_depth}\\n\\\n",
    "      n_estimators: {best_est}\\n\\\n",
    "      max_features:{best_features}\\n\\\n",
    "      min_samples_leaf:{best_samples_leaf}\\n\\\n",
    "      min_samples_split:{best_samples_split}')"
   ]
  },
  {
   "cell_type": "code",
   "execution_count": 31,
   "metadata": {},
   "outputs": [
    {
     "name": "stdout",
     "output_type": "stream",
     "text": [
      "Точность: 0.759656652360515\n",
      "Полнота: 0.46949602122015915\n",
      "F1: 0.580327868852459\n"
     ]
    },
    {
     "data": {
      "text/plain": [
       "array([[1385,   56],\n",
       "       [ 200,  177]])"
      ]
     },
     "execution_count": 31,
     "metadata": {},
     "output_type": "execute_result"
    }
   ],
   "source": [
    "model_rtc = RandomForestClassifier(random_state=12345, max_depth=15,\n",
    "                                   n_estimators=20, max_features=4,\n",
    "                                   min_samples_leaf=2,\n",
    "                                   min_samples_split=2)\n",
    "model_rfc.fit(features_train, target_train)\n",
    "rfc_prediction = model_rfc.predict(features_valid)\n",
    "\n",
    "print('Точность:', precision_score(target_valid, rfc_prediction))\n",
    "print('Полнота:', recall_score(target_valid, rfc_prediction))\n",
    "print('F1:', f1_score(target_valid, rfc_prediction))\n",
    "confusion_matrix(target_valid, rfc_prediction)"
   ]
  },
  {
   "cell_type": "code",
   "execution_count": 32,
   "metadata": {},
   "outputs": [
    {
     "name": "stdout",
     "output_type": "stream",
     "text": [
      "0.8538003191859471\n"
     ]
    }
   ],
   "source": [
    "rfc_probabilities_one_valid = model_rfc.predict_proba(features_valid)[:, 1]\n",
    "print(roc_auc_score(target_valid, rfc_probabilities_one_valid))"
   ]
  },
  {
   "attachments": {},
   "cell_type": "markdown",
   "metadata": {},
   "source": [
    "**Вывод:**\n",
    "\n",
    "Модель случайного леса немного лучше дерева решений. Ложноотрицательных ответов все равно больше, чем истинно положительных. Точность более высокая, но из-за значения полноты значение F1 так же низкое."
   ]
  },
  {
   "attachments": {},
   "cell_type": "markdown",
   "metadata": {},
   "source": [
    "#### Модель логистической регрессии"
   ]
  },
  {
   "cell_type": "code",
   "execution_count": 33,
   "metadata": {},
   "outputs": [
    {
     "name": "stdout",
     "output_type": "stream",
     "text": [
      "Лучшие гиперпараметры: max_iter: 10\n"
     ]
    }
   ],
   "source": [
    "best_iter = 0\n",
    "best_result = 0\n",
    "\n",
    "for iterr in range(10,100,10):\n",
    "    model_lr = LogisticRegression(random_state=12345, max_iter=iterr)\n",
    "    model_lr.fit(features_train, target_train)\n",
    "    lr_prediction = model_lr.predict(features_valid)\n",
    "    result = f1_score(target_valid, lr_prediction)\n",
    "    if result > best_result:\n",
    "        best_iter = iterr\n",
    "        best_result = result\n",
    "        \n",
    "print(f'Лучшие гиперпараметры: max_iter: {best_iter}')"
   ]
  },
  {
   "cell_type": "code",
   "execution_count": 34,
   "metadata": {},
   "outputs": [
    {
     "name": "stdout",
     "output_type": "stream",
     "text": [
      "Точность: 0.6178861788617886\n",
      "Полнота: 0.20159151193633953\n",
      "F1: 0.30400000000000005\n"
     ]
    },
    {
     "data": {
      "text/plain": [
       "array([[1394,   47],\n",
       "       [ 301,   76]])"
      ]
     },
     "execution_count": 34,
     "metadata": {},
     "output_type": "execute_result"
    }
   ],
   "source": [
    "model_lr = LogisticRegression(random_state=12345, max_iter=20)\n",
    "model_lr.fit(features_train, target_train)\n",
    "lr_prediction = model_lr.predict(features_valid)\n",
    "\n",
    "print('Точность:', precision_score(target_valid, lr_prediction))\n",
    "print('Полнота:', recall_score(target_valid, lr_prediction))\n",
    "print('F1:', f1_score(target_valid, lr_prediction))\n",
    "confusion_matrix(target_valid, lr_prediction)"
   ]
  },
  {
   "cell_type": "code",
   "execution_count": 35,
   "metadata": {},
   "outputs": [
    {
     "name": "stdout",
     "output_type": "stream",
     "text": [
      "0.773663293800172\n"
     ]
    }
   ],
   "source": [
    "lr_probabilities_one_valid = model_lr.predict_proba(features_valid)[:, 1]\n",
    "print(roc_auc_score(target_valid, lr_probabilities_one_valid))"
   ]
  },
  {
   "cell_type": "code",
   "execution_count": 36,
   "metadata": {},
   "outputs": [
    {
     "data": {
      "image/png": "[encoded data removed]",
      "text/plain": [
       "<Figure size 432x288 with 1 Axes>"
      ]
     },
     "metadata": {
      "needs_background": "light"
     },
     "output_type": "display_data"
    }
   ],
   "source": [
    "fper, tper, thresholds = roc_curve(target_valid, lr_probabilities_one_valid)\n",
    "plt.plot(fper, tper, color='red', label='ROC')\n",
    "plt.plot([0, 1], [0, 1], color='green', linestyle='--')\n",
    "plt.xlim([0.0, 1.0])\n",
    "plt.ylim([0.0, 1.0])\n",
    "plt.xlabel('False Positive Rate')\n",
    "plt.ylabel('True Positive Rate')\n",
    "plt.title('ROC-кривая')\n",
    "plt.legend()\n",
    "plt.show()"
   ]
  },
  {
   "attachments": {},
   "cell_type": "markdown",
   "metadata": {},
   "source": [
    "**Вывод:**\n",
    "\n",
    "В модели логистической регрессии преобладают отрицательные предсказания, при таком повышается точность, но падает полнота и за ней значение F1."
   ]
  },
  {
   "attachments": {},
   "cell_type": "markdown",
   "metadata": {},
   "source": [
    "## Борьба с дисбалансом"
   ]
  },
  {
   "cell_type": "code",
   "execution_count": 37,
   "metadata": {},
   "outputs": [
    {
     "data": {
      "text/plain": [
       "0    0.793546\n",
       "1    0.206454\n",
       "Name: exited, dtype: float64"
      ]
     },
     "execution_count": 37,
     "metadata": {},
     "output_type": "execute_result"
    }
   ],
   "source": [
    "target_train.value_counts(normalize = 1)"
   ]
  },
  {
   "attachments": {},
   "cell_type": "markdown",
   "metadata": {},
   "source": [
    "Очевидно у классов наблюдается дисбаланс (~80% отрицательных и ~20% положительных)."
   ]
  },
  {
   "attachments": {},
   "cell_type": "markdown",
   "metadata": {},
   "source": [
    "Для достижения баланса классов нам необходмо увеличить количество положительных ответов в 4 раза, либо же уменьшить колличество отрицательных ответов.\n",
    "\n",
    "Проверим 2 техники изменения выборки для балансов классов."
   ]
  },
  {
   "attachments": {},
   "cell_type": "markdown",
   "metadata": {},
   "source": [
    "### Увеличение выборки"
   ]
  },
  {
   "attachments": {},
   "cell_type": "markdown",
   "metadata": {},
   "source": [
    "Преобразование будет проходит в несколько этапов:\n",
    "- Разделить обучающую выборку на отрицательные и положительные объекты;\n",
    "- Скопировать несколько раз положительные объекты;\n",
    "- С учётом полученных данных создать новую обучающую выборку;\n",
    "- Перемешать данные: идущие друг за другом одинаковые вопросы не помогут обучению."
   ]
  },
  {
   "cell_type": "code",
   "execution_count": 38,
   "metadata": {},
   "outputs": [],
   "source": [
    "def upsample(features, target, repeat):\n",
    "    features_zeros = features[target == 0]\n",
    "    features_ones = features[target == 1]\n",
    "    target_zeros = target[target == 0]\n",
    "    target_ones = target[target == 1]\n",
    "\n",
    "    features_upsampled = pd.concat([features_zeros] + [features_ones] * repeat)\n",
    "    target_upsampled = pd.concat([target_zeros] + [target_ones] * repeat)\n",
    "    \n",
    "    features_upsampled, target_upsampled = shuffle(\n",
    "        features_upsampled, target_upsampled, random_state=12345)\n",
    "    \n",
    "    return features_upsampled, target_upsampled"
   ]
  },
  {
   "cell_type": "code",
   "execution_count": 39,
   "metadata": {},
   "outputs": [],
   "source": [
    "features_upsampled_train, target_upsampled_train = upsample(features_train, target_train, 4)"
   ]
  },
  {
   "cell_type": "code",
   "execution_count": 40,
   "metadata": {},
   "outputs": [
    {
     "data": {
      "text/plain": [
       "1    0.509964\n",
       "0    0.490036\n",
       "Name: exited, dtype: float64"
      ]
     },
     "execution_count": 40,
     "metadata": {},
     "output_type": "execute_result"
    }
   ],
   "source": [
    "target_upsampled_train.value_counts(normalize = 1)"
   ]
  },
  {
   "attachments": {},
   "cell_type": "markdown",
   "metadata": {},
   "source": [
    "**Вывод:**\n",
    "\n",
    "Благодаря увеличению положительных объектов, выборка сбалансировалась и положительных объектов стало даже больше, чем отрицательных, но балансировка выглядит достаточно четкой, для продолжения исследования."
   ]
  },
  {
   "attachments": {},
   "cell_type": "markdown",
   "metadata": {},
   "source": [
    "### Уменьшение выборки"
   ]
  },
  {
   "attachments": {},
   "cell_type": "markdown",
   "metadata": {},
   "source": [
    "Преобразование будет проходит в несколько этапов:\n",
    "- Разделить обучающую выборку на отрицательные и положительные объекты;\n",
    "- Случайным образом отбросить часть из отрицательных объектов;\n",
    "- С учётом полученных данных создать новую обучающую выборку;\n",
    "- Перемешать данные: идущие друг за другом одинаковые вопросы не помогут обучению."
   ]
  },
  {
   "cell_type": "code",
   "execution_count": 41,
   "metadata": {},
   "outputs": [],
   "source": [
    "def downsample(features, target, fraction):\n",
    "    features_zeros = features[target == 0]\n",
    "    features_ones = features[target == 1]\n",
    "    target_zeros = target[target == 0]\n",
    "    target_ones = target[target == 1]\n",
    "\n",
    "    features_downsampled = pd.concat(\n",
    "        [features_zeros.sample(frac=fraction, random_state=12345)] + [features_ones])\n",
    "    target_downsampled = pd.concat(\n",
    "        [target_zeros.sample(frac=fraction, random_state=12345)] + [target_ones])\n",
    "    \n",
    "    features_downsampled, target_downsampled = shuffle(\n",
    "        features_downsampled, target_downsampled, random_state=12345)\n",
    "    \n",
    "    return features_downsampled, target_downsampled"
   ]
  },
  {
   "cell_type": "code",
   "execution_count": 42,
   "metadata": {},
   "outputs": [],
   "source": [
    "features_downsampled_train, target_downsampled_train = downsample(features_train, target_train, 0.2)"
   ]
  },
  {
   "cell_type": "code",
   "execution_count": 43,
   "metadata": {},
   "outputs": [
    {
     "data": {
      "text/plain": [
       "1    0.565261\n",
       "0    0.434739\n",
       "Name: exited, dtype: float64"
      ]
     },
     "execution_count": 43,
     "metadata": {},
     "output_type": "execute_result"
    }
   ],
   "source": [
    "target_downsampled_train.value_counts(normalize = 1)"
   ]
  },
  {
   "attachments": {},
   "cell_type": "markdown",
   "metadata": {},
   "source": [
    "**Вывод:**\n",
    "\n",
    "Уменьшение отрицательных значении привело к небольшому главенству положительных значений, и сравнивая метрики, более удачно подойдет увеличение выборки. Проверим методы борьбы с дисбалансом с помощью выбора модели с лучшим значение F1-меры."
   ]
  },
  {
   "attachments": {},
   "cell_type": "markdown",
   "metadata": {},
   "source": [
    "### Выбор модели с лучшим значением F1-меры"
   ]
  },
  {
   "attachments": {},
   "cell_type": "markdown",
   "metadata": {},
   "source": [
    "Сбалансировав обучающие данные увеличив или уменьшив выборку посмотрим, насколько увеличились значения моделей и выберем лучшую модель с предельно большим значением F1-меры."
   ]
  },
  {
   "attachments": {},
   "cell_type": "markdown",
   "metadata": {},
   "source": [
    "**Модель дерева решений**\n",
    "\n",
    "С увеличением выборки"
   ]
  },
  {
   "cell_type": "code",
   "execution_count": 44,
   "metadata": {},
   "outputs": [
    {
     "name": "stdout",
     "output_type": "stream",
     "text": [
      "Лучшие гиперпараметры:\n",
      "      max_depth: 6\n",
      "      max_features:6\n",
      "      min_samples_leaf:8\n",
      "      min_samples_split:2\n"
     ]
    }
   ],
   "source": [
    "best_depth = 0\n",
    "best_features = 0        \n",
    "best_samples_leaf = 0\n",
    "best_samples_split = 0\n",
    "best_result = 0\n",
    "\n",
    "for depth in range(1,30):\n",
    "    for features in range(1,10):\n",
    "        for samples_leaf in range(1,10):\n",
    "            for samples_split in range(2,20,2):\n",
    "                model_dtc_upsampled = DecisionTreeClassifier(random_state=12345, max_depth=depth,\n",
    "                                                             max_features=features, min_samples_leaf=samples_leaf,\n",
    "                                                             min_samples_split=samples_split)\n",
    "                model_dtc_upsampled.fit(features_upsampled_train, target_upsampled_train)\n",
    "                dtc_prediction_upsampled = model_dtc_upsampled.predict(features_valid)\n",
    "                result = f1_score(target_valid, dtc_prediction_upsampled)\n",
    "                if result > best_result:\n",
    "                    best_depth = depth\n",
    "                    best_features = features      \n",
    "                    best_samples_leaf = samples_leaf\n",
    "                    best_samples_split = samples_split\n",
    "                    best_result = result\n",
    "                    \n",
    "print(f'Лучшие гиперпараметры:\\n\\\n",
    "      max_depth: {best_depth}\\n\\\n",
    "      max_features:{best_features}\\n\\\n",
    "      min_samples_leaf:{best_samples_leaf}\\n\\\n",
    "      min_samples_split:{best_samples_split}')"
   ]
  },
  {
   "cell_type": "code",
   "execution_count": 45,
   "metadata": {},
   "outputs": [
    {
     "name": "stdout",
     "output_type": "stream",
     "text": [
      "Точность: 0.40720961281708945\n",
      "Полнота: 0.8090185676392573\n",
      "F1: 0.541740674955595\n"
     ]
    }
   ],
   "source": [
    "model_dtc_upsampled = DecisionTreeClassifier(random_state=12345, max_depth=7,\n",
    "                                             max_features=4, min_samples_leaf=4,\n",
    "                                             min_samples_split=18)\n",
    "model_dtc_upsampled.fit(features_upsampled_train, target_upsampled_train)\n",
    "dtc_prediction_upsampled = model_dtc_upsampled.predict(features_valid)\n",
    "\n",
    "print('Точность:', precision_score(target_valid, dtc_prediction_upsampled))\n",
    "print('Полнота:', recall_score(target_valid, dtc_prediction_upsampled))\n",
    "print('F1:', f1_score(target_valid, dtc_prediction_upsampled))"
   ]
  },
  {
   "cell_type": "code",
   "execution_count": 46,
   "metadata": {},
   "outputs": [
    {
     "name": "stdout",
     "output_type": "stream",
     "text": [
      "0.8229926167541328\n"
     ]
    }
   ],
   "source": [
    "dtc_probabilities_one_valid_upsampled = model_dtc_upsampled.predict_proba(features_valid)[:, 1]\n",
    "print(roc_auc_score(target_valid, dtc_probabilities_one_valid_upsampled))"
   ]
  },
  {
   "attachments": {},
   "cell_type": "markdown",
   "metadata": {},
   "source": [
    "С уменьшением выборки"
   ]
  },
  {
   "cell_type": "code",
   "execution_count": 47,
   "metadata": {},
   "outputs": [
    {
     "name": "stdout",
     "output_type": "stream",
     "text": [
      "Лучшие гиперпараметры:\n",
      "      max_depth: 5\n",
      "      max_features:8\n",
      "      min_samples_leaf:7\n",
      "      min_samples_split:2\n"
     ]
    }
   ],
   "source": [
    "best_depth = 0\n",
    "best_features = 0        \n",
    "best_samples_leaf = 0\n",
    "best_samples_split = 0\n",
    "best_result = 0\n",
    "\n",
    "for depth in range(1,30):\n",
    "    for features in range(1,10):\n",
    "        for samples_leaf in range(1,10):\n",
    "            for samples_split in range(2,20,2):\n",
    "                model_dtc_downsampled = DecisionTreeClassifier(random_state=12345, max_depth=depth,\n",
    "                                                               max_features=features, min_samples_leaf=samples_leaf,\n",
    "                                                               min_samples_split=samples_split)\n",
    "                model_dtc_downsampled.fit(features_downsampled_train, target_downsampled_train)\n",
    "                dtc_prediction_downsampled = model_dtc_downsampled.predict(features_valid)\n",
    "                result = f1_score(target_valid, dtc_prediction_downsampled)\n",
    "                if result > best_result:\n",
    "                    best_depth = depth\n",
    "                    best_features = features      \n",
    "                    best_samples_leaf = samples_leaf\n",
    "                    best_samples_split = samples_split\n",
    "                    best_result = result\n",
    "                    \n",
    "print(f'Лучшие гиперпараметры:\\n\\\n",
    "      max_depth: {best_depth}\\n\\\n",
    "      max_features:{best_features}\\n\\\n",
    "      min_samples_leaf:{best_samples_leaf}\\n\\\n",
    "      min_samples_split:{best_samples_split}')"
   ]
  },
  {
   "cell_type": "code",
   "execution_count": 48,
   "metadata": {},
   "outputs": [
    {
     "name": "stdout",
     "output_type": "stream",
     "text": [
      "Точность: 0.4046692607003891\n",
      "Полнота: 0.8275862068965517\n",
      "F1: 0.5435540069686411\n"
     ]
    }
   ],
   "source": [
    "model_dtc_downsampled = DecisionTreeClassifier(random_state=12345, max_depth=7,\n",
    "                                               max_features=6, min_samples_leaf=1,\n",
    "                                               min_samples_split=12)\n",
    "model_dtc_downsampled.fit(features_downsampled_train, target_downsampled_train)\n",
    "dtc_prediction_downsampled = model_dtc_downsampled.predict(features_valid)\n",
    "\n",
    "print('Точность:', precision_score(target_valid, dtc_prediction_downsampled))\n",
    "print('Полнота:', recall_score(target_valid, dtc_prediction_downsampled))\n",
    "print('F1:', f1_score(target_valid, dtc_prediction_downsampled))"
   ]
  },
  {
   "cell_type": "code",
   "execution_count": 49,
   "metadata": {},
   "outputs": [
    {
     "name": "stdout",
     "output_type": "stream",
     "text": [
      "0.8244578532812279\n"
     ]
    }
   ],
   "source": [
    "dtc_probabilities_one_valid_downsampled = model_dtc_downsampled.predict_proba(features_valid)[:, 1]\n",
    "print(roc_auc_score(target_valid, dtc_probabilities_one_valid_downsampled))"
   ]
  },
  {
   "attachments": {},
   "cell_type": "markdown",
   "metadata": {},
   "source": [
    "**Модель случайного леса**\n",
    "\n",
    "С увеличением выборки"
   ]
  },
  {
   "cell_type": "code",
   "execution_count": 50,
   "metadata": {},
   "outputs": [
    {
     "name": "stdout",
     "output_type": "stream",
     "text": [
      "Лучшие гиперпараметры:\n",
      "      max_depth: 40\n",
      "      n_estimators: 40\n",
      "      max_features:2\n",
      "      min_samples_leaf:2\n",
      "      min_samples_split:14\n"
     ]
    }
   ],
   "source": [
    "best_depth = 0\n",
    "best_est = 0\n",
    "best_features = 0        \n",
    "best_samples_leaf = 0\n",
    "best_samples_split = 0\n",
    "best_result = 0\n",
    "\n",
    "for depth in range(40,51):\n",
    "    for est in range(40,60,10):\n",
    "        for features in range(1,4):\n",
    "            for samples_leaf in range(1,4):\n",
    "                for samples_split in range(10,16,2):\n",
    "                    model_rfc_upsampled = RandomForestClassifier(random_state=12345, max_depth=depth,\n",
    "                                                                 n_estimators=est, max_features=features,\n",
    "                                                                 min_samples_leaf=samples_leaf,\n",
    "                                                                 min_samples_split=samples_split)\n",
    "                    model_rfc_upsampled.fit(features_upsampled_train, target_upsampled_train)\n",
    "                    rfc_prediction_upsampled = model_rfc_upsampled.predict(features_valid)\n",
    "                    result = f1_score(target_valid, rfc_prediction_upsampled)\n",
    "                    if result > best_result:\n",
    "                        best_result = result\n",
    "                        best_depth = depth\n",
    "                        best_est = est\n",
    "                        best_features = features      \n",
    "                        best_samples_leaf = samples_leaf\n",
    "                        best_samples_split = samples_split\n",
    "                        \n",
    "print(f'Лучшие гиперпараметры:\\n\\\n",
    "      max_depth: {best_depth}\\n\\\n",
    "      n_estimators: {best_est}\\n\\\n",
    "      max_features:{best_features}\\n\\\n",
    "      min_samples_leaf:{best_samples_leaf}\\n\\\n",
    "      min_samples_split:{best_samples_split}')"
   ]
  },
  {
   "cell_type": "code",
   "execution_count": 51,
   "metadata": {},
   "outputs": [
    {
     "name": "stdout",
     "output_type": "stream",
     "text": [
      "Точность: 0.5971563981042654\n",
      "Полнота: 0.6684350132625995\n",
      "F1: 0.6307884856070087\n"
     ]
    }
   ],
   "source": [
    "model_rfc_upsampled = RandomForestClassifier(random_state=12345, max_depth=40,\n",
    "                                             n_estimators=50, max_features=3,\n",
    "                                             min_samples_leaf=3,\n",
    "                                             min_samples_split=14)\n",
    "model_rfc_upsampled.fit(features_upsampled_train, target_upsampled_train)\n",
    "rfc_prediction_upsampled = model_rfc_upsampled.predict(features_valid)\n",
    "\n",
    "print('Точность:', precision_score(target_valid, rfc_prediction_upsampled))\n",
    "print('Полнота:', recall_score(target_valid, rfc_prediction_upsampled))\n",
    "print('F1:', f1_score(target_valid, rfc_prediction_upsampled))"
   ]
  },
  {
   "cell_type": "code",
   "execution_count": 52,
   "metadata": {},
   "outputs": [
    {
     "name": "stdout",
     "output_type": "stream",
     "text": [
      "0.8649221270963834\n"
     ]
    }
   ],
   "source": [
    "rfc_probabilities_one_valid_upsampled = model_rfc_upsampled.predict_proba(features_valid)[:, 1]\n",
    "print(roc_auc_score(target_valid, rfc_probabilities_one_valid_upsampled))"
   ]
  },
  {
   "attachments": {},
   "cell_type": "markdown",
   "metadata": {},
   "source": [
    "С уменьшением выборки"
   ]
  },
  {
   "cell_type": "code",
   "execution_count": 53,
   "metadata": {},
   "outputs": [
    {
     "name": "stdout",
     "output_type": "stream",
     "text": [
      "Лучшие гиперпараметры:\n",
      "      max_depth: 30\n",
      "      n_estimators: 60\n",
      "      max_features:3\n",
      "      min_samples_leaf:1\n",
      "      min_samples_split:10\n"
     ]
    }
   ],
   "source": [
    "best_depth = 0\n",
    "best_est = 0\n",
    "best_features = 0        \n",
    "best_samples_leaf = 0\n",
    "best_samples_split = 0\n",
    "best_result = 0\n",
    "\n",
    "for depth in range(30,40):\n",
    "    for est in range(50,70,10):\n",
    "        for features in range(1,4):\n",
    "            for samples_leaf in range(1,5):\n",
    "                for samples_split in range(6,12,2):\n",
    "                    model_rfc_downsampled = RandomForestClassifier(random_state=12345, max_depth=depth,\n",
    "                                                                   n_estimators=est, max_features=features,\n",
    "                                                                   min_samples_leaf=samples_leaf,\n",
    "                                                                   min_samples_split=samples_split)\n",
    "                    model_rfc_downsampled.fit(features_downsampled_train, target_downsampled_train)\n",
    "                    rfc_prediction_downsampled = model_rfc_downsampled.predict(features_valid)\n",
    "                    result = f1_score(target_valid, rfc_prediction_downsampled)\n",
    "                    if result > best_result:\n",
    "                        best_result = result\n",
    "                        best_depth = depth\n",
    "                        best_est = est\n",
    "                        best_features = features      \n",
    "                        best_samples_leaf = samples_leaf\n",
    "                        best_samples_split = samples_split\n",
    "                        \n",
    "print(f'Лучшие гиперпараметры:\\n\\\n",
    "      max_depth: {best_depth}\\n\\\n",
    "      n_estimators: {best_est}\\n\\\n",
    "      max_features:{best_features}\\n\\\n",
    "      min_samples_leaf:{best_samples_leaf}\\n\\\n",
    "      min_samples_split:{best_samples_split}')"
   ]
  },
  {
   "cell_type": "code",
   "execution_count": 54,
   "metadata": {},
   "outputs": [
    {
     "name": "stdout",
     "output_type": "stream",
     "text": [
      "Точность: 0.41365979381443296\n",
      "Полнота: 0.8514588859416445\n",
      "F1: 0.5568083261058109\n"
     ]
    }
   ],
   "source": [
    "model_rfc_downsampled = RandomForestClassifier(random_state=12345, max_depth=30,\n",
    "                                               n_estimators=60, max_features=3,\n",
    "                                               min_samples_leaf=4,\n",
    "                                               min_samples_split=10)\n",
    "model_rfc_downsampled.fit(features_downsampled_train, target_downsampled_train)\n",
    "rfc_prediction_downsampled = model_rfc_downsampled.predict(features_valid)\n",
    "\n",
    "print('Точность:', precision_score(target_valid, rfc_prediction_downsampled))\n",
    "print('Полнота:', recall_score(target_valid, rfc_prediction_downsampled))\n",
    "print('F1:', f1_score(target_valid, rfc_prediction_downsampled))"
   ]
  },
  {
   "cell_type": "code",
   "execution_count": 55,
   "metadata": {},
   "outputs": [
    {
     "name": "stdout",
     "output_type": "stream",
     "text": [
      "0.8630390404541496\n"
     ]
    }
   ],
   "source": [
    "rfc_probabilities_one_valid_downsampled = model_rfc_downsampled.predict_proba(features_valid)[:, 1]\n",
    "print(roc_auc_score(target_valid, rfc_probabilities_one_valid_downsampled))"
   ]
  },
  {
   "attachments": {},
   "cell_type": "markdown",
   "metadata": {},
   "source": [
    "**Модель логистической регрессии**\n",
    "\n",
    "С увеличением выборки"
   ]
  },
  {
   "cell_type": "code",
   "execution_count": 56,
   "metadata": {},
   "outputs": [
    {
     "name": "stdout",
     "output_type": "stream",
     "text": [
      "Лучшие гиперпараметры: max_iter: 10\n"
     ]
    }
   ],
   "source": [
    "best_iter = 0\n",
    "best_result = 0\n",
    "\n",
    "for iterr in range(10,100,10):\n",
    "    model_lr_upsampled = LogisticRegression(random_state=12345, max_iter=iterr)\n",
    "    model_lr_upsampled.fit(features_upsampled_train, target_upsampled_train)\n",
    "    lr_prediction_upsampled = model_lr_upsampled.predict(features_valid)\n",
    "    result = f1_score(target_valid, lr_prediction_upsampled)\n",
    "    if result > best_result:\n",
    "        best_iter = iterr\n",
    "        best_result = result\n",
    "        \n",
    "print(f'Лучшие гиперпараметры: max_iter: {best_iter}')"
   ]
  },
  {
   "cell_type": "code",
   "execution_count": 57,
   "metadata": {},
   "outputs": [
    {
     "name": "stdout",
     "output_type": "stream",
     "text": [
      "Точность: 0.385989010989011\n",
      "Полнота: 0.7453580901856764\n",
      "F1: 0.5085972850678734\n"
     ]
    }
   ],
   "source": [
    "model_lr_upsampled = LogisticRegression(random_state=12345, max_iter=30)\n",
    "model_lr_upsampled.fit(features_upsampled_train, target_upsampled_train)\n",
    "lr_prediction_upsampled = model_lr_upsampled.predict(features_valid)\n",
    "\n",
    "print('Точность:', precision_score(target_valid, lr_prediction_upsampled))\n",
    "print('Полнота:', recall_score(target_valid, lr_prediction_upsampled))\n",
    "print('F1:', f1_score(target_valid, lr_prediction_upsampled))"
   ]
  },
  {
   "cell_type": "code",
   "execution_count": 58,
   "metadata": {},
   "outputs": [
    {
     "name": "stdout",
     "output_type": "stream",
     "text": [
      "0.777854680197402\n"
     ]
    }
   ],
   "source": [
    "lr_probabilities_one_valid_upsampled = model_lr_upsampled.predict_proba(features_valid)[:, 1]\n",
    "print(roc_auc_score(target_valid, lr_probabilities_one_valid_upsampled))"
   ]
  },
  {
   "attachments": {},
   "cell_type": "markdown",
   "metadata": {},
   "source": [
    "С уменьшением выборки"
   ]
  },
  {
   "cell_type": "code",
   "execution_count": 59,
   "metadata": {},
   "outputs": [
    {
     "name": "stdout",
     "output_type": "stream",
     "text": [
      "Лучшие гиперпараметры: max_iter: 10\n"
     ]
    }
   ],
   "source": [
    "best_iter = 0\n",
    "best_result = 0\n",
    "\n",
    "for iterr in range(10,100,10):\n",
    "    model_lr_downsampled = LogisticRegression(random_state=12345, max_iter=iterr)\n",
    "    model_lr_downsampled.fit(features_downsampled_train, target_downsampled_train)\n",
    "    lr_prediction_downsampled = model_lr_downsampled.predict(features_valid)\n",
    "    result = f1_score(target_valid, lr_prediction_downsampled)\n",
    "    if result > best_result:\n",
    "        best_iter = iterr\n",
    "        best_result = result\n",
    "        \n",
    "print(f'Лучшие гиперпараметры: max_iter: {best_iter}')"
   ]
  },
  {
   "cell_type": "code",
   "execution_count": 60,
   "metadata": {},
   "outputs": [
    {
     "name": "stdout",
     "output_type": "stream",
     "text": [
      "Точность: 0.35017221584385766\n",
      "Полнота: 0.8090185676392573\n",
      "F1: 0.48878205128205127\n"
     ]
    }
   ],
   "source": [
    "model_lr_downsampled = LogisticRegression(random_state=12345, max_iter=20)\n",
    "model_lr_downsampled.fit(features_downsampled_train, target_downsampled_train)\n",
    "lr_prediction_downsampled = model_lr_downsampled.predict(features_valid)\n",
    "\n",
    "print('Точность:', precision_score(target_valid, lr_prediction_downsampled))\n",
    "print('Полнота:', recall_score(target_valid, lr_prediction_downsampled))\n",
    "print('F1:', f1_score(target_valid, lr_prediction_downsampled))"
   ]
  },
  {
   "cell_type": "code",
   "execution_count": 61,
   "metadata": {},
   "outputs": [
    {
     "name": "stdout",
     "output_type": "stream",
     "text": [
      "0.7786167504514439\n"
     ]
    }
   ],
   "source": [
    "lr_probabilities_one_valid_downsampled = model_lr_downsampled.predict_proba(features_valid)[:, 1]\n",
    "print(roc_auc_score(target_valid, lr_probabilities_one_valid_downsampled))"
   ]
  },
  {
   "attachments": {},
   "cell_type": "markdown",
   "metadata": {},
   "source": [
    "**Вывод:**\n",
    "\n",
    "Показатели всех моделей улучшились.\n",
    "\n",
    "Лучшие результаты показывает модель случайного леса. На валидационной выборке модель случайного леса уже показывает результаты F1 меры = 0.6307884856070087, что выше целевого значения."
   ]
  },
  {
   "attachments": {},
   "cell_type": "markdown",
   "metadata": {},
   "source": [
    "## Тестирование модели"
   ]
  },
  {
   "attachments": {},
   "cell_type": "markdown",
   "metadata": {},
   "source": [
    "После борьбы с дисбалансом была найдена лучшая модель для проведения теста модели для получения наибольшего значения F1-метрики."
   ]
  },
  {
   "cell_type": "code",
   "execution_count": 62,
   "metadata": {},
   "outputs": [
    {
     "name": "stdout",
     "output_type": "stream",
     "text": [
      "F1: 0.6\n",
      "AUC-ROC: 0.8642760240549132\n"
     ]
    }
   ],
   "source": [
    "model_rfc_best = RandomForestClassifier(random_state=12345, max_depth=40,\n",
    "                                        n_estimators=40, max_features=2,\n",
    "                                        min_samples_leaf=2, min_samples_split=14)\n",
    "model_rfc_best.fit(features_upsampled_train, target_upsampled_train)\n",
    "rfc_prediction_best = model_rfc_best.predict(features_test) \n",
    "print('F1:', f1_score(target_test, rfc_prediction_best))\n",
    "\n",
    "rfc_probabilities_one_valid_best = model_rfc_best.predict_proba(features_valid)[:, 1]\n",
    "print('AUC-ROC:',roc_auc_score(target_valid, rfc_probabilities_one_valid_best))"
   ]
  },
  {
   "attachments": {},
   "cell_type": "markdown",
   "metadata": {},
   "source": [
    "## Общий вывод"
   ]
  },
  {
   "attachments": {},
   "cell_type": "markdown",
   "metadata": {},
   "source": [
    "Было проведено исследование на выявление и постороения лучшей модели машинного обучения для прогнозирования ухода клиентов из банка. Были предоставлены исторические данные о поведении клиентов и расторжении договоров с банком.\n",
    "\n",
    "Для создания и исследования были подготовленны данные, производилась начальная проверка, которая вывела дисбаланс классов **(~80% отрицательных и ~20% положительных ответов)**.\n",
    "\n",
    "Проведены операции по балансу данных. Для более удачного баланса был выбран метод **увеличения выборки**.\n",
    "\n",
    "После балансировки ответов метрики некоторых моделей стали лучше, и в качестве лучшей модели для прогнозирования была выбрана модель случайного леса (`Random Forest Classifier`).\n",
    "\n",
    "После подбора гиперпараметров для модели на тестовых данных удалость достичь метрику F1 в значении 0.6, и AUC-ROC в значении 0.8642760240549132."
   ]
  }
 ],
 "metadata": {
  "ExecuteTimeLog": [
   {
    "duration": 448,
    "start_time": "2023-03-30T11:42:26.942Z"
   },
   {
    "duration": 78,
    "start_time": "2023-03-30T11:42:51.522Z"
   },
   {
    "duration": 22,
    "start_time": "2023-03-30T11:43:00.110Z"
   },
   {
    "duration": 13,
    "start_time": "2023-03-30T11:47:55.650Z"
   },
   {
    "duration": 19,
    "start_time": "2023-03-30T11:48:09.362Z"
   },
   {
    "duration": 13,
    "start_time": "2023-03-30T11:50:27.588Z"
   },
   {
    "duration": 15,
    "start_time": "2023-03-30T11:50:51.752Z"
   },
   {
    "duration": 12,
    "start_time": "2023-03-30T11:50:58.436Z"
   },
   {
    "duration": 7,
    "start_time": "2023-03-30T11:58:08.082Z"
   },
   {
    "duration": 21,
    "start_time": "2023-03-30T11:59:54.640Z"
   },
   {
    "duration": 15,
    "start_time": "2023-03-30T12:00:02.596Z"
   },
   {
    "duration": 5,
    "start_time": "2023-03-30T12:00:11.184Z"
   },
   {
    "duration": 13,
    "start_time": "2023-03-30T12:00:15.219Z"
   },
   {
    "duration": 4,
    "start_time": "2023-03-30T12:00:20.486Z"
   },
   {
    "duration": 3,
    "start_time": "2023-03-30T12:11:10.312Z"
   },
   {
    "duration": 5,
    "start_time": "2023-03-30T12:11:13.917Z"
   },
   {
    "duration": 2,
    "start_time": "2023-03-30T12:11:19.974Z"
   },
   {
    "duration": 342,
    "start_time": "2023-03-30T12:13:44.471Z"
   },
   {
    "duration": 7,
    "start_time": "2023-03-30T12:23:23.912Z"
   },
   {
    "duration": 9,
    "start_time": "2023-03-30T12:23:34.636Z"
   },
   {
    "duration": 4,
    "start_time": "2023-03-30T12:26:34.455Z"
   },
   {
    "duration": 30,
    "start_time": "2023-03-30T12:27:16.823Z"
   },
   {
    "duration": 29,
    "start_time": "2023-03-30T12:27:37.791Z"
   },
   {
    "duration": 31,
    "start_time": "2023-03-30T12:27:44.069Z"
   },
   {
    "duration": 15,
    "start_time": "2023-03-30T12:29:31.116Z"
   },
   {
    "duration": 427,
    "start_time": "2023-03-30T12:29:41.854Z"
   },
   {
    "duration": 43,
    "start_time": "2023-03-30T12:29:42.283Z"
   },
   {
    "duration": 25,
    "start_time": "2023-03-30T12:29:42.329Z"
   },
   {
    "duration": 15,
    "start_time": "2023-03-30T12:29:42.357Z"
   },
   {
    "duration": 5,
    "start_time": "2023-03-30T12:29:42.375Z"
   },
   {
    "duration": 13,
    "start_time": "2023-03-30T12:29:42.382Z"
   },
   {
    "duration": 21,
    "start_time": "2023-03-30T12:29:42.397Z"
   },
   {
    "duration": 371,
    "start_time": "2023-03-30T12:29:59.413Z"
   },
   {
    "duration": 38,
    "start_time": "2023-03-30T12:29:59.787Z"
   },
   {
    "duration": 27,
    "start_time": "2023-03-30T12:29:59.827Z"
   },
   {
    "duration": 15,
    "start_time": "2023-03-30T12:29:59.856Z"
   },
   {
    "duration": 8,
    "start_time": "2023-03-30T12:29:59.874Z"
   },
   {
    "duration": 19,
    "start_time": "2023-03-30T12:29:59.884Z"
   },
   {
    "duration": 23,
    "start_time": "2023-03-30T12:29:59.905Z"
   },
   {
    "duration": 14,
    "start_time": "2023-03-30T12:31:26.988Z"
   },
   {
    "duration": 6,
    "start_time": "2023-03-30T12:31:51.994Z"
   },
   {
    "duration": 20,
    "start_time": "2023-03-30T12:31:55.435Z"
   },
   {
    "duration": 66,
    "start_time": "2023-03-30T12:33:53.083Z"
   },
   {
    "duration": 25,
    "start_time": "2023-03-30T12:34:04.676Z"
   },
   {
    "duration": 7,
    "start_time": "2023-03-30T12:34:31.442Z"
   },
   {
    "duration": 5,
    "start_time": "2023-03-30T12:34:39.416Z"
   },
   {
    "duration": 8,
    "start_time": "2023-03-30T12:35:10.596Z"
   },
   {
    "duration": 8,
    "start_time": "2023-03-30T12:35:15.543Z"
   },
   {
    "duration": 3,
    "start_time": "2023-03-30T12:36:39.036Z"
   },
   {
    "duration": 733,
    "start_time": "2023-03-30T12:36:42.483Z"
   },
   {
    "duration": 18,
    "start_time": "2023-03-30T12:36:51.455Z"
   },
   {
    "duration": 27,
    "start_time": "2023-03-30T12:37:02.315Z"
   },
   {
    "duration": 446,
    "start_time": "2023-03-30T12:38:25.075Z"
   },
   {
    "duration": 38,
    "start_time": "2023-03-30T12:38:25.523Z"
   },
   {
    "duration": 24,
    "start_time": "2023-03-30T12:38:25.563Z"
   },
   {
    "duration": 19,
    "start_time": "2023-03-30T12:38:25.589Z"
   },
   {
    "duration": 10,
    "start_time": "2023-03-30T12:38:25.610Z"
   },
   {
    "duration": 36,
    "start_time": "2023-03-30T12:38:25.621Z"
   },
   {
    "duration": 16,
    "start_time": "2023-03-30T12:38:25.660Z"
   },
   {
    "duration": 23,
    "start_time": "2023-03-30T12:38:25.678Z"
   },
   {
    "duration": 816,
    "start_time": "2023-03-30T12:38:25.702Z"
   },
   {
    "duration": 0,
    "start_time": "2023-03-30T12:38:26.520Z"
   },
   {
    "duration": 19,
    "start_time": "2023-03-30T12:38:40.043Z"
   },
   {
    "duration": 6,
    "start_time": "2023-03-30T12:38:42.942Z"
   },
   {
    "duration": 35,
    "start_time": "2023-03-30T12:38:43.674Z"
   },
   {
    "duration": 446,
    "start_time": "2023-03-30T12:38:50.955Z"
   },
   {
    "duration": 37,
    "start_time": "2023-03-30T12:38:51.404Z"
   },
   {
    "duration": 33,
    "start_time": "2023-03-30T12:38:51.443Z"
   },
   {
    "duration": 16,
    "start_time": "2023-03-30T12:38:51.479Z"
   },
   {
    "duration": 4,
    "start_time": "2023-03-30T12:38:51.497Z"
   },
   {
    "duration": 13,
    "start_time": "2023-03-30T12:38:51.503Z"
   },
   {
    "duration": 29,
    "start_time": "2023-03-30T12:38:51.518Z"
   },
   {
    "duration": 25,
    "start_time": "2023-03-30T12:38:51.549Z"
   },
   {
    "duration": 5,
    "start_time": "2023-03-30T12:38:51.576Z"
   },
   {
    "duration": 22,
    "start_time": "2023-03-30T12:38:51.584Z"
   },
   {
    "duration": 13,
    "start_time": "2023-03-30T12:39:21.057Z"
   },
   {
    "duration": 4,
    "start_time": "2023-03-30T12:39:28.814Z"
   },
   {
    "duration": 16,
    "start_time": "2023-03-30T12:39:32.554Z"
   },
   {
    "duration": 460,
    "start_time": "2023-03-30T12:51:46.329Z"
   },
   {
    "duration": 2,
    "start_time": "2023-03-30T12:51:48.399Z"
   },
   {
    "duration": 38,
    "start_time": "2023-03-30T12:51:49.034Z"
   },
   {
    "duration": 22,
    "start_time": "2023-03-30T12:51:50.474Z"
   },
   {
    "duration": 12,
    "start_time": "2023-03-30T12:51:52.075Z"
   },
   {
    "duration": 4,
    "start_time": "2023-03-30T12:51:54.534Z"
   },
   {
    "duration": 5,
    "start_time": "2023-03-30T12:51:55.669Z"
   },
   {
    "duration": 14,
    "start_time": "2023-03-30T12:51:59.004Z"
   },
   {
    "duration": 429,
    "start_time": "2023-03-30T12:57:29.878Z"
   },
   {
    "duration": 37,
    "start_time": "2023-03-30T12:57:30.384Z"
   },
   {
    "duration": 24,
    "start_time": "2023-03-30T12:57:30.814Z"
   },
   {
    "duration": 13,
    "start_time": "2023-03-30T12:57:32.234Z"
   },
   {
    "duration": 4,
    "start_time": "2023-03-30T12:57:33.882Z"
   },
   {
    "duration": 5,
    "start_time": "2023-03-30T12:57:34.417Z"
   },
   {
    "duration": 13,
    "start_time": "2023-03-30T12:57:37.280Z"
   },
   {
    "duration": 5,
    "start_time": "2023-03-30T12:58:08.235Z"
   },
   {
    "duration": 14,
    "start_time": "2023-03-30T12:58:11.555Z"
   },
   {
    "duration": 3,
    "start_time": "2023-03-30T12:58:21.011Z"
   },
   {
    "duration": 19,
    "start_time": "2023-03-30T12:58:22.815Z"
   },
   {
    "duration": 4,
    "start_time": "2023-03-30T12:58:27.963Z"
   },
   {
    "duration": 14,
    "start_time": "2023-03-30T12:58:29.614Z"
   },
   {
    "duration": 447,
    "start_time": "2023-03-30T13:05:08.695Z"
   },
   {
    "duration": 44,
    "start_time": "2023-03-30T13:05:09.145Z"
   },
   {
    "duration": 29,
    "start_time": "2023-03-30T13:05:09.191Z"
   },
   {
    "duration": 17,
    "start_time": "2023-03-30T13:05:09.222Z"
   },
   {
    "duration": 22,
    "start_time": "2023-03-30T13:05:09.242Z"
   },
   {
    "duration": 12,
    "start_time": "2023-03-30T13:05:09.266Z"
   },
   {
    "duration": 22,
    "start_time": "2023-03-30T13:05:09.280Z"
   },
   {
    "duration": 30,
    "start_time": "2023-03-30T13:05:09.304Z"
   },
   {
    "duration": 26,
    "start_time": "2023-03-30T13:05:09.336Z"
   },
   {
    "duration": 79,
    "start_time": "2023-03-30T13:05:09.364Z"
   },
   {
    "duration": 395,
    "start_time": "2023-03-30T13:06:24.116Z"
   },
   {
    "duration": 38,
    "start_time": "2023-03-30T13:06:24.513Z"
   },
   {
    "duration": 30,
    "start_time": "2023-03-30T13:06:24.553Z"
   },
   {
    "duration": 26,
    "start_time": "2023-03-30T13:06:24.585Z"
   },
   {
    "duration": 32,
    "start_time": "2023-03-30T13:06:24.614Z"
   },
   {
    "duration": 23,
    "start_time": "2023-03-30T13:06:24.648Z"
   },
   {
    "duration": 39,
    "start_time": "2023-03-30T13:06:24.673Z"
   },
   {
    "duration": 45,
    "start_time": "2023-03-30T13:06:24.714Z"
   },
   {
    "duration": 10,
    "start_time": "2023-03-30T13:06:24.761Z"
   },
   {
    "duration": 16,
    "start_time": "2023-03-30T13:06:24.773Z"
   },
   {
    "duration": 6,
    "start_time": "2023-03-30T13:07:00.104Z"
   },
   {
    "duration": 8,
    "start_time": "2023-03-30T13:08:00.796Z"
   },
   {
    "duration": 14,
    "start_time": "2023-03-30T13:08:07.836Z"
   },
   {
    "duration": 20,
    "start_time": "2023-03-30T13:08:31.263Z"
   },
   {
    "duration": 410,
    "start_time": "2023-03-30T13:09:04.814Z"
   },
   {
    "duration": 40,
    "start_time": "2023-03-30T13:09:05.228Z"
   },
   {
    "duration": 30,
    "start_time": "2023-03-30T13:09:05.269Z"
   },
   {
    "duration": 18,
    "start_time": "2023-03-30T13:09:05.302Z"
   },
   {
    "duration": 5,
    "start_time": "2023-03-30T13:09:05.322Z"
   },
   {
    "duration": 12,
    "start_time": "2023-03-30T13:09:05.329Z"
   },
   {
    "duration": 34,
    "start_time": "2023-03-30T13:09:05.343Z"
   },
   {
    "duration": 12,
    "start_time": "2023-03-30T13:09:05.379Z"
   },
   {
    "duration": 24,
    "start_time": "2023-03-30T13:09:05.393Z"
   },
   {
    "duration": 5,
    "start_time": "2023-03-30T13:09:05.421Z"
   },
   {
    "duration": 18,
    "start_time": "2023-03-30T13:09:05.428Z"
   },
   {
    "duration": 22,
    "start_time": "2023-03-30T13:09:05.448Z"
   },
   {
    "duration": 24,
    "start_time": "2023-03-30T13:09:05.472Z"
   },
   {
    "duration": 369,
    "start_time": "2023-03-30T13:09:23.493Z"
   },
   {
    "duration": 45,
    "start_time": "2023-03-30T13:09:23.864Z"
   },
   {
    "duration": 34,
    "start_time": "2023-03-30T13:09:23.911Z"
   },
   {
    "duration": 16,
    "start_time": "2023-03-30T13:09:23.947Z"
   },
   {
    "duration": 6,
    "start_time": "2023-03-30T13:09:23.966Z"
   },
   {
    "duration": 12,
    "start_time": "2023-03-30T13:09:23.975Z"
   },
   {
    "duration": 29,
    "start_time": "2023-03-30T13:09:23.989Z"
   },
   {
    "duration": 27,
    "start_time": "2023-03-30T13:09:24.021Z"
   },
   {
    "duration": 6,
    "start_time": "2023-03-30T13:09:24.051Z"
   },
   {
    "duration": 9,
    "start_time": "2023-03-30T13:09:24.060Z"
   },
   {
    "duration": 16,
    "start_time": "2023-03-30T13:09:24.072Z"
   },
   {
    "duration": 480,
    "start_time": "2023-03-30T13:09:43.345Z"
   },
   {
    "duration": 40,
    "start_time": "2023-03-30T13:09:43.827Z"
   },
   {
    "duration": 34,
    "start_time": "2023-03-30T13:09:43.869Z"
   },
   {
    "duration": 16,
    "start_time": "2023-03-30T13:09:43.905Z"
   },
   {
    "duration": 5,
    "start_time": "2023-03-30T13:09:43.925Z"
   },
   {
    "duration": 30,
    "start_time": "2023-03-30T13:09:43.932Z"
   },
   {
    "duration": 16,
    "start_time": "2023-03-30T13:09:43.964Z"
   },
   {
    "duration": 35,
    "start_time": "2023-03-30T13:09:43.982Z"
   },
   {
    "duration": 7,
    "start_time": "2023-03-30T13:09:44.019Z"
   },
   {
    "duration": 5,
    "start_time": "2023-03-30T13:09:44.028Z"
   },
   {
    "duration": 7,
    "start_time": "2023-03-30T13:09:44.061Z"
   },
   {
    "duration": 22,
    "start_time": "2023-03-30T13:09:44.070Z"
   },
   {
    "duration": 38,
    "start_time": "2023-03-30T13:09:44.095Z"
   },
   {
    "duration": 11,
    "start_time": "2023-03-30T13:09:54.974Z"
   },
   {
    "duration": 10,
    "start_time": "2023-03-30T13:10:00.235Z"
   },
   {
    "duration": 27,
    "start_time": "2023-03-30T13:10:00.548Z"
   },
   {
    "duration": 430,
    "start_time": "2023-03-30T13:10:19.853Z"
   },
   {
    "duration": 45,
    "start_time": "2023-03-30T13:10:20.287Z"
   },
   {
    "duration": 31,
    "start_time": "2023-03-30T13:10:20.334Z"
   },
   {
    "duration": 13,
    "start_time": "2023-03-30T13:10:20.367Z"
   },
   {
    "duration": 35,
    "start_time": "2023-03-30T13:10:20.383Z"
   },
   {
    "duration": 29,
    "start_time": "2023-03-30T13:10:20.420Z"
   },
   {
    "duration": 19,
    "start_time": "2023-03-30T13:10:20.451Z"
   },
   {
    "duration": 53,
    "start_time": "2023-03-30T13:10:20.472Z"
   },
   {
    "duration": 7,
    "start_time": "2023-03-30T13:10:20.527Z"
   },
   {
    "duration": 8,
    "start_time": "2023-03-30T13:10:20.536Z"
   },
   {
    "duration": 14,
    "start_time": "2023-03-30T13:10:20.546Z"
   },
   {
    "duration": 407,
    "start_time": "2023-03-30T19:14:34.857Z"
   },
   {
    "duration": 75,
    "start_time": "2023-03-30T19:14:35.266Z"
   },
   {
    "duration": 29,
    "start_time": "2023-03-30T19:14:35.343Z"
   },
   {
    "duration": 13,
    "start_time": "2023-03-30T19:14:35.375Z"
   },
   {
    "duration": 5,
    "start_time": "2023-03-30T19:14:35.390Z"
   },
   {
    "duration": 27,
    "start_time": "2023-03-30T19:14:35.398Z"
   },
   {
    "duration": 10,
    "start_time": "2023-03-30T19:14:35.428Z"
   },
   {
    "duration": 24,
    "start_time": "2023-03-30T19:14:35.440Z"
   },
   {
    "duration": 5,
    "start_time": "2023-03-30T19:14:35.466Z"
   },
   {
    "duration": 5,
    "start_time": "2023-03-30T19:14:35.474Z"
   },
   {
    "duration": 9,
    "start_time": "2023-03-30T19:14:35.480Z"
   },
   {
    "duration": 4,
    "start_time": "2023-03-30T19:18:07.478Z"
   },
   {
    "duration": 70,
    "start_time": "2023-03-30T19:18:09.922Z"
   },
   {
    "duration": 6,
    "start_time": "2023-03-30T19:18:21.048Z"
   },
   {
    "duration": 410,
    "start_time": "2023-03-30T19:18:41.939Z"
   },
   {
    "duration": 37,
    "start_time": "2023-03-30T19:18:42.351Z"
   },
   {
    "duration": 24,
    "start_time": "2023-03-30T19:18:42.391Z"
   },
   {
    "duration": 19,
    "start_time": "2023-03-30T19:18:42.417Z"
   },
   {
    "duration": 5,
    "start_time": "2023-03-30T19:18:42.438Z"
   },
   {
    "duration": 33,
    "start_time": "2023-03-30T19:18:42.446Z"
   },
   {
    "duration": 45,
    "start_time": "2023-03-30T19:18:42.481Z"
   },
   {
    "duration": 31,
    "start_time": "2023-03-30T19:18:42.528Z"
   },
   {
    "duration": 3,
    "start_time": "2023-03-30T19:18:42.562Z"
   },
   {
    "duration": 6,
    "start_time": "2023-03-30T19:18:42.568Z"
   },
   {
    "duration": 15,
    "start_time": "2023-03-30T19:18:42.576Z"
   },
   {
    "duration": 30,
    "start_time": "2023-03-30T19:18:42.593Z"
   },
   {
    "duration": 10,
    "start_time": "2023-03-30T19:18:55.376Z"
   },
   {
    "duration": 406,
    "start_time": "2023-03-30T19:19:01.863Z"
   },
   {
    "duration": 40,
    "start_time": "2023-03-30T19:19:02.271Z"
   },
   {
    "duration": 23,
    "start_time": "2023-03-30T19:19:02.313Z"
   },
   {
    "duration": 14,
    "start_time": "2023-03-30T19:19:02.338Z"
   },
   {
    "duration": 16,
    "start_time": "2023-03-30T19:19:02.354Z"
   },
   {
    "duration": 9,
    "start_time": "2023-03-30T19:19:02.372Z"
   },
   {
    "duration": 25,
    "start_time": "2023-03-30T19:19:02.383Z"
   },
   {
    "duration": 33,
    "start_time": "2023-03-30T19:19:02.410Z"
   },
   {
    "duration": 5,
    "start_time": "2023-03-30T19:19:02.445Z"
   },
   {
    "duration": 13,
    "start_time": "2023-03-30T19:19:02.452Z"
   },
   {
    "duration": 5,
    "start_time": "2023-03-30T19:19:02.467Z"
   },
   {
    "duration": 24,
    "start_time": "2023-03-30T19:19:02.474Z"
   },
   {
    "duration": 5,
    "start_time": "2023-03-30T19:20:14.746Z"
   },
   {
    "duration": 6,
    "start_time": "2023-03-30T19:20:28.688Z"
   },
   {
    "duration": 10,
    "start_time": "2023-03-30T19:28:52.493Z"
   },
   {
    "duration": 5,
    "start_time": "2023-03-30T19:29:12.594Z"
   },
   {
    "duration": 12,
    "start_time": "2023-03-30T19:29:23.251Z"
   },
   {
    "duration": 14,
    "start_time": "2023-03-30T19:29:42.596Z"
   },
   {
    "duration": 426,
    "start_time": "2023-03-30T19:32:58.815Z"
   },
   {
    "duration": 36,
    "start_time": "2023-03-30T19:32:59.243Z"
   },
   {
    "duration": 23,
    "start_time": "2023-03-30T19:32:59.281Z"
   },
   {
    "duration": 20,
    "start_time": "2023-03-30T19:32:59.306Z"
   },
   {
    "duration": 5,
    "start_time": "2023-03-30T19:32:59.327Z"
   },
   {
    "duration": 7,
    "start_time": "2023-03-30T19:32:59.333Z"
   },
   {
    "duration": 10,
    "start_time": "2023-03-30T19:32:59.342Z"
   },
   {
    "duration": 22,
    "start_time": "2023-03-30T19:32:59.354Z"
   },
   {
    "duration": 4,
    "start_time": "2023-03-30T19:32:59.378Z"
   },
   {
    "duration": 5,
    "start_time": "2023-03-30T19:32:59.423Z"
   },
   {
    "duration": 12,
    "start_time": "2023-03-30T19:32:59.430Z"
   },
   {
    "duration": 11,
    "start_time": "2023-03-30T19:32:59.445Z"
   },
   {
    "duration": 6,
    "start_time": "2023-03-30T19:32:59.458Z"
   },
   {
    "duration": 13,
    "start_time": "2023-03-30T19:32:59.466Z"
   },
   {
    "duration": 21,
    "start_time": "2023-03-30T19:32:59.482Z"
   },
   {
    "duration": 9,
    "start_time": "2023-03-30T19:34:05.217Z"
   },
   {
    "duration": 743,
    "start_time": "2023-03-30T19:34:08.805Z"
   },
   {
    "duration": 12,
    "start_time": "2023-03-30T19:34:18.816Z"
   },
   {
    "duration": 7,
    "start_time": "2023-03-30T19:34:36.406Z"
   },
   {
    "duration": 10,
    "start_time": "2023-03-30T19:35:10.235Z"
   },
   {
    "duration": 5,
    "start_time": "2023-03-30T19:35:17.425Z"
   },
   {
    "duration": 22,
    "start_time": "2023-03-30T19:35:30.956Z"
   },
   {
    "duration": 13,
    "start_time": "2023-03-30T19:36:11.616Z"
   },
   {
    "duration": 438,
    "start_time": "2023-03-30T19:36:35.014Z"
   },
   {
    "duration": 37,
    "start_time": "2023-03-30T19:36:35.454Z"
   },
   {
    "duration": 25,
    "start_time": "2023-03-30T19:36:35.492Z"
   },
   {
    "duration": 16,
    "start_time": "2023-03-30T19:36:35.519Z"
   },
   {
    "duration": 5,
    "start_time": "2023-03-30T19:36:35.536Z"
   },
   {
    "duration": 13,
    "start_time": "2023-03-30T19:36:35.542Z"
   },
   {
    "duration": 14,
    "start_time": "2023-03-30T19:36:35.557Z"
   },
   {
    "duration": 29,
    "start_time": "2023-03-30T19:36:35.573Z"
   },
   {
    "duration": 4,
    "start_time": "2023-03-30T19:36:35.624Z"
   },
   {
    "duration": 5,
    "start_time": "2023-03-30T19:36:35.630Z"
   },
   {
    "duration": 10,
    "start_time": "2023-03-30T19:36:35.637Z"
   },
   {
    "duration": 8,
    "start_time": "2023-03-30T19:36:35.648Z"
   },
   {
    "duration": 6,
    "start_time": "2023-03-30T19:36:35.658Z"
   },
   {
    "duration": 9,
    "start_time": "2023-03-30T19:36:35.666Z"
   },
   {
    "duration": 48,
    "start_time": "2023-03-30T19:36:35.677Z"
   },
   {
    "duration": 16,
    "start_time": "2023-03-30T19:36:35.727Z"
   },
   {
    "duration": 8,
    "start_time": "2023-03-30T19:36:35.746Z"
   },
   {
    "duration": 481,
    "start_time": "2023-03-30T19:37:10.034Z"
   },
   {
    "duration": 62,
    "start_time": "2023-03-30T19:37:10.518Z"
   },
   {
    "duration": 28,
    "start_time": "2023-03-30T19:37:10.583Z"
   },
   {
    "duration": 22,
    "start_time": "2023-03-30T19:37:10.613Z"
   },
   {
    "duration": 7,
    "start_time": "2023-03-30T19:37:10.638Z"
   },
   {
    "duration": 22,
    "start_time": "2023-03-30T19:37:10.647Z"
   },
   {
    "duration": 20,
    "start_time": "2023-03-30T19:37:10.671Z"
   },
   {
    "duration": 33,
    "start_time": "2023-03-30T19:37:10.692Z"
   },
   {
    "duration": 4,
    "start_time": "2023-03-30T19:37:10.727Z"
   },
   {
    "duration": 23,
    "start_time": "2023-03-30T19:37:10.734Z"
   },
   {
    "duration": 16,
    "start_time": "2023-03-30T19:37:10.759Z"
   },
   {
    "duration": 5,
    "start_time": "2023-03-30T19:37:10.777Z"
   },
   {
    "duration": 24,
    "start_time": "2023-03-30T19:37:10.784Z"
   },
   {
    "duration": 5,
    "start_time": "2023-03-30T19:37:10.810Z"
   },
   {
    "duration": 7,
    "start_time": "2023-03-30T19:37:10.816Z"
   },
   {
    "duration": 15,
    "start_time": "2023-03-30T19:37:10.824Z"
   },
   {
    "duration": 10,
    "start_time": "2023-03-30T19:37:10.841Z"
   },
   {
    "duration": 6,
    "start_time": "2023-03-30T19:40:10.913Z"
   },
   {
    "duration": 69,
    "start_time": "2023-03-30T19:40:27.655Z"
   },
   {
    "duration": 6,
    "start_time": "2023-03-30T19:40:31.938Z"
   },
   {
    "duration": 868,
    "start_time": "2023-03-30T19:43:40.577Z"
   },
   {
    "duration": 50,
    "start_time": "2023-03-30T19:45:45.676Z"
   },
   {
    "duration": 12,
    "start_time": "2023-03-30T19:46:12.411Z"
   },
   {
    "duration": 5,
    "start_time": "2023-03-30T19:46:18.716Z"
   },
   {
    "duration": 9,
    "start_time": "2023-03-30T19:46:22.025Z"
   },
   {
    "duration": 58,
    "start_time": "2023-03-30T19:47:02.673Z"
   },
   {
    "duration": 5,
    "start_time": "2023-03-30T19:47:08.649Z"
   },
   {
    "duration": 224,
    "start_time": "2023-03-30T19:47:11.422Z"
   },
   {
    "duration": 5,
    "start_time": "2023-03-30T19:48:10.393Z"
   },
   {
    "duration": 47,
    "start_time": "2023-03-30T19:48:26.397Z"
   },
   {
    "duration": 1029,
    "start_time": "2023-03-30T19:49:10.223Z"
   },
   {
    "duration": 974,
    "start_time": "2023-03-30T19:50:03.156Z"
   },
   {
    "duration": 110,
    "start_time": "2023-03-30T19:50:04.868Z"
   },
   {
    "duration": 117,
    "start_time": "2023-03-30T19:50:15.898Z"
   },
   {
    "duration": 1044,
    "start_time": "2023-03-30T19:50:24.426Z"
   },
   {
    "duration": 53,
    "start_time": "2023-03-30T19:50:29.635Z"
   },
   {
    "duration": 1040,
    "start_time": "2023-03-30T19:50:34.868Z"
   },
   {
    "duration": 916,
    "start_time": "2023-03-30T19:50:42.841Z"
   },
   {
    "duration": 46,
    "start_time": "2023-03-30T19:50:46.240Z"
   },
   {
    "duration": 11,
    "start_time": "2023-03-30T19:56:15.446Z"
   },
   {
    "duration": 67,
    "start_time": "2023-03-30T19:56:21.383Z"
   },
   {
    "duration": 4,
    "start_time": "2023-03-30T19:56:25.490Z"
   },
   {
    "duration": 75,
    "start_time": "2023-03-30T19:56:28.890Z"
   },
   {
    "duration": 3341,
    "start_time": "2023-03-30T19:56:41.245Z"
   },
   {
    "duration": 35634,
    "start_time": "2023-03-30T19:56:44.589Z"
   },
   {
    "duration": 1195,
    "start_time": "2023-03-31T11:49:23.553Z"
   },
   {
    "duration": 94,
    "start_time": "2023-03-31T11:49:24.750Z"
   },
   {
    "duration": 28,
    "start_time": "2023-03-31T11:49:24.846Z"
   },
   {
    "duration": 15,
    "start_time": "2023-03-31T11:49:24.876Z"
   },
   {
    "duration": 4,
    "start_time": "2023-03-31T11:49:24.894Z"
   },
   {
    "duration": 20,
    "start_time": "2023-03-31T11:49:24.900Z"
   },
   {
    "duration": 12,
    "start_time": "2023-03-31T11:49:24.923Z"
   },
   {
    "duration": 27,
    "start_time": "2023-03-31T11:49:24.936Z"
   },
   {
    "duration": 15,
    "start_time": "2023-03-31T11:49:24.966Z"
   },
   {
    "duration": 35,
    "start_time": "2023-03-31T11:49:24.983Z"
   },
   {
    "duration": 9,
    "start_time": "2023-03-31T11:49:25.021Z"
   },
   {
    "duration": 6,
    "start_time": "2023-03-31T11:49:25.031Z"
   },
   {
    "duration": 7,
    "start_time": "2023-03-31T11:49:25.039Z"
   },
   {
    "duration": 9,
    "start_time": "2023-03-31T11:49:25.050Z"
   },
   {
    "duration": 15,
    "start_time": "2023-03-31T11:49:25.062Z"
   },
   {
    "duration": 31,
    "start_time": "2023-03-31T11:49:25.079Z"
   },
   {
    "duration": 1326,
    "start_time": "2023-03-31T11:49:25.114Z"
   },
   {
    "duration": 1581,
    "start_time": "2023-03-31T11:49:26.442Z"
   },
   {
    "duration": 82,
    "start_time": "2023-03-31T11:49:28.027Z"
   },
   {
    "duration": 34,
    "start_time": "2023-03-31T11:51:42.091Z"
   },
   {
    "duration": 20,
    "start_time": "2023-03-31T11:51:58.570Z"
   },
   {
    "duration": 1136,
    "start_time": "2023-03-31T11:52:17.043Z"
   },
   {
    "duration": 45,
    "start_time": "2023-03-31T11:52:18.182Z"
   },
   {
    "duration": 25,
    "start_time": "2023-03-31T11:52:18.229Z"
   },
   {
    "duration": 15,
    "start_time": "2023-03-31T11:52:18.256Z"
   },
   {
    "duration": 5,
    "start_time": "2023-03-31T11:52:18.274Z"
   },
   {
    "duration": 30,
    "start_time": "2023-03-31T11:52:18.280Z"
   },
   {
    "duration": 11,
    "start_time": "2023-03-31T11:52:18.319Z"
   },
   {
    "duration": 45,
    "start_time": "2023-03-31T11:52:18.331Z"
   },
   {
    "duration": 9,
    "start_time": "2023-03-31T11:52:18.378Z"
   },
   {
    "duration": 25,
    "start_time": "2023-03-31T11:52:18.389Z"
   },
   {
    "duration": 9,
    "start_time": "2023-03-31T11:52:18.416Z"
   },
   {
    "duration": 8,
    "start_time": "2023-03-31T11:52:18.427Z"
   },
   {
    "duration": 16,
    "start_time": "2023-03-31T11:52:18.437Z"
   },
   {
    "duration": 24,
    "start_time": "2023-03-31T11:52:18.457Z"
   },
   {
    "duration": 39,
    "start_time": "2023-03-31T11:52:18.483Z"
   },
   {
    "duration": 15,
    "start_time": "2023-03-31T11:52:18.524Z"
   },
   {
    "duration": 3230,
    "start_time": "2023-03-31T11:52:18.541Z"
   },
   {
    "duration": 1206,
    "start_time": "2023-03-31T11:52:46.272Z"
   },
   {
    "duration": 43,
    "start_time": "2023-03-31T11:52:47.480Z"
   },
   {
    "duration": 24,
    "start_time": "2023-03-31T11:52:47.525Z"
   },
   {
    "duration": 14,
    "start_time": "2023-03-31T11:52:47.551Z"
   },
   {
    "duration": 4,
    "start_time": "2023-03-31T11:52:47.568Z"
   },
   {
    "duration": 7,
    "start_time": "2023-03-31T11:52:47.574Z"
   },
   {
    "duration": 20,
    "start_time": "2023-03-31T11:52:47.605Z"
   },
   {
    "duration": 21,
    "start_time": "2023-03-31T11:52:47.627Z"
   },
   {
    "duration": 5,
    "start_time": "2023-03-31T11:52:47.650Z"
   },
   {
    "duration": 6,
    "start_time": "2023-03-31T11:52:47.657Z"
   },
   {
    "duration": 5,
    "start_time": "2023-03-31T11:52:47.665Z"
   },
   {
    "duration": 37,
    "start_time": "2023-03-31T11:52:47.672Z"
   },
   {
    "duration": 5,
    "start_time": "2023-03-31T11:52:47.717Z"
   },
   {
    "duration": 7,
    "start_time": "2023-03-31T11:52:47.725Z"
   },
   {
    "duration": 22,
    "start_time": "2023-03-31T11:52:47.734Z"
   },
   {
    "duration": 11,
    "start_time": "2023-03-31T11:52:47.758Z"
   },
   {
    "duration": 3126,
    "start_time": "2023-03-31T11:52:47.771Z"
   },
   {
    "duration": 32260,
    "start_time": "2023-03-31T11:52:50.899Z"
   },
   {
    "duration": 903,
    "start_time": "2023-03-31T11:53:23.161Z"
   },
   {
    "duration": 117,
    "start_time": "2023-03-31T11:57:03.188Z"
   },
   {
    "duration": 5,
    "start_time": "2023-03-31T11:57:16.218Z"
   },
   {
    "duration": 10,
    "start_time": "2023-03-31T11:57:20.771Z"
   },
   {
    "duration": 109,
    "start_time": "2023-03-31T11:57:22.903Z"
   },
   {
    "duration": 50,
    "start_time": "2023-03-31T11:59:00.982Z"
   },
   {
    "duration": 926,
    "start_time": "2023-03-31T11:59:15.502Z"
   },
   {
    "duration": 129,
    "start_time": "2023-03-31T12:00:28.894Z"
   },
   {
    "duration": 67,
    "start_time": "2023-03-31T12:00:32.048Z"
   },
   {
    "duration": 125,
    "start_time": "2023-03-31T12:02:14.283Z"
   },
   {
    "duration": 5,
    "start_time": "2023-03-31T12:02:26.242Z"
   },
   {
    "duration": 64,
    "start_time": "2023-03-31T12:02:30.182Z"
   },
   {
    "duration": 63,
    "start_time": "2023-03-31T12:02:36.562Z"
   },
   {
    "duration": 1091,
    "start_time": "2023-03-31T12:02:40.043Z"
   },
   {
    "duration": 8,
    "start_time": "2023-03-31T12:03:40.822Z"
   },
   {
    "duration": 8,
    "start_time": "2023-03-31T12:06:29.775Z"
   },
   {
    "duration": 984,
    "start_time": "2023-03-31T12:06:40.843Z"
   },
   {
    "duration": 95,
    "start_time": "2023-03-31T12:06:52.138Z"
   },
   {
    "duration": 63,
    "start_time": "2023-03-31T12:06:52.471Z"
   },
   {
    "duration": 8,
    "start_time": "2023-03-31T12:08:20.602Z"
   },
   {
    "duration": 33,
    "start_time": "2023-03-31T12:09:59.443Z"
   },
   {
    "duration": 123,
    "start_time": "2023-03-31T12:10:08.002Z"
   },
   {
    "duration": 79,
    "start_time": "2023-03-31T12:10:08.271Z"
   },
   {
    "duration": 979,
    "start_time": "2023-03-31T12:10:08.503Z"
   },
   {
    "duration": 9,
    "start_time": "2023-03-31T12:10:31.405Z"
   },
   {
    "duration": 28,
    "start_time": "2023-03-31T12:22:33.473Z"
   },
   {
    "duration": 41,
    "start_time": "2023-03-31T12:26:21.842Z"
   },
   {
    "duration": 36,
    "start_time": "2023-03-31T12:26:37.430Z"
   },
   {
    "duration": 6,
    "start_time": "2023-03-31T12:27:09.083Z"
   },
   {
    "duration": 6,
    "start_time": "2023-03-31T12:28:06.942Z"
   },
   {
    "duration": 6,
    "start_time": "2023-03-31T12:28:15.914Z"
   },
   {
    "duration": 21,
    "start_time": "2023-03-31T12:30:17.282Z"
   },
   {
    "duration": 4,
    "start_time": "2023-03-31T12:37:05.082Z"
   },
   {
    "duration": 32,
    "start_time": "2023-03-31T12:38:48.543Z"
   },
   {
    "duration": 46,
    "start_time": "2023-03-31T12:38:48.802Z"
   },
   {
    "duration": 923,
    "start_time": "2023-03-31T12:38:49.022Z"
   },
   {
    "duration": 44,
    "start_time": "2023-03-31T12:39:04.782Z"
   },
   {
    "duration": 46,
    "start_time": "2023-03-31T12:39:11.302Z"
   },
   {
    "duration": 922,
    "start_time": "2023-03-31T12:39:16.162Z"
   },
   {
    "duration": 4,
    "start_time": "2023-03-31T13:19:36.661Z"
   },
   {
    "duration": 41,
    "start_time": "2023-03-31T13:19:37.101Z"
   },
   {
    "duration": 17,
    "start_time": "2023-03-31T13:19:37.562Z"
   },
   {
    "duration": 15,
    "start_time": "2023-03-31T13:19:39.981Z"
   },
   {
    "duration": 12,
    "start_time": "2023-03-31T13:19:43.821Z"
   },
   {
    "duration": 18,
    "start_time": "2023-03-31T13:19:46.001Z"
   },
   {
    "duration": 34,
    "start_time": "2023-03-31T13:19:47.042Z"
   },
   {
    "duration": 6,
    "start_time": "2023-03-31T13:19:48.349Z"
   },
   {
    "duration": 7,
    "start_time": "2023-03-31T13:19:49.602Z"
   },
   {
    "duration": 18,
    "start_time": "2023-03-31T13:19:52.321Z"
   },
   {
    "duration": 4,
    "start_time": "2023-03-31T13:20:16.882Z"
   },
   {
    "duration": 11,
    "start_time": "2023-03-31T13:20:19.342Z"
   },
   {
    "duration": 28,
    "start_time": "2023-03-31T13:20:19.901Z"
   },
   {
    "duration": 1301,
    "start_time": "2023-03-31T15:13:41.649Z"
   },
   {
    "duration": 88,
    "start_time": "2023-03-31T15:13:42.954Z"
   },
   {
    "duration": 24,
    "start_time": "2023-03-31T15:13:43.044Z"
   },
   {
    "duration": 22,
    "start_time": "2023-03-31T15:13:43.071Z"
   },
   {
    "duration": 21,
    "start_time": "2023-03-31T15:13:43.095Z"
   },
   {
    "duration": 8,
    "start_time": "2023-03-31T15:13:43.120Z"
   },
   {
    "duration": 43,
    "start_time": "2023-03-31T15:13:43.130Z"
   },
   {
    "duration": 6,
    "start_time": "2023-03-31T15:13:43.175Z"
   },
   {
    "duration": 10,
    "start_time": "2023-03-31T15:13:43.183Z"
   },
   {
    "duration": 29,
    "start_time": "2023-03-31T15:13:43.196Z"
   },
   {
    "duration": 12,
    "start_time": "2023-03-31T15:13:43.227Z"
   },
   {
    "duration": 17,
    "start_time": "2023-03-31T15:13:43.240Z"
   },
   {
    "duration": 11,
    "start_time": "2023-03-31T15:13:43.260Z"
   },
   {
    "duration": 150,
    "start_time": "2023-03-31T15:13:43.273Z"
   },
   {
    "duration": 0,
    "start_time": "2023-03-31T15:13:43.425Z"
   },
   {
    "duration": 0,
    "start_time": "2023-03-31T15:13:43.427Z"
   },
   {
    "duration": 0,
    "start_time": "2023-03-31T15:13:43.428Z"
   },
   {
    "duration": 52,
    "start_time": "2023-03-31T15:14:49.350Z"
   },
   {
    "duration": 18,
    "start_time": "2023-03-31T15:14:52.323Z"
   },
   {
    "duration": 3,
    "start_time": "2023-03-31T15:14:58.134Z"
   },
   {
    "duration": 22,
    "start_time": "2023-03-31T15:15:03.755Z"
   },
   {
    "duration": 39,
    "start_time": "2023-03-31T15:15:09.353Z"
   },
   {
    "duration": 46,
    "start_time": "2023-03-31T15:15:09.732Z"
   },
   {
    "duration": 980,
    "start_time": "2023-03-31T15:15:10.042Z"
   },
   {
    "duration": 1244,
    "start_time": "2023-04-03T13:19:15.206Z"
   },
   {
    "duration": 90,
    "start_time": "2023-04-03T13:19:16.455Z"
   },
   {
    "duration": 36,
    "start_time": "2023-04-03T13:19:16.546Z"
   },
   {
    "duration": 18,
    "start_time": "2023-04-03T13:19:16.584Z"
   },
   {
    "duration": 15,
    "start_time": "2023-04-03T13:19:16.604Z"
   },
   {
    "duration": 27,
    "start_time": "2023-04-03T13:19:16.620Z"
   },
   {
    "duration": 28,
    "start_time": "2023-04-03T13:19:16.651Z"
   },
   {
    "duration": 6,
    "start_time": "2023-04-03T13:19:16.681Z"
   },
   {
    "duration": 17,
    "start_time": "2023-04-03T13:19:16.689Z"
   },
   {
    "duration": 15,
    "start_time": "2023-04-03T13:19:16.708Z"
   },
   {
    "duration": 18,
    "start_time": "2023-04-03T13:19:16.726Z"
   },
   {
    "duration": 21,
    "start_time": "2023-04-03T13:19:16.746Z"
   },
   {
    "duration": 14,
    "start_time": "2023-04-03T13:19:16.769Z"
   },
   {
    "duration": 3,
    "start_time": "2023-04-03T13:19:16.787Z"
   },
   {
    "duration": 12,
    "start_time": "2023-04-03T13:19:16.792Z"
   },
   {
    "duration": 6,
    "start_time": "2023-04-03T13:19:16.807Z"
   },
   {
    "duration": 36,
    "start_time": "2023-04-03T13:19:16.815Z"
   },
   {
    "duration": 27,
    "start_time": "2023-04-03T13:19:16.852Z"
   },
   {
    "duration": 77,
    "start_time": "2023-04-03T13:19:16.881Z"
   },
   {
    "duration": 113,
    "start_time": "2023-04-03T13:19:16.967Z"
   },
   {
    "duration": 828,
    "start_time": "2023-04-03T13:19:17.082Z"
   },
   {
    "duration": 1121,
    "start_time": "2023-04-03T13:20:23.655Z"
   },
   {
    "duration": 43,
    "start_time": "2023-04-03T13:20:24.779Z"
   },
   {
    "duration": 31,
    "start_time": "2023-04-03T13:20:24.824Z"
   },
   {
    "duration": 15,
    "start_time": "2023-04-03T13:20:24.858Z"
   },
   {
    "duration": 17,
    "start_time": "2023-04-03T13:20:24.876Z"
   },
   {
    "duration": 5,
    "start_time": "2023-04-03T13:20:24.895Z"
   },
   {
    "duration": 52,
    "start_time": "2023-04-03T13:20:24.904Z"
   },
   {
    "duration": 6,
    "start_time": "2023-04-03T13:20:24.958Z"
   },
   {
    "duration": 5,
    "start_time": "2023-04-03T13:20:24.966Z"
   },
   {
    "duration": 8,
    "start_time": "2023-04-03T13:20:24.973Z"
   },
   {
    "duration": 23,
    "start_time": "2023-04-03T13:20:24.983Z"
   },
   {
    "duration": 37,
    "start_time": "2023-04-03T13:20:25.008Z"
   },
   {
    "duration": 27,
    "start_time": "2023-04-03T13:20:25.047Z"
   },
   {
    "duration": 21,
    "start_time": "2023-04-03T13:20:25.076Z"
   },
   {
    "duration": 9,
    "start_time": "2023-04-03T13:20:25.098Z"
   },
   {
    "duration": 22,
    "start_time": "2023-04-03T13:20:25.109Z"
   },
   {
    "duration": 25,
    "start_time": "2023-04-03T13:20:25.134Z"
   },
   {
    "duration": 50,
    "start_time": "2023-04-03T13:20:25.161Z"
   },
   {
    "duration": 34,
    "start_time": "2023-04-03T13:20:25.213Z"
   },
   {
    "duration": 199,
    "start_time": "2023-04-03T13:20:25.248Z"
   },
   {
    "duration": 721,
    "start_time": "2023-04-03T13:20:25.449Z"
   },
   {
    "duration": 1075,
    "start_time": "2023-04-03T13:25:11.692Z"
   },
   {
    "duration": 48,
    "start_time": "2023-04-03T13:25:12.769Z"
   },
   {
    "duration": 35,
    "start_time": "2023-04-03T13:25:12.819Z"
   },
   {
    "duration": 16,
    "start_time": "2023-04-03T13:25:12.856Z"
   },
   {
    "duration": 15,
    "start_time": "2023-04-03T13:25:12.874Z"
   },
   {
    "duration": 4,
    "start_time": "2023-04-03T13:25:12.891Z"
   },
   {
    "duration": 61,
    "start_time": "2023-04-03T13:25:12.898Z"
   },
   {
    "duration": 6,
    "start_time": "2023-04-03T13:25:12.961Z"
   },
   {
    "duration": 11,
    "start_time": "2023-04-03T13:25:12.970Z"
   },
   {
    "duration": 4,
    "start_time": "2023-04-03T13:25:12.984Z"
   },
   {
    "duration": 12,
    "start_time": "2023-04-03T13:25:12.991Z"
   },
   {
    "duration": 37,
    "start_time": "2023-04-03T13:25:13.005Z"
   },
   {
    "duration": 10,
    "start_time": "2023-04-03T13:25:13.044Z"
   },
   {
    "duration": 4,
    "start_time": "2023-04-03T13:25:13.058Z"
   },
   {
    "duration": 6,
    "start_time": "2023-04-03T13:25:13.064Z"
   },
   {
    "duration": 6,
    "start_time": "2023-04-03T13:25:13.072Z"
   },
   {
    "duration": 3,
    "start_time": "2023-04-03T13:25:13.080Z"
   },
   {
    "duration": 11,
    "start_time": "2023-04-03T13:25:13.085Z"
   },
   {
    "duration": 20,
    "start_time": "2023-04-03T13:25:13.139Z"
   },
   {
    "duration": 20,
    "start_time": "2023-04-03T13:25:13.161Z"
   },
   {
    "duration": 23,
    "start_time": "2023-04-03T13:25:13.182Z"
   },
   {
    "duration": 138,
    "start_time": "2023-04-03T13:25:13.207Z"
   },
   {
    "duration": 121,
    "start_time": "2023-04-03T13:25:13.347Z"
   },
   {
    "duration": 856,
    "start_time": "2023-04-03T13:25:13.470Z"
   },
   {
    "duration": 1073,
    "start_time": "2023-04-03T13:25:42.540Z"
   },
   {
    "duration": 38,
    "start_time": "2023-04-03T13:25:43.615Z"
   },
   {
    "duration": 23,
    "start_time": "2023-04-03T13:25:43.657Z"
   },
   {
    "duration": 15,
    "start_time": "2023-04-03T13:25:43.682Z"
   },
   {
    "duration": 11,
    "start_time": "2023-04-03T13:25:43.699Z"
   },
   {
    "duration": 5,
    "start_time": "2023-04-03T13:25:43.712Z"
   },
   {
    "duration": 21,
    "start_time": "2023-04-03T13:25:43.741Z"
   },
   {
    "duration": 4,
    "start_time": "2023-04-03T13:25:43.764Z"
   },
   {
    "duration": 4,
    "start_time": "2023-04-03T13:25:43.769Z"
   },
   {
    "duration": 4,
    "start_time": "2023-04-03T13:25:43.776Z"
   },
   {
    "duration": 14,
    "start_time": "2023-04-03T13:25:43.781Z"
   },
   {
    "duration": 50,
    "start_time": "2023-04-03T13:25:43.797Z"
   },
   {
    "duration": 9,
    "start_time": "2023-04-03T13:25:43.849Z"
   },
   {
    "duration": 3,
    "start_time": "2023-04-03T13:25:43.860Z"
   },
   {
    "duration": 6,
    "start_time": "2023-04-03T13:25:43.866Z"
   },
   {
    "duration": 13,
    "start_time": "2023-04-03T13:25:43.874Z"
   },
   {
    "duration": 5,
    "start_time": "2023-04-03T13:25:43.889Z"
   },
   {
    "duration": 18,
    "start_time": "2023-04-03T13:25:43.896Z"
   },
   {
    "duration": 45,
    "start_time": "2023-04-03T13:25:43.915Z"
   },
   {
    "duration": 37,
    "start_time": "2023-04-03T13:25:43.961Z"
   },
   {
    "duration": 29,
    "start_time": "2023-04-03T13:25:44.000Z"
   },
   {
    "duration": 111,
    "start_time": "2023-04-03T13:25:44.031Z"
   },
   {
    "duration": 118,
    "start_time": "2023-04-03T13:25:44.144Z"
   },
   {
    "duration": 673,
    "start_time": "2023-04-03T13:25:44.263Z"
   },
   {
    "duration": 1253,
    "start_time": "2023-04-03T13:26:12.552Z"
   },
   {
    "duration": 37,
    "start_time": "2023-04-03T13:26:13.808Z"
   },
   {
    "duration": 20,
    "start_time": "2023-04-03T13:26:13.847Z"
   },
   {
    "duration": 17,
    "start_time": "2023-04-03T13:26:13.869Z"
   },
   {
    "duration": 11,
    "start_time": "2023-04-03T13:26:13.889Z"
   },
   {
    "duration": 5,
    "start_time": "2023-04-03T13:26:13.901Z"
   },
   {
    "duration": 52,
    "start_time": "2023-04-03T13:26:13.907Z"
   },
   {
    "duration": 6,
    "start_time": "2023-04-03T13:26:13.961Z"
   },
   {
    "duration": 6,
    "start_time": "2023-04-03T13:26:13.969Z"
   },
   {
    "duration": 5,
    "start_time": "2023-04-03T13:26:13.977Z"
   },
   {
    "duration": 10,
    "start_time": "2023-04-03T13:26:13.984Z"
   },
   {
    "duration": 46,
    "start_time": "2023-04-03T13:26:13.996Z"
   },
   {
    "duration": 17,
    "start_time": "2023-04-03T13:26:14.044Z"
   },
   {
    "duration": 4,
    "start_time": "2023-04-03T13:26:14.065Z"
   },
   {
    "duration": 6,
    "start_time": "2023-04-03T13:26:14.070Z"
   },
   {
    "duration": 3,
    "start_time": "2023-04-03T13:26:14.078Z"
   },
   {
    "duration": 4,
    "start_time": "2023-04-03T13:26:14.083Z"
   },
   {
    "duration": 53,
    "start_time": "2023-04-03T13:26:14.089Z"
   },
   {
    "duration": 27,
    "start_time": "2023-04-03T13:26:14.144Z"
   },
   {
    "duration": 20,
    "start_time": "2023-04-03T13:26:14.173Z"
   },
   {
    "duration": 45,
    "start_time": "2023-04-03T13:26:14.195Z"
   },
   {
    "duration": 34,
    "start_time": "2023-04-03T13:26:14.242Z"
   },
   {
    "duration": 129,
    "start_time": "2023-04-03T13:26:14.341Z"
   },
   {
    "duration": 717,
    "start_time": "2023-04-03T13:26:14.472Z"
   },
   {
    "duration": 285,
    "start_time": "2023-04-03T13:30:06.403Z"
   },
   {
    "duration": 3,
    "start_time": "2023-04-03T13:39:34.322Z"
   },
   {
    "duration": 16,
    "start_time": "2023-04-03T13:39:43.849Z"
   },
   {
    "duration": 34,
    "start_time": "2023-04-03T13:40:00.582Z"
   },
   {
    "duration": 673,
    "start_time": "2023-04-03T13:40:00.942Z"
   },
   {
    "duration": 1742,
    "start_time": "2023-04-03T13:41:29.551Z"
   },
   {
    "duration": 37,
    "start_time": "2023-04-03T13:41:31.295Z"
   },
   {
    "duration": 19,
    "start_time": "2023-04-03T13:41:31.333Z"
   },
   {
    "duration": 20,
    "start_time": "2023-04-03T13:41:31.353Z"
   },
   {
    "duration": 17,
    "start_time": "2023-04-03T13:41:31.376Z"
   },
   {
    "duration": 14,
    "start_time": "2023-04-03T13:41:31.395Z"
   },
   {
    "duration": 37,
    "start_time": "2023-04-03T13:41:31.411Z"
   },
   {
    "duration": 12,
    "start_time": "2023-04-03T13:41:31.450Z"
   },
   {
    "duration": 5,
    "start_time": "2023-04-03T13:41:31.463Z"
   },
   {
    "duration": 21,
    "start_time": "2023-04-03T13:41:31.470Z"
   },
   {
    "duration": 36,
    "start_time": "2023-04-03T13:41:31.492Z"
   },
   {
    "duration": 29,
    "start_time": "2023-04-03T13:41:31.530Z"
   },
   {
    "duration": 27,
    "start_time": "2023-04-03T13:41:31.560Z"
   },
   {
    "duration": 7,
    "start_time": "2023-04-03T13:41:31.590Z"
   },
   {
    "duration": 11,
    "start_time": "2023-04-03T13:41:31.598Z"
   },
   {
    "duration": 28,
    "start_time": "2023-04-03T13:41:31.610Z"
   },
   {
    "duration": 35,
    "start_time": "2023-04-03T13:41:31.640Z"
   },
   {
    "duration": 27,
    "start_time": "2023-04-03T13:41:31.676Z"
   },
   {
    "duration": 36,
    "start_time": "2023-04-03T13:41:31.704Z"
   },
   {
    "duration": 19,
    "start_time": "2023-04-03T13:41:31.741Z"
   },
   {
    "duration": 28,
    "start_time": "2023-04-03T13:41:31.762Z"
   },
   {
    "duration": 48,
    "start_time": "2023-04-03T13:41:31.792Z"
   },
   {
    "duration": 121,
    "start_time": "2023-04-03T13:41:31.842Z"
   },
   {
    "duration": 698,
    "start_time": "2023-04-03T13:41:31.964Z"
   },
   {
    "duration": 5,
    "start_time": "2023-04-03T13:45:43.675Z"
   },
   {
    "duration": 4,
    "start_time": "2023-04-03T13:46:41.381Z"
   },
   {
    "duration": 5,
    "start_time": "2023-04-03T13:46:46.621Z"
   },
   {
    "duration": 185,
    "start_time": "2023-04-03T13:54:05.885Z"
   },
   {
    "duration": 7,
    "start_time": "2023-04-03T13:54:10.750Z"
   },
   {
    "duration": 8,
    "start_time": "2023-04-03T13:54:24.435Z"
   },
   {
    "duration": 6,
    "start_time": "2023-04-03T13:54:52.384Z"
   },
   {
    "duration": 8,
    "start_time": "2023-04-03T13:56:59.991Z"
   },
   {
    "duration": 5,
    "start_time": "2023-04-03T14:22:54.227Z"
   },
   {
    "duration": 1210,
    "start_time": "2023-04-04T12:26:28.998Z"
   },
   {
    "duration": 105,
    "start_time": "2023-04-04T12:26:30.210Z"
   },
   {
    "duration": 23,
    "start_time": "2023-04-04T12:26:30.317Z"
   },
   {
    "duration": 14,
    "start_time": "2023-04-04T12:26:30.342Z"
   },
   {
    "duration": 35,
    "start_time": "2023-04-04T12:26:30.358Z"
   },
   {
    "duration": 36,
    "start_time": "2023-04-04T12:26:30.395Z"
   },
   {
    "duration": 64,
    "start_time": "2023-04-04T12:26:30.433Z"
   },
   {
    "duration": 24,
    "start_time": "2023-04-04T12:26:30.498Z"
   },
   {
    "duration": 26,
    "start_time": "2023-04-04T12:26:30.523Z"
   },
   {
    "duration": 48,
    "start_time": "2023-04-04T12:26:30.551Z"
   },
   {
    "duration": 47,
    "start_time": "2023-04-04T12:26:30.601Z"
   },
   {
    "duration": 44,
    "start_time": "2023-04-04T12:26:30.649Z"
   },
   {
    "duration": 38,
    "start_time": "2023-04-04T12:26:30.695Z"
   },
   {
    "duration": 42,
    "start_time": "2023-04-04T12:26:30.735Z"
   },
   {
    "duration": 15,
    "start_time": "2023-04-04T12:26:30.783Z"
   },
   {
    "duration": 11,
    "start_time": "2023-04-04T12:26:30.800Z"
   },
   {
    "duration": 20,
    "start_time": "2023-04-04T12:26:30.813Z"
   },
   {
    "duration": 39,
    "start_time": "2023-04-04T12:26:30.834Z"
   },
   {
    "duration": 35,
    "start_time": "2023-04-04T12:26:30.878Z"
   },
   {
    "duration": 59,
    "start_time": "2023-04-04T12:26:30.915Z"
   },
   {
    "duration": 46,
    "start_time": "2023-04-04T12:26:30.975Z"
   },
   {
    "duration": 42,
    "start_time": "2023-04-04T12:26:31.023Z"
   },
   {
    "duration": 127,
    "start_time": "2023-04-04T12:26:31.069Z"
   },
   {
    "duration": 776,
    "start_time": "2023-04-04T12:26:31.197Z"
   },
   {
    "duration": 10,
    "start_time": "2023-04-04T12:26:31.975Z"
   },
   {
    "duration": 34,
    "start_time": "2023-04-04T12:26:31.986Z"
   },
   {
    "duration": 4,
    "start_time": "2023-04-04T12:32:23.101Z"
   },
   {
    "duration": 3,
    "start_time": "2023-04-04T12:48:06.716Z"
   },
   {
    "duration": 148,
    "start_time": "2023-04-04T12:50:08.910Z"
   },
   {
    "duration": 6,
    "start_time": "2023-04-04T12:50:28.597Z"
   },
   {
    "duration": 41,
    "start_time": "2023-04-04T12:51:23.557Z"
   },
   {
    "duration": 838,
    "start_time": "2023-04-04T12:51:24.085Z"
   },
   {
    "duration": 24,
    "start_time": "2023-04-04T12:51:25.193Z"
   },
   {
    "duration": 1160,
    "start_time": "2023-04-04T12:54:11.036Z"
   },
   {
    "duration": 36,
    "start_time": "2023-04-04T12:54:12.198Z"
   },
   {
    "duration": 38,
    "start_time": "2023-04-04T12:54:12.237Z"
   },
   {
    "duration": 16,
    "start_time": "2023-04-04T12:54:12.281Z"
   },
   {
    "duration": 15,
    "start_time": "2023-04-04T12:54:12.299Z"
   },
   {
    "duration": 5,
    "start_time": "2023-04-04T12:54:12.316Z"
   },
   {
    "duration": 52,
    "start_time": "2023-04-04T12:54:12.323Z"
   },
   {
    "duration": 5,
    "start_time": "2023-04-04T12:54:12.381Z"
   },
   {
    "duration": 4,
    "start_time": "2023-04-04T12:54:12.389Z"
   },
   {
    "duration": 6,
    "start_time": "2023-04-04T12:54:12.396Z"
   },
   {
    "duration": 17,
    "start_time": "2023-04-04T12:54:12.404Z"
   },
   {
    "duration": 45,
    "start_time": "2023-04-04T12:54:12.423Z"
   },
   {
    "duration": 11,
    "start_time": "2023-04-04T12:54:12.473Z"
   },
   {
    "duration": 5,
    "start_time": "2023-04-04T12:54:12.487Z"
   },
   {
    "duration": 8,
    "start_time": "2023-04-04T12:54:12.494Z"
   },
   {
    "duration": 8,
    "start_time": "2023-04-04T12:54:12.504Z"
   },
   {
    "duration": 8,
    "start_time": "2023-04-04T12:54:12.514Z"
   },
   {
    "duration": 13,
    "start_time": "2023-04-04T12:54:12.523Z"
   },
   {
    "duration": 37,
    "start_time": "2023-04-04T12:54:12.563Z"
   },
   {
    "duration": 20,
    "start_time": "2023-04-04T12:54:12.603Z"
   },
   {
    "duration": 45,
    "start_time": "2023-04-04T12:54:12.626Z"
   },
   {
    "duration": 6,
    "start_time": "2023-04-04T12:54:12.674Z"
   },
   {
    "duration": 33,
    "start_time": "2023-04-04T12:54:12.681Z"
   },
   {
    "duration": 752,
    "start_time": "2023-04-04T12:54:12.716Z"
   },
   {
    "duration": 23,
    "start_time": "2023-04-04T12:54:13.474Z"
   },
   {
    "duration": 71,
    "start_time": "2023-04-04T12:54:13.500Z"
   },
   {
    "duration": 34,
    "start_time": "2023-04-04T13:02:15.184Z"
   },
   {
    "duration": 32,
    "start_time": "2023-04-04T13:02:15.441Z"
   },
   {
    "duration": 167,
    "start_time": "2023-04-04T13:17:36.461Z"
   },
   {
    "duration": 4,
    "start_time": "2023-04-04T13:21:32.536Z"
   },
   {
    "duration": 60,
    "start_time": "2023-04-04T13:21:40.017Z"
   },
   {
    "duration": 70,
    "start_time": "2023-04-04T13:22:19.444Z"
   },
   {
    "duration": 180,
    "start_time": "2023-04-04T13:22:38.490Z"
   },
   {
    "duration": 91,
    "start_time": "2023-04-04T13:22:41.978Z"
   },
   {
    "duration": 68,
    "start_time": "2023-04-04T13:22:47.893Z"
   },
   {
    "duration": 5668,
    "start_time": "2023-04-04T13:23:47.312Z"
   },
   {
    "duration": 5631,
    "start_time": "2023-04-04T13:23:59.936Z"
   },
   {
    "duration": 8,
    "start_time": "2023-04-04T13:24:39.507Z"
   },
   {
    "duration": 1240,
    "start_time": "2023-04-04T13:26:07.201Z"
   },
   {
    "duration": 56,
    "start_time": "2023-04-04T13:26:08.444Z"
   },
   {
    "duration": 33,
    "start_time": "2023-04-04T13:26:08.505Z"
   },
   {
    "duration": 18,
    "start_time": "2023-04-04T13:26:08.539Z"
   },
   {
    "duration": 28,
    "start_time": "2023-04-04T13:26:08.560Z"
   },
   {
    "duration": 11,
    "start_time": "2023-04-04T13:26:08.594Z"
   },
   {
    "duration": 29,
    "start_time": "2023-04-04T13:26:08.612Z"
   },
   {
    "duration": 5,
    "start_time": "2023-04-04T13:26:08.643Z"
   },
   {
    "duration": 4,
    "start_time": "2023-04-04T13:26:08.650Z"
   },
   {
    "duration": 28,
    "start_time": "2023-04-04T13:26:08.656Z"
   },
   {
    "duration": 20,
    "start_time": "2023-04-04T13:26:08.686Z"
   },
   {
    "duration": 14,
    "start_time": "2023-04-04T13:26:08.709Z"
   },
   {
    "duration": 27,
    "start_time": "2023-04-04T13:26:08.725Z"
   },
   {
    "duration": 4,
    "start_time": "2023-04-04T13:26:08.755Z"
   },
   {
    "duration": 27,
    "start_time": "2023-04-04T13:26:08.761Z"
   },
   {
    "duration": 5,
    "start_time": "2023-04-04T13:26:08.794Z"
   },
   {
    "duration": 7,
    "start_time": "2023-04-04T13:26:08.801Z"
   },
   {
    "duration": 9,
    "start_time": "2023-04-04T13:26:08.810Z"
   },
   {
    "duration": 22,
    "start_time": "2023-04-04T13:26:08.821Z"
   },
   {
    "duration": 39,
    "start_time": "2023-04-04T13:26:08.844Z"
   },
   {
    "duration": 29,
    "start_time": "2023-04-04T13:26:08.890Z"
   },
   {
    "duration": 5,
    "start_time": "2023-04-04T13:26:08.921Z"
   },
   {
    "duration": 41,
    "start_time": "2023-04-04T13:26:08.927Z"
   },
   {
    "duration": 758,
    "start_time": "2023-04-04T13:26:08.974Z"
   },
   {
    "duration": 61,
    "start_time": "2023-04-04T13:26:09.734Z"
   },
   {
    "duration": 81,
    "start_time": "2023-04-04T13:26:09.800Z"
   },
   {
    "duration": 31,
    "start_time": "2023-04-04T13:26:09.883Z"
   },
   {
    "duration": 115,
    "start_time": "2023-04-04T13:26:09.969Z"
   },
   {
    "duration": 1213,
    "start_time": "2023-04-04T13:26:20.891Z"
   },
   {
    "duration": 35,
    "start_time": "2023-04-04T13:26:22.106Z"
   },
   {
    "duration": 23,
    "start_time": "2023-04-04T13:26:22.142Z"
   },
   {
    "duration": 29,
    "start_time": "2023-04-04T13:26:22.171Z"
   },
   {
    "duration": 12,
    "start_time": "2023-04-04T13:26:22.203Z"
   },
   {
    "duration": 4,
    "start_time": "2023-04-04T13:26:22.217Z"
   },
   {
    "duration": 23,
    "start_time": "2023-04-04T13:26:22.222Z"
   },
   {
    "duration": 5,
    "start_time": "2023-04-04T13:26:22.246Z"
   },
   {
    "duration": 19,
    "start_time": "2023-04-04T13:26:22.252Z"
   },
   {
    "duration": 5,
    "start_time": "2023-04-04T13:26:22.273Z"
   },
   {
    "duration": 18,
    "start_time": "2023-04-04T13:26:22.280Z"
   },
   {
    "duration": 13,
    "start_time": "2023-04-04T13:26:22.305Z"
   },
   {
    "duration": 9,
    "start_time": "2023-04-04T13:26:22.320Z"
   },
   {
    "duration": 3,
    "start_time": "2023-04-04T13:26:22.332Z"
   },
   {
    "duration": 9,
    "start_time": "2023-04-04T13:26:22.337Z"
   },
   {
    "duration": 37,
    "start_time": "2023-04-04T13:26:22.347Z"
   },
   {
    "duration": 14,
    "start_time": "2023-04-04T13:26:22.385Z"
   },
   {
    "duration": 25,
    "start_time": "2023-04-04T13:26:22.404Z"
   },
   {
    "duration": 22,
    "start_time": "2023-04-04T13:26:22.430Z"
   },
   {
    "duration": 26,
    "start_time": "2023-04-04T13:26:22.453Z"
   },
   {
    "duration": 25,
    "start_time": "2023-04-04T13:26:22.481Z"
   },
   {
    "duration": 5,
    "start_time": "2023-04-04T13:26:22.507Z"
   },
   {
    "duration": 44,
    "start_time": "2023-04-04T13:26:22.513Z"
   },
   {
    "duration": 755,
    "start_time": "2023-04-04T13:26:22.558Z"
   },
   {
    "duration": 53,
    "start_time": "2023-04-04T13:26:23.314Z"
   },
   {
    "duration": 12,
    "start_time": "2023-04-04T13:26:23.371Z"
   },
   {
    "duration": 123,
    "start_time": "2023-04-04T13:26:23.385Z"
   },
   {
    "duration": 132,
    "start_time": "2023-04-04T13:26:23.566Z"
   },
   {
    "duration": 262,
    "start_time": "2023-04-04T13:26:23.706Z"
   },
   {
    "duration": 0,
    "start_time": "2023-04-04T13:26:23.972Z"
   },
   {
    "duration": 1485,
    "start_time": "2023-04-04T13:26:35.329Z"
   },
   {
    "duration": 32,
    "start_time": "2023-04-04T13:26:47.344Z"
   },
   {
    "duration": 22,
    "start_time": "2023-04-04T13:27:52.016Z"
   },
   {
    "duration": 253,
    "start_time": "2023-04-04T13:28:24.958Z"
   },
   {
    "duration": 547,
    "start_time": "2023-04-04T13:29:10.437Z"
   },
   {
    "duration": 161,
    "start_time": "2023-04-04T13:29:42.649Z"
   },
   {
    "duration": 13,
    "start_time": "2023-04-04T13:30:16.099Z"
   },
   {
    "duration": 291,
    "start_time": "2023-04-04T13:30:42.077Z"
   },
   {
    "duration": 247,
    "start_time": "2023-04-04T13:32:14.000Z"
   },
   {
    "duration": 244,
    "start_time": "2023-04-04T13:32:19.404Z"
   },
   {
    "duration": 26,
    "start_time": "2023-04-04T13:37:01.791Z"
   },
   {
    "duration": 731,
    "start_time": "2023-04-04T13:37:16.688Z"
   },
   {
    "duration": 34,
    "start_time": "2023-04-04T13:37:32.224Z"
   },
   {
    "duration": 4,
    "start_time": "2023-04-04T13:39:01.138Z"
   },
   {
    "duration": 26952,
    "start_time": "2023-04-04T13:39:31.383Z"
   },
   {
    "duration": 2675,
    "start_time": "2023-04-04T13:40:00.539Z"
   },
   {
    "duration": 11128,
    "start_time": "2023-04-04T13:40:11.088Z"
   },
   {
    "duration": 25,
    "start_time": "2023-04-04T13:42:43.734Z"
   },
   {
    "duration": 40948,
    "start_time": "2023-04-04T13:43:15.099Z"
   },
   {
    "duration": 5,
    "start_time": "2023-04-04T13:49:04.851Z"
   },
   {
    "duration": 4,
    "start_time": "2023-04-04T13:49:39.989Z"
   },
   {
    "duration": 34,
    "start_time": "2023-04-04T13:57:04.322Z"
   },
   {
    "duration": 33,
    "start_time": "2023-04-04T13:57:13.510Z"
   },
   {
    "duration": 9,
    "start_time": "2023-04-04T14:01:41.707Z"
   },
   {
    "duration": 12,
    "start_time": "2023-04-04T14:03:10.879Z"
   },
   {
    "duration": 11,
    "start_time": "2023-04-04T14:03:56.421Z"
   },
   {
    "duration": 8,
    "start_time": "2023-04-04T14:04:09.947Z"
   },
   {
    "duration": 721,
    "start_time": "2023-04-04T14:27:53.019Z"
   },
   {
    "duration": 9,
    "start_time": "2023-04-04T14:28:12.901Z"
   },
   {
    "duration": 53,
    "start_time": "2023-04-04T14:28:31.086Z"
   },
   {
    "duration": 624,
    "start_time": "2023-04-04T14:30:42.259Z"
   },
   {
    "duration": 10,
    "start_time": "2023-04-04T14:30:59.893Z"
   },
   {
    "duration": 14,
    "start_time": "2023-04-04T14:31:20.818Z"
   },
   {
    "duration": 137,
    "start_time": "2023-04-04T14:32:11.779Z"
   },
   {
    "duration": 282,
    "start_time": "2023-04-04T14:33:57.819Z"
   },
   {
    "duration": 1668,
    "start_time": "2023-04-05T18:48:50.546Z"
   },
   {
    "duration": 80,
    "start_time": "2023-04-05T18:48:52.216Z"
   },
   {
    "duration": 21,
    "start_time": "2023-04-05T18:48:52.298Z"
   },
   {
    "duration": 24,
    "start_time": "2023-04-05T18:48:52.321Z"
   },
   {
    "duration": 16,
    "start_time": "2023-04-05T18:48:52.347Z"
   },
   {
    "duration": 6,
    "start_time": "2023-04-05T18:48:52.365Z"
   },
   {
    "duration": 31,
    "start_time": "2023-04-05T18:48:52.373Z"
   },
   {
    "duration": 5,
    "start_time": "2023-04-05T18:48:52.406Z"
   },
   {
    "duration": 32,
    "start_time": "2023-04-05T18:48:52.413Z"
   },
   {
    "duration": 36,
    "start_time": "2023-04-05T18:48:52.448Z"
   },
   {
    "duration": 15,
    "start_time": "2023-04-05T18:48:52.486Z"
   },
   {
    "duration": 36,
    "start_time": "2023-04-05T18:48:52.503Z"
   },
   {
    "duration": 10,
    "start_time": "2023-04-05T18:48:52.542Z"
   },
   {
    "duration": 8,
    "start_time": "2023-04-05T18:48:52.555Z"
   },
   {
    "duration": 17,
    "start_time": "2023-04-05T18:48:52.565Z"
   },
   {
    "duration": 8,
    "start_time": "2023-04-05T18:48:52.584Z"
   },
   {
    "duration": 29,
    "start_time": "2023-04-05T18:48:52.594Z"
   },
   {
    "duration": 17,
    "start_time": "2023-04-05T18:48:52.625Z"
   },
   {
    "duration": 34,
    "start_time": "2023-04-05T18:48:52.644Z"
   },
   {
    "duration": 20,
    "start_time": "2023-04-05T18:48:52.680Z"
   },
   {
    "duration": 40,
    "start_time": "2023-04-05T18:48:52.702Z"
   },
   {
    "duration": 47,
    "start_time": "2023-04-05T18:48:52.745Z"
   },
   {
    "duration": 13,
    "start_time": "2023-04-05T18:48:52.794Z"
   },
   {
    "duration": 42,
    "start_time": "2023-04-05T18:48:52.810Z"
   },
   {
    "duration": 743,
    "start_time": "2023-04-05T18:48:52.854Z"
   },
   {
    "duration": 11,
    "start_time": "2023-04-05T18:48:53.599Z"
   },
   {
    "duration": 72,
    "start_time": "2023-04-05T18:48:53.612Z"
   },
   {
    "duration": 259,
    "start_time": "2023-04-05T18:48:53.687Z"
   },
   {
    "duration": 98,
    "start_time": "2023-04-05T18:48:53.949Z"
   },
   {
    "duration": 92,
    "start_time": "2023-04-05T18:48:54.049Z"
   },
   {
    "duration": 267,
    "start_time": "2023-04-05T18:48:54.144Z"
   },
   {
    "duration": 392,
    "start_time": "2023-04-05T18:48:54.413Z"
   },
   {
    "duration": 7,
    "start_time": "2023-04-05T18:48:54.807Z"
   },
   {
    "duration": 226,
    "start_time": "2023-04-05T18:48:54.815Z"
   },
   {
    "duration": 36,
    "start_time": "2023-04-05T18:49:14.200Z"
   },
   {
    "duration": 6,
    "start_time": "2023-04-05T18:50:07.153Z"
   },
   {
    "duration": 10,
    "start_time": "2023-04-05T18:50:07.753Z"
   },
   {
    "duration": 129,
    "start_time": "2023-04-05T18:52:03.153Z"
   },
   {
    "duration": 7,
    "start_time": "2023-04-05T18:52:13.492Z"
   },
   {
    "duration": 5,
    "start_time": "2023-04-05T18:52:20.722Z"
   },
   {
    "duration": 7,
    "start_time": "2023-04-05T18:52:25.641Z"
   },
   {
    "duration": 4,
    "start_time": "2023-04-05T18:56:36.979Z"
   },
   {
    "duration": 15,
    "start_time": "2023-04-05T18:57:38.740Z"
   },
   {
    "duration": 8,
    "start_time": "2023-04-05T18:57:53.760Z"
   },
   {
    "duration": 11,
    "start_time": "2023-04-05T18:57:57.712Z"
   },
   {
    "duration": 6,
    "start_time": "2023-04-05T18:57:58.217Z"
   },
   {
    "duration": 55,
    "start_time": "2023-04-05T19:12:41.446Z"
   },
   {
    "duration": 46,
    "start_time": "2023-04-05T19:14:12.357Z"
   },
   {
    "duration": 967,
    "start_time": "2023-04-05T19:14:15.465Z"
   },
   {
    "duration": 581,
    "start_time": "2023-04-05T19:15:08.760Z"
   },
   {
    "duration": 45,
    "start_time": "2023-04-05T19:18:45.583Z"
   },
   {
    "duration": 8,
    "start_time": "2023-04-05T19:18:55.509Z"
   },
   {
    "duration": 954,
    "start_time": "2023-04-05T19:19:11.751Z"
   },
   {
    "duration": 67,
    "start_time": "2023-04-05T19:19:45.699Z"
   },
   {
    "duration": 424,
    "start_time": "2023-04-05T19:20:25.117Z"
   },
   {
    "duration": 13,
    "start_time": "2023-04-05T19:20:39.528Z"
   },
   {
    "duration": 35065,
    "start_time": "2023-04-05T19:30:45.487Z"
   },
   {
    "duration": 26288,
    "start_time": "2023-04-05T19:32:06.622Z"
   },
   {
    "duration": 68719,
    "start_time": "2023-04-05T19:33:03.029Z"
   },
   {
    "duration": 5977,
    "start_time": "2023-04-05T19:35:38.242Z"
   },
   {
    "duration": 1445,
    "start_time": "2023-04-05T19:36:35.970Z"
   },
   {
    "duration": 40,
    "start_time": "2023-04-05T19:36:37.417Z"
   },
   {
    "duration": 21,
    "start_time": "2023-04-05T19:36:37.459Z"
   },
   {
    "duration": 15,
    "start_time": "2023-04-05T19:36:37.482Z"
   },
   {
    "duration": 13,
    "start_time": "2023-04-05T19:36:37.499Z"
   },
   {
    "duration": 5,
    "start_time": "2023-04-05T19:36:37.540Z"
   },
   {
    "duration": 22,
    "start_time": "2023-04-05T19:36:37.548Z"
   },
   {
    "duration": 5,
    "start_time": "2023-04-05T19:36:37.572Z"
   },
   {
    "duration": 5,
    "start_time": "2023-04-05T19:36:37.579Z"
   },
   {
    "duration": 4,
    "start_time": "2023-04-05T19:36:37.587Z"
   },
   {
    "duration": 49,
    "start_time": "2023-04-05T19:36:37.593Z"
   },
   {
    "duration": 20,
    "start_time": "2023-04-05T19:36:37.644Z"
   },
   {
    "duration": 13,
    "start_time": "2023-04-05T19:36:37.666Z"
   },
   {
    "duration": 4,
    "start_time": "2023-04-05T19:36:37.681Z"
   },
   {
    "duration": 6,
    "start_time": "2023-04-05T19:36:37.686Z"
   },
   {
    "duration": 4,
    "start_time": "2023-04-05T19:36:37.694Z"
   },
   {
    "duration": 5,
    "start_time": "2023-04-05T19:36:37.699Z"
   },
   {
    "duration": 12,
    "start_time": "2023-04-05T19:36:37.741Z"
   },
   {
    "duration": 27,
    "start_time": "2023-04-05T19:36:37.755Z"
   },
   {
    "duration": 20,
    "start_time": "2023-04-05T19:36:37.784Z"
   },
   {
    "duration": 52,
    "start_time": "2023-04-05T19:36:37.807Z"
   },
   {
    "duration": 36,
    "start_time": "2023-04-05T19:36:37.862Z"
   },
   {
    "duration": 10,
    "start_time": "2023-04-05T19:36:37.900Z"
   },
   {
    "duration": 34,
    "start_time": "2023-04-05T19:36:37.911Z"
   },
   {
    "duration": 726,
    "start_time": "2023-04-05T19:36:37.946Z"
   },
   {
    "duration": 10,
    "start_time": "2023-04-05T19:36:38.673Z"
   },
   {
    "duration": 75,
    "start_time": "2023-04-05T19:36:38.686Z"
   },
   {
    "duration": 187,
    "start_time": "2023-04-05T19:36:38.764Z"
   },
   {
    "duration": 98,
    "start_time": "2023-04-05T19:36:38.954Z"
   },
   {
    "duration": 14,
    "start_time": "2023-04-05T19:36:39.055Z"
   },
   {
    "duration": 272,
    "start_time": "2023-04-05T19:36:39.141Z"
   },
   {
    "duration": 354,
    "start_time": "2023-04-05T19:36:39.415Z"
   },
   {
    "duration": 6,
    "start_time": "2023-04-05T19:36:39.771Z"
   },
   {
    "duration": 5,
    "start_time": "2023-04-05T19:36:39.779Z"
   },
   {
    "duration": 13,
    "start_time": "2023-04-05T19:36:39.786Z"
   },
   {
    "duration": 5,
    "start_time": "2023-04-05T19:36:39.801Z"
   },
   {
    "duration": 7,
    "start_time": "2023-04-05T19:36:39.807Z"
   },
   {
    "duration": 31,
    "start_time": "2023-04-05T19:36:39.816Z"
   },
   {
    "duration": 5,
    "start_time": "2023-04-05T19:36:39.849Z"
   },
   {
    "duration": 52,
    "start_time": "2023-04-05T19:36:39.856Z"
   },
   {
    "duration": 8,
    "start_time": "2023-04-05T19:36:39.909Z"
   },
   {
    "duration": 979,
    "start_time": "2023-04-05T19:36:39.919Z"
   },
   {
    "duration": 65,
    "start_time": "2023-04-05T19:36:40.900Z"
   },
   {
    "duration": 684,
    "start_time": "2023-04-05T19:36:40.967Z"
   },
   {
    "duration": 11,
    "start_time": "2023-04-05T19:36:41.742Z"
   },
   {
    "duration": 26681,
    "start_time": "2023-04-05T19:36:41.846Z"
   },
   {
    "duration": 66904,
    "start_time": "2023-04-05T19:37:19.520Z"
   },
   {
    "duration": 26612,
    "start_time": "2023-04-05T19:38:33.241Z"
   },
   {
    "duration": 26727,
    "start_time": "2023-04-05T19:39:50.568Z"
   },
   {
    "duration": 226644,
    "start_time": "2023-04-05T19:41:13.478Z"
   },
   {
    "duration": 104616,
    "start_time": "2023-04-05T19:45:11.346Z"
   },
   {
    "duration": 321,
    "start_time": "2023-04-05T19:50:04.067Z"
   },
   {
    "duration": 340,
    "start_time": "2023-04-05T19:50:36.344Z"
   },
   {
    "duration": 347,
    "start_time": "2023-04-05T19:51:05.976Z"
   },
   {
    "duration": 29544,
    "start_time": "2023-04-05T19:56:22.932Z"
   },
   {
    "duration": 114579,
    "start_time": "2023-04-05T19:57:03.186Z"
   },
   {
    "duration": 339,
    "start_time": "2023-04-05T20:00:06.973Z"
   },
   {
    "duration": 2144,
    "start_time": "2023-04-06T18:10:55.797Z"
   },
   {
    "duration": 84,
    "start_time": "2023-04-06T18:10:57.943Z"
   },
   {
    "duration": 33,
    "start_time": "2023-04-06T18:10:58.029Z"
   },
   {
    "duration": 17,
    "start_time": "2023-04-06T18:10:58.070Z"
   },
   {
    "duration": 14,
    "start_time": "2023-04-06T18:10:58.090Z"
   },
   {
    "duration": 7,
    "start_time": "2023-04-06T18:10:58.107Z"
   },
   {
    "duration": 27,
    "start_time": "2023-04-06T18:10:58.117Z"
   },
   {
    "duration": 6,
    "start_time": "2023-04-06T18:10:58.146Z"
   },
   {
    "duration": 6,
    "start_time": "2023-04-06T18:10:58.154Z"
   },
   {
    "duration": 6,
    "start_time": "2023-04-06T18:10:58.163Z"
   },
   {
    "duration": 21,
    "start_time": "2023-04-06T18:10:58.202Z"
   },
   {
    "duration": 37,
    "start_time": "2023-04-06T18:10:58.226Z"
   },
   {
    "duration": 25,
    "start_time": "2023-04-06T18:10:58.266Z"
   },
   {
    "duration": 5,
    "start_time": "2023-04-06T18:10:58.293Z"
   },
   {
    "duration": 15,
    "start_time": "2023-04-06T18:10:58.301Z"
   },
   {
    "duration": 11,
    "start_time": "2023-04-06T18:10:58.319Z"
   },
   {
    "duration": 17,
    "start_time": "2023-04-06T18:10:58.332Z"
   },
   {
    "duration": 35,
    "start_time": "2023-04-06T18:10:58.351Z"
   },
   {
    "duration": 54,
    "start_time": "2023-04-06T18:10:58.388Z"
   },
   {
    "duration": 28,
    "start_time": "2023-04-06T18:10:58.445Z"
   },
   {
    "duration": 41,
    "start_time": "2023-04-06T18:10:58.475Z"
   },
   {
    "duration": 50,
    "start_time": "2023-04-06T18:10:58.518Z"
   },
   {
    "duration": 32,
    "start_time": "2023-04-06T18:10:58.571Z"
   },
   {
    "duration": 35,
    "start_time": "2023-04-06T18:10:58.606Z"
   },
   {
    "duration": 1250,
    "start_time": "2023-04-06T18:10:58.644Z"
   },
   {
    "duration": 17,
    "start_time": "2023-04-06T18:10:59.898Z"
   },
   {
    "duration": 86,
    "start_time": "2023-04-06T18:10:59.917Z"
   },
   {
    "duration": 115,
    "start_time": "2023-04-06T18:11:00.011Z"
   },
   {
    "duration": 86,
    "start_time": "2023-04-06T18:11:00.128Z"
   },
   {
    "duration": 94,
    "start_time": "2023-04-06T18:11:00.217Z"
   },
   {
    "duration": 339,
    "start_time": "2023-04-06T18:11:00.314Z"
   },
   {
    "duration": 325,
    "start_time": "2023-04-06T18:11:00.655Z"
   },
   {
    "duration": 6,
    "start_time": "2023-04-06T18:11:00.983Z"
   },
   {
    "duration": 16,
    "start_time": "2023-04-06T18:11:00.991Z"
   },
   {
    "duration": 68,
    "start_time": "2023-04-06T18:11:01.012Z"
   },
   {
    "duration": 37,
    "start_time": "2023-04-06T18:11:01.083Z"
   },
   {
    "duration": 25,
    "start_time": "2023-04-06T18:11:01.122Z"
   },
   {
    "duration": 44,
    "start_time": "2023-04-06T18:11:01.150Z"
   },
   {
    "duration": 29,
    "start_time": "2023-04-06T18:11:01.196Z"
   },
   {
    "duration": 65,
    "start_time": "2023-04-06T18:11:01.227Z"
   },
   {
    "duration": 12,
    "start_time": "2023-04-06T18:11:01.294Z"
   },
   {
    "duration": 993,
    "start_time": "2023-04-06T18:11:01.308Z"
   },
   {
    "duration": 73,
    "start_time": "2023-04-06T18:11:02.303Z"
   },
   {
    "duration": 432,
    "start_time": "2023-04-06T18:11:02.379Z"
   },
   {
    "duration": 89,
    "start_time": "2023-04-06T18:11:02.814Z"
   },
   {
    "duration": 19944,
    "start_time": "2023-04-06T18:11:02.910Z"
   },
   {
    "duration": 338,
    "start_time": "2023-04-06T18:11:22.856Z"
   },
   {
    "duration": 52,
    "start_time": "2023-04-06T18:11:27.272Z"
   },
   {
    "duration": 371,
    "start_time": "2023-04-06T18:11:34.008Z"
   },
   {
    "duration": 42,
    "start_time": "2023-04-06T18:11:44.113Z"
   },
   {
    "duration": 243,
    "start_time": "2023-04-06T18:12:08.271Z"
   },
   {
    "duration": 148,
    "start_time": "2023-04-06T18:12:11.315Z"
   },
   {
    "duration": 168,
    "start_time": "2023-04-06T18:12:13.989Z"
   },
   {
    "duration": 140,
    "start_time": "2023-04-06T18:12:16.301Z"
   },
   {
    "duration": 37,
    "start_time": "2023-04-06T18:12:19.325Z"
   },
   {
    "duration": 123,
    "start_time": "2023-04-06T18:12:22.881Z"
   },
   {
    "duration": 329,
    "start_time": "2023-04-06T18:12:26.773Z"
   },
   {
    "duration": 47,
    "start_time": "2023-04-06T18:12:31.596Z"
   },
   {
    "duration": 37,
    "start_time": "2023-04-06T18:12:53.163Z"
   },
   {
    "duration": 54,
    "start_time": "2023-04-06T18:13:06.187Z"
   },
   {
    "duration": 364,
    "start_time": "2023-04-06T18:13:36.903Z"
   },
   {
    "duration": 433,
    "start_time": "2023-04-06T18:13:42.061Z"
   },
   {
    "duration": 471,
    "start_time": "2023-04-06T18:14:11.594Z"
   },
   {
    "duration": 416,
    "start_time": "2023-04-06T18:14:36.317Z"
   },
   {
    "duration": 340,
    "start_time": "2023-04-06T18:14:59.147Z"
   },
   {
    "duration": 338,
    "start_time": "2023-04-06T18:15:02.214Z"
   },
   {
    "duration": 327,
    "start_time": "2023-04-06T18:15:36.057Z"
   },
   {
    "duration": 409,
    "start_time": "2023-04-06T18:15:44.409Z"
   },
   {
    "duration": 316,
    "start_time": "2023-04-06T18:15:48.377Z"
   },
   {
    "duration": 301,
    "start_time": "2023-04-06T18:15:55.892Z"
   },
   {
    "duration": 324,
    "start_time": "2023-04-06T18:15:59.687Z"
   },
   {
    "duration": 380,
    "start_time": "2023-04-06T18:16:02.112Z"
   },
   {
    "duration": 330,
    "start_time": "2023-04-06T18:16:05.181Z"
   },
   {
    "duration": 102501,
    "start_time": "2023-04-06T18:16:23.003Z"
   },
   {
    "duration": 345,
    "start_time": "2023-04-06T18:18:05.506Z"
   },
   {
    "duration": 40676,
    "start_time": "2023-04-06T18:19:15.319Z"
   },
   {
    "duration": 387,
    "start_time": "2023-04-06T18:20:16.496Z"
   },
   {
    "duration": 22633,
    "start_time": "2023-04-06T18:20:27.908Z"
   },
   {
    "duration": 339,
    "start_time": "2023-04-06T18:21:16.090Z"
   },
   {
    "duration": 398,
    "start_time": "2023-04-06T18:21:19.605Z"
   },
   {
    "duration": 384,
    "start_time": "2023-04-06T18:21:22.830Z"
   },
   {
    "duration": 369,
    "start_time": "2023-04-06T18:21:26.123Z"
   },
   {
    "duration": 377,
    "start_time": "2023-04-06T18:21:31.083Z"
   },
   {
    "duration": 372,
    "start_time": "2023-04-06T18:21:35.401Z"
   },
   {
    "duration": 379,
    "start_time": "2023-04-06T18:21:39.866Z"
   },
   {
    "duration": 383,
    "start_time": "2023-04-06T18:21:42.965Z"
   },
   {
    "duration": 391,
    "start_time": "2023-04-06T18:21:46.262Z"
   },
   {
    "duration": 404,
    "start_time": "2023-04-06T18:21:50.057Z"
   },
   {
    "duration": 390,
    "start_time": "2023-04-06T18:21:53.024Z"
   },
   {
    "duration": 471,
    "start_time": "2023-04-06T18:21:56.949Z"
   },
   {
    "duration": 390,
    "start_time": "2023-04-06T18:22:00.446Z"
   },
   {
    "duration": 387,
    "start_time": "2023-04-06T18:22:03.145Z"
   },
   {
    "duration": 383,
    "start_time": "2023-04-06T18:22:05.325Z"
   },
   {
    "duration": 389,
    "start_time": "2023-04-06T18:22:09.804Z"
   },
   {
    "duration": 398,
    "start_time": "2023-04-06T18:22:12.446Z"
   },
   {
    "duration": 388,
    "start_time": "2023-04-06T18:22:15.699Z"
   },
   {
    "duration": 404,
    "start_time": "2023-04-06T18:22:19.951Z"
   },
   {
    "duration": 393,
    "start_time": "2023-04-06T18:22:23.387Z"
   },
   {
    "duration": 395,
    "start_time": "2023-04-06T18:22:26.126Z"
   },
   {
    "duration": 155017,
    "start_time": "2023-04-06T18:22:54.491Z"
   },
   {
    "duration": 398,
    "start_time": "2023-04-06T18:25:29.510Z"
   },
   {
    "duration": 7965,
    "start_time": "2023-04-06T18:25:55.184Z"
   },
   {
    "duration": 11427,
    "start_time": "2023-04-06T18:26:12.263Z"
   },
   {
    "duration": 180585,
    "start_time": "2023-04-06T18:26:27.206Z"
   },
   {
    "duration": 14,
    "start_time": "2023-04-06T18:29:31.765Z"
   },
   {
    "duration": 36899,
    "start_time": "2023-04-06T18:30:09.685Z"
   },
   {
    "duration": 258006,
    "start_time": "2023-04-06T18:30:54.712Z"
   },
   {
    "duration": 7239,
    "start_time": "2023-04-06T18:35:15.181Z"
   },
   {
    "duration": 7722,
    "start_time": "2023-04-06T18:35:56.333Z"
   },
   {
    "duration": 13310,
    "start_time": "2023-04-06T18:36:25.052Z"
   },
   {
    "duration": 174199,
    "start_time": "2023-04-06T18:37:15.611Z"
   },
   {
    "duration": 17254,
    "start_time": "2023-04-06T18:40:13.482Z"
   },
   {
    "duration": 8300,
    "start_time": "2023-04-06T18:40:44.114Z"
   },
   {
    "duration": 7903,
    "start_time": "2023-04-06T18:41:05.069Z"
   },
   {
    "duration": 21141,
    "start_time": "2023-04-06T18:42:35.100Z"
   },
   {
    "duration": 20223,
    "start_time": "2023-04-06T18:43:15.818Z"
   },
   {
    "duration": 53245,
    "start_time": "2023-04-06T18:43:43.233Z"
   },
   {
    "duration": 32985,
    "start_time": "2023-04-06T18:45:10.138Z"
   },
   {
    "duration": 57,
    "start_time": "2023-04-06T18:48:17.096Z"
   },
   {
    "duration": 78004,
    "start_time": "2023-04-06T18:48:25.442Z"
   },
   {
    "duration": 686,
    "start_time": "2023-04-06T18:50:12.805Z"
   },
   {
    "duration": 321,
    "start_time": "2023-04-06T18:50:18.412Z"
   },
   {
    "duration": 15545,
    "start_time": "2023-04-06T18:50:56.149Z"
   },
   {
    "duration": 490,
    "start_time": "2023-04-06T18:51:29.585Z"
   },
   {
    "duration": 953,
    "start_time": "2023-04-06T18:51:58.142Z"
   },
   {
    "duration": 15585,
    "start_time": "2023-04-06T18:52:21.463Z"
   },
   {
    "duration": 2636,
    "start_time": "2023-04-06T18:53:08.356Z"
   },
   {
    "duration": 293127,
    "start_time": "2023-04-06T18:54:25.739Z"
   },
   {
    "duration": 4,
    "start_time": "2023-04-06T19:00:27.814Z"
   },
   {
    "duration": 18819,
    "start_time": "2023-04-06T19:00:52.891Z"
   },
   {
    "duration": 16821,
    "start_time": "2023-04-06T19:03:23.442Z"
   },
   {
    "duration": 953,
    "start_time": "2023-04-06T19:04:34.748Z"
   },
   {
    "duration": 18689,
    "start_time": "2023-04-06T19:04:52.683Z"
   },
   {
    "duration": 48523,
    "start_time": "2023-04-06T19:05:17.930Z"
   },
   {
    "duration": 32384,
    "start_time": "2023-04-06T19:07:02.559Z"
   },
   {
    "duration": 50719,
    "start_time": "2023-04-06T19:07:45.036Z"
   },
   {
    "duration": 65740,
    "start_time": "2023-04-06T19:08:44.386Z"
   },
   {
    "duration": 55230,
    "start_time": "2023-04-06T19:10:05.653Z"
   },
   {
    "duration": 50668,
    "start_time": "2023-04-06T19:11:15.112Z"
   },
   {
    "duration": 113812,
    "start_time": "2023-04-06T19:12:16.239Z"
   },
   {
    "duration": 96145,
    "start_time": "2023-04-06T19:14:18.700Z"
   },
   {
    "duration": 16648,
    "start_time": "2023-04-06T19:16:04.369Z"
   },
   {
    "duration": 7691,
    "start_time": "2023-04-06T19:16:25.997Z"
   },
   {
    "duration": 49101,
    "start_time": "2023-04-06T19:16:38.959Z"
   },
   {
    "duration": 15994,
    "start_time": "2023-04-06T19:17:50.599Z"
   },
   {
    "duration": 164336,
    "start_time": "2023-04-06T19:18:14.069Z"
   },
   {
    "duration": 19410,
    "start_time": "2023-04-06T19:21:10.558Z"
   },
   {
    "duration": 1511,
    "start_time": "2023-04-06T19:22:02.432Z"
   },
   {
    "duration": 38,
    "start_time": "2023-04-06T19:22:03.945Z"
   },
   {
    "duration": 29,
    "start_time": "2023-04-06T19:22:03.984Z"
   },
   {
    "duration": 33,
    "start_time": "2023-04-06T19:22:04.016Z"
   },
   {
    "duration": 27,
    "start_time": "2023-04-06T19:22:04.052Z"
   },
   {
    "duration": 8,
    "start_time": "2023-04-06T19:22:04.082Z"
   },
   {
    "duration": 32,
    "start_time": "2023-04-06T19:22:04.093Z"
   },
   {
    "duration": 6,
    "start_time": "2023-04-06T19:22:04.127Z"
   },
   {
    "duration": 11,
    "start_time": "2023-04-06T19:22:04.134Z"
   },
   {
    "duration": 19,
    "start_time": "2023-04-06T19:22:04.149Z"
   },
   {
    "duration": 25,
    "start_time": "2023-04-06T19:22:04.170Z"
   },
   {
    "duration": 28,
    "start_time": "2023-04-06T19:22:04.197Z"
   },
   {
    "duration": 17,
    "start_time": "2023-04-06T19:22:04.227Z"
   },
   {
    "duration": 6,
    "start_time": "2023-04-06T19:22:04.246Z"
   },
   {
    "duration": 11,
    "start_time": "2023-04-06T19:22:04.254Z"
   },
   {
    "duration": 4,
    "start_time": "2023-04-06T19:22:04.267Z"
   },
   {
    "duration": 17,
    "start_time": "2023-04-06T19:22:04.272Z"
   },
   {
    "duration": 18,
    "start_time": "2023-04-06T19:22:04.290Z"
   },
   {
    "duration": 37,
    "start_time": "2023-04-06T19:22:04.310Z"
   },
   {
    "duration": 75,
    "start_time": "2023-04-06T19:22:04.349Z"
   },
   {
    "duration": 20,
    "start_time": "2023-04-06T19:22:04.426Z"
   },
   {
    "duration": 37,
    "start_time": "2023-04-06T19:22:04.503Z"
   },
   {
    "duration": 66,
    "start_time": "2023-04-06T19:22:04.542Z"
   },
   {
    "duration": 10,
    "start_time": "2023-04-06T19:22:04.610Z"
   },
   {
    "duration": 1507,
    "start_time": "2023-04-06T19:22:04.622Z"
   },
   {
    "duration": 10,
    "start_time": "2023-04-06T19:22:06.131Z"
   },
   {
    "duration": 111,
    "start_time": "2023-04-06T19:22:06.143Z"
   },
   {
    "duration": 760,
    "start_time": "2023-04-06T19:22:06.258Z"
   },
   {
    "duration": 12,
    "start_time": "2023-04-06T19:22:07.104Z"
   },
   {
    "duration": 95,
    "start_time": "2023-04-06T19:22:07.118Z"
   },
   {
    "duration": 316,
    "start_time": "2023-04-06T19:22:07.227Z"
   },
   {
    "duration": 312,
    "start_time": "2023-04-06T19:22:07.545Z"
   },
   {
    "duration": 8,
    "start_time": "2023-04-06T19:22:07.858Z"
   },
   {
    "duration": 12,
    "start_time": "2023-04-06T19:22:07.867Z"
   },
   {
    "duration": 24,
    "start_time": "2023-04-06T19:22:07.881Z"
   },
   {
    "duration": 7,
    "start_time": "2023-04-06T19:22:07.908Z"
   },
   {
    "duration": 5,
    "start_time": "2023-04-06T19:22:07.917Z"
   },
   {
    "duration": 16,
    "start_time": "2023-04-06T19:22:07.924Z"
   },
   {
    "duration": 7,
    "start_time": "2023-04-06T19:22:07.942Z"
   },
   {
    "duration": 74,
    "start_time": "2023-04-06T19:22:07.951Z"
   },
   {
    "duration": 11,
    "start_time": "2023-04-06T19:22:08.028Z"
   },
   {
    "duration": 392,
    "start_time": "2023-04-06T19:22:08.041Z"
   },
   {
    "duration": 0,
    "start_time": "2023-04-06T19:22:08.435Z"
   },
   {
    "duration": 0,
    "start_time": "2023-04-06T19:22:08.436Z"
   },
   {
    "duration": 0,
    "start_time": "2023-04-06T19:22:08.438Z"
   },
   {
    "duration": 0,
    "start_time": "2023-04-06T19:22:08.439Z"
   },
   {
    "duration": 0,
    "start_time": "2023-04-06T19:22:08.441Z"
   },
   {
    "duration": 0,
    "start_time": "2023-04-06T19:22:08.442Z"
   },
   {
    "duration": 2030,
    "start_time": "2023-04-06T19:22:24.016Z"
   },
   {
    "duration": 35,
    "start_time": "2023-04-06T19:22:26.048Z"
   },
   {
    "duration": 21,
    "start_time": "2023-04-06T19:22:26.085Z"
   },
   {
    "duration": 13,
    "start_time": "2023-04-06T19:22:26.108Z"
   },
   {
    "duration": 11,
    "start_time": "2023-04-06T19:22:26.123Z"
   },
   {
    "duration": 4,
    "start_time": "2023-04-06T19:22:26.136Z"
   },
   {
    "duration": 26,
    "start_time": "2023-04-06T19:22:26.142Z"
   },
   {
    "duration": 38,
    "start_time": "2023-04-06T19:22:26.170Z"
   },
   {
    "duration": 5,
    "start_time": "2023-04-06T19:22:26.210Z"
   },
   {
    "duration": 11,
    "start_time": "2023-04-06T19:22:26.218Z"
   },
   {
    "duration": 15,
    "start_time": "2023-04-06T19:22:26.231Z"
   },
   {
    "duration": 15,
    "start_time": "2023-04-06T19:22:26.248Z"
   },
   {
    "duration": 49,
    "start_time": "2023-04-06T19:22:26.264Z"
   },
   {
    "duration": 8,
    "start_time": "2023-04-06T19:22:26.315Z"
   },
   {
    "duration": 14,
    "start_time": "2023-04-06T19:22:26.324Z"
   },
   {
    "duration": 5,
    "start_time": "2023-04-06T19:22:26.339Z"
   },
   {
    "duration": 9,
    "start_time": "2023-04-06T19:22:26.345Z"
   },
   {
    "duration": 13,
    "start_time": "2023-04-06T19:22:26.403Z"
   },
   {
    "duration": 85,
    "start_time": "2023-04-06T19:22:26.419Z"
   },
   {
    "duration": 26,
    "start_time": "2023-04-06T19:22:26.506Z"
   },
   {
    "duration": 75,
    "start_time": "2023-04-06T19:22:26.534Z"
   },
   {
    "duration": 94,
    "start_time": "2023-04-06T19:22:26.611Z"
   },
   {
    "duration": 12,
    "start_time": "2023-04-06T19:22:26.707Z"
   },
   {
    "duration": 9,
    "start_time": "2023-04-06T19:22:26.721Z"
   },
   {
    "duration": 1524,
    "start_time": "2023-04-06T19:22:26.732Z"
   },
   {
    "duration": 51,
    "start_time": "2023-04-06T19:22:28.257Z"
   },
   {
    "duration": 55,
    "start_time": "2023-04-06T19:22:28.310Z"
   },
   {
    "duration": 1239,
    "start_time": "2023-04-06T19:22:28.369Z"
   },
   {
    "duration": 94,
    "start_time": "2023-04-06T19:22:29.610Z"
   },
   {
    "duration": 96,
    "start_time": "2023-04-06T19:22:29.708Z"
   },
   {
    "duration": 262,
    "start_time": "2023-04-06T19:22:29.806Z"
   },
   {
    "duration": 377,
    "start_time": "2023-04-06T19:22:30.070Z"
   },
   {
    "duration": 8,
    "start_time": "2023-04-06T19:22:30.449Z"
   },
   {
    "duration": 55,
    "start_time": "2023-04-06T19:22:30.458Z"
   },
   {
    "duration": 44,
    "start_time": "2023-04-06T19:22:30.515Z"
   },
   {
    "duration": 18,
    "start_time": "2023-04-06T19:22:30.561Z"
   },
   {
    "duration": 31,
    "start_time": "2023-04-06T19:22:30.581Z"
   },
   {
    "duration": 41,
    "start_time": "2023-04-06T19:22:30.615Z"
   },
   {
    "duration": 16,
    "start_time": "2023-04-06T19:22:30.658Z"
   },
   {
    "duration": 89,
    "start_time": "2023-04-06T19:22:30.676Z"
   },
   {
    "duration": 7,
    "start_time": "2023-04-06T19:22:30.767Z"
   },
   {
    "duration": 5630,
    "start_time": "2023-04-06T19:22:30.776Z"
   },
   {
    "duration": 0,
    "start_time": "2023-04-06T19:22:36.408Z"
   },
   {
    "duration": 0,
    "start_time": "2023-04-06T19:22:36.409Z"
   },
   {
    "duration": 0,
    "start_time": "2023-04-06T19:22:36.410Z"
   },
   {
    "duration": 0,
    "start_time": "2023-04-06T19:22:36.411Z"
   },
   {
    "duration": 0,
    "start_time": "2023-04-06T19:22:36.412Z"
   },
   {
    "duration": 0,
    "start_time": "2023-04-06T19:22:36.414Z"
   },
   {
    "duration": 954,
    "start_time": "2023-04-06T19:22:53.426Z"
   },
   {
    "duration": 58,
    "start_time": "2023-04-06T19:22:55.800Z"
   },
   {
    "duration": 756,
    "start_time": "2023-04-06T19:22:59.359Z"
   },
   {
    "duration": 9,
    "start_time": "2023-04-06T19:23:00.248Z"
   },
   {
    "duration": 91,
    "start_time": "2023-04-06T19:23:04.314Z"
   },
   {
    "duration": 7486,
    "start_time": "2023-04-06T19:23:18.844Z"
   },
   {
    "duration": 1441,
    "start_time": "2023-04-06T19:25:14.734Z"
   },
   {
    "duration": 49,
    "start_time": "2023-04-06T19:25:16.176Z"
   },
   {
    "duration": 79,
    "start_time": "2023-04-06T19:25:16.227Z"
   },
   {
    "duration": 18,
    "start_time": "2023-04-06T19:25:16.309Z"
   },
   {
    "duration": 15,
    "start_time": "2023-04-06T19:25:16.329Z"
   },
   {
    "duration": 6,
    "start_time": "2023-04-06T19:25:16.402Z"
   },
   {
    "duration": 31,
    "start_time": "2023-04-06T19:25:16.411Z"
   },
   {
    "duration": 58,
    "start_time": "2023-04-06T19:25:16.444Z"
   },
   {
    "duration": 5,
    "start_time": "2023-04-06T19:25:16.504Z"
   },
   {
    "duration": 6,
    "start_time": "2023-04-06T19:25:16.513Z"
   },
   {
    "duration": 16,
    "start_time": "2023-04-06T19:25:16.521Z"
   },
   {
    "duration": 66,
    "start_time": "2023-04-06T19:25:16.539Z"
   },
   {
    "duration": 10,
    "start_time": "2023-04-06T19:25:16.607Z"
   },
   {
    "duration": 8,
    "start_time": "2023-04-06T19:25:16.619Z"
   },
   {
    "duration": 8,
    "start_time": "2023-04-06T19:25:16.628Z"
   },
   {
    "duration": 4,
    "start_time": "2023-04-06T19:25:16.638Z"
   },
   {
    "duration": 61,
    "start_time": "2023-04-06T19:25:16.643Z"
   },
   {
    "duration": 24,
    "start_time": "2023-04-06T19:25:16.706Z"
   },
   {
    "duration": 23,
    "start_time": "2023-04-06T19:25:16.732Z"
   },
   {
    "duration": 66,
    "start_time": "2023-04-06T19:25:16.756Z"
   },
   {
    "duration": 19,
    "start_time": "2023-04-06T19:25:16.824Z"
   },
   {
    "duration": 84,
    "start_time": "2023-04-06T19:25:16.845Z"
   },
   {
    "duration": 9,
    "start_time": "2023-04-06T19:25:16.931Z"
   },
   {
    "duration": 61,
    "start_time": "2023-04-06T19:25:16.942Z"
   },
   {
    "duration": 1439,
    "start_time": "2023-04-06T19:25:17.006Z"
   },
   {
    "duration": 10,
    "start_time": "2023-04-06T19:25:18.446Z"
   },
   {
    "duration": 68,
    "start_time": "2023-04-06T19:25:18.458Z"
   },
   {
    "duration": 86,
    "start_time": "2023-04-06T19:25:18.530Z"
   },
   {
    "duration": 12,
    "start_time": "2023-04-06T19:25:18.703Z"
   },
   {
    "duration": 92,
    "start_time": "2023-04-06T19:25:18.716Z"
   },
   {
    "duration": 322,
    "start_time": "2023-04-06T19:25:18.809Z"
   },
   {
    "duration": 334,
    "start_time": "2023-04-06T19:25:19.133Z"
   },
   {
    "duration": 0,
    "start_time": "2023-04-06T19:25:19.469Z"
   },
   {
    "duration": 0,
    "start_time": "2023-04-06T19:25:19.471Z"
   },
   {
    "duration": 0,
    "start_time": "2023-04-06T19:25:19.472Z"
   },
   {
    "duration": 0,
    "start_time": "2023-04-06T19:25:19.473Z"
   },
   {
    "duration": 0,
    "start_time": "2023-04-06T19:25:19.475Z"
   },
   {
    "duration": 0,
    "start_time": "2023-04-06T19:25:19.476Z"
   },
   {
    "duration": 0,
    "start_time": "2023-04-06T19:25:19.477Z"
   },
   {
    "duration": 0,
    "start_time": "2023-04-06T19:25:19.478Z"
   },
   {
    "duration": 0,
    "start_time": "2023-04-06T19:25:19.480Z"
   },
   {
    "duration": 0,
    "start_time": "2023-04-06T19:25:19.480Z"
   },
   {
    "duration": 0,
    "start_time": "2023-04-06T19:25:19.481Z"
   },
   {
    "duration": 0,
    "start_time": "2023-04-06T19:25:19.503Z"
   },
   {
    "duration": 0,
    "start_time": "2023-04-06T19:25:19.504Z"
   },
   {
    "duration": 0,
    "start_time": "2023-04-06T19:25:19.506Z"
   },
   {
    "duration": 0,
    "start_time": "2023-04-06T19:25:19.508Z"
   },
   {
    "duration": 0,
    "start_time": "2023-04-06T19:25:19.509Z"
   },
   {
    "duration": 1379,
    "start_time": "2023-04-06T19:25:33.959Z"
   },
   {
    "duration": 38,
    "start_time": "2023-04-06T19:25:35.341Z"
   },
   {
    "duration": 22,
    "start_time": "2023-04-06T19:25:35.381Z"
   },
   {
    "duration": 35,
    "start_time": "2023-04-06T19:25:35.406Z"
   },
   {
    "duration": 24,
    "start_time": "2023-04-06T19:25:35.443Z"
   },
   {
    "duration": 23,
    "start_time": "2023-04-06T19:25:35.469Z"
   },
   {
    "duration": 54,
    "start_time": "2023-04-06T19:25:35.494Z"
   },
   {
    "duration": 10,
    "start_time": "2023-04-06T19:25:35.550Z"
   },
   {
    "duration": 44,
    "start_time": "2023-04-06T19:25:35.562Z"
   },
   {
    "duration": 10,
    "start_time": "2023-04-06T19:25:35.609Z"
   },
   {
    "duration": 38,
    "start_time": "2023-04-06T19:25:35.621Z"
   },
   {
    "duration": 46,
    "start_time": "2023-04-06T19:25:35.661Z"
   },
   {
    "duration": 47,
    "start_time": "2023-04-06T19:25:35.709Z"
   },
   {
    "duration": 8,
    "start_time": "2023-04-06T19:25:35.758Z"
   },
   {
    "duration": 31,
    "start_time": "2023-04-06T19:25:35.768Z"
   },
   {
    "duration": 23,
    "start_time": "2023-04-06T19:25:35.801Z"
   },
   {
    "duration": 21,
    "start_time": "2023-04-06T19:25:35.826Z"
   },
   {
    "duration": 42,
    "start_time": "2023-04-06T19:25:35.849Z"
   },
   {
    "duration": 63,
    "start_time": "2023-04-06T19:25:35.893Z"
   },
   {
    "duration": 28,
    "start_time": "2023-04-06T19:25:35.957Z"
   },
   {
    "duration": 34,
    "start_time": "2023-04-06T19:25:35.987Z"
   },
   {
    "duration": 41,
    "start_time": "2023-04-06T19:25:36.023Z"
   },
   {
    "duration": 9,
    "start_time": "2023-04-06T19:25:36.066Z"
   },
   {
    "duration": 27,
    "start_time": "2023-04-06T19:25:36.077Z"
   },
   {
    "duration": 700,
    "start_time": "2023-04-06T19:25:36.106Z"
   },
   {
    "duration": 11,
    "start_time": "2023-04-06T19:25:36.807Z"
   },
   {
    "duration": 58,
    "start_time": "2023-04-06T19:25:36.820Z"
   },
   {
    "duration": 134,
    "start_time": "2023-04-06T19:25:36.881Z"
   },
   {
    "duration": 93,
    "start_time": "2023-04-06T19:25:37.017Z"
   },
   {
    "duration": 97,
    "start_time": "2023-04-06T19:25:37.112Z"
   },
   {
    "duration": 323,
    "start_time": "2023-04-06T19:25:37.211Z"
   },
   {
    "duration": 304,
    "start_time": "2023-04-06T19:25:37.536Z"
   },
   {
    "duration": 6,
    "start_time": "2023-04-06T19:25:37.842Z"
   },
   {
    "duration": 4,
    "start_time": "2023-04-06T19:25:37.850Z"
   },
   {
    "duration": 11,
    "start_time": "2023-04-06T19:25:37.856Z"
   },
   {
    "duration": 6,
    "start_time": "2023-04-06T19:25:37.869Z"
   },
   {
    "duration": 30,
    "start_time": "2023-04-06T19:25:37.876Z"
   },
   {
    "duration": 16,
    "start_time": "2023-04-06T19:25:37.908Z"
   },
   {
    "duration": 7,
    "start_time": "2023-04-06T19:25:37.926Z"
   },
   {
    "duration": 68,
    "start_time": "2023-04-06T19:25:37.935Z"
   },
   {
    "duration": 11,
    "start_time": "2023-04-06T19:25:38.005Z"
   },
   {
    "duration": 991,
    "start_time": "2023-04-06T19:25:38.019Z"
   },
   {
    "duration": 60,
    "start_time": "2023-04-06T19:25:39.012Z"
   },
   {
    "duration": 1930,
    "start_time": "2023-04-06T19:25:39.074Z"
   },
   {
    "duration": 99,
    "start_time": "2023-04-06T19:25:41.006Z"
   },
   {
    "duration": 10359,
    "start_time": "2023-04-06T19:25:41.108Z"
   },
   {
    "duration": 108,
    "start_time": "2023-04-06T19:25:51.469Z"
   },
   {
    "duration": 1034,
    "start_time": "2023-04-06T19:25:51.579Z"
   },
   {
    "duration": 159750,
    "start_time": "2023-04-06T19:26:17.608Z"
   },
   {
    "duration": 303029,
    "start_time": "2023-04-06T19:29:35.948Z"
   },
   {
    "duration": 156207,
    "start_time": "2023-04-06T19:35:11.792Z"
   },
   {
    "duration": 1996,
    "start_time": "2023-04-06T19:38:57.543Z"
   },
   {
    "duration": 40,
    "start_time": "2023-04-06T19:38:59.541Z"
   },
   {
    "duration": 23,
    "start_time": "2023-04-06T19:38:59.582Z"
   },
   {
    "duration": 22,
    "start_time": "2023-04-06T19:38:59.607Z"
   },
   {
    "duration": 15,
    "start_time": "2023-04-06T19:38:59.635Z"
   },
   {
    "duration": 6,
    "start_time": "2023-04-06T19:38:59.651Z"
   },
   {
    "duration": 47,
    "start_time": "2023-04-06T19:38:59.659Z"
   },
   {
    "duration": 10,
    "start_time": "2023-04-06T19:38:59.713Z"
   },
   {
    "duration": 20,
    "start_time": "2023-04-06T19:38:59.726Z"
   },
   {
    "duration": 5,
    "start_time": "2023-04-06T19:38:59.749Z"
   },
   {
    "duration": 12,
    "start_time": "2023-04-06T19:38:59.755Z"
   },
   {
    "duration": 23,
    "start_time": "2023-04-06T19:38:59.768Z"
   },
   {
    "duration": 25,
    "start_time": "2023-04-06T19:38:59.792Z"
   },
   {
    "duration": 7,
    "start_time": "2023-04-06T19:38:59.820Z"
   },
   {
    "duration": 6,
    "start_time": "2023-04-06T19:38:59.830Z"
   },
   {
    "duration": 11,
    "start_time": "2023-04-06T19:38:59.838Z"
   },
   {
    "duration": 11,
    "start_time": "2023-04-06T19:38:59.851Z"
   },
   {
    "duration": 14,
    "start_time": "2023-04-06T19:38:59.864Z"
   },
   {
    "duration": 51,
    "start_time": "2023-04-06T19:38:59.880Z"
   },
   {
    "duration": 21,
    "start_time": "2023-04-06T19:38:59.934Z"
   },
   {
    "duration": 18,
    "start_time": "2023-04-06T19:38:59.957Z"
   },
   {
    "duration": 63,
    "start_time": "2023-04-06T19:38:59.977Z"
   },
   {
    "duration": 10,
    "start_time": "2023-04-06T19:39:00.043Z"
   },
   {
    "duration": 13,
    "start_time": "2023-04-06T19:39:00.055Z"
   },
   {
    "duration": 788,
    "start_time": "2023-04-06T19:39:00.070Z"
   },
   {
    "duration": 9,
    "start_time": "2023-04-06T19:39:00.859Z"
   },
   {
    "duration": 84,
    "start_time": "2023-04-06T19:39:00.870Z"
   },
   {
    "duration": 661,
    "start_time": "2023-04-06T19:39:00.959Z"
   },
   {
    "duration": 96,
    "start_time": "2023-04-06T19:39:01.622Z"
   },
   {
    "duration": 85,
    "start_time": "2023-04-06T19:39:01.725Z"
   },
   {
    "duration": 272,
    "start_time": "2023-04-06T19:39:01.813Z"
   },
   {
    "duration": 381,
    "start_time": "2023-04-06T19:39:02.088Z"
   },
   {
    "duration": 7,
    "start_time": "2023-04-06T19:39:02.472Z"
   },
   {
    "duration": 34,
    "start_time": "2023-04-06T19:39:02.481Z"
   },
   {
    "duration": 38,
    "start_time": "2023-04-06T19:39:02.519Z"
   },
   {
    "duration": 23,
    "start_time": "2023-04-06T19:39:02.559Z"
   },
   {
    "duration": 27,
    "start_time": "2023-04-06T19:39:02.584Z"
   },
   {
    "duration": 35,
    "start_time": "2023-04-06T19:39:02.614Z"
   },
   {
    "duration": 18,
    "start_time": "2023-04-06T19:39:02.652Z"
   },
   {
    "duration": 90,
    "start_time": "2023-04-06T19:39:02.672Z"
   },
   {
    "duration": 7,
    "start_time": "2023-04-06T19:39:02.763Z"
   },
   {
    "duration": 1045,
    "start_time": "2023-04-06T19:39:02.772Z"
   },
   {
    "duration": 72,
    "start_time": "2023-04-06T19:39:03.819Z"
   },
   {
    "duration": 1336,
    "start_time": "2023-04-06T19:39:03.892Z"
   },
   {
    "duration": 87,
    "start_time": "2023-04-06T19:39:05.322Z"
   },
   {
    "duration": 209048,
    "start_time": "2023-04-06T19:39:05.417Z"
   },
   {
    "duration": 1905,
    "start_time": "2023-04-06T19:42:56.732Z"
   },
   {
    "duration": 37,
    "start_time": "2023-04-06T19:42:58.639Z"
   },
   {
    "duration": 23,
    "start_time": "2023-04-06T19:42:58.678Z"
   },
   {
    "duration": 19,
    "start_time": "2023-04-06T19:42:58.704Z"
   },
   {
    "duration": 16,
    "start_time": "2023-04-06T19:42:58.725Z"
   },
   {
    "duration": 5,
    "start_time": "2023-04-06T19:42:58.743Z"
   },
   {
    "duration": 34,
    "start_time": "2023-04-06T19:42:58.749Z"
   },
   {
    "duration": 26,
    "start_time": "2023-04-06T19:42:58.785Z"
   },
   {
    "duration": 12,
    "start_time": "2023-04-06T19:42:58.814Z"
   },
   {
    "duration": 23,
    "start_time": "2023-04-06T19:42:58.830Z"
   },
   {
    "duration": 20,
    "start_time": "2023-04-06T19:42:58.855Z"
   },
   {
    "duration": 15,
    "start_time": "2023-04-06T19:42:58.877Z"
   },
   {
    "duration": 22,
    "start_time": "2023-04-06T19:42:58.893Z"
   },
   {
    "duration": 22,
    "start_time": "2023-04-06T19:42:58.919Z"
   },
   {
    "duration": 17,
    "start_time": "2023-04-06T19:42:58.943Z"
   },
   {
    "duration": 11,
    "start_time": "2023-04-06T19:42:58.961Z"
   },
   {
    "duration": 20,
    "start_time": "2023-04-06T19:42:58.974Z"
   },
   {
    "duration": 28,
    "start_time": "2023-04-06T19:42:58.996Z"
   },
   {
    "duration": 31,
    "start_time": "2023-04-06T19:42:59.026Z"
   },
   {
    "duration": 19,
    "start_time": "2023-04-06T19:42:59.059Z"
   },
   {
    "duration": 30,
    "start_time": "2023-04-06T19:42:59.080Z"
   },
   {
    "duration": 43,
    "start_time": "2023-04-06T19:42:59.114Z"
   },
   {
    "duration": 9,
    "start_time": "2023-04-06T19:42:59.158Z"
   },
   {
    "duration": 8,
    "start_time": "2023-04-06T19:42:59.169Z"
   },
   {
    "duration": 781,
    "start_time": "2023-04-06T19:42:59.210Z"
   },
   {
    "duration": 25,
    "start_time": "2023-04-06T19:42:59.993Z"
   },
   {
    "duration": 76,
    "start_time": "2023-04-06T19:43:00.021Z"
   },
   {
    "duration": 609,
    "start_time": "2023-04-06T19:43:00.100Z"
   },
   {
    "duration": 93,
    "start_time": "2023-04-06T19:43:00.711Z"
   },
   {
    "duration": 30,
    "start_time": "2023-04-06T19:43:00.807Z"
   },
   {
    "duration": 337,
    "start_time": "2023-04-06T19:43:00.839Z"
   },
   {
    "duration": 370,
    "start_time": "2023-04-06T19:43:01.178Z"
   },
   {
    "duration": 6,
    "start_time": "2023-04-06T19:43:01.550Z"
   },
   {
    "duration": 16,
    "start_time": "2023-04-06T19:43:01.558Z"
   },
   {
    "duration": 30,
    "start_time": "2023-04-06T19:43:01.576Z"
   },
   {
    "duration": 22,
    "start_time": "2023-04-06T19:43:01.609Z"
   },
   {
    "duration": 32,
    "start_time": "2023-04-06T19:43:01.633Z"
   },
   {
    "duration": 43,
    "start_time": "2023-04-06T19:43:01.667Z"
   },
   {
    "duration": 22,
    "start_time": "2023-04-06T19:43:01.713Z"
   },
   {
    "duration": 72,
    "start_time": "2023-04-06T19:43:01.736Z"
   },
   {
    "duration": 13,
    "start_time": "2023-04-06T19:43:01.811Z"
   },
   {
    "duration": 2625,
    "start_time": "2023-04-06T19:43:01.828Z"
   },
   {
    "duration": 78,
    "start_time": "2023-04-06T19:43:04.455Z"
   },
   {
    "duration": 494,
    "start_time": "2023-04-06T19:43:04.535Z"
   },
   {
    "duration": 174,
    "start_time": "2023-04-06T19:43:05.032Z"
   },
   {
    "duration": 179251,
    "start_time": "2023-04-06T19:43:05.209Z"
   },
   {
    "duration": 375524,
    "start_time": "2023-04-06T19:46:13.413Z"
   },
   {
    "duration": 25550,
    "start_time": "2023-04-06T19:53:07.570Z"
   },
   {
    "duration": 5102,
    "start_time": "2023-04-06T19:53:49.549Z"
   },
   {
    "duration": 1599,
    "start_time": "2023-04-06T19:54:29.630Z"
   },
   {
    "duration": 36,
    "start_time": "2023-04-06T19:54:31.232Z"
   },
   {
    "duration": 19,
    "start_time": "2023-04-06T19:54:31.270Z"
   },
   {
    "duration": 26,
    "start_time": "2023-04-06T19:54:31.292Z"
   },
   {
    "duration": 20,
    "start_time": "2023-04-06T19:54:31.321Z"
   },
   {
    "duration": 17,
    "start_time": "2023-04-06T19:54:31.343Z"
   },
   {
    "duration": 66,
    "start_time": "2023-04-06T19:54:31.362Z"
   },
   {
    "duration": 6,
    "start_time": "2023-04-06T19:54:31.430Z"
   },
   {
    "duration": 18,
    "start_time": "2023-04-06T19:54:31.437Z"
   },
   {
    "duration": 20,
    "start_time": "2023-04-06T19:54:31.458Z"
   },
   {
    "duration": 40,
    "start_time": "2023-04-06T19:54:31.480Z"
   },
   {
    "duration": 28,
    "start_time": "2023-04-06T19:54:31.527Z"
   },
   {
    "duration": 21,
    "start_time": "2023-04-06T19:54:31.556Z"
   },
   {
    "duration": 13,
    "start_time": "2023-04-06T19:54:31.579Z"
   },
   {
    "duration": 16,
    "start_time": "2023-04-06T19:54:31.593Z"
   },
   {
    "duration": 23,
    "start_time": "2023-04-06T19:54:31.611Z"
   },
   {
    "duration": 12,
    "start_time": "2023-04-06T19:54:31.636Z"
   },
   {
    "duration": 26,
    "start_time": "2023-04-06T19:54:31.650Z"
   },
   {
    "duration": 38,
    "start_time": "2023-04-06T19:54:31.677Z"
   },
   {
    "duration": 27,
    "start_time": "2023-04-06T19:54:31.717Z"
   },
   {
    "duration": 21,
    "start_time": "2023-04-06T19:54:31.745Z"
   },
   {
    "duration": 59,
    "start_time": "2023-04-06T19:54:31.768Z"
   },
   {
    "duration": 10,
    "start_time": "2023-04-06T19:54:31.830Z"
   },
   {
    "duration": 33,
    "start_time": "2023-04-06T19:54:31.842Z"
   },
   {
    "duration": 848,
    "start_time": "2023-04-06T19:54:31.877Z"
   },
   {
    "duration": 11,
    "start_time": "2023-04-06T19:54:32.728Z"
   },
   {
    "duration": 70,
    "start_time": "2023-04-06T19:54:32.741Z"
   },
   {
    "duration": 276,
    "start_time": "2023-04-06T19:54:32.834Z"
   },
   {
    "duration": 19,
    "start_time": "2023-04-06T19:54:33.113Z"
   },
   {
    "duration": 81,
    "start_time": "2023-04-06T19:54:33.136Z"
   },
   {
    "duration": 369,
    "start_time": "2023-04-06T19:54:33.220Z"
   },
   {
    "duration": 356,
    "start_time": "2023-04-06T19:54:33.591Z"
   },
   {
    "duration": 7,
    "start_time": "2023-04-06T19:54:33.949Z"
   },
   {
    "duration": 13,
    "start_time": "2023-04-06T19:54:33.957Z"
   },
   {
    "duration": 18,
    "start_time": "2023-04-06T19:54:33.972Z"
   },
   {
    "duration": 36,
    "start_time": "2023-04-06T19:54:33.992Z"
   },
   {
    "duration": 6,
    "start_time": "2023-04-06T19:54:34.031Z"
   },
   {
    "duration": 13,
    "start_time": "2023-04-06T19:54:34.039Z"
   },
   {
    "duration": 10,
    "start_time": "2023-04-06T19:54:34.054Z"
   },
   {
    "duration": 56,
    "start_time": "2023-04-06T19:54:34.066Z"
   },
   {
    "duration": 8,
    "start_time": "2023-04-06T19:54:34.130Z"
   },
   {
    "duration": 1114,
    "start_time": "2023-04-06T19:54:34.140Z"
   },
   {
    "duration": 70,
    "start_time": "2023-04-06T19:54:35.256Z"
   },
   {
    "duration": 674,
    "start_time": "2023-04-06T19:54:35.329Z"
   },
   {
    "duration": 32,
    "start_time": "2023-04-06T19:54:36.015Z"
   },
   {
    "duration": 68459,
    "start_time": "2023-04-06T19:54:36.049Z"
   },
   {
    "duration": 13048,
    "start_time": "2023-04-06T19:55:47.749Z"
   },
   {
    "duration": 7967,
    "start_time": "2023-04-06T19:56:10.095Z"
   },
   {
    "duration": 1796,
    "start_time": "2023-04-06T19:56:24.406Z"
   },
   {
    "duration": 150261,
    "start_time": "2023-04-06T19:58:56.395Z"
   },
   {
    "duration": 1179,
    "start_time": "2023-04-06T20:01:26.658Z"
   },
   {
    "duration": 415337,
    "start_time": "2023-04-06T20:01:29.503Z"
   },
   {
    "duration": 585,
    "start_time": "2023-04-06T20:08:24.843Z"
   },
   {
    "duration": 633,
    "start_time": "2023-04-06T20:08:27.166Z"
   },
   {
    "duration": 30354,
    "start_time": "2023-04-06T20:08:42.746Z"
   },
   {
    "duration": 686,
    "start_time": "2023-04-06T20:09:38.674Z"
   },
   {
    "duration": 1746,
    "start_time": "2023-04-06T20:09:46.377Z"
   },
   {
    "duration": 43,
    "start_time": "2023-04-06T20:09:48.126Z"
   },
   {
    "duration": 25,
    "start_time": "2023-04-06T20:09:48.171Z"
   },
   {
    "duration": 29,
    "start_time": "2023-04-06T20:09:48.199Z"
   },
   {
    "duration": 18,
    "start_time": "2023-04-06T20:09:48.231Z"
   },
   {
    "duration": 5,
    "start_time": "2023-04-06T20:09:48.251Z"
   },
   {
    "duration": 33,
    "start_time": "2023-04-06T20:09:48.258Z"
   },
   {
    "duration": 15,
    "start_time": "2023-04-06T20:09:48.293Z"
   },
   {
    "duration": 41,
    "start_time": "2023-04-06T20:09:48.317Z"
   },
   {
    "duration": 9,
    "start_time": "2023-04-06T20:09:48.362Z"
   },
   {
    "duration": 21,
    "start_time": "2023-04-06T20:09:48.373Z"
   },
   {
    "duration": 36,
    "start_time": "2023-04-06T20:09:48.396Z"
   },
   {
    "duration": 12,
    "start_time": "2023-04-06T20:09:48.435Z"
   },
   {
    "duration": 12,
    "start_time": "2023-04-06T20:09:48.450Z"
   },
   {
    "duration": 12,
    "start_time": "2023-04-06T20:09:48.463Z"
   },
   {
    "duration": 4,
    "start_time": "2023-04-06T20:09:48.477Z"
   },
   {
    "duration": 8,
    "start_time": "2023-04-06T20:09:48.483Z"
   },
   {
    "duration": 26,
    "start_time": "2023-04-06T20:09:48.509Z"
   },
   {
    "duration": 34,
    "start_time": "2023-04-06T20:09:48.537Z"
   },
   {
    "duration": 40,
    "start_time": "2023-04-06T20:09:48.574Z"
   },
   {
    "duration": 33,
    "start_time": "2023-04-06T20:09:48.616Z"
   },
   {
    "duration": 39,
    "start_time": "2023-04-06T20:09:48.651Z"
   },
   {
    "duration": 11,
    "start_time": "2023-04-06T20:09:48.710Z"
   },
   {
    "duration": 13,
    "start_time": "2023-04-06T20:09:48.724Z"
   },
   {
    "duration": 814,
    "start_time": "2023-04-06T20:09:48.740Z"
   },
   {
    "duration": 9,
    "start_time": "2023-04-06T20:09:49.556Z"
   },
   {
    "duration": 80,
    "start_time": "2023-04-06T20:09:49.567Z"
   },
   {
    "duration": 758,
    "start_time": "2023-04-06T20:09:49.651Z"
   },
   {
    "duration": 94,
    "start_time": "2023-04-06T20:09:50.412Z"
   },
   {
    "duration": 25,
    "start_time": "2023-04-06T20:09:50.508Z"
   },
   {
    "duration": 335,
    "start_time": "2023-04-06T20:09:50.537Z"
   },
   {
    "duration": 346,
    "start_time": "2023-04-06T20:09:50.873Z"
   },
   {
    "duration": 8,
    "start_time": "2023-04-06T20:09:51.227Z"
   },
   {
    "duration": 5,
    "start_time": "2023-04-06T20:09:51.237Z"
   },
   {
    "duration": 23,
    "start_time": "2023-04-06T20:09:51.244Z"
   },
   {
    "duration": 8,
    "start_time": "2023-04-06T20:09:51.269Z"
   },
   {
    "duration": 11,
    "start_time": "2023-04-06T20:09:51.279Z"
   },
   {
    "duration": 28,
    "start_time": "2023-04-06T20:09:51.292Z"
   },
   {
    "duration": 8,
    "start_time": "2023-04-06T20:09:51.326Z"
   },
   {
    "duration": 51,
    "start_time": "2023-04-06T20:09:51.335Z"
   },
   {
    "duration": 20,
    "start_time": "2023-04-06T20:09:51.388Z"
   },
   {
    "duration": 1196,
    "start_time": "2023-04-06T20:09:51.411Z"
   },
   {
    "duration": 60,
    "start_time": "2023-04-06T20:09:52.610Z"
   },
   {
    "duration": 831,
    "start_time": "2023-04-06T20:09:52.672Z"
   },
   {
    "duration": 107,
    "start_time": "2023-04-06T20:09:53.506Z"
   },
   {
    "duration": 30727,
    "start_time": "2023-04-06T20:09:53.620Z"
   },
   {
    "duration": 544,
    "start_time": "2023-04-06T20:10:24.349Z"
   },
   {
    "duration": 3805,
    "start_time": "2023-04-06T20:10:48.990Z"
   },
   {
    "duration": 48192,
    "start_time": "2023-04-06T20:10:59.426Z"
   },
   {
    "duration": 1587,
    "start_time": "2023-04-06T20:12:12.519Z"
   },
   {
    "duration": 36,
    "start_time": "2023-04-06T20:12:14.109Z"
   },
   {
    "duration": 21,
    "start_time": "2023-04-06T20:12:14.148Z"
   },
   {
    "duration": 13,
    "start_time": "2023-04-06T20:12:14.171Z"
   },
   {
    "duration": 21,
    "start_time": "2023-04-06T20:12:14.186Z"
   },
   {
    "duration": 5,
    "start_time": "2023-04-06T20:12:14.209Z"
   },
   {
    "duration": 27,
    "start_time": "2023-04-06T20:12:14.215Z"
   },
   {
    "duration": 7,
    "start_time": "2023-04-06T20:12:14.244Z"
   },
   {
    "duration": 4,
    "start_time": "2023-04-06T20:12:14.253Z"
   },
   {
    "duration": 9,
    "start_time": "2023-04-06T20:12:14.260Z"
   },
   {
    "duration": 40,
    "start_time": "2023-04-06T20:12:14.271Z"
   },
   {
    "duration": 16,
    "start_time": "2023-04-06T20:12:14.313Z"
   },
   {
    "duration": 13,
    "start_time": "2023-04-06T20:12:14.331Z"
   },
   {
    "duration": 3,
    "start_time": "2023-04-06T20:12:14.346Z"
   },
   {
    "duration": 8,
    "start_time": "2023-04-06T20:12:14.351Z"
   },
   {
    "duration": 9,
    "start_time": "2023-04-06T20:12:14.361Z"
   },
   {
    "duration": 4,
    "start_time": "2023-04-06T20:12:14.372Z"
   },
   {
    "duration": 33,
    "start_time": "2023-04-06T20:12:14.378Z"
   },
   {
    "duration": 23,
    "start_time": "2023-04-06T20:12:14.413Z"
   },
   {
    "duration": 19,
    "start_time": "2023-04-06T20:12:14.438Z"
   },
   {
    "duration": 47,
    "start_time": "2023-04-06T20:12:14.459Z"
   },
   {
    "duration": 34,
    "start_time": "2023-04-06T20:12:14.507Z"
   },
   {
    "duration": 12,
    "start_time": "2023-04-06T20:12:14.542Z"
   },
   {
    "duration": 6,
    "start_time": "2023-04-06T20:12:14.555Z"
   },
   {
    "duration": 713,
    "start_time": "2023-04-06T20:12:14.563Z"
   },
   {
    "duration": 8,
    "start_time": "2023-04-06T20:12:15.278Z"
   },
   {
    "duration": 64,
    "start_time": "2023-04-06T20:12:15.288Z"
   },
   {
    "duration": 551,
    "start_time": "2023-04-06T20:12:15.356Z"
   },
   {
    "duration": 91,
    "start_time": "2023-04-06T20:12:15.913Z"
   },
   {
    "duration": 10,
    "start_time": "2023-04-06T20:12:16.006Z"
   },
   {
    "duration": 313,
    "start_time": "2023-04-06T20:12:16.018Z"
   },
   {
    "duration": 287,
    "start_time": "2023-04-06T20:12:16.333Z"
   },
   {
    "duration": 7,
    "start_time": "2023-04-06T20:12:16.622Z"
   },
   {
    "duration": 5,
    "start_time": "2023-04-06T20:12:16.630Z"
   },
   {
    "duration": 15,
    "start_time": "2023-04-06T20:12:16.637Z"
   },
   {
    "duration": 6,
    "start_time": "2023-04-06T20:12:16.654Z"
   },
   {
    "duration": 6,
    "start_time": "2023-04-06T20:12:16.661Z"
   },
   {
    "duration": 36,
    "start_time": "2023-04-06T20:12:16.668Z"
   },
   {
    "duration": 7,
    "start_time": "2023-04-06T20:12:16.706Z"
   },
   {
    "duration": 54,
    "start_time": "2023-04-06T20:12:16.715Z"
   },
   {
    "duration": 7,
    "start_time": "2023-04-06T20:12:16.770Z"
   },
   {
    "duration": 972,
    "start_time": "2023-04-06T20:12:16.779Z"
   },
   {
    "duration": 62,
    "start_time": "2023-04-06T20:12:17.754Z"
   },
   {
    "duration": 302,
    "start_time": "2023-04-06T20:12:17.819Z"
   },
   {
    "duration": 87,
    "start_time": "2023-04-06T20:12:18.123Z"
   },
   {
    "duration": 106940,
    "start_time": "2023-04-06T20:12:18.212Z"
   },
   {
    "duration": 4188,
    "start_time": "2023-04-06T20:14:05.154Z"
   },
   {
    "duration": 203937,
    "start_time": "2023-04-06T20:14:43.359Z"
   },
   {
    "duration": 758,
    "start_time": "2023-04-06T20:18:58.094Z"
   },
   {
    "duration": 1989,
    "start_time": "2023-04-06T20:19:29.094Z"
   },
   {
    "duration": 41,
    "start_time": "2023-04-06T20:19:31.086Z"
   },
   {
    "duration": 24,
    "start_time": "2023-04-06T20:19:31.128Z"
   },
   {
    "duration": 21,
    "start_time": "2023-04-06T20:19:31.156Z"
   },
   {
    "duration": 17,
    "start_time": "2023-04-06T20:19:31.179Z"
   },
   {
    "duration": 25,
    "start_time": "2023-04-06T20:19:31.197Z"
   },
   {
    "duration": 69,
    "start_time": "2023-04-06T20:19:31.224Z"
   },
   {
    "duration": 4,
    "start_time": "2023-04-06T20:19:31.295Z"
   },
   {
    "duration": 26,
    "start_time": "2023-04-06T20:19:31.301Z"
   },
   {
    "duration": 19,
    "start_time": "2023-04-06T20:19:31.331Z"
   },
   {
    "duration": 21,
    "start_time": "2023-04-06T20:19:31.352Z"
   },
   {
    "duration": 21,
    "start_time": "2023-04-06T20:19:31.375Z"
   },
   {
    "duration": 26,
    "start_time": "2023-04-06T20:19:31.398Z"
   },
   {
    "duration": 13,
    "start_time": "2023-04-06T20:19:31.426Z"
   },
   {
    "duration": 30,
    "start_time": "2023-04-06T20:19:31.440Z"
   },
   {
    "duration": 36,
    "start_time": "2023-04-06T20:19:31.471Z"
   },
   {
    "duration": 31,
    "start_time": "2023-04-06T20:19:31.509Z"
   },
   {
    "duration": 20,
    "start_time": "2023-04-06T20:19:31.542Z"
   },
   {
    "duration": 37,
    "start_time": "2023-04-06T20:19:31.564Z"
   },
   {
    "duration": 19,
    "start_time": "2023-04-06T20:19:31.603Z"
   },
   {
    "duration": 19,
    "start_time": "2023-04-06T20:19:31.624Z"
   },
   {
    "duration": 59,
    "start_time": "2023-04-06T20:19:31.645Z"
   },
   {
    "duration": 10,
    "start_time": "2023-04-06T20:19:31.707Z"
   },
   {
    "duration": 32,
    "start_time": "2023-04-06T20:19:31.718Z"
   },
   {
    "duration": 791,
    "start_time": "2023-04-06T20:19:31.752Z"
   },
   {
    "duration": 15,
    "start_time": "2023-04-06T20:19:32.545Z"
   },
   {
    "duration": 72,
    "start_time": "2023-04-06T20:19:32.562Z"
   },
   {
    "duration": 869,
    "start_time": "2023-04-06T20:19:32.637Z"
   },
   {
    "duration": 97,
    "start_time": "2023-04-06T20:19:33.510Z"
   },
   {
    "duration": 12,
    "start_time": "2023-04-06T20:19:33.610Z"
   },
   {
    "duration": 322,
    "start_time": "2023-04-06T20:19:33.624Z"
   },
   {
    "duration": 321,
    "start_time": "2023-04-06T20:19:33.948Z"
   },
   {
    "duration": 7,
    "start_time": "2023-04-06T20:19:34.270Z"
   },
   {
    "duration": 11,
    "start_time": "2023-04-06T20:19:34.278Z"
   },
   {
    "duration": 27,
    "start_time": "2023-04-06T20:19:34.290Z"
   },
   {
    "duration": 7,
    "start_time": "2023-04-06T20:19:34.319Z"
   },
   {
    "duration": 7,
    "start_time": "2023-04-06T20:19:34.328Z"
   },
   {
    "duration": 16,
    "start_time": "2023-04-06T20:19:34.336Z"
   },
   {
    "duration": 5,
    "start_time": "2023-04-06T20:19:34.354Z"
   },
   {
    "duration": 63,
    "start_time": "2023-04-06T20:19:34.361Z"
   },
   {
    "duration": 9,
    "start_time": "2023-04-06T20:19:34.426Z"
   },
   {
    "duration": 934,
    "start_time": "2023-04-06T20:19:34.436Z"
   },
   {
    "duration": 68,
    "start_time": "2023-04-06T20:19:35.372Z"
   },
   {
    "duration": 974,
    "start_time": "2023-04-06T20:19:35.442Z"
   },
   {
    "duration": 87,
    "start_time": "2023-04-06T20:19:36.422Z"
   },
   {
    "duration": 84242,
    "start_time": "2023-04-06T20:19:36.515Z"
   },
   {
    "duration": 826,
    "start_time": "2023-04-06T20:21:00.759Z"
   },
   {
    "duration": 4848,
    "start_time": "2023-04-06T20:21:48.424Z"
   },
   {
    "duration": 2263,
    "start_time": "2023-04-07T19:03:30.060Z"
   },
   {
    "duration": 132,
    "start_time": "2023-04-07T19:03:33.879Z"
   },
   {
    "duration": 29,
    "start_time": "2023-04-07T19:03:34.424Z"
   },
   {
    "duration": 15,
    "start_time": "2023-04-07T19:03:36.145Z"
   },
   {
    "duration": 12,
    "start_time": "2023-04-07T19:03:38.058Z"
   },
   {
    "duration": 5,
    "start_time": "2023-04-07T19:03:39.055Z"
   },
   {
    "duration": 38,
    "start_time": "2023-04-07T19:03:40.403Z"
   },
   {
    "duration": 19,
    "start_time": "2023-04-07T19:03:40.920Z"
   },
   {
    "duration": 7,
    "start_time": "2023-04-07T19:03:41.851Z"
   },
   {
    "duration": 4,
    "start_time": "2023-04-07T19:03:44.403Z"
   },
   {
    "duration": 3,
    "start_time": "2023-04-07T19:03:45.896Z"
   },
   {
    "duration": 3,
    "start_time": "2023-04-07T19:03:46.251Z"
   },
   {
    "duration": 8,
    "start_time": "2023-04-07T19:03:48.865Z"
   },
   {
    "duration": 4,
    "start_time": "2023-04-07T19:03:49.702Z"
   },
   {
    "duration": 7,
    "start_time": "2023-04-07T19:03:50.641Z"
   },
   {
    "duration": 4,
    "start_time": "2023-04-07T19:03:51.570Z"
   },
   {
    "duration": 3,
    "start_time": "2023-04-07T19:03:57.290Z"
   },
   {
    "duration": 3,
    "start_time": "2023-04-07T19:05:40.657Z"
   },
   {
    "duration": 337,
    "start_time": "2023-04-07T19:06:47.713Z"
   },
   {
    "duration": 18,
    "start_time": "2023-04-07T19:07:33.290Z"
   },
   {
    "duration": 10,
    "start_time": "2023-04-07T19:07:39.884Z"
   },
   {
    "duration": 28,
    "start_time": "2023-04-07T19:07:52.579Z"
   },
   {
    "duration": 17,
    "start_time": "2023-04-07T19:08:15.879Z"
   },
   {
    "duration": 3,
    "start_time": "2023-04-07T19:09:05.808Z"
   },
   {
    "duration": 11,
    "start_time": "2023-04-07T19:11:29.706Z"
   },
   {
    "duration": 14,
    "start_time": "2023-04-07T19:11:30.203Z"
   },
   {
    "duration": 2,
    "start_time": "2023-04-07T19:11:48.813Z"
   },
   {
    "duration": 3,
    "start_time": "2023-04-07T19:11:49.325Z"
   },
   {
    "duration": 10,
    "start_time": "2023-04-07T19:11:54.002Z"
   },
   {
    "duration": 16,
    "start_time": "2023-04-07T19:12:07.401Z"
   },
   {
    "duration": 14,
    "start_time": "2023-04-07T19:13:06.874Z"
   },
   {
    "duration": 5,
    "start_time": "2023-04-07T19:13:16.788Z"
   },
   {
    "duration": 5,
    "start_time": "2023-04-07T19:13:19.268Z"
   },
   {
    "duration": 73,
    "start_time": "2023-04-07T19:13:20.272Z"
   },
   {
    "duration": 21,
    "start_time": "2023-04-07T19:13:20.550Z"
   },
   {
    "duration": 13,
    "start_time": "2023-04-07T19:13:20.848Z"
   },
   {
    "duration": 14,
    "start_time": "2023-04-07T19:13:21.754Z"
   },
   {
    "duration": 4,
    "start_time": "2023-04-07T19:13:22.169Z"
   },
   {
    "duration": 23,
    "start_time": "2023-04-07T19:13:22.860Z"
   },
   {
    "duration": 5,
    "start_time": "2023-04-07T19:13:23.178Z"
   },
   {
    "duration": 5,
    "start_time": "2023-04-07T19:13:24.129Z"
   },
   {
    "duration": 4,
    "start_time": "2023-04-07T19:13:25.979Z"
   },
   {
    "duration": 3,
    "start_time": "2023-04-07T19:13:27.385Z"
   },
   {
    "duration": 2,
    "start_time": "2023-04-07T19:13:27.684Z"
   },
   {
    "duration": 9,
    "start_time": "2023-04-07T19:13:28.821Z"
   },
   {
    "duration": 4,
    "start_time": "2023-04-07T19:13:29.675Z"
   },
   {
    "duration": 12,
    "start_time": "2023-04-07T19:13:30.884Z"
   },
   {
    "duration": 3,
    "start_time": "2023-04-07T19:13:32.021Z"
   },
   {
    "duration": 4,
    "start_time": "2023-04-07T19:13:33.368Z"
   },
   {
    "duration": 2,
    "start_time": "2023-04-07T19:13:35.083Z"
   },
   {
    "duration": 13,
    "start_time": "2023-04-07T19:13:35.822Z"
   },
   {
    "duration": 17,
    "start_time": "2023-04-07T19:13:44.731Z"
   },
   {
    "duration": 1859,
    "start_time": "2023-04-07T19:16:18.527Z"
   },
   {
    "duration": 43,
    "start_time": "2023-04-07T19:16:20.388Z"
   },
   {
    "duration": 22,
    "start_time": "2023-04-07T19:16:20.433Z"
   },
   {
    "duration": 14,
    "start_time": "2023-04-07T19:16:20.458Z"
   },
   {
    "duration": 53,
    "start_time": "2023-04-07T19:16:20.474Z"
   },
   {
    "duration": 7,
    "start_time": "2023-04-07T19:16:20.530Z"
   },
   {
    "duration": 85,
    "start_time": "2023-04-07T19:16:20.539Z"
   },
   {
    "duration": 6,
    "start_time": "2023-04-07T19:16:20.626Z"
   },
   {
    "duration": 12,
    "start_time": "2023-04-07T19:16:20.634Z"
   },
   {
    "duration": 17,
    "start_time": "2023-04-07T19:16:20.651Z"
   },
   {
    "duration": 4,
    "start_time": "2023-04-07T19:16:20.670Z"
   },
   {
    "duration": 3,
    "start_time": "2023-04-07T19:16:20.724Z"
   },
   {
    "duration": 10,
    "start_time": "2023-04-07T19:16:20.731Z"
   },
   {
    "duration": 5,
    "start_time": "2023-04-07T19:16:20.743Z"
   },
   {
    "duration": 7,
    "start_time": "2023-04-07T19:16:20.749Z"
   },
   {
    "duration": 8,
    "start_time": "2023-04-07T19:16:20.758Z"
   },
   {
    "duration": 4,
    "start_time": "2023-04-07T19:16:20.823Z"
   },
   {
    "duration": 12,
    "start_time": "2023-04-07T19:16:20.830Z"
   },
   {
    "duration": 15,
    "start_time": "2023-04-07T19:16:20.845Z"
   },
   {
    "duration": 7,
    "start_time": "2023-04-07T19:16:20.862Z"
   },
   {
    "duration": 297,
    "start_time": "2023-04-07T19:16:20.871Z"
   },
   {
    "duration": 0,
    "start_time": "2023-04-07T19:16:21.171Z"
   },
   {
    "duration": 0,
    "start_time": "2023-04-07T19:16:21.172Z"
   },
   {
    "duration": 0,
    "start_time": "2023-04-07T19:16:21.224Z"
   },
   {
    "duration": 0,
    "start_time": "2023-04-07T19:16:21.225Z"
   },
   {
    "duration": 0,
    "start_time": "2023-04-07T19:16:21.227Z"
   },
   {
    "duration": 0,
    "start_time": "2023-04-07T19:16:21.229Z"
   },
   {
    "duration": 0,
    "start_time": "2023-04-07T19:16:21.230Z"
   },
   {
    "duration": 0,
    "start_time": "2023-04-07T19:16:21.231Z"
   },
   {
    "duration": 0,
    "start_time": "2023-04-07T19:16:21.231Z"
   },
   {
    "duration": 0,
    "start_time": "2023-04-07T19:16:21.233Z"
   },
   {
    "duration": 1,
    "start_time": "2023-04-07T19:16:21.233Z"
   },
   {
    "duration": 0,
    "start_time": "2023-04-07T19:16:21.235Z"
   },
   {
    "duration": 0,
    "start_time": "2023-04-07T19:16:21.235Z"
   },
   {
    "duration": 0,
    "start_time": "2023-04-07T19:16:21.237Z"
   },
   {
    "duration": 0,
    "start_time": "2023-04-07T19:16:21.238Z"
   },
   {
    "duration": 0,
    "start_time": "2023-04-07T19:16:21.240Z"
   },
   {
    "duration": 0,
    "start_time": "2023-04-07T19:16:21.241Z"
   },
   {
    "duration": 0,
    "start_time": "2023-04-07T19:16:21.242Z"
   },
   {
    "duration": 0,
    "start_time": "2023-04-07T19:16:21.244Z"
   },
   {
    "duration": 0,
    "start_time": "2023-04-07T19:16:21.245Z"
   },
   {
    "duration": 0,
    "start_time": "2023-04-07T19:16:21.246Z"
   },
   {
    "duration": 0,
    "start_time": "2023-04-07T19:16:21.247Z"
   },
   {
    "duration": 0,
    "start_time": "2023-04-07T19:16:21.249Z"
   },
   {
    "duration": 0,
    "start_time": "2023-04-07T19:16:21.250Z"
   },
   {
    "duration": 0,
    "start_time": "2023-04-07T19:16:21.251Z"
   },
   {
    "duration": 0,
    "start_time": "2023-04-07T19:16:21.252Z"
   },
   {
    "duration": 0,
    "start_time": "2023-04-07T19:16:21.254Z"
   },
   {
    "duration": 0,
    "start_time": "2023-04-07T19:16:21.255Z"
   },
   {
    "duration": 0,
    "start_time": "2023-04-07T19:16:21.256Z"
   },
   {
    "duration": 0,
    "start_time": "2023-04-07T19:16:21.257Z"
   },
   {
    "duration": 0,
    "start_time": "2023-04-07T19:16:21.258Z"
   },
   {
    "duration": 0,
    "start_time": "2023-04-07T19:16:21.324Z"
   },
   {
    "duration": 19,
    "start_time": "2023-04-07T19:16:41.508Z"
   },
   {
    "duration": 15,
    "start_time": "2023-04-07T19:16:44.961Z"
   },
   {
    "duration": 1379,
    "start_time": "2023-04-07T19:18:25.171Z"
   },
   {
    "duration": 36,
    "start_time": "2023-04-07T19:18:26.552Z"
   },
   {
    "duration": 19,
    "start_time": "2023-04-07T19:18:26.590Z"
   },
   {
    "duration": 12,
    "start_time": "2023-04-07T19:18:26.611Z"
   },
   {
    "duration": 11,
    "start_time": "2023-04-07T19:18:26.625Z"
   },
   {
    "duration": 5,
    "start_time": "2023-04-07T19:18:26.637Z"
   },
   {
    "duration": 23,
    "start_time": "2023-04-07T19:18:26.643Z"
   },
   {
    "duration": 5,
    "start_time": "2023-04-07T19:18:26.667Z"
   },
   {
    "duration": 11,
    "start_time": "2023-04-07T19:18:26.674Z"
   },
   {
    "duration": 4,
    "start_time": "2023-04-07T19:18:26.688Z"
   },
   {
    "duration": 4,
    "start_time": "2023-04-07T19:18:26.693Z"
   },
   {
    "duration": 3,
    "start_time": "2023-04-07T19:18:26.724Z"
   },
   {
    "duration": 10,
    "start_time": "2023-04-07T19:18:26.728Z"
   },
   {
    "duration": 5,
    "start_time": "2023-04-07T19:18:26.739Z"
   },
   {
    "duration": 6,
    "start_time": "2023-04-07T19:18:26.746Z"
   },
   {
    "duration": 6,
    "start_time": "2023-04-07T19:18:26.753Z"
   },
   {
    "duration": 6,
    "start_time": "2023-04-07T19:18:26.761Z"
   },
   {
    "duration": 14,
    "start_time": "2023-04-07T19:18:26.769Z"
   },
   {
    "duration": 40,
    "start_time": "2023-04-07T19:18:26.785Z"
   },
   {
    "duration": 12,
    "start_time": "2023-04-07T19:18:26.826Z"
   },
   {
    "duration": 5,
    "start_time": "2023-04-07T19:18:26.839Z"
   },
   {
    "duration": 147,
    "start_time": "2023-04-07T19:18:26.846Z"
   },
   {
    "duration": 0,
    "start_time": "2023-04-07T19:18:26.996Z"
   },
   {
    "duration": 0,
    "start_time": "2023-04-07T19:18:26.997Z"
   },
   {
    "duration": 0,
    "start_time": "2023-04-07T19:18:26.999Z"
   },
   {
    "duration": 0,
    "start_time": "2023-04-07T19:18:27.000Z"
   },
   {
    "duration": 1,
    "start_time": "2023-04-07T19:18:27.000Z"
   },
   {
    "duration": 0,
    "start_time": "2023-04-07T19:18:27.001Z"
   },
   {
    "duration": 0,
    "start_time": "2023-04-07T19:18:27.002Z"
   },
   {
    "duration": 0,
    "start_time": "2023-04-07T19:18:27.003Z"
   },
   {
    "duration": 0,
    "start_time": "2023-04-07T19:18:27.004Z"
   },
   {
    "duration": 0,
    "start_time": "2023-04-07T19:18:27.023Z"
   },
   {
    "duration": 0,
    "start_time": "2023-04-07T19:18:27.025Z"
   },
   {
    "duration": 0,
    "start_time": "2023-04-07T19:18:27.026Z"
   },
   {
    "duration": 0,
    "start_time": "2023-04-07T19:18:27.028Z"
   },
   {
    "duration": 0,
    "start_time": "2023-04-07T19:18:27.028Z"
   },
   {
    "duration": 0,
    "start_time": "2023-04-07T19:18:27.030Z"
   },
   {
    "duration": 0,
    "start_time": "2023-04-07T19:18:27.031Z"
   },
   {
    "duration": 0,
    "start_time": "2023-04-07T19:18:27.032Z"
   },
   {
    "duration": 0,
    "start_time": "2023-04-07T19:18:27.033Z"
   },
   {
    "duration": 0,
    "start_time": "2023-04-07T19:18:27.034Z"
   },
   {
    "duration": 0,
    "start_time": "2023-04-07T19:18:27.035Z"
   },
   {
    "duration": 0,
    "start_time": "2023-04-07T19:18:27.036Z"
   },
   {
    "duration": 0,
    "start_time": "2023-04-07T19:18:27.037Z"
   },
   {
    "duration": 0,
    "start_time": "2023-04-07T19:18:27.038Z"
   },
   {
    "duration": 0,
    "start_time": "2023-04-07T19:18:27.039Z"
   },
   {
    "duration": 0,
    "start_time": "2023-04-07T19:18:27.040Z"
   },
   {
    "duration": 0,
    "start_time": "2023-04-07T19:18:27.041Z"
   },
   {
    "duration": 0,
    "start_time": "2023-04-07T19:18:27.042Z"
   },
   {
    "duration": 0,
    "start_time": "2023-04-07T19:18:27.043Z"
   },
   {
    "duration": 0,
    "start_time": "2023-04-07T19:18:27.045Z"
   },
   {
    "duration": 0,
    "start_time": "2023-04-07T19:18:27.046Z"
   },
   {
    "duration": 0,
    "start_time": "2023-04-07T19:18:27.047Z"
   },
   {
    "duration": 0,
    "start_time": "2023-04-07T19:18:27.047Z"
   },
   {
    "duration": 15,
    "start_time": "2023-04-07T19:18:48.347Z"
   },
   {
    "duration": 3,
    "start_time": "2023-04-07T19:19:26.010Z"
   },
   {
    "duration": 13,
    "start_time": "2023-04-07T19:19:26.619Z"
   },
   {
    "duration": 1433,
    "start_time": "2023-04-07T19:19:32.146Z"
   },
   {
    "duration": 37,
    "start_time": "2023-04-07T19:19:33.582Z"
   },
   {
    "duration": 21,
    "start_time": "2023-04-07T19:19:33.620Z"
   },
   {
    "duration": 14,
    "start_time": "2023-04-07T19:19:33.643Z"
   },
   {
    "duration": 11,
    "start_time": "2023-04-07T19:19:33.659Z"
   },
   {
    "duration": 9,
    "start_time": "2023-04-07T19:19:33.672Z"
   },
   {
    "duration": 51,
    "start_time": "2023-04-07T19:19:33.683Z"
   },
   {
    "duration": 5,
    "start_time": "2023-04-07T19:19:33.736Z"
   },
   {
    "duration": 11,
    "start_time": "2023-04-07T19:19:33.743Z"
   },
   {
    "duration": 12,
    "start_time": "2023-04-07T19:19:33.758Z"
   },
   {
    "duration": 12,
    "start_time": "2023-04-07T19:19:33.773Z"
   },
   {
    "duration": 5,
    "start_time": "2023-04-07T19:19:33.787Z"
   },
   {
    "duration": 13,
    "start_time": "2023-04-07T19:19:33.793Z"
   },
   {
    "duration": 16,
    "start_time": "2023-04-07T19:19:33.808Z"
   },
   {
    "duration": 24,
    "start_time": "2023-04-07T19:19:33.827Z"
   },
   {
    "duration": 6,
    "start_time": "2023-04-07T19:19:33.853Z"
   },
   {
    "duration": 8,
    "start_time": "2023-04-07T19:19:33.861Z"
   },
   {
    "duration": 20,
    "start_time": "2023-04-07T19:19:33.871Z"
   },
   {
    "duration": 18,
    "start_time": "2023-04-07T19:19:33.892Z"
   },
   {
    "duration": 19,
    "start_time": "2023-04-07T19:19:33.911Z"
   },
   {
    "duration": 13,
    "start_time": "2023-04-07T19:19:33.932Z"
   },
   {
    "duration": 137,
    "start_time": "2023-04-07T19:19:33.947Z"
   },
   {
    "duration": 0,
    "start_time": "2023-04-07T19:19:34.087Z"
   },
   {
    "duration": 0,
    "start_time": "2023-04-07T19:19:34.088Z"
   },
   {
    "duration": 0,
    "start_time": "2023-04-07T19:19:34.089Z"
   },
   {
    "duration": 0,
    "start_time": "2023-04-07T19:19:34.091Z"
   },
   {
    "duration": 0,
    "start_time": "2023-04-07T19:19:34.092Z"
   },
   {
    "duration": 0,
    "start_time": "2023-04-07T19:19:34.093Z"
   },
   {
    "duration": 0,
    "start_time": "2023-04-07T19:19:34.094Z"
   },
   {
    "duration": 1,
    "start_time": "2023-04-07T19:19:34.095Z"
   },
   {
    "duration": 0,
    "start_time": "2023-04-07T19:19:34.098Z"
   },
   {
    "duration": 0,
    "start_time": "2023-04-07T19:19:34.099Z"
   },
   {
    "duration": 0,
    "start_time": "2023-04-07T19:19:34.100Z"
   },
   {
    "duration": 0,
    "start_time": "2023-04-07T19:19:34.102Z"
   },
   {
    "duration": 0,
    "start_time": "2023-04-07T19:19:34.125Z"
   },
   {
    "duration": 0,
    "start_time": "2023-04-07T19:19:34.127Z"
   },
   {
    "duration": 0,
    "start_time": "2023-04-07T19:19:34.129Z"
   },
   {
    "duration": 0,
    "start_time": "2023-04-07T19:19:34.131Z"
   },
   {
    "duration": 0,
    "start_time": "2023-04-07T19:19:34.132Z"
   },
   {
    "duration": 0,
    "start_time": "2023-04-07T19:19:34.134Z"
   },
   {
    "duration": 0,
    "start_time": "2023-04-07T19:19:34.135Z"
   },
   {
    "duration": 0,
    "start_time": "2023-04-07T19:19:34.137Z"
   },
   {
    "duration": 0,
    "start_time": "2023-04-07T19:19:34.138Z"
   },
   {
    "duration": 0,
    "start_time": "2023-04-07T19:19:34.140Z"
   },
   {
    "duration": 0,
    "start_time": "2023-04-07T19:19:34.141Z"
   },
   {
    "duration": 0,
    "start_time": "2023-04-07T19:19:34.143Z"
   },
   {
    "duration": 0,
    "start_time": "2023-04-07T19:19:34.145Z"
   },
   {
    "duration": 0,
    "start_time": "2023-04-07T19:19:34.146Z"
   },
   {
    "duration": 0,
    "start_time": "2023-04-07T19:19:34.147Z"
   },
   {
    "duration": 0,
    "start_time": "2023-04-07T19:19:34.149Z"
   },
   {
    "duration": 0,
    "start_time": "2023-04-07T19:19:34.150Z"
   },
   {
    "duration": 0,
    "start_time": "2023-04-07T19:19:34.151Z"
   },
   {
    "duration": 0,
    "start_time": "2023-04-07T19:19:34.153Z"
   },
   {
    "duration": 0,
    "start_time": "2023-04-07T19:19:34.154Z"
   },
   {
    "duration": 14,
    "start_time": "2023-04-07T19:19:44.221Z"
   },
   {
    "duration": 15,
    "start_time": "2023-04-07T19:20:07.986Z"
   },
   {
    "duration": 1477,
    "start_time": "2023-04-07T19:20:17.996Z"
   },
   {
    "duration": 37,
    "start_time": "2023-04-07T19:20:19.475Z"
   },
   {
    "duration": 19,
    "start_time": "2023-04-07T19:20:19.514Z"
   },
   {
    "duration": 14,
    "start_time": "2023-04-07T19:20:19.535Z"
   },
   {
    "duration": 18,
    "start_time": "2023-04-07T19:20:19.551Z"
   },
   {
    "duration": 4,
    "start_time": "2023-04-07T19:20:19.571Z"
   },
   {
    "duration": 29,
    "start_time": "2023-04-07T19:20:19.577Z"
   },
   {
    "duration": 21,
    "start_time": "2023-04-07T19:20:19.607Z"
   },
   {
    "duration": 5,
    "start_time": "2023-04-07T19:20:19.630Z"
   },
   {
    "duration": 4,
    "start_time": "2023-04-07T19:20:19.638Z"
   },
   {
    "duration": 6,
    "start_time": "2023-04-07T19:20:19.644Z"
   },
   {
    "duration": 12,
    "start_time": "2023-04-07T19:20:19.652Z"
   },
   {
    "duration": 10,
    "start_time": "2023-04-07T19:20:19.665Z"
   },
   {
    "duration": 15,
    "start_time": "2023-04-07T19:20:19.677Z"
   },
   {
    "duration": 20,
    "start_time": "2023-04-07T19:20:19.694Z"
   },
   {
    "duration": 8,
    "start_time": "2023-04-07T19:20:19.715Z"
   },
   {
    "duration": 5,
    "start_time": "2023-04-07T19:20:19.725Z"
   },
   {
    "duration": 14,
    "start_time": "2023-04-07T19:20:19.732Z"
   },
   {
    "duration": 4,
    "start_time": "2023-04-07T19:20:19.748Z"
   },
   {
    "duration": 10,
    "start_time": "2023-04-07T19:20:19.755Z"
   },
   {
    "duration": 22,
    "start_time": "2023-04-07T19:20:19.767Z"
   },
   {
    "duration": 256,
    "start_time": "2023-04-07T19:20:19.791Z"
   },
   {
    "duration": 0,
    "start_time": "2023-04-07T19:20:20.050Z"
   },
   {
    "duration": 0,
    "start_time": "2023-04-07T19:20:20.051Z"
   },
   {
    "duration": 0,
    "start_time": "2023-04-07T19:20:20.052Z"
   },
   {
    "duration": 0,
    "start_time": "2023-04-07T19:20:20.053Z"
   },
   {
    "duration": 0,
    "start_time": "2023-04-07T19:20:20.054Z"
   },
   {
    "duration": 0,
    "start_time": "2023-04-07T19:20:20.055Z"
   },
   {
    "duration": 0,
    "start_time": "2023-04-07T19:20:20.056Z"
   },
   {
    "duration": 0,
    "start_time": "2023-04-07T19:20:20.057Z"
   },
   {
    "duration": 0,
    "start_time": "2023-04-07T19:20:20.058Z"
   },
   {
    "duration": 0,
    "start_time": "2023-04-07T19:20:20.059Z"
   },
   {
    "duration": 0,
    "start_time": "2023-04-07T19:20:20.060Z"
   },
   {
    "duration": 0,
    "start_time": "2023-04-07T19:20:20.061Z"
   },
   {
    "duration": 0,
    "start_time": "2023-04-07T19:20:20.062Z"
   },
   {
    "duration": 0,
    "start_time": "2023-04-07T19:20:20.063Z"
   },
   {
    "duration": 0,
    "start_time": "2023-04-07T19:20:20.064Z"
   },
   {
    "duration": 0,
    "start_time": "2023-04-07T19:20:20.065Z"
   },
   {
    "duration": 0,
    "start_time": "2023-04-07T19:20:20.066Z"
   },
   {
    "duration": 0,
    "start_time": "2023-04-07T19:20:20.068Z"
   },
   {
    "duration": 0,
    "start_time": "2023-04-07T19:20:20.123Z"
   },
   {
    "duration": 1,
    "start_time": "2023-04-07T19:20:20.124Z"
   },
   {
    "duration": 0,
    "start_time": "2023-04-07T19:20:20.126Z"
   },
   {
    "duration": 0,
    "start_time": "2023-04-07T19:20:20.127Z"
   },
   {
    "duration": 0,
    "start_time": "2023-04-07T19:20:20.128Z"
   },
   {
    "duration": 0,
    "start_time": "2023-04-07T19:20:20.129Z"
   },
   {
    "duration": 0,
    "start_time": "2023-04-07T19:20:20.130Z"
   },
   {
    "duration": 0,
    "start_time": "2023-04-07T19:20:20.131Z"
   },
   {
    "duration": 0,
    "start_time": "2023-04-07T19:20:20.132Z"
   },
   {
    "duration": 0,
    "start_time": "2023-04-07T19:20:20.133Z"
   },
   {
    "duration": 0,
    "start_time": "2023-04-07T19:20:20.134Z"
   },
   {
    "duration": 0,
    "start_time": "2023-04-07T19:20:20.135Z"
   },
   {
    "duration": 0,
    "start_time": "2023-04-07T19:20:20.136Z"
   },
   {
    "duration": 0,
    "start_time": "2023-04-07T19:20:20.137Z"
   },
   {
    "duration": 5,
    "start_time": "2023-04-07T19:25:55.748Z"
   },
   {
    "duration": 36,
    "start_time": "2023-04-07T19:27:01.433Z"
   },
   {
    "duration": 14,
    "start_time": "2023-04-07T19:27:53.273Z"
   },
   {
    "duration": 12,
    "start_time": "2023-04-07T19:28:03.025Z"
   },
   {
    "duration": 6,
    "start_time": "2023-04-07T19:28:26.426Z"
   },
   {
    "duration": 11,
    "start_time": "2023-04-07T19:28:36.766Z"
   },
   {
    "duration": 7,
    "start_time": "2023-04-07T19:28:46.947Z"
   },
   {
    "duration": 17,
    "start_time": "2023-04-07T19:32:31.885Z"
   },
   {
    "duration": 36,
    "start_time": "2023-04-07T19:34:38.059Z"
   },
   {
    "duration": 1450,
    "start_time": "2023-04-07T19:34:51.804Z"
   },
   {
    "duration": 37,
    "start_time": "2023-04-07T19:34:53.256Z"
   },
   {
    "duration": 19,
    "start_time": "2023-04-07T19:34:53.295Z"
   },
   {
    "duration": 12,
    "start_time": "2023-04-07T19:34:53.317Z"
   },
   {
    "duration": 18,
    "start_time": "2023-04-07T19:34:53.331Z"
   },
   {
    "duration": 4,
    "start_time": "2023-04-07T19:34:53.351Z"
   },
   {
    "duration": 34,
    "start_time": "2023-04-07T19:34:53.357Z"
   },
   {
    "duration": 5,
    "start_time": "2023-04-07T19:34:53.393Z"
   },
   {
    "duration": 18,
    "start_time": "2023-04-07T19:34:53.399Z"
   },
   {
    "duration": 24,
    "start_time": "2023-04-07T19:34:53.421Z"
   },
   {
    "duration": 7,
    "start_time": "2023-04-07T19:34:53.447Z"
   },
   {
    "duration": 21,
    "start_time": "2023-04-07T19:34:53.456Z"
   },
   {
    "duration": 12,
    "start_time": "2023-04-07T19:34:53.479Z"
   },
   {
    "duration": 11,
    "start_time": "2023-04-07T19:34:53.493Z"
   },
   {
    "duration": 26,
    "start_time": "2023-04-07T19:34:53.505Z"
   },
   {
    "duration": 5,
    "start_time": "2023-04-07T19:34:53.532Z"
   },
   {
    "duration": 10,
    "start_time": "2023-04-07T19:34:53.538Z"
   },
   {
    "duration": 35,
    "start_time": "2023-04-07T19:34:53.549Z"
   },
   {
    "duration": 4,
    "start_time": "2023-04-07T19:34:53.586Z"
   },
   {
    "duration": 126,
    "start_time": "2023-04-07T19:34:53.591Z"
   },
   {
    "duration": 0,
    "start_time": "2023-04-07T19:34:53.724Z"
   },
   {
    "duration": 0,
    "start_time": "2023-04-07T19:34:53.725Z"
   },
   {
    "duration": 0,
    "start_time": "2023-04-07T19:34:53.727Z"
   },
   {
    "duration": 0,
    "start_time": "2023-04-07T19:34:53.729Z"
   },
   {
    "duration": 0,
    "start_time": "2023-04-07T19:34:53.730Z"
   },
   {
    "duration": 0,
    "start_time": "2023-04-07T19:34:53.732Z"
   },
   {
    "duration": 0,
    "start_time": "2023-04-07T19:34:53.733Z"
   },
   {
    "duration": 0,
    "start_time": "2023-04-07T19:34:53.735Z"
   },
   {
    "duration": 0,
    "start_time": "2023-04-07T19:34:53.736Z"
   },
   {
    "duration": 0,
    "start_time": "2023-04-07T19:34:53.738Z"
   },
   {
    "duration": 0,
    "start_time": "2023-04-07T19:34:53.739Z"
   },
   {
    "duration": 0,
    "start_time": "2023-04-07T19:34:53.741Z"
   },
   {
    "duration": 0,
    "start_time": "2023-04-07T19:34:53.742Z"
   },
   {
    "duration": 1,
    "start_time": "2023-04-07T19:34:53.743Z"
   },
   {
    "duration": 0,
    "start_time": "2023-04-07T19:34:53.745Z"
   },
   {
    "duration": 0,
    "start_time": "2023-04-07T19:34:53.747Z"
   },
   {
    "duration": 0,
    "start_time": "2023-04-07T19:34:53.748Z"
   },
   {
    "duration": 0,
    "start_time": "2023-04-07T19:34:53.750Z"
   },
   {
    "duration": 0,
    "start_time": "2023-04-07T19:34:53.751Z"
   },
   {
    "duration": 0,
    "start_time": "2023-04-07T19:34:53.753Z"
   },
   {
    "duration": 0,
    "start_time": "2023-04-07T19:34:53.754Z"
   },
   {
    "duration": 0,
    "start_time": "2023-04-07T19:34:53.756Z"
   },
   {
    "duration": 0,
    "start_time": "2023-04-07T19:34:53.757Z"
   },
   {
    "duration": 0,
    "start_time": "2023-04-07T19:34:53.758Z"
   },
   {
    "duration": 0,
    "start_time": "2023-04-07T19:34:53.759Z"
   },
   {
    "duration": 0,
    "start_time": "2023-04-07T19:34:53.760Z"
   },
   {
    "duration": 0,
    "start_time": "2023-04-07T19:34:53.761Z"
   },
   {
    "duration": 0,
    "start_time": "2023-04-07T19:34:53.762Z"
   },
   {
    "duration": 0,
    "start_time": "2023-04-07T19:34:53.764Z"
   },
   {
    "duration": 33,
    "start_time": "2023-04-07T19:35:51.424Z"
   },
   {
    "duration": 15,
    "start_time": "2023-04-07T19:36:22.409Z"
   },
   {
    "duration": 13,
    "start_time": "2023-04-07T19:43:04.461Z"
   },
   {
    "duration": 5,
    "start_time": "2023-04-07T19:46:25.608Z"
   },
   {
    "duration": 17,
    "start_time": "2023-04-07T19:46:50.083Z"
   },
   {
    "duration": 16,
    "start_time": "2023-04-07T19:46:55.649Z"
   },
   {
    "duration": 13,
    "start_time": "2023-04-07T19:47:55.111Z"
   },
   {
    "duration": 14,
    "start_time": "2023-04-07T19:48:20.984Z"
   },
   {
    "duration": 13,
    "start_time": "2023-04-07T19:48:34.681Z"
   },
   {
    "duration": 14,
    "start_time": "2023-04-07T19:48:39.124Z"
   },
   {
    "duration": 14,
    "start_time": "2023-04-07T19:48:48.783Z"
   },
   {
    "duration": 15,
    "start_time": "2023-04-07T19:49:29.650Z"
   },
   {
    "duration": 29,
    "start_time": "2023-04-07T19:49:53.921Z"
   },
   {
    "duration": 30,
    "start_time": "2023-04-07T20:01:56.305Z"
   },
   {
    "duration": 28,
    "start_time": "2023-04-07T20:02:01.968Z"
   },
   {
    "duration": 39,
    "start_time": "2023-04-07T20:10:12.634Z"
   },
   {
    "duration": 24,
    "start_time": "2023-04-07T20:10:43.035Z"
   },
   {
    "duration": 33,
    "start_time": "2023-04-07T20:11:03.608Z"
   },
   {
    "duration": 30,
    "start_time": "2023-04-07T20:11:15.644Z"
   },
   {
    "duration": 26,
    "start_time": "2023-04-07T20:14:13.358Z"
   },
   {
    "duration": 36,
    "start_time": "2023-04-07T20:14:20.389Z"
   },
   {
    "duration": 5,
    "start_time": "2023-04-07T20:15:20.146Z"
   },
   {
    "duration": 34,
    "start_time": "2023-04-07T20:15:45.320Z"
   },
   {
    "duration": 5,
    "start_time": "2023-04-07T20:16:02.041Z"
   },
   {
    "duration": 28,
    "start_time": "2023-04-07T20:16:02.673Z"
   },
   {
    "duration": 52,
    "start_time": "2023-04-07T20:16:34.990Z"
   },
   {
    "duration": 5,
    "start_time": "2023-04-07T20:16:44.870Z"
   },
   {
    "duration": 30,
    "start_time": "2023-04-07T20:16:45.575Z"
   },
   {
    "duration": 41,
    "start_time": "2023-04-07T20:16:52.064Z"
   },
   {
    "duration": 5,
    "start_time": "2023-04-07T20:17:34.115Z"
   },
   {
    "duration": 33,
    "start_time": "2023-04-07T20:17:35.060Z"
   },
   {
    "duration": 5,
    "start_time": "2023-04-07T20:17:51.301Z"
   },
   {
    "duration": 35,
    "start_time": "2023-04-07T20:17:52.452Z"
   },
   {
    "duration": 5,
    "start_time": "2023-04-07T20:18:17.587Z"
   },
   {
    "duration": 31,
    "start_time": "2023-04-07T20:18:18.099Z"
   },
   {
    "duration": 5,
    "start_time": "2023-04-07T20:18:39.084Z"
   },
   {
    "duration": 29,
    "start_time": "2023-04-07T20:18:39.682Z"
   },
   {
    "duration": 5,
    "start_time": "2023-04-07T20:18:53.328Z"
   },
   {
    "duration": 35,
    "start_time": "2023-04-07T20:18:54.217Z"
   },
   {
    "duration": 7,
    "start_time": "2023-04-07T20:19:12.151Z"
   },
   {
    "duration": 32,
    "start_time": "2023-04-07T20:19:12.848Z"
   },
   {
    "duration": 28,
    "start_time": "2023-04-07T20:19:33.668Z"
   },
   {
    "duration": 25,
    "start_time": "2023-04-07T20:19:44.894Z"
   },
   {
    "duration": 5,
    "start_time": "2023-04-07T20:21:03.811Z"
   },
   {
    "duration": 30,
    "start_time": "2023-04-07T20:21:04.255Z"
   },
   {
    "duration": 1395,
    "start_time": "2023-04-07T20:21:24.772Z"
   },
   {
    "duration": 37,
    "start_time": "2023-04-07T20:21:26.170Z"
   },
   {
    "duration": 21,
    "start_time": "2023-04-07T20:21:26.209Z"
   },
   {
    "duration": 14,
    "start_time": "2023-04-07T20:21:26.232Z"
   },
   {
    "duration": 16,
    "start_time": "2023-04-07T20:21:26.248Z"
   },
   {
    "duration": 5,
    "start_time": "2023-04-07T20:21:26.266Z"
   },
   {
    "duration": 23,
    "start_time": "2023-04-07T20:21:26.272Z"
   },
   {
    "duration": 29,
    "start_time": "2023-04-07T20:21:26.297Z"
   },
   {
    "duration": 5,
    "start_time": "2023-04-07T20:21:26.328Z"
   },
   {
    "duration": 5,
    "start_time": "2023-04-07T20:21:26.336Z"
   },
   {
    "duration": 6,
    "start_time": "2023-04-07T20:21:26.342Z"
   },
   {
    "duration": 9,
    "start_time": "2023-04-07T20:21:26.350Z"
   },
   {
    "duration": 12,
    "start_time": "2023-04-07T20:21:26.360Z"
   },
   {
    "duration": 3,
    "start_time": "2023-04-07T20:21:26.374Z"
   },
   {
    "duration": 9,
    "start_time": "2023-04-07T20:21:26.379Z"
   },
   {
    "duration": 4,
    "start_time": "2023-04-07T20:21:26.389Z"
   },
   {
    "duration": 4,
    "start_time": "2023-04-07T20:21:26.424Z"
   },
   {
    "duration": 42,
    "start_time": "2023-04-07T20:21:26.430Z"
   },
   {
    "duration": 5,
    "start_time": "2023-04-07T20:21:26.474Z"
   },
   {
    "duration": 260,
    "start_time": "2023-04-07T20:21:26.481Z"
   },
   {
    "duration": 0,
    "start_time": "2023-04-07T20:21:26.746Z"
   },
   {
    "duration": 1,
    "start_time": "2023-04-07T20:21:26.747Z"
   },
   {
    "duration": 0,
    "start_time": "2023-04-07T20:21:26.749Z"
   },
   {
    "duration": 0,
    "start_time": "2023-04-07T20:21:26.751Z"
   },
   {
    "duration": 0,
    "start_time": "2023-04-07T20:21:26.752Z"
   },
   {
    "duration": 1,
    "start_time": "2023-04-07T20:21:26.753Z"
   },
   {
    "duration": 0,
    "start_time": "2023-04-07T20:21:26.755Z"
   },
   {
    "duration": 0,
    "start_time": "2023-04-07T20:21:26.756Z"
   },
   {
    "duration": 0,
    "start_time": "2023-04-07T20:21:26.757Z"
   },
   {
    "duration": 0,
    "start_time": "2023-04-07T20:21:26.759Z"
   },
   {
    "duration": 0,
    "start_time": "2023-04-07T20:21:26.760Z"
   },
   {
    "duration": 0,
    "start_time": "2023-04-07T20:21:26.762Z"
   },
   {
    "duration": 0,
    "start_time": "2023-04-07T20:21:26.763Z"
   },
   {
    "duration": 0,
    "start_time": "2023-04-07T20:21:26.764Z"
   },
   {
    "duration": 0,
    "start_time": "2023-04-07T20:21:26.766Z"
   },
   {
    "duration": 0,
    "start_time": "2023-04-07T20:21:26.767Z"
   },
   {
    "duration": 1,
    "start_time": "2023-04-07T20:21:26.824Z"
   },
   {
    "duration": 0,
    "start_time": "2023-04-07T20:21:26.826Z"
   },
   {
    "duration": 0,
    "start_time": "2023-04-07T20:21:26.827Z"
   },
   {
    "duration": 0,
    "start_time": "2023-04-07T20:21:26.829Z"
   },
   {
    "duration": 0,
    "start_time": "2023-04-07T20:21:26.830Z"
   },
   {
    "duration": 0,
    "start_time": "2023-04-07T20:21:26.831Z"
   },
   {
    "duration": 0,
    "start_time": "2023-04-07T20:21:26.832Z"
   },
   {
    "duration": 0,
    "start_time": "2023-04-07T20:21:26.833Z"
   },
   {
    "duration": 0,
    "start_time": "2023-04-07T20:21:26.834Z"
   },
   {
    "duration": 1,
    "start_time": "2023-04-07T20:21:26.835Z"
   },
   {
    "duration": 0,
    "start_time": "2023-04-07T20:21:26.836Z"
   },
   {
    "duration": 0,
    "start_time": "2023-04-07T20:21:26.838Z"
   },
   {
    "duration": 0,
    "start_time": "2023-04-07T20:21:26.839Z"
   },
   {
    "duration": 0,
    "start_time": "2023-04-07T20:21:26.840Z"
   },
   {
    "duration": 31,
    "start_time": "2023-04-07T20:21:50.387Z"
   },
   {
    "duration": 5,
    "start_time": "2023-04-07T20:22:18.265Z"
   },
   {
    "duration": 31,
    "start_time": "2023-04-07T20:22:18.929Z"
   },
   {
    "duration": 3,
    "start_time": "2023-04-07T20:23:28.977Z"
   },
   {
    "duration": 15,
    "start_time": "2023-04-07T20:23:29.559Z"
   },
   {
    "duration": 5,
    "start_time": "2023-04-07T20:23:34.748Z"
   },
   {
    "duration": 15,
    "start_time": "2023-04-07T20:23:35.997Z"
   },
   {
    "duration": 4,
    "start_time": "2023-04-07T20:23:43.891Z"
   },
   {
    "duration": 15,
    "start_time": "2023-04-07T20:23:44.321Z"
   },
   {
    "duration": 5,
    "start_time": "2023-04-07T20:23:57.676Z"
   },
   {
    "duration": 11,
    "start_time": "2023-04-07T20:23:58.773Z"
   },
   {
    "duration": 6,
    "start_time": "2023-04-07T20:24:06.342Z"
   },
   {
    "duration": 28,
    "start_time": "2023-04-07T20:24:07.059Z"
   },
   {
    "duration": 4,
    "start_time": "2023-04-07T20:24:34.659Z"
   },
   {
    "duration": 27,
    "start_time": "2023-04-07T20:24:35.278Z"
   },
   {
    "duration": 5,
    "start_time": "2023-04-07T20:24:48.443Z"
   },
   {
    "duration": 17,
    "start_time": "2023-04-07T20:24:48.924Z"
   },
   {
    "duration": 4,
    "start_time": "2023-04-07T20:24:51.262Z"
   },
   {
    "duration": 4,
    "start_time": "2023-04-07T20:24:53.241Z"
   },
   {
    "duration": 5,
    "start_time": "2023-04-07T20:24:55.010Z"
   },
   {
    "duration": 30,
    "start_time": "2023-04-07T20:24:55.576Z"
   },
   {
    "duration": 6,
    "start_time": "2023-04-07T20:25:00.791Z"
   },
   {
    "duration": 28,
    "start_time": "2023-04-07T20:25:01.325Z"
   },
   {
    "duration": 5,
    "start_time": "2023-04-07T20:25:30.077Z"
   },
   {
    "duration": 47,
    "start_time": "2023-04-07T20:25:30.507Z"
   },
   {
    "duration": 5,
    "start_time": "2023-04-07T20:25:54.762Z"
   },
   {
    "duration": 33,
    "start_time": "2023-04-07T20:25:55.190Z"
   },
   {
    "duration": 5,
    "start_time": "2023-04-07T20:26:04.292Z"
   },
   {
    "duration": 29,
    "start_time": "2023-04-07T20:26:04.798Z"
   },
   {
    "duration": 4,
    "start_time": "2023-04-07T20:26:09.047Z"
   },
   {
    "duration": 28,
    "start_time": "2023-04-07T20:26:09.520Z"
   },
   {
    "duration": 5,
    "start_time": "2023-04-07T20:26:35.953Z"
   },
   {
    "duration": 38,
    "start_time": "2023-04-07T20:26:36.584Z"
   },
   {
    "duration": 6,
    "start_time": "2023-04-07T20:27:00.673Z"
   },
   {
    "duration": 33,
    "start_time": "2023-04-07T20:27:00.978Z"
   },
   {
    "duration": 55,
    "start_time": "2023-04-07T20:27:19.955Z"
   },
   {
    "duration": 45,
    "start_time": "2023-04-07T20:27:20.354Z"
   },
   {
    "duration": 1610,
    "start_time": "2023-04-08T06:59:25.433Z"
   },
   {
    "duration": 89,
    "start_time": "2023-04-08T06:59:27.045Z"
   },
   {
    "duration": 23,
    "start_time": "2023-04-08T06:59:27.137Z"
   },
   {
    "duration": 15,
    "start_time": "2023-04-08T06:59:27.162Z"
   },
   {
    "duration": 14,
    "start_time": "2023-04-08T06:59:28.699Z"
   },
   {
    "duration": 5,
    "start_time": "2023-04-08T06:59:29.585Z"
   },
   {
    "duration": 24,
    "start_time": "2023-04-08T06:59:31.181Z"
   },
   {
    "duration": 5,
    "start_time": "2023-04-08T06:59:31.771Z"
   },
   {
    "duration": 4,
    "start_time": "2023-04-08T06:59:32.440Z"
   },
   {
    "duration": 5,
    "start_time": "2023-04-08T06:59:33.817Z"
   },
   {
    "duration": 2,
    "start_time": "2023-04-08T06:59:35.128Z"
   },
   {
    "duration": 3,
    "start_time": "2023-04-08T06:59:35.527Z"
   },
   {
    "duration": 11,
    "start_time": "2023-04-08T06:59:37.169Z"
   },
   {
    "duration": 4,
    "start_time": "2023-04-08T06:59:37.977Z"
   },
   {
    "duration": 8,
    "start_time": "2023-04-08T06:59:38.818Z"
   },
   {
    "duration": 4,
    "start_time": "2023-04-08T06:59:39.689Z"
   },
   {
    "duration": 4,
    "start_time": "2023-04-08T06:59:41.452Z"
   },
   {
    "duration": 25,
    "start_time": "2023-04-08T06:59:45.805Z"
   },
   {
    "duration": 4,
    "start_time": "2023-04-08T06:59:53.026Z"
   },
   {
    "duration": 159,
    "start_time": "2023-04-08T06:59:54.093Z"
   },
   {
    "duration": 5,
    "start_time": "2023-04-08T07:01:19.665Z"
   },
   {
    "duration": 34,
    "start_time": "2023-04-08T07:01:20.147Z"
   },
   {
    "duration": 5,
    "start_time": "2023-04-08T07:05:52.200Z"
   },
   {
    "duration": 39,
    "start_time": "2023-04-08T07:05:52.804Z"
   },
   {
    "duration": 6,
    "start_time": "2023-04-08T07:06:03.737Z"
   },
   {
    "duration": 37,
    "start_time": "2023-04-08T07:06:04.098Z"
   },
   {
    "duration": 4,
    "start_time": "2023-04-08T07:06:20.015Z"
   },
   {
    "duration": 34,
    "start_time": "2023-04-08T07:06:20.384Z"
   },
   {
    "duration": 29,
    "start_time": "2023-04-08T07:08:18.316Z"
   },
   {
    "duration": 33,
    "start_time": "2023-04-08T07:10:51.630Z"
   },
   {
    "duration": 35,
    "start_time": "2023-04-08T07:11:32.283Z"
   },
   {
    "duration": 5,
    "start_time": "2023-04-08T07:14:16.190Z"
   },
   {
    "duration": 39,
    "start_time": "2023-04-08T07:14:16.870Z"
   },
   {
    "duration": 6,
    "start_time": "2023-04-08T07:18:33.135Z"
   },
   {
    "duration": 45,
    "start_time": "2023-04-08T07:18:33.725Z"
   },
   {
    "duration": 5,
    "start_time": "2023-04-08T07:19:03.284Z"
   },
   {
    "duration": 31,
    "start_time": "2023-04-08T07:19:03.781Z"
   },
   {
    "duration": 15,
    "start_time": "2023-04-08T07:20:32.273Z"
   },
   {
    "duration": 16,
    "start_time": "2023-04-08T07:21:15.059Z"
   },
   {
    "duration": 1428,
    "start_time": "2023-04-08T07:21:29.974Z"
   },
   {
    "duration": 39,
    "start_time": "2023-04-08T07:21:31.405Z"
   },
   {
    "duration": 21,
    "start_time": "2023-04-08T07:21:31.446Z"
   },
   {
    "duration": 32,
    "start_time": "2023-04-08T07:21:31.469Z"
   },
   {
    "duration": 26,
    "start_time": "2023-04-08T07:21:31.503Z"
   },
   {
    "duration": 26,
    "start_time": "2023-04-08T07:21:31.530Z"
   },
   {
    "duration": 53,
    "start_time": "2023-04-08T07:21:31.557Z"
   },
   {
    "duration": 26,
    "start_time": "2023-04-08T07:21:31.612Z"
   },
   {
    "duration": 40,
    "start_time": "2023-04-08T07:21:31.639Z"
   },
   {
    "duration": 25,
    "start_time": "2023-04-08T07:21:31.682Z"
   },
   {
    "duration": 37,
    "start_time": "2023-04-08T07:21:31.709Z"
   },
   {
    "duration": 14,
    "start_time": "2023-04-08T07:21:31.748Z"
   },
   {
    "duration": 30,
    "start_time": "2023-04-08T07:21:31.764Z"
   },
   {
    "duration": 24,
    "start_time": "2023-04-08T07:21:31.795Z"
   },
   {
    "duration": 41,
    "start_time": "2023-04-08T07:21:31.821Z"
   },
   {
    "duration": 22,
    "start_time": "2023-04-08T07:21:31.864Z"
   },
   {
    "duration": 24,
    "start_time": "2023-04-08T07:21:31.887Z"
   },
   {
    "duration": 16,
    "start_time": "2023-04-08T07:21:31.912Z"
   },
   {
    "duration": 46,
    "start_time": "2023-04-08T07:21:31.930Z"
   },
   {
    "duration": 9,
    "start_time": "2023-04-08T07:21:31.977Z"
   },
   {
    "duration": 41,
    "start_time": "2023-04-08T07:21:31.987Z"
   },
   {
    "duration": 23,
    "start_time": "2023-04-08T07:21:32.029Z"
   },
   {
    "duration": 39,
    "start_time": "2023-04-08T07:21:32.054Z"
   },
   {
    "duration": 37,
    "start_time": "2023-04-08T07:21:32.095Z"
   },
   {
    "duration": 9,
    "start_time": "2023-04-08T07:21:32.133Z"
   },
   {
    "duration": 13,
    "start_time": "2023-04-08T07:21:32.144Z"
   },
   {
    "duration": 934,
    "start_time": "2023-04-08T07:21:32.162Z"
   },
   {
    "duration": 63,
    "start_time": "2023-04-08T07:21:33.099Z"
   },
   {
    "duration": 101,
    "start_time": "2023-04-08T07:21:33.163Z"
   },
   {
    "duration": 397,
    "start_time": "2023-04-08T07:21:33.266Z"
   },
   {
    "duration": 98,
    "start_time": "2023-04-08T07:21:33.665Z"
   },
   {
    "duration": 96,
    "start_time": "2023-04-08T07:21:33.766Z"
   },
   {
    "duration": 423,
    "start_time": "2023-04-08T07:21:33.865Z"
   },
   {
    "duration": 402,
    "start_time": "2023-04-08T07:21:34.289Z"
   },
   {
    "duration": 6,
    "start_time": "2023-04-08T07:21:34.693Z"
   },
   {
    "duration": 5,
    "start_time": "2023-04-08T07:21:34.700Z"
   },
   {
    "duration": 10,
    "start_time": "2023-04-08T07:21:34.762Z"
   },
   {
    "duration": 22,
    "start_time": "2023-04-08T07:21:34.774Z"
   },
   {
    "duration": 3,
    "start_time": "2023-04-08T07:21:34.798Z"
   },
   {
    "duration": 59,
    "start_time": "2023-04-08T07:21:34.803Z"
   },
   {
    "duration": 7,
    "start_time": "2023-04-08T07:21:34.863Z"
   },
   {
    "duration": 96,
    "start_time": "2023-04-08T07:21:34.871Z"
   },
   {
    "duration": 7,
    "start_time": "2023-04-08T07:21:34.969Z"
   },
   {
    "duration": 1709,
    "start_time": "2023-04-08T07:21:34.978Z"
   },
   {
    "duration": 106,
    "start_time": "2023-04-08T07:21:36.689Z"
   },
   {
    "duration": 358,
    "start_time": "2023-04-08T07:21:36.796Z"
   },
   {
    "duration": 0,
    "start_time": "2023-04-08T07:21:37.157Z"
   },
   {
    "duration": 0,
    "start_time": "2023-04-08T07:21:37.159Z"
   },
   {
    "duration": 0,
    "start_time": "2023-04-08T07:21:37.162Z"
   },
   {
    "duration": 24,
    "start_time": "2023-04-08T07:22:55.096Z"
   },
   {
    "duration": 1419,
    "start_time": "2023-04-08T07:24:22.822Z"
   },
   {
    "duration": 35,
    "start_time": "2023-04-08T07:24:24.243Z"
   },
   {
    "duration": 19,
    "start_time": "2023-04-08T07:24:24.280Z"
   },
   {
    "duration": 13,
    "start_time": "2023-04-08T07:24:24.301Z"
   },
   {
    "duration": 20,
    "start_time": "2023-04-08T07:24:24.316Z"
   },
   {
    "duration": 5,
    "start_time": "2023-04-08T07:24:24.337Z"
   },
   {
    "duration": 37,
    "start_time": "2023-04-08T07:24:24.344Z"
   },
   {
    "duration": 5,
    "start_time": "2023-04-08T07:24:24.382Z"
   },
   {
    "duration": 9,
    "start_time": "2023-04-08T07:24:24.389Z"
   },
   {
    "duration": 4,
    "start_time": "2023-04-08T07:24:24.400Z"
   },
   {
    "duration": 5,
    "start_time": "2023-04-08T07:24:24.406Z"
   },
   {
    "duration": 4,
    "start_time": "2023-04-08T07:24:24.413Z"
   },
   {
    "duration": 8,
    "start_time": "2023-04-08T07:24:24.418Z"
   },
   {
    "duration": 6,
    "start_time": "2023-04-08T07:24:24.428Z"
   },
   {
    "duration": 35,
    "start_time": "2023-04-08T07:24:24.435Z"
   },
   {
    "duration": 3,
    "start_time": "2023-04-08T07:24:24.471Z"
   },
   {
    "duration": 5,
    "start_time": "2023-04-08T07:24:24.476Z"
   },
   {
    "duration": 6,
    "start_time": "2023-04-08T07:24:24.482Z"
   },
   {
    "duration": 40,
    "start_time": "2023-04-08T07:24:24.489Z"
   },
   {
    "duration": 52,
    "start_time": "2023-04-08T07:24:24.531Z"
   },
   {
    "duration": 26,
    "start_time": "2023-04-08T07:24:24.585Z"
   },
   {
    "duration": 9,
    "start_time": "2023-04-08T07:24:24.613Z"
   },
   {
    "duration": 43,
    "start_time": "2023-04-08T07:24:24.623Z"
   },
   {
    "duration": 22,
    "start_time": "2023-04-08T07:24:24.667Z"
   },
   {
    "duration": 21,
    "start_time": "2023-04-08T07:24:24.691Z"
   },
   {
    "duration": 64,
    "start_time": "2023-04-08T07:24:24.714Z"
   },
   {
    "duration": 11,
    "start_time": "2023-04-08T07:24:24.779Z"
   },
   {
    "duration": 26,
    "start_time": "2023-04-08T07:24:24.795Z"
   },
   {
    "duration": 682,
    "start_time": "2023-04-08T07:24:24.822Z"
   },
   {
    "duration": 8,
    "start_time": "2023-04-08T07:24:25.506Z"
   },
   {
    "duration": 71,
    "start_time": "2023-04-08T07:24:25.516Z"
   },
   {
    "duration": 595,
    "start_time": "2023-04-08T07:24:25.588Z"
   },
   {
    "duration": 0,
    "start_time": "2023-04-08T07:24:26.185Z"
   },
   {
    "duration": 0,
    "start_time": "2023-04-08T07:24:26.186Z"
   },
   {
    "duration": 0,
    "start_time": "2023-04-08T07:24:26.187Z"
   },
   {
    "duration": 0,
    "start_time": "2023-04-08T07:24:26.188Z"
   },
   {
    "duration": 0,
    "start_time": "2023-04-08T07:24:26.189Z"
   },
   {
    "duration": 0,
    "start_time": "2023-04-08T07:24:26.190Z"
   },
   {
    "duration": 0,
    "start_time": "2023-04-08T07:24:26.192Z"
   },
   {
    "duration": 0,
    "start_time": "2023-04-08T07:24:26.193Z"
   },
   {
    "duration": 0,
    "start_time": "2023-04-08T07:24:26.194Z"
   },
   {
    "duration": 0,
    "start_time": "2023-04-08T07:24:26.195Z"
   },
   {
    "duration": 0,
    "start_time": "2023-04-08T07:24:26.196Z"
   },
   {
    "duration": 0,
    "start_time": "2023-04-08T07:24:26.197Z"
   },
   {
    "duration": 0,
    "start_time": "2023-04-08T07:24:26.198Z"
   },
   {
    "duration": 0,
    "start_time": "2023-04-08T07:24:26.199Z"
   },
   {
    "duration": 0,
    "start_time": "2023-04-08T07:24:26.200Z"
   },
   {
    "duration": 0,
    "start_time": "2023-04-08T07:24:26.201Z"
   },
   {
    "duration": 0,
    "start_time": "2023-04-08T07:24:26.202Z"
   },
   {
    "duration": 0,
    "start_time": "2023-04-08T07:24:26.203Z"
   },
   {
    "duration": 0,
    "start_time": "2023-04-08T07:24:26.204Z"
   },
   {
    "duration": 5297,
    "start_time": "2023-04-08T07:53:36.296Z"
   },
   {
    "duration": 11609,
    "start_time": "2023-04-08T07:58:44.322Z"
   },
   {
    "duration": 11454,
    "start_time": "2023-04-08T08:01:19.077Z"
   },
   {
    "duration": 62,
    "start_time": "2023-04-08T08:01:44.649Z"
   },
   {
    "duration": 3836,
    "start_time": "2023-04-08T08:01:54.977Z"
   },
   {
    "duration": 29,
    "start_time": "2023-04-08T08:02:04.820Z"
   },
   {
    "duration": 11566,
    "start_time": "2023-04-08T08:04:34.559Z"
   },
   {
    "duration": 11391,
    "start_time": "2023-04-08T08:05:25.316Z"
   },
   {
    "duration": 35,
    "start_time": "2023-04-08T08:05:48.347Z"
   },
   {
    "duration": 11331,
    "start_time": "2023-04-08T08:05:57.842Z"
   },
   {
    "duration": 4995,
    "start_time": "2023-04-08T08:06:42.536Z"
   },
   {
    "duration": 206325,
    "start_time": "2023-04-08T08:07:11.695Z"
   },
   {
    "duration": 20,
    "start_time": "2023-04-08T08:15:03.615Z"
   },
   {
    "duration": 7,
    "start_time": "2023-04-08T08:15:08.452Z"
   },
   {
    "duration": 194713,
    "start_time": "2023-04-08T08:15:14.444Z"
   },
   {
    "duration": 24,
    "start_time": "2023-04-08T08:18:29.161Z"
   },
   {
    "duration": 20,
    "start_time": "2023-04-08T08:24:35.065Z"
   },
   {
    "duration": 25,
    "start_time": "2023-04-08T08:24:58.400Z"
   },
   {
    "duration": 35,
    "start_time": "2023-04-08T08:25:04.594Z"
   },
   {
    "duration": 24,
    "start_time": "2023-04-08T08:25:20.494Z"
   },
   {
    "duration": 57,
    "start_time": "2023-04-08T08:27:27.711Z"
   },
   {
    "duration": 106,
    "start_time": "2023-04-08T08:28:33.308Z"
   },
   {
    "duration": 60,
    "start_time": "2023-04-08T08:28:49.455Z"
   },
   {
    "duration": 55,
    "start_time": "2023-04-08T08:28:56.935Z"
   },
   {
    "duration": 2157761,
    "start_time": "2023-04-08T08:30:34.645Z"
   },
   {
    "duration": 312544,
    "start_time": "2023-04-08T09:06:48.942Z"
   },
   {
    "duration": 42981,
    "start_time": "2023-04-08T09:12:17.806Z"
   },
   {
    "duration": 321577,
    "start_time": "2023-04-08T09:13:30.261Z"
   },
   {
    "duration": 10623473,
    "start_time": "2023-04-08T09:19:53.388Z"
   },
   {
    "duration": 489561,
    "start_time": "2023-04-08T12:16:59.189Z"
   },
   {
    "duration": 6038,
    "start_time": "2023-04-08T12:25:26.953Z"
   },
   {
    "duration": 6079,
    "start_time": "2023-04-08T12:26:08.805Z"
   },
   {
    "duration": 4463793,
    "start_time": "2023-04-08T12:26:42.889Z"
   },
   {
    "duration": 97,
    "start_time": "2023-04-08T13:41:27.946Z"
   },
   {
    "duration": 49,
    "start_time": "2023-04-08T13:41:38.199Z"
   },
   {
    "duration": 5530,
    "start_time": "2023-04-08T13:41:45.854Z"
   },
   {
    "duration": 465,
    "start_time": "2023-04-08T13:42:21.402Z"
   },
   {
    "duration": 10,
    "start_time": "2023-04-08T13:42:21.889Z"
   },
   {
    "duration": 166,
    "start_time": "2023-04-08T13:42:23.129Z"
   },
   {
    "duration": 6,
    "start_time": "2023-04-08T13:42:46.930Z"
   },
   {
    "duration": 4,
    "start_time": "2023-04-08T13:42:54.775Z"
   },
   {
    "duration": 10,
    "start_time": "2023-04-08T13:42:55.241Z"
   },
   {
    "duration": 8,
    "start_time": "2023-04-08T13:42:55.667Z"
   },
   {
    "duration": 5,
    "start_time": "2023-04-08T13:42:58.899Z"
   },
   {
    "duration": 10,
    "start_time": "2023-04-08T13:42:59.230Z"
   },
   {
    "duration": 8,
    "start_time": "2023-04-08T13:42:59.543Z"
   },
   {
    "duration": 318433,
    "start_time": "2023-04-08T13:43:08.215Z"
   },
   {
    "duration": 21,
    "start_time": "2023-04-08T13:49:20.754Z"
   },
   {
    "duration": 8,
    "start_time": "2023-04-08T13:49:42.881Z"
   },
   {
    "duration": 148263,
    "start_time": "2023-04-08T13:49:45.650Z"
   },
   {
    "duration": 20,
    "start_time": "2023-04-08T13:52:55.057Z"
   },
   {
    "duration": 7,
    "start_time": "2023-04-08T13:52:56.732Z"
   },
   {
    "duration": 3941,
    "start_time": "2023-04-08T13:53:13.028Z"
   },
   {
    "duration": 473,
    "start_time": "2023-04-08T13:53:25.295Z"
   },
   {
    "duration": 11,
    "start_time": "2023-04-08T13:53:29.403Z"
   },
   {
    "duration": 1315,
    "start_time": "2023-04-08T13:53:34.057Z"
   },
   {
    "duration": 1888,
    "start_time": "2023-04-08T13:53:42.377Z"
   },
   {
    "duration": 1646,
    "start_time": "2023-04-08T13:53:57.925Z"
   },
   {
    "duration": 198,
    "start_time": "2023-04-08T13:54:06.372Z"
   },
   {
    "duration": 12,
    "start_time": "2023-04-08T13:54:07.861Z"
   },
   {
    "duration": 195622,
    "start_time": "2023-04-08T13:55:09.755Z"
   },
   {
    "duration": 242,
    "start_time": "2023-04-08T14:02:07.551Z"
   },
   {
    "duration": 370385,
    "start_time": "2023-04-08T14:02:22.749Z"
   },
   {
    "duration": 1772095,
    "start_time": "2023-04-08T14:09:38.403Z"
   },
   {
    "duration": 6774,
    "start_time": "2023-04-08T14:43:23.873Z"
   },
   {
    "duration": 3428236,
    "start_time": "2023-04-08T14:44:12.167Z"
   },
   {
    "duration": 10,
    "start_time": "2023-04-08T15:46:34.732Z"
   },
   {
    "duration": 88,
    "start_time": "2023-04-08T15:46:48.625Z"
   },
   {
    "duration": 13,
    "start_time": "2023-04-08T15:53:31.694Z"
   },
   {
    "duration": 84,
    "start_time": "2023-04-08T15:53:56.960Z"
   },
   {
    "duration": 12,
    "start_time": "2023-04-08T15:53:57.882Z"
   },
   {
    "duration": 96,
    "start_time": "2023-04-08T15:54:55.132Z"
   },
   {
    "duration": 17,
    "start_time": "2023-04-08T15:55:12.974Z"
   },
   {
    "duration": 20858341,
    "start_time": "2023-04-08T15:56:14.522Z"
   },
   {
    "duration": 63,
    "start_time": "2023-04-09T01:56:21.069Z"
   },
   {
    "duration": 1437,
    "start_time": "2023-04-09T01:56:37.155Z"
   },
   {
    "duration": 341,
    "start_time": "2023-04-09T01:56:39.080Z"
   },
   {
    "duration": 17,
    "start_time": "2023-04-09T01:56:39.733Z"
   },
   {
    "duration": 11,
    "start_time": "2023-04-09T01:56:40.364Z"
   },
   {
    "duration": 10,
    "start_time": "2023-04-09T01:56:42.323Z"
   },
   {
    "duration": 4,
    "start_time": "2023-04-09T01:56:43.261Z"
   },
   {
    "duration": 28,
    "start_time": "2023-04-09T01:56:45.125Z"
   },
   {
    "duration": 5,
    "start_time": "2023-04-09T01:56:46.118Z"
   },
   {
    "duration": 4,
    "start_time": "2023-04-09T01:56:47.527Z"
   },
   {
    "duration": 5,
    "start_time": "2023-04-09T01:56:50.613Z"
   },
   {
    "duration": 2,
    "start_time": "2023-04-09T01:56:52.520Z"
   },
   {
    "duration": 3,
    "start_time": "2023-04-09T01:56:52.970Z"
   },
   {
    "duration": 9,
    "start_time": "2023-04-09T01:56:54.850Z"
   },
   {
    "duration": 4,
    "start_time": "2023-04-09T01:56:55.796Z"
   },
   {
    "duration": 6,
    "start_time": "2023-04-09T01:56:56.825Z"
   },
   {
    "duration": 3,
    "start_time": "2023-04-09T01:56:57.685Z"
   },
   {
    "duration": 3,
    "start_time": "2023-04-09T01:56:58.617Z"
   },
   {
    "duration": 5,
    "start_time": "2023-04-09T01:57:00.150Z"
   },
   {
    "duration": 26,
    "start_time": "2023-04-09T01:57:00.650Z"
   },
   {
    "duration": 38,
    "start_time": "2023-04-09T01:57:01.270Z"
   },
   {
    "duration": 29,
    "start_time": "2023-04-09T01:57:01.943Z"
   },
   {
    "duration": 8,
    "start_time": "2023-04-09T01:57:03.896Z"
   },
   {
    "duration": 23,
    "start_time": "2023-04-09T01:57:04.494Z"
   },
   {
    "duration": 17,
    "start_time": "2023-04-09T01:57:05.156Z"
   },
   {
    "duration": 28,
    "start_time": "2023-04-09T01:57:05.889Z"
   },
   {
    "duration": 6,
    "start_time": "2023-04-09T01:57:24.836Z"
   },
   {
    "duration": 5,
    "start_time": "2023-04-09T01:57:29.604Z"
   },
   {
    "duration": 10,
    "start_time": "2023-04-09T01:57:30.220Z"
   },
   {
    "duration": 7,
    "start_time": "2023-04-09T01:57:30.936Z"
   },
   {
    "duration": 5,
    "start_time": "2023-04-09T01:57:33.592Z"
   },
   {
    "duration": 9,
    "start_time": "2023-04-09T01:57:34.105Z"
   },
   {
    "duration": 5,
    "start_time": "2023-04-09T01:57:34.628Z"
   },
   {
    "duration": 441,
    "start_time": "2023-04-09T01:57:46.727Z"
   },
   {
    "duration": 371,
    "start_time": "2023-04-09T01:58:11.889Z"
   },
   {
    "duration": 23,
    "start_time": "2023-04-09T01:58:24.344Z"
   },
   {
    "duration": 20882831,
    "start_time": "2023-04-09T01:59:37.415Z"
   },
   {
    "duration": 2445345,
    "start_time": "2023-04-09T07:48:15.430Z"
   },
   {
    "duration": 23,
    "start_time": "2023-04-09T08:30:46.930Z"
   },
   {
    "duration": 228,
    "start_time": "2023-04-09T08:31:28.120Z"
   },
   {
    "duration": 35,
    "start_time": "2023-04-09T08:31:33.731Z"
   },
   {
    "duration": 555,
    "start_time": "2023-04-09T08:32:59.498Z"
   },
   {
    "duration": 569,
    "start_time": "2023-04-09T08:33:38.152Z"
   },
   {
    "duration": 134,
    "start_time": "2023-04-09T08:33:57.326Z"
   },
   {
    "duration": 772,
    "start_time": "2023-04-09T08:34:00.802Z"
   },
   {
    "duration": 694,
    "start_time": "2023-04-09T08:34:16.562Z"
   },
   {
    "duration": 694,
    "start_time": "2023-04-09T08:34:23.443Z"
   },
   {
    "duration": 1120,
    "start_time": "2023-04-09T08:34:29.294Z"
   },
   {
    "duration": 700,
    "start_time": "2023-04-09T08:34:34.271Z"
   },
   {
    "duration": 42922,
    "start_time": "2023-04-09T08:43:18.919Z"
   },
   {
    "duration": 302,
    "start_time": "2023-04-09T08:44:44.118Z"
   },
   {
    "duration": 1828,
    "start_time": "2023-04-09T09:23:44.657Z"
   },
   {
    "duration": 307,
    "start_time": "2023-04-09T09:23:46.491Z"
   },
   {
    "duration": 38,
    "start_time": "2023-04-09T09:23:46.815Z"
   },
   {
    "duration": 38,
    "start_time": "2023-04-09T09:23:46.855Z"
   },
   {
    "duration": 34,
    "start_time": "2023-04-09T09:23:46.895Z"
   },
   {
    "duration": 6,
    "start_time": "2023-04-09T09:23:46.931Z"
   },
   {
    "duration": 82,
    "start_time": "2023-04-09T09:23:46.939Z"
   },
   {
    "duration": 13,
    "start_time": "2023-04-09T09:23:47.030Z"
   },
   {
    "duration": 16,
    "start_time": "2023-04-09T09:23:47.045Z"
   },
   {
    "duration": 92,
    "start_time": "2023-04-09T09:23:47.065Z"
   },
   {
    "duration": 10,
    "start_time": "2023-04-09T09:23:47.159Z"
   },
   {
    "duration": 130,
    "start_time": "2023-04-09T09:23:47.171Z"
   },
   {
    "duration": 59,
    "start_time": "2023-04-09T09:23:47.305Z"
   },
   {
    "duration": 73,
    "start_time": "2023-04-09T09:23:47.365Z"
   },
   {
    "duration": 12,
    "start_time": "2023-04-09T09:23:47.440Z"
   },
   {
    "duration": 8,
    "start_time": "2023-04-09T09:23:47.453Z"
   },
   {
    "duration": 42,
    "start_time": "2023-04-09T09:23:47.463Z"
   },
   {
    "duration": 38,
    "start_time": "2023-04-09T09:23:47.507Z"
   },
   {
    "duration": 49,
    "start_time": "2023-04-09T09:23:47.547Z"
   },
   {
    "duration": 47,
    "start_time": "2023-04-09T09:23:47.597Z"
   },
   {
    "duration": 39,
    "start_time": "2023-04-09T09:23:47.646Z"
   },
   {
    "duration": 16,
    "start_time": "2023-04-09T09:23:47.688Z"
   },
   {
    "duration": 88,
    "start_time": "2023-04-09T09:23:47.708Z"
   },
   {
    "duration": 37,
    "start_time": "2023-04-09T09:23:47.801Z"
   },
   {
    "duration": 27,
    "start_time": "2023-04-09T09:23:47.842Z"
   },
   {
    "duration": 257211,
    "start_time": "2023-04-09T09:23:47.871Z"
   },
   {
    "duration": 45,
    "start_time": "2023-04-09T09:28:05.088Z"
   },
   {
    "duration": 57,
    "start_time": "2023-04-09T09:28:05.140Z"
   },
   {
    "duration": 42224,
    "start_time": "2023-04-09T09:28:05.206Z"
   },
   {
    "duration": 261,
    "start_time": "2023-04-09T09:28:47.440Z"
   },
   {
    "duration": 42,
    "start_time": "2023-04-09T09:28:47.707Z"
   },
   {
    "duration": 3869,
    "start_time": "2023-04-09T09:28:47.755Z"
   },
   {
    "duration": 613,
    "start_time": "2023-04-09T09:28:51.652Z"
   },
   {
    "duration": 63,
    "start_time": "2023-04-09T09:28:52.267Z"
   },
   {
    "duration": 389,
    "start_time": "2023-04-09T09:28:52.348Z"
   },
   {
    "duration": 13,
    "start_time": "2023-04-09T09:28:52.739Z"
   },
   {
    "duration": 79,
    "start_time": "2023-04-09T09:28:52.754Z"
   },
   {
    "duration": 34,
    "start_time": "2023-04-09T09:28:52.835Z"
   },
   {
    "duration": 31,
    "start_time": "2023-04-09T09:28:52.877Z"
   },
   {
    "duration": 131,
    "start_time": "2023-04-09T09:28:52.910Z"
   },
   {
    "duration": 174,
    "start_time": "2023-04-09T09:28:53.043Z"
   },
   {
    "duration": 110,
    "start_time": "2023-04-09T09:28:53.219Z"
   },
   {
    "duration": 448836,
    "start_time": "2023-04-09T09:28:53.331Z"
   },
   {
    "duration": 35,
    "start_time": "2023-04-09T09:36:22.168Z"
   },
   {
    "duration": 39,
    "start_time": "2023-04-09T09:36:22.219Z"
   },
   {
    "duration": 186104,
    "start_time": "2023-04-09T09:36:22.260Z"
   },
   {
    "duration": 68,
    "start_time": "2023-04-09T09:39:28.365Z"
   },
   {
    "duration": 19,
    "start_time": "2023-04-09T09:39:28.443Z"
   },
   {
    "duration": 246291,
    "start_time": "2023-04-09T09:39:28.464Z"
   },
   {
    "duration": 544,
    "start_time": "2023-04-09T09:43:34.756Z"
   },
   {
    "duration": 34,
    "start_time": "2023-04-09T09:43:35.304Z"
   },
   {
    "duration": 133794,
    "start_time": "2023-04-09T09:43:35.339Z"
   },
   {
    "duration": 231,
    "start_time": "2023-04-09T09:45:49.137Z"
   },
   {
    "duration": 52,
    "start_time": "2023-04-09T09:45:49.370Z"
   },
   {
    "duration": 6010,
    "start_time": "2023-04-09T09:45:49.434Z"
   },
   {
    "duration": 986,
    "start_time": "2023-04-09T09:45:55.476Z"
   },
   {
    "duration": 58,
    "start_time": "2023-04-09T09:45:56.485Z"
   },
   {
    "duration": 4142,
    "start_time": "2023-04-09T09:45:56.572Z"
   },
   {
    "duration": 465,
    "start_time": "2023-04-09T09:46:00.726Z"
   },
   {
    "duration": 45,
    "start_time": "2023-04-09T09:46:01.205Z"
   },
   {
    "duration": 903,
    "start_time": "2023-04-09T09:46:01.309Z"
   },
   {
    "duration": 1596,
    "start_time": "2023-04-09T15:38:43.569Z"
   },
   {
    "duration": 70,
    "start_time": "2023-04-09T15:38:48.721Z"
   },
   {
    "duration": 20,
    "start_time": "2023-04-09T15:38:49.167Z"
   },
   {
    "duration": 15,
    "start_time": "2023-04-09T15:38:49.671Z"
   },
   {
    "duration": 12,
    "start_time": "2023-04-09T15:38:51.356Z"
   },
   {
    "duration": 5,
    "start_time": "2023-04-09T15:38:52.145Z"
   },
   {
    "duration": 23,
    "start_time": "2023-04-09T15:38:53.346Z"
   },
   {
    "duration": 5,
    "start_time": "2023-04-09T15:38:53.770Z"
   },
   {
    "duration": 4,
    "start_time": "2023-04-09T15:38:54.594Z"
   },
   {
    "duration": 4,
    "start_time": "2023-04-09T15:38:57.080Z"
   },
   {
    "duration": 2,
    "start_time": "2023-04-09T15:38:58.574Z"
   },
   {
    "duration": 2,
    "start_time": "2023-04-09T15:38:58.966Z"
   },
   {
    "duration": 9,
    "start_time": "2023-04-09T15:39:00.911Z"
   },
   {
    "duration": 3,
    "start_time": "2023-04-09T15:39:01.697Z"
   },
   {
    "duration": 6,
    "start_time": "2023-04-09T15:39:02.405Z"
   },
   {
    "duration": 3,
    "start_time": "2023-04-09T15:39:03.206Z"
   },
   {
    "duration": 3,
    "start_time": "2023-04-09T15:39:04.035Z"
   },
   {
    "duration": 5,
    "start_time": "2023-04-09T15:40:22.747Z"
   },
   {
    "duration": 29,
    "start_time": "2023-04-09T15:40:24.297Z"
   },
   {
    "duration": 120,
    "start_time": "2023-04-09T15:40:28.301Z"
   },
   {
    "duration": 17,
    "start_time": "2023-04-09T15:45:24.077Z"
   },
   {
    "duration": 31,
    "start_time": "2023-04-09T15:45:46.604Z"
   },
   {
    "duration": 7,
    "start_time": "2023-04-09T15:46:09.107Z"
   },
   {
    "duration": 20,
    "start_time": "2023-04-09T15:46:09.854Z"
   },
   {
    "duration": 4,
    "start_time": "2023-04-09T15:46:22.472Z"
   },
   {
    "duration": 34,
    "start_time": "2023-04-09T15:46:23.296Z"
   },
   {
    "duration": 15,
    "start_time": "2023-04-09T15:46:23.644Z"
   },
   {
    "duration": 12,
    "start_time": "2023-04-09T15:46:23.942Z"
   },
   {
    "duration": 13,
    "start_time": "2023-04-09T15:46:25.091Z"
   },
   {
    "duration": 5,
    "start_time": "2023-04-09T15:46:25.747Z"
   },
   {
    "duration": 22,
    "start_time": "2023-04-09T15:46:26.730Z"
   },
   {
    "duration": 6,
    "start_time": "2023-04-09T15:46:27.124Z"
   },
   {
    "duration": 4,
    "start_time": "2023-04-09T15:46:27.919Z"
   },
   {
    "duration": 5,
    "start_time": "2023-04-09T15:46:30.159Z"
   },
   {
    "duration": 2,
    "start_time": "2023-04-09T15:46:31.577Z"
   },
   {
    "duration": 3,
    "start_time": "2023-04-09T15:46:31.915Z"
   },
   {
    "duration": 7,
    "start_time": "2023-04-09T15:46:33.702Z"
   },
   {
    "duration": 3,
    "start_time": "2023-04-09T15:46:34.537Z"
   },
   {
    "duration": 5,
    "start_time": "2023-04-09T15:46:35.171Z"
   },
   {
    "duration": 3,
    "start_time": "2023-04-09T15:46:35.667Z"
   },
   {
    "duration": 4,
    "start_time": "2023-04-09T15:46:36.611Z"
   },
   {
    "duration": 7,
    "start_time": "2023-04-09T15:46:42.009Z"
   },
   {
    "duration": 29,
    "start_time": "2023-04-09T15:46:42.912Z"
   },
   {
    "duration": 20,
    "start_time": "2023-04-09T15:46:44.764Z"
   },
   {
    "duration": 27,
    "start_time": "2023-04-09T15:46:56.058Z"
   },
   {
    "duration": 21,
    "start_time": "2023-04-09T15:46:58.624Z"
   },
   {
    "duration": 29,
    "start_time": "2023-04-09T15:47:05.552Z"
   },
   {
    "duration": 5,
    "start_time": "2023-04-09T15:47:40.766Z"
   },
   {
    "duration": 24,
    "start_time": "2023-04-09T15:47:41.743Z"
   },
   {
    "duration": 4,
    "start_time": "2023-04-09T15:47:47.539Z"
   },
   {
    "duration": 34,
    "start_time": "2023-04-09T15:47:48.204Z"
   },
   {
    "duration": 15,
    "start_time": "2023-04-09T15:47:48.466Z"
   },
   {
    "duration": 13,
    "start_time": "2023-04-09T15:47:48.763Z"
   },
   {
    "duration": 12,
    "start_time": "2023-04-09T15:47:49.844Z"
   },
   {
    "duration": 5,
    "start_time": "2023-04-09T15:47:50.371Z"
   },
   {
    "duration": 21,
    "start_time": "2023-04-09T15:47:51.629Z"
   },
   {
    "duration": 5,
    "start_time": "2023-04-09T15:47:52.180Z"
   },
   {
    "duration": 4,
    "start_time": "2023-04-09T15:47:52.844Z"
   },
   {
    "duration": 4,
    "start_time": "2023-04-09T15:47:55.103Z"
   },
   {
    "duration": 3,
    "start_time": "2023-04-09T15:47:56.707Z"
   },
   {
    "duration": 3,
    "start_time": "2023-04-09T15:47:57.110Z"
   },
   {
    "duration": 7,
    "start_time": "2023-04-09T15:47:59.273Z"
   },
   {
    "duration": 4,
    "start_time": "2023-04-09T15:47:59.783Z"
   },
   {
    "duration": 6,
    "start_time": "2023-04-09T15:48:00.636Z"
   },
   {
    "duration": 3,
    "start_time": "2023-04-09T15:48:01.342Z"
   },
   {
    "duration": 3,
    "start_time": "2023-04-09T15:48:02.341Z"
   },
   {
    "duration": 4,
    "start_time": "2023-04-09T15:48:07.646Z"
   },
   {
    "duration": 23,
    "start_time": "2023-04-09T15:48:08.429Z"
   },
   {
    "duration": 22,
    "start_time": "2023-04-09T15:48:11.148Z"
   },
   {
    "duration": 18,
    "start_time": "2023-04-09T15:48:12.306Z"
   },
   {
    "duration": 5,
    "start_time": "2023-04-09T15:50:30.264Z"
   },
   {
    "duration": 31,
    "start_time": "2023-04-09T15:50:30.954Z"
   },
   {
    "duration": 16,
    "start_time": "2023-04-09T15:50:32.370Z"
   },
   {
    "duration": 5,
    "start_time": "2023-04-09T15:50:49.161Z"
   },
   {
    "duration": 34,
    "start_time": "2023-04-09T15:50:49.943Z"
   },
   {
    "duration": 15,
    "start_time": "2023-04-09T15:50:50.268Z"
   },
   {
    "duration": 12,
    "start_time": "2023-04-09T15:50:50.499Z"
   },
   {
    "duration": 11,
    "start_time": "2023-04-09T15:50:51.426Z"
   },
   {
    "duration": 6,
    "start_time": "2023-04-09T15:50:51.810Z"
   },
   {
    "duration": 22,
    "start_time": "2023-04-09T15:50:52.555Z"
   },
   {
    "duration": 5,
    "start_time": "2023-04-09T15:50:52.743Z"
   },
   {
    "duration": 4,
    "start_time": "2023-04-09T15:50:53.167Z"
   },
   {
    "duration": 4,
    "start_time": "2023-04-09T15:50:54.528Z"
   },
   {
    "duration": 3,
    "start_time": "2023-04-09T15:50:55.448Z"
   },
   {
    "duration": 2,
    "start_time": "2023-04-09T15:50:55.807Z"
   },
   {
    "duration": 8,
    "start_time": "2023-04-09T15:50:57.003Z"
   },
   {
    "duration": 4,
    "start_time": "2023-04-09T15:50:57.372Z"
   },
   {
    "duration": 6,
    "start_time": "2023-04-09T15:50:57.820Z"
   },
   {
    "duration": 4,
    "start_time": "2023-04-09T15:50:58.307Z"
   },
   {
    "duration": 3,
    "start_time": "2023-04-09T15:50:58.817Z"
   },
   {
    "duration": 28,
    "start_time": "2023-04-09T15:51:00.279Z"
   },
   {
    "duration": 5,
    "start_time": "2023-04-09T15:51:02.870Z"
   },
   {
    "duration": 27,
    "start_time": "2023-04-09T15:51:03.701Z"
   },
   {
    "duration": 17,
    "start_time": "2023-04-09T15:51:05.382Z"
   },
   {
    "duration": 16,
    "start_time": "2023-04-09T15:51:06.190Z"
   },
   {
    "duration": 5,
    "start_time": "2023-04-09T15:52:15.229Z"
   },
   {
    "duration": 17,
    "start_time": "2023-04-09T15:52:16.036Z"
   },
   {
    "duration": 16,
    "start_time": "2023-04-09T15:52:25.618Z"
   },
   {
    "duration": 4,
    "start_time": "2023-04-09T15:52:36.443Z"
   },
   {
    "duration": 42,
    "start_time": "2023-04-09T15:52:37.022Z"
   },
   {
    "duration": 18,
    "start_time": "2023-04-09T15:52:37.285Z"
   },
   {
    "duration": 17,
    "start_time": "2023-04-09T15:52:37.543Z"
   },
   {
    "duration": 12,
    "start_time": "2023-04-09T15:52:38.642Z"
   },
   {
    "duration": 5,
    "start_time": "2023-04-09T15:52:39.120Z"
   },
   {
    "duration": 28,
    "start_time": "2023-04-09T15:52:39.680Z"
   },
   {
    "duration": 7,
    "start_time": "2023-04-09T15:52:39.926Z"
   },
   {
    "duration": 4,
    "start_time": "2023-04-09T15:52:40.301Z"
   },
   {
    "duration": 5,
    "start_time": "2023-04-09T15:52:41.638Z"
   },
   {
    "duration": 3,
    "start_time": "2023-04-09T15:52:42.505Z"
   },
   {
    "duration": 3,
    "start_time": "2023-04-09T15:52:42.707Z"
   },
   {
    "duration": 8,
    "start_time": "2023-04-09T15:52:44.354Z"
   },
   {
    "duration": 4,
    "start_time": "2023-04-09T15:52:45.067Z"
   },
   {
    "duration": 7,
    "start_time": "2023-04-09T15:52:45.793Z"
   },
   {
    "duration": 4,
    "start_time": "2023-04-09T15:52:46.656Z"
   },
   {
    "duration": 4,
    "start_time": "2023-04-09T15:52:47.615Z"
   },
   {
    "duration": 44,
    "start_time": "2023-04-09T15:52:49.363Z"
   },
   {
    "duration": 5,
    "start_time": "2023-04-09T15:52:49.888Z"
   },
   {
    "duration": 30,
    "start_time": "2023-04-09T15:52:50.516Z"
   },
   {
    "duration": 25,
    "start_time": "2023-04-09T15:52:52.419Z"
   },
   {
    "duration": 21,
    "start_time": "2023-04-09T15:52:55.309Z"
   },
   {
    "duration": 18,
    "start_time": "2023-04-09T15:53:21.890Z"
   },
   {
    "duration": 4,
    "start_time": "2023-04-09T15:53:25.527Z"
   },
   {
    "duration": 37,
    "start_time": "2023-04-09T15:53:26.027Z"
   },
   {
    "duration": 14,
    "start_time": "2023-04-09T15:53:26.219Z"
   },
   {
    "duration": 13,
    "start_time": "2023-04-09T15:53:26.464Z"
   },
   {
    "duration": 11,
    "start_time": "2023-04-09T15:53:27.257Z"
   },
   {
    "duration": 6,
    "start_time": "2023-04-09T15:53:27.688Z"
   },
   {
    "duration": 23,
    "start_time": "2023-04-09T15:53:28.221Z"
   },
   {
    "duration": 5,
    "start_time": "2023-04-09T15:53:28.474Z"
   },
   {
    "duration": 4,
    "start_time": "2023-04-09T15:53:28.840Z"
   },
   {
    "duration": 4,
    "start_time": "2023-04-09T15:53:30.143Z"
   },
   {
    "duration": 3,
    "start_time": "2023-04-09T15:53:31.278Z"
   },
   {
    "duration": 25,
    "start_time": "2023-04-09T15:53:31.282Z"
   },
   {
    "duration": 9,
    "start_time": "2023-04-09T15:53:32.438Z"
   },
   {
    "duration": 5,
    "start_time": "2023-04-09T15:53:32.873Z"
   },
   {
    "duration": 6,
    "start_time": "2023-04-09T15:53:33.288Z"
   },
   {
    "duration": 3,
    "start_time": "2023-04-09T15:53:33.750Z"
   },
   {
    "duration": 3,
    "start_time": "2023-04-09T15:53:34.237Z"
   },
   {
    "duration": 30,
    "start_time": "2023-04-09T15:53:35.166Z"
   },
   {
    "duration": 5,
    "start_time": "2023-04-09T15:53:35.649Z"
   },
   {
    "duration": 5,
    "start_time": "2023-04-09T15:53:36.744Z"
   },
   {
    "duration": 30,
    "start_time": "2023-04-09T15:53:37.856Z"
   },
   {
    "duration": 24,
    "start_time": "2023-04-09T15:53:38.967Z"
   },
   {
    "duration": 35,
    "start_time": "2023-04-09T15:53:40.128Z"
   },
   {
    "duration": 6,
    "start_time": "2023-04-09T15:54:12.728Z"
   },
   {
    "duration": 5,
    "start_time": "2023-04-09T15:54:31.225Z"
   },
   {
    "duration": 5,
    "start_time": "2023-04-09T15:54:45.031Z"
   },
   {
    "duration": 6,
    "start_time": "2023-04-09T15:54:50.357Z"
   },
   {
    "duration": 5,
    "start_time": "2023-04-09T15:54:54.744Z"
   },
   {
    "duration": 6,
    "start_time": "2023-04-09T15:55:01.174Z"
   },
   {
    "duration": 6,
    "start_time": "2023-04-09T15:55:10.125Z"
   },
   {
    "duration": 5,
    "start_time": "2023-04-09T15:55:19.878Z"
   },
   {
    "duration": 13,
    "start_time": "2023-04-09T15:55:30.043Z"
   },
   {
    "duration": 6,
    "start_time": "2023-04-09T15:55:45.572Z"
   },
   {
    "duration": 5,
    "start_time": "2023-04-09T15:55:54.798Z"
   },
   {
    "duration": 7,
    "start_time": "2023-04-09T15:56:00.721Z"
   },
   {
    "duration": 6,
    "start_time": "2023-04-09T15:56:04.121Z"
   },
   {
    "duration": 7,
    "start_time": "2023-04-09T15:56:17.822Z"
   },
   {
    "duration": 28,
    "start_time": "2023-04-09T15:57:00.636Z"
   },
   {
    "duration": 11,
    "start_time": "2023-04-09T15:57:42.042Z"
   },
   {
    "duration": 19,
    "start_time": "2023-04-09T15:57:42.648Z"
   },
   {
    "duration": 4,
    "start_time": "2023-04-09T15:58:00.021Z"
   },
   {
    "duration": 33,
    "start_time": "2023-04-09T15:58:00.564Z"
   },
   {
    "duration": 16,
    "start_time": "2023-04-09T15:58:00.777Z"
   },
   {
    "duration": 13,
    "start_time": "2023-04-09T15:58:01.039Z"
   },
   {
    "duration": 16,
    "start_time": "2023-04-09T15:58:02.048Z"
   },
   {
    "duration": 5,
    "start_time": "2023-04-09T15:58:02.523Z"
   },
   {
    "duration": 25,
    "start_time": "2023-04-09T15:58:03.214Z"
   },
   {
    "duration": 5,
    "start_time": "2023-04-09T15:58:03.474Z"
   },
   {
    "duration": 5,
    "start_time": "2023-04-09T15:58:03.959Z"
   },
   {
    "duration": 5,
    "start_time": "2023-04-09T15:58:05.473Z"
   },
   {
    "duration": 3,
    "start_time": "2023-04-09T15:58:06.275Z"
   },
   {
    "duration": 3,
    "start_time": "2023-04-09T15:58:06.537Z"
   },
   {
    "duration": 7,
    "start_time": "2023-04-09T15:58:07.732Z"
   },
   {
    "duration": 3,
    "start_time": "2023-04-09T15:58:08.222Z"
   },
   {
    "duration": 6,
    "start_time": "2023-04-09T15:58:08.602Z"
   },
   {
    "duration": 4,
    "start_time": "2023-04-09T15:58:09.220Z"
   },
   {
    "duration": 3,
    "start_time": "2023-04-09T15:58:09.570Z"
   },
   {
    "duration": 31,
    "start_time": "2023-04-09T15:58:10.419Z"
   },
   {
    "duration": 5,
    "start_time": "2023-04-09T15:58:10.750Z"
   },
   {
    "duration": 7,
    "start_time": "2023-04-09T15:58:14.692Z"
   },
   {
    "duration": 37,
    "start_time": "2023-04-09T15:58:15.408Z"
   },
   {
    "duration": 23,
    "start_time": "2023-04-09T15:58:17.758Z"
   },
   {
    "duration": 26,
    "start_time": "2023-04-09T15:58:18.418Z"
   },
   {
    "duration": 19,
    "start_time": "2023-04-09T15:59:14.376Z"
   },
   {
    "duration": 18,
    "start_time": "2023-04-09T15:59:23.656Z"
   },
   {
    "duration": 20,
    "start_time": "2023-04-09T16:00:02.769Z"
   },
   {
    "duration": 820,
    "start_time": "2023-04-09T16:00:15.235Z"
   },
   {
    "duration": 19,
    "start_time": "2023-04-09T16:00:22.234Z"
   },
   {
    "duration": 20,
    "start_time": "2023-04-09T16:00:27.330Z"
   },
   {
    "duration": 27,
    "start_time": "2023-04-09T16:00:35.882Z"
   },
   {
    "duration": 23,
    "start_time": "2023-04-09T16:00:39.459Z"
   },
   {
    "duration": 19,
    "start_time": "2023-04-09T16:00:43.058Z"
   },
   {
    "duration": 19,
    "start_time": "2023-04-09T16:00:48.722Z"
   },
   {
    "duration": 19,
    "start_time": "2023-04-09T16:00:52.514Z"
   },
   {
    "duration": 20,
    "start_time": "2023-04-09T16:00:59.104Z"
   },
   {
    "duration": 20,
    "start_time": "2023-04-09T16:01:04.440Z"
   },
   {
    "duration": 4,
    "start_time": "2023-04-09T16:01:27.078Z"
   },
   {
    "duration": 43,
    "start_time": "2023-04-09T16:01:27.687Z"
   },
   {
    "duration": 14,
    "start_time": "2023-04-09T16:01:27.962Z"
   },
   {
    "duration": 12,
    "start_time": "2023-04-09T16:01:28.253Z"
   },
   {
    "duration": 12,
    "start_time": "2023-04-09T16:01:29.352Z"
   },
   {
    "duration": 16,
    "start_time": "2023-04-09T16:01:29.799Z"
   },
   {
    "duration": 31,
    "start_time": "2023-04-09T16:01:30.543Z"
   },
   {
    "duration": 6,
    "start_time": "2023-04-09T16:01:30.791Z"
   },
   {
    "duration": 4,
    "start_time": "2023-04-09T16:01:31.819Z"
   },
   {
    "duration": 5,
    "start_time": "2023-04-09T16:01:32.822Z"
   },
   {
    "duration": 2,
    "start_time": "2023-04-09T16:01:33.782Z"
   },
   {
    "duration": 2,
    "start_time": "2023-04-09T16:01:34.042Z"
   },
   {
    "duration": 8,
    "start_time": "2023-04-09T16:01:35.229Z"
   },
   {
    "duration": 3,
    "start_time": "2023-04-09T16:01:35.728Z"
   },
   {
    "duration": 6,
    "start_time": "2023-04-09T16:01:36.235Z"
   },
   {
    "duration": 4,
    "start_time": "2023-04-09T16:01:36.729Z"
   },
   {
    "duration": 3,
    "start_time": "2023-04-09T16:01:37.230Z"
   },
   {
    "duration": 32,
    "start_time": "2023-04-09T16:01:37.970Z"
   },
   {
    "duration": 5,
    "start_time": "2023-04-09T16:01:38.847Z"
   },
   {
    "duration": 8,
    "start_time": "2023-04-09T16:01:39.510Z"
   },
   {
    "duration": 29,
    "start_time": "2023-04-09T16:01:40.613Z"
   },
   {
    "duration": 27,
    "start_time": "2023-04-09T16:01:41.344Z"
   },
   {
    "duration": 30,
    "start_time": "2023-04-09T16:01:42.034Z"
   },
   {
    "duration": 23,
    "start_time": "2023-04-09T16:02:11.856Z"
   },
   {
    "duration": 20,
    "start_time": "2023-04-09T16:02:14.894Z"
   },
   {
    "duration": 21,
    "start_time": "2023-04-09T16:02:18.389Z"
   },
   {
    "duration": 18,
    "start_time": "2023-04-09T16:02:23.655Z"
   },
   {
    "duration": 10,
    "start_time": "2023-04-09T16:02:51.533Z"
   },
   {
    "duration": 24,
    "start_time": "2023-04-09T16:02:52.207Z"
   },
   {
    "duration": 20,
    "start_time": "2023-04-09T16:02:52.915Z"
   },
   {
    "duration": 21,
    "start_time": "2023-04-09T16:02:53.500Z"
   },
   {
    "duration": 220520,
    "start_time": "2023-04-09T16:03:06.700Z"
   },
   {
    "duration": 29,
    "start_time": "2023-04-09T16:06:47.222Z"
   },
   {
    "duration": 9,
    "start_time": "2023-04-09T16:06:47.253Z"
   },
   {
    "duration": 1463,
    "start_time": "2023-04-09T16:08:43.211Z"
   },
   {
    "duration": 44,
    "start_time": "2023-04-09T16:08:44.676Z"
   },
   {
    "duration": 21,
    "start_time": "2023-04-09T16:08:44.722Z"
   },
   {
    "duration": 14,
    "start_time": "2023-04-09T16:08:44.745Z"
   },
   {
    "duration": 18,
    "start_time": "2023-04-09T16:08:44.761Z"
   },
   {
    "duration": 34,
    "start_time": "2023-04-09T16:08:44.782Z"
   },
   {
    "duration": 36,
    "start_time": "2023-04-09T16:08:44.819Z"
   },
   {
    "duration": 6,
    "start_time": "2023-04-09T16:08:44.857Z"
   },
   {
    "duration": 17,
    "start_time": "2023-04-09T16:08:44.864Z"
   },
   {
    "duration": 16,
    "start_time": "2023-04-09T16:08:44.884Z"
   },
   {
    "duration": 11,
    "start_time": "2023-04-09T16:08:44.901Z"
   },
   {
    "duration": 4,
    "start_time": "2023-04-09T16:08:44.919Z"
   },
   {
    "duration": 8,
    "start_time": "2023-04-09T16:08:44.925Z"
   },
   {
    "duration": 4,
    "start_time": "2023-04-09T16:08:44.935Z"
   },
   {
    "duration": 11,
    "start_time": "2023-04-09T16:08:44.941Z"
   },
   {
    "duration": 7,
    "start_time": "2023-04-09T16:08:44.954Z"
   },
   {
    "duration": 4,
    "start_time": "2023-04-09T16:08:44.963Z"
   },
   {
    "duration": 10,
    "start_time": "2023-04-09T16:08:44.968Z"
   },
   {
    "duration": 33,
    "start_time": "2023-04-09T16:08:44.980Z"
   },
   {
    "duration": 54,
    "start_time": "2023-04-09T16:08:45.019Z"
   },
   {
    "duration": 24,
    "start_time": "2023-04-09T16:08:45.075Z"
   },
   {
    "duration": 33,
    "start_time": "2023-04-09T16:08:45.101Z"
   },
   {
    "duration": 11,
    "start_time": "2023-04-09T16:08:45.136Z"
   },
   {
    "duration": 27,
    "start_time": "2023-04-09T16:08:45.149Z"
   },
   {
    "duration": 52,
    "start_time": "2023-04-09T16:08:45.177Z"
   },
   {
    "duration": 26,
    "start_time": "2023-04-09T16:08:45.231Z"
   },
   {
    "duration": 229776,
    "start_time": "2023-04-09T16:08:45.259Z"
   },
   {
    "duration": 27,
    "start_time": "2023-04-09T16:12:35.039Z"
   },
   {
    "duration": 8,
    "start_time": "2023-04-09T16:12:35.068Z"
   },
   {
    "duration": 33511,
    "start_time": "2023-04-09T16:12:35.078Z"
   },
   {
    "duration": 179,
    "start_time": "2023-04-09T16:13:08.590Z"
   },
   {
    "duration": 15,
    "start_time": "2023-04-09T16:13:08.771Z"
   },
   {
    "duration": 4229,
    "start_time": "2023-04-09T16:13:08.788Z"
   },
   {
    "duration": 686,
    "start_time": "2023-04-09T16:13:13.019Z"
   },
   {
    "duration": 14,
    "start_time": "2023-04-09T16:13:13.707Z"
   },
   {
    "duration": 322,
    "start_time": "2023-04-09T16:13:13.723Z"
   },
   {
    "duration": 6,
    "start_time": "2023-04-09T16:13:14.047Z"
   },
   {
    "duration": 4,
    "start_time": "2023-04-09T16:13:14.055Z"
   },
   {
    "duration": 15,
    "start_time": "2023-04-09T16:13:14.060Z"
   },
   {
    "duration": 6,
    "start_time": "2023-04-09T16:13:14.076Z"
   },
   {
    "duration": 7,
    "start_time": "2023-04-09T16:13:14.105Z"
   },
   {
    "duration": 17,
    "start_time": "2023-04-09T16:13:14.117Z"
   },
   {
    "duration": 6,
    "start_time": "2023-04-09T16:13:14.135Z"
   },
   {
    "duration": 367944,
    "start_time": "2023-04-09T16:13:14.143Z"
   },
   {
    "duration": 33,
    "start_time": "2023-04-09T16:19:22.089Z"
   },
   {
    "duration": 8,
    "start_time": "2023-04-09T16:19:22.127Z"
   },
   {
    "duration": 160521,
    "start_time": "2023-04-09T16:19:22.136Z"
   },
   {
    "duration": 16,
    "start_time": "2023-04-09T16:22:02.659Z"
   },
   {
    "duration": 22,
    "start_time": "2023-04-09T16:22:02.676Z"
   },
   {
    "duration": 201649,
    "start_time": "2023-04-09T16:22:02.706Z"
   },
   {
    "duration": 457,
    "start_time": "2023-04-09T16:25:24.357Z"
   },
   {
    "duration": 30,
    "start_time": "2023-04-09T16:25:24.816Z"
   },
   {
    "duration": 114361,
    "start_time": "2023-04-09T16:25:24.848Z"
   },
   {
    "duration": 190,
    "start_time": "2023-04-09T16:27:19.211Z"
   },
   {
    "duration": 31,
    "start_time": "2023-04-09T16:27:19.414Z"
   },
   {
    "duration": 4168,
    "start_time": "2023-04-09T16:27:19.447Z"
   },
   {
    "duration": 792,
    "start_time": "2023-04-09T16:27:23.616Z"
   },
   {
    "duration": 14,
    "start_time": "2023-04-09T16:27:24.411Z"
   },
   {
    "duration": 3286,
    "start_time": "2023-04-09T16:27:24.428Z"
   },
   {
    "duration": 297,
    "start_time": "2023-04-09T16:27:27.715Z"
   },
   {
    "duration": 194,
    "start_time": "2023-04-09T16:27:28.015Z"
   },
   {
    "duration": 564,
    "start_time": "2023-04-09T16:27:28.212Z"
   },
   {
    "duration": 323,
    "start_time": "2023-04-09T17:31:35.811Z"
   },
   {
    "duration": 337,
    "start_time": "2023-04-09T17:31:41.452Z"
   },
   {
    "duration": 307,
    "start_time": "2023-04-09T17:32:52.785Z"
   },
   {
    "duration": 1885,
    "start_time": "2023-04-09T17:35:12.792Z"
   },
   {
    "duration": 35,
    "start_time": "2023-04-09T17:35:14.679Z"
   },
   {
    "duration": 19,
    "start_time": "2023-04-09T17:35:14.716Z"
   },
   {
    "duration": 12,
    "start_time": "2023-04-09T17:35:14.737Z"
   },
   {
    "duration": 12,
    "start_time": "2023-04-09T17:35:14.751Z"
   },
   {
    "duration": 4,
    "start_time": "2023-04-09T17:35:14.765Z"
   },
   {
    "duration": 51,
    "start_time": "2023-04-09T17:35:14.771Z"
   },
   {
    "duration": 4,
    "start_time": "2023-04-09T17:35:14.824Z"
   },
   {
    "duration": 13,
    "start_time": "2023-04-09T17:35:14.830Z"
   },
   {
    "duration": 9,
    "start_time": "2023-04-09T17:35:14.846Z"
   },
   {
    "duration": 6,
    "start_time": "2023-04-09T17:35:14.857Z"
   },
   {
    "duration": 4,
    "start_time": "2023-04-09T17:35:14.865Z"
   },
   {
    "duration": 9,
    "start_time": "2023-04-09T17:35:14.871Z"
   },
   {
    "duration": 22,
    "start_time": "2023-04-09T17:35:14.882Z"
   },
   {
    "duration": 6,
    "start_time": "2023-04-09T17:35:14.905Z"
   },
   {
    "duration": 5,
    "start_time": "2023-04-09T17:35:14.912Z"
   },
   {
    "duration": 5,
    "start_time": "2023-04-09T17:35:14.918Z"
   },
   {
    "duration": 6,
    "start_time": "2023-04-09T17:35:14.925Z"
   },
   {
    "duration": 21,
    "start_time": "2023-04-09T17:35:14.933Z"
   },
   {
    "duration": 48,
    "start_time": "2023-04-09T17:35:14.956Z"
   },
   {
    "duration": 25,
    "start_time": "2023-04-09T17:35:15.007Z"
   },
   {
    "duration": 24,
    "start_time": "2023-04-09T17:35:15.034Z"
   },
   {
    "duration": 10,
    "start_time": "2023-04-09T17:35:15.060Z"
   },
   {
    "duration": 54,
    "start_time": "2023-04-09T17:35:15.072Z"
   },
   {
    "duration": 21,
    "start_time": "2023-04-09T17:35:15.128Z"
   },
   {
    "duration": 19,
    "start_time": "2023-04-09T17:35:15.151Z"
   },
   {
    "duration": 223903,
    "start_time": "2023-04-09T17:35:15.172Z"
   },
   {
    "duration": 37,
    "start_time": "2023-04-09T17:38:59.079Z"
   },
   {
    "duration": 6,
    "start_time": "2023-04-09T17:38:59.118Z"
   },
   {
    "duration": 33959,
    "start_time": "2023-04-09T17:38:59.126Z"
   },
   {
    "duration": 201,
    "start_time": "2023-04-09T17:39:33.087Z"
   },
   {
    "duration": 26,
    "start_time": "2023-04-09T17:39:33.289Z"
   },
   {
    "duration": 4099,
    "start_time": "2023-04-09T17:39:33.317Z"
   },
   {
    "duration": 402,
    "start_time": "2023-04-09T17:39:37.418Z"
   },
   {
    "duration": 95,
    "start_time": "2023-04-09T17:39:37.822Z"
   },
   {
    "duration": 312,
    "start_time": "2023-04-09T17:39:37.924Z"
   },
   {
    "duration": 6,
    "start_time": "2023-04-09T17:39:38.237Z"
   },
   {
    "duration": 4,
    "start_time": "2023-04-09T17:39:38.245Z"
   },
   {
    "duration": 13,
    "start_time": "2023-04-09T17:39:38.251Z"
   },
   {
    "duration": 6,
    "start_time": "2023-04-09T17:39:38.265Z"
   },
   {
    "duration": 4,
    "start_time": "2023-04-09T17:39:38.273Z"
   },
   {
    "duration": 35,
    "start_time": "2023-04-09T17:39:38.278Z"
   },
   {
    "duration": 7,
    "start_time": "2023-04-09T17:39:38.315Z"
   },
   {
    "duration": 372218,
    "start_time": "2023-04-09T17:39:38.324Z"
   },
   {
    "duration": 21,
    "start_time": "2023-04-09T17:45:50.544Z"
   },
   {
    "duration": 8,
    "start_time": "2023-04-09T17:45:50.567Z"
   },
   {
    "duration": 155804,
    "start_time": "2023-04-09T17:45:50.576Z"
   },
   {
    "duration": 23,
    "start_time": "2023-04-09T17:48:26.382Z"
   },
   {
    "duration": 8,
    "start_time": "2023-04-09T17:48:26.407Z"
   },
   {
    "duration": 199046,
    "start_time": "2023-04-09T17:48:26.417Z"
   },
   {
    "duration": 459,
    "start_time": "2023-04-09T17:51:45.465Z"
   },
   {
    "duration": 30,
    "start_time": "2023-04-09T17:51:45.927Z"
   },
   {
    "duration": 114265,
    "start_time": "2023-04-09T17:51:45.959Z"
   },
   {
    "duration": 198,
    "start_time": "2023-04-09T17:53:40.226Z"
   },
   {
    "duration": 30,
    "start_time": "2023-04-09T17:53:40.426Z"
   },
   {
    "duration": 5162,
    "start_time": "2023-04-09T17:53:40.457Z"
   },
   {
    "duration": 800,
    "start_time": "2023-04-09T17:53:45.621Z"
   },
   {
    "duration": 17,
    "start_time": "2023-04-09T17:53:46.503Z"
   },
   {
    "duration": 2400,
    "start_time": "2023-04-09T17:53:46.522Z"
   },
   {
    "duration": 288,
    "start_time": "2023-04-09T17:53:48.923Z"
   },
   {
    "duration": 85,
    "start_time": "2023-04-09T17:53:49.218Z"
   },
   {
    "duration": 408,
    "start_time": "2023-04-09T17:53:49.311Z"
   }
  ],
  "kernelspec": {
   "display_name": "Python 3 (ipykernel)",
   "language": "python",
   "name": "python3"
  },
  "language_info": {
   "codemirror_mode": {
    "name": "ipython",
    "version": 3
   },
   "file_extension": ".py",
   "mimetype": "text/x-python",
   "name": "python",
   "nbconvert_exporter": "python",
   "pygments_lexer": "ipython3",
   "version": "3.9.5"
  },
  "toc": {
   "base_numbering": 1,
   "nav_menu": {},
   "number_sections": true,
   "sideBar": true,
   "skip_h1_title": true,
   "title_cell": "Содержание",
   "title_sidebar": "Contents",
   "toc_cell": true,
   "toc_position": {
    "height": "calc(100% - 180px)",
    "left": "10px",
    "top": "150px",
    "width": "165px"
   },
   "toc_section_display": true,
   "toc_window_display": true
  }
 },
 "nbformat": 4,
 "nbformat_minor": 2
}
