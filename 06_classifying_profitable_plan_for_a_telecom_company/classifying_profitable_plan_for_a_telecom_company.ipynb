{
 "cells": [
  {
   "attachments": {},
   "cell_type": "markdown",
   "metadata": {},
   "source": [
    "# Рекомендация тарифов для телекоммуникационной компании"
   ]
  },
  {
   "attachments": {},
   "cell_type": "markdown",
   "metadata": {},
   "source": [
    "**Задача:**\n",
    "\n",
    "Необходимо построить модель для задачи классификации, которая сможет подобрать подходящий для пользователя тариф.\n",
    "\n",
    "**Данные:**\n",
    "\n",
    "Имеются данные о поведении клиентов, котороые уже перешли на тарифы телекоммуникационной компании.\n",
    "\n",
    "> Предобработка данных не понадобится она уже сделана ([Исследование тарифов телекоммуникационной компании](https://github.com/SajKey/yandex_practicum_projects/tree/main/04_determination_of_a_profitable_plan_for_a_telecom_company))."
   ]
  },
  {
   "attachments": {},
   "cell_type": "markdown",
   "metadata": {},
   "source": [
    "## Изучение общей информации данных"
   ]
  },
  {
   "cell_type": "code",
   "execution_count": 2,
   "metadata": {},
   "outputs": [],
   "source": [
    "import pandas as pd\n",
    "from sklearn.metrics import accuracy_score\n",
    "from sklearn.tree import DecisionTreeClassifier\n",
    "from sklearn.ensemble import RandomForestClassifier\n",
    "from sklearn.linear_model import LogisticRegression\n",
    "from sklearn.model_selection import train_test_split\n",
    "from sklearn.dummy import DummyClassifier\n",
    "from sklearn.model_selection import GridSearchCV\n",
    "import warnings\n",
    "warnings.filterwarnings('ignore')"
   ]
  },
  {
   "cell_type": "code",
   "execution_count": 3,
   "metadata": {},
   "outputs": [],
   "source": [
    "df = pd.read_csv('users_behavior.csv')"
   ]
  },
  {
   "cell_type": "code",
   "execution_count": 4,
   "metadata": {},
   "outputs": [
    {
     "data": {
      "text/html": [
       "<div>\n",
       "<style scoped>\n",
       "    .dataframe tbody tr th:only-of-type {\n",
       "        vertical-align: middle;\n",
       "    }\n",
       "\n",
       "    .dataframe tbody tr th {\n",
       "        vertical-align: top;\n",
       "    }\n",
       "\n",
       "    .dataframe thead th {\n",
       "        text-align: right;\n",
       "    }\n",
       "</style>\n",
       "<table border=\"1\" class=\"dataframe\">\n",
       "  <thead>\n",
       "    <tr style=\"text-align: right;\">\n",
       "      <th></th>\n",
       "      <th>calls</th>\n",
       "      <th>minutes</th>\n",
       "      <th>messages</th>\n",
       "      <th>mb_used</th>\n",
       "      <th>is_ultra</th>\n",
       "    </tr>\n",
       "  </thead>\n",
       "  <tbody>\n",
       "    <tr>\n",
       "      <th>0</th>\n",
       "      <td>40.0</td>\n",
       "      <td>311.90</td>\n",
       "      <td>83.0</td>\n",
       "      <td>19915.42</td>\n",
       "      <td>0</td>\n",
       "    </tr>\n",
       "    <tr>\n",
       "      <th>1</th>\n",
       "      <td>85.0</td>\n",
       "      <td>516.75</td>\n",
       "      <td>56.0</td>\n",
       "      <td>22696.96</td>\n",
       "      <td>0</td>\n",
       "    </tr>\n",
       "    <tr>\n",
       "      <th>2</th>\n",
       "      <td>77.0</td>\n",
       "      <td>467.66</td>\n",
       "      <td>86.0</td>\n",
       "      <td>21060.45</td>\n",
       "      <td>0</td>\n",
       "    </tr>\n",
       "    <tr>\n",
       "      <th>3</th>\n",
       "      <td>106.0</td>\n",
       "      <td>745.53</td>\n",
       "      <td>81.0</td>\n",
       "      <td>8437.39</td>\n",
       "      <td>1</td>\n",
       "    </tr>\n",
       "    <tr>\n",
       "      <th>4</th>\n",
       "      <td>66.0</td>\n",
       "      <td>418.74</td>\n",
       "      <td>1.0</td>\n",
       "      <td>14502.75</td>\n",
       "      <td>0</td>\n",
       "    </tr>\n",
       "    <tr>\n",
       "      <th>5</th>\n",
       "      <td>58.0</td>\n",
       "      <td>344.56</td>\n",
       "      <td>21.0</td>\n",
       "      <td>15823.37</td>\n",
       "      <td>0</td>\n",
       "    </tr>\n",
       "    <tr>\n",
       "      <th>6</th>\n",
       "      <td>57.0</td>\n",
       "      <td>431.64</td>\n",
       "      <td>20.0</td>\n",
       "      <td>3738.90</td>\n",
       "      <td>1</td>\n",
       "    </tr>\n",
       "    <tr>\n",
       "      <th>7</th>\n",
       "      <td>15.0</td>\n",
       "      <td>132.40</td>\n",
       "      <td>6.0</td>\n",
       "      <td>21911.60</td>\n",
       "      <td>0</td>\n",
       "    </tr>\n",
       "    <tr>\n",
       "      <th>8</th>\n",
       "      <td>7.0</td>\n",
       "      <td>43.39</td>\n",
       "      <td>3.0</td>\n",
       "      <td>2538.67</td>\n",
       "      <td>1</td>\n",
       "    </tr>\n",
       "    <tr>\n",
       "      <th>9</th>\n",
       "      <td>90.0</td>\n",
       "      <td>665.41</td>\n",
       "      <td>38.0</td>\n",
       "      <td>17358.61</td>\n",
       "      <td>0</td>\n",
       "    </tr>\n",
       "  </tbody>\n",
       "</table>\n",
       "</div>"
      ],
      "text/plain": [
       "   calls  minutes  messages   mb_used  is_ultra\n",
       "0   40.0   311.90      83.0  19915.42         0\n",
       "1   85.0   516.75      56.0  22696.96         0\n",
       "2   77.0   467.66      86.0  21060.45         0\n",
       "3  106.0   745.53      81.0   8437.39         1\n",
       "4   66.0   418.74       1.0  14502.75         0\n",
       "5   58.0   344.56      21.0  15823.37         0\n",
       "6   57.0   431.64      20.0   3738.90         1\n",
       "7   15.0   132.40       6.0  21911.60         0\n",
       "8    7.0    43.39       3.0   2538.67         1\n",
       "9   90.0   665.41      38.0  17358.61         0"
      ]
     },
     "execution_count": 4,
     "metadata": {},
     "output_type": "execute_result"
    }
   ],
   "source": [
    "df.head(10)"
   ]
  },
  {
   "cell_type": "code",
   "execution_count": 5,
   "metadata": {},
   "outputs": [
    {
     "name": "stdout",
     "output_type": "stream",
     "text": [
      "<class 'pandas.core.frame.DataFrame'>\n",
      "RangeIndex: 3214 entries, 0 to 3213\n",
      "Data columns (total 5 columns):\n",
      " #   Column    Non-Null Count  Dtype  \n",
      "---  ------    --------------  -----  \n",
      " 0   calls     3214 non-null   float64\n",
      " 1   minutes   3214 non-null   float64\n",
      " 2   messages  3214 non-null   float64\n",
      " 3   mb_used   3214 non-null   float64\n",
      " 4   is_ultra  3214 non-null   int64  \n",
      "dtypes: float64(4), int64(1)\n",
      "memory usage: 125.7 KB\n"
     ]
    }
   ],
   "source": [
    "df.info()"
   ]
  },
  {
   "attachments": {},
   "cell_type": "markdown",
   "metadata": {},
   "source": [
    "Приведем тип данных в столбцах `calls` и `messages` к `int`, т.к. нет смысла оставлять их в типе `float`."
   ]
  },
  {
   "cell_type": "code",
   "execution_count": 6,
   "metadata": {},
   "outputs": [],
   "source": [
    "for column in df[['calls', 'messages']]:\n",
    "    df[column] = df[column].astype('int')"
   ]
  },
  {
   "cell_type": "code",
   "execution_count": 7,
   "metadata": {},
   "outputs": [
    {
     "data": {
      "text/html": [
       "<div>\n",
       "<style scoped>\n",
       "    .dataframe tbody tr th:only-of-type {\n",
       "        vertical-align: middle;\n",
       "    }\n",
       "\n",
       "    .dataframe tbody tr th {\n",
       "        vertical-align: top;\n",
       "    }\n",
       "\n",
       "    .dataframe thead th {\n",
       "        text-align: right;\n",
       "    }\n",
       "</style>\n",
       "<table border=\"1\" class=\"dataframe\">\n",
       "  <thead>\n",
       "    <tr style=\"text-align: right;\">\n",
       "      <th></th>\n",
       "      <th>calls</th>\n",
       "      <th>minutes</th>\n",
       "      <th>messages</th>\n",
       "      <th>mb_used</th>\n",
       "      <th>is_ultra</th>\n",
       "    </tr>\n",
       "  </thead>\n",
       "  <tbody>\n",
       "    <tr>\n",
       "      <th>0</th>\n",
       "      <td>40</td>\n",
       "      <td>311.90</td>\n",
       "      <td>83</td>\n",
       "      <td>19915.42</td>\n",
       "      <td>0</td>\n",
       "    </tr>\n",
       "    <tr>\n",
       "      <th>1</th>\n",
       "      <td>85</td>\n",
       "      <td>516.75</td>\n",
       "      <td>56</td>\n",
       "      <td>22696.96</td>\n",
       "      <td>0</td>\n",
       "    </tr>\n",
       "    <tr>\n",
       "      <th>2</th>\n",
       "      <td>77</td>\n",
       "      <td>467.66</td>\n",
       "      <td>86</td>\n",
       "      <td>21060.45</td>\n",
       "      <td>0</td>\n",
       "    </tr>\n",
       "    <tr>\n",
       "      <th>3</th>\n",
       "      <td>106</td>\n",
       "      <td>745.53</td>\n",
       "      <td>81</td>\n",
       "      <td>8437.39</td>\n",
       "      <td>1</td>\n",
       "    </tr>\n",
       "    <tr>\n",
       "      <th>4</th>\n",
       "      <td>66</td>\n",
       "      <td>418.74</td>\n",
       "      <td>1</td>\n",
       "      <td>14502.75</td>\n",
       "      <td>0</td>\n",
       "    </tr>\n",
       "  </tbody>\n",
       "</table>\n",
       "</div>"
      ],
      "text/plain": [
       "   calls  minutes  messages   mb_used  is_ultra\n",
       "0     40   311.90        83  19915.42         0\n",
       "1     85   516.75        56  22696.96         0\n",
       "2     77   467.66        86  21060.45         0\n",
       "3    106   745.53        81   8437.39         1\n",
       "4     66   418.74         1  14502.75         0"
      ]
     },
     "execution_count": 7,
     "metadata": {},
     "output_type": "execute_result"
    }
   ],
   "source": [
    "df.head()"
   ]
  },
  {
   "attachments": {},
   "cell_type": "markdown",
   "metadata": {},
   "source": [
    "**Вывод:**\n",
    "\n",
    "Данные чистые, без пропусков и подготовленны для дальнейшей работы с ними."
   ]
  },
  {
   "attachments": {},
   "cell_type": "markdown",
   "metadata": {},
   "source": [
    "## Разбиение данных на выборки"
   ]
  },
  {
   "cell_type": "code",
   "execution_count": 8,
   "metadata": {},
   "outputs": [],
   "source": [
    "features = df.drop('is_ultra', axis=1)\n",
    "target = df['is_ultra']"
   ]
  },
  {
   "attachments": {},
   "cell_type": "markdown",
   "metadata": {},
   "source": [
    "Спрятанной тестовой выборки нет. Разобъем данные на три части: обучающая, валидационная и тестовая. Размеры тестового и валидационного наборов равны. Исходные данные разбиваем в соотношении 3:1:1."
   ]
  },
  {
   "cell_type": "code",
   "execution_count": 9,
   "metadata": {},
   "outputs": [],
   "source": [
    "features_train, features_valid, target_train, target_valid = train_test_split(\n",
    "    features, target, test_size=0.4, random_state=12345)"
   ]
  },
  {
   "attachments": {},
   "cell_type": "markdown",
   "metadata": {},
   "source": [
    "Размер обучаемой выборки:"
   ]
  },
  {
   "cell_type": "code",
   "execution_count": 10,
   "metadata": {},
   "outputs": [
    {
     "name": "stdout",
     "output_type": "stream",
     "text": [
      "(1928, 4)\n",
      "(1928,)\n"
     ]
    }
   ],
   "source": [
    "print(features_train.shape)\n",
    "print(target_train.shape)"
   ]
  },
  {
   "attachments": {},
   "cell_type": "markdown",
   "metadata": {},
   "source": [
    "Разделение на валидационную и тестовую выборки."
   ]
  },
  {
   "cell_type": "code",
   "execution_count": 11,
   "metadata": {},
   "outputs": [],
   "source": [
    "features_valid, features_test, target_valid, target_test = train_test_split(\n",
    "    features_valid, target_valid, test_size=0.5, random_state=12345) "
   ]
  },
  {
   "attachments": {},
   "cell_type": "markdown",
   "metadata": {},
   "source": [
    "Размер валидационной выборки:"
   ]
  },
  {
   "cell_type": "code",
   "execution_count": 12,
   "metadata": {},
   "outputs": [
    {
     "name": "stdout",
     "output_type": "stream",
     "text": [
      "(643, 4)\n",
      "(643,)\n"
     ]
    }
   ],
   "source": [
    "print(features_valid.shape)\n",
    "print(target_valid.shape)"
   ]
  },
  {
   "attachments": {},
   "cell_type": "markdown",
   "metadata": {},
   "source": [
    "Размер тестовой выборки:"
   ]
  },
  {
   "cell_type": "code",
   "execution_count": 13,
   "metadata": {},
   "outputs": [
    {
     "name": "stdout",
     "output_type": "stream",
     "text": [
      "(643, 4)\n",
      "(643,)\n"
     ]
    }
   ],
   "source": [
    "print(features_test.shape)\n",
    "print(target_test.shape)"
   ]
  },
  {
   "attachments": {},
   "cell_type": "markdown",
   "metadata": {},
   "source": [
    "## Исследование моделей"
   ]
  },
  {
   "attachments": {},
   "cell_type": "markdown",
   "metadata": {},
   "source": [
    "Исследование лучшей модели **Decision Tree Classifier**"
   ]
  },
  {
   "cell_type": "code",
   "execution_count": 14,
   "metadata": {},
   "outputs": [
    {
     "name": "stdout",
     "output_type": "stream",
     "text": [
      "{'max_depth': 5, 'max_leaf_nodes': 7}\n",
      "Лучшая оценка доли правильных ответов: 0.7869362363919129\n"
     ]
    }
   ],
   "source": [
    "model = DecisionTreeClassifier(random_state=12345)\n",
    "parametrs = {'max_depth':range(1,6), \n",
    "             'max_leaf_nodes':range(1,11)}\n",
    "grid = GridSearchCV(model, parametrs, cv=5)\n",
    "grid.fit(features_train, target_train)\n",
    "predictions_valid = grid.predict(features_valid) \n",
    "result = accuracy_score(target_valid, predictions_valid) \n",
    "\n",
    "print(grid.best_params_)\n",
    "print(f'Лучшая оценка доли правильных ответов: {result}')"
   ]
  },
  {
   "attachments": {},
   "cell_type": "markdown",
   "metadata": {},
   "source": [
    "Исследование лучшей модели **Random Forest Classifier**"
   ]
  },
  {
   "cell_type": "code",
   "execution_count": 15,
   "metadata": {},
   "outputs": [
    {
     "name": "stdout",
     "output_type": "stream",
     "text": [
      "{'max_depth': 10, 'min_samples_leaf': 2, 'min_samples_split': 6, 'n_estimators': 11}\n",
      "Лучшая оценка доли правильных ответов: 0.8009331259720062\n"
     ]
    }
   ],
   "source": [
    "model = RandomForestClassifier(random_state=12345)\n",
    "parametrs = {'max_depth':range(5,11), \n",
    "             'n_estimators':range(11,31,10),\n",
    "             'min_samples_leaf': range (1,3),\n",
    "             'min_samples_split': range (2,7,2)}\n",
    "grid = GridSearchCV(model, parametrs, cv=5)\n",
    "grid.fit(features_train, target_train)\n",
    "predictions_valid = grid.predict(features_valid) \n",
    "result = accuracy_score(target_valid, predictions_valid) \n",
    "\n",
    "print(grid.best_params_)           \n",
    "print(f'Лучшая оценка доли правильных ответов: {result}')"
   ]
  },
  {
   "attachments": {},
   "cell_type": "markdown",
   "metadata": {},
   "source": [
    "Исследование модели **Logistic Regression**"
   ]
  },
  {
   "cell_type": "code",
   "execution_count": 16,
   "metadata": {},
   "outputs": [
    {
     "name": "stdout",
     "output_type": "stream",
     "text": [
      "{'max_iter': 50, 'solver': 'newton-cg'}\n",
      "Лучшая оценка доли правильных ответов: 0.7558320373250389\n"
     ]
    }
   ],
   "source": [
    "model = LogisticRegression(random_state=12345)\n",
    "parametrs = {'max_iter': [20, 50, 100, 200, 500, 1000],                      \n",
    "             'solver': ['newton-cg', 'lbfgs', 'liblinear', 'sag', 'saga']}\n",
    "grid = GridSearchCV(model, parametrs, cv=5)\n",
    "grid.fit(features_train, target_train)\n",
    "predictions_valid = grid.predict(features_valid) \n",
    "result = accuracy_score(target_valid, predictions_valid)\n",
    "\n",
    "print(grid.best_params_) \n",
    "print(f'Лучшая оценка доли правильных ответов: {result}')"
   ]
  },
  {
   "attachments": {},
   "cell_type": "markdown",
   "metadata": {},
   "source": [
    "**Вывод:**\n",
    "\n",
    "- Модель Decision Tree Classifier при параметре глубины дерева (`max_depth`) равному 5 и при максимальном количестве листьев в дереве (`max_leaf_nodes`) равному 7, выдает долю правильных ответов в 0.7869362363919129;\n",
    "- Модель Random Forest Classifier при следующих параметрах: колличества деревьев(`n_estimators`) равным 11, глубины дерева (`max_depth`) равному 10, минимальным числом объектов на листе (`min_samples_leaf`) равным 2 и минимальным числом выборок, необходимых для разделения (`min_samples_split`) равным 6, выдает долю правильных ответов в 0.8009331259720062;\n",
    "- Модель Logistic Regression при параметрах количества итераций (`max_iter`) равным 50 и алгоритма для оптимизации (`solver`) `newton-cg` выдает долю правильных ответов в 0.7573872472783826.\n",
    "\n",
    "Из данного исследования можно сказать, что с данными лучше всего справилась модель **Random Forest Classifier**."
   ]
  },
  {
   "attachments": {},
   "cell_type": "markdown",
   "metadata": {},
   "source": [
    "## Проверка модели на тестовой выборке"
   ]
  },
  {
   "attachments": {},
   "cell_type": "markdown",
   "metadata": {},
   "source": [
    "Проверка модели **Random Forest Classifier** на тестовой выборке."
   ]
  },
  {
   "cell_type": "code",
   "execution_count": 17,
   "metadata": {},
   "outputs": [
    {
     "name": "stdout",
     "output_type": "stream",
     "text": [
      "Доля правильных ответов: 0.807153965785381\n"
     ]
    }
   ],
   "source": [
    "model_test = RandomForestClassifier(random_state=12345, n_estimators=11, max_depth=10, min_samples_leaf=2, min_samples_split=6)\n",
    "model_test.fit(features_train, target_train) \n",
    "predictions_test = model_test.predict(features_test)\n",
    "result = accuracy_score(target_test, predictions_test) \n",
    "            \n",
    "print(f'Доля правильных ответов: {result}')"
   ]
  },
  {
   "attachments": {},
   "cell_type": "markdown",
   "metadata": {},
   "source": [
    "**Вывод:**\n",
    "\n",
    "На тестовой выборке доля правильных ответов составила 0.807153965785381."
   ]
  },
  {
   "attachments": {},
   "cell_type": "markdown",
   "metadata": {},
   "source": [
    "## Проверка модели на адекватность"
   ]
  },
  {
   "cell_type": "code",
   "execution_count": 18,
   "metadata": {},
   "outputs": [
    {
     "name": "stdout",
     "output_type": "stream",
     "text": [
      "0.7060653188180405\n"
     ]
    }
   ],
   "source": [
    "model_dc = DummyClassifier(strategy='most_frequent', random_state=12345)\n",
    "model_dc.fit(features_train, target_train)\n",
    "result_dc = model_dc.score(features_valid, target_valid)\n",
    "print(result_dc)"
   ]
  },
  {
   "cell_type": "code",
   "execution_count": 19,
   "metadata": {},
   "outputs": [
    {
     "name": "stdout",
     "output_type": "stream",
     "text": [
      "Доля правильных ответов: 0.807153965785381\n"
     ]
    }
   ],
   "source": [
    "print(f'Доля правильных ответов: {result}')"
   ]
  },
  {
   "attachments": {},
   "cell_type": "markdown",
   "metadata": {},
   "source": [
    "**Вывод:**\n",
    "\n",
    "Доля правильных ответов модели DummyClassifier ниже, чем у модели RandomForestClassifier, значит модель адекватна и эффективна."
   ]
  },
  {
   "attachments": {},
   "cell_type": "markdown",
   "metadata": {},
   "source": [
    "## Общий вывод"
   ]
  },
  {
   "attachments": {},
   "cell_type": "markdown",
   "metadata": {},
   "source": [
    "Было проведено исследования моделей, для выбора лучшей модели для задачи классификации, которая выберет подходящий тариф. По итогам исследования на обучающих и валидационных выборках, была выбрана модель **Random Forest Classifier** с лучшей долей правильных ответов. Также эта модель была протестирована и проверена на адекватность, показав долю правильных ответов в 0.807153965785381."
   ]
  }
 ],
 "metadata": {
  "ExecuteTimeLog": [
   {
    "duration": 390,
    "start_time": "2023-03-16T11:43:09.245Z"
   },
   {
    "duration": 85,
    "start_time": "2023-03-16T11:43:31.608Z"
   },
   {
    "duration": 29,
    "start_time": "2023-03-16T11:43:44.523Z"
   },
   {
    "duration": 1072,
    "start_time": "2023-03-16T13:09:21.331Z"
   },
   {
    "duration": 140,
    "start_time": "2023-03-16T13:12:18.526Z"
   },
   {
    "duration": 122,
    "start_time": "2023-03-16T13:12:23.128Z"
   },
   {
    "duration": 10,
    "start_time": "2023-03-16T13:12:28.507Z"
   },
   {
    "duration": 262,
    "start_time": "2023-03-16T13:12:28.855Z"
   },
   {
    "duration": 27,
    "start_time": "2023-03-16T13:12:29.198Z"
   },
   {
    "duration": 17,
    "start_time": "2023-03-16T13:12:31.920Z"
   },
   {
    "duration": 14,
    "start_time": "2023-03-16T13:12:45.493Z"
   },
   {
    "duration": 31,
    "start_time": "2023-03-16T13:20:45.038Z"
   },
   {
    "duration": 6226,
    "start_time": "2023-03-16T13:21:12.330Z"
   },
   {
    "duration": 5998,
    "start_time": "2023-03-16T13:21:58.199Z"
   },
   {
    "duration": 22,
    "start_time": "2023-03-16T13:22:04.199Z"
   },
   {
    "duration": 20,
    "start_time": "2023-03-16T13:23:38.906Z"
   },
   {
    "duration": 4,
    "start_time": "2023-03-16T13:23:53.935Z"
   },
   {
    "duration": 24,
    "start_time": "2023-03-16T13:23:57.510Z"
   },
   {
    "duration": 56,
    "start_time": "2023-03-16T13:25:22.275Z"
   },
   {
    "duration": 24,
    "start_time": "2023-03-16T13:25:26.238Z"
   },
   {
    "duration": 21,
    "start_time": "2023-03-16T13:28:26.622Z"
   },
   {
    "duration": 19,
    "start_time": "2023-03-16T13:29:45.528Z"
   },
   {
    "duration": 13,
    "start_time": "2023-03-16T13:32:20.453Z"
   },
   {
    "duration": 29,
    "start_time": "2023-03-16T13:32:32.744Z"
   },
   {
    "duration": 181,
    "start_time": "2023-03-16T13:33:42.477Z"
   },
   {
    "duration": 16,
    "start_time": "2023-03-16T13:33:46.251Z"
   },
   {
    "duration": 30,
    "start_time": "2023-03-16T13:33:56.325Z"
   },
   {
    "duration": 1022,
    "start_time": "2023-03-16T15:31:13.088Z"
   },
   {
    "duration": 76,
    "start_time": "2023-03-16T15:31:14.112Z"
   },
   {
    "duration": 16,
    "start_time": "2023-03-16T15:31:14.190Z"
   },
   {
    "duration": 7,
    "start_time": "2023-03-16T15:31:17.542Z"
   },
   {
    "duration": 125,
    "start_time": "2023-03-16T15:31:18.984Z"
   },
   {
    "duration": 23,
    "start_time": "2023-03-16T15:31:52.784Z"
   },
   {
    "duration": 25,
    "start_time": "2023-03-16T15:32:09.243Z"
   },
   {
    "duration": 30,
    "start_time": "2023-03-16T15:32:21.344Z"
   },
   {
    "duration": 34,
    "start_time": "2023-03-16T15:32:29.453Z"
   },
   {
    "duration": 59,
    "start_time": "2023-03-16T15:41:32.312Z"
   },
   {
    "duration": 57,
    "start_time": "2023-03-16T15:42:00.319Z"
   },
   {
    "duration": 29,
    "start_time": "2023-03-16T15:42:14.489Z"
   },
   {
    "duration": 40,
    "start_time": "2023-03-16T15:43:39.266Z"
   },
   {
    "duration": 21,
    "start_time": "2023-03-16T16:12:24.024Z"
   },
   {
    "duration": 21,
    "start_time": "2023-03-16T16:12:31.634Z"
   },
   {
    "duration": 14,
    "start_time": "2023-03-16T16:12:57.062Z"
   },
   {
    "duration": 25,
    "start_time": "2023-03-16T16:13:02.528Z"
   },
   {
    "duration": 15,
    "start_time": "2023-03-16T16:13:12.784Z"
   },
   {
    "duration": 15,
    "start_time": "2023-03-16T16:14:45.167Z"
   },
   {
    "duration": 10,
    "start_time": "2023-03-16T16:15:04.155Z"
   },
   {
    "duration": 9,
    "start_time": "2023-03-16T16:17:01.028Z"
   },
   {
    "duration": 10,
    "start_time": "2023-03-16T16:17:13.666Z"
   },
   {
    "duration": 3,
    "start_time": "2023-03-16T16:17:20.399Z"
   },
   {
    "duration": 13,
    "start_time": "2023-03-16T16:17:23.969Z"
   },
   {
    "duration": 35,
    "start_time": "2023-03-16T16:17:53.101Z"
   },
   {
    "duration": 4556,
    "start_time": "2023-03-16T16:18:03.109Z"
   },
   {
    "duration": 4565,
    "start_time": "2023-03-16T16:18:23.713Z"
   },
   {
    "duration": 8,
    "start_time": "2023-03-16T16:22:17.975Z"
   },
   {
    "duration": 14,
    "start_time": "2023-03-16T16:22:30.565Z"
   },
   {
    "duration": 1114,
    "start_time": "2023-03-17T11:26:11.825Z"
   },
   {
    "duration": 83,
    "start_time": "2023-03-17T11:26:12.941Z"
   },
   {
    "duration": 20,
    "start_time": "2023-03-17T11:26:13.025Z"
   },
   {
    "duration": 14,
    "start_time": "2023-03-17T11:26:13.046Z"
   },
   {
    "duration": 6,
    "start_time": "2023-03-17T11:26:13.062Z"
   },
   {
    "duration": 37,
    "start_time": "2023-03-17T11:26:13.070Z"
   },
   {
    "duration": 4365,
    "start_time": "2023-03-17T11:26:13.108Z"
   },
   {
    "duration": 123,
    "start_time": "2023-03-17T11:26:17.474Z"
   },
   {
    "duration": 205,
    "start_time": "2023-03-17T11:26:47.736Z"
   },
   {
    "duration": 36,
    "start_time": "2023-03-17T11:33:40.073Z"
   },
   {
    "duration": 33,
    "start_time": "2023-03-17T11:33:50.025Z"
   },
   {
    "duration": 33,
    "start_time": "2023-03-17T11:33:56.032Z"
   },
   {
    "duration": 4437,
    "start_time": "2023-03-17T11:35:21.083Z"
   },
   {
    "duration": 4433,
    "start_time": "2023-03-17T11:36:25.859Z"
   },
   {
    "duration": 1057,
    "start_time": "2023-03-17T11:36:54.702Z"
   },
   {
    "duration": 29,
    "start_time": "2023-03-17T11:36:55.761Z"
   },
   {
    "duration": 18,
    "start_time": "2023-03-17T11:36:55.791Z"
   },
   {
    "duration": 11,
    "start_time": "2023-03-17T11:36:55.810Z"
   },
   {
    "duration": 6,
    "start_time": "2023-03-17T11:36:55.823Z"
   },
   {
    "duration": 38,
    "start_time": "2023-03-17T11:36:55.831Z"
   },
   {
    "duration": 4181,
    "start_time": "2023-03-17T11:36:55.870Z"
   },
   {
    "duration": 192,
    "start_time": "2023-03-17T11:37:00.053Z"
   },
   {
    "duration": 37,
    "start_time": "2023-03-17T11:44:31.077Z"
   },
   {
    "duration": 4207,
    "start_time": "2023-03-17T11:44:31.905Z"
   },
   {
    "duration": 227,
    "start_time": "2023-03-17T11:44:36.114Z"
   },
   {
    "duration": 33,
    "start_time": "2023-03-17T11:44:57.759Z"
   },
   {
    "duration": 30,
    "start_time": "2023-03-17T11:45:03.979Z"
   },
   {
    "duration": 4302,
    "start_time": "2023-03-17T11:45:08.987Z"
   },
   {
    "duration": 4571,
    "start_time": "2023-03-17T11:45:29.135Z"
   },
   {
    "duration": 4216,
    "start_time": "2023-03-17T11:45:40.495Z"
   },
   {
    "duration": 4443,
    "start_time": "2023-03-17T11:45:48.988Z"
   },
   {
    "duration": 4304,
    "start_time": "2023-03-17T11:46:00.767Z"
   },
   {
    "duration": 4560,
    "start_time": "2023-03-17T11:47:59.235Z"
   },
   {
    "duration": 91,
    "start_time": "2023-03-17T11:50:36.026Z"
   },
   {
    "duration": 101,
    "start_time": "2023-03-17T11:50:51.380Z"
   },
   {
    "duration": 85,
    "start_time": "2023-03-17T11:51:49.259Z"
   },
   {
    "duration": 89,
    "start_time": "2023-03-17T11:52:24.682Z"
   },
   {
    "duration": 81,
    "start_time": "2023-03-17T11:52:40.221Z"
   },
   {
    "duration": 106,
    "start_time": "2023-03-17T11:58:04.466Z"
   },
   {
    "duration": 4,
    "start_time": "2023-03-17T11:58:16.935Z"
   },
   {
    "duration": 6,
    "start_time": "2023-03-17T11:58:28.396Z"
   },
   {
    "duration": 3,
    "start_time": "2023-03-17T11:58:54.203Z"
   },
   {
    "duration": 1201,
    "start_time": "2023-03-17T17:06:52.163Z"
   },
   {
    "duration": 80,
    "start_time": "2023-03-17T17:06:53.366Z"
   },
   {
    "duration": 19,
    "start_time": "2023-03-17T17:06:53.448Z"
   },
   {
    "duration": 18,
    "start_time": "2023-03-17T17:06:53.470Z"
   },
   {
    "duration": 8,
    "start_time": "2023-03-17T17:06:53.490Z"
   },
   {
    "duration": 38,
    "start_time": "2023-03-17T17:06:53.500Z"
   },
   {
    "duration": 4786,
    "start_time": "2023-03-17T17:06:53.539Z"
   },
   {
    "duration": 370,
    "start_time": "2023-03-17T17:06:58.327Z"
   },
   {
    "duration": 179,
    "start_time": "2023-03-17T17:06:58.700Z"
   },
   {
    "duration": 11,
    "start_time": "2023-03-17T17:06:58.881Z"
   },
   {
    "duration": 6,
    "start_time": "2023-03-17T17:06:58.894Z"
   },
   {
    "duration": 118,
    "start_time": "2023-03-17T17:10:10.138Z"
   },
   {
    "duration": 5,
    "start_time": "2023-03-17T17:10:20.581Z"
   },
   {
    "duration": 11,
    "start_time": "2023-03-17T17:10:29.748Z"
   },
   {
    "duration": 7,
    "start_time": "2023-03-17T17:20:37.912Z"
   },
   {
    "duration": 4,
    "start_time": "2023-03-17T17:20:43.991Z"
   },
   {
    "duration": 6,
    "start_time": "2023-03-17T17:25:18.370Z"
   },
   {
    "duration": 4,
    "start_time": "2023-03-17T17:26:51.419Z"
   },
   {
    "duration": 4,
    "start_time": "2023-03-17T17:27:01.194Z"
   },
   {
    "duration": 35,
    "start_time": "2023-03-17T17:28:10.680Z"
   },
   {
    "duration": 4510,
    "start_time": "2023-03-17T17:29:04.529Z"
   },
   {
    "duration": 49,
    "start_time": "2023-03-17T17:29:28.227Z"
   },
   {
    "duration": 203,
    "start_time": "2023-03-17T17:29:57.364Z"
   },
   {
    "duration": 53,
    "start_time": "2023-03-17T17:30:02.311Z"
   },
   {
    "duration": 206,
    "start_time": "2023-03-17T17:30:07.545Z"
   },
   {
    "duration": 56,
    "start_time": "2023-03-17T17:30:13.470Z"
   },
   {
    "duration": 214,
    "start_time": "2023-03-17T17:30:17.815Z"
   },
   {
    "duration": 41,
    "start_time": "2023-03-17T17:31:23.395Z"
   },
   {
    "duration": 184,
    "start_time": "2023-03-17T17:37:16.572Z"
   },
   {
    "duration": 131,
    "start_time": "2023-03-17T17:37:48.619Z"
   },
   {
    "duration": 144,
    "start_time": "2023-03-17T17:38:58.401Z"
   },
   {
    "duration": 142,
    "start_time": "2023-03-17T17:39:01.135Z"
   },
   {
    "duration": 3,
    "start_time": "2023-03-17T17:39:42.848Z"
   },
   {
    "duration": 18,
    "start_time": "2023-03-17T17:41:17.859Z"
   },
   {
    "duration": 9,
    "start_time": "2023-03-17T17:41:54.743Z"
   },
   {
    "duration": 46,
    "start_time": "2023-03-17T17:42:35.832Z"
   },
   {
    "duration": 5,
    "start_time": "2023-03-17T17:42:49.205Z"
   },
   {
    "duration": 1370,
    "start_time": "2023-03-17T17:43:12.851Z"
   },
   {
    "duration": 30,
    "start_time": "2023-03-17T17:43:14.224Z"
   },
   {
    "duration": 25,
    "start_time": "2023-03-17T17:43:14.256Z"
   },
   {
    "duration": 15,
    "start_time": "2023-03-17T17:43:14.284Z"
   },
   {
    "duration": 18,
    "start_time": "2023-03-17T17:43:14.301Z"
   },
   {
    "duration": 33,
    "start_time": "2023-03-17T17:43:14.321Z"
   },
   {
    "duration": 14,
    "start_time": "2023-03-17T17:43:14.356Z"
   },
   {
    "duration": 7,
    "start_time": "2023-03-17T17:43:14.372Z"
   },
   {
    "duration": 4,
    "start_time": "2023-03-17T17:43:14.381Z"
   },
   {
    "duration": 16,
    "start_time": "2023-03-17T17:43:14.388Z"
   },
   {
    "duration": 9,
    "start_time": "2023-03-17T17:43:14.410Z"
   },
   {
    "duration": 6,
    "start_time": "2023-03-17T17:43:14.421Z"
   },
   {
    "duration": 36,
    "start_time": "2023-03-17T17:43:14.429Z"
   },
   {
    "duration": 4449,
    "start_time": "2023-03-17T17:43:14.467Z"
   },
   {
    "duration": 28,
    "start_time": "2023-03-17T17:43:18.918Z"
   },
   {
    "duration": 190,
    "start_time": "2023-03-17T17:43:18.948Z"
   },
   {
    "duration": 7,
    "start_time": "2023-03-17T17:43:19.141Z"
   },
   {
    "duration": 4,
    "start_time": "2023-03-17T17:43:19.151Z"
   },
   {
    "duration": 1506,
    "start_time": "2023-03-17T17:46:09.832Z"
   },
   {
    "duration": 36,
    "start_time": "2023-03-17T17:46:11.341Z"
   },
   {
    "duration": 31,
    "start_time": "2023-03-17T17:46:11.381Z"
   },
   {
    "duration": 22,
    "start_time": "2023-03-17T17:46:11.414Z"
   },
   {
    "duration": 8,
    "start_time": "2023-03-17T17:46:11.442Z"
   },
   {
    "duration": 12,
    "start_time": "2023-03-17T17:46:11.453Z"
   },
   {
    "duration": 25,
    "start_time": "2023-03-17T17:46:11.467Z"
   },
   {
    "duration": 6,
    "start_time": "2023-03-17T17:46:11.498Z"
   },
   {
    "duration": 10,
    "start_time": "2023-03-17T17:46:11.506Z"
   },
   {
    "duration": 8,
    "start_time": "2023-03-17T17:46:11.517Z"
   },
   {
    "duration": 7,
    "start_time": "2023-03-17T17:46:11.527Z"
   },
   {
    "duration": 8,
    "start_time": "2023-03-17T17:46:11.536Z"
   },
   {
    "duration": 81,
    "start_time": "2023-03-17T17:46:11.546Z"
   },
   {
    "duration": 4559,
    "start_time": "2023-03-17T17:46:11.630Z"
   },
   {
    "duration": 39,
    "start_time": "2023-03-17T17:46:16.195Z"
   },
   {
    "duration": 207,
    "start_time": "2023-03-17T17:46:16.236Z"
   },
   {
    "duration": 6,
    "start_time": "2023-03-17T17:46:16.445Z"
   },
   {
    "duration": 21,
    "start_time": "2023-03-17T17:46:16.453Z"
   },
   {
    "duration": 1143,
    "start_time": "2023-03-18T07:12:00.759Z"
   },
   {
    "duration": 137,
    "start_time": "2023-03-18T07:18:12.725Z"
   },
   {
    "duration": 1114,
    "start_time": "2023-03-18T07:18:23.756Z"
   },
   {
    "duration": 82,
    "start_time": "2023-03-18T07:18:24.873Z"
   },
   {
    "duration": 21,
    "start_time": "2023-03-18T07:18:24.957Z"
   },
   {
    "duration": 12,
    "start_time": "2023-03-18T07:18:24.979Z"
   },
   {
    "duration": 5,
    "start_time": "2023-03-18T07:18:24.993Z"
   },
   {
    "duration": 9,
    "start_time": "2023-03-18T07:18:24.999Z"
   },
   {
    "duration": 14,
    "start_time": "2023-03-18T07:18:25.010Z"
   },
   {
    "duration": 32,
    "start_time": "2023-03-18T07:18:25.025Z"
   },
   {
    "duration": 3,
    "start_time": "2023-03-18T07:18:25.061Z"
   },
   {
    "duration": 6,
    "start_time": "2023-03-18T07:18:25.067Z"
   },
   {
    "duration": 4,
    "start_time": "2023-03-18T07:18:25.075Z"
   },
   {
    "duration": 5,
    "start_time": "2023-03-18T07:18:25.080Z"
   },
   {
    "duration": 829,
    "start_time": "2023-03-18T07:18:25.086Z"
   },
   {
    "duration": 4155,
    "start_time": "2023-03-18T07:18:25.918Z"
   },
   {
    "duration": 24,
    "start_time": "2023-03-18T07:18:30.075Z"
   },
   {
    "duration": 165,
    "start_time": "2023-03-18T07:18:30.101Z"
   },
   {
    "duration": 7,
    "start_time": "2023-03-18T07:18:30.268Z"
   },
   {
    "duration": 34,
    "start_time": "2023-03-18T07:18:30.277Z"
   },
   {
    "duration": 338,
    "start_time": "2023-03-18T07:18:50.067Z"
   },
   {
    "duration": 165,
    "start_time": "2023-03-18T07:19:00.713Z"
   },
   {
    "duration": 330,
    "start_time": "2023-03-18T07:20:15.805Z"
   },
   {
    "duration": 591,
    "start_time": "2023-03-18T07:21:34.975Z"
   },
   {
    "duration": 2936,
    "start_time": "2023-03-18T07:21:52.580Z"
   },
   {
    "duration": 67376,
    "start_time": "2023-03-18T07:24:42.960Z"
   },
   {
    "duration": 6417,
    "start_time": "2023-03-18T07:26:07.097Z"
   },
   {
    "duration": 6617,
    "start_time": "2023-03-18T07:27:11.875Z"
   },
   {
    "duration": 6976,
    "start_time": "2023-03-18T07:27:33.165Z"
   },
   {
    "duration": 3551,
    "start_time": "2023-03-18T07:28:00.668Z"
   },
   {
    "duration": 320,
    "start_time": "2023-03-18T07:28:12.766Z"
   },
   {
    "duration": 792,
    "start_time": "2023-03-18T07:28:34.517Z"
   },
   {
    "duration": 726,
    "start_time": "2023-03-18T07:28:52.458Z"
   },
   {
    "duration": 676,
    "start_time": "2023-03-18T07:29:10.319Z"
   },
   {
    "duration": 46,
    "start_time": "2023-03-18T07:35:34.941Z"
   },
   {
    "duration": 3020,
    "start_time": "2023-03-18T07:35:39.304Z"
   },
   {
    "duration": 12455,
    "start_time": "2023-03-18T07:35:51.716Z"
   },
   {
    "duration": 12410,
    "start_time": "2023-03-18T07:36:25.059Z"
   },
   {
    "duration": 5859,
    "start_time": "2023-03-18T07:36:47.211Z"
   },
   {
    "duration": 544,
    "start_time": "2023-03-18T07:38:15.541Z"
   },
   {
    "duration": 1046,
    "start_time": "2023-03-18T07:38:22.857Z"
   },
   {
    "duration": 19640,
    "start_time": "2023-03-18T07:39:00.903Z"
   },
   {
    "duration": 1084,
    "start_time": "2023-03-18T07:40:12.244Z"
   },
   {
    "duration": 20575,
    "start_time": "2023-03-18T07:40:23.947Z"
   },
   {
    "duration": 21607,
    "start_time": "2023-03-18T07:41:31.223Z"
   },
   {
    "duration": 20469,
    "start_time": "2023-03-18T07:42:29.301Z"
   },
   {
    "duration": 60,
    "start_time": "2023-03-18T07:44:01.651Z"
   },
   {
    "duration": 628,
    "start_time": "2023-03-18T07:44:05.249Z"
   },
   {
    "duration": 10,
    "start_time": "2023-03-18T07:44:19.875Z"
   },
   {
    "duration": 2594,
    "start_time": "2023-03-18T07:45:14.216Z"
   },
   {
    "duration": 11949,
    "start_time": "2023-03-18T07:46:45.791Z"
   },
   {
    "duration": 1422,
    "start_time": "2023-03-18T07:47:54.418Z"
   },
   {
    "duration": 3,
    "start_time": "2023-03-18T07:51:02.460Z"
   },
   {
    "duration": 48,
    "start_time": "2023-03-18T07:51:43.121Z"
   },
   {
    "duration": 50,
    "start_time": "2023-03-18T07:51:53.672Z"
   },
   {
    "duration": 14,
    "start_time": "2023-03-18T07:52:07.209Z"
   },
   {
    "duration": 1391,
    "start_time": "2023-03-18T07:52:14.545Z"
   },
   {
    "duration": 3,
    "start_time": "2023-03-18T07:52:58.615Z"
   },
   {
    "duration": 1445,
    "start_time": "2023-03-18T07:52:59.326Z"
   },
   {
    "duration": 4,
    "start_time": "2023-03-18T07:53:12.714Z"
   },
   {
    "duration": 1343,
    "start_time": "2023-03-18T08:01:11.974Z"
   },
   {
    "duration": 1509,
    "start_time": "2023-03-18T08:03:05.692Z"
   },
   {
    "duration": 68292,
    "start_time": "2023-03-18T08:03:29.314Z"
   },
   {
    "duration": 67711,
    "start_time": "2023-03-18T08:05:12.109Z"
   },
   {
    "duration": 542598,
    "start_time": "2023-03-18T08:08:15.725Z"
   },
   {
    "duration": 224447,
    "start_time": "2023-03-18T08:21:11.369Z"
   },
   {
    "duration": 54060,
    "start_time": "2023-03-18T08:26:25.996Z"
   },
   {
    "duration": 31375,
    "start_time": "2023-03-18T08:27:37.460Z"
   },
   {
    "duration": 67432,
    "start_time": "2023-03-18T08:28:37.313Z"
   },
   {
    "duration": 7865,
    "start_time": "2023-03-18T08:32:33.412Z"
   },
   {
    "duration": 15691,
    "start_time": "2023-03-18T08:32:59.726Z"
   },
   {
    "duration": 141949,
    "start_time": "2023-03-18T08:33:39.674Z"
   },
   {
    "duration": 438087,
    "start_time": "2023-03-18T08:36:33.328Z"
   },
   {
    "duration": 3981,
    "start_time": "2023-03-18T08:48:09.002Z"
   },
   {
    "duration": 148,
    "start_time": "2023-03-18T08:49:52.819Z"
   },
   {
    "duration": 152,
    "start_time": "2023-03-18T08:50:01.781Z"
   },
   {
    "duration": 141,
    "start_time": "2023-03-18T08:50:06.917Z"
   },
   {
    "duration": 129,
    "start_time": "2023-03-18T08:50:10.883Z"
   },
   {
    "duration": 140,
    "start_time": "2023-03-18T08:50:14.271Z"
   },
   {
    "duration": 149,
    "start_time": "2023-03-18T08:50:17.642Z"
   },
   {
    "duration": 150,
    "start_time": "2023-03-18T08:50:22.281Z"
   },
   {
    "duration": 6280,
    "start_time": "2023-03-18T08:52:13.813Z"
   },
   {
    "duration": 28480,
    "start_time": "2023-03-18T08:52:34.081Z"
   },
   {
    "duration": 28106,
    "start_time": "2023-03-18T08:53:35.218Z"
   },
   {
    "duration": 13601,
    "start_time": "2023-03-18T08:54:23.659Z"
   },
   {
    "duration": 47952,
    "start_time": "2023-03-18T08:54:58.476Z"
   },
   {
    "duration": 20198,
    "start_time": "2023-03-18T08:56:21.499Z"
   },
   {
    "duration": 12,
    "start_time": "2023-03-18T09:01:54.093Z"
   },
   {
    "duration": 5523,
    "start_time": "2023-03-18T09:02:26.974Z"
   },
   {
    "duration": 3711,
    "start_time": "2023-03-18T09:02:42.874Z"
   },
   {
    "duration": 1909,
    "start_time": "2023-03-18T09:02:58.785Z"
   },
   {
    "duration": 7281,
    "start_time": "2023-03-18T09:03:09.875Z"
   },
   {
    "duration": 2771,
    "start_time": "2023-03-18T09:03:38.909Z"
   },
   {
    "duration": 75445,
    "start_time": "2023-03-18T09:03:55.436Z"
   },
   {
    "duration": 18936,
    "start_time": "2023-03-18T09:06:10.739Z"
   },
   {
    "duration": 0,
    "start_time": "2023-03-18T09:13:30.607Z"
   },
   {
    "duration": 1112,
    "start_time": "2023-03-18T09:13:35.460Z"
   },
   {
    "duration": 35,
    "start_time": "2023-03-18T09:13:36.574Z"
   },
   {
    "duration": 21,
    "start_time": "2023-03-18T09:13:36.611Z"
   },
   {
    "duration": 28,
    "start_time": "2023-03-18T09:13:36.635Z"
   },
   {
    "duration": 6,
    "start_time": "2023-03-18T09:13:36.669Z"
   },
   {
    "duration": 26,
    "start_time": "2023-03-18T09:13:36.677Z"
   },
   {
    "duration": 10,
    "start_time": "2023-03-18T09:13:36.705Z"
   },
   {
    "duration": 29,
    "start_time": "2023-03-18T09:13:36.717Z"
   },
   {
    "duration": 19,
    "start_time": "2023-03-18T09:13:36.750Z"
   },
   {
    "duration": 18,
    "start_time": "2023-03-18T09:13:36.773Z"
   },
   {
    "duration": 12,
    "start_time": "2023-03-18T09:13:36.793Z"
   },
   {
    "duration": 18,
    "start_time": "2023-03-18T09:13:36.807Z"
   },
   {
    "duration": 1468,
    "start_time": "2023-03-18T09:13:36.827Z"
   },
   {
    "duration": 369502,
    "start_time": "2023-03-18T09:13:38.297Z"
   },
   {
    "duration": 22,
    "start_time": "2023-03-18T09:19:47.800Z"
   },
   {
    "duration": 146,
    "start_time": "2023-03-18T09:19:47.823Z"
   },
   {
    "duration": 5,
    "start_time": "2023-03-18T09:19:47.971Z"
   },
   {
    "duration": 5,
    "start_time": "2023-03-18T09:19:47.977Z"
   },
   {
    "duration": 6308,
    "start_time": "2023-03-18T09:35:01.895Z"
   },
   {
    "duration": 13736,
    "start_time": "2023-03-18T09:35:21.130Z"
   },
   {
    "duration": 14036,
    "start_time": "2023-03-18T09:35:46.399Z"
   },
   {
    "duration": 6342,
    "start_time": "2023-03-18T09:36:10.985Z"
   },
   {
    "duration": 136,
    "start_time": "2023-03-18T09:38:59.684Z"
   },
   {
    "duration": 4,
    "start_time": "2023-03-18T09:39:11.660Z"
   },
   {
    "duration": 1129,
    "start_time": "2023-03-18T09:39:33.879Z"
   },
   {
    "duration": 32,
    "start_time": "2023-03-18T09:39:35.010Z"
   },
   {
    "duration": 29,
    "start_time": "2023-03-18T09:39:35.044Z"
   },
   {
    "duration": 16,
    "start_time": "2023-03-18T09:39:35.075Z"
   },
   {
    "duration": 6,
    "start_time": "2023-03-18T09:39:35.094Z"
   },
   {
    "duration": 10,
    "start_time": "2023-03-18T09:39:35.102Z"
   },
   {
    "duration": 26,
    "start_time": "2023-03-18T09:39:35.114Z"
   },
   {
    "duration": 22,
    "start_time": "2023-03-18T09:39:35.141Z"
   },
   {
    "duration": 5,
    "start_time": "2023-03-18T09:39:35.165Z"
   },
   {
    "duration": 8,
    "start_time": "2023-03-18T09:39:35.172Z"
   },
   {
    "duration": 3,
    "start_time": "2023-03-18T09:39:35.183Z"
   },
   {
    "duration": 9,
    "start_time": "2023-03-18T09:39:35.188Z"
   },
   {
    "duration": 1610,
    "start_time": "2023-03-18T09:39:35.199Z"
   },
   {
    "duration": 376191,
    "start_time": "2023-03-18T09:39:36.812Z"
   },
   {
    "duration": 6665,
    "start_time": "2023-03-18T09:45:53.006Z"
   },
   {
    "duration": 131,
    "start_time": "2023-03-18T09:45:59.673Z"
   },
   {
    "duration": 7,
    "start_time": "2023-03-18T09:45:59.805Z"
   },
   {
    "duration": 7,
    "start_time": "2023-03-18T09:45:59.814Z"
   }
  ],
  "kernelspec": {
   "display_name": "Python 3 (ipykernel)",
   "language": "python",
   "name": "python3"
  },
  "language_info": {
   "codemirror_mode": {
    "name": "ipython",
    "version": 3
   },
   "file_extension": ".py",
   "mimetype": "text/x-python",
   "name": "python",
   "nbconvert_exporter": "python",
   "pygments_lexer": "ipython3",
   "version": "3.9.16"
  },
  "toc": {
   "base_numbering": 1,
   "nav_menu": {},
   "number_sections": true,
   "sideBar": true,
   "skip_h1_title": true,
   "title_cell": "Table of Contents",
   "title_sidebar": "Contents",
   "toc_cell": false,
   "toc_position": {},
   "toc_section_display": true,
   "toc_window_display": false
  }
 },
 "nbformat": 4,
 "nbformat_minor": 2
}
