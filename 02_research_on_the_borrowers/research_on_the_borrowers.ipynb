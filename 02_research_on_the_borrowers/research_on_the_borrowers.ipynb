{
 "cells": [
  {
   "attachments": {},
   "cell_type": "markdown",
   "id": "c3fab7e2",
   "metadata": {},
   "source": [
    "# Исследование надежности заемщиков"
   ]
  },
  {
   "attachments": {},
   "cell_type": "markdown",
   "id": "e2767aec",
   "metadata": {},
   "source": [
    "**Задача:**\n",
    "\n",
    "Необходимо выяснить, влияет ли семейное положение и количество детей клиента на факт погашения кредита в срок.\n",
    "\n",
    "**Данные:**\n",
    "\n",
    "Статистика о платёжеспособности клиентов."
   ]
  },
  {
   "attachments": {},
   "cell_type": "markdown",
   "id": "4b1a904e",
   "metadata": {},
   "source": [
    "## Данные и общая информация"
   ]
  },
  {
   "attachments": {},
   "cell_type": "markdown",
   "id": "9e70c168",
   "metadata": {},
   "source": [
    "Изучим данные предоставленные для исследования."
   ]
  },
  {
   "cell_type": "code",
   "execution_count": 1,
   "id": "53d1ab72",
   "metadata": {},
   "outputs": [],
   "source": [
    "import pandas as pd\n",
    "import warnings\n",
    "warnings.filterwarnings('ignore')"
   ]
  },
  {
   "cell_type": "code",
   "execution_count": 2,
   "id": "a9367f6b",
   "metadata": {},
   "outputs": [],
   "source": [
    "data = pd.read_csv('data.csv')"
   ]
  },
  {
   "cell_type": "code",
   "execution_count": 3,
   "id": "8d1e8f65",
   "metadata": {},
   "outputs": [
    {
     "data": {
      "text/html": [
       "<div>\n",
       "<style scoped>\n",
       "    .dataframe tbody tr th:only-of-type {\n",
       "        vertical-align: middle;\n",
       "    }\n",
       "\n",
       "    .dataframe tbody tr th {\n",
       "        vertical-align: top;\n",
       "    }\n",
       "\n",
       "    .dataframe thead th {\n",
       "        text-align: right;\n",
       "    }\n",
       "</style>\n",
       "<table border=\"1\" class=\"dataframe\">\n",
       "  <thead>\n",
       "    <tr style=\"text-align: right;\">\n",
       "      <th></th>\n",
       "      <th>children</th>\n",
       "      <th>days_employed</th>\n",
       "      <th>dob_years</th>\n",
       "      <th>education</th>\n",
       "      <th>education_id</th>\n",
       "      <th>family_status</th>\n",
       "      <th>family_status_id</th>\n",
       "      <th>gender</th>\n",
       "      <th>income_type</th>\n",
       "      <th>debt</th>\n",
       "      <th>total_income</th>\n",
       "      <th>purpose</th>\n",
       "    </tr>\n",
       "  </thead>\n",
       "  <tbody>\n",
       "    <tr>\n",
       "      <th>0</th>\n",
       "      <td>1</td>\n",
       "      <td>-8437.673028</td>\n",
       "      <td>42</td>\n",
       "      <td>высшее</td>\n",
       "      <td>0</td>\n",
       "      <td>женат / замужем</td>\n",
       "      <td>0</td>\n",
       "      <td>F</td>\n",
       "      <td>сотрудник</td>\n",
       "      <td>0</td>\n",
       "      <td>253875.639453</td>\n",
       "      <td>покупка жилья</td>\n",
       "    </tr>\n",
       "    <tr>\n",
       "      <th>1</th>\n",
       "      <td>1</td>\n",
       "      <td>-4024.803754</td>\n",
       "      <td>36</td>\n",
       "      <td>среднее</td>\n",
       "      <td>1</td>\n",
       "      <td>женат / замужем</td>\n",
       "      <td>0</td>\n",
       "      <td>F</td>\n",
       "      <td>сотрудник</td>\n",
       "      <td>0</td>\n",
       "      <td>112080.014102</td>\n",
       "      <td>приобретение автомобиля</td>\n",
       "    </tr>\n",
       "    <tr>\n",
       "      <th>2</th>\n",
       "      <td>0</td>\n",
       "      <td>-5623.422610</td>\n",
       "      <td>33</td>\n",
       "      <td>Среднее</td>\n",
       "      <td>1</td>\n",
       "      <td>женат / замужем</td>\n",
       "      <td>0</td>\n",
       "      <td>M</td>\n",
       "      <td>сотрудник</td>\n",
       "      <td>0</td>\n",
       "      <td>145885.952297</td>\n",
       "      <td>покупка жилья</td>\n",
       "    </tr>\n",
       "    <tr>\n",
       "      <th>3</th>\n",
       "      <td>3</td>\n",
       "      <td>-4124.747207</td>\n",
       "      <td>32</td>\n",
       "      <td>среднее</td>\n",
       "      <td>1</td>\n",
       "      <td>женат / замужем</td>\n",
       "      <td>0</td>\n",
       "      <td>M</td>\n",
       "      <td>сотрудник</td>\n",
       "      <td>0</td>\n",
       "      <td>267628.550329</td>\n",
       "      <td>дополнительное образование</td>\n",
       "    </tr>\n",
       "    <tr>\n",
       "      <th>4</th>\n",
       "      <td>0</td>\n",
       "      <td>340266.072047</td>\n",
       "      <td>53</td>\n",
       "      <td>среднее</td>\n",
       "      <td>1</td>\n",
       "      <td>гражданский брак</td>\n",
       "      <td>1</td>\n",
       "      <td>F</td>\n",
       "      <td>пенсионер</td>\n",
       "      <td>0</td>\n",
       "      <td>158616.077870</td>\n",
       "      <td>сыграть свадьбу</td>\n",
       "    </tr>\n",
       "    <tr>\n",
       "      <th>5</th>\n",
       "      <td>0</td>\n",
       "      <td>-926.185831</td>\n",
       "      <td>27</td>\n",
       "      <td>высшее</td>\n",
       "      <td>0</td>\n",
       "      <td>гражданский брак</td>\n",
       "      <td>1</td>\n",
       "      <td>M</td>\n",
       "      <td>компаньон</td>\n",
       "      <td>0</td>\n",
       "      <td>255763.565419</td>\n",
       "      <td>покупка жилья</td>\n",
       "    </tr>\n",
       "    <tr>\n",
       "      <th>6</th>\n",
       "      <td>0</td>\n",
       "      <td>-2879.202052</td>\n",
       "      <td>43</td>\n",
       "      <td>высшее</td>\n",
       "      <td>0</td>\n",
       "      <td>женат / замужем</td>\n",
       "      <td>0</td>\n",
       "      <td>F</td>\n",
       "      <td>компаньон</td>\n",
       "      <td>0</td>\n",
       "      <td>240525.971920</td>\n",
       "      <td>операции с жильем</td>\n",
       "    </tr>\n",
       "    <tr>\n",
       "      <th>7</th>\n",
       "      <td>0</td>\n",
       "      <td>-152.779569</td>\n",
       "      <td>50</td>\n",
       "      <td>СРЕДНЕЕ</td>\n",
       "      <td>1</td>\n",
       "      <td>женат / замужем</td>\n",
       "      <td>0</td>\n",
       "      <td>M</td>\n",
       "      <td>сотрудник</td>\n",
       "      <td>0</td>\n",
       "      <td>135823.934197</td>\n",
       "      <td>образование</td>\n",
       "    </tr>\n",
       "    <tr>\n",
       "      <th>8</th>\n",
       "      <td>2</td>\n",
       "      <td>-6929.865299</td>\n",
       "      <td>35</td>\n",
       "      <td>ВЫСШЕЕ</td>\n",
       "      <td>0</td>\n",
       "      <td>гражданский брак</td>\n",
       "      <td>1</td>\n",
       "      <td>F</td>\n",
       "      <td>сотрудник</td>\n",
       "      <td>0</td>\n",
       "      <td>95856.832424</td>\n",
       "      <td>на проведение свадьбы</td>\n",
       "    </tr>\n",
       "    <tr>\n",
       "      <th>9</th>\n",
       "      <td>0</td>\n",
       "      <td>-2188.756445</td>\n",
       "      <td>41</td>\n",
       "      <td>среднее</td>\n",
       "      <td>1</td>\n",
       "      <td>женат / замужем</td>\n",
       "      <td>0</td>\n",
       "      <td>M</td>\n",
       "      <td>сотрудник</td>\n",
       "      <td>0</td>\n",
       "      <td>144425.938277</td>\n",
       "      <td>покупка жилья для семьи</td>\n",
       "    </tr>\n",
       "  </tbody>\n",
       "</table>\n",
       "</div>"
      ],
      "text/plain": [
       "   children  days_employed  dob_years education  education_id  \\\n",
       "0         1   -8437.673028         42    высшее             0   \n",
       "1         1   -4024.803754         36   среднее             1   \n",
       "2         0   -5623.422610         33   Среднее             1   \n",
       "3         3   -4124.747207         32   среднее             1   \n",
       "4         0  340266.072047         53   среднее             1   \n",
       "5         0    -926.185831         27    высшее             0   \n",
       "6         0   -2879.202052         43    высшее             0   \n",
       "7         0    -152.779569         50   СРЕДНЕЕ             1   \n",
       "8         2   -6929.865299         35    ВЫСШЕЕ             0   \n",
       "9         0   -2188.756445         41   среднее             1   \n",
       "\n",
       "      family_status  family_status_id gender income_type  debt   total_income  \\\n",
       "0   женат / замужем                 0      F   сотрудник     0  253875.639453   \n",
       "1   женат / замужем                 0      F   сотрудник     0  112080.014102   \n",
       "2   женат / замужем                 0      M   сотрудник     0  145885.952297   \n",
       "3   женат / замужем                 0      M   сотрудник     0  267628.550329   \n",
       "4  гражданский брак                 1      F   пенсионер     0  158616.077870   \n",
       "5  гражданский брак                 1      M   компаньон     0  255763.565419   \n",
       "6   женат / замужем                 0      F   компаньон     0  240525.971920   \n",
       "7   женат / замужем                 0      M   сотрудник     0  135823.934197   \n",
       "8  гражданский брак                 1      F   сотрудник     0   95856.832424   \n",
       "9   женат / замужем                 0      M   сотрудник     0  144425.938277   \n",
       "\n",
       "                      purpose  \n",
       "0               покупка жилья  \n",
       "1     приобретение автомобиля  \n",
       "2               покупка жилья  \n",
       "3  дополнительное образование  \n",
       "4             сыграть свадьбу  \n",
       "5               покупка жилья  \n",
       "6           операции с жильем  \n",
       "7                 образование  \n",
       "8       на проведение свадьбы  \n",
       "9     покупка жилья для семьи  "
      ]
     },
     "execution_count": 3,
     "metadata": {},
     "output_type": "execute_result"
    }
   ],
   "source": [
    "data.head(10)"
   ]
  },
  {
   "cell_type": "code",
   "execution_count": 4,
   "id": "e3bfe812",
   "metadata": {},
   "outputs": [
    {
     "name": "stdout",
     "output_type": "stream",
     "text": [
      "<class 'pandas.core.frame.DataFrame'>\n",
      "RangeIndex: 21525 entries, 0 to 21524\n",
      "Data columns (total 12 columns):\n",
      " #   Column            Non-Null Count  Dtype  \n",
      "---  ------            --------------  -----  \n",
      " 0   children          21525 non-null  int64  \n",
      " 1   days_employed     19351 non-null  float64\n",
      " 2   dob_years         21525 non-null  int64  \n",
      " 3   education         21525 non-null  object \n",
      " 4   education_id      21525 non-null  int64  \n",
      " 5   family_status     21525 non-null  object \n",
      " 6   family_status_id  21525 non-null  int64  \n",
      " 7   gender            21525 non-null  object \n",
      " 8   income_type       21525 non-null  object \n",
      " 9   debt              21525 non-null  int64  \n",
      " 10  total_income      19351 non-null  float64\n",
      " 11  purpose           21525 non-null  object \n",
      "dtypes: float64(2), int64(5), object(5)\n",
      "memory usage: 2.0+ MB\n"
     ]
    }
   ],
   "source": [
    "data.info()"
   ]
  },
  {
   "attachments": {},
   "cell_type": "markdown",
   "id": "fea6a206",
   "metadata": {},
   "source": [
    "*Описание данных*\n",
    "\n",
    "- children — количество детей в семье\n",
    "- days_employed — общий трудовой стаж в днях\n",
    "- dob_years — возраст клиента в годах\n",
    "- education — уровень образования клиента\n",
    "- education_id — идентификатор уровня образования\n",
    "- family_status — семейное положение\n",
    "- family_status_id — идентификатор семейного положения\n",
    "- gender — пол клиента\n",
    "- income_type — тип занятости\n",
    "- debt — имел ли задолженность по возврату кредитов\n",
    "- total_income — ежемесячный доход\n",
    "- purpose — цель получения кредита"
   ]
  },
  {
   "attachments": {},
   "cell_type": "markdown",
   "id": "6e78ea89",
   "metadata": {},
   "source": [
    "## Предобработка данных"
   ]
  },
  {
   "attachments": {},
   "cell_type": "markdown",
   "id": "c269eeac",
   "metadata": {},
   "source": [
    "### Обработка аномальных значений"
   ]
  },
  {
   "attachments": {},
   "cell_type": "markdown",
   "id": "c2f96107",
   "metadata": {},
   "source": [
    "В данных встречаются артефакты (аномалии) — значения, которые не отражают действительность и появились по какой-то ошибке. Таким артефактом является отрицательное количество дней трудового стажа в столбце `days_employed`. Обработаем значения в этом столбце и заменим все отрицательные значения положительными с помощью метода `abs()`."
   ]
  },
  {
   "cell_type": "code",
   "execution_count": 5,
   "id": "46e100d6",
   "metadata": {},
   "outputs": [],
   "source": [
    "data['days_employed'] = data['days_employed'].abs()"
   ]
  },
  {
   "attachments": {},
   "cell_type": "markdown",
   "id": "cb28ce89",
   "metadata": {},
   "source": [
    "Проверим так же уникальные значения в столбце `children`."
   ]
  },
  {
   "cell_type": "code",
   "execution_count": 6,
   "id": "4648d2e7",
   "metadata": {},
   "outputs": [
    {
     "data": {
      "text/plain": [
       "array([ 1,  0,  3,  2, -1,  4, 20,  5], dtype=int64)"
      ]
     },
     "execution_count": 6,
     "metadata": {},
     "output_type": "execute_result"
    }
   ],
   "source": [
    "data['children'].unique()"
   ]
  },
  {
   "attachments": {},
   "cell_type": "markdown",
   "id": "b2249eae",
   "metadata": {},
   "source": [
    "Здесь присутствует два аномальных значения. Удалим строки с ними."
   ]
  },
  {
   "cell_type": "code",
   "execution_count": 7,
   "id": "deeb1a8a",
   "metadata": {},
   "outputs": [],
   "source": [
    "data = data[(data['children'] != 20) & (data['children'] != -1)]"
   ]
  },
  {
   "attachments": {},
   "cell_type": "markdown",
   "id": "d898128d",
   "metadata": {},
   "source": [
    "Проверим уникальные значения."
   ]
  },
  {
   "cell_type": "code",
   "execution_count": 8,
   "id": "b418ce40",
   "metadata": {},
   "outputs": [
    {
     "data": {
      "text/plain": [
       "array([1, 0, 3, 2, 4, 5], dtype=int64)"
      ]
     },
     "execution_count": 8,
     "metadata": {},
     "output_type": "execute_result"
    }
   ],
   "source": [
    "data['children'].unique()"
   ]
  },
  {
   "attachments": {},
   "cell_type": "markdown",
   "id": "c6b11ccb",
   "metadata": {},
   "source": [
    "### Удаление пропусков"
   ]
  },
  {
   "attachments": {},
   "cell_type": "markdown",
   "id": "87d196a0",
   "metadata": {},
   "source": [
    "Проверим данные на наличие пропусков."
   ]
  },
  {
   "cell_type": "code",
   "execution_count": 9,
   "id": "b76dce1b",
   "metadata": {},
   "outputs": [
    {
     "data": {
      "text/plain": [
       "children               0\n",
       "days_employed       2162\n",
       "dob_years              0\n",
       "education              0\n",
       "education_id           0\n",
       "family_status          0\n",
       "family_status_id       0\n",
       "gender                 0\n",
       "income_type            0\n",
       "debt                   0\n",
       "total_income        2162\n",
       "purpose                0\n",
       "dtype: int64"
      ]
     },
     "execution_count": 9,
     "metadata": {},
     "output_type": "execute_result"
    }
   ],
   "source": [
    "data.isna().sum()"
   ]
  },
  {
   "attachments": {},
   "cell_type": "markdown",
   "id": "3024d266",
   "metadata": {},
   "source": [
    "В двух столбцах есть пропущенные значения.\n",
    "\n",
    "Один из них — `days_employed`. Пропуски в этом столбце заполним медианными значениями по каждому типу занятости из столбца `income_type`.\n",
    "\n",
    "Другой столбец с пропущенными значениями — `total_income` — хранит данные о доходах. На сумму дохода сильнее всего влияет тип занятости, поэтому заполнить пропуски в этом столбце так же необходимо медианным значением по каждому типу из столбца `income_type`. "
   ]
  },
  {
   "cell_type": "code",
   "execution_count": 10,
   "id": "2cde0324",
   "metadata": {},
   "outputs": [],
   "source": [
    "for i in data['income_type'].unique():\n",
    "    data.loc[(data['income_type'] == i) & (data['days_employed'].isna()), 'days_employed'] = \\\n",
    "    data.loc[(data['income_type'] == i), 'days_employed'].median()\n"
   ]
  },
  {
   "cell_type": "code",
   "execution_count": 11,
   "id": "5a63b9d0",
   "metadata": {},
   "outputs": [],
   "source": [
    "for i in data['income_type'].unique():\n",
    "    data.loc[(data['income_type'] == i) & (data['total_income'].isna()), 'total_income'] = \\\n",
    "    data.loc[(data['income_type'] == i), 'total_income'].median()"
   ]
  },
  {
   "attachments": {},
   "cell_type": "markdown",
   "id": "eeb083aa",
   "metadata": {},
   "source": [
    "Проверим наличие пропусков после операции над ними."
   ]
  },
  {
   "cell_type": "code",
   "execution_count": 12,
   "id": "6b84e4af",
   "metadata": {},
   "outputs": [
    {
     "data": {
      "text/plain": [
       "children            0\n",
       "days_employed       0\n",
       "dob_years           0\n",
       "education           0\n",
       "education_id        0\n",
       "family_status       0\n",
       "family_status_id    0\n",
       "gender              0\n",
       "income_type         0\n",
       "debt                0\n",
       "total_income        0\n",
       "purpose             0\n",
       "dtype: int64"
      ]
     },
     "execution_count": 12,
     "metadata": {},
     "output_type": "execute_result"
    }
   ],
   "source": [
    "data.isna().sum()"
   ]
  },
  {
   "attachments": {},
   "cell_type": "markdown",
   "id": "10c03b23",
   "metadata": {},
   "source": [
    "### Изменение типов данных"
   ]
  },
  {
   "attachments": {},
   "cell_type": "markdown",
   "id": "f5fc5e96",
   "metadata": {},
   "source": [
    "Заменим вещественный тип данных в столбце `total_income` на целочисленный."
   ]
  },
  {
   "cell_type": "code",
   "execution_count": 13,
   "id": "89eefc20",
   "metadata": {},
   "outputs": [],
   "source": [
    "data['total_income'] = data['total_income'].astype('int')"
   ]
  },
  {
   "attachments": {},
   "cell_type": "markdown",
   "id": "3f5190ee",
   "metadata": {},
   "source": [
    "### Обработка дубликатов"
   ]
  },
  {
   "attachments": {},
   "cell_type": "markdown",
   "id": "bc1ff431",
   "metadata": {},
   "source": [
    "Обработаем неявные дубликаты в столбце `education`. В этом столбце есть одни и те же значения, но записанные по-разному: с использованием заглавных и строчных букв. Приведем все значения в столбце к нижнему регистру."
   ]
  },
  {
   "cell_type": "code",
   "execution_count": 14,
   "id": "5f73cce8",
   "metadata": {},
   "outputs": [],
   "source": [
    "data['education'] = data['education'].str.lower()"
   ]
  },
  {
   "attachments": {},
   "cell_type": "markdown",
   "id": "81ab34e0",
   "metadata": {},
   "source": [
    "Проверим данные на наличие строк-дубликатов и если таковые имеются, удалим их."
   ]
  },
  {
   "cell_type": "code",
   "execution_count": 15,
   "id": "0bc598f4",
   "metadata": {},
   "outputs": [
    {
     "data": {
      "text/plain": [
       "71"
      ]
     },
     "execution_count": 15,
     "metadata": {},
     "output_type": "execute_result"
    }
   ],
   "source": [
    "data.duplicated().sum()"
   ]
  },
  {
   "cell_type": "code",
   "execution_count": 16,
   "id": "6ea42251",
   "metadata": {},
   "outputs": [],
   "source": [
    "data = data.drop_duplicates()"
   ]
  },
  {
   "attachments": {},
   "cell_type": "markdown",
   "id": "20f1048f",
   "metadata": {},
   "source": [
    "### Категоризация данных"
   ]
  },
  {
   "attachments": {},
   "cell_type": "markdown",
   "id": "207f2938",
   "metadata": {},
   "source": [
    "На основании диапазонов, указанных ниже, создадим в датафрейме столбец `total_income_category` с категориями для разделения клиентов по категориям доходов:\n",
    "\n",
    "- 0–30000 — 'E';\n",
    "- 30001–50000 — 'D';\n",
    "- 50001–200000 — 'C';\n",
    "- 200001–1000000 — 'B';\n",
    "- 1000001 и выше — 'A'.\n"
   ]
  },
  {
   "cell_type": "code",
   "execution_count": 17,
   "id": "cc2f6e58",
   "metadata": {},
   "outputs": [],
   "source": [
    "def categorize_income(money):\n",
    "    if money <= 30000:\n",
    "        return 'E'\n",
    "    elif 30001 <= money <= 50000:\n",
    "        return 'D'\n",
    "    elif 50001 <= money <= 200000:\n",
    "        return 'C'\n",
    "    elif 200001 <= money <=1000000:\n",
    "        return 'B'\n",
    "    else:\n",
    "        return 'A'"
   ]
  },
  {
   "cell_type": "code",
   "execution_count": 18,
   "id": "714f6de2",
   "metadata": {},
   "outputs": [],
   "source": [
    "data['total_income_category'] = data['total_income'].apply(categorize_income)"
   ]
  },
  {
   "attachments": {},
   "cell_type": "markdown",
   "id": "c8ff48eb",
   "metadata": {},
   "source": [
    "Сформируем навый столбец `purpose_category` на основании данных из столбца `purpose`, в которые войдут следующие категории, в зависимости от целей взятия кредита.\n",
    "\n",
    "- \"операции с автомобилем\"\n",
    "- \"операции с недвижимостью\"\n",
    "- \"проведение свадьбы\"\n",
    "- \"получение образования\"\n",
    "\n",
    "Для этого сначала взглянем на перечень уникальных целей взятия кредита и создадим функцию для формирования нового столбца."
   ]
  },
  {
   "cell_type": "code",
   "execution_count": 19,
   "id": "65682e7b",
   "metadata": {},
   "outputs": [
    {
     "data": {
      "text/plain": [
       "array(['покупка жилья', 'приобретение автомобиля',\n",
       "       'дополнительное образование', 'сыграть свадьбу',\n",
       "       'операции с жильем', 'образование', 'на проведение свадьбы',\n",
       "       'покупка жилья для семьи', 'покупка недвижимости',\n",
       "       'покупка коммерческой недвижимости', 'покупка жилой недвижимости',\n",
       "       'строительство собственной недвижимости', 'недвижимость',\n",
       "       'строительство недвижимости', 'на покупку подержанного автомобиля',\n",
       "       'на покупку своего автомобиля',\n",
       "       'операции с коммерческой недвижимостью',\n",
       "       'строительство жилой недвижимости', 'жилье',\n",
       "       'операции со своей недвижимостью', 'автомобили',\n",
       "       'заняться образованием', 'сделка с подержанным автомобилем',\n",
       "       'получение образования', 'автомобиль', 'свадьба',\n",
       "       'получение дополнительного образования', 'покупка своего жилья',\n",
       "       'операции с недвижимостью', 'получение высшего образования',\n",
       "       'свой автомобиль', 'сделка с автомобилем',\n",
       "       'профильное образование', 'высшее образование',\n",
       "       'покупка жилья для сдачи', 'на покупку автомобиля', 'ремонт жилью',\n",
       "       'заняться высшим образованием'], dtype=object)"
      ]
     },
     "execution_count": 19,
     "metadata": {},
     "output_type": "execute_result"
    }
   ],
   "source": [
    "data['purpose'].unique()"
   ]
  },
  {
   "cell_type": "code",
   "execution_count": 20,
   "id": "3d40d993",
   "metadata": {},
   "outputs": [],
   "source": [
    "def categorize_purpose(category):\n",
    "    if 'автомобил' in category:\n",
    "        return 'операции с автомобилем'\n",
    "    elif 'свадьб' in category:\n",
    "        return 'проведение свадьбы'\n",
    "    elif 'жиль' in category or 'недвижимост' in category:\n",
    "        return 'операции с недвижимостью'\n",
    "    elif 'образован' in category:\n",
    "        return 'получение образования'"
   ]
  },
  {
   "cell_type": "code",
   "execution_count": 21,
   "id": "aeb7be29",
   "metadata": {},
   "outputs": [],
   "source": [
    "data['purpose_category'] = data['purpose'].apply(categorize_purpose)"
   ]
  },
  {
   "attachments": {},
   "cell_type": "markdown",
   "id": "ccb8080a",
   "metadata": {},
   "source": [
    "**Вывод:**\n",
    "Данные подготовлены, готовы для дальнейшего исследования и ответов на вопросы."
   ]
  },
  {
   "attachments": {},
   "cell_type": "markdown",
   "id": "e1551ff7",
   "metadata": {},
   "source": [
    "## Исследование данных и ответы на вопросы"
   ]
  },
  {
   "attachments": {},
   "cell_type": "markdown",
   "id": "ae34c329",
   "metadata": {},
   "source": [
    "### Есть ли зависимость между количеством детей и возвратом кредита в срок?"
   ]
  },
  {
   "cell_type": "code",
   "execution_count": 22,
   "id": "98d74c36",
   "metadata": {},
   "outputs": [
    {
     "data": {
      "text/plain": [
       "children\n",
       "0    0.075438\n",
       "1    0.092346\n",
       "2    0.094542\n",
       "3    0.081818\n",
       "4    0.097561\n",
       "5    0.000000\n",
       "Name: debt, dtype: float64"
      ]
     },
     "execution_count": 22,
     "metadata": {},
     "output_type": "execute_result"
    }
   ],
   "source": [
    "data.groupby('children')['debt'].mean()"
   ]
  },
  {
   "attachments": {},
   "cell_type": "markdown",
   "id": "2f7f7e00",
   "metadata": {},
   "source": [
    "**Вывод:** \n",
    "Зависимость между количеством детей и возвратом кредита в срок есть. Чем меньше детей, тем меньше просрочек по кредиту. Но смотря на сгруппированные данные может показаться, что это не так, так как у семей с 5 детьми 0 просрочек по кредиту. Дело в том, что в данных количество семей с 5 детьми очень мало и будет неправильно сравнивать зависимость с таким значением данных."
   ]
  },
  {
   "attachments": {},
   "cell_type": "markdown",
   "id": "3585be85",
   "metadata": {},
   "source": [
    "### Есть ли зависимость между семейным положением и возвратом кредита в срок?"
   ]
  },
  {
   "cell_type": "code",
   "execution_count": 23,
   "id": "83f0844e",
   "metadata": {},
   "outputs": [
    {
     "data": {
      "text/plain": [
       "family_status\n",
       "Не женат / не замужем    0.097639\n",
       "в разводе                0.070648\n",
       "вдовец / вдова           0.066246\n",
       "гражданский брак         0.093130\n",
       "женат / замужем          0.075606\n",
       "Name: debt, dtype: float64"
      ]
     },
     "execution_count": 23,
     "metadata": {},
     "output_type": "execute_result"
    }
   ],
   "source": [
    "data.groupby('family_status')['debt'].mean()"
   ]
  },
  {
   "attachments": {},
   "cell_type": "markdown",
   "id": "6dbc49e9",
   "metadata": {},
   "source": [
    "**Вывод:** \n",
    "Зависимость между семейным положением и возвратом кредита в срок имеется. Одинокие люди имеют больше просрочек (Не женат / не замужем - 0.097), чем семейные пары, наименьшие просрочки по кредитам имеют вдовец / вдова - 0.06."
   ]
  },
  {
   "attachments": {},
   "cell_type": "markdown",
   "id": "8b707e7b",
   "metadata": {},
   "source": [
    "### Есть ли зависимость между уровнем дохода и возвратом кредита в срок?"
   ]
  },
  {
   "cell_type": "code",
   "execution_count": 24,
   "id": "7bc39f29",
   "metadata": {},
   "outputs": [
    {
     "data": {
      "text/plain": [
       "total_income_category\n",
       "A    0.080000\n",
       "B    0.070602\n",
       "C    0.084982\n",
       "D    0.060172\n",
       "E    0.090909\n",
       "Name: debt, dtype: float64"
      ]
     },
     "execution_count": 24,
     "metadata": {},
     "output_type": "execute_result"
    }
   ],
   "source": [
    "data.groupby('total_income_category')['debt'].mean()"
   ]
  },
  {
   "attachments": {},
   "cell_type": "markdown",
   "id": "2737f8c3",
   "metadata": {},
   "source": [
    "**Вывод:** \n",
    "Зависимости между уровнем дохода и возвратом кредита в срок как таковой и нет. Больше всего просрочек имеет группа с уровнем дохода Е, что в принципе может звучать очевидно, но за ними идет группа дохода А и С. Меньше всего просрочек у группы дохода D, что при ожидаемой зависимости могли бы идти после группы E."
   ]
  },
  {
   "attachments": {},
   "cell_type": "markdown",
   "id": "5c67e079",
   "metadata": {},
   "source": [
    "### Как разные цели кредита влияют на его возврат в срок?"
   ]
  },
  {
   "cell_type": "code",
   "execution_count": 25,
   "id": "475bfa9d",
   "metadata": {},
   "outputs": [
    {
     "data": {
      "text/plain": [
       "purpose_category\n",
       "операции с автомобилем      0.093480\n",
       "операции с недвижимостью    0.072551\n",
       "получение образования       0.092528\n",
       "проведение свадьбы          0.079118\n",
       "Name: debt, dtype: float64"
      ]
     },
     "execution_count": 25,
     "metadata": {},
     "output_type": "execute_result"
    }
   ],
   "source": [
    "data.groupby('purpose_category')['debt'].mean()"
   ]
  },
  {
   "attachments": {},
   "cell_type": "markdown",
   "id": "832a8383",
   "metadata": {},
   "source": [
    "**Вывод:** \n",
    "Самыми надежными кредитом являются кредит на операции с недвижимость(0.072). Самым не надежным - кредит на операции с автомобилем."
   ]
  },
  {
   "attachments": {},
   "cell_type": "markdown",
   "id": "1cb2c39f",
   "metadata": {},
   "source": [
    "### Причины появления пропусков в исходных данных."
   ]
  },
  {
   "attachments": {},
   "cell_type": "markdown",
   "id": "d04bff3f",
   "metadata": {},
   "source": [
    "В исходных данных присутствуют пропуски только в двух столбцах: `days_employed` и `total_income`. Эти строки хранят в себе информацию о трудовом стаже и данные о доходах. А так же при том, что их одинаковое кооличество (2174), можно предположить, что этих данных просто нет, т.к. эти люди не работали. Так же, в этих столбцах нет значений равных нулю, так что можно предположить, что пропуски это нули."
   ]
  },
  {
   "attachments": {},
   "cell_type": "markdown",
   "id": "4ee0de14",
   "metadata": {},
   "source": [
    "### Почему заполнять пропуски медианным значением - лучшее решение для количественных переменных."
   ]
  },
  {
   "attachments": {},
   "cell_type": "markdown",
   "id": "07e554c8",
   "metadata": {},
   "source": [
    "В данных с количественными переменными могут быть самые разные числа, будь то почти все близкие друг к другу росты людей, либо зарплаты по региону, где у одних 15000 рублей, а у пары человек 1000000 рублей, и эти пару человек перетягивают на себя одеяло, называемым средним значение выборки. А при медианным значением найдется ровно та половина выборки, которая расположенна по порядку, которая необходима."
   ]
  },
  {
   "attachments": {},
   "cell_type": "markdown",
   "id": "7b0a479d",
   "metadata": {},
   "source": [
    "## Общий вывод"
   ]
  },
  {
   "attachments": {},
   "cell_type": "markdown",
   "id": "97978856",
   "metadata": {},
   "source": [
    "Было проведено исследование, по выявлению влияния разных факторов на факт погашения кредита в срок. Результаты исследования помогут при построении модели кредитного скоринга - специальной системы, которая оценивает способность потенциального заемщика вернуть кредит банку. Входные данные - статистика о платежеспособности клиентов.\n",
    "\n",
    "Перед проведением исследования были поставлены 4 гипотезы:\n",
    "- Гипотеза 1: как количество детей влияет на факт погашения кредита;\n",
    "- Гипотеза 2: как семейное положение влияет на факт погашения кредита;\n",
    "- Гипотеза 3: как уровень дохода влияет на факт погашения кредита;\n",
    "- Гипотеза 4: как цель кредита влияет на факт погашения кредита.\n",
    "\n",
    "**Гипотеза 1 частично потдверждена:** *для более точных выводов необходимо больше данных о семьях с 3, 4 и 5 детьми.\n",
    "- у заемщиков без детей 7.5% доля просроченных кредитов;\n",
    "- у заемщиков 1 ребенком 9.2% доля просроченных кредитов;\n",
    "- у заемщиков 2 детьми 9.5% доля просроченных кредитов.\n",
    "\n",
    "**Гипотеза 2 подтверждена:**\n",
    "- у не женатых заемщиков (9.8%) и тех, у кого гражданский брак (9.3%) выше вероятность быть должниками.\n",
    "- те, кто в разводе (7.6%) или овдовел (6.6%) меньшая вероятность стать должником.\n",
    "\n",
    "**Гипотеза 3 частично подтверждена:** *для более точных выводов необходимо больше данных о клиентах с уровнями дохода катигорий D(от 30001 до 50000), A(от 1000001) и E(до 30000)\n",
    "- у заемщиков с уровнем дохода категории B(от 200001 до 1000000) доля просроченных кредитов составляет 7.1%;\n",
    "- у заемщиков с уровнем дохода категории С(от 500001 до 200000) доля просроченных кредитов составляет 8.5%.\n",
    "\n",
    "**Гипотеза 4 потдверждена:**\n",
    "- кредиты для операции с недвижимостью. Доля просроченных составляет 7.3%;\n",
    "- кредиты для проведения свадьбы. Доля просроченных составляет 7.9%;\n",
    "- кредиты для операции с автомобилем. Доля просроченных составляет 9.3%;\n",
    "- кредиты для получения образования. Доля просроченных составляет 9.3%;\n",
    "\n",
    "**Рекомендации перед составлением кредитного скоринга:**\n",
    "1. За основу в построении модели скоринга можно использовать зависимости на основе второй и четвертой гипотезы (семейное положение и цель кредита);\n",
    "2. Для проверки по первой и третьей гипотезы необходимо собрать больше данных."
   ]
  }
 ],
 "metadata": {
  "kernelspec": {
   "display_name": "Python 3 (ipykernel)",
   "language": "python",
   "name": "python3"
  },
  "language_info": {
   "codemirror_mode": {
    "name": "ipython",
    "version": 3
   },
   "file_extension": ".py",
   "mimetype": "text/x-python",
   "name": "python",
   "nbconvert_exporter": "python",
   "pygments_lexer": "ipython3",
   "version": "3.9.16"
  },
  "toc": {
   "base_numbering": 1,
   "nav_menu": {
    "height": "161px",
    "width": "222px"
   },
   "number_sections": true,
   "sideBar": true,
   "skip_h1_title": true,
   "title_cell": "Table of Contents",
   "title_sidebar": "Contents",
   "toc_cell": false,
   "toc_position": {
    "height": "calc(100% - 180px)",
    "left": "10px",
    "top": "150px",
    "width": "191.594px"
   },
   "toc_section_display": true,
   "toc_window_display": false
  }
 },
 "nbformat": 4,
 "nbformat_minor": 5
}
