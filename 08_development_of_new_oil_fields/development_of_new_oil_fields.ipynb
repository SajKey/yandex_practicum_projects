{
 "cells": [
  {
   "attachments": {},
   "cell_type": "markdown",
   "metadata": {},
   "source": [
    "# Выбор локации для скважины"
   ]
  },
  {
   "attachments": {},
   "cell_type": "markdown",
   "metadata": {},
   "source": [
    "**Задача:**\n",
    "\n",
    "Необходимо решить, где бурить новую скважину. Построить модель машинного обучения, которая поможет определить регион, где добыча принесет наибольшую прибыль.\n",
    "\n",
    "**Данные:**\n",
    "\n",
    "В распоряжении данные о пробах нефти трёх регионов: в каждом 10 000 месторождений, где измерили качество нефти и объём её запасов."
   ]
  },
  {
   "attachments": {},
   "cell_type": "markdown",
   "metadata": {},
   "source": [
    "## Загрузка и подготовка данных"
   ]
  },
  {
   "cell_type": "code",
   "execution_count": 1,
   "metadata": {},
   "outputs": [],
   "source": [
    "import pandas as pd\n",
    "import numpy as np\n",
    "\n",
    "from sklearn.linear_model import LinearRegression\n",
    "\n",
    "from sklearn.model_selection import train_test_split\n",
    "from sklearn.metrics import mean_squared_error"
   ]
  },
  {
   "attachments": {},
   "cell_type": "markdown",
   "metadata": {},
   "source": [
    "### Данные геологоразведки первого региона."
   ]
  },
  {
   "cell_type": "code",
   "execution_count": 2,
   "metadata": {},
   "outputs": [
    {
     "data": {
      "text/html": [
       "<div>\n",
       "<style scoped>\n",
       "    .dataframe tbody tr th:only-of-type {\n",
       "        vertical-align: middle;\n",
       "    }\n",
       "\n",
       "    .dataframe tbody tr th {\n",
       "        vertical-align: top;\n",
       "    }\n",
       "\n",
       "    .dataframe thead th {\n",
       "        text-align: right;\n",
       "    }\n",
       "</style>\n",
       "<table border=\"1\" class=\"dataframe\">\n",
       "  <thead>\n",
       "    <tr style=\"text-align: right;\">\n",
       "      <th></th>\n",
       "      <th>id</th>\n",
       "      <th>f0</th>\n",
       "      <th>f1</th>\n",
       "      <th>f2</th>\n",
       "      <th>product</th>\n",
       "    </tr>\n",
       "  </thead>\n",
       "  <tbody>\n",
       "    <tr>\n",
       "      <th>0</th>\n",
       "      <td>txEyH</td>\n",
       "      <td>0.705745</td>\n",
       "      <td>-0.497823</td>\n",
       "      <td>1.221170</td>\n",
       "      <td>105.280062</td>\n",
       "    </tr>\n",
       "    <tr>\n",
       "      <th>1</th>\n",
       "      <td>2acmU</td>\n",
       "      <td>1.334711</td>\n",
       "      <td>-0.340164</td>\n",
       "      <td>4.365080</td>\n",
       "      <td>73.037750</td>\n",
       "    </tr>\n",
       "    <tr>\n",
       "      <th>2</th>\n",
       "      <td>409Wp</td>\n",
       "      <td>1.022732</td>\n",
       "      <td>0.151990</td>\n",
       "      <td>1.419926</td>\n",
       "      <td>85.265647</td>\n",
       "    </tr>\n",
       "    <tr>\n",
       "      <th>3</th>\n",
       "      <td>iJLyR</td>\n",
       "      <td>-0.032172</td>\n",
       "      <td>0.139033</td>\n",
       "      <td>2.978566</td>\n",
       "      <td>168.620776</td>\n",
       "    </tr>\n",
       "    <tr>\n",
       "      <th>4</th>\n",
       "      <td>Xdl7t</td>\n",
       "      <td>1.988431</td>\n",
       "      <td>0.155413</td>\n",
       "      <td>4.751769</td>\n",
       "      <td>154.036647</td>\n",
       "    </tr>\n",
       "  </tbody>\n",
       "</table>\n",
       "</div>"
      ],
      "text/plain": [
       "      id        f0        f1        f2     product\n",
       "0  txEyH  0.705745 -0.497823  1.221170  105.280062\n",
       "1  2acmU  1.334711 -0.340164  4.365080   73.037750\n",
       "2  409Wp  1.022732  0.151990  1.419926   85.265647\n",
       "3  iJLyR -0.032172  0.139033  2.978566  168.620776\n",
       "4  Xdl7t  1.988431  0.155413  4.751769  154.036647"
      ]
     },
     "execution_count": 2,
     "metadata": {},
     "output_type": "execute_result"
    }
   ],
   "source": [
    "geo_data_1 = pd.read_csv('geo_data_0.csv')\n",
    "geo_data_1.head()"
   ]
  },
  {
   "cell_type": "code",
   "execution_count": 3,
   "metadata": {},
   "outputs": [
    {
     "name": "stdout",
     "output_type": "stream",
     "text": [
      "<class 'pandas.core.frame.DataFrame'>\n",
      "RangeIndex: 100000 entries, 0 to 99999\n",
      "Data columns (total 5 columns):\n",
      " #   Column   Non-Null Count   Dtype  \n",
      "---  ------   --------------   -----  \n",
      " 0   id       100000 non-null  object \n",
      " 1   f0       100000 non-null  float64\n",
      " 2   f1       100000 non-null  float64\n",
      " 3   f2       100000 non-null  float64\n",
      " 4   product  100000 non-null  float64\n",
      "dtypes: float64(4), object(1)\n",
      "memory usage: 3.8+ MB\n"
     ]
    }
   ],
   "source": [
    "geo_data_1.info()"
   ]
  },
  {
   "attachments": {},
   "cell_type": "markdown",
   "metadata": {},
   "source": [
    "### Данные геологоразведки второго региона."
   ]
  },
  {
   "cell_type": "code",
   "execution_count": 4,
   "metadata": {},
   "outputs": [
    {
     "data": {
      "text/html": [
       "<div>\n",
       "<style scoped>\n",
       "    .dataframe tbody tr th:only-of-type {\n",
       "        vertical-align: middle;\n",
       "    }\n",
       "\n",
       "    .dataframe tbody tr th {\n",
       "        vertical-align: top;\n",
       "    }\n",
       "\n",
       "    .dataframe thead th {\n",
       "        text-align: right;\n",
       "    }\n",
       "</style>\n",
       "<table border=\"1\" class=\"dataframe\">\n",
       "  <thead>\n",
       "    <tr style=\"text-align: right;\">\n",
       "      <th></th>\n",
       "      <th>id</th>\n",
       "      <th>f0</th>\n",
       "      <th>f1</th>\n",
       "      <th>f2</th>\n",
       "      <th>product</th>\n",
       "    </tr>\n",
       "  </thead>\n",
       "  <tbody>\n",
       "    <tr>\n",
       "      <th>0</th>\n",
       "      <td>kBEdx</td>\n",
       "      <td>-15.001348</td>\n",
       "      <td>-8.276000</td>\n",
       "      <td>-0.005876</td>\n",
       "      <td>3.179103</td>\n",
       "    </tr>\n",
       "    <tr>\n",
       "      <th>1</th>\n",
       "      <td>62mP7</td>\n",
       "      <td>14.272088</td>\n",
       "      <td>-3.475083</td>\n",
       "      <td>0.999183</td>\n",
       "      <td>26.953261</td>\n",
       "    </tr>\n",
       "    <tr>\n",
       "      <th>2</th>\n",
       "      <td>vyE1P</td>\n",
       "      <td>6.263187</td>\n",
       "      <td>-5.948386</td>\n",
       "      <td>5.001160</td>\n",
       "      <td>134.766305</td>\n",
       "    </tr>\n",
       "    <tr>\n",
       "      <th>3</th>\n",
       "      <td>KcrkZ</td>\n",
       "      <td>-13.081196</td>\n",
       "      <td>-11.506057</td>\n",
       "      <td>4.999415</td>\n",
       "      <td>137.945408</td>\n",
       "    </tr>\n",
       "    <tr>\n",
       "      <th>4</th>\n",
       "      <td>AHL4O</td>\n",
       "      <td>12.702195</td>\n",
       "      <td>-8.147433</td>\n",
       "      <td>5.004363</td>\n",
       "      <td>134.766305</td>\n",
       "    </tr>\n",
       "  </tbody>\n",
       "</table>\n",
       "</div>"
      ],
      "text/plain": [
       "      id         f0         f1        f2     product\n",
       "0  kBEdx -15.001348  -8.276000 -0.005876    3.179103\n",
       "1  62mP7  14.272088  -3.475083  0.999183   26.953261\n",
       "2  vyE1P   6.263187  -5.948386  5.001160  134.766305\n",
       "3  KcrkZ -13.081196 -11.506057  4.999415  137.945408\n",
       "4  AHL4O  12.702195  -8.147433  5.004363  134.766305"
      ]
     },
     "execution_count": 4,
     "metadata": {},
     "output_type": "execute_result"
    }
   ],
   "source": [
    "geo_data_2 = pd.read_csv('geo_data_1.csv')\n",
    "geo_data_2.head()"
   ]
  },
  {
   "cell_type": "code",
   "execution_count": 5,
   "metadata": {},
   "outputs": [
    {
     "name": "stdout",
     "output_type": "stream",
     "text": [
      "<class 'pandas.core.frame.DataFrame'>\n",
      "RangeIndex: 100000 entries, 0 to 99999\n",
      "Data columns (total 5 columns):\n",
      " #   Column   Non-Null Count   Dtype  \n",
      "---  ------   --------------   -----  \n",
      " 0   id       100000 non-null  object \n",
      " 1   f0       100000 non-null  float64\n",
      " 2   f1       100000 non-null  float64\n",
      " 3   f2       100000 non-null  float64\n",
      " 4   product  100000 non-null  float64\n",
      "dtypes: float64(4), object(1)\n",
      "memory usage: 3.8+ MB\n"
     ]
    }
   ],
   "source": [
    "geo_data_2.info()"
   ]
  },
  {
   "attachments": {},
   "cell_type": "markdown",
   "metadata": {},
   "source": [
    "### Данные геологоразведки третьего региона."
   ]
  },
  {
   "cell_type": "code",
   "execution_count": 6,
   "metadata": {},
   "outputs": [
    {
     "data": {
      "text/html": [
       "<div>\n",
       "<style scoped>\n",
       "    .dataframe tbody tr th:only-of-type {\n",
       "        vertical-align: middle;\n",
       "    }\n",
       "\n",
       "    .dataframe tbody tr th {\n",
       "        vertical-align: top;\n",
       "    }\n",
       "\n",
       "    .dataframe thead th {\n",
       "        text-align: right;\n",
       "    }\n",
       "</style>\n",
       "<table border=\"1\" class=\"dataframe\">\n",
       "  <thead>\n",
       "    <tr style=\"text-align: right;\">\n",
       "      <th></th>\n",
       "      <th>id</th>\n",
       "      <th>f0</th>\n",
       "      <th>f1</th>\n",
       "      <th>f2</th>\n",
       "      <th>product</th>\n",
       "    </tr>\n",
       "  </thead>\n",
       "  <tbody>\n",
       "    <tr>\n",
       "      <th>0</th>\n",
       "      <td>fwXo0</td>\n",
       "      <td>-1.146987</td>\n",
       "      <td>0.963328</td>\n",
       "      <td>-0.828965</td>\n",
       "      <td>27.758673</td>\n",
       "    </tr>\n",
       "    <tr>\n",
       "      <th>1</th>\n",
       "      <td>WJtFt</td>\n",
       "      <td>0.262778</td>\n",
       "      <td>0.269839</td>\n",
       "      <td>-2.530187</td>\n",
       "      <td>56.069697</td>\n",
       "    </tr>\n",
       "    <tr>\n",
       "      <th>2</th>\n",
       "      <td>ovLUW</td>\n",
       "      <td>0.194587</td>\n",
       "      <td>0.289035</td>\n",
       "      <td>-5.586433</td>\n",
       "      <td>62.871910</td>\n",
       "    </tr>\n",
       "    <tr>\n",
       "      <th>3</th>\n",
       "      <td>q6cA6</td>\n",
       "      <td>2.236060</td>\n",
       "      <td>-0.553760</td>\n",
       "      <td>0.930038</td>\n",
       "      <td>114.572842</td>\n",
       "    </tr>\n",
       "    <tr>\n",
       "      <th>4</th>\n",
       "      <td>WPMUX</td>\n",
       "      <td>-0.515993</td>\n",
       "      <td>1.716266</td>\n",
       "      <td>5.899011</td>\n",
       "      <td>149.600746</td>\n",
       "    </tr>\n",
       "  </tbody>\n",
       "</table>\n",
       "</div>"
      ],
      "text/plain": [
       "      id        f0        f1        f2     product\n",
       "0  fwXo0 -1.146987  0.963328 -0.828965   27.758673\n",
       "1  WJtFt  0.262778  0.269839 -2.530187   56.069697\n",
       "2  ovLUW  0.194587  0.289035 -5.586433   62.871910\n",
       "3  q6cA6  2.236060 -0.553760  0.930038  114.572842\n",
       "4  WPMUX -0.515993  1.716266  5.899011  149.600746"
      ]
     },
     "execution_count": 6,
     "metadata": {},
     "output_type": "execute_result"
    }
   ],
   "source": [
    "geo_data_3 = pd.read_csv('geo_data_2.csv')\n",
    "geo_data_3.head()"
   ]
  },
  {
   "cell_type": "code",
   "execution_count": 7,
   "metadata": {},
   "outputs": [
    {
     "name": "stdout",
     "output_type": "stream",
     "text": [
      "<class 'pandas.core.frame.DataFrame'>\n",
      "RangeIndex: 100000 entries, 0 to 99999\n",
      "Data columns (total 5 columns):\n",
      " #   Column   Non-Null Count   Dtype  \n",
      "---  ------   --------------   -----  \n",
      " 0   id       100000 non-null  object \n",
      " 1   f0       100000 non-null  float64\n",
      " 2   f1       100000 non-null  float64\n",
      " 3   f2       100000 non-null  float64\n",
      " 4   product  100000 non-null  float64\n",
      "dtypes: float64(4), object(1)\n",
      "memory usage: 3.8+ MB\n"
     ]
    }
   ],
   "source": [
    "geo_data_3.info()"
   ]
  },
  {
   "attachments": {},
   "cell_type": "markdown",
   "metadata": {},
   "source": [
    "Описание данных:\n",
    "- `id` — уникальный идентификатор скважины;\n",
    "- `f0`, `f1`, `f2` — три признака точек;\n",
    "- `product` — объём запасов в скважине (тыс. баррелей) (*целевой признак*)."
   ]
  },
  {
   "attachments": {},
   "cell_type": "markdown",
   "metadata": {},
   "source": [
    "Проверка данных на дубликаты."
   ]
  },
  {
   "cell_type": "code",
   "execution_count": 8,
   "metadata": {},
   "outputs": [
    {
     "name": "stdout",
     "output_type": "stream",
     "text": [
      "0\n",
      "0\n",
      "0\n"
     ]
    }
   ],
   "source": [
    "data_geo = [geo_data_1, geo_data_2, geo_data_3]\n",
    "\n",
    "for i in data_geo:\n",
    "    print(i.duplicated().sum())"
   ]
  },
  {
   "attachments": {},
   "cell_type": "markdown",
   "metadata": {},
   "source": [
    "**Вывод:**\n",
    "\n",
    "Представленные данные выглядят замечательно. Ни пропусков, ни дубликатов не обнаружено. Названия столбцов соответствуют PEP8. Сразу же можно переходить к обучению и проверки модели."
   ]
  },
  {
   "attachments": {},
   "cell_type": "markdown",
   "metadata": {},
   "source": [
    "## Обучение и проверка модели"
   ]
  },
  {
   "attachments": {},
   "cell_type": "markdown",
   "metadata": {},
   "source": [
    "### Первый регион"
   ]
  },
  {
   "cell_type": "code",
   "execution_count": 9,
   "metadata": {},
   "outputs": [],
   "source": [
    "features_geo_1 = geo_data_1.drop(['product', 'id'], axis=1)\n",
    "target_geo_1 = geo_data_1['product']"
   ]
  },
  {
   "cell_type": "code",
   "execution_count": 10,
   "metadata": {},
   "outputs": [],
   "source": [
    "features_1_train, features_1_valid, target_1_train, target_1_valid = train_test_split(\n",
    "    features_geo_1, target_geo_1, test_size=0.25, random_state=12345)"
   ]
  },
  {
   "cell_type": "code",
   "execution_count": 11,
   "metadata": {},
   "outputs": [
    {
     "name": "stdout",
     "output_type": "stream",
     "text": [
      "Размер обучающей выборки датасета geo_data_1:\n",
      "(75000, 3)\n",
      "(75000,)\n",
      "--------------------------------------------------\n",
      "Размер валидационной выборки датасета geo_data_1:\n",
      "(25000, 3)\n",
      "(25000,)\n"
     ]
    }
   ],
   "source": [
    "print('Размер обучающей выборки датасета geo_data_1:')\n",
    "print(features_1_train.shape)\n",
    "print(target_1_train.shape)\n",
    "print('-'*50)\n",
    "print('Размер валидационной выборки датасета geo_data_1:')\n",
    "print(features_1_valid.shape)\n",
    "print(target_1_valid.shape)"
   ]
  },
  {
   "cell_type": "code",
   "execution_count": 12,
   "metadata": {},
   "outputs": [
    {
     "name": "stdout",
     "output_type": "stream",
     "text": [
      "RMSE модели: 37.5794217150813\n",
      "Предсказанный средний запас сырья: 92.59 тыс. баррелей\n"
     ]
    }
   ],
   "source": [
    "model_1 = LinearRegression().fit(features_1_train, target_1_train)\n",
    "prediction_1 = model_1.predict(features_1_valid)\n",
    "rmse_1 = mean_squared_error(target_1_valid, prediction_1) ** 0.5\n",
    "print(f'RMSE модели: {rmse_1}')\n",
    "print(f'Предсказанный средний запас сырья: {prediction_1.mean():.2f} тыс. баррелей')"
   ]
  },
  {
   "attachments": {},
   "cell_type": "markdown",
   "metadata": {},
   "source": [
    "***"
   ]
  },
  {
   "attachments": {},
   "cell_type": "markdown",
   "metadata": {},
   "source": [
    "### Второй регион"
   ]
  },
  {
   "cell_type": "code",
   "execution_count": 13,
   "metadata": {},
   "outputs": [],
   "source": [
    "features_geo_2 = geo_data_2.drop(['product', 'id'], axis=1)\n",
    "target_geo_2 = geo_data_2['product']"
   ]
  },
  {
   "cell_type": "code",
   "execution_count": 14,
   "metadata": {},
   "outputs": [],
   "source": [
    "features_2_train, features_2_valid, target_2_train, target_2_valid = train_test_split(\n",
    "    features_geo_2, target_geo_2, test_size=0.25, random_state=12345)"
   ]
  },
  {
   "cell_type": "code",
   "execution_count": 15,
   "metadata": {},
   "outputs": [
    {
     "name": "stdout",
     "output_type": "stream",
     "text": [
      "Размер обучающей выборки датасета geo_data_2:\n",
      "(75000, 3)\n",
      "(75000,)\n",
      "--------------------------------------------------\n",
      "Размер валидационной выборки датасета geo_data_2:\n",
      "(25000, 3)\n",
      "(25000,)\n"
     ]
    }
   ],
   "source": [
    "print('Размер обучающей выборки датасета geo_data_2:')\n",
    "print(features_2_train.shape)\n",
    "print(target_2_train.shape)\n",
    "print('-'*50)\n",
    "print('Размер валидационной выборки датасета geo_data_2:')\n",
    "print(features_2_valid.shape)\n",
    "print(target_2_valid.shape)"
   ]
  },
  {
   "cell_type": "code",
   "execution_count": 16,
   "metadata": {},
   "outputs": [
    {
     "name": "stdout",
     "output_type": "stream",
     "text": [
      "RMSE модели: 0.893099286775617\n",
      "Предсказанный средний запас сырья: 68.73 тыс. баррелей\n"
     ]
    }
   ],
   "source": [
    "model_2 = LinearRegression().fit(features_2_train, target_2_train)\n",
    "prediction_2 = model_2.predict(features_2_valid)\n",
    "rmse_2 = mean_squared_error(target_2_valid, prediction_2) ** 0.5\n",
    "print(f'RMSE модели: {rmse_2}')\n",
    "print(f'Предсказанный средний запас сырья: {prediction_2.mean():.2f} тыс. баррелей')"
   ]
  },
  {
   "attachments": {},
   "cell_type": "markdown",
   "metadata": {},
   "source": [
    "***"
   ]
  },
  {
   "attachments": {},
   "cell_type": "markdown",
   "metadata": {},
   "source": [
    "### Третий регион"
   ]
  },
  {
   "cell_type": "code",
   "execution_count": 17,
   "metadata": {},
   "outputs": [],
   "source": [
    "features_geo_3 = geo_data_3.drop(['product', 'id'], axis=1)\n",
    "target_geo_3 = geo_data_3['product']"
   ]
  },
  {
   "cell_type": "code",
   "execution_count": 18,
   "metadata": {},
   "outputs": [],
   "source": [
    "features_3_train, features_3_valid, target_3_train, target_3_valid = train_test_split(\n",
    "    features_geo_3, target_geo_3, test_size=0.25, random_state=12345)"
   ]
  },
  {
   "cell_type": "code",
   "execution_count": 19,
   "metadata": {},
   "outputs": [
    {
     "name": "stdout",
     "output_type": "stream",
     "text": [
      "Размер обучающей выборки датасета geo_data_3:\n",
      "(75000, 3)\n",
      "(75000,)\n",
      "--------------------------------------------------\n",
      "Размер валидационной выборки датасета geo_data_3:\n",
      "(25000, 3)\n",
      "(25000,)\n"
     ]
    }
   ],
   "source": [
    "print('Размер обучающей выборки датасета geo_data_3:')\n",
    "print(features_3_train.shape)\n",
    "print(target_3_train.shape)\n",
    "print('-'*50)\n",
    "print('Размер валидационной выборки датасета geo_data_3:')\n",
    "print(features_3_valid.shape)\n",
    "print(target_3_valid.shape)"
   ]
  },
  {
   "cell_type": "code",
   "execution_count": 20,
   "metadata": {},
   "outputs": [
    {
     "name": "stdout",
     "output_type": "stream",
     "text": [
      "RMSE модели: 40.02970873393434\n",
      "Предсказанный средний запас сырья: 94.97 тыс. баррелей\n"
     ]
    }
   ],
   "source": [
    "model_3 = LinearRegression().fit(features_3_train, target_3_train)\n",
    "prediction_3 = model_3.predict(features_3_valid)\n",
    "rmse_3 = mean_squared_error(target_3_valid, prediction_3) ** 0.5\n",
    "print(f'RMSE модели: {rmse_3}')\n",
    "print(f'Предсказанный средний запас сырья: {prediction_3.mean():.2f} тыс. баррелей')"
   ]
  },
  {
   "attachments": {},
   "cell_type": "markdown",
   "metadata": {},
   "source": [
    "***"
   ]
  },
  {
   "attachments": {},
   "cell_type": "markdown",
   "metadata": {},
   "source": [
    "Для каждого из трех регионов провели обучение моделей регрессии. Сохраним правильные ответы по валидационной выборке и средний предсказанный запас сырья следующим образом:"
   ]
  },
  {
   "cell_type": "code",
   "execution_count": 21,
   "metadata": {},
   "outputs": [
    {
     "name": "stdout",
     "output_type": "stream",
     "text": [
      "Превый регион:\n",
      "- Правильные ответы: \"target_1_valid\";\n",
      "- Предсказанный средний запас сырья: \"prediction_1\".\n",
      "\n",
      "Второй регион:\n",
      "- Правильные ответы: \"target_2_valid\";\n",
      "- Предсказанный средний запас сырья: \"prediction_2\".\n",
      "\n",
      "Третий регион:\n",
      "- Правильные ответы: \"target_3_valid\";\n",
      "- Предсказанный средний запас сырья: \"prediction_3\".\n",
      "\n"
     ]
    }
   ],
   "source": [
    "print('Превый регион:\\n- Правильные ответы: \"target_1_valid\";\\n- Предсказанный средний запас сырья: \"prediction_1\".')\n",
    "print()\n",
    "print('Второй регион:\\n- Правильные ответы: \"target_2_valid\";\\n- Предсказанный средний запас сырья: \"prediction_2\".')\n",
    "print()\n",
    "print('Третий регион:\\n- Правильные ответы: \"target_3_valid\";\\n- Предсказанный средний запас сырья: \"prediction_3\".')\n",
    "print()"
   ]
  },
  {
   "attachments": {},
   "cell_type": "markdown",
   "metadata": {},
   "source": [
    "**Вывод:**\n",
    "\n",
    "Модели обучены и проверены на качество предсказания метрикой RMSE, которая определяет величину среднеквадратичной ошибки в предсказании модели. Можно заметить, что величина RMSE во втором регионе сильно отличается от двух других."
   ]
  },
  {
   "attachments": {},
   "cell_type": "markdown",
   "metadata": {},
   "source": [
    "## Подготовка к расчёту прибыли"
   ]
  },
  {
   "attachments": {},
   "cell_type": "markdown",
   "metadata": {},
   "source": [
    "Все ключевые значения для расчётов сохраним в отдельных переменных.\n",
    "\n",
    "При разведке региона исследуюем **500** точек, из которых с помощью машинного обучения выберем **200** лучших для разработки.\n",
    "\n",
    "Бюджет на разработку скважин в регионе — **10 млрд рублей**.\n",
    "\n",
    "При нынешних ценах один баррель сырья приносит **450 рублей** дохода. Доход с каждой единицы продукта составляет **450 тыс.\n",
    "рублей**, поскольку объём указан в тысячах баррелей.\n",
    "\n",
    "После оценки рисков оставим лишь те регионы, в которых вероятность убытков меньше **2.5%**. Среди них выберем регион с наибольшей средней прибылью."
   ]
  },
  {
   "attachments": {},
   "cell_type": "markdown",
   "metadata": {},
   "source": [
    "### Ключевые значения для расчета прибыли"
   ]
  },
  {
   "cell_type": "code",
   "execution_count": 22,
   "metadata": {},
   "outputs": [],
   "source": [
    "budget = 10000000 #Бюджет на разработку скважин в регионе, тыс.рублей.\n",
    "revenue_one_prod = 450 #Доход с каждой единицы продукта.\n",
    "\n",
    "mean_product_1 = geo_data_1['product'].mean()\n",
    "mean_product_2 = geo_data_2['product'].mean()\n",
    "mean_product_3 = geo_data_3['product'].mean()"
   ]
  },
  {
   "cell_type": "code",
   "execution_count": 23,
   "metadata": {},
   "outputs": [
    {
     "name": "stdout",
     "output_type": "stream",
     "text": [
      "Средний запас сырья в первом регионе, тыс. баррелей: 92.50\n",
      "Средний запас сырья во втором регионе, тыс. баррелей: 68.83\n",
      "Средний запас сырья в третьем регионе, тыс. баррелей: 95.00\n"
     ]
    }
   ],
   "source": [
    "print(f'Средний запас сырья в первом регионе, тыс. баррелей: {mean_product_1:.2f}')\n",
    "print(f'Средний запас сырья во втором регионе, тыс. баррелей: {mean_product_2:.2f}')\n",
    "print(f'Средний запас сырья в третьем регионе, тыс. баррелей: {mean_product_3:.2f}')"
   ]
  },
  {
   "cell_type": "code",
   "execution_count": 24,
   "metadata": {},
   "outputs": [
    {
     "name": "stdout",
     "output_type": "stream",
     "text": [
      "Бюджет на одну скважину: 50000.0 млн. рублей\n"
     ]
    }
   ],
   "source": [
    "budget_one_borehole = budget/200\n",
    "print(f'Бюджет на одну скважину: {budget_one_borehole} млн. рублей')"
   ]
  },
  {
   "attachments": {},
   "cell_type": "markdown",
   "metadata": {},
   "source": [
    "### Достаточный объем сырья для безубыточной разработки скважины"
   ]
  },
  {
   "cell_type": "code",
   "execution_count": 25,
   "metadata": {},
   "outputs": [
    {
     "name": "stdout",
     "output_type": "stream",
     "text": [
      "Достаточный объем сырья для безубыточной разработки скважины: 111.11 тыс. баррелей\n"
     ]
    }
   ],
   "source": [
    "break_even_production = budget/revenue_one_prod/200\n",
    "print(f'Достаточный объем сырья для безубыточной разработки скважины: {break_even_production:.2f} тыс. баррелей')"
   ]
  },
  {
   "attachments": {},
   "cell_type": "markdown",
   "metadata": {},
   "source": [
    "### Сравнение объёма сырья для безубыточной разработки и среднего запаса сырья в каждом регионе"
   ]
  },
  {
   "attachments": {},
   "cell_type": "markdown",
   "metadata": {},
   "source": [
    "#### Сравнение объёмов сырья в первом регионе"
   ]
  },
  {
   "cell_type": "code",
   "execution_count": 26,
   "metadata": {
    "scrolled": true
   },
   "outputs": [
    {
     "data": {
      "text/html": [
       "<div>\n",
       "<style scoped>\n",
       "    .dataframe tbody tr th:only-of-type {\n",
       "        vertical-align: middle;\n",
       "    }\n",
       "\n",
       "    .dataframe tbody tr th {\n",
       "        vertical-align: top;\n",
       "    }\n",
       "\n",
       "    .dataframe thead th {\n",
       "        text-align: right;\n",
       "    }\n",
       "</style>\n",
       "<table border=\"1\" class=\"dataframe\">\n",
       "  <thead>\n",
       "    <tr style=\"text-align: right;\">\n",
       "      <th></th>\n",
       "      <th>id</th>\n",
       "      <th>f0</th>\n",
       "      <th>f1</th>\n",
       "      <th>f2</th>\n",
       "      <th>product</th>\n",
       "      <th>turnover</th>\n",
       "    </tr>\n",
       "  </thead>\n",
       "  <tbody>\n",
       "    <tr>\n",
       "      <th>0</th>\n",
       "      <td>txEyH</td>\n",
       "      <td>0.705745</td>\n",
       "      <td>-0.497823</td>\n",
       "      <td>1.221170</td>\n",
       "      <td>105.280062</td>\n",
       "      <td>47376.03</td>\n",
       "    </tr>\n",
       "    <tr>\n",
       "      <th>1</th>\n",
       "      <td>2acmU</td>\n",
       "      <td>1.334711</td>\n",
       "      <td>-0.340164</td>\n",
       "      <td>4.365080</td>\n",
       "      <td>73.037750</td>\n",
       "      <td>32866.99</td>\n",
       "    </tr>\n",
       "    <tr>\n",
       "      <th>2</th>\n",
       "      <td>409Wp</td>\n",
       "      <td>1.022732</td>\n",
       "      <td>0.151990</td>\n",
       "      <td>1.419926</td>\n",
       "      <td>85.265647</td>\n",
       "      <td>38369.54</td>\n",
       "    </tr>\n",
       "    <tr>\n",
       "      <th>3</th>\n",
       "      <td>iJLyR</td>\n",
       "      <td>-0.032172</td>\n",
       "      <td>0.139033</td>\n",
       "      <td>2.978566</td>\n",
       "      <td>168.620776</td>\n",
       "      <td>75879.35</td>\n",
       "    </tr>\n",
       "    <tr>\n",
       "      <th>4</th>\n",
       "      <td>Xdl7t</td>\n",
       "      <td>1.988431</td>\n",
       "      <td>0.155413</td>\n",
       "      <td>4.751769</td>\n",
       "      <td>154.036647</td>\n",
       "      <td>69316.49</td>\n",
       "    </tr>\n",
       "  </tbody>\n",
       "</table>\n",
       "</div>"
      ],
      "text/plain": [
       "      id        f0        f1        f2     product  turnover\n",
       "0  txEyH  0.705745 -0.497823  1.221170  105.280062  47376.03\n",
       "1  2acmU  1.334711 -0.340164  4.365080   73.037750  32866.99\n",
       "2  409Wp  1.022732  0.151990  1.419926   85.265647  38369.54\n",
       "3  iJLyR -0.032172  0.139033  2.978566  168.620776  75879.35\n",
       "4  Xdl7t  1.988431  0.155413  4.751769  154.036647  69316.49"
      ]
     },
     "execution_count": 26,
     "metadata": {},
     "output_type": "execute_result"
    }
   ],
   "source": [
    "geo_data_1['turnover'] = (geo_data_1['product'] * revenue_one_prod).round(2)\n",
    "geo_data_1.head(5)"
   ]
  },
  {
   "cell_type": "code",
   "execution_count": 27,
   "metadata": {},
   "outputs": [
    {
     "name": "stdout",
     "output_type": "stream",
     "text": [
      "Разница объема сырья для безубыточной разработки скважины по среднему значению 1 региона:\n",
      "18.61 тыс.баррелей\n"
     ]
    }
   ],
   "source": [
    "print(f'Разница объема сырья для безубыточной разработки скважины по среднему значению 1 региона:\\n'\n",
    "      f'{break_even_production-mean_product_1:.2f} тыс.баррелей')"
   ]
  },
  {
   "attachments": {},
   "cell_type": "markdown",
   "metadata": {},
   "source": [
    "***"
   ]
  },
  {
   "attachments": {},
   "cell_type": "markdown",
   "metadata": {},
   "source": [
    "#### Сравнение объёмов сырья во втором регионе"
   ]
  },
  {
   "cell_type": "code",
   "execution_count": 28,
   "metadata": {},
   "outputs": [
    {
     "data": {
      "text/html": [
       "<div>\n",
       "<style scoped>\n",
       "    .dataframe tbody tr th:only-of-type {\n",
       "        vertical-align: middle;\n",
       "    }\n",
       "\n",
       "    .dataframe tbody tr th {\n",
       "        vertical-align: top;\n",
       "    }\n",
       "\n",
       "    .dataframe thead th {\n",
       "        text-align: right;\n",
       "    }\n",
       "</style>\n",
       "<table border=\"1\" class=\"dataframe\">\n",
       "  <thead>\n",
       "    <tr style=\"text-align: right;\">\n",
       "      <th></th>\n",
       "      <th>id</th>\n",
       "      <th>f0</th>\n",
       "      <th>f1</th>\n",
       "      <th>f2</th>\n",
       "      <th>product</th>\n",
       "      <th>turnover</th>\n",
       "    </tr>\n",
       "  </thead>\n",
       "  <tbody>\n",
       "    <tr>\n",
       "      <th>0</th>\n",
       "      <td>kBEdx</td>\n",
       "      <td>-15.001348</td>\n",
       "      <td>-8.276000</td>\n",
       "      <td>-0.005876</td>\n",
       "      <td>3.179103</td>\n",
       "      <td>1430.60</td>\n",
       "    </tr>\n",
       "    <tr>\n",
       "      <th>1</th>\n",
       "      <td>62mP7</td>\n",
       "      <td>14.272088</td>\n",
       "      <td>-3.475083</td>\n",
       "      <td>0.999183</td>\n",
       "      <td>26.953261</td>\n",
       "      <td>12128.97</td>\n",
       "    </tr>\n",
       "    <tr>\n",
       "      <th>2</th>\n",
       "      <td>vyE1P</td>\n",
       "      <td>6.263187</td>\n",
       "      <td>-5.948386</td>\n",
       "      <td>5.001160</td>\n",
       "      <td>134.766305</td>\n",
       "      <td>60644.84</td>\n",
       "    </tr>\n",
       "    <tr>\n",
       "      <th>3</th>\n",
       "      <td>KcrkZ</td>\n",
       "      <td>-13.081196</td>\n",
       "      <td>-11.506057</td>\n",
       "      <td>4.999415</td>\n",
       "      <td>137.945408</td>\n",
       "      <td>62075.43</td>\n",
       "    </tr>\n",
       "    <tr>\n",
       "      <th>4</th>\n",
       "      <td>AHL4O</td>\n",
       "      <td>12.702195</td>\n",
       "      <td>-8.147433</td>\n",
       "      <td>5.004363</td>\n",
       "      <td>134.766305</td>\n",
       "      <td>60644.84</td>\n",
       "    </tr>\n",
       "  </tbody>\n",
       "</table>\n",
       "</div>"
      ],
      "text/plain": [
       "      id         f0         f1        f2     product  turnover\n",
       "0  kBEdx -15.001348  -8.276000 -0.005876    3.179103   1430.60\n",
       "1  62mP7  14.272088  -3.475083  0.999183   26.953261  12128.97\n",
       "2  vyE1P   6.263187  -5.948386  5.001160  134.766305  60644.84\n",
       "3  KcrkZ -13.081196 -11.506057  4.999415  137.945408  62075.43\n",
       "4  AHL4O  12.702195  -8.147433  5.004363  134.766305  60644.84"
      ]
     },
     "execution_count": 28,
     "metadata": {},
     "output_type": "execute_result"
    }
   ],
   "source": [
    "geo_data_2['turnover'] = (geo_data_2['product'] * revenue_one_prod).round(2)\n",
    "geo_data_2.head(5)"
   ]
  },
  {
   "cell_type": "code",
   "execution_count": 29,
   "metadata": {},
   "outputs": [
    {
     "name": "stdout",
     "output_type": "stream",
     "text": [
      "Разница объема сырья для безубыточной разработки скважины по среднему значению 2 региона:\n",
      "42.29 тыс.баррелей\n"
     ]
    }
   ],
   "source": [
    "print(f'Разница объема сырья для безубыточной разработки скважины по среднему значению 2 региона:\\n'\n",
    "      f'{break_even_production-mean_product_2:.2f} тыс.баррелей')"
   ]
  },
  {
   "attachments": {},
   "cell_type": "markdown",
   "metadata": {},
   "source": [
    "***"
   ]
  },
  {
   "attachments": {},
   "cell_type": "markdown",
   "metadata": {},
   "source": [
    "#### Сравнение объёмов сырья в третьем регионе"
   ]
  },
  {
   "cell_type": "code",
   "execution_count": 30,
   "metadata": {},
   "outputs": [
    {
     "data": {
      "text/html": [
       "<div>\n",
       "<style scoped>\n",
       "    .dataframe tbody tr th:only-of-type {\n",
       "        vertical-align: middle;\n",
       "    }\n",
       "\n",
       "    .dataframe tbody tr th {\n",
       "        vertical-align: top;\n",
       "    }\n",
       "\n",
       "    .dataframe thead th {\n",
       "        text-align: right;\n",
       "    }\n",
       "</style>\n",
       "<table border=\"1\" class=\"dataframe\">\n",
       "  <thead>\n",
       "    <tr style=\"text-align: right;\">\n",
       "      <th></th>\n",
       "      <th>id</th>\n",
       "      <th>f0</th>\n",
       "      <th>f1</th>\n",
       "      <th>f2</th>\n",
       "      <th>product</th>\n",
       "      <th>turnover</th>\n",
       "    </tr>\n",
       "  </thead>\n",
       "  <tbody>\n",
       "    <tr>\n",
       "      <th>0</th>\n",
       "      <td>fwXo0</td>\n",
       "      <td>-1.146987</td>\n",
       "      <td>0.963328</td>\n",
       "      <td>-0.828965</td>\n",
       "      <td>27.758673</td>\n",
       "      <td>12491.40</td>\n",
       "    </tr>\n",
       "    <tr>\n",
       "      <th>1</th>\n",
       "      <td>WJtFt</td>\n",
       "      <td>0.262778</td>\n",
       "      <td>0.269839</td>\n",
       "      <td>-2.530187</td>\n",
       "      <td>56.069697</td>\n",
       "      <td>25231.36</td>\n",
       "    </tr>\n",
       "    <tr>\n",
       "      <th>2</th>\n",
       "      <td>ovLUW</td>\n",
       "      <td>0.194587</td>\n",
       "      <td>0.289035</td>\n",
       "      <td>-5.586433</td>\n",
       "      <td>62.871910</td>\n",
       "      <td>28292.36</td>\n",
       "    </tr>\n",
       "    <tr>\n",
       "      <th>3</th>\n",
       "      <td>q6cA6</td>\n",
       "      <td>2.236060</td>\n",
       "      <td>-0.553760</td>\n",
       "      <td>0.930038</td>\n",
       "      <td>114.572842</td>\n",
       "      <td>51557.78</td>\n",
       "    </tr>\n",
       "    <tr>\n",
       "      <th>4</th>\n",
       "      <td>WPMUX</td>\n",
       "      <td>-0.515993</td>\n",
       "      <td>1.716266</td>\n",
       "      <td>5.899011</td>\n",
       "      <td>149.600746</td>\n",
       "      <td>67320.34</td>\n",
       "    </tr>\n",
       "  </tbody>\n",
       "</table>\n",
       "</div>"
      ],
      "text/plain": [
       "      id        f0        f1        f2     product  turnover\n",
       "0  fwXo0 -1.146987  0.963328 -0.828965   27.758673  12491.40\n",
       "1  WJtFt  0.262778  0.269839 -2.530187   56.069697  25231.36\n",
       "2  ovLUW  0.194587  0.289035 -5.586433   62.871910  28292.36\n",
       "3  q6cA6  2.236060 -0.553760  0.930038  114.572842  51557.78\n",
       "4  WPMUX -0.515993  1.716266  5.899011  149.600746  67320.34"
      ]
     },
     "execution_count": 30,
     "metadata": {},
     "output_type": "execute_result"
    }
   ],
   "source": [
    "geo_data_3['turnover'] = (geo_data_3['product'] * revenue_one_prod).round(2)\n",
    "geo_data_3.head(5)"
   ]
  },
  {
   "cell_type": "code",
   "execution_count": 31,
   "metadata": {},
   "outputs": [
    {
     "name": "stdout",
     "output_type": "stream",
     "text": [
      "Разница объема сырья для безубыточной разработки скважины по среднему значению 3 региона:\n",
      "16.11 тыс.баррелей\n"
     ]
    }
   ],
   "source": [
    "print(f'Разница объема сырья для безубыточной разработки скважины по среднему значению 3 региона:\\n'\n",
    "      f'{break_even_production-mean_product_3:.2f} тыс.баррелей')"
   ]
  },
  {
   "attachments": {},
   "cell_type": "markdown",
   "metadata": {},
   "source": [
    "**Вывод:**\n",
    "\n",
    "При бюджете, рассчитанном на 200 скважин в регионе, на одну скважину приходится 50 млн. рублей. Достаточный объем сырья для безубыточной разработки скважины составляет 111.11 тыс. баррелей, что больше, чем средний запас сырья в отдельно взятых регионов. Но самым близким к безубыточной разработке является третий регион со средним запасом сырья в 95 тыс. баррелей."
   ]
  },
  {
   "attachments": {},
   "cell_type": "markdown",
   "metadata": {},
   "source": [
    "## Расчёт прибыли и рисков "
   ]
  },
  {
   "attachments": {},
   "cell_type": "markdown",
   "metadata": {},
   "source": [
    "### Функция для расчёта прибыли по выбранным скважинам и предсказаниям модели"
   ]
  },
  {
   "cell_type": "code",
   "execution_count": 32,
   "metadata": {},
   "outputs": [],
   "source": [
    "def cal_max_vol_mat(prediction,target,count):\n",
    "    prediction_sort = pd.Series(prediction, index=target.index).sort_values(ascending=False)\n",
    "    prediction_max_vol_mat = prediction_sort[:count]\n",
    "    max_sum = prediction_max_vol_mat.sum()\n",
    "    print(f'Сумма запасов сырья в 200 лучших скважинах: {max_sum:.2f} тыс. баррелей')\n",
    "    profit = (max_sum*revenue_one_prod)-budget\n",
    "    print(f'Прибыль от полученного сырья: {profit/1000:.2f} млн. рублей')"
   ]
  },
  {
   "cell_type": "code",
   "execution_count": 33,
   "metadata": {
    "scrolled": true
   },
   "outputs": [
    {
     "name": "stdout",
     "output_type": "stream",
     "text": [
      "Сумма запасов сырья в 200 лучших скважинах: 31102.33 тыс. баррелей\n",
      "Прибыль от полученного сырья: 3996.05 млн. рублей\n"
     ]
    }
   ],
   "source": [
    "cal_max_vol_mat(prediction_1, target_1_valid, 200)"
   ]
  },
  {
   "cell_type": "code",
   "execution_count": 34,
   "metadata": {},
   "outputs": [
    {
     "name": "stdout",
     "output_type": "stream",
     "text": [
      "Сумма запасов сырья в 200 лучших скважинах: 27746.03 тыс. баррелей\n",
      "Прибыль от полученного сырья: 2485.71 млн. рублей\n"
     ]
    }
   ],
   "source": [
    "cal_max_vol_mat(prediction_2, target_2_valid, 200)"
   ]
  },
  {
   "cell_type": "code",
   "execution_count": 35,
   "metadata": {},
   "outputs": [
    {
     "name": "stdout",
     "output_type": "stream",
     "text": [
      "Сумма запасов сырья в 200 лучших скважинах: 29603.90 тыс. баррелей\n",
      "Прибыль от полученного сырья: 3321.75 млн. рублей\n"
     ]
    }
   ],
   "source": [
    "cal_max_vol_mat(prediction_3, target_3_valid, 200)"
   ]
  },
  {
   "attachments": {},
   "cell_type": "markdown",
   "metadata": {},
   "source": [
    "**Вывод:**\n",
    "\n",
    "При выборе из 200 лучших скважин в каждом регионе прибыль достаточно хорошая. Посчитаем риски и найдем прибыль для каждого региона."
   ]
  },
  {
   "attachments": {},
   "cell_type": "markdown",
   "metadata": {},
   "source": [
    "### Распределение прибыли по технике Bootstrap."
   ]
  },
  {
   "cell_type": "code",
   "execution_count": 36,
   "metadata": {},
   "outputs": [],
   "source": [
    "def revenue(prediction,target,count):\n",
    "    prediction_sort = prediction.sort_values(ascending=False)\n",
    "    prediction_max_vol_mat = target[prediction_sort.index][:count]\n",
    "    max_sum = prediction_max_vol_mat.sum()\n",
    "    revenue = max_sum * revenue_one_prod\n",
    "    return revenue - budget"
   ]
  },
  {
   "cell_type": "code",
   "execution_count": 37,
   "metadata": {},
   "outputs": [],
   "source": [
    "def bootstap_1000(target,prediction):\n",
    "    values = []\n",
    "    count=0\n",
    "    state = np.random.RandomState(12345)\n",
    "    prediction = pd.Series(prediction, index=target.index)\n",
    "    \n",
    "    for i in range(1000):\n",
    "        target_subsample = target.sample(500, replace=True, random_state=state)\n",
    "        probs_subsample = prediction[target_subsample.index]\n",
    "        values.append(revenue(probs_subsample,target_subsample, 200))  \n",
    "    for i in values:\n",
    "        if i < 0:\n",
    "            count +=1\n",
    "            \n",
    "    values = pd.Series(values)\n",
    "    mean = values.mean()\n",
    "    \n",
    "    lower = values.quantile(0.025)\n",
    "    upper = values.quantile(0.975)\n",
    "    \n",
    "    print(f'Средняя прибыль: {mean/1000:.2f} млн.руб')\n",
    "    print(f'С вероятностью 95% прибыль в данном регионе будет составлять от: {lower/1000:.2f} млн.руб до: {upper/1000:.2f} млн.руб')\n",
    "    print (f'Риск убытка в данном регионе: {count/1000:.1%}')"
   ]
  },
  {
   "cell_type": "code",
   "execution_count": 38,
   "metadata": {},
   "outputs": [
    {
     "name": "stdout",
     "output_type": "stream",
     "text": [
      "Средняя прибыль: 425.94 млн.руб\n",
      "С вероятностью 95% прибыль в данном регионе будет составлять от: -102.09 млн.руб до: 947.98 млн.руб\n",
      "Риск убытка в данном регионе: 6.0%\n"
     ]
    }
   ],
   "source": [
    "bootstap_1000(target_1_valid, prediction_1)"
   ]
  },
  {
   "cell_type": "code",
   "execution_count": 39,
   "metadata": {},
   "outputs": [
    {
     "name": "stdout",
     "output_type": "stream",
     "text": [
      "Средняя прибыль: 515.22 млн.руб\n",
      "С вероятностью 95% прибыль в данном регионе будет составлять от: 68.87 млн.руб до: 931.55 млн.руб\n",
      "Риск убытка в данном регионе: 1.0%\n"
     ]
    }
   ],
   "source": [
    "bootstap_1000(target_2_valid, prediction_2)"
   ]
  },
  {
   "cell_type": "code",
   "execution_count": 40,
   "metadata": {},
   "outputs": [
    {
     "name": "stdout",
     "output_type": "stream",
     "text": [
      "Средняя прибыль: 435.01 млн.руб\n",
      "С вероятностью 95% прибыль в данном регионе будет составлять от: -128.88 млн.руб до: 969.71 млн.руб\n",
      "Риск убытка в данном регионе: 6.4%\n"
     ]
    }
   ],
   "source": [
    "bootstap_1000(target_3_valid, prediction_3)"
   ]
  },
  {
   "attachments": {},
   "cell_type": "markdown",
   "metadata": {},
   "source": [
    "**Оценим риски и оставим лишь те регионы, в которых вероятность убытков меньше 2.5%. Среди них выбирают регион с наибольшей средней прибылью.**"
   ]
  },
  {
   "cell_type": "code",
   "execution_count": 41,
   "metadata": {},
   "outputs": [
    {
     "data": {
      "text/html": [
       "<div>\n",
       "<style scoped>\n",
       "    .dataframe tbody tr th:only-of-type {\n",
       "        vertical-align: middle;\n",
       "    }\n",
       "\n",
       "    .dataframe tbody tr th {\n",
       "        vertical-align: top;\n",
       "    }\n",
       "\n",
       "    .dataframe thead th {\n",
       "        text-align: right;\n",
       "    }\n",
       "</style>\n",
       "<table border=\"1\" class=\"dataframe\">\n",
       "  <thead>\n",
       "    <tr style=\"text-align: right;\">\n",
       "      <th></th>\n",
       "      <th>1 регион</th>\n",
       "      <th>2 регион</th>\n",
       "      <th>3 регион</th>\n",
       "    </tr>\n",
       "  </thead>\n",
       "  <tbody>\n",
       "    <tr>\n",
       "      <th>Средняя прибыль в регионе, млн.руб</th>\n",
       "      <td>425.94</td>\n",
       "      <td>515.22</td>\n",
       "      <td>435.01</td>\n",
       "    </tr>\n",
       "    <tr>\n",
       "      <th>Суммарный запас сырья, тыс.баррелей</th>\n",
       "      <td>31102.33</td>\n",
       "      <td>27746.03</td>\n",
       "      <td>29603.90</td>\n",
       "    </tr>\n",
       "    <tr>\n",
       "      <th>Вероятность убытка, %</th>\n",
       "      <td>6.0</td>\n",
       "      <td>1.0</td>\n",
       "      <td>6.4</td>\n",
       "    </tr>\n",
       "  </tbody>\n",
       "</table>\n",
       "</div>"
      ],
      "text/plain": [
       "                                     1 регион  2 регион  3 регион\n",
       "Средняя прибыль в регионе, млн.руб     425.94    515.22    435.01\n",
       "Суммарный запас сырья, тыс.баррелей  31102.33  27746.03  29603.90\n",
       "Вероятность убытка, %                     6.0       1.0       6.4"
      ]
     },
     "execution_count": 41,
     "metadata": {},
     "output_type": "execute_result"
    }
   ],
   "source": [
    "comparison_table = pd.DataFrame(index=['Средняя прибыль в регионе, млн.руб',\n",
    "                                       'Суммарный запас сырья, тыс.баррелей',\n",
    "                                       'Вероятность убытка, %'], \n",
    "                                columns=['1 регион','2 регион','3 регион'])\n",
    "comparison_table['1 регион'] = '425.94', '31102.33','6.0'\n",
    "comparison_table['2 регион'] = '515.22', '27746.03','1.0'\n",
    "comparison_table['3 регион'] = '435.01', '29603.90','6.4'\n",
    "comparison_table"
   ]
  },
  {
   "attachments": {},
   "cell_type": "markdown",
   "metadata": {},
   "source": [
    "**Вывод:**\n",
    "\n",
    "Самым прибыльным регионом оказался **второй регион**. Хоть его суммарный запас сырья не самый высокий среди остальных регионов, зато риск убытка в данном регионе составляет **1%**, что меньше первого и третьего региона, но не больше чем поставленный в задаче процент риска в 2.5%."
   ]
  },
  {
   "attachments": {},
   "cell_type": "markdown",
   "metadata": {},
   "source": [
    "## Общий вывод"
   ]
  },
  {
   "attachments": {},
   "cell_type": "markdown",
   "metadata": {},
   "source": [
    "Было проведено исследование для определения региона, где бурить новую скважину для добычи нефти. Результаты исследования позволят определить регион с самой большой прибылью. \n",
    "\n",
    "Сведения о данных: в каждом из 3 регионов 10 000 месторождений, где измерили качество нефти и объём её запасов.\n",
    "\n",
    "В ходе исследования были проведены следующие шаги:\n",
    "- Изучение данных;\n",
    "\n",
    "- Обучение и проверка моделей машинного обучения по каждому из регионов. Были предсказаны средние запасы сырья, где самым большим средним запасом сырья выделился третий регион, а так же предсказания были проверены на среднеквадратичную ошибку, где предсказания второго региона меньше всего отличались от целевого признака;\n",
    "\n",
    "- Сравнение объемов для безубыточной разработки. При бюджете, рассчитанном на 200 скважин в регионе, посчитали сколько приходится на одну скважину и выявили достаточный объем сырья для безубыточной разработки скважины. При сравнении получилось, что безубыточная разработка больше, чем средний запас сырья в отдельно взятых регионов. Но самым близким к безубыточной разработке является третий регион;\n",
    "\n",
    "- Расчет прибыли и рисков. По каждому из регионов была вычислена наибольшая прибыль, которую могут принести 200 лучших скважин в регионе. По прибыли без учета рисков самым удачным оказался первый регион. Но после подсчета рисков и распределения прибыли по технике `Bootstrap` (средняя прибыль по нескольким выборкам и вероятность прибыли), с учетом того, что процент риска не должен превышать 2.5, первый регион оказался с риском в 6%.\n",
    "\n",
    "Самым прибыльным регионом по итогам исследования оказался второй регион, со средней прибылью в **515.22 млн.руб** и риском в **1%**."
   ]
  }
 ],
 "metadata": {
  "ExecuteTimeLog": [
   {
    "duration": 355,
    "start_time": "2023-04-12T16:48:40.805Z"
   },
   {
    "duration": 508,
    "start_time": "2023-04-12T16:49:41.396Z"
   },
   {
    "duration": 143,
    "start_time": "2023-04-12T16:51:00.900Z"
   },
   {
    "duration": 213,
    "start_time": "2023-04-12T16:51:13.270Z"
   },
   {
    "duration": 225,
    "start_time": "2023-04-12T16:51:56.663Z"
   },
   {
    "duration": 25,
    "start_time": "2023-04-12T16:54:45.703Z"
   },
   {
    "duration": 172,
    "start_time": "2023-04-12T16:58:30.643Z"
   },
   {
    "duration": 20,
    "start_time": "2023-04-12T16:58:43.741Z"
   },
   {
    "duration": 170,
    "start_time": "2023-04-12T16:58:50.875Z"
   },
   {
    "duration": 24,
    "start_time": "2023-04-12T16:59:04.207Z"
   },
   {
    "duration": 134,
    "start_time": "2023-04-12T17:04:03.500Z"
   },
   {
    "duration": 150,
    "start_time": "2023-04-12T17:06:26.069Z"
   },
   {
    "duration": 691,
    "start_time": "2023-04-12T17:22:36.361Z"
   },
   {
    "duration": 159,
    "start_time": "2023-04-12T17:31:48.547Z"
   },
   {
    "duration": 157,
    "start_time": "2023-04-12T17:32:08.849Z"
   },
   {
    "duration": 124,
    "start_time": "2023-04-12T17:32:30.594Z"
   },
   {
    "duration": 7,
    "start_time": "2023-04-12T17:32:59.274Z"
   },
   {
    "duration": 7,
    "start_time": "2023-04-12T17:35:14.381Z"
   },
   {
    "duration": 8,
    "start_time": "2023-04-12T17:35:58.159Z"
   },
   {
    "duration": 11,
    "start_time": "2023-04-12T17:51:32.302Z"
   },
   {
    "duration": 1477,
    "start_time": "2023-04-12T17:52:09.541Z"
   },
   {
    "duration": 204,
    "start_time": "2023-04-12T17:52:11.020Z"
   },
   {
    "duration": 33,
    "start_time": "2023-04-12T17:52:11.228Z"
   },
   {
    "duration": 183,
    "start_time": "2023-04-12T17:52:11.270Z"
   },
   {
    "duration": 24,
    "start_time": "2023-04-12T17:52:11.456Z"
   },
   {
    "duration": 170,
    "start_time": "2023-04-12T17:52:11.487Z"
   },
   {
    "duration": 15,
    "start_time": "2023-04-12T17:52:11.659Z"
   },
   {
    "duration": 162,
    "start_time": "2023-04-12T17:52:11.677Z"
   },
   {
    "duration": 7,
    "start_time": "2023-04-12T17:52:11.840Z"
   },
   {
    "duration": 9,
    "start_time": "2023-04-12T17:52:11.856Z"
   },
   {
    "duration": 12,
    "start_time": "2023-04-12T17:52:11.867Z"
   },
   {
    "duration": 138,
    "start_time": "2023-04-12T17:52:11.881Z"
   },
   {
    "duration": 22,
    "start_time": "2023-04-12T17:52:27.485Z"
   },
   {
    "duration": 25,
    "start_time": "2023-04-12T17:52:33.493Z"
   },
   {
    "duration": 30,
    "start_time": "2023-04-12T17:52:54.284Z"
   },
   {
    "duration": 22,
    "start_time": "2023-04-12T17:53:11.626Z"
   },
   {
    "duration": 12,
    "start_time": "2023-04-12T17:53:59.112Z"
   },
   {
    "duration": 3,
    "start_time": "2023-04-12T17:54:06.351Z"
   },
   {
    "duration": 6,
    "start_time": "2023-04-12T17:54:37.616Z"
   },
   {
    "duration": 4,
    "start_time": "2023-04-12T17:57:58.866Z"
   },
   {
    "duration": 4,
    "start_time": "2023-04-12T17:58:13.025Z"
   },
   {
    "duration": 6,
    "start_time": "2023-04-12T18:00:04.606Z"
   },
   {
    "duration": 1104,
    "start_time": "2023-04-13T13:08:10.079Z"
   },
   {
    "duration": 501,
    "start_time": "2023-04-13T13:08:11.185Z"
   },
   {
    "duration": 16,
    "start_time": "2023-04-13T13:08:11.688Z"
   },
   {
    "duration": 200,
    "start_time": "2023-04-13T13:08:11.706Z"
   },
   {
    "duration": 13,
    "start_time": "2023-04-13T13:08:11.909Z"
   },
   {
    "duration": 208,
    "start_time": "2023-04-13T13:08:11.924Z"
   },
   {
    "duration": 13,
    "start_time": "2023-04-13T13:08:12.133Z"
   },
   {
    "duration": 119,
    "start_time": "2023-04-13T13:08:12.148Z"
   },
   {
    "duration": 5,
    "start_time": "2023-04-13T13:08:12.269Z"
   },
   {
    "duration": 10,
    "start_time": "2023-04-13T13:08:12.288Z"
   },
   {
    "duration": 8,
    "start_time": "2023-04-13T13:08:12.300Z"
   },
   {
    "duration": 20,
    "start_time": "2023-04-13T13:08:12.310Z"
   },
   {
    "duration": 5,
    "start_time": "2023-04-13T13:08:12.331Z"
   },
   {
    "duration": 22,
    "start_time": "2023-04-13T13:08:12.337Z"
   },
   {
    "duration": 38,
    "start_time": "2023-04-13T13:08:12.361Z"
   },
   {
    "duration": 8,
    "start_time": "2023-04-13T13:10:19.753Z"
   },
   {
    "duration": 7,
    "start_time": "2023-04-13T13:10:33.390Z"
   },
   {
    "duration": 21,
    "start_time": "2023-04-13T13:10:43.463Z"
   },
   {
    "duration": 19,
    "start_time": "2023-04-13T13:10:53.629Z"
   },
   {
    "duration": 5,
    "start_time": "2023-04-13T13:11:08.310Z"
   },
   {
    "duration": 4,
    "start_time": "2023-04-13T13:11:36.628Z"
   },
   {
    "duration": 4,
    "start_time": "2023-04-13T13:11:54.463Z"
   },
   {
    "duration": 130,
    "start_time": "2023-04-13T13:27:52.011Z"
   },
   {
    "duration": 5,
    "start_time": "2023-04-13T13:28:23.152Z"
   },
   {
    "duration": 9,
    "start_time": "2023-04-13T13:28:23.708Z"
   },
   {
    "duration": 4,
    "start_time": "2023-04-13T13:28:24.171Z"
   },
   {
    "duration": 14,
    "start_time": "2023-04-13T13:28:25.528Z"
   },
   {
    "duration": 14,
    "start_time": "2023-04-13T13:31:04.808Z"
   },
   {
    "duration": 8,
    "start_time": "2023-04-13T13:33:29.363Z"
   },
   {
    "duration": 3,
    "start_time": "2023-04-13T13:33:34.635Z"
   },
   {
    "duration": 9,
    "start_time": "2023-04-13T13:33:37.737Z"
   },
   {
    "duration": 102,
    "start_time": "2023-04-13T13:33:43.689Z"
   },
   {
    "duration": 14,
    "start_time": "2023-04-13T13:36:24.572Z"
   },
   {
    "duration": 5,
    "start_time": "2023-04-13T13:36:29.917Z"
   },
   {
    "duration": 4,
    "start_time": "2023-04-13T13:36:43.343Z"
   },
   {
    "duration": 3,
    "start_time": "2023-04-13T13:40:17.204Z"
   },
   {
    "duration": 16,
    "start_time": "2023-04-13T13:40:34.236Z"
   },
   {
    "duration": 32,
    "start_time": "2023-04-13T13:42:22.237Z"
   },
   {
    "duration": 5,
    "start_time": "2023-04-13T13:42:40.744Z"
   },
   {
    "duration": 35,
    "start_time": "2023-04-13T13:42:42.800Z"
   },
   {
    "duration": 7,
    "start_time": "2023-04-13T13:42:52.044Z"
   },
   {
    "duration": 12,
    "start_time": "2023-04-13T13:42:52.324Z"
   },
   {
    "duration": 5,
    "start_time": "2023-04-13T13:42:53.096Z"
   },
   {
    "duration": 83,
    "start_time": "2023-04-13T13:42:53.807Z"
   },
   {
    "duration": 5,
    "start_time": "2023-04-13T13:43:03.269Z"
   },
   {
    "duration": 11,
    "start_time": "2023-04-13T13:43:03.542Z"
   },
   {
    "duration": 5,
    "start_time": "2023-04-13T13:43:03.813Z"
   },
   {
    "duration": 15,
    "start_time": "2023-04-13T13:43:26.624Z"
   },
   {
    "duration": 20,
    "start_time": "2023-04-13T13:48:12.503Z"
   },
   {
    "duration": 14,
    "start_time": "2023-04-13T13:48:17.058Z"
   },
   {
    "duration": 12,
    "start_time": "2023-04-13T13:48:32.678Z"
   },
   {
    "duration": 16,
    "start_time": "2023-04-13T13:48:48.984Z"
   },
   {
    "duration": 1062,
    "start_time": "2023-04-13T18:48:27.548Z"
   },
   {
    "duration": 408,
    "start_time": "2023-04-13T18:48:28.612Z"
   },
   {
    "duration": 15,
    "start_time": "2023-04-13T18:48:29.022Z"
   },
   {
    "duration": 764,
    "start_time": "2023-04-13T18:48:29.039Z"
   },
   {
    "duration": 18,
    "start_time": "2023-04-13T18:48:29.805Z"
   },
   {
    "duration": 621,
    "start_time": "2023-04-13T18:48:29.825Z"
   },
   {
    "duration": 21,
    "start_time": "2023-04-13T18:48:30.448Z"
   },
   {
    "duration": 245,
    "start_time": "2023-04-13T18:48:30.471Z"
   },
   {
    "duration": 5,
    "start_time": "2023-04-13T18:48:30.718Z"
   },
   {
    "duration": 138,
    "start_time": "2023-04-13T18:48:30.727Z"
   },
   {
    "duration": 97,
    "start_time": "2023-04-13T18:48:30.867Z"
   },
   {
    "duration": 58,
    "start_time": "2023-04-13T18:48:30.966Z"
   },
   {
    "duration": 177,
    "start_time": "2023-04-13T18:48:31.026Z"
   },
   {
    "duration": 142,
    "start_time": "2023-04-13T18:48:31.205Z"
   },
   {
    "duration": 21,
    "start_time": "2023-04-13T18:48:31.349Z"
   },
   {
    "duration": 142,
    "start_time": "2023-04-13T18:48:31.371Z"
   },
   {
    "duration": 114,
    "start_time": "2023-04-13T18:48:31.590Z"
   },
   {
    "duration": 34,
    "start_time": "2023-04-13T18:48:31.706Z"
   },
   {
    "duration": 43,
    "start_time": "2023-04-13T18:48:31.742Z"
   },
   {
    "duration": 60,
    "start_time": "2023-04-13T18:48:31.788Z"
   },
   {
    "duration": 165,
    "start_time": "2023-04-13T18:48:31.851Z"
   },
   {
    "duration": 20,
    "start_time": "2023-04-13T18:52:21.146Z"
   },
   {
    "duration": 18,
    "start_time": "2023-04-13T18:53:00.311Z"
   },
   {
    "duration": 26,
    "start_time": "2023-04-13T18:53:02.171Z"
   },
   {
    "duration": 17,
    "start_time": "2023-04-13T19:01:18.309Z"
   },
   {
    "duration": 16,
    "start_time": "2023-04-13T19:01:39.916Z"
   },
   {
    "duration": 296,
    "start_time": "2023-04-13T19:02:00.577Z"
   },
   {
    "duration": 24,
    "start_time": "2023-04-13T19:02:07.114Z"
   },
   {
    "duration": 28,
    "start_time": "2023-04-13T19:02:10.020Z"
   },
   {
    "duration": 16,
    "start_time": "2023-04-13T19:02:15.580Z"
   },
   {
    "duration": 18,
    "start_time": "2023-04-13T19:04:11.294Z"
   },
   {
    "duration": 16,
    "start_time": "2023-04-13T19:04:27.896Z"
   },
   {
    "duration": 16,
    "start_time": "2023-04-13T19:04:36.336Z"
   },
   {
    "duration": 1252,
    "start_time": "2023-04-14T15:25:23.178Z"
   },
   {
    "duration": 406,
    "start_time": "2023-04-14T15:25:24.432Z"
   },
   {
    "duration": 14,
    "start_time": "2023-04-14T15:25:24.840Z"
   },
   {
    "duration": 644,
    "start_time": "2023-04-14T15:25:24.856Z"
   },
   {
    "duration": 14,
    "start_time": "2023-04-14T15:25:25.502Z"
   },
   {
    "duration": 569,
    "start_time": "2023-04-14T15:25:25.518Z"
   },
   {
    "duration": 14,
    "start_time": "2023-04-14T15:25:26.089Z"
   },
   {
    "duration": 138,
    "start_time": "2023-04-14T15:25:26.104Z"
   },
   {
    "duration": 5,
    "start_time": "2023-04-14T15:25:26.244Z"
   },
   {
    "duration": 37,
    "start_time": "2023-04-14T15:25:26.252Z"
   },
   {
    "duration": 11,
    "start_time": "2023-04-14T15:25:26.291Z"
   },
   {
    "duration": 30,
    "start_time": "2023-04-14T15:25:26.304Z"
   },
   {
    "duration": 96,
    "start_time": "2023-04-14T15:25:26.391Z"
   },
   {
    "duration": 19,
    "start_time": "2023-04-14T15:25:26.489Z"
   },
   {
    "duration": 5,
    "start_time": "2023-04-14T15:25:26.510Z"
   },
   {
    "duration": 26,
    "start_time": "2023-04-14T15:25:26.517Z"
   },
   {
    "duration": 45,
    "start_time": "2023-04-14T15:25:26.545Z"
   },
   {
    "duration": 122,
    "start_time": "2023-04-14T15:25:26.592Z"
   },
   {
    "duration": 5,
    "start_time": "2023-04-14T15:25:26.716Z"
   },
   {
    "duration": 71,
    "start_time": "2023-04-14T15:25:26.723Z"
   },
   {
    "duration": 10,
    "start_time": "2023-04-14T15:25:26.796Z"
   },
   {
    "duration": 4,
    "start_time": "2023-04-14T15:25:40.983Z"
   },
   {
    "duration": 5,
    "start_time": "2023-04-14T15:25:45.514Z"
   },
   {
    "duration": 6,
    "start_time": "2023-04-14T15:25:54.458Z"
   },
   {
    "duration": 5,
    "start_time": "2023-04-14T15:25:58.243Z"
   },
   {
    "duration": 3,
    "start_time": "2023-04-14T15:35:57.739Z"
   },
   {
    "duration": 6,
    "start_time": "2023-04-14T15:36:40.699Z"
   },
   {
    "duration": 6,
    "start_time": "2023-04-14T15:45:25.919Z"
   },
   {
    "duration": 4,
    "start_time": "2023-04-14T15:46:52.839Z"
   },
   {
    "duration": 130,
    "start_time": "2023-04-14T15:47:10.291Z"
   },
   {
    "duration": 4,
    "start_time": "2023-04-14T15:47:24.410Z"
   },
   {
    "duration": 4,
    "start_time": "2023-04-14T15:47:35.033Z"
   },
   {
    "duration": 3,
    "start_time": "2023-04-14T15:49:22.918Z"
   },
   {
    "duration": 4,
    "start_time": "2023-04-14T15:49:29.582Z"
   },
   {
    "duration": 3,
    "start_time": "2023-04-14T15:53:22.433Z"
   },
   {
    "duration": 5,
    "start_time": "2023-04-14T15:54:21.639Z"
   },
   {
    "duration": 3,
    "start_time": "2023-04-14T15:54:22.039Z"
   },
   {
    "duration": 3,
    "start_time": "2023-04-14T15:54:23.038Z"
   },
   {
    "duration": 3,
    "start_time": "2023-04-14T15:54:45.154Z"
   },
   {
    "duration": 4,
    "start_time": "2023-04-14T15:54:59.364Z"
   },
   {
    "duration": 4,
    "start_time": "2023-04-14T15:55:03.057Z"
   },
   {
    "duration": 4,
    "start_time": "2023-04-14T15:55:13.938Z"
   },
   {
    "duration": 4,
    "start_time": "2023-04-14T15:58:18.035Z"
   },
   {
    "duration": 4,
    "start_time": "2023-04-14T15:58:58.636Z"
   },
   {
    "duration": 5,
    "start_time": "2023-04-14T15:59:36.260Z"
   },
   {
    "duration": 5,
    "start_time": "2023-04-14T16:00:01.397Z"
   },
   {
    "duration": 4,
    "start_time": "2023-04-14T16:00:25.975Z"
   },
   {
    "duration": 5,
    "start_time": "2023-04-14T16:02:01.836Z"
   },
   {
    "duration": 5,
    "start_time": "2023-04-14T16:12:21.744Z"
   },
   {
    "duration": 3,
    "start_time": "2023-04-14T16:14:59.063Z"
   },
   {
    "duration": 9,
    "start_time": "2023-04-14T16:15:07.673Z"
   },
   {
    "duration": 4,
    "start_time": "2023-04-14T16:15:15.333Z"
   },
   {
    "duration": 1152,
    "start_time": "2023-04-17T17:00:15.210Z"
   },
   {
    "duration": 874,
    "start_time": "2023-04-17T17:00:16.364Z"
   },
   {
    "duration": 17,
    "start_time": "2023-04-17T17:00:17.239Z"
   },
   {
    "duration": 1070,
    "start_time": "2023-04-17T17:00:17.258Z"
   },
   {
    "duration": 18,
    "start_time": "2023-04-17T17:00:18.331Z"
   },
   {
    "duration": 626,
    "start_time": "2023-04-17T17:00:18.351Z"
   },
   {
    "duration": 24,
    "start_time": "2023-04-17T17:00:18.979Z"
   },
   {
    "duration": 166,
    "start_time": "2023-04-17T17:00:19.006Z"
   },
   {
    "duration": 5,
    "start_time": "2023-04-17T17:00:19.174Z"
   },
   {
    "duration": 32,
    "start_time": "2023-04-17T17:00:19.182Z"
   },
   {
    "duration": 7,
    "start_time": "2023-04-17T17:00:19.215Z"
   },
   {
    "duration": 181,
    "start_time": "2023-04-17T17:00:19.224Z"
   },
   {
    "duration": 6,
    "start_time": "2023-04-17T17:00:19.407Z"
   },
   {
    "duration": 15,
    "start_time": "2023-04-17T17:00:19.415Z"
   },
   {
    "duration": 5,
    "start_time": "2023-04-17T17:00:19.432Z"
   },
   {
    "duration": 62,
    "start_time": "2023-04-17T17:00:19.439Z"
   },
   {
    "duration": 10,
    "start_time": "2023-04-17T17:00:19.503Z"
   },
   {
    "duration": 101,
    "start_time": "2023-04-17T17:00:19.515Z"
   },
   {
    "duration": 5,
    "start_time": "2023-04-17T17:00:19.618Z"
   },
   {
    "duration": 24,
    "start_time": "2023-04-17T17:00:19.625Z"
   },
   {
    "duration": 45,
    "start_time": "2023-04-17T17:00:19.652Z"
   },
   {
    "duration": 12,
    "start_time": "2023-04-17T17:00:19.699Z"
   },
   {
    "duration": 79,
    "start_time": "2023-04-17T17:00:19.716Z"
   },
   {
    "duration": 11,
    "start_time": "2023-04-17T17:00:19.798Z"
   },
   {
    "duration": 7,
    "start_time": "2023-04-17T17:00:19.811Z"
   },
   {
    "duration": 1087,
    "start_time": "2023-04-17T17:17:54.310Z"
   },
   {
    "duration": 159,
    "start_time": "2023-04-17T17:17:55.399Z"
   },
   {
    "duration": 16,
    "start_time": "2023-04-17T17:17:55.559Z"
   },
   {
    "duration": 132,
    "start_time": "2023-04-17T17:17:55.576Z"
   },
   {
    "duration": 16,
    "start_time": "2023-04-17T17:17:55.711Z"
   },
   {
    "duration": 138,
    "start_time": "2023-04-17T17:17:55.729Z"
   },
   {
    "duration": 25,
    "start_time": "2023-04-17T17:17:55.869Z"
   },
   {
    "duration": 143,
    "start_time": "2023-04-17T17:17:55.896Z"
   },
   {
    "duration": 5,
    "start_time": "2023-04-17T17:17:56.041Z"
   },
   {
    "duration": 21,
    "start_time": "2023-04-17T17:17:56.048Z"
   },
   {
    "duration": 5,
    "start_time": "2023-04-17T17:17:56.071Z"
   },
   {
    "duration": 18,
    "start_time": "2023-04-17T17:17:56.092Z"
   },
   {
    "duration": 82,
    "start_time": "2023-04-17T17:17:56.112Z"
   },
   {
    "duration": 101,
    "start_time": "2023-04-17T17:17:56.198Z"
   },
   {
    "duration": 9,
    "start_time": "2023-04-17T17:17:56.301Z"
   },
   {
    "duration": 29,
    "start_time": "2023-04-17T17:17:56.312Z"
   },
   {
    "duration": 7,
    "start_time": "2023-04-17T17:17:56.393Z"
   },
   {
    "duration": 114,
    "start_time": "2023-04-17T17:17:56.402Z"
   },
   {
    "duration": 5,
    "start_time": "2023-04-17T17:17:56.518Z"
   },
   {
    "duration": 21,
    "start_time": "2023-04-17T17:17:56.524Z"
   },
   {
    "duration": 50,
    "start_time": "2023-04-17T17:17:56.547Z"
   },
   {
    "duration": 93,
    "start_time": "2023-04-17T17:17:56.600Z"
   },
   {
    "duration": 20,
    "start_time": "2023-04-17T17:17:56.695Z"
   },
   {
    "duration": 19,
    "start_time": "2023-04-17T17:17:56.717Z"
   },
   {
    "duration": 8,
    "start_time": "2023-04-17T17:17:56.737Z"
   },
   {
    "duration": 26,
    "start_time": "2023-04-17T17:17:56.746Z"
   },
   {
    "duration": 17,
    "start_time": "2023-04-17T17:18:23.254Z"
   },
   {
    "duration": 13,
    "start_time": "2023-04-17T17:19:22.668Z"
   },
   {
    "duration": 1142,
    "start_time": "2023-04-17T17:19:31.075Z"
   },
   {
    "duration": 173,
    "start_time": "2023-04-17T17:19:32.219Z"
   },
   {
    "duration": 23,
    "start_time": "2023-04-17T17:19:32.393Z"
   },
   {
    "duration": 152,
    "start_time": "2023-04-17T17:19:32.418Z"
   },
   {
    "duration": 22,
    "start_time": "2023-04-17T17:19:32.572Z"
   },
   {
    "duration": 156,
    "start_time": "2023-04-17T17:19:32.597Z"
   },
   {
    "duration": 14,
    "start_time": "2023-04-17T17:19:32.755Z"
   },
   {
    "duration": 170,
    "start_time": "2023-04-17T17:19:32.770Z"
   },
   {
    "duration": 5,
    "start_time": "2023-04-17T17:19:32.942Z"
   },
   {
    "duration": 14,
    "start_time": "2023-04-17T17:19:32.949Z"
   },
   {
    "duration": 30,
    "start_time": "2023-04-17T17:19:32.964Z"
   },
   {
    "duration": 194,
    "start_time": "2023-04-17T17:19:33.000Z"
   },
   {
    "duration": 8,
    "start_time": "2023-04-17T17:19:33.197Z"
   },
   {
    "duration": 36,
    "start_time": "2023-04-17T17:19:33.206Z"
   },
   {
    "duration": 5,
    "start_time": "2023-04-17T17:19:33.246Z"
   },
   {
    "duration": 43,
    "start_time": "2023-04-17T17:19:33.252Z"
   },
   {
    "duration": 15,
    "start_time": "2023-04-17T17:19:33.298Z"
   },
   {
    "duration": 104,
    "start_time": "2023-04-17T17:19:33.315Z"
   },
   {
    "duration": 5,
    "start_time": "2023-04-17T17:19:33.422Z"
   },
   {
    "duration": 90,
    "start_time": "2023-04-17T17:19:33.429Z"
   },
   {
    "duration": 71,
    "start_time": "2023-04-17T17:19:33.521Z"
   },
   {
    "duration": 17,
    "start_time": "2023-04-17T17:19:33.597Z"
   },
   {
    "duration": 5,
    "start_time": "2023-04-17T17:19:33.695Z"
   },
   {
    "duration": 6,
    "start_time": "2023-04-17T17:19:33.702Z"
   },
   {
    "duration": 6,
    "start_time": "2023-04-17T17:19:33.711Z"
   },
   {
    "duration": 18,
    "start_time": "2023-04-17T17:19:33.719Z"
   },
   {
    "duration": 6,
    "start_time": "2023-04-17T17:25:46.270Z"
   },
   {
    "duration": 15,
    "start_time": "2023-04-17T17:26:06.110Z"
   },
   {
    "duration": 4,
    "start_time": "2023-04-17T17:27:06.930Z"
   },
   {
    "duration": 16,
    "start_time": "2023-04-17T17:27:09.620Z"
   },
   {
    "duration": 5,
    "start_time": "2023-04-17T17:27:50.413Z"
   },
   {
    "duration": 5,
    "start_time": "2023-04-17T17:27:50.909Z"
   },
   {
    "duration": 3,
    "start_time": "2023-04-17T17:27:58.240Z"
   },
   {
    "duration": 4,
    "start_time": "2023-04-17T17:28:03.945Z"
   },
   {
    "duration": 14,
    "start_time": "2023-04-17T17:28:05.713Z"
   },
   {
    "duration": 20,
    "start_time": "2023-04-17T17:28:07.129Z"
   },
   {
    "duration": 172,
    "start_time": "2023-04-17T17:30:25.172Z"
   },
   {
    "duration": 4,
    "start_time": "2023-04-17T17:31:17.416Z"
   },
   {
    "duration": 4,
    "start_time": "2023-04-17T17:31:48.237Z"
   },
   {
    "duration": 42,
    "start_time": "2023-04-17T17:39:27.935Z"
   },
   {
    "duration": 4,
    "start_time": "2023-04-17T17:40:08.353Z"
   },
   {
    "duration": 4,
    "start_time": "2023-04-17T17:41:24.933Z"
   },
   {
    "duration": 3,
    "start_time": "2023-04-17T17:41:39.131Z"
   },
   {
    "duration": 4,
    "start_time": "2023-04-17T17:41:49.847Z"
   },
   {
    "duration": 4,
    "start_time": "2023-04-17T17:42:15.886Z"
   },
   {
    "duration": 5,
    "start_time": "2023-04-17T17:42:20.760Z"
   },
   {
    "duration": 5,
    "start_time": "2023-04-17T17:42:26.258Z"
   },
   {
    "duration": 4,
    "start_time": "2023-04-17T17:42:31.287Z"
   },
   {
    "duration": 18,
    "start_time": "2023-04-17T17:44:54.696Z"
   },
   {
    "duration": 28,
    "start_time": "2023-04-17T17:45:27.699Z"
   },
   {
    "duration": 22,
    "start_time": "2023-04-17T17:45:37.388Z"
   },
   {
    "duration": 4,
    "start_time": "2023-04-17T17:45:56.417Z"
   },
   {
    "duration": 18,
    "start_time": "2023-04-17T17:52:19.049Z"
   },
   {
    "duration": 27,
    "start_time": "2023-04-17T17:52:35.219Z"
   },
   {
    "duration": 4,
    "start_time": "2023-04-17T17:52:56.345Z"
   },
   {
    "duration": 4,
    "start_time": "2023-04-17T17:57:46.508Z"
   },
   {
    "duration": 4,
    "start_time": "2023-04-17T17:57:59.414Z"
   },
   {
    "duration": 4,
    "start_time": "2023-04-17T17:58:38.134Z"
   },
   {
    "duration": 1218,
    "start_time": "2023-04-17T17:58:43.658Z"
   },
   {
    "duration": 174,
    "start_time": "2023-04-17T17:58:44.879Z"
   },
   {
    "duration": 15,
    "start_time": "2023-04-17T17:58:45.055Z"
   },
   {
    "duration": 159,
    "start_time": "2023-04-17T17:58:45.073Z"
   },
   {
    "duration": 18,
    "start_time": "2023-04-17T17:58:45.234Z"
   },
   {
    "duration": 162,
    "start_time": "2023-04-17T17:58:45.254Z"
   },
   {
    "duration": 20,
    "start_time": "2023-04-17T17:58:45.419Z"
   },
   {
    "duration": 171,
    "start_time": "2023-04-17T17:58:45.441Z"
   },
   {
    "duration": 5,
    "start_time": "2023-04-17T17:58:45.618Z"
   },
   {
    "duration": 14,
    "start_time": "2023-04-17T17:58:45.626Z"
   },
   {
    "duration": 6,
    "start_time": "2023-04-17T17:58:45.643Z"
   },
   {
    "duration": 60,
    "start_time": "2023-04-17T17:58:45.651Z"
   },
   {
    "duration": 8,
    "start_time": "2023-04-17T17:58:45.713Z"
   },
   {
    "duration": 28,
    "start_time": "2023-04-17T17:58:45.796Z"
   },
   {
    "duration": 6,
    "start_time": "2023-04-17T17:58:45.826Z"
   },
   {
    "duration": 93,
    "start_time": "2023-04-17T17:58:45.834Z"
   },
   {
    "duration": 67,
    "start_time": "2023-04-17T17:58:45.932Z"
   },
   {
    "duration": 97,
    "start_time": "2023-04-17T17:58:46.002Z"
   },
   {
    "duration": 8,
    "start_time": "2023-04-17T17:58:46.104Z"
   },
   {
    "duration": 104,
    "start_time": "2023-04-17T17:58:46.117Z"
   },
   {
    "duration": 10,
    "start_time": "2023-04-17T17:58:46.294Z"
   },
   {
    "duration": 11,
    "start_time": "2023-04-17T17:58:46.309Z"
   },
   {
    "duration": 21,
    "start_time": "2023-04-17T17:58:46.323Z"
   },
   {
    "duration": 14,
    "start_time": "2023-04-17T17:58:46.346Z"
   },
   {
    "duration": 42,
    "start_time": "2023-04-17T17:58:46.362Z"
   },
   {
    "duration": 19,
    "start_time": "2023-04-17T17:58:46.412Z"
   },
   {
    "duration": 4,
    "start_time": "2023-04-17T17:58:46.433Z"
   },
   {
    "duration": 18,
    "start_time": "2023-04-17T17:58:46.442Z"
   },
   {
    "duration": 5,
    "start_time": "2023-04-17T17:58:46.462Z"
   },
   {
    "duration": 20,
    "start_time": "2023-04-17T17:58:46.494Z"
   },
   {
    "duration": 18,
    "start_time": "2023-04-17T17:58:46.516Z"
   },
   {
    "duration": 1503,
    "start_time": "2023-04-18T13:33:08.916Z"
   },
   {
    "duration": 952,
    "start_time": "2023-04-18T13:33:10.424Z"
   },
   {
    "duration": 29,
    "start_time": "2023-04-18T13:33:11.378Z"
   },
   {
    "duration": 366,
    "start_time": "2023-04-18T13:33:11.410Z"
   },
   {
    "duration": 24,
    "start_time": "2023-04-18T13:33:11.778Z"
   },
   {
    "duration": 369,
    "start_time": "2023-04-18T13:33:11.804Z"
   },
   {
    "duration": 21,
    "start_time": "2023-04-18T13:33:12.175Z"
   },
   {
    "duration": 208,
    "start_time": "2023-04-18T13:33:12.199Z"
   },
   {
    "duration": 6,
    "start_time": "2023-04-18T13:33:12.410Z"
   },
   {
    "duration": 33,
    "start_time": "2023-04-18T13:33:12.426Z"
   },
   {
    "duration": 6,
    "start_time": "2023-04-18T13:33:12.462Z"
   },
   {
    "duration": 92,
    "start_time": "2023-04-18T13:33:12.470Z"
   },
   {
    "duration": 44,
    "start_time": "2023-04-18T13:33:12.564Z"
   },
   {
    "duration": 122,
    "start_time": "2023-04-18T13:33:12.619Z"
   },
   {
    "duration": 6,
    "start_time": "2023-04-18T13:33:12.744Z"
   },
   {
    "duration": 63,
    "start_time": "2023-04-18T13:33:12.752Z"
   },
   {
    "duration": 20,
    "start_time": "2023-04-18T13:33:12.818Z"
   },
   {
    "duration": 104,
    "start_time": "2023-04-18T13:33:12.845Z"
   },
   {
    "duration": 43,
    "start_time": "2023-04-18T13:33:12.951Z"
   },
   {
    "duration": 42,
    "start_time": "2023-04-18T13:33:12.997Z"
   },
   {
    "duration": 178,
    "start_time": "2023-04-18T13:33:13.044Z"
   },
   {
    "duration": 26,
    "start_time": "2023-04-18T13:33:13.224Z"
   },
   {
    "duration": 13,
    "start_time": "2023-04-18T13:33:13.252Z"
   },
   {
    "duration": 13,
    "start_time": "2023-04-18T13:33:13.267Z"
   },
   {
    "duration": 71,
    "start_time": "2023-04-18T13:33:13.283Z"
   },
   {
    "duration": 18,
    "start_time": "2023-04-18T13:33:13.356Z"
   },
   {
    "duration": 5,
    "start_time": "2023-04-18T13:33:13.376Z"
   },
   {
    "duration": 51,
    "start_time": "2023-04-18T13:33:13.383Z"
   },
   {
    "duration": 17,
    "start_time": "2023-04-18T13:33:13.437Z"
   },
   {
    "duration": 27,
    "start_time": "2023-04-18T13:33:13.456Z"
   },
   {
    "duration": 45,
    "start_time": "2023-04-18T13:33:13.486Z"
   },
   {
    "duration": 161,
    "start_time": "2023-04-18T13:34:34.955Z"
   },
   {
    "duration": 5,
    "start_time": "2023-04-18T13:34:40.954Z"
   },
   {
    "duration": 13,
    "start_time": "2023-04-18T13:34:55.185Z"
   },
   {
    "duration": 5,
    "start_time": "2023-04-18T13:35:00.703Z"
   },
   {
    "duration": 6,
    "start_time": "2023-04-18T13:35:06.714Z"
   },
   {
    "duration": 3,
    "start_time": "2023-04-18T13:36:21.234Z"
   },
   {
    "duration": 11,
    "start_time": "2023-04-18T13:36:21.807Z"
   },
   {
    "duration": 10,
    "start_time": "2023-04-18T13:37:44.556Z"
   },
   {
    "duration": 7,
    "start_time": "2023-04-18T13:39:46.517Z"
   },
   {
    "duration": 5,
    "start_time": "2023-04-18T13:39:52.416Z"
   },
   {
    "duration": 3,
    "start_time": "2023-04-18T13:40:07.034Z"
   },
   {
    "duration": 11,
    "start_time": "2023-04-18T13:40:07.807Z"
   },
   {
    "duration": 15,
    "start_time": "2023-04-18T13:40:34.307Z"
   },
   {
    "duration": 5,
    "start_time": "2023-04-18T13:40:38.415Z"
   },
   {
    "duration": 4,
    "start_time": "2023-04-18T13:40:39.035Z"
   },
   {
    "duration": 4,
    "start_time": "2023-04-18T13:41:19.716Z"
   },
   {
    "duration": 20,
    "start_time": "2023-04-18T13:41:20.307Z"
   },
   {
    "duration": 1414,
    "start_time": "2023-04-18T13:41:32.403Z"
   },
   {
    "duration": 187,
    "start_time": "2023-04-18T13:41:33.819Z"
   },
   {
    "duration": 28,
    "start_time": "2023-04-18T13:41:34.008Z"
   },
   {
    "duration": 169,
    "start_time": "2023-04-18T13:41:34.038Z"
   },
   {
    "duration": 22,
    "start_time": "2023-04-18T13:41:34.209Z"
   },
   {
    "duration": 153,
    "start_time": "2023-04-18T13:41:34.234Z"
   },
   {
    "duration": 27,
    "start_time": "2023-04-18T13:41:34.389Z"
   },
   {
    "duration": 166,
    "start_time": "2023-04-18T13:41:34.418Z"
   },
   {
    "duration": 11,
    "start_time": "2023-04-18T13:41:34.587Z"
   },
   {
    "duration": 34,
    "start_time": "2023-04-18T13:41:34.602Z"
   },
   {
    "duration": 9,
    "start_time": "2023-04-18T13:41:34.638Z"
   },
   {
    "duration": 57,
    "start_time": "2023-04-18T13:41:34.649Z"
   },
   {
    "duration": 99,
    "start_time": "2023-04-18T13:41:34.708Z"
   },
   {
    "duration": 33,
    "start_time": "2023-04-18T13:41:34.815Z"
   },
   {
    "duration": 6,
    "start_time": "2023-04-18T13:41:34.850Z"
   },
   {
    "duration": 59,
    "start_time": "2023-04-18T13:41:34.858Z"
   },
   {
    "duration": 26,
    "start_time": "2023-04-18T13:41:34.991Z"
   },
   {
    "duration": 25,
    "start_time": "2023-04-18T13:41:35.020Z"
   },
   {
    "duration": 4,
    "start_time": "2023-04-18T13:41:35.047Z"
   },
   {
    "duration": 38,
    "start_time": "2023-04-18T13:41:35.053Z"
   },
   {
    "duration": 8,
    "start_time": "2023-04-18T13:41:35.093Z"
   },
   {
    "duration": 123,
    "start_time": "2023-04-18T13:41:35.107Z"
   },
   {
    "duration": 12,
    "start_time": "2023-04-18T13:41:35.231Z"
   },
   {
    "duration": 13,
    "start_time": "2023-04-18T13:41:35.245Z"
   },
   {
    "duration": 7,
    "start_time": "2023-04-18T13:41:35.260Z"
   },
   {
    "duration": 26,
    "start_time": "2023-04-18T13:41:35.269Z"
   },
   {
    "duration": 34,
    "start_time": "2023-04-18T13:41:35.298Z"
   },
   {
    "duration": 45,
    "start_time": "2023-04-18T13:41:35.336Z"
   },
   {
    "duration": 3,
    "start_time": "2023-04-18T13:41:35.383Z"
   },
   {
    "duration": 49,
    "start_time": "2023-04-18T13:41:35.389Z"
   },
   {
    "duration": 4,
    "start_time": "2023-04-18T13:41:35.440Z"
   },
   {
    "duration": 18,
    "start_time": "2023-04-18T13:41:35.446Z"
   },
   {
    "duration": 28,
    "start_time": "2023-04-18T13:41:35.466Z"
   },
   {
    "duration": 1408,
    "start_time": "2023-04-18T13:42:14.123Z"
   },
   {
    "duration": 194,
    "start_time": "2023-04-18T13:42:15.533Z"
   },
   {
    "duration": 17,
    "start_time": "2023-04-18T13:42:15.729Z"
   },
   {
    "duration": 176,
    "start_time": "2023-04-18T13:42:15.749Z"
   },
   {
    "duration": 16,
    "start_time": "2023-04-18T13:42:15.927Z"
   },
   {
    "duration": 170,
    "start_time": "2023-04-18T13:42:15.945Z"
   },
   {
    "duration": 18,
    "start_time": "2023-04-18T13:42:16.116Z"
   },
   {
    "duration": 185,
    "start_time": "2023-04-18T13:42:16.136Z"
   },
   {
    "duration": 6,
    "start_time": "2023-04-18T13:42:16.323Z"
   },
   {
    "duration": 12,
    "start_time": "2023-04-18T13:42:16.332Z"
   },
   {
    "duration": 6,
    "start_time": "2023-04-18T13:42:16.346Z"
   },
   {
    "duration": 51,
    "start_time": "2023-04-18T13:42:16.353Z"
   },
   {
    "duration": 7,
    "start_time": "2023-04-18T13:42:16.407Z"
   },
   {
    "duration": 134,
    "start_time": "2023-04-18T13:42:16.416Z"
   },
   {
    "duration": 8,
    "start_time": "2023-04-18T13:42:16.552Z"
   },
   {
    "duration": 57,
    "start_time": "2023-04-18T13:42:16.562Z"
   },
   {
    "duration": 204,
    "start_time": "2023-04-18T13:42:16.621Z"
   },
   {
    "duration": 39,
    "start_time": "2023-04-18T13:42:16.827Z"
   },
   {
    "duration": 7,
    "start_time": "2023-04-18T13:42:16.867Z"
   },
   {
    "duration": 79,
    "start_time": "2023-04-18T13:42:16.876Z"
   },
   {
    "duration": 39,
    "start_time": "2023-04-18T13:42:16.958Z"
   },
   {
    "duration": 131,
    "start_time": "2023-04-18T13:42:16.999Z"
   },
   {
    "duration": 4,
    "start_time": "2023-04-18T13:42:17.133Z"
   },
   {
    "duration": 6,
    "start_time": "2023-04-18T13:42:17.139Z"
   },
   {
    "duration": 7,
    "start_time": "2023-04-18T13:42:17.147Z"
   },
   {
    "duration": 24,
    "start_time": "2023-04-18T13:42:17.156Z"
   },
   {
    "duration": 3,
    "start_time": "2023-04-18T13:42:17.182Z"
   },
   {
    "duration": 48,
    "start_time": "2023-04-18T13:42:17.192Z"
   },
   {
    "duration": 3,
    "start_time": "2023-04-18T13:42:17.242Z"
   },
   {
    "duration": 19,
    "start_time": "2023-04-18T13:42:17.247Z"
   },
   {
    "duration": 4,
    "start_time": "2023-04-18T13:42:17.268Z"
   },
   {
    "duration": 46,
    "start_time": "2023-04-18T13:42:17.274Z"
   },
   {
    "duration": 132,
    "start_time": "2023-04-18T13:42:17.322Z"
   },
   {
    "duration": 0,
    "start_time": "2023-04-18T13:42:17.456Z"
   },
   {
    "duration": 4,
    "start_time": "2023-04-18T13:43:04.234Z"
   },
   {
    "duration": 5,
    "start_time": "2023-04-18T13:43:05.054Z"
   },
   {
    "duration": 4,
    "start_time": "2023-04-18T13:47:28.742Z"
   },
   {
    "duration": 13,
    "start_time": "2023-04-18T13:47:29.190Z"
   },
   {
    "duration": 8,
    "start_time": "2023-04-18T13:50:44.735Z"
   },
   {
    "duration": 7,
    "start_time": "2023-04-18T13:50:50.138Z"
   },
   {
    "duration": 9,
    "start_time": "2023-04-18T13:53:10.236Z"
   },
   {
    "duration": 1465,
    "start_time": "2023-04-18T13:53:29.094Z"
   },
   {
    "duration": 232,
    "start_time": "2023-04-18T13:53:30.561Z"
   },
   {
    "duration": 24,
    "start_time": "2023-04-18T13:53:30.795Z"
   },
   {
    "duration": 244,
    "start_time": "2023-04-18T13:53:30.830Z"
   },
   {
    "duration": 27,
    "start_time": "2023-04-18T13:53:31.076Z"
   },
   {
    "duration": 307,
    "start_time": "2023-04-18T13:53:31.104Z"
   },
   {
    "duration": 29,
    "start_time": "2023-04-18T13:53:31.416Z"
   },
   {
    "duration": 221,
    "start_time": "2023-04-18T13:53:31.447Z"
   },
   {
    "duration": 5,
    "start_time": "2023-04-18T13:53:31.670Z"
   },
   {
    "duration": 72,
    "start_time": "2023-04-18T13:53:31.677Z"
   },
   {
    "duration": 14,
    "start_time": "2023-04-18T13:53:31.751Z"
   },
   {
    "duration": 84,
    "start_time": "2023-04-18T13:53:31.767Z"
   },
   {
    "duration": 108,
    "start_time": "2023-04-18T13:53:31.890Z"
   },
   {
    "duration": 51,
    "start_time": "2023-04-18T13:53:32.010Z"
   },
   {
    "duration": 4,
    "start_time": "2023-04-18T13:53:32.063Z"
   },
   {
    "duration": 36,
    "start_time": "2023-04-18T13:53:32.069Z"
   },
   {
    "duration": 27,
    "start_time": "2023-04-18T13:53:32.106Z"
   },
   {
    "duration": 66,
    "start_time": "2023-04-18T13:53:32.198Z"
   },
   {
    "duration": 5,
    "start_time": "2023-04-18T13:53:32.266Z"
   },
   {
    "duration": 48,
    "start_time": "2023-04-18T13:53:32.272Z"
   },
   {
    "duration": 5,
    "start_time": "2023-04-18T13:53:32.321Z"
   },
   {
    "duration": 108,
    "start_time": "2023-04-18T13:53:32.328Z"
   },
   {
    "duration": 12,
    "start_time": "2023-04-18T13:53:32.441Z"
   },
   {
    "duration": 11,
    "start_time": "2023-04-18T13:53:32.454Z"
   },
   {
    "duration": 14,
    "start_time": "2023-04-18T13:53:32.466Z"
   },
   {
    "duration": 63,
    "start_time": "2023-04-18T13:53:32.481Z"
   },
   {
    "duration": 8,
    "start_time": "2023-04-18T13:53:32.546Z"
   },
   {
    "duration": 23,
    "start_time": "2023-04-18T13:53:32.556Z"
   },
   {
    "duration": 3,
    "start_time": "2023-04-18T13:53:32.581Z"
   },
   {
    "duration": 67,
    "start_time": "2023-04-18T13:53:32.585Z"
   },
   {
    "duration": 4,
    "start_time": "2023-04-18T13:53:32.653Z"
   },
   {
    "duration": 9,
    "start_time": "2023-04-18T13:53:32.659Z"
   },
   {
    "duration": 2,
    "start_time": "2023-04-18T13:53:32.670Z"
   },
   {
    "duration": 13,
    "start_time": "2023-04-18T13:53:41.006Z"
   },
   {
    "duration": 4,
    "start_time": "2023-04-18T14:00:21.254Z"
   },
   {
    "duration": 130,
    "start_time": "2023-04-18T14:00:49.654Z"
   },
   {
    "duration": 4,
    "start_time": "2023-04-18T14:01:00.554Z"
   },
   {
    "duration": 26,
    "start_time": "2023-04-18T14:01:00.807Z"
   },
   {
    "duration": 4,
    "start_time": "2023-04-18T14:01:07.154Z"
   },
   {
    "duration": 9,
    "start_time": "2023-04-18T14:01:07.514Z"
   },
   {
    "duration": 4,
    "start_time": "2023-04-18T14:01:22.245Z"
   },
   {
    "duration": 8,
    "start_time": "2023-04-18T14:01:22.652Z"
   },
   {
    "duration": 4,
    "start_time": "2023-04-18T14:01:34.715Z"
   },
   {
    "duration": 8,
    "start_time": "2023-04-18T14:01:35.035Z"
   },
   {
    "duration": 4,
    "start_time": "2023-04-18T14:02:53.121Z"
   },
   {
    "duration": 21,
    "start_time": "2023-04-18T14:02:53.127Z"
   },
   {
    "duration": 10,
    "start_time": "2023-04-18T14:03:12.083Z"
   },
   {
    "duration": 10,
    "start_time": "2023-04-18T14:03:12.411Z"
   },
   {
    "duration": 7,
    "start_time": "2023-04-18T14:04:03.483Z"
   },
   {
    "duration": 11,
    "start_time": "2023-04-18T14:04:04.410Z"
   },
   {
    "duration": 5,
    "start_time": "2023-04-18T14:04:12.539Z"
   },
   {
    "duration": 8,
    "start_time": "2023-04-18T14:04:12.851Z"
   },
   {
    "duration": 11,
    "start_time": "2023-04-18T14:05:02.215Z"
   },
   {
    "duration": 7,
    "start_time": "2023-04-18T14:05:02.543Z"
   },
   {
    "duration": 1618,
    "start_time": "2023-04-18T18:10:38.340Z"
   },
   {
    "duration": 815,
    "start_time": "2023-04-18T18:10:39.960Z"
   },
   {
    "duration": 59,
    "start_time": "2023-04-18T18:10:40.778Z"
   },
   {
    "duration": 422,
    "start_time": "2023-04-18T18:10:40.840Z"
   },
   {
    "duration": 31,
    "start_time": "2023-04-18T18:10:41.264Z"
   },
   {
    "duration": 422,
    "start_time": "2023-04-18T18:10:41.297Z"
   },
   {
    "duration": 31,
    "start_time": "2023-04-18T18:10:41.726Z"
   },
   {
    "duration": 240,
    "start_time": "2023-04-18T18:10:41.764Z"
   },
   {
    "duration": 12,
    "start_time": "2023-04-18T18:10:42.007Z"
   },
   {
    "duration": 30,
    "start_time": "2023-04-18T18:10:42.030Z"
   },
   {
    "duration": 8,
    "start_time": "2023-04-18T18:10:42.063Z"
   },
   {
    "duration": 159,
    "start_time": "2023-04-18T18:10:42.074Z"
   },
   {
    "duration": 84,
    "start_time": "2023-04-18T18:10:42.243Z"
   },
   {
    "duration": 45,
    "start_time": "2023-04-18T18:10:42.330Z"
   },
   {
    "duration": 13,
    "start_time": "2023-04-18T18:10:42.377Z"
   },
   {
    "duration": 92,
    "start_time": "2023-04-18T18:10:42.396Z"
   },
   {
    "duration": 25,
    "start_time": "2023-04-18T18:10:42.494Z"
   },
   {
    "duration": 130,
    "start_time": "2023-04-18T18:10:42.526Z"
   },
   {
    "duration": 17,
    "start_time": "2023-04-18T18:10:42.659Z"
   },
   {
    "duration": 48,
    "start_time": "2023-04-18T18:10:42.679Z"
   },
   {
    "duration": 83,
    "start_time": "2023-04-18T18:10:42.730Z"
   },
   {
    "duration": 24,
    "start_time": "2023-04-18T18:10:42.834Z"
   },
   {
    "duration": 91,
    "start_time": "2023-04-18T18:10:42.868Z"
   },
   {
    "duration": 18,
    "start_time": "2023-04-18T18:10:42.966Z"
   },
   {
    "duration": 61,
    "start_time": "2023-04-18T18:10:42.987Z"
   },
   {
    "duration": 29,
    "start_time": "2023-04-18T18:10:43.053Z"
   },
   {
    "duration": 14,
    "start_time": "2023-04-18T18:10:43.084Z"
   },
   {
    "duration": 52,
    "start_time": "2023-04-18T18:10:43.105Z"
   },
   {
    "duration": 5,
    "start_time": "2023-04-18T18:10:43.159Z"
   },
   {
    "duration": 30,
    "start_time": "2023-04-18T18:10:43.167Z"
   },
   {
    "duration": 6,
    "start_time": "2023-04-18T18:10:43.199Z"
   },
   {
    "duration": 36,
    "start_time": "2023-04-18T18:10:43.206Z"
   },
   {
    "duration": 17,
    "start_time": "2023-04-18T18:10:43.245Z"
   },
   {
    "duration": 9,
    "start_time": "2023-04-18T18:10:43.265Z"
   },
   {
    "duration": 28,
    "start_time": "2023-04-18T18:10:43.276Z"
   },
   {
    "duration": 13,
    "start_time": "2023-04-18T18:18:37.216Z"
   },
   {
    "duration": 6,
    "start_time": "2023-04-18T18:19:01.732Z"
   },
   {
    "duration": 8,
    "start_time": "2023-04-18T18:21:31.244Z"
   },
   {
    "duration": 163,
    "start_time": "2023-04-18T18:21:32.182Z"
   },
   {
    "duration": 5,
    "start_time": "2023-04-18T18:23:01.676Z"
   },
   {
    "duration": 10,
    "start_time": "2023-04-18T18:23:02.324Z"
   },
   {
    "duration": 21,
    "start_time": "2023-04-18T18:23:03.010Z"
   },
   {
    "duration": 17,
    "start_time": "2023-04-18T18:23:41.220Z"
   },
   {
    "duration": 1661,
    "start_time": "2023-04-18T18:23:41.933Z"
   },
   {
    "duration": 6,
    "start_time": "2023-04-18T18:25:12.747Z"
   },
   {
    "duration": 1602,
    "start_time": "2023-04-18T18:25:13.415Z"
   },
   {
    "duration": 5,
    "start_time": "2023-04-18T18:27:33.811Z"
   },
   {
    "duration": 6,
    "start_time": "2023-04-18T18:27:34.122Z"
   },
   {
    "duration": 1544,
    "start_time": "2023-04-18T18:27:34.515Z"
   },
   {
    "duration": 1604,
    "start_time": "2023-04-18T18:27:41.618Z"
   },
   {
    "duration": 6,
    "start_time": "2023-04-18T18:29:39.936Z"
   },
   {
    "duration": 19,
    "start_time": "2023-04-18T18:29:40.620Z"
   },
   {
    "duration": 5,
    "start_time": "2023-04-18T18:29:48.534Z"
   },
   {
    "duration": 9,
    "start_time": "2023-04-18T18:29:48.933Z"
   },
   {
    "duration": 23,
    "start_time": "2023-04-18T18:29:49.427Z"
   },
   {
    "duration": 4,
    "start_time": "2023-04-18T18:30:24.115Z"
   },
   {
    "duration": 14,
    "start_time": "2023-04-18T18:30:24.483Z"
   },
   {
    "duration": 13,
    "start_time": "2023-04-18T18:30:24.919Z"
   },
   {
    "duration": 4,
    "start_time": "2023-04-18T18:30:32.315Z"
   },
   {
    "duration": 8,
    "start_time": "2023-04-18T18:30:32.621Z"
   },
   {
    "duration": 816,
    "start_time": "2023-04-18T18:30:32.916Z"
   },
   {
    "duration": 4,
    "start_time": "2023-04-18T18:31:53.875Z"
   },
   {
    "duration": 7,
    "start_time": "2023-04-18T18:31:54.217Z"
   },
   {
    "duration": 1627,
    "start_time": "2023-04-18T18:31:54.442Z"
   },
   {
    "duration": 4,
    "start_time": "2023-04-18T18:32:32.461Z"
   },
   {
    "duration": 7,
    "start_time": "2023-04-18T18:32:32.715Z"
   },
   {
    "duration": 1562,
    "start_time": "2023-04-18T18:32:32.921Z"
   },
   {
    "duration": 6,
    "start_time": "2023-04-18T18:32:58.775Z"
   },
   {
    "duration": 1568,
    "start_time": "2023-04-18T18:32:59.039Z"
   },
   {
    "duration": 15,
    "start_time": "2023-04-18T18:35:14.083Z"
   },
   {
    "duration": 1012,
    "start_time": "2023-04-18T18:35:14.479Z"
   },
   {
    "duration": 5,
    "start_time": "2023-04-18T18:35:21.747Z"
   },
   {
    "duration": 1578,
    "start_time": "2023-04-18T18:35:23.024Z"
   },
   {
    "duration": 6,
    "start_time": "2023-04-18T18:35:50.650Z"
   },
   {
    "duration": 888,
    "start_time": "2023-04-18T18:35:51.034Z"
   },
   {
    "duration": 7,
    "start_time": "2023-04-18T18:35:57.316Z"
   },
   {
    "duration": 1554,
    "start_time": "2023-04-18T18:35:57.609Z"
   },
   {
    "duration": 5,
    "start_time": "2023-04-18T18:37:44.153Z"
   },
   {
    "duration": 6,
    "start_time": "2023-04-18T18:37:44.615Z"
   },
   {
    "duration": 1549,
    "start_time": "2023-04-18T18:37:45.016Z"
   },
   {
    "duration": 7,
    "start_time": "2023-04-18T18:43:56.820Z"
   },
   {
    "duration": 11,
    "start_time": "2023-04-18T18:43:57.220Z"
   },
   {
    "duration": 1791,
    "start_time": "2023-04-18T18:43:57.541Z"
   },
   {
    "duration": 1785,
    "start_time": "2023-04-18T18:46:04.825Z"
   },
   {
    "duration": 1698,
    "start_time": "2023-04-18T18:46:06.613Z"
   },
   {
    "duration": 6,
    "start_time": "2023-04-18T18:47:25.441Z"
   },
   {
    "duration": 1615,
    "start_time": "2023-04-18T18:47:25.719Z"
   },
   {
    "duration": 1609,
    "start_time": "2023-04-18T18:47:27.336Z"
   },
   {
    "duration": 1612,
    "start_time": "2023-04-18T18:47:28.948Z"
   },
   {
    "duration": 16,
    "start_time": "2023-04-18T18:49:15.215Z"
   },
   {
    "duration": 12,
    "start_time": "2023-04-18T18:50:48.816Z"
   },
   {
    "duration": 12,
    "start_time": "2023-04-18T18:51:29.509Z"
   },
   {
    "duration": 91,
    "start_time": "2023-04-18T19:09:28.034Z"
   },
   {
    "duration": 19,
    "start_time": "2023-04-18T19:09:34.732Z"
   },
   {
    "duration": 29,
    "start_time": "2023-04-18T19:09:53.016Z"
   },
   {
    "duration": 92,
    "start_time": "2023-04-18T19:10:02.020Z"
   },
   {
    "duration": 71,
    "start_time": "2023-04-18T19:10:05.774Z"
   },
   {
    "duration": 5,
    "start_time": "2023-04-18T19:14:03.046Z"
   },
   {
    "duration": 5,
    "start_time": "2023-04-18T19:14:08.124Z"
   },
   {
    "duration": 29,
    "start_time": "2023-04-18T19:14:12.518Z"
   },
   {
    "duration": 19,
    "start_time": "2023-04-18T19:14:22.439Z"
   },
   {
    "duration": 15,
    "start_time": "2023-04-18T19:14:24.623Z"
   },
   {
    "duration": 5,
    "start_time": "2023-04-18T19:14:28.448Z"
   },
   {
    "duration": 5,
    "start_time": "2023-04-18T19:14:30.838Z"
   },
   {
    "duration": 16,
    "start_time": "2023-04-18T19:14:32.416Z"
   },
   {
    "duration": 4,
    "start_time": "2023-04-18T19:17:09.032Z"
   },
   {
    "duration": 5,
    "start_time": "2023-04-18T19:17:09.957Z"
   },
   {
    "duration": 15,
    "start_time": "2023-04-18T19:17:11.471Z"
   },
   {
    "duration": 4,
    "start_time": "2023-04-18T19:17:11.863Z"
   },
   {
    "duration": 19,
    "start_time": "2023-04-18T19:17:12.629Z"
   },
   {
    "duration": 6,
    "start_time": "2023-04-18T19:17:12.947Z"
   },
   {
    "duration": 19,
    "start_time": "2023-04-18T19:17:13.565Z"
   },
   {
    "duration": 12,
    "start_time": "2023-04-18T19:17:14.322Z"
   },
   {
    "duration": 1302,
    "start_time": "2023-04-18T19:31:15.426Z"
   },
   {
    "duration": 217,
    "start_time": "2023-04-18T19:31:16.732Z"
   },
   {
    "duration": 36,
    "start_time": "2023-04-18T19:31:16.952Z"
   },
   {
    "duration": 173,
    "start_time": "2023-04-18T19:31:16.993Z"
   },
   {
    "duration": 27,
    "start_time": "2023-04-18T19:31:17.168Z"
   },
   {
    "duration": 169,
    "start_time": "2023-04-18T19:31:17.197Z"
   },
   {
    "duration": 28,
    "start_time": "2023-04-18T19:31:17.368Z"
   },
   {
    "duration": 170,
    "start_time": "2023-04-18T19:31:17.399Z"
   },
   {
    "duration": 4,
    "start_time": "2023-04-18T19:31:17.571Z"
   },
   {
    "duration": 122,
    "start_time": "2023-04-18T19:31:17.577Z"
   },
   {
    "duration": 13,
    "start_time": "2023-04-18T19:31:17.714Z"
   },
   {
    "duration": 65,
    "start_time": "2023-04-18T19:31:17.730Z"
   },
   {
    "duration": 11,
    "start_time": "2023-04-18T19:31:17.798Z"
   },
   {
    "duration": 124,
    "start_time": "2023-04-18T19:31:17.819Z"
   },
   {
    "duration": 5,
    "start_time": "2023-04-18T19:31:17.945Z"
   },
   {
    "duration": 31,
    "start_time": "2023-04-18T19:31:17.952Z"
   },
   {
    "duration": 19,
    "start_time": "2023-04-18T19:31:17.989Z"
   },
   {
    "duration": 139,
    "start_time": "2023-04-18T19:31:18.012Z"
   },
   {
    "duration": 7,
    "start_time": "2023-04-18T19:31:18.154Z"
   },
   {
    "duration": 52,
    "start_time": "2023-04-18T19:31:18.164Z"
   },
   {
    "duration": 102,
    "start_time": "2023-04-18T19:31:18.219Z"
   },
   {
    "duration": 67,
    "start_time": "2023-04-18T19:31:18.328Z"
   },
   {
    "duration": 8,
    "start_time": "2023-04-18T19:31:18.401Z"
   },
   {
    "duration": 29,
    "start_time": "2023-04-18T19:31:18.411Z"
   },
   {
    "duration": 11,
    "start_time": "2023-04-18T19:31:18.443Z"
   },
   {
    "duration": 23,
    "start_time": "2023-04-18T19:31:18.456Z"
   },
   {
    "duration": 4,
    "start_time": "2023-04-18T19:31:18.481Z"
   },
   {
    "duration": 52,
    "start_time": "2023-04-18T19:31:18.493Z"
   },
   {
    "duration": 7,
    "start_time": "2023-04-18T19:31:18.547Z"
   },
   {
    "duration": 15,
    "start_time": "2023-04-18T19:31:18.557Z"
   },
   {
    "duration": 3,
    "start_time": "2023-04-18T19:31:18.574Z"
   },
   {
    "duration": 6,
    "start_time": "2023-04-18T19:31:18.579Z"
   },
   {
    "duration": 41,
    "start_time": "2023-04-18T19:31:18.589Z"
   },
   {
    "duration": 12,
    "start_time": "2023-04-18T19:31:18.632Z"
   },
   {
    "duration": 11,
    "start_time": "2023-04-18T19:31:18.645Z"
   },
   {
    "duration": 6,
    "start_time": "2023-04-18T19:31:18.658Z"
   },
   {
    "duration": 6,
    "start_time": "2023-04-18T19:31:18.666Z"
   },
   {
    "duration": 1647,
    "start_time": "2023-04-18T19:31:18.673Z"
   },
   {
    "duration": 1676,
    "start_time": "2023-04-18T19:31:20.325Z"
   },
   {
    "duration": 1579,
    "start_time": "2023-04-18T19:31:22.002Z"
   },
   {
    "duration": 13,
    "start_time": "2023-04-18T19:31:23.587Z"
   },
   {
    "duration": 5,
    "start_time": "2023-04-18T19:34:26.124Z"
   },
   {
    "duration": 6,
    "start_time": "2023-04-18T19:37:33.557Z"
   },
   {
    "duration": 1362,
    "start_time": "2023-04-18T19:38:09.239Z"
   },
   {
    "duration": 282,
    "start_time": "2023-04-18T19:38:10.603Z"
   },
   {
    "duration": 28,
    "start_time": "2023-04-18T19:38:10.897Z"
   },
   {
    "duration": 200,
    "start_time": "2023-04-18T19:38:10.928Z"
   },
   {
    "duration": 25,
    "start_time": "2023-04-18T19:38:11.131Z"
   },
   {
    "duration": 198,
    "start_time": "2023-04-18T19:38:11.159Z"
   },
   {
    "duration": 16,
    "start_time": "2023-04-18T19:38:11.359Z"
   },
   {
    "duration": 185,
    "start_time": "2023-04-18T19:38:11.386Z"
   },
   {
    "duration": 4,
    "start_time": "2023-04-18T19:38:11.573Z"
   },
   {
    "duration": 55,
    "start_time": "2023-04-18T19:38:11.579Z"
   },
   {
    "duration": 8,
    "start_time": "2023-04-18T19:38:11.636Z"
   },
   {
    "duration": 79,
    "start_time": "2023-04-18T19:38:11.646Z"
   },
   {
    "duration": 76,
    "start_time": "2023-04-18T19:38:11.727Z"
   },
   {
    "duration": 57,
    "start_time": "2023-04-18T19:38:11.816Z"
   },
   {
    "duration": 10,
    "start_time": "2023-04-18T19:38:11.876Z"
   },
   {
    "duration": 115,
    "start_time": "2023-04-18T19:38:11.888Z"
   },
   {
    "duration": 111,
    "start_time": "2023-04-18T19:38:12.007Z"
   },
   {
    "duration": 31,
    "start_time": "2023-04-18T19:38:12.126Z"
   },
   {
    "duration": 12,
    "start_time": "2023-04-18T19:38:12.159Z"
   },
   {
    "duration": 70,
    "start_time": "2023-04-18T19:38:12.173Z"
   },
   {
    "duration": 151,
    "start_time": "2023-04-18T19:38:12.246Z"
   },
   {
    "duration": 59,
    "start_time": "2023-04-18T19:38:12.402Z"
   },
   {
    "duration": 18,
    "start_time": "2023-04-18T19:38:12.463Z"
   },
   {
    "duration": 56,
    "start_time": "2023-04-18T19:38:12.484Z"
   },
   {
    "duration": 24,
    "start_time": "2023-04-18T19:38:12.542Z"
   },
   {
    "duration": 27,
    "start_time": "2023-04-18T19:38:12.568Z"
   },
   {
    "duration": 9,
    "start_time": "2023-04-18T19:38:12.600Z"
   },
   {
    "duration": 43,
    "start_time": "2023-04-18T19:38:12.610Z"
   },
   {
    "duration": 5,
    "start_time": "2023-04-18T19:38:12.656Z"
   },
   {
    "duration": 16,
    "start_time": "2023-04-18T19:38:12.663Z"
   },
   {
    "duration": 5,
    "start_time": "2023-04-18T19:38:12.681Z"
   },
   {
    "duration": 44,
    "start_time": "2023-04-18T19:38:12.695Z"
   },
   {
    "duration": 13,
    "start_time": "2023-04-18T19:38:12.741Z"
   },
   {
    "duration": 17,
    "start_time": "2023-04-18T19:38:12.757Z"
   },
   {
    "duration": 20,
    "start_time": "2023-04-18T19:38:12.776Z"
   },
   {
    "duration": 53,
    "start_time": "2023-04-18T19:38:12.802Z"
   },
   {
    "duration": 9,
    "start_time": "2023-04-18T19:38:12.859Z"
   },
   {
    "duration": 1713,
    "start_time": "2023-04-18T19:38:12.870Z"
   },
   {
    "duration": 1925,
    "start_time": "2023-04-18T19:38:14.592Z"
   },
   {
    "duration": 2041,
    "start_time": "2023-04-18T19:38:16.524Z"
   },
   {
    "duration": 38,
    "start_time": "2023-04-18T19:38:18.571Z"
   },
   {
    "duration": 3421,
    "start_time": "2023-04-18T19:53:15.909Z"
   },
   {
    "duration": 659,
    "start_time": "2023-04-18T19:53:19.385Z"
   },
   {
    "duration": 16,
    "start_time": "2023-04-18T19:53:20.045Z"
   },
   {
    "duration": 618,
    "start_time": "2023-04-18T19:53:20.063Z"
   },
   {
    "duration": 14,
    "start_time": "2023-04-18T19:53:20.683Z"
   },
   {
    "duration": 522,
    "start_time": "2023-04-18T19:53:20.699Z"
   },
   {
    "duration": 14,
    "start_time": "2023-04-18T19:53:21.223Z"
   },
   {
    "duration": 146,
    "start_time": "2023-04-18T19:53:21.239Z"
   },
   {
    "duration": 5,
    "start_time": "2023-04-18T19:53:21.387Z"
   },
   {
    "duration": 33,
    "start_time": "2023-04-18T19:53:21.396Z"
   },
   {
    "duration": 24,
    "start_time": "2023-04-18T19:53:21.431Z"
   },
   {
    "duration": 56,
    "start_time": "2023-04-18T19:53:21.457Z"
   },
   {
    "duration": 80,
    "start_time": "2023-04-18T19:53:21.515Z"
   },
   {
    "duration": 16,
    "start_time": "2023-04-18T19:53:21.686Z"
   },
   {
    "duration": 5,
    "start_time": "2023-04-18T19:53:21.704Z"
   },
   {
    "duration": 20,
    "start_time": "2023-04-18T19:53:21.710Z"
   },
   {
    "duration": 62,
    "start_time": "2023-04-18T19:53:21.732Z"
   },
   {
    "duration": 13,
    "start_time": "2023-04-18T19:53:21.886Z"
   },
   {
    "duration": 4,
    "start_time": "2023-04-18T19:53:21.901Z"
   },
   {
    "duration": 18,
    "start_time": "2023-04-18T19:53:21.906Z"
   },
   {
    "duration": 64,
    "start_time": "2023-04-18T19:53:21.927Z"
   },
   {
    "duration": 104,
    "start_time": "2023-04-18T19:53:21.994Z"
   },
   {
    "duration": 3,
    "start_time": "2023-04-18T19:53:22.100Z"
   },
   {
    "duration": 4,
    "start_time": "2023-04-18T19:53:22.105Z"
   },
   {
    "duration": 13,
    "start_time": "2023-04-18T19:53:22.111Z"
   },
   {
    "duration": 14,
    "start_time": "2023-04-18T19:53:22.126Z"
   },
   {
    "duration": 3,
    "start_time": "2023-04-18T19:53:22.141Z"
   },
   {
    "duration": 15,
    "start_time": "2023-04-18T19:53:22.147Z"
   },
   {
    "duration": 4,
    "start_time": "2023-04-18T19:53:22.184Z"
   },
   {
    "duration": 17,
    "start_time": "2023-04-18T19:53:22.190Z"
   },
   {
    "duration": 11,
    "start_time": "2023-04-18T19:53:22.208Z"
   },
   {
    "duration": 7,
    "start_time": "2023-04-18T19:53:22.220Z"
   },
   {
    "duration": 9,
    "start_time": "2023-04-18T19:53:22.228Z"
   },
   {
    "duration": 6,
    "start_time": "2023-04-18T19:53:22.238Z"
   },
   {
    "duration": 6,
    "start_time": "2023-04-18T19:53:22.246Z"
   },
   {
    "duration": 32,
    "start_time": "2023-04-18T19:53:22.254Z"
   },
   {
    "duration": 7,
    "start_time": "2023-04-18T19:53:22.287Z"
   },
   {
    "duration": 1343,
    "start_time": "2023-04-18T19:53:22.295Z"
   },
   {
    "duration": 1278,
    "start_time": "2023-04-18T19:53:23.639Z"
   },
   {
    "duration": 1307,
    "start_time": "2023-04-18T19:53:24.919Z"
   },
   {
    "duration": 10,
    "start_time": "2023-04-18T19:53:26.227Z"
   }
  ],
  "kernelspec": {
   "display_name": "Python 3 (ipykernel)",
   "language": "python",
   "name": "python3"
  },
  "language_info": {
   "codemirror_mode": {
    "name": "ipython",
    "version": 3
   },
   "file_extension": ".py",
   "mimetype": "text/x-python",
   "name": "python",
   "nbconvert_exporter": "python",
   "pygments_lexer": "ipython3",
   "version": "3.9.5"
  },
  "toc": {
   "base_numbering": 1,
   "nav_menu": {},
   "number_sections": true,
   "sideBar": true,
   "skip_h1_title": true,
   "title_cell": "Table of Contents",
   "title_sidebar": "Contents",
   "toc_cell": false,
   "toc_position": {},
   "toc_section_display": true,
   "toc_window_display": false
  }
 },
 "nbformat": 4,
 "nbformat_minor": 2
}
