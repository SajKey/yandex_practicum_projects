{
 "cells": [
  {
   "attachments": {},
   "cell_type": "markdown",
   "metadata": {
    "toc": true
   },
   "source": [
    "<h1>Содержание<span class=\"tocSkip\"></span></h1>\n",
    "<div class=\"toc\"><ul class=\"toc-item\"><li><span><a href=\"#Подготовка\" data-toc-modified-id=\"Подготовка-1\"><span class=\"toc-item-num\">1&nbsp;&nbsp;</span>Подготовка</a></span></li><li><span><a href=\"#Обучение\" data-toc-modified-id=\"Обучение-2\"><span class=\"toc-item-num\">2&nbsp;&nbsp;</span>Обучение</a></span></li><li><span><a href=\"#Выводы\" data-toc-modified-id=\"Выводы-3\"><span class=\"toc-item-num\">3&nbsp;&nbsp;</span>Выводы</a></span></li><li><span><a href=\"#Чек-лист-проверки\" data-toc-modified-id=\"Чек-лист-проверки-4\"><span class=\"toc-item-num\">4&nbsp;&nbsp;</span>Чек-лист проверки</a></span></li></ul></div>"
   ]
  },
  {
   "attachments": {},
   "cell_type": "markdown",
   "metadata": {},
   "source": [
    "# Классификация комментариев"
   ]
  },
  {
   "attachments": {},
   "cell_type": "markdown",
   "metadata": {},
   "source": [
    "**Задача:**\n",
    "\n",
    "Необходимо ускорить модерацию токсичных комментариев для интернет-магазина. Обучить модель машинного обучения для классификации таких комментариев.\n",
    "\n",
    "**Данные:**\n",
    "\n",
    " В распоряжении набор данных с разметкой о токсичности правок."
   ]
  },
  {
   "attachments": {},
   "cell_type": "markdown",
   "metadata": {},
   "source": [
    "## Подготовка"
   ]
  },
  {
   "cell_type": "code",
   "execution_count": 1,
   "metadata": {},
   "outputs": [],
   "source": [
    "import pandas as pd\n",
    "import numpy as np\n",
    "\n",
    "import re\n",
    "\n",
    "from pandarallel import pandarallel   \n",
    "from tqdm import tqdm\n",
    "import spacy\n",
    "\n",
    "from sklearn.pipeline import Pipeline\n",
    "from sklearn.feature_extraction.text import TfidfVectorizer\n",
    "from sklearn.model_selection import train_test_split, cross_val_score, GridSearchCV\n",
    "from sklearn.metrics import f1_score\n",
    "from sklearn.utils import shuffle\n",
    "\n",
    "from sklearn.linear_model import LogisticRegression\n",
    "from sklearn.ensemble import RandomForestClassifier\n",
    "\n",
    "from catboost import CatBoostClassifier\n",
    "\n",
    "import warnings\n",
    "warnings.filterwarnings('ignore')"
   ]
  },
  {
   "attachments": {},
   "cell_type": "markdown",
   "metadata": {},
   "source": [
    "Загрузим данные и просмотрим на них."
   ]
  },
  {
   "cell_type": "code",
   "execution_count": 2,
   "metadata": {},
   "outputs": [],
   "source": [
    "try:\n",
    "    df_comments = pd.read_csv('toxic_comments.csv')\n",
    "except:\n",
    "    df_comments = pd.read_csv('/datasets/toxic_comments.csv')"
   ]
  },
  {
   "cell_type": "code",
   "execution_count": 3,
   "metadata": {
    "scrolled": false
   },
   "outputs": [
    {
     "data": {
      "text/html": [
       "<div>\n",
       "<style scoped>\n",
       "    .dataframe tbody tr th:only-of-type {\n",
       "        vertical-align: middle;\n",
       "    }\n",
       "\n",
       "    .dataframe tbody tr th {\n",
       "        vertical-align: top;\n",
       "    }\n",
       "\n",
       "    .dataframe thead th {\n",
       "        text-align: right;\n",
       "    }\n",
       "</style>\n",
       "<table border=\"1\" class=\"dataframe\">\n",
       "  <thead>\n",
       "    <tr style=\"text-align: right;\">\n",
       "      <th></th>\n",
       "      <th>Unnamed: 0</th>\n",
       "      <th>text</th>\n",
       "      <th>toxic</th>\n",
       "    </tr>\n",
       "  </thead>\n",
       "  <tbody>\n",
       "    <tr>\n",
       "      <th>0</th>\n",
       "      <td>0</td>\n",
       "      <td>Explanation\\nWhy the edits made under my usern...</td>\n",
       "      <td>0</td>\n",
       "    </tr>\n",
       "    <tr>\n",
       "      <th>1</th>\n",
       "      <td>1</td>\n",
       "      <td>D'aww! He matches this background colour I'm s...</td>\n",
       "      <td>0</td>\n",
       "    </tr>\n",
       "    <tr>\n",
       "      <th>2</th>\n",
       "      <td>2</td>\n",
       "      <td>Hey man, I'm really not trying to edit war. It...</td>\n",
       "      <td>0</td>\n",
       "    </tr>\n",
       "    <tr>\n",
       "      <th>3</th>\n",
       "      <td>3</td>\n",
       "      <td>\"\\nMore\\nI can't make any real suggestions on ...</td>\n",
       "      <td>0</td>\n",
       "    </tr>\n",
       "    <tr>\n",
       "      <th>4</th>\n",
       "      <td>4</td>\n",
       "      <td>You, sir, are my hero. Any chance you remember...</td>\n",
       "      <td>0</td>\n",
       "    </tr>\n",
       "  </tbody>\n",
       "</table>\n",
       "</div>"
      ],
      "text/plain": [
       "   Unnamed: 0                                               text  toxic\n",
       "0           0  Explanation\\nWhy the edits made under my usern...      0\n",
       "1           1  D'aww! He matches this background colour I'm s...      0\n",
       "2           2  Hey man, I'm really not trying to edit war. It...      0\n",
       "3           3  \"\\nMore\\nI can't make any real suggestions on ...      0\n",
       "4           4  You, sir, are my hero. Any chance you remember...      0"
      ]
     },
     "metadata": {},
     "output_type": "display_data"
    },
    {
     "name": "stdout",
     "output_type": "stream",
     "text": [
      "--------------------------------------------------\n",
      "<class 'pandas.core.frame.DataFrame'>\n",
      "RangeIndex: 159292 entries, 0 to 159291\n",
      "Data columns (total 3 columns):\n",
      " #   Column      Non-Null Count   Dtype \n",
      "---  ------      --------------   ----- \n",
      " 0   Unnamed: 0  159292 non-null  int64 \n",
      " 1   text        159292 non-null  object\n",
      " 2   toxic       159292 non-null  int64 \n",
      "dtypes: int64(2), object(1)\n",
      "memory usage: 3.6+ MB\n",
      "--------------------------------------------------\n",
      "Полных дубликатов: 0\n",
      "--------------------------------------------------\n",
      "Пропусков:\n"
     ]
    },
    {
     "data": {
      "text/plain": [
       "Unnamed: 0    0\n",
       "text          0\n",
       "toxic         0\n",
       "dtype: int64"
      ]
     },
     "metadata": {},
     "output_type": "display_data"
    },
    {
     "name": "stdout",
     "output_type": "stream",
     "text": [
      "--------------------------------------------------\n",
      "Соотношение в целевом признаке:\n"
     ]
    },
    {
     "data": {
      "text/plain": [
       "0    0.898388\n",
       "1    0.101612\n",
       "Name: toxic, dtype: float64"
      ]
     },
     "metadata": {},
     "output_type": "display_data"
    }
   ],
   "source": [
    "display(df_comments.head(5))\n",
    "print('-'*50)\n",
    "df_comments.info()\n",
    "print('-'*50)\n",
    "print('Полных дубликатов:', df_comments.duplicated().sum())\n",
    "print('-'*50)\n",
    "print('Пропусков:')\n",
    "display(df_comments.isna().sum())\n",
    "print('-'*50)\n",
    "print('Соотношение в целевом признаке:')\n",
    "display(df_comments.toxic.value_counts(normalize=True))"
   ]
  },
  {
   "attachments": {},
   "cell_type": "markdown",
   "metadata": {},
   "source": [
    "Данные чистые, за исключением столбца `Unnamed: 0`. Столбец полностью повторяет индексы таблицы. Уберем этот столбец."
   ]
  },
  {
   "cell_type": "code",
   "execution_count": 4,
   "metadata": {},
   "outputs": [],
   "source": [
    "df_comments = df_comments.drop('Unnamed: 0', axis=1)"
   ]
  },
  {
   "attachments": {},
   "cell_type": "markdown",
   "metadata": {},
   "source": [
    "Создадим функцию для очистки текста от лишних символов."
   ]
  },
  {
   "cell_type": "code",
   "execution_count": 5,
   "metadata": {},
   "outputs": [],
   "source": [
    "def clear_text(text):\n",
    "    text = text.lower()\n",
    "    text = re.sub(r'[^a-zA-Z]', ' ', text)   \n",
    "    text = ' '.join(text.split())\n",
    "    return text"
   ]
  },
  {
   "cell_type": "code",
   "execution_count": 6,
   "metadata": {},
   "outputs": [],
   "source": [
    "df_comments['text'] = df_comments['text'].apply(clear_text) "
   ]
  },
  {
   "cell_type": "code",
   "execution_count": 7,
   "metadata": {},
   "outputs": [
    {
     "data": {
      "text/html": [
       "<div>\n",
       "<style scoped>\n",
       "    .dataframe tbody tr th:only-of-type {\n",
       "        vertical-align: middle;\n",
       "    }\n",
       "\n",
       "    .dataframe tbody tr th {\n",
       "        vertical-align: top;\n",
       "    }\n",
       "\n",
       "    .dataframe thead th {\n",
       "        text-align: right;\n",
       "    }\n",
       "</style>\n",
       "<table border=\"1\" class=\"dataframe\">\n",
       "  <thead>\n",
       "    <tr style=\"text-align: right;\">\n",
       "      <th></th>\n",
       "      <th>text</th>\n",
       "      <th>toxic</th>\n",
       "    </tr>\n",
       "  </thead>\n",
       "  <tbody>\n",
       "    <tr>\n",
       "      <th>0</th>\n",
       "      <td>explanation why the edits made under my userna...</td>\n",
       "      <td>0</td>\n",
       "    </tr>\n",
       "    <tr>\n",
       "      <th>1</th>\n",
       "      <td>d aww he matches this background colour i m se...</td>\n",
       "      <td>0</td>\n",
       "    </tr>\n",
       "    <tr>\n",
       "      <th>2</th>\n",
       "      <td>hey man i m really not trying to edit war it s...</td>\n",
       "      <td>0</td>\n",
       "    </tr>\n",
       "    <tr>\n",
       "      <th>3</th>\n",
       "      <td>more i can t make any real suggestions on impr...</td>\n",
       "      <td>0</td>\n",
       "    </tr>\n",
       "    <tr>\n",
       "      <th>4</th>\n",
       "      <td>you sir are my hero any chance you remember wh...</td>\n",
       "      <td>0</td>\n",
       "    </tr>\n",
       "  </tbody>\n",
       "</table>\n",
       "</div>"
      ],
      "text/plain": [
       "                                                text  toxic\n",
       "0  explanation why the edits made under my userna...      0\n",
       "1  d aww he matches this background colour i m se...      0\n",
       "2  hey man i m really not trying to edit war it s...      0\n",
       "3  more i can t make any real suggestions on impr...      0\n",
       "4  you sir are my hero any chance you remember wh...      0"
      ]
     },
     "execution_count": 7,
     "metadata": {},
     "output_type": "execute_result"
    }
   ],
   "source": [
    "df_comments.head()"
   ]
  },
  {
   "attachments": {},
   "cell_type": "markdown",
   "metadata": {},
   "source": [
    "Приведем слова к лемме и за одно разобьем текст на токены с помощью библиотеки `spaCy`."
   ]
  },
  {
   "cell_type": "code",
   "execution_count": 8,
   "metadata": {
    "scrolled": true
   },
   "outputs": [
    {
     "name": "stdout",
     "output_type": "stream",
     "text": [
      "INFO: Pandarallel will run on 2 workers.\n",
      "INFO: Pandarallel will use standard multiprocessing data transfer (pipe) to transfer data between the main process and workers.\n",
      "\n",
      "WARNING: You are on Windows. If you detect any issue with pandarallel, be sure you checked out the Troubleshooting page:\n",
      "https://nalepae.github.io/pandarallel/troubleshooting/\n"
     ]
    },
    {
     "data": {
      "application/vnd.jupyter.widget-view+json": {
       "model_id": "5fde2294db3247ec87af68d307749e5a",
       "version_major": 2,
       "version_minor": 0
      },
      "text/plain": [
       "VBox(children=(HBox(children=(IntProgress(value=0, description='0.00%', max=79646), Label(value='0 / 79646')))…"
      ]
     },
     "metadata": {},
     "output_type": "display_data"
    }
   ],
   "source": [
    "tqdm.pandas(desc=\"progress\")\n",
    "pandarallel.initialize(progress_bar = True)\n",
    "\n",
    "nlp = spacy.load(\"en_core_web_sm\", disable=['parser', 'ner'])\n",
    "df_comments['text'] = df_comments['text'].parallel_apply(lambda x, nlp=nlp: \" \".join([token.lemma_ for token in nlp(x)]))"
   ]
  },
  {
   "cell_type": "code",
   "execution_count": 9,
   "metadata": {
    "scrolled": true
   },
   "outputs": [
    {
     "data": {
      "text/html": [
       "<div>\n",
       "<style scoped>\n",
       "    .dataframe tbody tr th:only-of-type {\n",
       "        vertical-align: middle;\n",
       "    }\n",
       "\n",
       "    .dataframe tbody tr th {\n",
       "        vertical-align: top;\n",
       "    }\n",
       "\n",
       "    .dataframe thead th {\n",
       "        text-align: right;\n",
       "    }\n",
       "</style>\n",
       "<table border=\"1\" class=\"dataframe\">\n",
       "  <thead>\n",
       "    <tr style=\"text-align: right;\">\n",
       "      <th></th>\n",
       "      <th>text</th>\n",
       "      <th>toxic</th>\n",
       "    </tr>\n",
       "  </thead>\n",
       "  <tbody>\n",
       "    <tr>\n",
       "      <th>0</th>\n",
       "      <td>explanation why the edit make under my usernam...</td>\n",
       "      <td>0</td>\n",
       "    </tr>\n",
       "    <tr>\n",
       "      <th>1</th>\n",
       "      <td>d aww he match this background colour I m seem...</td>\n",
       "      <td>0</td>\n",
       "    </tr>\n",
       "    <tr>\n",
       "      <th>2</th>\n",
       "      <td>hey man I m really not try to edit war it s ju...</td>\n",
       "      <td>0</td>\n",
       "    </tr>\n",
       "    <tr>\n",
       "      <th>3</th>\n",
       "      <td>more I can t make any real suggestion on impro...</td>\n",
       "      <td>0</td>\n",
       "    </tr>\n",
       "    <tr>\n",
       "      <th>4</th>\n",
       "      <td>you sir be my hero any chance you remember wha...</td>\n",
       "      <td>0</td>\n",
       "    </tr>\n",
       "  </tbody>\n",
       "</table>\n",
       "</div>"
      ],
      "text/plain": [
       "                                                text  toxic\n",
       "0  explanation why the edit make under my usernam...      0\n",
       "1  d aww he match this background colour I m seem...      0\n",
       "2  hey man I m really not try to edit war it s ju...      0\n",
       "3  more I can t make any real suggestion on impro...      0\n",
       "4  you sir be my hero any chance you remember wha...      0"
      ]
     },
     "execution_count": 9,
     "metadata": {},
     "output_type": "execute_result"
    }
   ],
   "source": [
    "df_comments.head()"
   ]
  },
  {
   "attachments": {},
   "cell_type": "markdown",
   "metadata": {},
   "source": [
    "Разобьем наши данные на три выборки: обучающую, валидационную и тестовую."
   ]
  },
  {
   "cell_type": "code",
   "execution_count": 10,
   "metadata": {},
   "outputs": [],
   "source": [
    "features = df_comments.drop('toxic', axis=1)\n",
    "train = df_comments['toxic']\n",
    "\n",
    "features_train, features_valid, target_train, target_valid = train_test_split(features,\n",
    "                                                                              train,\n",
    "                                                                              test_size=.2,\n",
    "                                                                              random_state=12345)\n",
    "\n",
    "features_valid, features_test, target_valid, target_test = train_test_split(features_valid,\n",
    "                                                                            target_valid,\n",
    "                                                                            test_size=.5,\n",
    "                                                                            random_state=12345)"
   ]
  },
  {
   "cell_type": "code",
   "execution_count": 11,
   "metadata": {},
   "outputs": [
    {
     "name": "stdout",
     "output_type": "stream",
     "text": [
      "Размер обучающей выборки:\n",
      "(127433, 1)\n",
      "(127433,)\n"
     ]
    }
   ],
   "source": [
    "print(f'Размер обучающей выборки:\\n{features_train.shape}\\n{target_train.shape}')"
   ]
  },
  {
   "cell_type": "code",
   "execution_count": 12,
   "metadata": {},
   "outputs": [
    {
     "name": "stdout",
     "output_type": "stream",
     "text": [
      "Размер валидационной выборки:\n",
      "(15929, 1)\n",
      "(15929,)\n"
     ]
    }
   ],
   "source": [
    "print(f'Размер валидационной выборки:\\n{features_valid.shape}\\n{target_valid.shape}')"
   ]
  },
  {
   "cell_type": "code",
   "execution_count": 13,
   "metadata": {},
   "outputs": [
    {
     "name": "stdout",
     "output_type": "stream",
     "text": [
      "Размер тестовой выборки:\n",
      "(15930, 1)\n",
      "(15930,)\n"
     ]
    }
   ],
   "source": [
    "print(f'Размер тестовой выборки:\\n{features_test.shape}\\n{target_test.shape}')"
   ]
  },
  {
   "attachments": {},
   "cell_type": "markdown",
   "metadata": {},
   "source": [
    "**Вывод:**\n",
    "\n",
    "Данные изучены и подготовлены для обучения моделей."
   ]
  },
  {
   "attachments": {},
   "cell_type": "markdown",
   "metadata": {},
   "source": [
    "## Обучение"
   ]
  },
  {
   "attachments": {},
   "cell_type": "markdown",
   "metadata": {},
   "source": [
    "Проведем для наших признаков оценку важности слова методом TF-IDF. "
   ]
  },
  {
   "cell_type": "code",
   "execution_count": 14,
   "metadata": {},
   "outputs": [],
   "source": [
    "stopwords = nlp.Defaults.stop_words\n",
    "\n",
    "count_tf_idf = TfidfVectorizer(stop_words=stopwords, sublinear_tf=True)\n",
    "\n",
    "features_train = count_tf_idf.fit_transform(features_train['text'].values)\n",
    "features_valid = count_tf_idf.transform(features_valid['text'].values)\n",
    "features_test = count_tf_idf.transform(features_test['text'].values)"
   ]
  },
  {
   "attachments": {},
   "cell_type": "markdown",
   "metadata": {},
   "source": [
    "**Логистическая регрессия**"
   ]
  },
  {
   "cell_type": "code",
   "execution_count": 15,
   "metadata": {},
   "outputs": [
    {
     "name": "stdout",
     "output_type": "stream",
     "text": [
      "F1 логистической регрессии = 0.77\n",
      "при параметрах {'C': 10, 'max_iter': 200, 'random_state': 12345}\n",
      "\n",
      "F1 логистической регрессии на валидации = 0.77\n",
      "\n",
      "финальный F1 логистической регрессии = 0.77\n",
      "CPU times: total: 20.8 s\n",
      "Wall time: 4min 5s\n"
     ]
    }
   ],
   "source": [
    "%%time\n",
    "\n",
    "#train_lr:\n",
    "classificator = LogisticRegression(class_weight='balanced')\n",
    "    \n",
    "parameters = {'C': (.1, 1, 5, 10),\n",
    "              'random_state': ([12345]),\n",
    "              'max_iter': ([200])}\n",
    "gscv = GridSearchCV(classificator, parameters, scoring='f1', cv=5, n_jobs=-1)\n",
    "\n",
    "gscv.fit(features_train, target_train)\n",
    "\n",
    "mean_score = gscv.cv_results_['mean_test_score']\n",
    "lr_train_f1 = max(mean_score)\n",
    "\n",
    "print('F1 логистической регрессии =', round(lr_train_f1,2))\n",
    "print('при параметрах', gscv.best_params_)\n",
    "print()\n",
    "\n",
    "#valid_lr:\n",
    "predictions_valid = gscv.predict(features_valid)\n",
    "lr_valid_f1 = f1_score(target_valid, predictions_valid)\n",
    "print('F1 логистической регрессии на валидации =', round(lr_valid_f1,2))\n",
    "print()\n",
    "\n",
    "#test_lr:\n",
    "predictions_test = gscv.predict(features_test)\n",
    "lr_test_f1 = f1_score(target_test, predictions_test)\n",
    "print('финальный F1 логистической регрессии =', round(lr_test_f1,2))"
   ]
  },
  {
   "attachments": {},
   "cell_type": "markdown",
   "metadata": {},
   "source": [
    "**CatBoost**"
   ]
  },
  {
   "cell_type": "code",
   "execution_count": 16,
   "metadata": {
    "scrolled": false
   },
   "outputs": [
    {
     "name": "stdout",
     "output_type": "stream",
     "text": [
      "F1 CatBoostClassifier = 0.74\n",
      "при параметрах {'iterations': 200, 'random_state': 12345, 'verbose': False}\n",
      "\n",
      "F1 CatBoostClassifier на валидации = 0.75\n",
      "\n",
      "финальный F1 CatBoostClassifier = 0.76\n",
      "CPU times: total: 20min 46s\n",
      "Wall time: 19min 54s\n"
     ]
    }
   ],
   "source": [
    "%%time\n",
    "\n",
    "#train_cbc:\n",
    "classificator = CatBoostClassifier(auto_class_weights='Balanced')\n",
    "    \n",
    "parameters = {'verbose': ([False]),\n",
    "              'iterations': ([200]),\n",
    "              'random_state':([12345])} \n",
    "\n",
    "gscv = GridSearchCV(classificator, parameters, scoring='f1', cv=2, n_jobs=-1)\n",
    "\n",
    "gscv.fit(features_train, target_train)\n",
    "\n",
    "mean_score = gscv.cv_results_['mean_test_score']\n",
    "cbc_train_f1 = max(mean_score)\n",
    "\n",
    "print('F1 CatBoostClassifier =', round(cbc_train_f1,2))\n",
    "print('при параметрах', gscv.best_params_)\n",
    "print()\n",
    "\n",
    "#valid_cbc:\n",
    "predictions_valid = gscv.predict(features_valid)\n",
    "cbc_valid_f1 = f1_score(target_valid, predictions_valid)\n",
    "print('F1 CatBoostClassifier на валидации =', round(cbc_valid_f1,2))\n",
    "print()\n",
    "\n",
    "#test_cbc:\n",
    "predictions_test = gscv.predict(features_test)\n",
    "cbc_test_f1 = f1_score(target_test, predictions_test)\n",
    "print('финальный F1 CatBoostClassifier =', round(cbc_test_f1,2))"
   ]
  },
  {
   "attachments": {},
   "cell_type": "markdown",
   "metadata": {},
   "source": [
    "**Случайный лес**"
   ]
  },
  {
   "cell_type": "code",
   "execution_count": 17,
   "metadata": {},
   "outputs": [
    {
     "name": "stdout",
     "output_type": "stream",
     "text": [
      "F1 случайного леса = 0.42\n",
      "при параметрах {'max_depth': 21, 'n_estimators': 300, 'random_state': 12345}\n",
      "\n",
      "F1 случайного леса на валидации = 0.42\n",
      "\n",
      "финальный F1 случайного леса = 0.42\n",
      "CPU times: total: 44.2 s\n",
      "Wall time: 8min 21s\n"
     ]
    }
   ],
   "source": [
    "%%time\n",
    "\n",
    "#train_rfc:\n",
    "classificator = RandomForestClassifier(class_weight='balanced')\n",
    "    \n",
    "parameters = {'n_estimators': ([300]),\n",
    "              'random_state': ([12345]),\n",
    "              'max_depth': ([x for x in range(11, 31, 10)])}\n",
    "\n",
    "gscv = GridSearchCV(classificator, parameters, scoring='f1', cv=3, n_jobs=-1)\n",
    "\n",
    "gscv.fit(features_train, target_train)\n",
    "\n",
    "mean_score = gscv.cv_results_['mean_test_score']\n",
    "rfc_train_f1 = max(mean_score)\n",
    "\n",
    "print('F1 случайного леса =', round(rfc_train_f1,2))\n",
    "print('при параметрах', gscv.best_params_)\n",
    "print()\n",
    "\n",
    "#valid_rfc:\n",
    "predictions_valid = gscv.predict(features_valid)\n",
    "rfc_valid_f1 = f1_score(target_valid, predictions_valid)\n",
    "print('F1 случайного леса на валидации =', round(rfc_valid_f1,2))\n",
    "print()\n",
    "\n",
    "#test_rfc:\n",
    "predictions_test = gscv.predict(features_test)\n",
    "rfc_test_f1 = f1_score(target_test, predictions_test)\n",
    "print('финальный F1 случайного леса =', round(rfc_test_f1,2))"
   ]
  },
  {
   "cell_type": "code",
   "execution_count": 18,
   "metadata": {},
   "outputs": [
    {
     "data": {
      "text/html": [
       "<div>\n",
       "<style scoped>\n",
       "    .dataframe tbody tr th:only-of-type {\n",
       "        vertical-align: middle;\n",
       "    }\n",
       "\n",
       "    .dataframe tbody tr th {\n",
       "        vertical-align: top;\n",
       "    }\n",
       "\n",
       "    .dataframe thead th {\n",
       "        text-align: right;\n",
       "    }\n",
       "</style>\n",
       "<table border=\"1\" class=\"dataframe\">\n",
       "  <thead>\n",
       "    <tr style=\"text-align: right;\">\n",
       "      <th></th>\n",
       "      <th>train_f1</th>\n",
       "      <th>valid_f1</th>\n",
       "      <th>test_f1</th>\n",
       "    </tr>\n",
       "  </thead>\n",
       "  <tbody>\n",
       "    <tr>\n",
       "      <th>LogisticRegression</th>\n",
       "      <td>0.77</td>\n",
       "      <td>0.77</td>\n",
       "      <td>0.77</td>\n",
       "    </tr>\n",
       "    <tr>\n",
       "      <th>CatBoostClassifier</th>\n",
       "      <td>0.74</td>\n",
       "      <td>0.75</td>\n",
       "      <td>0.76</td>\n",
       "    </tr>\n",
       "    <tr>\n",
       "      <th>RandomForestClassifier</th>\n",
       "      <td>0.42</td>\n",
       "      <td>0.42</td>\n",
       "      <td>0.42</td>\n",
       "    </tr>\n",
       "  </tbody>\n",
       "</table>\n",
       "</div>"
      ],
      "text/plain": [
       "                       train_f1 valid_f1 test_f1\n",
       "LogisticRegression         0.77     0.77    0.77\n",
       "CatBoostClassifier         0.74     0.75    0.76\n",
       "RandomForestClassifier     0.42     0.42    0.42"
      ]
     },
     "execution_count": 18,
     "metadata": {},
     "output_type": "execute_result"
    }
   ],
   "source": [
    "table = pd.DataFrame(index=['LogisticRegression',\n",
    "                            'CatBoostClassifier',\n",
    "                            'RandomForestClassifier'],\n",
    "                     columns=['train_f1', 'valid_f1', 'test_f1'])\n",
    "\n",
    "table['train_f1'] = f'{lr_train_f1:.2f}', f'{cbc_train_f1:.2f}', f'{rfc_train_f1:.2f}'\n",
    "table['valid_f1'] = f'{lr_valid_f1:.2f}', f'{cbc_valid_f1:.2f}', f'{rfc_valid_f1:.2f}'\n",
    "table['test_f1'] = f'{lr_test_f1:.2f}', f'{cbc_test_f1:.2f}', f'{rfc_test_f1:.2f}'\n",
    "table"
   ]
  },
  {
   "attachments": {},
   "cell_type": "markdown",
   "metadata": {},
   "source": [
    "**Вывод:**\n",
    "\n",
    "По итогам обучения и сравнения моделей, лучшей моделью является **LogisticRegression** с метрикой `F1` в 0.77 на тестовой выборке."
   ]
  },
  {
   "attachments": {},
   "cell_type": "markdown",
   "metadata": {},
   "source": [
    "## Выводы"
   ]
  },
  {
   "attachments": {},
   "cell_type": "markdown",
   "metadata": {},
   "source": [
    "Для нового сервиса интернет-магазина была обучена модель классификации комментариев. С помощью нового сервиса пользователи могут редактировать, дополнять описания товаров и комментировать изменения других пользователей, как в вики-сообществах. Модель определяет токсичные комментарии и отправляет их на модерацию.\n",
    "\n",
    "Для обучения и выбора лучшей модели был предоставлен набор данных с разметкой о токсичности правок. Данные были изучены и подготовлены, а именно:\n",
    "- Удаление лишнего столбца, который повторял индексы таблицы;\n",
    "- Создана функция для отчистки текста от лишних символов;\n",
    "- Слова были приведены к лемме (начальная форма слова);\n",
    "- Данные разделены на три выборки: обучающая(train), валидационная(valid) и тестовая(test).\n",
    "\n",
    "Для сравнения были взяты 3 модели машинного обучения:\n",
    "- LogisticRegression;\n",
    "- CatBoostClassifier;\n",
    "- RandomForestClassifier.\n",
    "\n",
    "После обучения и сравнения результата по значению метрики `F1`, которая должна была быть не менее 0.75, самой лучшей моделью для задачи классификации комментариев была выбрана модель **LogisticRegression** со значением метрики `F1` равному **0.77**.\n"
   ]
  }
 ],
 "metadata": {
  "ExecuteTimeLog": [
   {
    "duration": 423,
    "start_time": "2023-06-14T15:58:52.395Z"
   },
   {
    "duration": 101,
    "start_time": "2023-06-14T15:59:59.698Z"
   },
   {
    "duration": 3693,
    "start_time": "2023-06-14T16:00:15.935Z"
   },
   {
    "duration": 13,
    "start_time": "2023-06-14T16:00:30.943Z"
   },
   {
    "duration": 23,
    "start_time": "2023-06-14T16:00:58.046Z"
   },
   {
    "duration": 8,
    "start_time": "2023-06-14T16:01:56.629Z"
   },
   {
    "duration": 43,
    "start_time": "2023-06-14T16:02:06.384Z"
   },
   {
    "duration": 11,
    "start_time": "2023-06-14T16:04:26.631Z"
   },
   {
    "duration": 9,
    "start_time": "2023-06-14T16:04:29.487Z"
   },
   {
    "duration": 480,
    "start_time": "2023-06-14T16:05:42.845Z"
   },
   {
    "duration": 3708,
    "start_time": "2023-06-14T16:05:43.327Z"
   },
   {
    "duration": 18,
    "start_time": "2023-06-14T16:05:47.039Z"
   },
   {
    "duration": 39,
    "start_time": "2023-06-14T16:05:47.059Z"
   },
   {
    "duration": 39,
    "start_time": "2023-06-14T16:05:47.100Z"
   },
   {
    "duration": 119,
    "start_time": "2023-06-14T16:06:02.884Z"
   },
   {
    "duration": 485,
    "start_time": "2023-06-14T16:06:34.523Z"
   },
   {
    "duration": 3614,
    "start_time": "2023-06-14T16:06:35.011Z"
   },
   {
    "duration": 19,
    "start_time": "2023-06-14T16:06:38.627Z"
   },
   {
    "duration": 70,
    "start_time": "2023-06-14T16:06:38.648Z"
   },
   {
    "duration": 13,
    "start_time": "2023-06-14T16:06:38.720Z"
   },
   {
    "duration": 1936,
    "start_time": "2023-06-14T16:06:38.735Z"
   },
   {
    "duration": 1108,
    "start_time": "2023-06-14T16:06:40.673Z"
   },
   {
    "duration": 970,
    "start_time": "2023-06-14T16:10:53.002Z"
   },
   {
    "duration": 212,
    "start_time": "2023-06-14T16:35:22.249Z"
   },
   {
    "duration": 168,
    "start_time": "2023-06-14T16:35:31.575Z"
   },
   {
    "duration": 14,
    "start_time": "2023-06-14T16:35:33.105Z"
   },
   {
    "duration": 643,
    "start_time": "2023-06-14T16:35:37.401Z"
   },
   {
    "duration": 7381,
    "start_time": "2023-06-14T16:35:38.414Z"
   },
   {
    "duration": 33,
    "start_time": "2023-06-14T16:35:45.798Z"
   },
   {
    "duration": 89,
    "start_time": "2023-06-14T16:35:45.835Z"
   },
   {
    "duration": 35,
    "start_time": "2023-06-14T16:35:45.930Z"
   },
   {
    "duration": 3081,
    "start_time": "2023-06-14T16:35:46.750Z"
   },
   {
    "duration": 108,
    "start_time": "2023-06-14T16:35:50.515Z"
   },
   {
    "duration": 88449,
    "start_time": "2023-06-14T16:58:33.840Z"
   },
   {
    "duration": 11270,
    "start_time": "2023-06-14T17:00:06.172Z"
   },
   {
    "duration": 12539,
    "start_time": "2023-06-14T17:00:23.262Z"
   },
   {
    "duration": 43071,
    "start_time": "2023-06-14T17:00:48.231Z"
   },
   {
    "duration": 547,
    "start_time": "2023-06-14T17:45:51.591Z"
   },
   {
    "duration": 511,
    "start_time": "2023-06-14T17:46:38.998Z"
   },
   {
    "duration": 404,
    "start_time": "2023-06-14T17:47:38.425Z"
   },
   {
    "duration": 375,
    "start_time": "2023-06-14T17:47:48.774Z"
   },
   {
    "duration": 403,
    "start_time": "2023-06-14T17:48:08.832Z"
   },
   {
    "duration": 7,
    "start_time": "2023-06-14T17:52:19.664Z"
   },
   {
    "duration": 5,
    "start_time": "2023-06-14T17:54:39.158Z"
   },
   {
    "duration": 15,
    "start_time": "2023-06-14T17:54:54.785Z"
   },
   {
    "duration": 6,
    "start_time": "2023-06-14T17:55:08.546Z"
   },
   {
    "duration": 23,
    "start_time": "2023-06-14T17:55:08.948Z"
   },
   {
    "duration": 5231,
    "start_time": "2023-06-14T17:55:41.187Z"
   },
   {
    "duration": 9,
    "start_time": "2023-06-14T17:55:54.850Z"
   },
   {
    "duration": 4,
    "start_time": "2023-06-14T18:06:27.381Z"
   },
   {
    "duration": 316,
    "start_time": "2023-06-14T18:06:27.836Z"
   },
   {
    "duration": 12,
    "start_time": "2023-06-14T18:06:28.197Z"
   },
   {
    "duration": 4,
    "start_time": "2023-06-14T18:06:36.081Z"
   },
   {
    "duration": 339,
    "start_time": "2023-06-14T18:06:36.425Z"
   },
   {
    "duration": 4,
    "start_time": "2023-06-14T18:06:44.588Z"
   },
   {
    "duration": 3869,
    "start_time": "2023-06-14T18:06:44.893Z"
   },
   {
    "duration": 9,
    "start_time": "2023-06-14T18:06:48.764Z"
   },
   {
    "duration": 417,
    "start_time": "2023-06-14T18:06:56.987Z"
   },
   {
    "duration": 967,
    "start_time": "2023-06-14T18:06:57.407Z"
   },
   {
    "duration": 376,
    "start_time": "2023-06-14T18:06:58.376Z"
   },
   {
    "duration": 16,
    "start_time": "2023-06-14T18:06:58.753Z"
   },
   {
    "duration": 11,
    "start_time": "2023-06-14T18:06:58.771Z"
   },
   {
    "duration": 5792,
    "start_time": "2023-06-14T18:06:58.784Z"
   },
   {
    "duration": 18,
    "start_time": "2023-06-14T18:07:04.578Z"
   },
   {
    "duration": 6,
    "start_time": "2023-06-14T18:26:40.084Z"
   },
   {
    "duration": 3,
    "start_time": "2023-06-14T18:26:53.279Z"
   },
   {
    "duration": 1243950,
    "start_time": "2023-06-14T18:27:08.836Z"
   },
   {
    "duration": 5431,
    "start_time": "2023-06-14T18:48:01.275Z"
   },
   {
    "duration": 914,
    "start_time": "2023-06-14T18:48:22.613Z"
   },
   {
    "duration": 1704,
    "start_time": "2023-06-14T18:48:58.614Z"
   },
   {
    "duration": 1467,
    "start_time": "2023-06-14T18:49:09.039Z"
   },
   {
    "duration": 2393,
    "start_time": "2023-06-14T18:51:22.513Z"
   },
   {
    "duration": 46,
    "start_time": "2023-06-14T18:51:28.204Z"
   },
   {
    "duration": 38,
    "start_time": "2023-06-14T18:51:33.896Z"
   },
   {
    "duration": 44,
    "start_time": "2023-06-14T18:53:09.854Z"
   },
   {
    "duration": 12,
    "start_time": "2023-06-14T18:53:14.154Z"
   },
   {
    "duration": 20,
    "start_time": "2023-06-14T18:53:24.007Z"
   },
   {
    "duration": 6,
    "start_time": "2023-06-14T18:53:24.500Z"
   },
   {
    "duration": 15,
    "start_time": "2023-06-14T18:57:33.282Z"
   },
   {
    "duration": 5,
    "start_time": "2023-06-14T18:57:38.994Z"
   },
   {
    "duration": 23,
    "start_time": "2023-06-14T18:57:49.143Z"
   },
   {
    "duration": 4,
    "start_time": "2023-06-14T18:57:49.582Z"
   },
   {
    "duration": 16,
    "start_time": "2023-06-14T18:58:02.164Z"
   },
   {
    "duration": 7,
    "start_time": "2023-06-14T18:58:02.592Z"
   },
   {
    "duration": 20,
    "start_time": "2023-06-14T18:58:10.165Z"
   },
   {
    "duration": 5,
    "start_time": "2023-06-14T18:58:10.393Z"
   },
   {
    "duration": 11,
    "start_time": "2023-06-14T18:58:13.593Z"
   },
   {
    "duration": 11,
    "start_time": "2023-06-14T18:58:13.865Z"
   },
   {
    "duration": 93,
    "start_time": "2023-06-14T18:58:32.047Z"
   },
   {
    "duration": 19,
    "start_time": "2023-06-14T18:58:33.771Z"
   },
   {
    "duration": 4,
    "start_time": "2023-06-14T18:59:54.201Z"
   },
   {
    "duration": 32,
    "start_time": "2023-06-14T18:59:58.610Z"
   },
   {
    "duration": 3,
    "start_time": "2023-06-14T18:59:59.486Z"
   },
   {
    "duration": 18,
    "start_time": "2023-06-14T19:01:39.509Z"
   },
   {
    "duration": 122,
    "start_time": "2023-06-14T19:01:39.998Z"
   },
   {
    "duration": 7,
    "start_time": "2023-06-14T19:01:43.228Z"
   },
   {
    "duration": 17,
    "start_time": "2023-06-14T19:02:34.289Z"
   },
   {
    "duration": 25,
    "start_time": "2023-06-14T19:02:45.832Z"
   },
   {
    "duration": 15,
    "start_time": "2023-06-14T19:02:53.562Z"
   },
   {
    "duration": 158,
    "start_time": "2023-06-14T19:03:05.384Z"
   },
   {
    "duration": 4,
    "start_time": "2023-06-14T19:03:17.396Z"
   },
   {
    "duration": 7,
    "start_time": "2023-06-14T19:03:20.102Z"
   },
   {
    "duration": 29,
    "start_time": "2023-06-14T19:03:29.808Z"
   },
   {
    "duration": 4,
    "start_time": "2023-06-14T19:03:31.364Z"
   },
   {
    "duration": 454,
    "start_time": "2023-06-14T19:03:31.645Z"
   },
   {
    "duration": 11,
    "start_time": "2023-06-14T19:07:23.310Z"
   },
   {
    "duration": 55,
    "start_time": "2023-06-14T19:07:34.377Z"
   },
   {
    "duration": 7,
    "start_time": "2023-06-14T19:07:35.012Z"
   },
   {
    "duration": 7,
    "start_time": "2023-06-14T19:07:40.733Z"
   },
   {
    "duration": 41,
    "start_time": "2023-06-14T19:08:32.316Z"
   },
   {
    "duration": 18,
    "start_time": "2023-06-14T19:08:39.691Z"
   },
   {
    "duration": 30,
    "start_time": "2023-06-14T19:09:26.999Z"
   },
   {
    "duration": 18,
    "start_time": "2023-06-14T19:09:34.900Z"
   },
   {
    "duration": 25,
    "start_time": "2023-06-14T19:10:25.212Z"
   },
   {
    "duration": 853,
    "start_time": "2023-06-14T19:10:26.812Z"
   },
   {
    "duration": 15,
    "start_time": "2023-06-14T19:10:47.411Z"
   },
   {
    "duration": 9025,
    "start_time": "2023-06-14T19:10:48.300Z"
   },
   {
    "duration": 36,
    "start_time": "2023-06-14T19:11:17.021Z"
   },
   {
    "duration": 11,
    "start_time": "2023-06-14T19:11:22.102Z"
   },
   {
    "duration": 123,
    "start_time": "2023-06-14T19:11:29.923Z"
   },
   {
    "duration": 37,
    "start_time": "2023-06-14T19:11:34.971Z"
   },
   {
    "duration": 4,
    "start_time": "2023-06-14T19:12:56.112Z"
   },
   {
    "duration": 125,
    "start_time": "2023-06-14T19:12:59.272Z"
   },
   {
    "duration": 21,
    "start_time": "2023-06-14T19:13:01.174Z"
   },
   {
    "duration": 12,
    "start_time": "2023-06-14T19:13:06.863Z"
   },
   {
    "duration": 166,
    "start_time": "2023-06-14T19:13:07.625Z"
   },
   {
    "duration": 13,
    "start_time": "2023-06-14T19:13:08.848Z"
   },
   {
    "duration": 31,
    "start_time": "2023-06-14T19:13:54.333Z"
   },
   {
    "duration": 60,
    "start_time": "2023-06-14T19:13:56.510Z"
   },
   {
    "duration": 11,
    "start_time": "2023-06-14T19:13:57.098Z"
   },
   {
    "duration": 23,
    "start_time": "2023-06-14T19:14:02.658Z"
   },
   {
    "duration": 977,
    "start_time": "2023-06-14T19:14:03.131Z"
   },
   {
    "duration": 4,
    "start_time": "2023-06-14T19:14:35.842Z"
   },
   {
    "duration": 27,
    "start_time": "2023-06-14T19:14:38.394Z"
   },
   {
    "duration": 17,
    "start_time": "2023-06-14T19:14:48.040Z"
   },
   {
    "duration": 7,
    "start_time": "2023-06-14T19:14:59.479Z"
   },
   {
    "duration": 1132,
    "start_time": "2023-06-14T19:14:59.489Z"
   },
   {
    "duration": 1683,
    "start_time": "2023-06-14T19:15:00.623Z"
   },
   {
    "duration": 398,
    "start_time": "2023-06-14T19:15:02.313Z"
   },
   {
    "duration": 36,
    "start_time": "2023-06-14T19:15:02.721Z"
   },
   {
    "duration": 18,
    "start_time": "2023-06-14T19:15:02.784Z"
   },
   {
    "duration": 7857,
    "start_time": "2023-06-14T19:15:02.812Z"
   },
   {
    "duration": 10,
    "start_time": "2023-06-14T19:15:10.671Z"
   },
   {
    "duration": 11,
    "start_time": "2023-06-14T19:15:25.708Z"
   },
   {
    "duration": 19,
    "start_time": "2023-06-14T19:15:30.839Z"
   },
   {
    "duration": 129,
    "start_time": "2023-06-14T19:15:33.095Z"
   },
   {
    "duration": 25,
    "start_time": "2023-06-14T19:15:35.056Z"
   },
   {
    "duration": 2221,
    "start_time": "2023-06-14T19:15:45.608Z"
   },
   {
    "duration": 34,
    "start_time": "2023-06-14T19:15:53.790Z"
   },
   {
    "duration": 23,
    "start_time": "2023-06-14T19:16:00.105Z"
   },
   {
    "duration": 22,
    "start_time": "2023-06-14T19:16:03.475Z"
   },
   {
    "duration": 11,
    "start_time": "2023-06-14T19:16:11.809Z"
   },
   {
    "duration": 12,
    "start_time": "2023-06-14T19:16:42.108Z"
   },
   {
    "duration": 688,
    "start_time": "2023-06-14T19:16:46.063Z"
   },
   {
    "duration": 17,
    "start_time": "2023-06-14T19:17:12.540Z"
   },
   {
    "duration": 17,
    "start_time": "2023-06-14T19:17:45.116Z"
   },
   {
    "duration": 8,
    "start_time": "2023-06-14T19:17:46.765Z"
   },
   {
    "duration": 101,
    "start_time": "2023-06-14T19:17:47.306Z"
   },
   {
    "duration": 17,
    "start_time": "2023-06-14T19:17:48.611Z"
   },
   {
    "duration": 4,
    "start_time": "2023-06-14T19:18:40.507Z"
   },
   {
    "duration": 4,
    "start_time": "2023-06-14T19:18:41.000Z"
   },
   {
    "duration": 708,
    "start_time": "2023-06-14T19:18:41.489Z"
   },
   {
    "duration": 20,
    "start_time": "2023-06-14T19:18:50.235Z"
   },
   {
    "duration": 13,
    "start_time": "2023-06-14T19:18:50.718Z"
   },
   {
    "duration": 681,
    "start_time": "2023-06-14T19:18:51.122Z"
   },
   {
    "duration": 10,
    "start_time": "2023-06-14T19:19:20.011Z"
   },
   {
    "duration": 13,
    "start_time": "2023-06-14T19:19:20.436Z"
   },
   {
    "duration": 720,
    "start_time": "2023-06-14T19:19:20.903Z"
   },
   {
    "duration": 18,
    "start_time": "2023-06-14T19:19:45.543Z"
   },
   {
    "duration": 11,
    "start_time": "2023-06-14T19:19:46.429Z"
   },
   {
    "duration": 780,
    "start_time": "2023-06-14T19:19:46.865Z"
   },
   {
    "duration": 10,
    "start_time": "2023-06-14T19:19:52.369Z"
   },
   {
    "duration": 4,
    "start_time": "2023-06-14T19:19:52.739Z"
   },
   {
    "duration": 95,
    "start_time": "2023-06-14T19:19:53.130Z"
   },
   {
    "duration": 9,
    "start_time": "2023-06-14T19:19:53.970Z"
   },
   {
    "duration": 8,
    "start_time": "2023-06-14T19:20:11.151Z"
   },
   {
    "duration": 10,
    "start_time": "2023-06-14T19:20:11.659Z"
   },
   {
    "duration": 116,
    "start_time": "2023-06-14T19:20:12.063Z"
   },
   {
    "duration": 23,
    "start_time": "2023-06-14T19:20:12.718Z"
   },
   {
    "duration": 187011,
    "start_time": "2023-06-14T19:21:41.774Z"
   },
   {
    "duration": 5,
    "start_time": "2023-06-14T19:25:08.306Z"
   },
   {
    "duration": 95,
    "start_time": "2023-06-14T19:25:50.658Z"
   },
   {
    "duration": 3,
    "start_time": "2023-06-14T19:26:00.936Z"
   },
   {
    "duration": 93090,
    "start_time": "2023-06-14T19:26:01.510Z"
   },
   {
    "duration": 7,
    "start_time": "2023-06-14T19:27:47.761Z"
   },
   {
    "duration": 4444,
    "start_time": "2023-06-14T19:27:48.637Z"
   },
   {
    "duration": 6,
    "start_time": "2023-06-14T19:27:57.867Z"
   },
   {
    "duration": 11802,
    "start_time": "2023-06-14T19:27:58.247Z"
   },
   {
    "duration": 15,
    "start_time": "2023-06-14T19:28:15.651Z"
   },
   {
    "duration": 10257,
    "start_time": "2023-06-14T19:28:16.643Z"
   },
   {
    "duration": 12,
    "start_time": "2023-06-14T19:28:31.449Z"
   },
   {
    "duration": 5895,
    "start_time": "2023-06-14T19:28:31.947Z"
   },
   {
    "duration": 12,
    "start_time": "2023-06-14T19:29:05.033Z"
   },
   {
    "duration": 57,
    "start_time": "2023-06-15T17:26:30.221Z"
   },
   {
    "duration": 1595,
    "start_time": "2023-06-15T17:26:33.332Z"
   },
   {
    "duration": 2681,
    "start_time": "2023-06-15T17:26:34.929Z"
   },
   {
    "duration": 321,
    "start_time": "2023-06-15T17:26:37.612Z"
   },
   {
    "duration": 22,
    "start_time": "2023-06-15T17:26:37.936Z"
   },
   {
    "duration": 6,
    "start_time": "2023-06-15T17:26:37.960Z"
   },
   {
    "duration": 638,
    "start_time": "2023-06-15T17:26:37.967Z"
   },
   {
    "duration": 681,
    "start_time": "2023-06-15T17:26:47.830Z"
   },
   {
    "duration": 1192245,
    "start_time": "2023-06-15T18:07:16.402Z"
   },
   {
    "duration": 7,
    "start_time": "2023-06-15T18:27:08.648Z"
   },
   {
    "duration": 1318,
    "start_time": "2023-06-15T18:31:57.102Z"
   },
   {
    "duration": 1199,
    "start_time": "2023-06-15T18:31:58.422Z"
   },
   {
    "duration": 315,
    "start_time": "2023-06-15T18:31:59.623Z"
   },
   {
    "duration": 14,
    "start_time": "2023-06-15T18:31:59.939Z"
   },
   {
    "duration": 26,
    "start_time": "2023-06-15T18:31:59.955Z"
   },
   {
    "duration": 3924,
    "start_time": "2023-06-15T18:31:59.983Z"
   },
   {
    "duration": 7,
    "start_time": "2023-06-15T18:32:03.909Z"
   },
   {
    "duration": 17,
    "start_time": "2023-06-15T18:32:03.918Z"
   },
   {
    "duration": 1061756,
    "start_time": "2023-06-15T18:32:03.937Z"
   },
   {
    "duration": 7,
    "start_time": "2023-06-15T18:49:45.695Z"
   },
   {
    "duration": 39,
    "start_time": "2023-06-15T18:50:52.218Z"
   },
   {
    "duration": 4,
    "start_time": "2023-06-15T18:51:26.026Z"
   },
   {
    "duration": 105,
    "start_time": "2023-06-15T18:51:38.209Z"
   },
   {
    "duration": 3,
    "start_time": "2023-06-15T18:51:52.917Z"
   },
   {
    "duration": 3,
    "start_time": "2023-06-15T18:51:56.584Z"
   },
   {
    "duration": 3,
    "start_time": "2023-06-15T18:51:58.249Z"
   },
   {
    "duration": 3,
    "start_time": "2023-06-15T18:52:23.926Z"
   },
   {
    "duration": 3,
    "start_time": "2023-06-15T18:52:29.328Z"
   },
   {
    "duration": 4,
    "start_time": "2023-06-15T18:53:01.919Z"
   },
   {
    "duration": 3,
    "start_time": "2023-06-15T18:53:18.806Z"
   },
   {
    "duration": 5,
    "start_time": "2023-06-15T18:54:19.905Z"
   },
   {
    "duration": 166,
    "start_time": "2023-06-15T18:54:20.356Z"
   },
   {
    "duration": 4,
    "start_time": "2023-06-15T18:54:35.922Z"
   },
   {
    "duration": 4,
    "start_time": "2023-06-15T18:54:39.515Z"
   },
   {
    "duration": 32,
    "start_time": "2023-06-15T18:54:39.918Z"
   },
   {
    "duration": 5,
    "start_time": "2023-06-15T18:54:40.619Z"
   },
   {
    "duration": 44,
    "start_time": "2023-06-15T18:55:00.626Z"
   },
   {
    "duration": 6,
    "start_time": "2023-06-15T18:55:01.130Z"
   },
   {
    "duration": 39,
    "start_time": "2023-06-15T18:55:04.506Z"
   },
   {
    "duration": 6,
    "start_time": "2023-06-15T18:55:04.833Z"
   },
   {
    "duration": 40,
    "start_time": "2023-06-15T18:55:07.705Z"
   },
   {
    "duration": 5,
    "start_time": "2023-06-15T18:55:08.106Z"
   },
   {
    "duration": 33,
    "start_time": "2023-06-15T18:55:10.610Z"
   },
   {
    "duration": 6,
    "start_time": "2023-06-15T18:55:10.938Z"
   },
   {
    "duration": 32,
    "start_time": "2023-06-15T18:55:13.201Z"
   },
   {
    "duration": 5,
    "start_time": "2023-06-15T18:55:13.546Z"
   },
   {
    "duration": 3,
    "start_time": "2023-06-15T18:55:45.825Z"
   },
   {
    "duration": 44,
    "start_time": "2023-06-15T18:56:48.605Z"
   },
   {
    "duration": 6,
    "start_time": "2023-06-15T18:56:48.950Z"
   },
   {
    "duration": 41,
    "start_time": "2023-06-15T18:56:52.630Z"
   },
   {
    "duration": 6,
    "start_time": "2023-06-15T18:56:53.718Z"
   },
   {
    "duration": 30,
    "start_time": "2023-06-15T18:56:58.423Z"
   },
   {
    "duration": 6,
    "start_time": "2023-06-15T18:56:58.757Z"
   },
   {
    "duration": 30,
    "start_time": "2023-06-15T18:57:01.815Z"
   },
   {
    "duration": 7,
    "start_time": "2023-06-15T18:57:02.205Z"
   },
   {
    "duration": 29,
    "start_time": "2023-06-15T18:57:06.512Z"
   },
   {
    "duration": 5,
    "start_time": "2023-06-15T18:57:07.214Z"
   },
   {
    "duration": 4,
    "start_time": "2023-06-15T18:57:07.653Z"
   },
   {
    "duration": 135,
    "start_time": "2023-06-15T18:59:56.643Z"
   },
   {
    "duration": 23,
    "start_time": "2023-06-15T19:00:10.401Z"
   },
   {
    "duration": 36,
    "start_time": "2023-06-15T19:00:22.018Z"
   },
   {
    "duration": 6,
    "start_time": "2023-06-15T19:00:24.298Z"
   },
   {
    "duration": 3,
    "start_time": "2023-06-15T19:00:33.455Z"
   },
   {
    "duration": 4,
    "start_time": "2023-06-15T19:00:43.017Z"
   },
   {
    "duration": 52,
    "start_time": "2023-06-15T19:01:52.957Z"
   },
   {
    "duration": 6,
    "start_time": "2023-06-15T19:01:53.602Z"
   },
   {
    "duration": 3,
    "start_time": "2023-06-15T19:01:54.427Z"
   },
   {
    "duration": 7,
    "start_time": "2023-06-15T19:02:08.418Z"
   },
   {
    "duration": 8,
    "start_time": "2023-06-15T19:02:18.598Z"
   },
   {
    "duration": 58,
    "start_time": "2023-06-15T19:03:19.002Z"
   },
   {
    "duration": 4,
    "start_time": "2023-06-15T19:05:18.135Z"
   },
   {
    "duration": 2762,
    "start_time": "2023-06-15T19:06:01.909Z"
   },
   {
    "duration": 3163,
    "start_time": "2023-06-15T19:06:34.825Z"
   },
   {
    "duration": 9,
    "start_time": "2023-06-15T19:06:49.309Z"
   },
   {
    "duration": 5,
    "start_time": "2023-06-15T19:06:53.860Z"
   },
   {
    "duration": 3,
    "start_time": "2023-06-15T19:07:01.137Z"
   },
   {
    "duration": 1432,
    "start_time": "2023-06-15T19:07:01.709Z"
   },
   {
    "duration": 111,
    "start_time": "2023-06-15T19:08:14.302Z"
   },
   {
    "duration": 7,
    "start_time": "2023-06-15T19:08:38.817Z"
   },
   {
    "duration": 114,
    "start_time": "2023-06-15T19:08:41.950Z"
   },
   {
    "duration": 121452,
    "start_time": "2023-06-15T19:08:50.653Z"
   },
   {
    "duration": 41,
    "start_time": "2023-06-15T19:10:57.545Z"
   },
   {
    "duration": 3,
    "start_time": "2023-06-15T19:10:58.334Z"
   },
   {
    "duration": 3,
    "start_time": "2023-06-15T19:10:58.432Z"
   },
   {
    "duration": 3,
    "start_time": "2023-06-15T19:10:58.832Z"
   },
   {
    "duration": 35,
    "start_time": "2023-06-15T19:10:59.241Z"
   },
   {
    "duration": 5,
    "start_time": "2023-06-15T19:10:59.738Z"
   },
   {
    "duration": 3,
    "start_time": "2023-06-15T19:11:00.209Z"
   },
   {
    "duration": 139,
    "start_time": "2023-06-15T19:11:04.537Z"
   },
   {
    "duration": 1589,
    "start_time": "2023-06-16T13:17:36.513Z"
   },
   {
    "duration": 4739,
    "start_time": "2023-06-16T13:17:38.104Z"
   },
   {
    "duration": 422,
    "start_time": "2023-06-16T13:17:42.845Z"
   },
   {
    "duration": 16,
    "start_time": "2023-06-16T13:17:43.269Z"
   },
   {
    "duration": 5,
    "start_time": "2023-06-16T13:17:43.287Z"
   },
   {
    "duration": 5192,
    "start_time": "2023-06-16T13:17:43.293Z"
   },
   {
    "duration": 7,
    "start_time": "2023-06-16T13:17:48.488Z"
   },
   {
    "duration": 10,
    "start_time": "2023-06-16T13:17:48.497Z"
   },
   {
    "duration": 270,
    "start_time": "2023-06-16T13:17:59.634Z"
   },
   {
    "duration": 1393,
    "start_time": "2023-06-16T17:10:36.290Z"
   },
   {
    "duration": 2640,
    "start_time": "2023-06-16T17:10:37.686Z"
   },
   {
    "duration": 344,
    "start_time": "2023-06-16T17:10:40.328Z"
   },
   {
    "duration": 15,
    "start_time": "2023-06-16T17:10:40.675Z"
   },
   {
    "duration": 21,
    "start_time": "2023-06-16T17:10:40.692Z"
   },
   {
    "duration": 4364,
    "start_time": "2023-06-16T17:10:40.715Z"
   },
   {
    "duration": 10,
    "start_time": "2023-06-16T17:10:45.081Z"
   },
   {
    "duration": 5175,
    "start_time": "2023-06-16T17:11:20.490Z"
   },
   {
    "duration": 3122321,
    "start_time": "2023-06-16T17:11:42.168Z"
   },
   {
    "duration": 464,
    "start_time": "2023-06-17T09:20:03.401Z"
   },
   {
    "duration": 1365,
    "start_time": "2023-06-17T09:20:09.589Z"
   },
   {
    "duration": 2656,
    "start_time": "2023-06-17T09:20:10.956Z"
   },
   {
    "duration": 328,
    "start_time": "2023-06-17T09:20:13.614Z"
   },
   {
    "duration": 9,
    "start_time": "2023-06-17T09:20:13.948Z"
   },
   {
    "duration": 10,
    "start_time": "2023-06-17T09:20:13.959Z"
   },
   {
    "duration": 4326,
    "start_time": "2023-06-17T09:20:13.970Z"
   },
   {
    "duration": 7,
    "start_time": "2023-06-17T09:20:18.298Z"
   },
   {
    "duration": 16,
    "start_time": "2023-06-17T09:20:18.306Z"
   },
   {
    "duration": 22,
    "start_time": "2023-06-17T09:20:18.326Z"
   },
   {
    "duration": 89,
    "start_time": "2023-06-17T09:27:53.600Z"
   },
   {
    "duration": 10,
    "start_time": "2023-06-17T09:27:56.698Z"
   },
   {
    "duration": 51250,
    "start_time": "2023-06-17T09:28:11.903Z"
   },
   {
    "duration": 9,
    "start_time": "2023-06-17T09:37:35.027Z"
   },
   {
    "duration": 6,
    "start_time": "2023-06-17T09:37:42.413Z"
   },
   {
    "duration": 831,
    "start_time": "2023-06-17T09:37:42.421Z"
   },
   {
    "duration": 298,
    "start_time": "2023-06-17T09:37:43.254Z"
   },
   {
    "duration": 13,
    "start_time": "2023-06-17T09:37:43.555Z"
   },
   {
    "duration": 15,
    "start_time": "2023-06-17T09:37:43.570Z"
   },
   {
    "duration": 4068,
    "start_time": "2023-06-17T09:37:43.587Z"
   },
   {
    "duration": 6,
    "start_time": "2023-06-17T09:37:47.657Z"
   },
   {
    "duration": 15,
    "start_time": "2023-06-17T09:37:47.665Z"
   },
   {
    "duration": 16,
    "start_time": "2023-06-17T09:37:47.681Z"
   },
   {
    "duration": 11,
    "start_time": "2023-06-17T09:37:56.674Z"
   },
   {
    "duration": 12,
    "start_time": "2023-06-17T09:38:58.191Z"
   },
   {
    "duration": 10,
    "start_time": "2023-06-17T09:39:31.199Z"
   },
   {
    "duration": 106,
    "start_time": "2023-06-17T09:39:44.007Z"
   },
   {
    "duration": 11,
    "start_time": "2023-06-17T09:40:01.927Z"
   },
   {
    "duration": 3,
    "start_time": "2023-06-17T09:40:16.781Z"
   },
   {
    "duration": 14,
    "start_time": "2023-06-17T09:40:18.237Z"
   },
   {
    "duration": 12,
    "start_time": "2023-06-17T09:40:32.454Z"
   },
   {
    "duration": 1272,
    "start_time": "2023-06-17T09:41:09.131Z"
   },
   {
    "duration": 2253,
    "start_time": "2023-06-17T09:41:13.802Z"
   },
   {
    "duration": 13,
    "start_time": "2023-06-17T09:41:27.259Z"
   },
   {
    "duration": 13,
    "start_time": "2023-06-17T09:42:40.920Z"
   },
   {
    "duration": 13,
    "start_time": "2023-06-17T09:42:49.592Z"
   },
   {
    "duration": 8,
    "start_time": "2023-06-17T09:46:39.778Z"
   },
   {
    "duration": 3655,
    "start_time": "2023-06-17T09:46:44.302Z"
   },
   {
    "duration": 15,
    "start_time": "2023-06-17T09:46:53.968Z"
   },
   {
    "duration": 9,
    "start_time": "2023-06-17T09:46:56.167Z"
   },
   {
    "duration": 7,
    "start_time": "2023-06-17T09:46:56.960Z"
   },
   {
    "duration": 2253,
    "start_time": "2023-06-17T09:47:25.587Z"
   },
   {
    "duration": 13,
    "start_time": "2023-06-17T09:47:30.064Z"
   },
   {
    "duration": 701,
    "start_time": "2023-06-17T09:47:38.653Z"
   },
   {
    "duration": 746,
    "start_time": "2023-06-17T09:48:00.936Z"
   },
   {
    "duration": 123,
    "start_time": "2023-06-17T09:48:05.808Z"
   },
   {
    "duration": 517,
    "start_time": "2023-06-22T16:31:28.128Z"
   },
   {
    "duration": 0,
    "start_time": "2023-06-22T16:31:28.650Z"
   },
   {
    "duration": 0,
    "start_time": "2023-06-22T16:31:28.651Z"
   },
   {
    "duration": 0,
    "start_time": "2023-06-22T16:31:28.652Z"
   },
   {
    "duration": 1,
    "start_time": "2023-06-22T16:31:28.653Z"
   },
   {
    "duration": 0,
    "start_time": "2023-06-22T16:31:28.655Z"
   },
   {
    "duration": 0,
    "start_time": "2023-06-22T16:31:28.656Z"
   },
   {
    "duration": 0,
    "start_time": "2023-06-22T16:31:28.657Z"
   },
   {
    "duration": 0,
    "start_time": "2023-06-22T16:31:28.659Z"
   },
   {
    "duration": 0,
    "start_time": "2023-06-22T16:31:28.661Z"
   },
   {
    "duration": 0,
    "start_time": "2023-06-22T16:31:28.662Z"
   },
   {
    "duration": 0,
    "start_time": "2023-06-22T16:31:28.664Z"
   },
   {
    "duration": 0,
    "start_time": "2023-06-22T16:31:28.666Z"
   },
   {
    "duration": 0,
    "start_time": "2023-06-22T16:31:28.668Z"
   },
   {
    "duration": 0,
    "start_time": "2023-06-22T16:31:28.670Z"
   },
   {
    "duration": 0,
    "start_time": "2023-06-22T16:31:28.671Z"
   },
   {
    "duration": 0,
    "start_time": "2023-06-22T16:31:28.672Z"
   },
   {
    "duration": 0,
    "start_time": "2023-06-22T16:31:28.673Z"
   }
  ],
  "kernelspec": {
   "display_name": "Python 3 (ipykernel)",
   "language": "python",
   "name": "python3"
  },
  "language_info": {
   "codemirror_mode": {
    "name": "ipython",
    "version": 3
   },
   "file_extension": ".py",
   "mimetype": "text/x-python",
   "name": "python",
   "nbconvert_exporter": "python",
   "pygments_lexer": "ipython3",
   "version": "3.9.5"
  },
  "toc": {
   "base_numbering": 1,
   "nav_menu": {},
   "number_sections": true,
   "sideBar": true,
   "skip_h1_title": true,
   "title_cell": "Содержание",
   "title_sidebar": "Contents",
   "toc_cell": true,
   "toc_position": {
    "height": "calc(100% - 180px)",
    "left": "10px",
    "top": "150px",
    "width": "302.391px"
   },
   "toc_section_display": true,
   "toc_window_display": false
  }
 },
 "nbformat": 4,
 "nbformat_minor": 2
}
