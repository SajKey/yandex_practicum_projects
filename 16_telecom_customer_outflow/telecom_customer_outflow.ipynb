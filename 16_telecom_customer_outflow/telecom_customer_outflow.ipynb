{
 "cells": [
  {
   "cell_type": "markdown",
   "metadata": {},
   "source": [
    "# Прогнозирование оттока клиентов телекомуникационной компании"
   ]
  },
  {
   "cell_type": "markdown",
   "metadata": {},
   "source": [
    "**Цель:**\n",
    "\n",
    "Оператор связи хочет научиться прогнозировать отток клиентов. Если выяснится, что пользователь планирует уйти, ему будут предложены промокоды и специальные условия. Команда оператора собрала персональные данные о некоторых клиентах, информацию об их тарифах и договорах. Необходимо на предоставленных данных обучить модель машинного обучения для прогнозирования ухода клиента.\n",
    "\n",
    "**Описание данных:**\n",
    "\n",
    "Оператор предоставляет два основных типа услуг: \n",
    "1. Стационарную телефонную связь. Возможно подключение телефонного аппарата к нескольким линиям одновременно.\n",
    "2. Интернет. Подключение может быть двух типов: через телефонную линию (DSL, от англ. digital subscriber line, «цифровая абонентская линия») или оптоволоконный кабель (Fiber optic).\n",
    "\n",
    "Также доступны такие услуги:\n",
    "- Интернет-безопасность: антивирус (DeviceProtection) и блокировка небезопасных сайтов (OnlineSecurity);\n",
    "- Выделенная линия технической поддержки (TechSupport);\n",
    "- Облачное хранилище файлов для резервного копирования данных (OnlineBackup);\n",
    "- Стриминговое телевидение (StreamingTV) и каталог фильмов (StreamingMovies).\n",
    "\n",
    "За услуги клиенты могут платить каждый месяц или заключить договор на 1–2 года. Доступны различные способы расчёта и возможность получения электронного чека.\n",
    "\n",
    "Данные состоят из файлов, полученных из разных источников:\n",
    "- `contract_new.csv` — информация о договоре;\n",
    "- `personal_new.csv` — персональные данные клиента;\n",
    "- `internet_new.csv` — информация об интернет-услугах;\n",
    "- `phone_new.csv` — информация об услугах телефонии.\n",
    "\n",
    "Во всех файлах столбец customerID содержит код клиента.\n",
    "Информация о договорах актуальна на 1 февраля 2020.\n",
    "\n"
   ]
  },
  {
   "cell_type": "markdown",
   "metadata": {},
   "source": [
    "## План работы\n",
    "\n",
    "1. Загрузить и изучить полученные данные. Сформировать вывод.\n",
    "2. Провести предобработку и исследовательский анализ данных. Выделить\\создать целевой признак. Сформировать вывод.\n",
    "3. Подготовить признаки. Добавить новые признаки, удалить ненужные. Разделить итоговый датасет на тренировочную и тестовую выборки. Сформировать вывод.\n",
    "4. Сравнить модели машинного обучения, подходящие для исследования, провести подбор гиперпараметров. Сформировать вывод.\n",
    "5. Выявить лучшую модель и проверить ее эффективность на тестовых данных. Сформировать вывод.\n",
    "6. Провести анализ важности признаков лучшей модели и анализ матрицы ошибок. Сформировать вывод.\n",
    "7. Сформировать общий вывод."
   ]
  },
  {
   "cell_type": "markdown",
   "metadata": {},
   "source": [
    "## Загрузка и изучение данных"
   ]
  },
  {
   "cell_type": "markdown",
   "metadata": {},
   "source": [
    "Импорт библиотек:"
   ]
  },
  {
   "cell_type": "code",
   "execution_count": 1,
   "metadata": {},
   "outputs": [],
   "source": [
    "import pandas as pd\n",
    "import numpy as np\n",
    "import matplotlib.pyplot as plt\n",
    "import seaborn as sns\n",
    "\n",
    "import os\n",
    "import phik\n",
    "import joblib\n",
    "from sklearn.feature_extraction.text import TfidfVectorizer\n",
    "from sklearn.pipeline import Pipeline\n",
    "\n",
    "from sklearn.model_selection import train_test_split, GridSearchCV, cross_val_score\n",
    "from sklearn.preprocessing import OneHotEncoder, StandardScaler, OrdinalEncoder\n",
    "from sklearn.metrics import roc_auc_score, accuracy_score, confusion_matrix, make_scorer, roc_curve\n",
    "from sklearn.linear_model import LogisticRegression\n",
    "from sklearn.tree import DecisionTreeClassifier\n",
    "\n",
    "from catboost import CatBoostClassifier, Pool\n",
    "\n",
    "import warnings\n",
    "warnings.filterwarnings('ignore')"
   ]
  },
  {
   "cell_type": "markdown",
   "metadata": {},
   "source": [
    "Загрузка данных:"
   ]
  },
  {
   "cell_type": "code",
   "execution_count": 2,
   "metadata": {},
   "outputs": [],
   "source": [
    "pth_1_contract = 'contract_new.csv'\n",
    "pth_2_contract = '/datasets/contract_new.csv'\n",
    "\n",
    "if os.path.exists(pth_1_contract):\n",
    "    df_contract = pd.read_csv(pth_1_contract)\n",
    "elif os.path.exists(pth_2_contract):\n",
    "    df_contract = pd.read_csv(pth_2_contract)\n",
    "else:\n",
    "    print('Something is wrong')\n",
    "\n",
    "pth_1_internet = 'internet_new.csv'\n",
    "pth_2_internet = '/datasets/internet_new.csv'\n",
    "\n",
    "if os.path.exists(pth_1_internet):\n",
    "    df_internet = pd.read_csv(pth_1_internet)\n",
    "elif os.path.exists(pth_2_internet):\n",
    "    df_internet = pd.read_csv(pth_2_internet)\n",
    "else:\n",
    "    print('Something is wrong')\n",
    "\n",
    "pth_1_personal = 'personal_new.csv'\n",
    "pth_2_personal = '/datasets/personal_new.csv'\n",
    "\n",
    "if os.path.exists(pth_1_personal):\n",
    "    df_personal = pd.read_csv(pth_1_personal)\n",
    "elif os.path.exists(pth_2_personal):\n",
    "    df_personal = pd.read_csv(pth_2_personal)\n",
    "else:\n",
    "    print('Something is wrong')\n",
    "\n",
    "pth_1_phone = 'phone_new.csv'\n",
    "pth_2_phone = '/datasets/phone_new.csv'\n",
    "\n",
    "if os.path.exists(pth_1_phone):\n",
    "    df_phone = pd.read_csv(pth_1_phone)\n",
    "elif os.path.exists(pth_2_phone):\n",
    "    df_phone = pd.read_csv(pth_2_phone)\n",
    "else:\n",
    "    print('Something is wrong')\n"
   ]
  },
  {
   "cell_type": "markdown",
   "metadata": {},
   "source": [
    "### Информация о договорах (df_contract)"
   ]
  },
  {
   "cell_type": "code",
   "execution_count": 3,
   "metadata": {},
   "outputs": [
    {
     "data": {
      "text/html": [
       "<div>\n",
       "<style scoped>\n",
       "    .dataframe tbody tr th:only-of-type {\n",
       "        vertical-align: middle;\n",
       "    }\n",
       "\n",
       "    .dataframe tbody tr th {\n",
       "        vertical-align: top;\n",
       "    }\n",
       "\n",
       "    .dataframe thead th {\n",
       "        text-align: right;\n",
       "    }\n",
       "</style>\n",
       "<table border=\"1\" class=\"dataframe\">\n",
       "  <thead>\n",
       "    <tr style=\"text-align: right;\">\n",
       "      <th></th>\n",
       "      <th>customerID</th>\n",
       "      <th>BeginDate</th>\n",
       "      <th>EndDate</th>\n",
       "      <th>Type</th>\n",
       "      <th>PaperlessBilling</th>\n",
       "      <th>PaymentMethod</th>\n",
       "      <th>MonthlyCharges</th>\n",
       "      <th>TotalCharges</th>\n",
       "    </tr>\n",
       "  </thead>\n",
       "  <tbody>\n",
       "    <tr>\n",
       "      <th>0</th>\n",
       "      <td>7590-VHVEG</td>\n",
       "      <td>2020-01-01</td>\n",
       "      <td>No</td>\n",
       "      <td>Month-to-month</td>\n",
       "      <td>Yes</td>\n",
       "      <td>Electronic check</td>\n",
       "      <td>29.85</td>\n",
       "      <td>31.04</td>\n",
       "    </tr>\n",
       "    <tr>\n",
       "      <th>1</th>\n",
       "      <td>5575-GNVDE</td>\n",
       "      <td>2017-04-01</td>\n",
       "      <td>No</td>\n",
       "      <td>One year</td>\n",
       "      <td>No</td>\n",
       "      <td>Mailed check</td>\n",
       "      <td>56.95</td>\n",
       "      <td>2071.84</td>\n",
       "    </tr>\n",
       "    <tr>\n",
       "      <th>2</th>\n",
       "      <td>3668-QPYBK</td>\n",
       "      <td>2019-10-01</td>\n",
       "      <td>No</td>\n",
       "      <td>Month-to-month</td>\n",
       "      <td>Yes</td>\n",
       "      <td>Mailed check</td>\n",
       "      <td>53.85</td>\n",
       "      <td>226.17</td>\n",
       "    </tr>\n",
       "    <tr>\n",
       "      <th>3</th>\n",
       "      <td>7795-CFOCW</td>\n",
       "      <td>2016-05-01</td>\n",
       "      <td>No</td>\n",
       "      <td>One year</td>\n",
       "      <td>No</td>\n",
       "      <td>Bank transfer (automatic)</td>\n",
       "      <td>42.30</td>\n",
       "      <td>1960.6</td>\n",
       "    </tr>\n",
       "    <tr>\n",
       "      <th>4</th>\n",
       "      <td>9237-HQITU</td>\n",
       "      <td>2019-09-01</td>\n",
       "      <td>No</td>\n",
       "      <td>Month-to-month</td>\n",
       "      <td>Yes</td>\n",
       "      <td>Electronic check</td>\n",
       "      <td>70.70</td>\n",
       "      <td>353.5</td>\n",
       "    </tr>\n",
       "    <tr>\n",
       "      <th>5</th>\n",
       "      <td>9305-CDSKC</td>\n",
       "      <td>2019-03-01</td>\n",
       "      <td>No</td>\n",
       "      <td>Month-to-month</td>\n",
       "      <td>Yes</td>\n",
       "      <td>Electronic check</td>\n",
       "      <td>99.65</td>\n",
       "      <td>1150.96</td>\n",
       "    </tr>\n",
       "    <tr>\n",
       "      <th>6</th>\n",
       "      <td>1452-KIOVK</td>\n",
       "      <td>2018-04-01</td>\n",
       "      <td>No</td>\n",
       "      <td>Month-to-month</td>\n",
       "      <td>Yes</td>\n",
       "      <td>Credit card (automatic)</td>\n",
       "      <td>89.10</td>\n",
       "      <td>2058.21</td>\n",
       "    </tr>\n",
       "    <tr>\n",
       "      <th>7</th>\n",
       "      <td>6713-OKOMC</td>\n",
       "      <td>2019-04-01</td>\n",
       "      <td>No</td>\n",
       "      <td>Month-to-month</td>\n",
       "      <td>No</td>\n",
       "      <td>Mailed check</td>\n",
       "      <td>29.75</td>\n",
       "      <td>300.48</td>\n",
       "    </tr>\n",
       "    <tr>\n",
       "      <th>8</th>\n",
       "      <td>7892-POOKP</td>\n",
       "      <td>2017-07-01</td>\n",
       "      <td>No</td>\n",
       "      <td>Month-to-month</td>\n",
       "      <td>Yes</td>\n",
       "      <td>Electronic check</td>\n",
       "      <td>104.80</td>\n",
       "      <td>3573.68</td>\n",
       "    </tr>\n",
       "    <tr>\n",
       "      <th>9</th>\n",
       "      <td>6388-TABGU</td>\n",
       "      <td>2014-12-01</td>\n",
       "      <td>2017-05-01</td>\n",
       "      <td>One year</td>\n",
       "      <td>No</td>\n",
       "      <td>Bank transfer (automatic)</td>\n",
       "      <td>56.15</td>\n",
       "      <td>1628.35</td>\n",
       "    </tr>\n",
       "    <tr>\n",
       "      <th>10</th>\n",
       "      <td>9763-GRSKD</td>\n",
       "      <td>2019-01-01</td>\n",
       "      <td>No</td>\n",
       "      <td>Month-to-month</td>\n",
       "      <td>Yes</td>\n",
       "      <td>Mailed check</td>\n",
       "      <td>49.95</td>\n",
       "      <td>649.35</td>\n",
       "    </tr>\n",
       "    <tr>\n",
       "      <th>11</th>\n",
       "      <td>7469-LKBCI</td>\n",
       "      <td>2018-10-01</td>\n",
       "      <td>No</td>\n",
       "      <td>Two year</td>\n",
       "      <td>No</td>\n",
       "      <td>Credit card (automatic)</td>\n",
       "      <td>18.95</td>\n",
       "      <td>312.3</td>\n",
       "    </tr>\n",
       "    <tr>\n",
       "      <th>12</th>\n",
       "      <td>8091-TTVAX</td>\n",
       "      <td>2015-04-01</td>\n",
       "      <td>No</td>\n",
       "      <td>One year</td>\n",
       "      <td>No</td>\n",
       "      <td>Credit card (automatic)</td>\n",
       "      <td>100.35</td>\n",
       "      <td>6111.31</td>\n",
       "    </tr>\n",
       "    <tr>\n",
       "      <th>13</th>\n",
       "      <td>0280-XJGEX</td>\n",
       "      <td>2015-09-01</td>\n",
       "      <td>No</td>\n",
       "      <td>Month-to-month</td>\n",
       "      <td>Yes</td>\n",
       "      <td>Bank transfer (automatic)</td>\n",
       "      <td>103.70</td>\n",
       "      <td>5496.1</td>\n",
       "    </tr>\n",
       "    <tr>\n",
       "      <th>14</th>\n",
       "      <td>5129-JLPIS</td>\n",
       "      <td>2018-01-01</td>\n",
       "      <td>No</td>\n",
       "      <td>Month-to-month</td>\n",
       "      <td>Yes</td>\n",
       "      <td>Electronic check</td>\n",
       "      <td>105.50</td>\n",
       "      <td>2637.5</td>\n",
       "    </tr>\n",
       "    <tr>\n",
       "      <th>15</th>\n",
       "      <td>3655-SNQYZ</td>\n",
       "      <td>2014-05-01</td>\n",
       "      <td>2016-03-01</td>\n",
       "      <td>Two year</td>\n",
       "      <td>No</td>\n",
       "      <td>Credit card (automatic)</td>\n",
       "      <td>113.25</td>\n",
       "      <td>2491.5</td>\n",
       "    </tr>\n",
       "    <tr>\n",
       "      <th>16</th>\n",
       "      <td>8191-XWSZG</td>\n",
       "      <td>2015-10-01</td>\n",
       "      <td>No</td>\n",
       "      <td>One year</td>\n",
       "      <td>No</td>\n",
       "      <td>Mailed check</td>\n",
       "      <td>20.65</td>\n",
       "      <td>1106.01</td>\n",
       "    </tr>\n",
       "    <tr>\n",
       "      <th>17</th>\n",
       "      <td>9959-WOFKT</td>\n",
       "      <td>2014-03-01</td>\n",
       "      <td>No</td>\n",
       "      <td>Two year</td>\n",
       "      <td>No</td>\n",
       "      <td>Bank transfer (automatic)</td>\n",
       "      <td>106.70</td>\n",
       "      <td>8257.51</td>\n",
       "    </tr>\n",
       "    <tr>\n",
       "      <th>18</th>\n",
       "      <td>4190-MFLUW</td>\n",
       "      <td>2019-01-01</td>\n",
       "      <td>No</td>\n",
       "      <td>Month-to-month</td>\n",
       "      <td>No</td>\n",
       "      <td>Credit card (automatic)</td>\n",
       "      <td>55.20</td>\n",
       "      <td>789.36</td>\n",
       "    </tr>\n",
       "    <tr>\n",
       "      <th>19</th>\n",
       "      <td>4183-MYFRB</td>\n",
       "      <td>2018-05-01</td>\n",
       "      <td>No</td>\n",
       "      <td>Month-to-month</td>\n",
       "      <td>Yes</td>\n",
       "      <td>Electronic check</td>\n",
       "      <td>90.05</td>\n",
       "      <td>1891.05</td>\n",
       "    </tr>\n",
       "  </tbody>\n",
       "</table>\n",
       "</div>"
      ],
      "text/plain": [
       "    customerID   BeginDate     EndDate            Type PaperlessBilling  \\\n",
       "0   7590-VHVEG  2020-01-01          No  Month-to-month              Yes   \n",
       "1   5575-GNVDE  2017-04-01          No        One year               No   \n",
       "2   3668-QPYBK  2019-10-01          No  Month-to-month              Yes   \n",
       "3   7795-CFOCW  2016-05-01          No        One year               No   \n",
       "4   9237-HQITU  2019-09-01          No  Month-to-month              Yes   \n",
       "5   9305-CDSKC  2019-03-01          No  Month-to-month              Yes   \n",
       "6   1452-KIOVK  2018-04-01          No  Month-to-month              Yes   \n",
       "7   6713-OKOMC  2019-04-01          No  Month-to-month               No   \n",
       "8   7892-POOKP  2017-07-01          No  Month-to-month              Yes   \n",
       "9   6388-TABGU  2014-12-01  2017-05-01        One year               No   \n",
       "10  9763-GRSKD  2019-01-01          No  Month-to-month              Yes   \n",
       "11  7469-LKBCI  2018-10-01          No        Two year               No   \n",
       "12  8091-TTVAX  2015-04-01          No        One year               No   \n",
       "13  0280-XJGEX  2015-09-01          No  Month-to-month              Yes   \n",
       "14  5129-JLPIS  2018-01-01          No  Month-to-month              Yes   \n",
       "15  3655-SNQYZ  2014-05-01  2016-03-01        Two year               No   \n",
       "16  8191-XWSZG  2015-10-01          No        One year               No   \n",
       "17  9959-WOFKT  2014-03-01          No        Two year               No   \n",
       "18  4190-MFLUW  2019-01-01          No  Month-to-month               No   \n",
       "19  4183-MYFRB  2018-05-01          No  Month-to-month              Yes   \n",
       "\n",
       "                PaymentMethod  MonthlyCharges TotalCharges  \n",
       "0            Electronic check           29.85        31.04  \n",
       "1                Mailed check           56.95      2071.84  \n",
       "2                Mailed check           53.85       226.17  \n",
       "3   Bank transfer (automatic)           42.30       1960.6  \n",
       "4            Electronic check           70.70        353.5  \n",
       "5            Electronic check           99.65      1150.96  \n",
       "6     Credit card (automatic)           89.10      2058.21  \n",
       "7                Mailed check           29.75       300.48  \n",
       "8            Electronic check          104.80      3573.68  \n",
       "9   Bank transfer (automatic)           56.15      1628.35  \n",
       "10               Mailed check           49.95       649.35  \n",
       "11    Credit card (automatic)           18.95        312.3  \n",
       "12    Credit card (automatic)          100.35      6111.31  \n",
       "13  Bank transfer (automatic)          103.70       5496.1  \n",
       "14           Electronic check          105.50       2637.5  \n",
       "15    Credit card (automatic)          113.25       2491.5  \n",
       "16               Mailed check           20.65      1106.01  \n",
       "17  Bank transfer (automatic)          106.70      8257.51  \n",
       "18    Credit card (automatic)           55.20       789.36  \n",
       "19           Electronic check           90.05      1891.05  "
      ]
     },
     "execution_count": 3,
     "metadata": {},
     "output_type": "execute_result"
    }
   ],
   "source": [
    "df_contract.head(20)"
   ]
  },
  {
   "cell_type": "code",
   "execution_count": 4,
   "metadata": {},
   "outputs": [
    {
     "name": "stdout",
     "output_type": "stream",
     "text": [
      "<class 'pandas.core.frame.DataFrame'>\n",
      "RangeIndex: 7043 entries, 0 to 7042\n",
      "Data columns (total 8 columns):\n",
      " #   Column            Non-Null Count  Dtype  \n",
      "---  ------            --------------  -----  \n",
      " 0   customerID        7043 non-null   object \n",
      " 1   BeginDate         7043 non-null   object \n",
      " 2   EndDate           7043 non-null   object \n",
      " 3   Type              7043 non-null   object \n",
      " 4   PaperlessBilling  7043 non-null   object \n",
      " 5   PaymentMethod     7043 non-null   object \n",
      " 6   MonthlyCharges    7043 non-null   float64\n",
      " 7   TotalCharges      7043 non-null   object \n",
      "dtypes: float64(1), object(7)\n",
      "memory usage: 440.3+ KB\n"
     ]
    }
   ],
   "source": [
    "df_contract.info()"
   ]
  },
  {
   "cell_type": "code",
   "execution_count": 5,
   "metadata": {},
   "outputs": [
    {
     "data": {
      "text/plain": [
       "0"
      ]
     },
     "execution_count": 5,
     "metadata": {},
     "output_type": "execute_result"
    }
   ],
   "source": [
    "df_contract.duplicated().sum()"
   ]
  },
  {
   "cell_type": "markdown",
   "metadata": {},
   "source": [
    "Явных пропусков и дубликатов нет, необходима замена типов данных. Рассмотрим столбцы подробнее."
   ]
  },
  {
   "cell_type": "markdown",
   "metadata": {},
   "source": [
    "- `customerID` – содержит уникальный айди клиента;\n",
    "\n",
    "- `BeginDate` – дата начала пользования услугами, поле необходимо привести к типу **datetime**;\n",
    "\n",
    "- `EndDate` – дата окончания пользования услугами. Это целевой признак, любая дата в этом поле соответствует оттоку клиента, если стоит значение \"No\" - клиент остался. Однако, сама по себе дата несет в себе важную ифнормацию - длительность пользования клиентом услугами компании. Отсюда можно сгенерировать дополнительный признак для модели. Для значения \"No\" можно установить уникальную дату (например дату актуальности датасета - 2020-02-01), после чего привести поле к формату **datetime**;\n",
    "\n",
    "- `Type` – тип оплаты, принимает три значения: ежемесячный, годовой, двухгодовой;\n",
    "\n",
    "- `PaperlessBilling` – безналичный расчет, является бинарным признаком;\n",
    "\n",
    "- `PaymentMethod` - способ оплаты, принимает четыре значения: электронный чек, почтовый чек, банковский перевод и кредитная карта;\n",
    "\n",
    "- `MonthlyCharges` - ежемесячные траты на услуги, можно привести поле к целочисленному типу для экономии памяти;\n",
    "\n",
    "- `TotalCharges` - всего потрачено денег на услуги, необходимо привести к числовому формату и заполнить неявные пропуски нулями."
   ]
  },
  {
   "cell_type": "markdown",
   "metadata": {},
   "source": [
    "### Информация об интернет-услугах (df_internet)"
   ]
  },
  {
   "cell_type": "code",
   "execution_count": 6,
   "metadata": {},
   "outputs": [
    {
     "data": {
      "text/html": [
       "<div>\n",
       "<style scoped>\n",
       "    .dataframe tbody tr th:only-of-type {\n",
       "        vertical-align: middle;\n",
       "    }\n",
       "\n",
       "    .dataframe tbody tr th {\n",
       "        vertical-align: top;\n",
       "    }\n",
       "\n",
       "    .dataframe thead th {\n",
       "        text-align: right;\n",
       "    }\n",
       "</style>\n",
       "<table border=\"1\" class=\"dataframe\">\n",
       "  <thead>\n",
       "    <tr style=\"text-align: right;\">\n",
       "      <th></th>\n",
       "      <th>customerID</th>\n",
       "      <th>InternetService</th>\n",
       "      <th>OnlineSecurity</th>\n",
       "      <th>OnlineBackup</th>\n",
       "      <th>DeviceProtection</th>\n",
       "      <th>TechSupport</th>\n",
       "      <th>StreamingTV</th>\n",
       "      <th>StreamingMovies</th>\n",
       "    </tr>\n",
       "  </thead>\n",
       "  <tbody>\n",
       "    <tr>\n",
       "      <th>0</th>\n",
       "      <td>7590-VHVEG</td>\n",
       "      <td>DSL</td>\n",
       "      <td>No</td>\n",
       "      <td>Yes</td>\n",
       "      <td>No</td>\n",
       "      <td>No</td>\n",
       "      <td>No</td>\n",
       "      <td>No</td>\n",
       "    </tr>\n",
       "    <tr>\n",
       "      <th>1</th>\n",
       "      <td>5575-GNVDE</td>\n",
       "      <td>DSL</td>\n",
       "      <td>Yes</td>\n",
       "      <td>No</td>\n",
       "      <td>Yes</td>\n",
       "      <td>No</td>\n",
       "      <td>No</td>\n",
       "      <td>No</td>\n",
       "    </tr>\n",
       "    <tr>\n",
       "      <th>2</th>\n",
       "      <td>3668-QPYBK</td>\n",
       "      <td>DSL</td>\n",
       "      <td>Yes</td>\n",
       "      <td>Yes</td>\n",
       "      <td>No</td>\n",
       "      <td>No</td>\n",
       "      <td>No</td>\n",
       "      <td>No</td>\n",
       "    </tr>\n",
       "    <tr>\n",
       "      <th>3</th>\n",
       "      <td>7795-CFOCW</td>\n",
       "      <td>DSL</td>\n",
       "      <td>Yes</td>\n",
       "      <td>No</td>\n",
       "      <td>Yes</td>\n",
       "      <td>Yes</td>\n",
       "      <td>No</td>\n",
       "      <td>No</td>\n",
       "    </tr>\n",
       "    <tr>\n",
       "      <th>4</th>\n",
       "      <td>9237-HQITU</td>\n",
       "      <td>Fiber optic</td>\n",
       "      <td>No</td>\n",
       "      <td>No</td>\n",
       "      <td>No</td>\n",
       "      <td>No</td>\n",
       "      <td>No</td>\n",
       "      <td>No</td>\n",
       "    </tr>\n",
       "  </tbody>\n",
       "</table>\n",
       "</div>"
      ],
      "text/plain": [
       "   customerID InternetService OnlineSecurity OnlineBackup DeviceProtection  \\\n",
       "0  7590-VHVEG             DSL             No          Yes               No   \n",
       "1  5575-GNVDE             DSL            Yes           No              Yes   \n",
       "2  3668-QPYBK             DSL            Yes          Yes               No   \n",
       "3  7795-CFOCW             DSL            Yes           No              Yes   \n",
       "4  9237-HQITU     Fiber optic             No           No               No   \n",
       "\n",
       "  TechSupport StreamingTV StreamingMovies  \n",
       "0          No          No              No  \n",
       "1          No          No              No  \n",
       "2          No          No              No  \n",
       "3         Yes          No              No  \n",
       "4          No          No              No  "
      ]
     },
     "execution_count": 6,
     "metadata": {},
     "output_type": "execute_result"
    }
   ],
   "source": [
    "df_internet.head()"
   ]
  },
  {
   "cell_type": "code",
   "execution_count": 7,
   "metadata": {},
   "outputs": [
    {
     "name": "stdout",
     "output_type": "stream",
     "text": [
      "<class 'pandas.core.frame.DataFrame'>\n",
      "RangeIndex: 5517 entries, 0 to 5516\n",
      "Data columns (total 8 columns):\n",
      " #   Column            Non-Null Count  Dtype \n",
      "---  ------            --------------  ----- \n",
      " 0   customerID        5517 non-null   object\n",
      " 1   InternetService   5517 non-null   object\n",
      " 2   OnlineSecurity    5517 non-null   object\n",
      " 3   OnlineBackup      5517 non-null   object\n",
      " 4   DeviceProtection  5517 non-null   object\n",
      " 5   TechSupport       5517 non-null   object\n",
      " 6   StreamingTV       5517 non-null   object\n",
      " 7   StreamingMovies   5517 non-null   object\n",
      "dtypes: object(8)\n",
      "memory usage: 344.9+ KB\n"
     ]
    }
   ],
   "source": [
    "df_internet.info()"
   ]
  },
  {
   "cell_type": "code",
   "execution_count": 8,
   "metadata": {},
   "outputs": [
    {
     "data": {
      "text/plain": [
       "0"
      ]
     },
     "execution_count": 8,
     "metadata": {},
     "output_type": "execute_result"
    }
   ],
   "source": [
    "df_internet.duplicated().sum()"
   ]
  },
  {
   "cell_type": "markdown",
   "metadata": {},
   "source": [
    "Явных пропусков и дубликатов нет, необходима замена типов данных. Рассмотрим столбцы подробнее."
   ]
  },
  {
   "cell_type": "markdown",
   "metadata": {},
   "source": [
    "- `customerID` – содержит уникальный айди клиента;\n",
    "\n",
    "- `InternetService` - тип подключения. Может быть двух типов: через телефонную линию (DSL) или оптоволоконный кабель (Fiber optic). Является бинарным признаком;\n",
    "\n",
    "- `OnlineSecurity` - услуга блокировки небезопасных сайтов. Является бинарным признаком;\n",
    "\n",
    "- `OnlineBackup` - услуга облачного хранилища файлов для резервного копирования данных. Является бинарным признаком;\n",
    "\n",
    "- `DeviceProtection ` - услуга антивируса. Является бинарным признаком;\n",
    "\n",
    "- `TechSupport` - выделенная линия технической поддержки. Является бинарным признаком;\n",
    "\n",
    "- `StreamingTV` - услуга стримингового телевидения. Является бинарным признаком;\n",
    "\n",
    "- `StreamingMovies` - услуга каталога фильмов. Является бинарным признаком."
   ]
  },
  {
   "cell_type": "markdown",
   "metadata": {},
   "source": [
    "### Информация о персональных данных клиентов (df_personal)"
   ]
  },
  {
   "cell_type": "code",
   "execution_count": 9,
   "metadata": {},
   "outputs": [
    {
     "data": {
      "text/html": [
       "<div>\n",
       "<style scoped>\n",
       "    .dataframe tbody tr th:only-of-type {\n",
       "        vertical-align: middle;\n",
       "    }\n",
       "\n",
       "    .dataframe tbody tr th {\n",
       "        vertical-align: top;\n",
       "    }\n",
       "\n",
       "    .dataframe thead th {\n",
       "        text-align: right;\n",
       "    }\n",
       "</style>\n",
       "<table border=\"1\" class=\"dataframe\">\n",
       "  <thead>\n",
       "    <tr style=\"text-align: right;\">\n",
       "      <th></th>\n",
       "      <th>customerID</th>\n",
       "      <th>gender</th>\n",
       "      <th>SeniorCitizen</th>\n",
       "      <th>Partner</th>\n",
       "      <th>Dependents</th>\n",
       "    </tr>\n",
       "  </thead>\n",
       "  <tbody>\n",
       "    <tr>\n",
       "      <th>0</th>\n",
       "      <td>7590-VHVEG</td>\n",
       "      <td>Female</td>\n",
       "      <td>0</td>\n",
       "      <td>Yes</td>\n",
       "      <td>No</td>\n",
       "    </tr>\n",
       "    <tr>\n",
       "      <th>1</th>\n",
       "      <td>5575-GNVDE</td>\n",
       "      <td>Male</td>\n",
       "      <td>0</td>\n",
       "      <td>No</td>\n",
       "      <td>No</td>\n",
       "    </tr>\n",
       "    <tr>\n",
       "      <th>2</th>\n",
       "      <td>3668-QPYBK</td>\n",
       "      <td>Male</td>\n",
       "      <td>0</td>\n",
       "      <td>No</td>\n",
       "      <td>No</td>\n",
       "    </tr>\n",
       "    <tr>\n",
       "      <th>3</th>\n",
       "      <td>7795-CFOCW</td>\n",
       "      <td>Male</td>\n",
       "      <td>0</td>\n",
       "      <td>No</td>\n",
       "      <td>No</td>\n",
       "    </tr>\n",
       "    <tr>\n",
       "      <th>4</th>\n",
       "      <td>9237-HQITU</td>\n",
       "      <td>Female</td>\n",
       "      <td>0</td>\n",
       "      <td>No</td>\n",
       "      <td>No</td>\n",
       "    </tr>\n",
       "  </tbody>\n",
       "</table>\n",
       "</div>"
      ],
      "text/plain": [
       "   customerID  gender  SeniorCitizen Partner Dependents\n",
       "0  7590-VHVEG  Female              0     Yes         No\n",
       "1  5575-GNVDE    Male              0      No         No\n",
       "2  3668-QPYBK    Male              0      No         No\n",
       "3  7795-CFOCW    Male              0      No         No\n",
       "4  9237-HQITU  Female              0      No         No"
      ]
     },
     "execution_count": 9,
     "metadata": {},
     "output_type": "execute_result"
    }
   ],
   "source": [
    "df_personal.head()"
   ]
  },
  {
   "cell_type": "code",
   "execution_count": 10,
   "metadata": {},
   "outputs": [
    {
     "name": "stdout",
     "output_type": "stream",
     "text": [
      "<class 'pandas.core.frame.DataFrame'>\n",
      "RangeIndex: 7043 entries, 0 to 7042\n",
      "Data columns (total 5 columns):\n",
      " #   Column         Non-Null Count  Dtype \n",
      "---  ------         --------------  ----- \n",
      " 0   customerID     7043 non-null   object\n",
      " 1   gender         7043 non-null   object\n",
      " 2   SeniorCitizen  7043 non-null   int64 \n",
      " 3   Partner        7043 non-null   object\n",
      " 4   Dependents     7043 non-null   object\n",
      "dtypes: int64(1), object(4)\n",
      "memory usage: 275.2+ KB\n"
     ]
    }
   ],
   "source": [
    "df_personal.info()"
   ]
  },
  {
   "cell_type": "code",
   "execution_count": 11,
   "metadata": {},
   "outputs": [
    {
     "data": {
      "text/plain": [
       "0"
      ]
     },
     "execution_count": 11,
     "metadata": {},
     "output_type": "execute_result"
    }
   ],
   "source": [
    "df_personal.duplicated().sum()"
   ]
  },
  {
   "cell_type": "markdown",
   "metadata": {},
   "source": [
    "Явных пропусков и дубликатов нет, необходима замена типов данных. Рассмотрим столбцы подробнее."
   ]
  },
  {
   "cell_type": "markdown",
   "metadata": {},
   "source": [
    "- `customerID` – содержит уникальный айди клиента;\n",
    "\n",
    "- `gender` - пол пользователя. Является бинарным признаком;\n",
    "\n",
    "- `SeniorCitizen` - наличие пенсионного статуса по возрасту. Является бинарным признаком;\n",
    "\n",
    "- `Partner` - наличие супруга(и). Является бинарным признаком;\n",
    "\n",
    "- `Dependents` - наличие иждивенцев. Является бинарным признаком."
   ]
  },
  {
   "cell_type": "markdown",
   "metadata": {},
   "source": [
    "### Информация о телефонии (df_phone)"
   ]
  },
  {
   "cell_type": "code",
   "execution_count": 12,
   "metadata": {},
   "outputs": [
    {
     "data": {
      "text/html": [
       "<div>\n",
       "<style scoped>\n",
       "    .dataframe tbody tr th:only-of-type {\n",
       "        vertical-align: middle;\n",
       "    }\n",
       "\n",
       "    .dataframe tbody tr th {\n",
       "        vertical-align: top;\n",
       "    }\n",
       "\n",
       "    .dataframe thead th {\n",
       "        text-align: right;\n",
       "    }\n",
       "</style>\n",
       "<table border=\"1\" class=\"dataframe\">\n",
       "  <thead>\n",
       "    <tr style=\"text-align: right;\">\n",
       "      <th></th>\n",
       "      <th>customerID</th>\n",
       "      <th>MultipleLines</th>\n",
       "    </tr>\n",
       "  </thead>\n",
       "  <tbody>\n",
       "    <tr>\n",
       "      <th>0</th>\n",
       "      <td>5575-GNVDE</td>\n",
       "      <td>No</td>\n",
       "    </tr>\n",
       "    <tr>\n",
       "      <th>1</th>\n",
       "      <td>3668-QPYBK</td>\n",
       "      <td>No</td>\n",
       "    </tr>\n",
       "    <tr>\n",
       "      <th>2</th>\n",
       "      <td>9237-HQITU</td>\n",
       "      <td>No</td>\n",
       "    </tr>\n",
       "    <tr>\n",
       "      <th>3</th>\n",
       "      <td>9305-CDSKC</td>\n",
       "      <td>Yes</td>\n",
       "    </tr>\n",
       "    <tr>\n",
       "      <th>4</th>\n",
       "      <td>1452-KIOVK</td>\n",
       "      <td>Yes</td>\n",
       "    </tr>\n",
       "  </tbody>\n",
       "</table>\n",
       "</div>"
      ],
      "text/plain": [
       "   customerID MultipleLines\n",
       "0  5575-GNVDE            No\n",
       "1  3668-QPYBK            No\n",
       "2  9237-HQITU            No\n",
       "3  9305-CDSKC           Yes\n",
       "4  1452-KIOVK           Yes"
      ]
     },
     "execution_count": 12,
     "metadata": {},
     "output_type": "execute_result"
    }
   ],
   "source": [
    "df_phone.head()"
   ]
  },
  {
   "cell_type": "code",
   "execution_count": 13,
   "metadata": {},
   "outputs": [
    {
     "name": "stdout",
     "output_type": "stream",
     "text": [
      "<class 'pandas.core.frame.DataFrame'>\n",
      "RangeIndex: 6361 entries, 0 to 6360\n",
      "Data columns (total 2 columns):\n",
      " #   Column         Non-Null Count  Dtype \n",
      "---  ------         --------------  ----- \n",
      " 0   customerID     6361 non-null   object\n",
      " 1   MultipleLines  6361 non-null   object\n",
      "dtypes: object(2)\n",
      "memory usage: 99.5+ KB\n"
     ]
    }
   ],
   "source": [
    "df_phone.info()"
   ]
  },
  {
   "cell_type": "code",
   "execution_count": 14,
   "metadata": {},
   "outputs": [
    {
     "data": {
      "text/plain": [
       "0"
      ]
     },
     "execution_count": 14,
     "metadata": {},
     "output_type": "execute_result"
    }
   ],
   "source": [
    "df_phone.duplicated().sum()"
   ]
  },
  {
   "cell_type": "markdown",
   "metadata": {},
   "source": [
    "Явных пропусков и дубликатов нет, необходима замена типов данных. Рассмотрим столбцы подробнее."
   ]
  },
  {
   "cell_type": "markdown",
   "metadata": {},
   "source": [
    "- `customerID` – содержит уникальный айди клиента;\n",
    "\n",
    "- `MultipleLines` - возможность подключения телефонного аппарата к нескольким линиям одновременно. Является бинарным признаком."
   ]
  },
  {
   "cell_type": "markdown",
   "metadata": {},
   "source": [
    "**Вывод:**\n",
    "\n",
    "1. Загружены и рассмотрены таблицы с данными.\n",
    "\n",
    "2. Всего в выборке представлены договоры с 7043 клиентами, из которых пользователей интернета - 5517, пользователей телефона - 6361.\n",
    "\n",
    "3. Явные пропуски и дубликаты не найдены.\n",
    "\n",
    "4. Проблемы для предобработки данных:\n",
    "\n",
    "`BeginDate` – поле необходимо привести к типу datetime;\n",
    "\n",
    "`EndDate` – это целевой признак, любая дата в этом поле соответствует оттоку клиента, если стоит значение \"No\" - клиент остался. Однако, сама по себе дата несет в себе важную ифнормацию - длительность пользования клиентом услугами компании. Отсюда можно сгенерировать дополнительный признак для модели. Для значения \"No\" можно установить уникальную дату (например дату актуальности датасета - 2020-02-01), после чего привести поле к формату datetime;\n",
    "\n",
    "`MonthlyCharges` - можно привести поле к целочисленному типу для экономии памяти (два знака после запятой - излишняя точность в значениях);\n",
    "\n",
    "`TotalCharges` - необходимо избавится от неявных пропусков (пустые значения, заполним нулями), а также привести к числовому формату, например целочисленный тип.\n",
    "\n",
    "5. После этого следует объединить все данные в одну таблицу, провести исследовательский анализ данных, а также дополнительное исследование на наличие пропусков и аномалий."
   ]
  },
  {
   "cell_type": "markdown",
   "metadata": {},
   "source": [
    "## Предобработка и исследовательский анализ данных"
   ]
  },
  {
   "cell_type": "markdown",
   "metadata": {},
   "source": [
    "Заполним неявные пропуски в поле `TotalCharges` нулями:"
   ]
  },
  {
   "cell_type": "code",
   "execution_count": 15,
   "metadata": {},
   "outputs": [],
   "source": [
    "df_contract['TotalCharges'] = df_contract['TotalCharges'].replace([' '], 0)"
   ]
  },
  {
   "cell_type": "markdown",
   "metadata": {},
   "source": [
    "Приведем поле `BeginDate` к типу *datetime*, а `MonthlyCharges` и `TotalCharges` к целочисленному (*int*):"
   ]
  },
  {
   "cell_type": "code",
   "execution_count": 16,
   "metadata": {},
   "outputs": [],
   "source": [
    "df_contract['BeginDate'] = pd.to_datetime(df_contract['BeginDate'],format = '%Y-%m-%d')\n",
    "\n",
    "df_contract['MonthlyCharges'] = df_contract['MonthlyCharges'].astype('int')"
   ]
  },
  {
   "cell_type": "code",
   "execution_count": 17,
   "metadata": {},
   "outputs": [],
   "source": [
    "#Так как строковое значение с точкой невозможно сразу преобразовать в целочисленный тип,\n",
    "#поле TotalCharges сначала приводится в вещественный (float), и потом в целый (int).\n",
    "df_contract['TotalCharges'] = df_contract['TotalCharges'].astype('float')\n",
    "df_contract['TotalCharges'] = df_contract['TotalCharges'].astype('int')"
   ]
  },
  {
   "cell_type": "markdown",
   "metadata": {},
   "source": [
    "Приведем поле `SeniorCitizen` к типу *object* как и остальные категориальные признаки."
   ]
  },
  {
   "cell_type": "code",
   "execution_count": 18,
   "metadata": {},
   "outputs": [],
   "source": [
    "df_personal['SeniorCitizen'] = df_personal['SeniorCitizen'].replace(0, 'No')\n",
    "df_personal['SeniorCitizen'] = df_personal['SeniorCitizen'].replace(1, 'Yes')"
   ]
  },
  {
   "cell_type": "markdown",
   "metadata": {},
   "source": [
    "Предобработка датафреймf `df_contract` завершена. Выполним объединение данных в одну таблицу для дальнейшей предобработки в остальных датафреймах:"
   ]
  },
  {
   "cell_type": "code",
   "execution_count": 19,
   "metadata": {},
   "outputs": [],
   "source": [
    "df_telecom = df_contract.set_index('customerID').join(df_phone.set_index('customerID'))\n",
    "df_telecom = df_telecom.join(df_personal.set_index('customerID'))\n",
    "df_telecom = df_telecom.join(df_internet.set_index('customerID'))"
   ]
  },
  {
   "cell_type": "code",
   "execution_count": 20,
   "metadata": {},
   "outputs": [
    {
     "data": {
      "text/html": [
       "<div>\n",
       "<style scoped>\n",
       "    .dataframe tbody tr th:only-of-type {\n",
       "        vertical-align: middle;\n",
       "    }\n",
       "\n",
       "    .dataframe tbody tr th {\n",
       "        vertical-align: top;\n",
       "    }\n",
       "\n",
       "    .dataframe thead th {\n",
       "        text-align: right;\n",
       "    }\n",
       "</style>\n",
       "<table border=\"1\" class=\"dataframe\">\n",
       "  <thead>\n",
       "    <tr style=\"text-align: right;\">\n",
       "      <th></th>\n",
       "      <th>BeginDate</th>\n",
       "      <th>EndDate</th>\n",
       "      <th>Type</th>\n",
       "      <th>PaperlessBilling</th>\n",
       "      <th>PaymentMethod</th>\n",
       "      <th>MonthlyCharges</th>\n",
       "      <th>TotalCharges</th>\n",
       "      <th>MultipleLines</th>\n",
       "      <th>gender</th>\n",
       "      <th>SeniorCitizen</th>\n",
       "      <th>Partner</th>\n",
       "      <th>Dependents</th>\n",
       "      <th>InternetService</th>\n",
       "      <th>OnlineSecurity</th>\n",
       "      <th>OnlineBackup</th>\n",
       "      <th>DeviceProtection</th>\n",
       "      <th>TechSupport</th>\n",
       "      <th>StreamingTV</th>\n",
       "      <th>StreamingMovies</th>\n",
       "    </tr>\n",
       "    <tr>\n",
       "      <th>customerID</th>\n",
       "      <th></th>\n",
       "      <th></th>\n",
       "      <th></th>\n",
       "      <th></th>\n",
       "      <th></th>\n",
       "      <th></th>\n",
       "      <th></th>\n",
       "      <th></th>\n",
       "      <th></th>\n",
       "      <th></th>\n",
       "      <th></th>\n",
       "      <th></th>\n",
       "      <th></th>\n",
       "      <th></th>\n",
       "      <th></th>\n",
       "      <th></th>\n",
       "      <th></th>\n",
       "      <th></th>\n",
       "      <th></th>\n",
       "    </tr>\n",
       "  </thead>\n",
       "  <tbody>\n",
       "    <tr>\n",
       "      <th>7590-VHVEG</th>\n",
       "      <td>2020-01-01</td>\n",
       "      <td>No</td>\n",
       "      <td>Month-to-month</td>\n",
       "      <td>Yes</td>\n",
       "      <td>Electronic check</td>\n",
       "      <td>29</td>\n",
       "      <td>31</td>\n",
       "      <td>NaN</td>\n",
       "      <td>Female</td>\n",
       "      <td>No</td>\n",
       "      <td>Yes</td>\n",
       "      <td>No</td>\n",
       "      <td>DSL</td>\n",
       "      <td>No</td>\n",
       "      <td>Yes</td>\n",
       "      <td>No</td>\n",
       "      <td>No</td>\n",
       "      <td>No</td>\n",
       "      <td>No</td>\n",
       "    </tr>\n",
       "    <tr>\n",
       "      <th>5575-GNVDE</th>\n",
       "      <td>2017-04-01</td>\n",
       "      <td>No</td>\n",
       "      <td>One year</td>\n",
       "      <td>No</td>\n",
       "      <td>Mailed check</td>\n",
       "      <td>56</td>\n",
       "      <td>2071</td>\n",
       "      <td>No</td>\n",
       "      <td>Male</td>\n",
       "      <td>No</td>\n",
       "      <td>No</td>\n",
       "      <td>No</td>\n",
       "      <td>DSL</td>\n",
       "      <td>Yes</td>\n",
       "      <td>No</td>\n",
       "      <td>Yes</td>\n",
       "      <td>No</td>\n",
       "      <td>No</td>\n",
       "      <td>No</td>\n",
       "    </tr>\n",
       "    <tr>\n",
       "      <th>3668-QPYBK</th>\n",
       "      <td>2019-10-01</td>\n",
       "      <td>No</td>\n",
       "      <td>Month-to-month</td>\n",
       "      <td>Yes</td>\n",
       "      <td>Mailed check</td>\n",
       "      <td>53</td>\n",
       "      <td>226</td>\n",
       "      <td>No</td>\n",
       "      <td>Male</td>\n",
       "      <td>No</td>\n",
       "      <td>No</td>\n",
       "      <td>No</td>\n",
       "      <td>DSL</td>\n",
       "      <td>Yes</td>\n",
       "      <td>Yes</td>\n",
       "      <td>No</td>\n",
       "      <td>No</td>\n",
       "      <td>No</td>\n",
       "      <td>No</td>\n",
       "    </tr>\n",
       "    <tr>\n",
       "      <th>7795-CFOCW</th>\n",
       "      <td>2016-05-01</td>\n",
       "      <td>No</td>\n",
       "      <td>One year</td>\n",
       "      <td>No</td>\n",
       "      <td>Bank transfer (automatic)</td>\n",
       "      <td>42</td>\n",
       "      <td>1960</td>\n",
       "      <td>NaN</td>\n",
       "      <td>Male</td>\n",
       "      <td>No</td>\n",
       "      <td>No</td>\n",
       "      <td>No</td>\n",
       "      <td>DSL</td>\n",
       "      <td>Yes</td>\n",
       "      <td>No</td>\n",
       "      <td>Yes</td>\n",
       "      <td>Yes</td>\n",
       "      <td>No</td>\n",
       "      <td>No</td>\n",
       "    </tr>\n",
       "    <tr>\n",
       "      <th>9237-HQITU</th>\n",
       "      <td>2019-09-01</td>\n",
       "      <td>No</td>\n",
       "      <td>Month-to-month</td>\n",
       "      <td>Yes</td>\n",
       "      <td>Electronic check</td>\n",
       "      <td>70</td>\n",
       "      <td>353</td>\n",
       "      <td>No</td>\n",
       "      <td>Female</td>\n",
       "      <td>No</td>\n",
       "      <td>No</td>\n",
       "      <td>No</td>\n",
       "      <td>Fiber optic</td>\n",
       "      <td>No</td>\n",
       "      <td>No</td>\n",
       "      <td>No</td>\n",
       "      <td>No</td>\n",
       "      <td>No</td>\n",
       "      <td>No</td>\n",
       "    </tr>\n",
       "  </tbody>\n",
       "</table>\n",
       "</div>"
      ],
      "text/plain": [
       "            BeginDate EndDate            Type PaperlessBilling  \\\n",
       "customerID                                                       \n",
       "7590-VHVEG 2020-01-01      No  Month-to-month              Yes   \n",
       "5575-GNVDE 2017-04-01      No        One year               No   \n",
       "3668-QPYBK 2019-10-01      No  Month-to-month              Yes   \n",
       "7795-CFOCW 2016-05-01      No        One year               No   \n",
       "9237-HQITU 2019-09-01      No  Month-to-month              Yes   \n",
       "\n",
       "                        PaymentMethod  MonthlyCharges  TotalCharges  \\\n",
       "customerID                                                            \n",
       "7590-VHVEG           Electronic check              29            31   \n",
       "5575-GNVDE               Mailed check              56          2071   \n",
       "3668-QPYBK               Mailed check              53           226   \n",
       "7795-CFOCW  Bank transfer (automatic)              42          1960   \n",
       "9237-HQITU           Electronic check              70           353   \n",
       "\n",
       "           MultipleLines  gender SeniorCitizen Partner Dependents  \\\n",
       "customerID                                                          \n",
       "7590-VHVEG           NaN  Female            No     Yes         No   \n",
       "5575-GNVDE            No    Male            No      No         No   \n",
       "3668-QPYBK            No    Male            No      No         No   \n",
       "7795-CFOCW           NaN    Male            No      No         No   \n",
       "9237-HQITU            No  Female            No      No         No   \n",
       "\n",
       "           InternetService OnlineSecurity OnlineBackup DeviceProtection  \\\n",
       "customerID                                                                \n",
       "7590-VHVEG             DSL             No          Yes               No   \n",
       "5575-GNVDE             DSL            Yes           No              Yes   \n",
       "3668-QPYBK             DSL            Yes          Yes               No   \n",
       "7795-CFOCW             DSL            Yes           No              Yes   \n",
       "9237-HQITU     Fiber optic             No           No               No   \n",
       "\n",
       "           TechSupport StreamingTV StreamingMovies  \n",
       "customerID                                          \n",
       "7590-VHVEG          No          No              No  \n",
       "5575-GNVDE          No          No              No  \n",
       "3668-QPYBK          No          No              No  \n",
       "7795-CFOCW         Yes          No              No  \n",
       "9237-HQITU          No          No              No  "
      ]
     },
     "execution_count": 20,
     "metadata": {},
     "output_type": "execute_result"
    }
   ],
   "source": [
    "df_telecom.head()"
   ]
  },
  {
   "cell_type": "markdown",
   "metadata": {},
   "source": [
    "Выведем информацию о новом датафрейме."
   ]
  },
  {
   "cell_type": "code",
   "execution_count": 21,
   "metadata": {},
   "outputs": [
    {
     "name": "stdout",
     "output_type": "stream",
     "text": [
      "<class 'pandas.core.frame.DataFrame'>\n",
      "Index: 7043 entries, 7590-VHVEG to 3186-AJIEK\n",
      "Data columns (total 19 columns):\n",
      " #   Column            Non-Null Count  Dtype         \n",
      "---  ------            --------------  -----         \n",
      " 0   BeginDate         7043 non-null   datetime64[ns]\n",
      " 1   EndDate           7043 non-null   object        \n",
      " 2   Type              7043 non-null   object        \n",
      " 3   PaperlessBilling  7043 non-null   object        \n",
      " 4   PaymentMethod     7043 non-null   object        \n",
      " 5   MonthlyCharges    7043 non-null   int32         \n",
      " 6   TotalCharges      7043 non-null   int32         \n",
      " 7   MultipleLines     6361 non-null   object        \n",
      " 8   gender            7043 non-null   object        \n",
      " 9   SeniorCitizen     7043 non-null   object        \n",
      " 10  Partner           7043 non-null   object        \n",
      " 11  Dependents        7043 non-null   object        \n",
      " 12  InternetService   5517 non-null   object        \n",
      " 13  OnlineSecurity    5517 non-null   object        \n",
      " 14  OnlineBackup      5517 non-null   object        \n",
      " 15  DeviceProtection  5517 non-null   object        \n",
      " 16  TechSupport       5517 non-null   object        \n",
      " 17  StreamingTV       5517 non-null   object        \n",
      " 18  StreamingMovies   5517 non-null   object        \n",
      "dtypes: datetime64[ns](1), int32(2), object(16)\n",
      "memory usage: 1.3+ MB\n"
     ]
    }
   ],
   "source": [
    "df_telecom.info()"
   ]
  },
  {
   "cell_type": "markdown",
   "metadata": {},
   "source": [
    "Так как не все пользователи пользуются всеми услугами, которые предоставляет оператор связи, возникли пропуски. Позже заполним их значением соответствующим \"NoUsed\"."
   ]
  },
  {
   "cell_type": "markdown",
   "metadata": {},
   "source": [
    "Выделим целевой признак и проверим баланс его классов."
   ]
  },
  {
   "cell_type": "code",
   "execution_count": 22,
   "metadata": {},
   "outputs": [
    {
     "data": {
      "text/plain": [
       "0    0.843675\n",
       "1    0.156325\n",
       "Name: escape_client, dtype: float64"
      ]
     },
     "execution_count": 22,
     "metadata": {},
     "output_type": "execute_result"
    }
   ],
   "source": [
    "df_telecom['escape_client'] = (df_telecom['EndDate'] != \"No\") * 1\n",
    "df_telecom['escape_client'].value_counts(normalize=True)"
   ]
  },
  {
   "cell_type": "markdown",
   "metadata": {},
   "source": [
    "Присутствует дисбаланс классов (84/16)."
   ]
  },
  {
   "cell_type": "markdown",
   "metadata": {},
   "source": [
    "Поставим \"заглушку\" в поле `EndDate` (дату актуальности датасета - 2020-02-01) и приведем к типу *datetime* для будущих вычислений."
   ]
  },
  {
   "cell_type": "code",
   "execution_count": 23,
   "metadata": {},
   "outputs": [],
   "source": [
    "df_telecom['EndDate'] = df_telecom['EndDate'].replace(['No'], ['2020-02-01'])\n",
    "df_telecom['EndDate'] = pd.to_datetime(df_telecom['EndDate'],format = '%Y-%m-%d')"
   ]
  },
  {
   "cell_type": "code",
   "execution_count": 24,
   "metadata": {},
   "outputs": [],
   "source": [
    "# здесь и далее - размер всех графиков\n",
    "plt.rcParams[\"figure.figsize\"] = (12,7)"
   ]
  },
  {
   "cell_type": "markdown",
   "metadata": {},
   "source": [
    "Рассмотрим распределение ежемесячных трат пользователей."
   ]
  },
  {
   "cell_type": "code",
   "execution_count": 25,
   "metadata": {},
   "outputs": [
    {
     "data": {
      "image/png": "[encoded data removed]",
      "text/plain": [
       "<Figure size 1200x700 with 1 Axes>"
      ]
     },
     "metadata": {},
     "output_type": "display_data"
    }
   ],
   "source": [
    "sns.histplot(df_telecom['MonthlyCharges'])\n",
    "plt.title('Распределение значений месячных трат')\n",
    "plt.xlabel('Месячные траты')\n",
    "plt.ylabel('Частота появления в датасете');"
   ]
  },
  {
   "cell_type": "markdown",
   "metadata": {},
   "source": [
    "По распределению значений месячных трат выделяются три основные группы клиентов:\n",
    "\n",
    "- с месячными тратами со значениями 20-30;\n",
    "- с месячными тратами со значениями 30-70;\n",
    "- с месячными тратами со значениями 70-120."
   ]
  },
  {
   "cell_type": "markdown",
   "metadata": {},
   "source": [
    "Рассмотрим распределение значений суммарных трат."
   ]
  },
  {
   "cell_type": "code",
   "execution_count": 26,
   "metadata": {},
   "outputs": [
    {
     "data": {
      "image/png": "[encoded data removed]",
      "text/plain": [
       "<Figure size 1200x700 with 1 Axes>"
      ]
     },
     "metadata": {},
     "output_type": "display_data"
    }
   ],
   "source": [
    "sns.histplot(df_telecom['TotalCharges'])\n",
    "plt.title('Распределение значений суммарных трат')\n",
    "plt.xlabel('Суммарные траты')\n",
    "plt.ylabel('Частота появления в датасете');"
   ]
  },
  {
   "cell_type": "markdown",
   "metadata": {},
   "source": [
    "В распределении есть неявные пропуски, попробуем выяснить их природу."
   ]
  },
  {
   "cell_type": "code",
   "execution_count": 27,
   "metadata": {},
   "outputs": [
    {
     "data": {
      "text/html": [
       "<div>\n",
       "<style scoped>\n",
       "    .dataframe tbody tr th:only-of-type {\n",
       "        vertical-align: middle;\n",
       "    }\n",
       "\n",
       "    .dataframe tbody tr th {\n",
       "        vertical-align: top;\n",
       "    }\n",
       "\n",
       "    .dataframe thead th {\n",
       "        text-align: right;\n",
       "    }\n",
       "</style>\n",
       "<table border=\"1\" class=\"dataframe\">\n",
       "  <thead>\n",
       "    <tr style=\"text-align: right;\">\n",
       "      <th></th>\n",
       "      <th>BeginDate</th>\n",
       "      <th>EndDate</th>\n",
       "      <th>Type</th>\n",
       "      <th>PaperlessBilling</th>\n",
       "      <th>PaymentMethod</th>\n",
       "      <th>MonthlyCharges</th>\n",
       "      <th>TotalCharges</th>\n",
       "      <th>MultipleLines</th>\n",
       "      <th>gender</th>\n",
       "      <th>SeniorCitizen</th>\n",
       "      <th>Partner</th>\n",
       "      <th>Dependents</th>\n",
       "      <th>InternetService</th>\n",
       "      <th>OnlineSecurity</th>\n",
       "      <th>OnlineBackup</th>\n",
       "      <th>DeviceProtection</th>\n",
       "      <th>TechSupport</th>\n",
       "      <th>StreamingTV</th>\n",
       "      <th>StreamingMovies</th>\n",
       "      <th>escape_client</th>\n",
       "    </tr>\n",
       "    <tr>\n",
       "      <th>customerID</th>\n",
       "      <th></th>\n",
       "      <th></th>\n",
       "      <th></th>\n",
       "      <th></th>\n",
       "      <th></th>\n",
       "      <th></th>\n",
       "      <th></th>\n",
       "      <th></th>\n",
       "      <th></th>\n",
       "      <th></th>\n",
       "      <th></th>\n",
       "      <th></th>\n",
       "      <th></th>\n",
       "      <th></th>\n",
       "      <th></th>\n",
       "      <th></th>\n",
       "      <th></th>\n",
       "      <th></th>\n",
       "      <th></th>\n",
       "      <th></th>\n",
       "    </tr>\n",
       "  </thead>\n",
       "  <tbody>\n",
       "    <tr>\n",
       "      <th>4472-LVYGI</th>\n",
       "      <td>2020-02-01</td>\n",
       "      <td>2020-02-01</td>\n",
       "      <td>Two year</td>\n",
       "      <td>Yes</td>\n",
       "      <td>Bank transfer (automatic)</td>\n",
       "      <td>52</td>\n",
       "      <td>0</td>\n",
       "      <td>NaN</td>\n",
       "      <td>Female</td>\n",
       "      <td>No</td>\n",
       "      <td>Yes</td>\n",
       "      <td>Yes</td>\n",
       "      <td>DSL</td>\n",
       "      <td>Yes</td>\n",
       "      <td>No</td>\n",
       "      <td>Yes</td>\n",
       "      <td>Yes</td>\n",
       "      <td>Yes</td>\n",
       "      <td>No</td>\n",
       "      <td>0</td>\n",
       "    </tr>\n",
       "    <tr>\n",
       "      <th>3115-CZMZD</th>\n",
       "      <td>2020-02-01</td>\n",
       "      <td>2020-02-01</td>\n",
       "      <td>Two year</td>\n",
       "      <td>No</td>\n",
       "      <td>Mailed check</td>\n",
       "      <td>20</td>\n",
       "      <td>0</td>\n",
       "      <td>No</td>\n",
       "      <td>Male</td>\n",
       "      <td>No</td>\n",
       "      <td>No</td>\n",
       "      <td>Yes</td>\n",
       "      <td>NaN</td>\n",
       "      <td>NaN</td>\n",
       "      <td>NaN</td>\n",
       "      <td>NaN</td>\n",
       "      <td>NaN</td>\n",
       "      <td>NaN</td>\n",
       "      <td>NaN</td>\n",
       "      <td>0</td>\n",
       "    </tr>\n",
       "    <tr>\n",
       "      <th>5709-LVOEQ</th>\n",
       "      <td>2020-02-01</td>\n",
       "      <td>2020-02-01</td>\n",
       "      <td>Two year</td>\n",
       "      <td>No</td>\n",
       "      <td>Mailed check</td>\n",
       "      <td>80</td>\n",
       "      <td>0</td>\n",
       "      <td>No</td>\n",
       "      <td>Female</td>\n",
       "      <td>No</td>\n",
       "      <td>Yes</td>\n",
       "      <td>Yes</td>\n",
       "      <td>DSL</td>\n",
       "      <td>Yes</td>\n",
       "      <td>Yes</td>\n",
       "      <td>Yes</td>\n",
       "      <td>No</td>\n",
       "      <td>Yes</td>\n",
       "      <td>Yes</td>\n",
       "      <td>0</td>\n",
       "    </tr>\n",
       "    <tr>\n",
       "      <th>4367-NUYAO</th>\n",
       "      <td>2020-02-01</td>\n",
       "      <td>2020-02-01</td>\n",
       "      <td>Two year</td>\n",
       "      <td>No</td>\n",
       "      <td>Mailed check</td>\n",
       "      <td>25</td>\n",
       "      <td>0</td>\n",
       "      <td>Yes</td>\n",
       "      <td>Male</td>\n",
       "      <td>No</td>\n",
       "      <td>Yes</td>\n",
       "      <td>Yes</td>\n",
       "      <td>NaN</td>\n",
       "      <td>NaN</td>\n",
       "      <td>NaN</td>\n",
       "      <td>NaN</td>\n",
       "      <td>NaN</td>\n",
       "      <td>NaN</td>\n",
       "      <td>NaN</td>\n",
       "      <td>0</td>\n",
       "    </tr>\n",
       "    <tr>\n",
       "      <th>1371-DWPAZ</th>\n",
       "      <td>2020-02-01</td>\n",
       "      <td>2020-02-01</td>\n",
       "      <td>Two year</td>\n",
       "      <td>No</td>\n",
       "      <td>Credit card (automatic)</td>\n",
       "      <td>56</td>\n",
       "      <td>0</td>\n",
       "      <td>NaN</td>\n",
       "      <td>Female</td>\n",
       "      <td>No</td>\n",
       "      <td>Yes</td>\n",
       "      <td>Yes</td>\n",
       "      <td>DSL</td>\n",
       "      <td>Yes</td>\n",
       "      <td>Yes</td>\n",
       "      <td>Yes</td>\n",
       "      <td>Yes</td>\n",
       "      <td>Yes</td>\n",
       "      <td>No</td>\n",
       "      <td>0</td>\n",
       "    </tr>\n",
       "    <tr>\n",
       "      <th>7644-OMVMY</th>\n",
       "      <td>2020-02-01</td>\n",
       "      <td>2020-02-01</td>\n",
       "      <td>Two year</td>\n",
       "      <td>No</td>\n",
       "      <td>Mailed check</td>\n",
       "      <td>19</td>\n",
       "      <td>0</td>\n",
       "      <td>No</td>\n",
       "      <td>Male</td>\n",
       "      <td>No</td>\n",
       "      <td>Yes</td>\n",
       "      <td>Yes</td>\n",
       "      <td>NaN</td>\n",
       "      <td>NaN</td>\n",
       "      <td>NaN</td>\n",
       "      <td>NaN</td>\n",
       "      <td>NaN</td>\n",
       "      <td>NaN</td>\n",
       "      <td>NaN</td>\n",
       "      <td>0</td>\n",
       "    </tr>\n",
       "    <tr>\n",
       "      <th>3213-VVOLG</th>\n",
       "      <td>2020-02-01</td>\n",
       "      <td>2020-02-01</td>\n",
       "      <td>Two year</td>\n",
       "      <td>No</td>\n",
       "      <td>Mailed check</td>\n",
       "      <td>25</td>\n",
       "      <td>0</td>\n",
       "      <td>Yes</td>\n",
       "      <td>Male</td>\n",
       "      <td>No</td>\n",
       "      <td>Yes</td>\n",
       "      <td>Yes</td>\n",
       "      <td>NaN</td>\n",
       "      <td>NaN</td>\n",
       "      <td>NaN</td>\n",
       "      <td>NaN</td>\n",
       "      <td>NaN</td>\n",
       "      <td>NaN</td>\n",
       "      <td>NaN</td>\n",
       "      <td>0</td>\n",
       "    </tr>\n",
       "    <tr>\n",
       "      <th>2520-SGTTA</th>\n",
       "      <td>2020-02-01</td>\n",
       "      <td>2020-02-01</td>\n",
       "      <td>Two year</td>\n",
       "      <td>No</td>\n",
       "      <td>Mailed check</td>\n",
       "      <td>20</td>\n",
       "      <td>0</td>\n",
       "      <td>No</td>\n",
       "      <td>Female</td>\n",
       "      <td>No</td>\n",
       "      <td>Yes</td>\n",
       "      <td>Yes</td>\n",
       "      <td>NaN</td>\n",
       "      <td>NaN</td>\n",
       "      <td>NaN</td>\n",
       "      <td>NaN</td>\n",
       "      <td>NaN</td>\n",
       "      <td>NaN</td>\n",
       "      <td>NaN</td>\n",
       "      <td>0</td>\n",
       "    </tr>\n",
       "    <tr>\n",
       "      <th>2923-ARZLG</th>\n",
       "      <td>2020-02-01</td>\n",
       "      <td>2020-02-01</td>\n",
       "      <td>One year</td>\n",
       "      <td>Yes</td>\n",
       "      <td>Mailed check</td>\n",
       "      <td>19</td>\n",
       "      <td>0</td>\n",
       "      <td>No</td>\n",
       "      <td>Male</td>\n",
       "      <td>No</td>\n",
       "      <td>Yes</td>\n",
       "      <td>Yes</td>\n",
       "      <td>NaN</td>\n",
       "      <td>NaN</td>\n",
       "      <td>NaN</td>\n",
       "      <td>NaN</td>\n",
       "      <td>NaN</td>\n",
       "      <td>NaN</td>\n",
       "      <td>NaN</td>\n",
       "      <td>0</td>\n",
       "    </tr>\n",
       "    <tr>\n",
       "      <th>4075-WKNIU</th>\n",
       "      <td>2020-02-01</td>\n",
       "      <td>2020-02-01</td>\n",
       "      <td>Two year</td>\n",
       "      <td>No</td>\n",
       "      <td>Mailed check</td>\n",
       "      <td>73</td>\n",
       "      <td>0</td>\n",
       "      <td>Yes</td>\n",
       "      <td>Female</td>\n",
       "      <td>No</td>\n",
       "      <td>Yes</td>\n",
       "      <td>Yes</td>\n",
       "      <td>DSL</td>\n",
       "      <td>No</td>\n",
       "      <td>Yes</td>\n",
       "      <td>Yes</td>\n",
       "      <td>Yes</td>\n",
       "      <td>Yes</td>\n",
       "      <td>No</td>\n",
       "      <td>0</td>\n",
       "    </tr>\n",
       "    <tr>\n",
       "      <th>2775-SEFEE</th>\n",
       "      <td>2020-02-01</td>\n",
       "      <td>2020-02-01</td>\n",
       "      <td>Two year</td>\n",
       "      <td>Yes</td>\n",
       "      <td>Bank transfer (automatic)</td>\n",
       "      <td>61</td>\n",
       "      <td>0</td>\n",
       "      <td>Yes</td>\n",
       "      <td>Male</td>\n",
       "      <td>No</td>\n",
       "      <td>No</td>\n",
       "      <td>Yes</td>\n",
       "      <td>DSL</td>\n",
       "      <td>Yes</td>\n",
       "      <td>Yes</td>\n",
       "      <td>No</td>\n",
       "      <td>Yes</td>\n",
       "      <td>No</td>\n",
       "      <td>No</td>\n",
       "      <td>0</td>\n",
       "    </tr>\n",
       "  </tbody>\n",
       "</table>\n",
       "</div>"
      ],
      "text/plain": [
       "            BeginDate    EndDate      Type PaperlessBilling  \\\n",
       "customerID                                                    \n",
       "4472-LVYGI 2020-02-01 2020-02-01  Two year              Yes   \n",
       "3115-CZMZD 2020-02-01 2020-02-01  Two year               No   \n",
       "5709-LVOEQ 2020-02-01 2020-02-01  Two year               No   \n",
       "4367-NUYAO 2020-02-01 2020-02-01  Two year               No   \n",
       "1371-DWPAZ 2020-02-01 2020-02-01  Two year               No   \n",
       "7644-OMVMY 2020-02-01 2020-02-01  Two year               No   \n",
       "3213-VVOLG 2020-02-01 2020-02-01  Two year               No   \n",
       "2520-SGTTA 2020-02-01 2020-02-01  Two year               No   \n",
       "2923-ARZLG 2020-02-01 2020-02-01  One year              Yes   \n",
       "4075-WKNIU 2020-02-01 2020-02-01  Two year               No   \n",
       "2775-SEFEE 2020-02-01 2020-02-01  Two year              Yes   \n",
       "\n",
       "                        PaymentMethod  MonthlyCharges  TotalCharges  \\\n",
       "customerID                                                            \n",
       "4472-LVYGI  Bank transfer (automatic)              52             0   \n",
       "3115-CZMZD               Mailed check              20             0   \n",
       "5709-LVOEQ               Mailed check              80             0   \n",
       "4367-NUYAO               Mailed check              25             0   \n",
       "1371-DWPAZ    Credit card (automatic)              56             0   \n",
       "7644-OMVMY               Mailed check              19             0   \n",
       "3213-VVOLG               Mailed check              25             0   \n",
       "2520-SGTTA               Mailed check              20             0   \n",
       "2923-ARZLG               Mailed check              19             0   \n",
       "4075-WKNIU               Mailed check              73             0   \n",
       "2775-SEFEE  Bank transfer (automatic)              61             0   \n",
       "\n",
       "           MultipleLines  gender SeniorCitizen Partner Dependents  \\\n",
       "customerID                                                          \n",
       "4472-LVYGI           NaN  Female            No     Yes        Yes   \n",
       "3115-CZMZD            No    Male            No      No        Yes   \n",
       "5709-LVOEQ            No  Female            No     Yes        Yes   \n",
       "4367-NUYAO           Yes    Male            No     Yes        Yes   \n",
       "1371-DWPAZ           NaN  Female            No     Yes        Yes   \n",
       "7644-OMVMY            No    Male            No     Yes        Yes   \n",
       "3213-VVOLG           Yes    Male            No     Yes        Yes   \n",
       "2520-SGTTA            No  Female            No     Yes        Yes   \n",
       "2923-ARZLG            No    Male            No     Yes        Yes   \n",
       "4075-WKNIU           Yes  Female            No     Yes        Yes   \n",
       "2775-SEFEE           Yes    Male            No      No        Yes   \n",
       "\n",
       "           InternetService OnlineSecurity OnlineBackup DeviceProtection  \\\n",
       "customerID                                                                \n",
       "4472-LVYGI             DSL            Yes           No              Yes   \n",
       "3115-CZMZD             NaN            NaN          NaN              NaN   \n",
       "5709-LVOEQ             DSL            Yes          Yes              Yes   \n",
       "4367-NUYAO             NaN            NaN          NaN              NaN   \n",
       "1371-DWPAZ             DSL            Yes          Yes              Yes   \n",
       "7644-OMVMY             NaN            NaN          NaN              NaN   \n",
       "3213-VVOLG             NaN            NaN          NaN              NaN   \n",
       "2520-SGTTA             NaN            NaN          NaN              NaN   \n",
       "2923-ARZLG             NaN            NaN          NaN              NaN   \n",
       "4075-WKNIU             DSL             No          Yes              Yes   \n",
       "2775-SEFEE             DSL            Yes          Yes               No   \n",
       "\n",
       "           TechSupport StreamingTV StreamingMovies  escape_client  \n",
       "customerID                                                         \n",
       "4472-LVYGI         Yes         Yes              No              0  \n",
       "3115-CZMZD         NaN         NaN             NaN              0  \n",
       "5709-LVOEQ          No         Yes             Yes              0  \n",
       "4367-NUYAO         NaN         NaN             NaN              0  \n",
       "1371-DWPAZ         Yes         Yes              No              0  \n",
       "7644-OMVMY         NaN         NaN             NaN              0  \n",
       "3213-VVOLG         NaN         NaN             NaN              0  \n",
       "2520-SGTTA         NaN         NaN             NaN              0  \n",
       "2923-ARZLG         NaN         NaN             NaN              0  \n",
       "4075-WKNIU         Yes         Yes              No              0  \n",
       "2775-SEFEE         Yes          No              No              0  "
      ]
     },
     "execution_count": 27,
     "metadata": {},
     "output_type": "execute_result"
    }
   ],
   "source": [
    "df_telecom.loc[df_telecom['TotalCharges'] == 0]"
   ]
  },
  {
   "cell_type": "markdown",
   "metadata": {},
   "source": [
    "Это клиенты, начавшие пользоваться услугами в феврале 2020 года, в этом случае суммарные траты равны месячным (дата актуальности датасета - 2020-02-01):"
   ]
  },
  {
   "cell_type": "code",
   "execution_count": 28,
   "metadata": {},
   "outputs": [],
   "source": [
    "df_telecom.loc[df_telecom['TotalCharges'] == 0, 'TotalCharges'] = df_telecom['MonthlyCharges']"
   ]
  },
  {
   "cell_type": "markdown",
   "metadata": {},
   "source": [
    "Изучим подробнее дату регистрации клиентов."
   ]
  },
  {
   "cell_type": "code",
   "execution_count": 29,
   "metadata": {},
   "outputs": [
    {
     "data": {
      "image/png": "[encoded data removed]",
      "text/plain": [
       "<Figure size 1200x700 with 1 Axes>"
      ]
     },
     "metadata": {},
     "output_type": "display_data"
    }
   ],
   "source": [
    "sns.histplot(df_telecom['BeginDate'])\n",
    "plt.title('Распределение фактов регистрации клиентов во времени')\n",
    "plt.xlabel('Дата')\n",
    "plt.ylabel('Частота появления в датасете');"
   ]
  },
  {
   "cell_type": "markdown",
   "metadata": {},
   "source": [
    "Наблюдается пик в начале 2014 года, что связано с началом работы компании. С начала 2015 по конец 2018 года - величина новых клиентов стабильна. С начала 2019 по начало 2020 года снова наблюдается бурный рост количества новых клиентов."
   ]
  },
  {
   "cell_type": "markdown",
   "metadata": {},
   "source": [
    "Рассмотрим распределение оттока клиентов во времени."
   ]
  },
  {
   "cell_type": "code",
   "execution_count": 30,
   "metadata": {},
   "outputs": [
    {
     "data": {
      "image/png": "[encoded data removed]",
      "text/plain": [
       "<Figure size 1200x700 with 1 Axes>"
      ]
     },
     "metadata": {},
     "output_type": "display_data"
    }
   ],
   "source": [
    "sns.histplot(df_telecom[df_telecom['EndDate'] != '2020-02-01']['EndDate'])\n",
    "plt.title('Распределение оттока клиентов во времени')\n",
    "plt.xlabel('Дата')\n",
    "plt.ylabel('Частота появления в датасете');"
   ]
  },
  {
   "cell_type": "markdown",
   "metadata": {},
   "source": [
    "Как видно на графике, начиная с 2016 года число ушедших пользователей значительно увеличилось с начала работы компании. Начиная с 2017 года это число держится примерно на одном уровне. Начало 2020 года можно не рассматрвать, так как в датафрейме у всех действующих пользователей в столбце `EndDate` записана дата акктуальности датасета (2020-02-01)."
   ]
  },
  {
   "cell_type": "markdown",
   "metadata": {},
   "source": [
    "#### Анализ категориальных признаков"
   ]
  },
  {
   "cell_type": "code",
   "execution_count": 31,
   "metadata": {},
   "outputs": [
    {
     "name": "stdout",
     "output_type": "stream",
     "text": [
      "Type:\n",
      "Month-to-month - 55.01916796819537\n",
      "One year - 20.914383075394007\n",
      "Two year - 24.06644895641062\n",
      "--------------------------------------------------\n",
      "PaperlessBilling:\n",
      "Yes - 59.22192247621752\n",
      "No - 40.77807752378248\n"
     ]
    },
    {
     "data": {
      "image/png": "[encoded data removed]",
      "text/plain": [
       "<Figure size 1200x400 with 2 Axes>"
      ]
     },
     "metadata": {},
     "output_type": "display_data"
    },
    {
     "name": "stdout",
     "output_type": "stream",
     "text": [
      "--------------------------------------------------------------------------------------------------------------------------------------------------------------------------------------------------------\n",
      "PaymentMethod:\n",
      "Electronic check - 33.57944057929859\n",
      "Mailed check - 22.887973874769273\n",
      "Bank transfer (automatic) - 21.92247621752094\n",
      "Credit card (automatic) - 21.610109328411188\n",
      "--------------------------------------------------\n",
      "MultipleLines:\n",
      "nan - 0.0\n",
      "No - 53.29350731017136\n",
      "Yes - 46.70649268982864\n"
     ]
    },
    {
     "data": {
      "image/png": "[encoded data removed]",
      "text/plain": [
       "<Figure size 1200x400 with 2 Axes>"
      ]
     },
     "metadata": {},
     "output_type": "display_data"
    },
    {
     "name": "stdout",
     "output_type": "stream",
     "text": [
      "--------------------------------------------------------------------------------------------------------------------------------------------------------------------------------------------------------\n",
      "gender:\n",
      "Female - 49.524350418855605\n",
      "Male - 50.475649581144395\n",
      "--------------------------------------------------\n",
      "SeniorCitizen:\n",
      "No - 83.78531875621184\n",
      "Yes - 16.21468124378816\n"
     ]
    },
    {
     "data": {
      "image/png": "[encoded data removed]",
      "text/plain": [
       "<Figure size 1200x400 with 2 Axes>"
      ]
     },
     "metadata": {},
     "output_type": "display_data"
    },
    {
     "name": "stdout",
     "output_type": "stream",
     "text": [
      "--------------------------------------------------------------------------------------------------------------------------------------------------------------------------------------------------------\n",
      "Partner:\n",
      "Yes - 48.30327985233565\n",
      "No - 51.69672014766435\n",
      "--------------------------------------------------\n",
      "Dependents:\n",
      "No - 70.04117563538264\n",
      "Yes - 29.95882436461735\n"
     ]
    },
    {
     "data": {
      "image/png": "[encoded data removed]",
      "text/plain": [
       "<Figure size 1200x400 with 2 Axes>"
      ]
     },
     "metadata": {},
     "output_type": "display_data"
    },
    {
     "name": "stdout",
     "output_type": "stream",
     "text": [
      "--------------------------------------------------------------------------------------------------------------------------------------------------------------------------------------------------------\n",
      "InternetService:\n",
      "DSL - 43.882544861337685\n",
      "Fiber optic - 56.117455138662315\n",
      "nan - 0.0\n",
      "--------------------------------------------------\n",
      "OnlineSecurity:\n",
      "No - 63.40402392604676\n",
      "Yes - 36.59597607395324\n",
      "nan - 0.0\n"
     ]
    },
    {
     "data": {
      "image/png": "[encoded data removed]",
      "text/plain": [
       "<Figure size 1200x400 with 2 Axes>"
      ]
     },
     "metadata": {},
     "output_type": "display_data"
    },
    {
     "name": "stdout",
     "output_type": "stream",
     "text": [
      "--------------------------------------------------------------------------------------------------------------------------------------------------------------------------------------------------------\n",
      "OnlineBackup:\n",
      "Yes - 44.027551205365235\n",
      "No - 55.972448794634765\n",
      "nan - 0.0\n",
      "--------------------------------------------------\n",
      "DeviceProtection:\n",
      "No - 56.09932934565887\n",
      "Yes - 43.90067065434113\n",
      "nan - 0.0\n"
     ]
    },
    {
     "data": {
      "image/png": "[encoded data removed]",
      "text/plain": [
       "<Figure size 1200x400 with 2 Axes>"
      ]
     },
     "metadata": {},
     "output_type": "display_data"
    },
    {
     "name": "stdout",
     "output_type": "stream",
     "text": [
      "--------------------------------------------------------------------------------------------------------------------------------------------------------------------------------------------------------\n",
      "TechSupport:\n",
      "No - 62.95087910096067\n",
      "Yes - 37.04912089903933\n",
      "nan - 0.0\n",
      "--------------------------------------------------\n",
      "StreamingTV:\n",
      "No - 50.93347833967736\n",
      "Yes - 49.06652166032264\n",
      "nan - 0.0\n"
     ]
    },
    {
     "data": {
      "image/png": "[encoded data removed]",
      "text/plain": [
       "<Figure size 1200x400 with 2 Axes>"
      ]
     },
     "metadata": {},
     "output_type": "display_data"
    },
    {
     "name": "stdout",
     "output_type": "stream",
     "text": [
      "--------------------------------------------------------------------------------------------------------------------------------------------------------------------------------------------------------\n",
      "StreamingMovies:\n",
      "No - 50.480333514591265\n",
      "Yes - 49.519666485408735\n",
      "nan - 0.0\n",
      "--------------------------------------------------\n",
      "escape_client:\n",
      "0 - 84.36745704955274\n",
      "1 - 15.632542950447252\n"
     ]
    },
    {
     "data": {
      "image/png": "[encoded data removed]",
      "text/plain": [
       "<Figure size 1200x400 with 2 Axes>"
      ]
     },
     "metadata": {},
     "output_type": "display_data"
    },
    {
     "name": "stdout",
     "output_type": "stream",
     "text": [
      "--------------------------------------------------------------------------------------------------------------------------------------------------------------------------------------------------------\n"
     ]
    }
   ],
   "source": [
    "def percent_of_total_amount(df, column):\n",
    "    parts_column = len(df[column].unique())\n",
    "    len_all_column = df[column].count()\n",
    "    for i in range(parts_column):\n",
    "        uniqu_column = df[column].unique()[i]\n",
    "        print(uniqu_column, '-', (len(df[df[column] == uniqu_column])*100)/len_all_column)\n",
    "\n",
    "cat_col = list(filter(lambda a: a not in ['MonthlyCharges',\n",
    "                                          'TotalCharges',\n",
    "                                          'BeginDate',\n",
    "                                          'EndDate'] , df_telecom.columns))\n",
    "\n",
    "for i in range(0, len(cat_col)-1, 2):\n",
    "    fig, ax = plt.subplots(1, 2, figsize=(12, 4))\n",
    "    ax[0].set_title(f'Count of {cat_col[i]}')\n",
    "    print(f'{cat_col[i]}:')\n",
    "    percent_of_total_amount(df_telecom, cat_col[i])\n",
    "    print('-'*50)\n",
    "    ax[1].set_title(f'Count of {cat_col[i+1]}')\n",
    "    print(f'{cat_col[i+1]}:')\n",
    "    percent_of_total_amount(df_telecom, cat_col[i+1])\n",
    "\n",
    "    sns.countplot(data = df_telecom, y = df_telecom[cat_col[i]], ax=ax[0])\n",
    "    sns.countplot(data = df_telecom, y = df_telecom[cat_col[i+1]], ax=ax[1])\n",
    "\n",
    "    ax[0].set_ylabel('')\n",
    "    ax[1].set_ylabel('')\n",
    "    fig.tight_layout()\n",
    "\n",
    "\n",
    "    plt.show()\n",
    "    print('-'*200)"
   ]
  },
  {
   "cell_type": "markdown",
   "metadata": {},
   "source": [
    "Из категориальных характеристик объедененного датафрейма можно выделить следующее:\n",
    "\n",
    "- 59% пользователей предпочитают безналичный расчет;\n",
    "\n",
    "- 16% пользователей - пенсионеров, 48% - имеют супруга(у), у 30% - имеются иждевенцы. Виден баланс классов гендера;\n",
    "\n",
    "- 44% пользователей используют интернет соединение через телефонную линию, 47% пользователей имеют возможность подключения телефонного аппарата к нескольким линиям одновременно;\n",
    "\n",
    "- Данные по услугам:\n",
    "\n",
    "|Услуга|Процент пользователей|\n",
    "|:-|:-|\n",
    "|Блокировка небезопасных сайтов (OnlineSecurity)|36%|\n",
    "|Облачное хранилище файлов для резервного копирования данных (OnlineBackup)|44%|\n",
    "|Антивирус (DeviceProtection)|45%|\n",
    "|Выделенная линия технической поддержки (TechSupport)|37%|\n",
    "|Стриминговое телевидение (StreamingTV)|49%|\n",
    "|Каталог фильмов (StreamingMovies)|49%|"
   ]
  },
  {
   "cell_type": "markdown",
   "metadata": {},
   "source": [
    "Создадим признак соответствующий длительности пользования клиентом услугами компании."
   ]
  },
  {
   "cell_type": "code",
   "execution_count": 32,
   "metadata": {},
   "outputs": [],
   "source": [
    "df_telecom['TotalTime'] = (df_telecom['EndDate'] - df_telecom['BeginDate']).dt.days"
   ]
  },
  {
   "cell_type": "code",
   "execution_count": 33,
   "metadata": {},
   "outputs": [
    {
     "name": "stdout",
     "output_type": "stream",
     "text": [
      "<class 'pandas.core.frame.DataFrame'>\n",
      "Index: 7043 entries, 7590-VHVEG to 3186-AJIEK\n",
      "Data columns (total 21 columns):\n",
      " #   Column            Non-Null Count  Dtype         \n",
      "---  ------            --------------  -----         \n",
      " 0   BeginDate         7043 non-null   datetime64[ns]\n",
      " 1   EndDate           7043 non-null   datetime64[ns]\n",
      " 2   Type              7043 non-null   object        \n",
      " 3   PaperlessBilling  7043 non-null   object        \n",
      " 4   PaymentMethod     7043 non-null   object        \n",
      " 5   MonthlyCharges    7043 non-null   int32         \n",
      " 6   TotalCharges      7043 non-null   int32         \n",
      " 7   MultipleLines     6361 non-null   object        \n",
      " 8   gender            7043 non-null   object        \n",
      " 9   SeniorCitizen     7043 non-null   object        \n",
      " 10  Partner           7043 non-null   object        \n",
      " 11  Dependents        7043 non-null   object        \n",
      " 12  InternetService   5517 non-null   object        \n",
      " 13  OnlineSecurity    5517 non-null   object        \n",
      " 14  OnlineBackup      5517 non-null   object        \n",
      " 15  DeviceProtection  5517 non-null   object        \n",
      " 16  TechSupport       5517 non-null   object        \n",
      " 17  StreamingTV       5517 non-null   object        \n",
      " 18  StreamingMovies   5517 non-null   object        \n",
      " 19  escape_client     7043 non-null   int32         \n",
      " 20  TotalTime         7043 non-null   int64         \n",
      "dtypes: datetime64[ns](2), int32(3), int64(1), object(15)\n",
      "memory usage: 1.4+ MB\n"
     ]
    }
   ],
   "source": [
    "df_telecom.info()"
   ]
  },
  {
   "cell_type": "markdown",
   "metadata": {},
   "source": [
    "Рассмотрим тепловую карту корреляции признаков."
   ]
  },
  {
   "cell_type": "code",
   "execution_count": 34,
   "metadata": {},
   "outputs": [
    {
     "data": {
      "image/png": "[encoded data removed]",
      "text/plain": [
       "<Figure size 1200x1200 with 2 Axes>"
      ]
     },
     "metadata": {},
     "output_type": "display_data"
    }
   ],
   "source": [
    "plt.figure(figsize=(15, 15), dpi= 80)\n",
    "hm = sns.heatmap(data=df_telecom.phik_matrix(interval_cols=['MonthlyCharges', 'TotalCharges', 'escape_client', 'TotalTime']), annot=True)\n",
    "plt.title(\"Тепловая карта корреляций в датафрейме\")\n",
    "plt.xlabel(\"Признаки\")\n",
    "plt.ylabel(\"Признаки\")\n",
    "plt.show();"
   ]
  },
  {
   "cell_type": "markdown",
   "metadata": {},
   "source": [
    "Имеется следующие высокие значения корреляции:\n",
    "\n",
    "- `MonthlyCharges` и `InternetService` (0.95);\n",
    "- `TotalCharges` и `TotalTime` (0.85).\n",
    "\n",
    "Необходимо избавиться от такой мультиколлинеарности, удалим те признаки, которые меньше всего коррелируют целевым признаком. Это будут признаки `InternetService` и `TotalCharges`.\n",
    "\n",
    "Так же корреляция около нуля со значением пола, этот признак тоже удалим."
   ]
  },
  {
   "cell_type": "markdown",
   "metadata": {},
   "source": [
    "Уберем строчку со значением пола."
   ]
  },
  {
   "cell_type": "code",
   "execution_count": 35,
   "metadata": {},
   "outputs": [],
   "source": [
    "df_telecom = df_telecom.drop(['gender', 'InternetService', 'TotalCharges'], axis=1)"
   ]
  },
  {
   "cell_type": "markdown",
   "metadata": {},
   "source": [
    "#### Подготовка данных для моделей"
   ]
  },
  {
   "cell_type": "markdown",
   "metadata": {},
   "source": [
    "Зафиксируем `random_state` для моделей."
   ]
  },
  {
   "cell_type": "code",
   "execution_count": 36,
   "metadata": {},
   "outputs": [],
   "source": [
    "STATE = 140823"
   ]
  },
  {
   "cell_type": "markdown",
   "metadata": {},
   "source": [
    "Удалим признаки с датами."
   ]
  },
  {
   "cell_type": "code",
   "execution_count": 37,
   "metadata": {},
   "outputs": [],
   "source": [
    "df_telecom = df_telecom.drop(['BeginDate', 'EndDate'], axis=1)"
   ]
  },
  {
   "cell_type": "code",
   "execution_count": 38,
   "metadata": {
    "scrolled": true
   },
   "outputs": [
    {
     "data": {
      "text/plain": [
       "(7043, 16)"
      ]
     },
     "execution_count": 38,
     "metadata": {},
     "output_type": "execute_result"
    }
   ],
   "source": [
    "df_telecom.shape"
   ]
  },
  {
   "cell_type": "markdown",
   "metadata": {},
   "source": [
    "Выделим целевой признак."
   ]
  },
  {
   "cell_type": "code",
   "execution_count": 39,
   "metadata": {},
   "outputs": [],
   "source": [
    "target = df_telecom['escape_client']"
   ]
  },
  {
   "cell_type": "markdown",
   "metadata": {},
   "source": [
    "И остальные признаки."
   ]
  },
  {
   "cell_type": "code",
   "execution_count": 40,
   "metadata": {},
   "outputs": [],
   "source": [
    "features = df_telecom.drop('escape_client', axis=1)"
   ]
  },
  {
   "cell_type": "markdown",
   "metadata": {},
   "source": [
    "Произведем деление на обучающую и тестовую выборки (соотношение 3:1)."
   ]
  },
  {
   "cell_type": "code",
   "execution_count": 41,
   "metadata": {},
   "outputs": [],
   "source": [
    "features_train, features_test, target_train, target_test = train_test_split(features,\n",
    "                                                                             target,\n",
    "                                                                             train_size=.75,\n",
    "                                                                             random_state=STATE)"
   ]
  },
  {
   "cell_type": "code",
   "execution_count": 42,
   "metadata": {},
   "outputs": [
    {
     "name": "stdout",
     "output_type": "stream",
     "text": [
      "Размер обучающей выборки: features - (5282, 15), target - (5282,)\n",
      "Размер тестовой выборки: features - (1761, 15), target - (1761,)\n"
     ]
    }
   ],
   "source": [
    "print(f'Размер обучающей выборки: features - {features_train.shape}, target - {target_train.shape}')\n",
    "print(f'Размер тестовой выборки: features - {features_test.shape}, target - {target_test.shape}')"
   ]
  },
  {
   "cell_type": "markdown",
   "metadata": {},
   "source": [
    "#### Кодрование признаков"
   ]
  },
  {
   "cell_type": "code",
   "execution_count": 43,
   "metadata": {},
   "outputs": [],
   "source": [
    "#Закодируем признаки типа `object` для модели дерева решений и градиентного спуска.\n",
    "encoder = OrdinalEncoder(handle_unknown='use_encoded_value', unknown_value=9999)"
   ]
  },
  {
   "cell_type": "code",
   "execution_count": 44,
   "metadata": {},
   "outputs": [],
   "source": [
    "tree_columns = df_telecom.select_dtypes(include=['object']).columns\n",
    "encoder.fit(features_train[tree_columns])\n",
    "\n",
    "features_train_ord = features_train.copy()\n",
    "features_test_ord = features_test.copy()\n",
    "\n",
    "features_train_ord[tree_columns] = encoder.transform(features_train_ord[tree_columns])\n",
    "features_test_ord[tree_columns] = encoder.transform(features_test_ord[tree_columns])"
   ]
  },
  {
   "cell_type": "code",
   "execution_count": 45,
   "metadata": {},
   "outputs": [],
   "source": [
    "#Кодирование для линейной модели\n",
    "ohe = OneHotEncoder(sparse=False, drop='first', handle_unknown='ignore')"
   ]
  },
  {
   "cell_type": "code",
   "execution_count": 46,
   "metadata": {},
   "outputs": [],
   "source": [
    "ohe.fit(features_train[tree_columns])\n",
    "\n",
    "def features_ohe(ohe_variable, df_features, features_categ):\n",
    "    df_features_ohe = pd.DataFrame(\n",
    "        data=ohe_variable.transform(df_features[features_categ]), \n",
    "        index=df_features.index,\n",
    "        columns=ohe_variable.get_feature_names_out()\n",
    "    )\n",
    "\n",
    "    df_features = df_features.drop(features_categ, axis=1)\n",
    "    df_features = df_features.join(df_features_ohe)\n",
    "    return df_features    \n",
    "\n",
    "features_train_ohe = features_ohe(ohe, features_train, tree_columns);\n",
    "features_test_ohe = features_ohe(ohe, features_test, tree_columns);"
   ]
  },
  {
   "cell_type": "markdown",
   "metadata": {},
   "source": [
    "#### Масштабирование"
   ]
  },
  {
   "cell_type": "markdown",
   "metadata": {},
   "source": [
    "Проведем масштабирование признаков, так как в разных столбцах находятся значения с разными разбросами."
   ]
  },
  {
   "cell_type": "code",
   "execution_count": 47,
   "metadata": {},
   "outputs": [
    {
     "data": {
      "text/html": [
       "<style>#sk-container-id-1 {color: black;}#sk-container-id-1 pre{padding: 0;}#sk-container-id-1 div.sk-toggleable {background-color: white;}#sk-container-id-1 label.sk-toggleable__label {cursor: pointer;display: block;width: 100%;margin-bottom: 0;padding: 0.3em;box-sizing: border-box;text-align: center;}#sk-container-id-1 label.sk-toggleable__label-arrow:before {content: \"▸\";float: left;margin-right: 0.25em;color: #696969;}#sk-container-id-1 label.sk-toggleable__label-arrow:hover:before {color: black;}#sk-container-id-1 div.sk-estimator:hover label.sk-toggleable__label-arrow:before {color: black;}#sk-container-id-1 div.sk-toggleable__content {max-height: 0;max-width: 0;overflow: hidden;text-align: left;background-color: #f0f8ff;}#sk-container-id-1 div.sk-toggleable__content pre {margin: 0.2em;color: black;border-radius: 0.25em;background-color: #f0f8ff;}#sk-container-id-1 input.sk-toggleable__control:checked~div.sk-toggleable__content {max-height: 200px;max-width: 100%;overflow: auto;}#sk-container-id-1 input.sk-toggleable__control:checked~label.sk-toggleable__label-arrow:before {content: \"▾\";}#sk-container-id-1 div.sk-estimator input.sk-toggleable__control:checked~label.sk-toggleable__label {background-color: #d4ebff;}#sk-container-id-1 div.sk-label input.sk-toggleable__control:checked~label.sk-toggleable__label {background-color: #d4ebff;}#sk-container-id-1 input.sk-hidden--visually {border: 0;clip: rect(1px 1px 1px 1px);clip: rect(1px, 1px, 1px, 1px);height: 1px;margin: -1px;overflow: hidden;padding: 0;position: absolute;width: 1px;}#sk-container-id-1 div.sk-estimator {font-family: monospace;background-color: #f0f8ff;border: 1px dotted black;border-radius: 0.25em;box-sizing: border-box;margin-bottom: 0.5em;}#sk-container-id-1 div.sk-estimator:hover {background-color: #d4ebff;}#sk-container-id-1 div.sk-parallel-item::after {content: \"\";width: 100%;border-bottom: 1px solid gray;flex-grow: 1;}#sk-container-id-1 div.sk-label:hover label.sk-toggleable__label {background-color: #d4ebff;}#sk-container-id-1 div.sk-serial::before {content: \"\";position: absolute;border-left: 1px solid gray;box-sizing: border-box;top: 0;bottom: 0;left: 50%;z-index: 0;}#sk-container-id-1 div.sk-serial {display: flex;flex-direction: column;align-items: center;background-color: white;padding-right: 0.2em;padding-left: 0.2em;position: relative;}#sk-container-id-1 div.sk-item {position: relative;z-index: 1;}#sk-container-id-1 div.sk-parallel {display: flex;align-items: stretch;justify-content: center;background-color: white;position: relative;}#sk-container-id-1 div.sk-item::before, #sk-container-id-1 div.sk-parallel-item::before {content: \"\";position: absolute;border-left: 1px solid gray;box-sizing: border-box;top: 0;bottom: 0;left: 50%;z-index: -1;}#sk-container-id-1 div.sk-parallel-item {display: flex;flex-direction: column;z-index: 1;position: relative;background-color: white;}#sk-container-id-1 div.sk-parallel-item:first-child::after {align-self: flex-end;width: 50%;}#sk-container-id-1 div.sk-parallel-item:last-child::after {align-self: flex-start;width: 50%;}#sk-container-id-1 div.sk-parallel-item:only-child::after {width: 0;}#sk-container-id-1 div.sk-dashed-wrapped {border: 1px dashed gray;margin: 0 0.4em 0.5em 0.4em;box-sizing: border-box;padding-bottom: 0.4em;background-color: white;}#sk-container-id-1 div.sk-label label {font-family: monospace;font-weight: bold;display: inline-block;line-height: 1.2em;}#sk-container-id-1 div.sk-label-container {text-align: center;}#sk-container-id-1 div.sk-container {/* jupyter's `normalize.less` sets `[hidden] { display: none; }` but bootstrap.min.css set `[hidden] { display: none !important; }` so we also need the `!important` here to be able to override the default hidden behavior on the sphinx rendered scikit-learn.org. See: https://github.com/scikit-learn/scikit-learn/issues/21755 */display: inline-block !important;position: relative;}#sk-container-id-1 div.sk-text-repr-fallback {display: none;}</style><div id=\"sk-container-id-1\" class=\"sk-top-container\"><div class=\"sk-text-repr-fallback\"><pre>StandardScaler()</pre><b>In a Jupyter environment, please rerun this cell to show the HTML representation or trust the notebook. <br />On GitHub, the HTML representation is unable to render, please try loading this page with nbviewer.org.</b></div><div class=\"sk-container\" hidden><div class=\"sk-item\"><div class=\"sk-estimator sk-toggleable\"><input class=\"sk-toggleable__control sk-hidden--visually\" id=\"sk-estimator-id-1\" type=\"checkbox\" checked><label for=\"sk-estimator-id-1\" class=\"sk-toggleable__label sk-toggleable__label-arrow\">StandardScaler</label><div class=\"sk-toggleable__content\"><pre>StandardScaler()</pre></div></div></div></div></div>"
      ],
      "text/plain": [
       "StandardScaler()"
      ]
     },
     "execution_count": 47,
     "metadata": {},
     "output_type": "execute_result"
    }
   ],
   "source": [
    "numeric = ['MonthlyCharges', 'TotalTime']\n",
    "\n",
    "scaler = StandardScaler()\n",
    "scaler.fit(features_train[numeric])"
   ]
  },
  {
   "cell_type": "code",
   "execution_count": 48,
   "metadata": {},
   "outputs": [
    {
     "data": {
      "text/html": [
       "<div>\n",
       "<style scoped>\n",
       "    .dataframe tbody tr th:only-of-type {\n",
       "        vertical-align: middle;\n",
       "    }\n",
       "\n",
       "    .dataframe tbody tr th {\n",
       "        vertical-align: top;\n",
       "    }\n",
       "\n",
       "    .dataframe thead th {\n",
       "        text-align: right;\n",
       "    }\n",
       "</style>\n",
       "<table border=\"1\" class=\"dataframe\">\n",
       "  <thead>\n",
       "    <tr style=\"text-align: right;\">\n",
       "      <th></th>\n",
       "      <th>MonthlyCharges</th>\n",
       "      <th>TotalTime</th>\n",
       "      <th>Type_One year</th>\n",
       "      <th>Type_Two year</th>\n",
       "      <th>PaperlessBilling_Yes</th>\n",
       "      <th>PaymentMethod_Credit card (automatic)</th>\n",
       "      <th>PaymentMethod_Electronic check</th>\n",
       "      <th>PaymentMethod_Mailed check</th>\n",
       "      <th>MultipleLines_Yes</th>\n",
       "      <th>MultipleLines_nan</th>\n",
       "      <th>...</th>\n",
       "      <th>OnlineBackup_Yes</th>\n",
       "      <th>OnlineBackup_nan</th>\n",
       "      <th>DeviceProtection_Yes</th>\n",
       "      <th>DeviceProtection_nan</th>\n",
       "      <th>TechSupport_Yes</th>\n",
       "      <th>TechSupport_nan</th>\n",
       "      <th>StreamingTV_Yes</th>\n",
       "      <th>StreamingTV_nan</th>\n",
       "      <th>StreamingMovies_Yes</th>\n",
       "      <th>StreamingMovies_nan</th>\n",
       "    </tr>\n",
       "    <tr>\n",
       "      <th>customerID</th>\n",
       "      <th></th>\n",
       "      <th></th>\n",
       "      <th></th>\n",
       "      <th></th>\n",
       "      <th></th>\n",
       "      <th></th>\n",
       "      <th></th>\n",
       "      <th></th>\n",
       "      <th></th>\n",
       "      <th></th>\n",
       "      <th></th>\n",
       "      <th></th>\n",
       "      <th></th>\n",
       "      <th></th>\n",
       "      <th></th>\n",
       "      <th></th>\n",
       "      <th></th>\n",
       "      <th></th>\n",
       "      <th></th>\n",
       "      <th></th>\n",
       "      <th></th>\n",
       "    </tr>\n",
       "  </thead>\n",
       "  <tbody>\n",
       "    <tr>\n",
       "      <th>2082-CEFLT</th>\n",
       "      <td>-0.638433</td>\n",
       "      <td>-1.101961</td>\n",
       "      <td>0.0</td>\n",
       "      <td>0.0</td>\n",
       "      <td>1.0</td>\n",
       "      <td>0.0</td>\n",
       "      <td>1.0</td>\n",
       "      <td>0.0</td>\n",
       "      <td>0.0</td>\n",
       "      <td>0.0</td>\n",
       "      <td>...</td>\n",
       "      <td>0.0</td>\n",
       "      <td>0.0</td>\n",
       "      <td>0.0</td>\n",
       "      <td>0.0</td>\n",
       "      <td>0.0</td>\n",
       "      <td>0.0</td>\n",
       "      <td>0.0</td>\n",
       "      <td>0.0</td>\n",
       "      <td>0.0</td>\n",
       "      <td>0.0</td>\n",
       "    </tr>\n",
       "    <tr>\n",
       "      <th>5027-XWQHA</th>\n",
       "      <td>-0.671750</td>\n",
       "      <td>-0.919811</td>\n",
       "      <td>0.0</td>\n",
       "      <td>0.0</td>\n",
       "      <td>0.0</td>\n",
       "      <td>0.0</td>\n",
       "      <td>1.0</td>\n",
       "      <td>0.0</td>\n",
       "      <td>0.0</td>\n",
       "      <td>0.0</td>\n",
       "      <td>...</td>\n",
       "      <td>0.0</td>\n",
       "      <td>0.0</td>\n",
       "      <td>0.0</td>\n",
       "      <td>0.0</td>\n",
       "      <td>0.0</td>\n",
       "      <td>0.0</td>\n",
       "      <td>0.0</td>\n",
       "      <td>0.0</td>\n",
       "      <td>0.0</td>\n",
       "      <td>0.0</td>\n",
       "    </tr>\n",
       "    <tr>\n",
       "      <th>6941-KXRRV</th>\n",
       "      <td>-0.205313</td>\n",
       "      <td>0.835053</td>\n",
       "      <td>1.0</td>\n",
       "      <td>0.0</td>\n",
       "      <td>1.0</td>\n",
       "      <td>0.0</td>\n",
       "      <td>0.0</td>\n",
       "      <td>0.0</td>\n",
       "      <td>0.0</td>\n",
       "      <td>0.0</td>\n",
       "      <td>...</td>\n",
       "      <td>1.0</td>\n",
       "      <td>0.0</td>\n",
       "      <td>0.0</td>\n",
       "      <td>0.0</td>\n",
       "      <td>0.0</td>\n",
       "      <td>0.0</td>\n",
       "      <td>0.0</td>\n",
       "      <td>0.0</td>\n",
       "      <td>1.0</td>\n",
       "      <td>0.0</td>\n",
       "    </tr>\n",
       "    <tr>\n",
       "      <th>4716-MRVEN</th>\n",
       "      <td>-1.471355</td>\n",
       "      <td>-0.020906</td>\n",
       "      <td>1.0</td>\n",
       "      <td>0.0</td>\n",
       "      <td>0.0</td>\n",
       "      <td>0.0</td>\n",
       "      <td>0.0</td>\n",
       "      <td>1.0</td>\n",
       "      <td>0.0</td>\n",
       "      <td>0.0</td>\n",
       "      <td>...</td>\n",
       "      <td>0.0</td>\n",
       "      <td>1.0</td>\n",
       "      <td>0.0</td>\n",
       "      <td>1.0</td>\n",
       "      <td>0.0</td>\n",
       "      <td>1.0</td>\n",
       "      <td>0.0</td>\n",
       "      <td>1.0</td>\n",
       "      <td>0.0</td>\n",
       "      <td>1.0</td>\n",
       "    </tr>\n",
       "    <tr>\n",
       "      <th>8645-KWHJO</th>\n",
       "      <td>-0.305264</td>\n",
       "      <td>-0.696195</td>\n",
       "      <td>0.0</td>\n",
       "      <td>0.0</td>\n",
       "      <td>1.0</td>\n",
       "      <td>0.0</td>\n",
       "      <td>1.0</td>\n",
       "      <td>0.0</td>\n",
       "      <td>0.0</td>\n",
       "      <td>1.0</td>\n",
       "      <td>...</td>\n",
       "      <td>0.0</td>\n",
       "      <td>0.0</td>\n",
       "      <td>1.0</td>\n",
       "      <td>0.0</td>\n",
       "      <td>1.0</td>\n",
       "      <td>0.0</td>\n",
       "      <td>1.0</td>\n",
       "      <td>0.0</td>\n",
       "      <td>1.0</td>\n",
       "      <td>0.0</td>\n",
       "    </tr>\n",
       "  </tbody>\n",
       "</table>\n",
       "<p>5 rows × 25 columns</p>\n",
       "</div>"
      ],
      "text/plain": [
       "            MonthlyCharges  TotalTime  Type_One year  Type_Two year  \\\n",
       "customerID                                                            \n",
       "2082-CEFLT       -0.638433  -1.101961            0.0            0.0   \n",
       "5027-XWQHA       -0.671750  -0.919811            0.0            0.0   \n",
       "6941-KXRRV       -0.205313   0.835053            1.0            0.0   \n",
       "4716-MRVEN       -1.471355  -0.020906            1.0            0.0   \n",
       "8645-KWHJO       -0.305264  -0.696195            0.0            0.0   \n",
       "\n",
       "            PaperlessBilling_Yes  PaymentMethod_Credit card (automatic)  \\\n",
       "customerID                                                                \n",
       "2082-CEFLT                   1.0                                    0.0   \n",
       "5027-XWQHA                   0.0                                    0.0   \n",
       "6941-KXRRV                   1.0                                    0.0   \n",
       "4716-MRVEN                   0.0                                    0.0   \n",
       "8645-KWHJO                   1.0                                    0.0   \n",
       "\n",
       "            PaymentMethod_Electronic check  PaymentMethod_Mailed check  \\\n",
       "customerID                                                               \n",
       "2082-CEFLT                             1.0                         0.0   \n",
       "5027-XWQHA                             1.0                         0.0   \n",
       "6941-KXRRV                             0.0                         0.0   \n",
       "4716-MRVEN                             0.0                         1.0   \n",
       "8645-KWHJO                             1.0                         0.0   \n",
       "\n",
       "            MultipleLines_Yes  MultipleLines_nan  ...  OnlineBackup_Yes  \\\n",
       "customerID                                        ...                     \n",
       "2082-CEFLT                0.0                0.0  ...               0.0   \n",
       "5027-XWQHA                0.0                0.0  ...               0.0   \n",
       "6941-KXRRV                0.0                0.0  ...               1.0   \n",
       "4716-MRVEN                0.0                0.0  ...               0.0   \n",
       "8645-KWHJO                0.0                1.0  ...               0.0   \n",
       "\n",
       "            OnlineBackup_nan  DeviceProtection_Yes  DeviceProtection_nan  \\\n",
       "customerID                                                                 \n",
       "2082-CEFLT               0.0                   0.0                   0.0   \n",
       "5027-XWQHA               0.0                   0.0                   0.0   \n",
       "6941-KXRRV               0.0                   0.0                   0.0   \n",
       "4716-MRVEN               1.0                   0.0                   1.0   \n",
       "8645-KWHJO               0.0                   1.0                   0.0   \n",
       "\n",
       "            TechSupport_Yes  TechSupport_nan  StreamingTV_Yes  \\\n",
       "customerID                                                      \n",
       "2082-CEFLT              0.0              0.0              0.0   \n",
       "5027-XWQHA              0.0              0.0              0.0   \n",
       "6941-KXRRV              0.0              0.0              0.0   \n",
       "4716-MRVEN              0.0              1.0              0.0   \n",
       "8645-KWHJO              1.0              0.0              1.0   \n",
       "\n",
       "            StreamingTV_nan  StreamingMovies_Yes  StreamingMovies_nan  \n",
       "customerID                                                             \n",
       "2082-CEFLT              0.0                  0.0                  0.0  \n",
       "5027-XWQHA              0.0                  0.0                  0.0  \n",
       "6941-KXRRV              0.0                  1.0                  0.0  \n",
       "4716-MRVEN              1.0                  0.0                  1.0  \n",
       "8645-KWHJO              0.0                  1.0                  0.0  \n",
       "\n",
       "[5 rows x 25 columns]"
      ]
     },
     "execution_count": 48,
     "metadata": {},
     "output_type": "execute_result"
    }
   ],
   "source": [
    "features_train_ohe[numeric] = scaler.transform(features_train[numeric])\n",
    "features_train_ohe.head()"
   ]
  },
  {
   "cell_type": "code",
   "execution_count": 49,
   "metadata": {},
   "outputs": [
    {
     "data": {
      "text/html": [
       "<div>\n",
       "<style scoped>\n",
       "    .dataframe tbody tr th:only-of-type {\n",
       "        vertical-align: middle;\n",
       "    }\n",
       "\n",
       "    .dataframe tbody tr th {\n",
       "        vertical-align: top;\n",
       "    }\n",
       "\n",
       "    .dataframe thead th {\n",
       "        text-align: right;\n",
       "    }\n",
       "</style>\n",
       "<table border=\"1\" class=\"dataframe\">\n",
       "  <thead>\n",
       "    <tr style=\"text-align: right;\">\n",
       "      <th></th>\n",
       "      <th>MonthlyCharges</th>\n",
       "      <th>TotalTime</th>\n",
       "      <th>Type_One year</th>\n",
       "      <th>Type_Two year</th>\n",
       "      <th>PaperlessBilling_Yes</th>\n",
       "      <th>PaymentMethod_Credit card (automatic)</th>\n",
       "      <th>PaymentMethod_Electronic check</th>\n",
       "      <th>PaymentMethod_Mailed check</th>\n",
       "      <th>MultipleLines_Yes</th>\n",
       "      <th>MultipleLines_nan</th>\n",
       "      <th>...</th>\n",
       "      <th>OnlineBackup_Yes</th>\n",
       "      <th>OnlineBackup_nan</th>\n",
       "      <th>DeviceProtection_Yes</th>\n",
       "      <th>DeviceProtection_nan</th>\n",
       "      <th>TechSupport_Yes</th>\n",
       "      <th>TechSupport_nan</th>\n",
       "      <th>StreamingTV_Yes</th>\n",
       "      <th>StreamingTV_nan</th>\n",
       "      <th>StreamingMovies_Yes</th>\n",
       "      <th>StreamingMovies_nan</th>\n",
       "    </tr>\n",
       "    <tr>\n",
       "      <th>customerID</th>\n",
       "      <th></th>\n",
       "      <th></th>\n",
       "      <th></th>\n",
       "      <th></th>\n",
       "      <th></th>\n",
       "      <th></th>\n",
       "      <th></th>\n",
       "      <th></th>\n",
       "      <th></th>\n",
       "      <th></th>\n",
       "      <th></th>\n",
       "      <th></th>\n",
       "      <th></th>\n",
       "      <th></th>\n",
       "      <th></th>\n",
       "      <th></th>\n",
       "      <th></th>\n",
       "      <th></th>\n",
       "      <th></th>\n",
       "      <th></th>\n",
       "      <th></th>\n",
       "    </tr>\n",
       "  </thead>\n",
       "  <tbody>\n",
       "    <tr>\n",
       "      <th>9554-DFKIC</th>\n",
       "      <td>-0.338581</td>\n",
       "      <td>0.025002</td>\n",
       "      <td>0.0</td>\n",
       "      <td>0.0</td>\n",
       "      <td>1.0</td>\n",
       "      <td>0.0</td>\n",
       "      <td>0.0</td>\n",
       "      <td>0.0</td>\n",
       "      <td>1.0</td>\n",
       "      <td>0.0</td>\n",
       "      <td>...</td>\n",
       "      <td>0.0</td>\n",
       "      <td>0.0</td>\n",
       "      <td>0.0</td>\n",
       "      <td>0.0</td>\n",
       "      <td>0.0</td>\n",
       "      <td>0.0</td>\n",
       "      <td>0.0</td>\n",
       "      <td>0.0</td>\n",
       "      <td>0.0</td>\n",
       "      <td>0.0</td>\n",
       "    </tr>\n",
       "    <tr>\n",
       "      <th>4282-ACRXS</th>\n",
       "      <td>-1.338088</td>\n",
       "      <td>0.384860</td>\n",
       "      <td>0.0</td>\n",
       "      <td>0.0</td>\n",
       "      <td>1.0</td>\n",
       "      <td>0.0</td>\n",
       "      <td>1.0</td>\n",
       "      <td>0.0</td>\n",
       "      <td>0.0</td>\n",
       "      <td>1.0</td>\n",
       "      <td>...</td>\n",
       "      <td>0.0</td>\n",
       "      <td>0.0</td>\n",
       "      <td>0.0</td>\n",
       "      <td>0.0</td>\n",
       "      <td>0.0</td>\n",
       "      <td>0.0</td>\n",
       "      <td>0.0</td>\n",
       "      <td>0.0</td>\n",
       "      <td>0.0</td>\n",
       "      <td>0.0</td>\n",
       "    </tr>\n",
       "    <tr>\n",
       "      <th>8792-AOROI</th>\n",
       "      <td>0.027905</td>\n",
       "      <td>-0.965719</td>\n",
       "      <td>0.0</td>\n",
       "      <td>1.0</td>\n",
       "      <td>0.0</td>\n",
       "      <td>0.0</td>\n",
       "      <td>0.0</td>\n",
       "      <td>1.0</td>\n",
       "      <td>0.0</td>\n",
       "      <td>0.0</td>\n",
       "      <td>...</td>\n",
       "      <td>0.0</td>\n",
       "      <td>0.0</td>\n",
       "      <td>0.0</td>\n",
       "      <td>0.0</td>\n",
       "      <td>1.0</td>\n",
       "      <td>0.0</td>\n",
       "      <td>0.0</td>\n",
       "      <td>0.0</td>\n",
       "      <td>1.0</td>\n",
       "      <td>0.0</td>\n",
       "    </tr>\n",
       "    <tr>\n",
       "      <th>4403-BWPAY</th>\n",
       "      <td>-1.338088</td>\n",
       "      <td>-0.832438</td>\n",
       "      <td>1.0</td>\n",
       "      <td>0.0</td>\n",
       "      <td>1.0</td>\n",
       "      <td>1.0</td>\n",
       "      <td>0.0</td>\n",
       "      <td>0.0</td>\n",
       "      <td>1.0</td>\n",
       "      <td>0.0</td>\n",
       "      <td>...</td>\n",
       "      <td>0.0</td>\n",
       "      <td>1.0</td>\n",
       "      <td>0.0</td>\n",
       "      <td>1.0</td>\n",
       "      <td>0.0</td>\n",
       "      <td>1.0</td>\n",
       "      <td>0.0</td>\n",
       "      <td>1.0</td>\n",
       "      <td>0.0</td>\n",
       "      <td>1.0</td>\n",
       "    </tr>\n",
       "    <tr>\n",
       "      <th>2898-MRKPI</th>\n",
       "      <td>1.227313</td>\n",
       "      <td>1.738400</td>\n",
       "      <td>1.0</td>\n",
       "      <td>0.0</td>\n",
       "      <td>1.0</td>\n",
       "      <td>1.0</td>\n",
       "      <td>0.0</td>\n",
       "      <td>0.0</td>\n",
       "      <td>1.0</td>\n",
       "      <td>0.0</td>\n",
       "      <td>...</td>\n",
       "      <td>1.0</td>\n",
       "      <td>0.0</td>\n",
       "      <td>0.0</td>\n",
       "      <td>0.0</td>\n",
       "      <td>0.0</td>\n",
       "      <td>0.0</td>\n",
       "      <td>1.0</td>\n",
       "      <td>0.0</td>\n",
       "      <td>1.0</td>\n",
       "      <td>0.0</td>\n",
       "    </tr>\n",
       "  </tbody>\n",
       "</table>\n",
       "<p>5 rows × 25 columns</p>\n",
       "</div>"
      ],
      "text/plain": [
       "            MonthlyCharges  TotalTime  Type_One year  Type_Two year  \\\n",
       "customerID                                                            \n",
       "9554-DFKIC       -0.338581   0.025002            0.0            0.0   \n",
       "4282-ACRXS       -1.338088   0.384860            0.0            0.0   \n",
       "8792-AOROI        0.027905  -0.965719            0.0            1.0   \n",
       "4403-BWPAY       -1.338088  -0.832438            1.0            0.0   \n",
       "2898-MRKPI        1.227313   1.738400            1.0            0.0   \n",
       "\n",
       "            PaperlessBilling_Yes  PaymentMethod_Credit card (automatic)  \\\n",
       "customerID                                                                \n",
       "9554-DFKIC                   1.0                                    0.0   \n",
       "4282-ACRXS                   1.0                                    0.0   \n",
       "8792-AOROI                   0.0                                    0.0   \n",
       "4403-BWPAY                   1.0                                    1.0   \n",
       "2898-MRKPI                   1.0                                    1.0   \n",
       "\n",
       "            PaymentMethod_Electronic check  PaymentMethod_Mailed check  \\\n",
       "customerID                                                               \n",
       "9554-DFKIC                             0.0                         0.0   \n",
       "4282-ACRXS                             1.0                         0.0   \n",
       "8792-AOROI                             0.0                         1.0   \n",
       "4403-BWPAY                             0.0                         0.0   \n",
       "2898-MRKPI                             0.0                         0.0   \n",
       "\n",
       "            MultipleLines_Yes  MultipleLines_nan  ...  OnlineBackup_Yes  \\\n",
       "customerID                                        ...                     \n",
       "9554-DFKIC                1.0                0.0  ...               0.0   \n",
       "4282-ACRXS                0.0                1.0  ...               0.0   \n",
       "8792-AOROI                0.0                0.0  ...               0.0   \n",
       "4403-BWPAY                1.0                0.0  ...               0.0   \n",
       "2898-MRKPI                1.0                0.0  ...               1.0   \n",
       "\n",
       "            OnlineBackup_nan  DeviceProtection_Yes  DeviceProtection_nan  \\\n",
       "customerID                                                                 \n",
       "9554-DFKIC               0.0                   0.0                   0.0   \n",
       "4282-ACRXS               0.0                   0.0                   0.0   \n",
       "8792-AOROI               0.0                   0.0                   0.0   \n",
       "4403-BWPAY               1.0                   0.0                   1.0   \n",
       "2898-MRKPI               0.0                   0.0                   0.0   \n",
       "\n",
       "            TechSupport_Yes  TechSupport_nan  StreamingTV_Yes  \\\n",
       "customerID                                                      \n",
       "9554-DFKIC              0.0              0.0              0.0   \n",
       "4282-ACRXS              0.0              0.0              0.0   \n",
       "8792-AOROI              1.0              0.0              0.0   \n",
       "4403-BWPAY              0.0              1.0              0.0   \n",
       "2898-MRKPI              0.0              0.0              1.0   \n",
       "\n",
       "            StreamingTV_nan  StreamingMovies_Yes  StreamingMovies_nan  \n",
       "customerID                                                             \n",
       "9554-DFKIC              0.0                  0.0                  0.0  \n",
       "4282-ACRXS              0.0                  0.0                  0.0  \n",
       "8792-AOROI              0.0                  1.0                  0.0  \n",
       "4403-BWPAY              1.0                  0.0                  1.0  \n",
       "2898-MRKPI              0.0                  1.0                  0.0  \n",
       "\n",
       "[5 rows x 25 columns]"
      ]
     },
     "execution_count": 49,
     "metadata": {},
     "output_type": "execute_result"
    }
   ],
   "source": [
    "features_test_ohe[numeric] = scaler.transform(features_test[numeric])\n",
    "features_test_ohe.head()"
   ]
  },
  {
   "cell_type": "markdown",
   "metadata": {},
   "source": [
    "**Вывод:**\n",
    "\n",
    "Все поставленные задачи по предобработке данных выполнены:\n",
    "\n",
    "1. В поле `EndDate` – установлена \"заглушка\", соответствующая дате актуальности датасета - 2020-02-01;\n",
    "2. В поле `TotalCharges` неявные пропуски заполнены нулями;\n",
    "3. Поля `BeginDate` и `EndDate` приведены к типу *datetime*, а `MonthlyCharges` и `TotalCharges` - к целочисленному (*int*).\n",
    "\n",
    "После чего все датафреймы были объединены. Были заполнены пропуски, возникшие при объеднении датафреймов и закодированы строковые признаки.\n",
    "\n",
    "---\n",
    "\n",
    "Из категориальных характеристик объедененного датафрейма можно выделить следующее:\n",
    "\n",
    "- 59% пользователей предпочитают безналичный расчет;\n",
    "\n",
    "- 16% пользователей - пенсионеров, 48% - имеют супруга(у), у 30% - имеются иждевенцы. Виден баланс классов гендера;\n",
    "\n",
    "- 44% пользователей используют интернет соединение через телефонную линию, 47% пользователей имеют возможность подключения телефонного аппарата к нескольким линиям одновременно;\n",
    "\n",
    "- Данные по услугам:\n",
    "\n",
    "|Услуга|Процент пользователей|\n",
    "|:-|:-|\n",
    "|Блокировка небезопасных сайтов (OnlineSecurity)|36%|\n",
    "|Облачное хранилище файлов для резервного копирования данных (OnlineBackup)|44%|\n",
    "|Антивирус (DeviceProtection)|45%|\n",
    "|Выделенная линия технической поддержки (TechSupport)|37%|\n",
    "|Стриминговое телевидение (StreamingTV)|49%|\n",
    "|Каталог фильмов (StreamingMovies)|49%|\n",
    "\n",
    "- Был выделен целевой признак ушел ли клиент или нет;\n",
    "\n",
    "- Присутствует дисбаланс классов (84/16). На этапе подготовки данных для модели нужно рассмотреть эту проблему подробнее;\n",
    "\n",
    "- По распределению значений месячных трат выделяются три основные группы клиентов:\n",
    "\n",
    "    - с месячными тратами со значениями 20-30;\n",
    "    - с месячными тратами со значениями 30-70;\n",
    "    - с месячными тратами со значениями 70-120;\n",
    "\n",
    "- Заполнены неявные пропуски суммарных трат у новых пользователей;\n",
    "\n",
    "- Рассмотренны распределения оттока и прихода клентов;\n",
    "\n",
    "- Создан признак длительности пользования клиентом услугами компании;\n",
    "\n",
    "- Рассмотренна тепловая карта с корреляцией признаков. Удалены признаки с нулевой корреляцей и мультиколлинеарности;\n",
    "\n",
    "- Данные подготовлены для обучения моделей.\n"
   ]
  },
  {
   "cell_type": "markdown",
   "metadata": {},
   "source": [
    "### Выбор лучшей модели"
   ]
  },
  {
   "cell_type": "markdown",
   "metadata": {},
   "source": [
    "Для обучения взяты следующие модели: логистическая регрессия (`LogisticRegression`), модель градиентного спуска (`CatBoost`) и модель дерева решений (`DecisionTree`).\n",
    "\n",
    "Подберем гиперпараметры для каждой из моделей для дальнейшего анализа времени обучения, времени предсказания и качества модели."
   ]
  },
  {
   "cell_type": "markdown",
   "metadata": {},
   "source": [
    "#### Логистическая регрессия (`LogisticRegression`)"
   ]
  },
  {
   "cell_type": "code",
   "execution_count": 50,
   "metadata": {},
   "outputs": [
    {
     "name": "stdout",
     "output_type": "stream",
     "text": [
      "Best AUC_ROC: 0.75\n"
     ]
    }
   ],
   "source": [
    "model_lr = LogisticRegression()\n",
    "model_lr.fit(features_train_ohe, target_train)\n",
    "lr_auc_roc = np.mean(cross_val_score(model_lr, features_train_ohe, target_train, cv=5, scoring=make_scorer(roc_auc_score, needs_proba=True)))\n",
    "print(f'Best AUC_ROC: {lr_auc_roc:.2f}')"
   ]
  },
  {
   "cell_type": "markdown",
   "metadata": {},
   "source": [
    "#### Модель градиентного спуска (`CatBoost`)"
   ]
  },
  {
   "cell_type": "code",
   "execution_count": 51,
   "metadata": {},
   "outputs": [
    {
     "name": "stdout",
     "output_type": "stream",
     "text": [
      "{'depth': 2, 'iterations': 1000, 'learning_rate': 0.3}\n",
      "Best AUC_ROC: 0.929\n"
     ]
    }
   ],
   "source": [
    "catboost = CatBoostClassifier(random_state=STATE, verbose=False) \n",
    "hyperparams_cbc = [{'depth':[1,2,3,4,5],\n",
    "                    'learning_rate':[0.1, 0.2, 0.3],\n",
    "                    'iterations':[500,1000]}]\n",
    "cbc = GridSearchCV(catboost, hyperparams_cbc, scoring='roc_auc')\n",
    "cbc.fit(features_train_ord, target_train)\n",
    "print(cbc.best_params_)\n",
    "print(f'Best AUC_ROC: {cbc.best_score_:.3f}')"
   ]
  },
  {
   "cell_type": "markdown",
   "metadata": {},
   "source": [
    "#### Модель дерева решений (`DecisionTree`)"
   ]
  },
  {
   "cell_type": "code",
   "execution_count": 52,
   "metadata": {},
   "outputs": [
    {
     "name": "stdout",
     "output_type": "stream",
     "text": [
      "{'max_depth': 6, 'min_samples_leaf': 9, 'min_samples_split': 2}\n",
      "Best AUC_ROC: 0.721\n"
     ]
    }
   ],
   "source": [
    "decisiontree = DecisionTreeClassifier(random_state=STATE)\n",
    "max_depth_list = [None] + [x for x in range(2, 7)]\n",
    "list_samples_split = [x for x in range(1, 10)]\n",
    "list_samples_leaf = [x for x in range(1, 10)]\n",
    "\n",
    "hyperparams_dtc = [{'max_depth':max_depth_list,\n",
    "                    'min_samples_split':list_samples_split,\n",
    "                    'min_samples_leaf':list_samples_leaf}]\n",
    "\n",
    "dtc = GridSearchCV(decisiontree, hyperparams_dtc, scoring='roc_auc')\n",
    "dtc.fit(features_train_ord, target_train)\n",
    "print(dtc.best_params_)\n",
    "print(f'Best AUC_ROC: {dtc.best_score_:.3f}')"
   ]
  },
  {
   "cell_type": "markdown",
   "metadata": {},
   "source": [
    "Лучшей моделью является `CatBoostClassifier`, с метрикой roc_auc в 0.929. "
   ]
  },
  {
   "cell_type": "markdown",
   "metadata": {},
   "source": [
    "### Тестирование лучшей модели"
   ]
  },
  {
   "cell_type": "code",
   "execution_count": 53,
   "metadata": {},
   "outputs": [
    {
     "data": {
      "text/plain": [
       "<catboost.core.CatBoostClassifier at 0x22783330d60>"
      ]
     },
     "execution_count": 53,
     "metadata": {},
     "output_type": "execute_result"
    }
   ],
   "source": [
    "best_model = CatBoostClassifier(depth=5,\n",
    "                                iterations=1000,\n",
    "                                learning_rate=0.3,\n",
    "                                random_state=STATE,\n",
    "                                verbose=False)\n",
    "best_model.fit(features_train_ord, target_train)"
   ]
  },
  {
   "cell_type": "markdown",
   "metadata": {},
   "source": [
    "Напишем функцию для построения ROC-кривой и матрицы ошибок для тестирования лучшей модел по итогам обучения."
   ]
  },
  {
   "cell_type": "code",
   "execution_count": 54,
   "metadata": {},
   "outputs": [],
   "source": [
    "def testing_model(features_test, target_test, model):\n",
    "    plt.rcParams[\"figure.figsize\"] = (12,7)\n",
    "    predictions_test = model.predict(features_test)\n",
    "    probabilities_test = model.predict_proba(features_test)[:,1]\n",
    "    fpr, tpr, threshold = roc_curve(target_test, probabilities_test)\n",
    "    \n",
    "    roc_auc = roc_auc_score(target_test, probabilities_test)\n",
    "    accuracy = accuracy_score(target_test, predictions_test)\n",
    "    \n",
    "    print('Класс модели: ', type(model).__name__)\n",
    "    print('roc-auc: ', roc_auc)\n",
    "    print('accuracy: ', accuracy)\n",
    "    \n",
    "    fpr, tpr, thresholds = roc_curve(target_test, probabilities_test, pos_label=1)\n",
    "    plt.plot(fpr, tpr, label=type(model).__name__)\n",
    "    plt.xlabel('Вероятность ошибки 1-рода')\n",
    "    plt.ylabel('Recall')\n",
    "    plt.title('ROC-кривая модели класса ' + type(model).__name__)\n",
    "    plt.plot([0, 1], [0, 1])\n",
    "    plt.xlim([0.0, 1.0])\n",
    "    plt.ylim([0.0, 1.05])\n",
    "    plt.legend();\n",
    "    \n",
    "    cmatrix = confusion_matrix(target_test, predictions_test)\n",
    "    plt.figure(figsize=(8, 8))\n",
    "    sns.heatmap(cmatrix, \n",
    "                annot=True,  \n",
    "                cmap='Blues', \n",
    "                fmt='d').set(title='Матрица ошибок', xlabel='Предсказания', ylabel='Правильные ответы')\n",
    "    plt.show();"
   ]
  },
  {
   "cell_type": "code",
   "execution_count": 55,
   "metadata": {},
   "outputs": [
    {
     "name": "stdout",
     "output_type": "stream",
     "text": [
      "Класс модели:  CatBoostClassifier\n",
      "roc-auc:  0.9282667410825518\n",
      "accuracy:  0.9312890403180011\n"
     ]
    },
    {
     "data": {
      "image/png": "[encoded data removed]",
      "text/plain": [
       "<Figure size 1200x700 with 1 Axes>"
      ]
     },
     "metadata": {},
     "output_type": "display_data"
    },
    {
     "data": {
      "image/png": "[encoded data removed]",
      "text/plain": [
       "<Figure size 800x800 with 2 Axes>"
      ]
     },
     "metadata": {},
     "output_type": "display_data"
    }
   ],
   "source": [
    "testing_model(features_test_ord, target_test, best_model)"
   ]
  },
  {
   "cell_type": "markdown",
   "metadata": {},
   "source": [
    "На тестовых данных модель показала себя хорошо. Метрика AUC-ROC = 0.92, а accuracy = 0.93.\n",
    "\n",
    "Метрика accuracy (точность) - это показатель, который позволяет измерить, насколько точно модель машинного обучения классифицирует данные. Он выражается в процентах и указывает долю правильных предсказаний модели относительно всех предсказаний.\n",
    "\n",
    "Чтобы вычислить accuracy, сравнивается предсказанные значения модели с правильными ответами и определяется доля правильных предсказаний модели относительно общего числа предсказаний.\n",
    "\n",
    "Например, предположим, у нас есть модель, которая классифицирует письма электронной почты на спам и не спам. Используем модель для классификации 100 писем, из которых 90 — не спам и 10 — спам. Если модель правильно классифицирует 88 из 90 не спам писем и 8 из 10 спам писем, то accuracy будет равняться:\n",
    "\n",
    "(88 + 8) / 100 = 96%\n",
    "\n",
    "То есть, в данном случае модель правильно предсказывает класс в 96 случаях из 100. \n",
    "\n",
    "Матрица ошибок является инструментом для оценки производительности модели классификации. Она представляет собой квадратную таблицу, где каждая ячейка представляет собой счетчик отнесенных экземпляров к определенному классу.\n",
    "\n",
    "В матрице ошибок обычно присутствуют четыре основные метрики:\n",
    "\n",
    "- True Positive (TP): Количество положительных случаев, которые успешно распознаны. В данном случае это те пользователи, которые действительно ушли.\n",
    "- True Negative (TN): Количество отрицательных случаев, которые успешно распознаны. То есть те пользователи, которые продолжают пользоваться услугами.\n",
    "- False Positive (FP): Количество случаев, когда неправильно классифицирован положительный случай. Модель машинного обучения предсказала, что пользователь уже ушел, но на сама деле он еще пользуется продуктами компании.\n",
    "- False Negative (FN): Количество случаев, когда неправильно классифицирован отрицательный случай. Тут наоборот, пользователь уже ушел, но модель предсказала, что пользователь все еще пользуется услугами.\n"
   ]
  },
  {
   "cell_type": "markdown",
   "metadata": {},
   "source": [
    "### Анализ важности признаков"
   ]
  },
  {
   "cell_type": "code",
   "execution_count": 56,
   "metadata": {},
   "outputs": [],
   "source": [
    "train_dataset = Pool(features_train_ord, target_train)"
   ]
  },
  {
   "cell_type": "code",
   "execution_count": 57,
   "metadata": {},
   "outputs": [],
   "source": [
    "feature_importance = best_model.get_feature_importance(train_dataset, prettified = True)"
   ]
  },
  {
   "cell_type": "code",
   "execution_count": 58,
   "metadata": {},
   "outputs": [
    {
     "data": {
      "text/html": [
       "<div>\n",
       "<style scoped>\n",
       "    .dataframe tbody tr th:only-of-type {\n",
       "        vertical-align: middle;\n",
       "    }\n",
       "\n",
       "    .dataframe tbody tr th {\n",
       "        vertical-align: top;\n",
       "    }\n",
       "\n",
       "    .dataframe thead th {\n",
       "        text-align: right;\n",
       "    }\n",
       "</style>\n",
       "<table border=\"1\" class=\"dataframe\">\n",
       "  <thead>\n",
       "    <tr style=\"text-align: right;\">\n",
       "      <th></th>\n",
       "      <th>Feature Id</th>\n",
       "      <th>Importances</th>\n",
       "    </tr>\n",
       "  </thead>\n",
       "  <tbody>\n",
       "    <tr>\n",
       "      <th>0</th>\n",
       "      <td>TotalTime</td>\n",
       "      <td>44.535757</td>\n",
       "    </tr>\n",
       "    <tr>\n",
       "      <th>1</th>\n",
       "      <td>MonthlyCharges</td>\n",
       "      <td>15.309332</td>\n",
       "    </tr>\n",
       "    <tr>\n",
       "      <th>2</th>\n",
       "      <td>Type</td>\n",
       "      <td>6.517344</td>\n",
       "    </tr>\n",
       "    <tr>\n",
       "      <th>3</th>\n",
       "      <td>PaymentMethod</td>\n",
       "      <td>6.387834</td>\n",
       "    </tr>\n",
       "    <tr>\n",
       "      <th>4</th>\n",
       "      <td>Partner</td>\n",
       "      <td>4.425936</td>\n",
       "    </tr>\n",
       "    <tr>\n",
       "      <th>5</th>\n",
       "      <td>Dependents</td>\n",
       "      <td>3.197662</td>\n",
       "    </tr>\n",
       "    <tr>\n",
       "      <th>6</th>\n",
       "      <td>MultipleLines</td>\n",
       "      <td>3.145836</td>\n",
       "    </tr>\n",
       "    <tr>\n",
       "      <th>7</th>\n",
       "      <td>PaperlessBilling</td>\n",
       "      <td>3.032280</td>\n",
       "    </tr>\n",
       "    <tr>\n",
       "      <th>8</th>\n",
       "      <td>DeviceProtection</td>\n",
       "      <td>2.390501</td>\n",
       "    </tr>\n",
       "    <tr>\n",
       "      <th>9</th>\n",
       "      <td>TechSupport</td>\n",
       "      <td>2.208005</td>\n",
       "    </tr>\n",
       "    <tr>\n",
       "      <th>10</th>\n",
       "      <td>OnlineBackup</td>\n",
       "      <td>2.146790</td>\n",
       "    </tr>\n",
       "    <tr>\n",
       "      <th>11</th>\n",
       "      <td>SeniorCitizen</td>\n",
       "      <td>1.859368</td>\n",
       "    </tr>\n",
       "    <tr>\n",
       "      <th>12</th>\n",
       "      <td>StreamingTV</td>\n",
       "      <td>1.680120</td>\n",
       "    </tr>\n",
       "    <tr>\n",
       "      <th>13</th>\n",
       "      <td>StreamingMovies</td>\n",
       "      <td>1.601907</td>\n",
       "    </tr>\n",
       "    <tr>\n",
       "      <th>14</th>\n",
       "      <td>OnlineSecurity</td>\n",
       "      <td>1.561329</td>\n",
       "    </tr>\n",
       "  </tbody>\n",
       "</table>\n",
       "</div>"
      ],
      "text/plain": [
       "          Feature Id  Importances\n",
       "0          TotalTime    44.535757\n",
       "1     MonthlyCharges    15.309332\n",
       "2               Type     6.517344\n",
       "3      PaymentMethod     6.387834\n",
       "4            Partner     4.425936\n",
       "5         Dependents     3.197662\n",
       "6      MultipleLines     3.145836\n",
       "7   PaperlessBilling     3.032280\n",
       "8   DeviceProtection     2.390501\n",
       "9        TechSupport     2.208005\n",
       "10      OnlineBackup     2.146790\n",
       "11     SeniorCitizen     1.859368\n",
       "12       StreamingTV     1.680120\n",
       "13   StreamingMovies     1.601907\n",
       "14    OnlineSecurity     1.561329"
      ]
     },
     "execution_count": 58,
     "metadata": {},
     "output_type": "execute_result"
    }
   ],
   "source": [
    "feature_importance"
   ]
  },
  {
   "cell_type": "code",
   "execution_count": 59,
   "metadata": {},
   "outputs": [
    {
     "data": {
      "image/png": "[encoded data removed]",
      "text/plain": [
       "<Figure size 1200x700 with 1 Axes>"
      ]
     },
     "metadata": {},
     "output_type": "display_data"
    }
   ],
   "source": [
    "sns.barplot(y=feature_importance['Feature Id'], x=feature_importance['Importances']);"
   ]
  },
  {
   "cell_type": "markdown",
   "metadata": {},
   "source": [
    "Логично, что на лояльность клиентов больше всего влияет время использования услуг. Чем дольше пользуются услугами компании, тем меньше вероятность что от туда уйдут. Второй и третий признак - месячные траты и тип подписки, соответственно. Это тоже достаточно логично, учитывая исследовательский анализ данных проведенных ранее."
   ]
  },
  {
   "cell_type": "markdown",
   "metadata": {},
   "source": [
    "### Общий вывод"
   ]
  },
  {
   "cell_type": "markdown",
   "metadata": {},
   "source": [
    "Для оператора связи была обучена модель машинного обучения для прогнозирования оттока клиентов. Благодаря ей оператор связи сможет предлагать промокоды и специальные условия для тех клиентов, которые по прогнозу планируют уходить.\n",
    "\n",
    "Для обучения модели машинного обучения были предоставленны персональные данные о некоторых клиентах, информацию об их тарифах и договорах. Информация о договорах актуальна на 1 февраля 2020.\n",
    "\n",
    "\n",
    "Для оператора связи «Ниединогоразрыва.ком» хочет научиться прогнозировать отток клиентов. Если выяснится, что пользователь планирует уйти, ему будут предложены промокоды и специальные условия. Команда оператора собрала персональные данные о некоторых клиентах, информацию об их тарифах и договорах. Необходимо на предоставленных данных обучить модель машинного обучения для прогнозирования ухода клиента.\n",
    "\n",
    "**Ключевые шаги работы над проектом:**\n",
    "\n",
    "1. Загрузка и изучение данных.\n",
    "\n",
    "- Данные были загружены, изучены и рассмотрены таблицы с данными. Всего в выборке представлены договоры с 7043 клиентами, из которых пользователей интернета - 5517, пользователей телефонии - 6361. При изучении были выявлены проблемы с данными, которые были рассмотренны подробно и решены на этапе предобработки данных.\n",
    "---\n",
    "2. Предобработка и исследовательский анализ данных. Создание целевого признака.\n",
    "\n",
    "- Проведены предобработка и исследовательский анализ данных. Проблемы, найденные на первом шаге работы над проектом были успешно решены. Данные были собраны в одну таблицу, после чего были решены проблемы после объединения. Был проведен анализ данных, из которого можно выделить следуюшее: \n",
    "\n",
    "    - 59% пользователей предпочитают безналичный расчет;\n",
    "\n",
    "    - 16% пользователей - пенсионеров, 48% - имеют супруга(у), у 30% - имеются иждевенцы. Виден баланс классов гендера;\n",
    "\n",
    "    - 44% пользователей используют интернет соединение через телефонную линию, 47% пользователей имеют возможность подключения телефонного аппарата к нескольким линиям одновременно;\n",
    "\n",
    "    - Данные по услугам:\n",
    "\n",
    "    |Услуга|Процент пользователей|\n",
    "    |:-|:-|\n",
    "    |Блокировка небезопасных сайтов (OnlineSecurity)|36%|\n",
    "    |Облачное хранилище файлов для резервного копирования данных (OnlineBackup)|44%|\n",
    "    |Антивирус (DeviceProtection)|45%|\n",
    "    |Выделенная линия технической поддержки (TechSupport)|37%|\n",
    "    |Стриминговое телевидение (StreamingTV)|49%|\n",
    "    |Каталог фильмов (StreamingMovies)|49%|\n",
    "\n",
    "    - По распределению значений месячных трат выделяются три основные группы клиентов:\n",
    "\n",
    "        - с месячными тратами со значениями 20-30;\n",
    "        - с месячными тратами со значениями 30-70;\n",
    "        - с месячными тратами со значениями 70-120;\n",
    "\n",
    "- По дате окончания пользования услугами был выделен целевой признак для прогнозирования, ушел клиент или нет. Так же были рассмотренны распределения оттока и прихода клиентов:\n",
    "\n",
    "![Приход клиентов](https://i.postimg.cc/8PZrv3Qz/output.png)\n",
    "\n",
    "- Наблюдается пик в начале 2014 года, что связано с началом работы компании. С начала 2015 по конец 2018 года - величина новых клиентов стабильна. С начала 2019 по начало 2020 года снова наблюдается бурный рост количества новых клиентов. \n",
    "\n",
    "![Отток клиентов](https://i.postimg.cc/8PZrv3Qz/output2.png)\n",
    "\n",
    "- Как видно на графике, начиная с 2016 года число ушедших пользователей значительно увеличилось с начала работы компании. Начиная с 2017 года это число держится примерно на одном уровне. Начало 2020 года можно не рассматрвать, так как в датафрейме у всех действующих пользователей в столбце с датой окончания пользования услугами записана дата актуальности датасета (2020-02-01).\n",
    "---\n",
    "3. Подготовка признаков.\n",
    "\n",
    "- Отдельно для улучшения прогнорзированя был создан новый признк \"Длительность пользования услугами\", а так же были удалены несколько признаков с  нулевой корреляцей и мультиколлинеарностью. \n",
    "\n",
    "- После подготовки и исследования данные были разделены на обучающую и тестовую выборку для обучения модели машинного обучения.\n",
    "---\n",
    "4. Сравнение моделей машинного обучения, подходящих для исследования, подбор гиперпараметров.\n",
    "\n",
    "- Для определения лучшей модели машинного обучения были взяты следующие модели: логистическая регрессия (`LogisticRegression`), модель градиентного спуска (`CatBoost`) и модель дерева решений (`DecisionTree`).\n",
    "\n",
    "- Для каждой из моделей подбирались гиперпараметры для анализа времени обучения, времени предсказания и качества модели.\n",
    "\n",
    "|Модель|Результат обучения по метрике AUC-ROC|\n",
    "|:-|:-:|\n",
    "|LogisticRegression|0.75|\n",
    "|CatBoostClassifier|0.929|\n",
    "|DecisionTreeClassifier|0.721|\n",
    "\n",
    "- Лучше всего показала себя модель `CatBoostClassifier`, и она была выбрана для проверке тестовых данных.\n",
    "---\n",
    "5. Проверка лучшей модели и ее эффективность на тестовых данных.\n",
    "\n",
    "- На тестовых данных она показала следующие результаты:\n",
    "\n",
    "![ROC-AUC](https://i.postimg.cc/zX3zfwW9/ROC.png)\n",
    "\n",
    "- Метрика AUC-ROC = 0.92, а accuracy = 0.93.\n",
    "\n",
    "- Метрика accuracy (точность) - это показатель, который позволяет измерить, насколько точно модель машинного обучения классифицирует данные. Он выражается в процентах и указывает долю правильных предсказаний модели относительно всех предсказаний. Чтобы вычислить accuracy, сравнивается предсказанные значения модели с правильными ответами и определяется доля правильных предсказаний модели относительно общего числа предсказаний. Например, предположим, у нас есть модель, которая классифицирует письма электронной почты на спам и не спам. Используем модель для классификации 100 писем, из которых 90 — не спам и 10 — спам. Если модель правильно классифицирует 88 из 90 не спам писем и 8 из 10 спам писем, то accuracy будет равняться: (88 + 8) / 100 = 96%. То есть, в данном случае модель правильно предсказывает класс в 96 случаях из 100. \n",
    "---\n",
    "6. Анализ важности признаков лучшей модели и анализ матрицы ошибок.\n",
    "\n",
    "![Матрица ошибок](https://i.postimg.cc/MZ9Zx3c7/matrix.png)\n",
    "\n",
    "- Матрица ошибок является инструментом для оценки производительности модели классификации. Она представляет собой квадратную таблицу, где каждая ячейка представляет собой счетчик отнесенных экземпляров к определенному классу.\n",
    "\n",
    "- В матрице ошибок обычно присутствуют четыре основные метрики:\n",
    "\n",
    "    - True Positive (TP): Количество положительных случаев, которые успешно распознаны. В данном случае это те пользователи, которые действительно ушли.\n",
    "    - True Negative (TN): Количество отрицательных случаев, которые успешно распознаны. То есть те пользователи, которые продолжают пользоваться услугами.\n",
    "    - False Positive (FP): Количество случаев, когда неправильно классифицирован положительный случай. Модель машинного обучения предсказала, что пользователь уже ушел, но на сама деле он еще пользуется продуктами компании.\n",
    "    - False Negative (FN): Количество случаев, когда неправильно классифицирован отрицательный случай. Тут наоборот, пользователь уже ушел, но модель предсказала, что пользователь все еще пользуется услугами.\n",
    "\n",
    "![Aнализ важности признаков](https://i.postimg.cc/2y9Cw3pc/feature-analysis.png)\n",
    "\n",
    "- На графике видно, что на лояльность клиентов больше всего влияет время использования услуг. Чем дольше пользуются услугами компании, тем меньше вероятность что от туда уйдут. Второй и третий признак - месячные траты и наличие подписки на 2 года, соответственно. Это тоже достаточно логично, учитывая исследовательский анализ данных проведенных ранее.\n",
    "---\n",
    "7. Общий вывод.\n",
    "---\n",
    "**Проанализируем соответствие фактической работы запланированным шагам:**\n",
    "\n",
    "Данные были успешно:\n",
    "\n",
    "1. Загружены и изучены.\n",
    "2. Подготовлены к работе и исследованию.\n",
    "3. Исследованы.\n",
    "4. Предобработаны.\n",
    "5. Подготовленны к обучению.\n",
    "\n",
    "Модели были успешно:\n",
    "\n",
    "1. Обучены с разными гиперпараметрами.\n",
    "2. Проанализированы на лучшее качество предсказаний.\n",
    "\n",
    "Лучшая модель была успешно:\n",
    "\n",
    "1. Проверенная на тестовой выборке.\n",
    "2. Проанализирована по важности признаков.\n",
    "---\n",
    "**Рефлексия над сложностями и описание путей их решения:**\n",
    "\n",
    "1. На этапе загрузки и изучения данных были следующие проблемы:\n",
    "\n",
    "- В столбце `TotalCharges` были неявные пропуски, так как в данных были и новые пользователи, для которых не было записано суммарных рассходов. Эти пропуски были заменены на ноль.\n",
    "\n",
    "- Поля `BeginDate`, `EndDate`, `MonthlyCharges`, `TotalCharges` и `SeniorCitizen` были предоставлены в некорректном типе данных, что могло бы усложнить обучение моделей машинного обучения. Поэтому данные были приведены к соответствующим им типам:\n",
    "\n",
    "    - `BeginDate` - *datetime*;\n",
    "    - `EndDate` - *datetime*;\n",
    "    - `MonthlyCharges`- *int*;\n",
    "    - `TotalCharges`- *int*.\n",
    "    - `SeniorCitizen` - *object*\n",
    "\n",
    "2. На этапе подготовки данных были следующие проблемы:\n",
    "\n",
    "- При соединений таблиц в одну возникли пропуски, так как не все пользователи пользуются всеми услугами, которые предоставляет оператор связи. Пропуски были заполнены соответствующим значением \"NoUsed\".\n",
    "\n",
    "- В данных отсутствовал целевой признак - ушел ли клиент или нет. Было принято решение создать целевой признак с помощью столбца `EndDate`, то есть если дата имеет значение до 2020-02-01 (дата выгрузки данных), то клиент ушел, а если No, то клиент еще пользуется услугами. После создания целевого признака было принято решение заменить значения No — датой выгрузки (2020-02-01).\n",
    "\n",
    "3. На этапе исследования данных проблем не было.\n",
    "\n",
    "- При исследовании корреляции были выделены следующие проблемы:\n",
    "\n",
    "    - Мультиколлинеарность `MonthlyCharges`и `InternetService` (0.95), `TotalCharges` и `TotalTime` (0.85). Удалив признаки `InternetService` и `TotalCharges` избавились от мультиколлинеарности, так как они меньше всего коррелируют с целевым признаком.\n",
    "\n",
    "    - Так же корреляция около нуля со значением пола, этот признак тоже удалили.\n",
    "\n",
    "\n",
    "4. На этапе предобработки данных проблем не было.\n",
    "\n",
    "5. На этапе подготовки данных к обучению были следующие проблем:\n",
    "\n",
    "- Необходимо было закодировать категориальные признаки для моделей. Для древесных и бустинговых моделей было выполнено кодирование техникой `OrdinalEncoder`, для кодирование линейной модели - `OneHotEncoder`.\n",
    "\n",
    "- Так как в разных столбцах находятся значения с разными разбросами, было проведено масштабирование признаков, закодированные техникой `OneHotEncoder`.\n",
    "\n",
    "6. На этапе обучения модели проблем не было.\n",
    "\n",
    "7. На этапе проверки модели проблем не было.\n",
    "\n",
    "8. На этапе анализа важности признаков проблем не было.\n",
    "---\n",
    "\n",
    "**Итоговый список признаков:**\n",
    "\n",
    "- `Type` - тип оплаты: ежемесячный, годовой и тд;\n",
    "- `PaperlessBilling`– безналичный расчет;\n",
    "- `PaymentMethod` - способ оплаты: электронный чек, почтовый чек, банковский перевод и кредитная карта;\n",
    "- `MonthlyCharges` - ежемесячные траты на услуги;\n",
    "- `MultipleLines`  - возможность подключения телефонного аппарата к нескольким линиям одновременно;\n",
    "- `SeniorCitizen` - наличие пенсионного статуса по возрасту;\n",
    "- `Partner` - наличие супруга(и);\n",
    "- `Dependents` - наличие иждивенцев;\n",
    "- `OnlineSecurity` - услуга блокировки небезопасных сайтов;\n",
    "- `OnlineBackup`  - услуга облачного хранилища файлов для резервного копирования данных;\n",
    "- `DeviceProtection` - услуга антивируса;\n",
    "- `TechSupport` - выделенная линия технической поддержки;\n",
    "- `StreamingTV` - услуга стримингового телевидения;\n",
    "- `StreamingMovies` - услуга каталога фильмов;\n",
    "- `TotalTime` - общее время пользования услугами оператора.\n",
    "\n",
    "Целевой признак:\n",
    "- `escape_client` - ушел ли клиент.\n",
    "\n",
    "Кодирование категориальны признаков производилось с помощью `OrdinalEncoder()`.\n",
    "Стандартизация количественных признаков производилось с помощью `StandardScaler()`.\n",
    "\n",
    "---\n",
    "\n",
    "**Лучшая модель:**\n",
    "\n",
    "|Модель|Гиперпараметры|ROC-AUC|\n",
    "|:-|:-:|:-:|\n",
    "|CatBoostClassifier|'depth': 2, 'iterations': 1000, 'learning_rate': 0.3|0.929|\n",
    "\n",
    "---\n",
    "**Итоговые метрики лучшей модели на test:**\n",
    "\n",
    "\n",
    "|Модель|Accuracy|ROC-AUC|\n",
    "|:-|:-:|:-:|\n",
    "|CatBoostClassifier|0.92|0.93|\n"
   ]
  }
 ],
 "metadata": {
  "ExecuteTimeLog": [
   {
    "duration": 1375,
    "start_time": "2023-09-05T17:57:38.246Z"
   },
   {
    "duration": 0,
    "start_time": "2023-09-05T17:57:39.624Z"
   },
   {
    "duration": 0,
    "start_time": "2023-09-05T17:57:39.625Z"
   },
   {
    "duration": 0,
    "start_time": "2023-09-05T17:57:39.627Z"
   },
   {
    "duration": 0,
    "start_time": "2023-09-05T17:57:39.628Z"
   },
   {
    "duration": 0,
    "start_time": "2023-09-05T17:57:39.629Z"
   },
   {
    "duration": 0,
    "start_time": "2023-09-05T17:57:39.630Z"
   },
   {
    "duration": 0,
    "start_time": "2023-09-05T17:57:39.631Z"
   },
   {
    "duration": 0,
    "start_time": "2023-09-05T17:57:39.632Z"
   },
   {
    "duration": 0,
    "start_time": "2023-09-05T17:57:39.633Z"
   },
   {
    "duration": 0,
    "start_time": "2023-09-05T17:57:39.634Z"
   },
   {
    "duration": 0,
    "start_time": "2023-09-05T17:57:39.635Z"
   },
   {
    "duration": 0,
    "start_time": "2023-09-05T17:57:39.649Z"
   },
   {
    "duration": 0,
    "start_time": "2023-09-05T17:57:39.650Z"
   },
   {
    "duration": 0,
    "start_time": "2023-09-05T17:57:39.650Z"
   },
   {
    "duration": 0,
    "start_time": "2023-09-05T17:57:39.651Z"
   },
   {
    "duration": 0,
    "start_time": "2023-09-05T17:57:39.652Z"
   },
   {
    "duration": 0,
    "start_time": "2023-09-05T17:57:39.653Z"
   },
   {
    "duration": 0,
    "start_time": "2023-09-05T17:57:39.654Z"
   },
   {
    "duration": 0,
    "start_time": "2023-09-05T17:57:39.655Z"
   },
   {
    "duration": 0,
    "start_time": "2023-09-05T17:57:39.656Z"
   },
   {
    "duration": 0,
    "start_time": "2023-09-05T17:57:39.657Z"
   },
   {
    "duration": 0,
    "start_time": "2023-09-05T17:57:39.658Z"
   },
   {
    "duration": 0,
    "start_time": "2023-09-05T17:57:39.659Z"
   },
   {
    "duration": 0,
    "start_time": "2023-09-05T17:57:39.660Z"
   },
   {
    "duration": 0,
    "start_time": "2023-09-05T17:57:39.661Z"
   },
   {
    "duration": 0,
    "start_time": "2023-09-05T17:57:39.662Z"
   },
   {
    "duration": 0,
    "start_time": "2023-09-05T17:57:39.663Z"
   },
   {
    "duration": 0,
    "start_time": "2023-09-05T17:57:39.664Z"
   },
   {
    "duration": 0,
    "start_time": "2023-09-05T17:57:39.664Z"
   },
   {
    "duration": 0,
    "start_time": "2023-09-05T17:57:39.666Z"
   },
   {
    "duration": 0,
    "start_time": "2023-09-05T17:57:39.667Z"
   },
   {
    "duration": 0,
    "start_time": "2023-09-05T17:57:39.668Z"
   },
   {
    "duration": 0,
    "start_time": "2023-09-05T17:57:39.669Z"
   },
   {
    "duration": 0,
    "start_time": "2023-09-05T17:57:39.670Z"
   },
   {
    "duration": 0,
    "start_time": "2023-09-05T17:57:39.671Z"
   },
   {
    "duration": 0,
    "start_time": "2023-09-05T17:57:39.672Z"
   },
   {
    "duration": 0,
    "start_time": "2023-09-05T17:57:39.673Z"
   },
   {
    "duration": 0,
    "start_time": "2023-09-05T17:57:39.674Z"
   },
   {
    "duration": 0,
    "start_time": "2023-09-05T17:57:39.676Z"
   },
   {
    "duration": 0,
    "start_time": "2023-09-05T17:57:39.678Z"
   },
   {
    "duration": 0,
    "start_time": "2023-09-05T17:57:39.679Z"
   },
   {
    "duration": 0,
    "start_time": "2023-09-05T17:57:39.680Z"
   },
   {
    "duration": 0,
    "start_time": "2023-09-05T17:57:39.682Z"
   },
   {
    "duration": 0,
    "start_time": "2023-09-05T17:57:39.682Z"
   },
   {
    "duration": 0,
    "start_time": "2023-09-05T17:57:39.684Z"
   },
   {
    "duration": 0,
    "start_time": "2023-09-05T17:57:39.685Z"
   },
   {
    "duration": 0,
    "start_time": "2023-09-05T17:57:39.686Z"
   },
   {
    "duration": 0,
    "start_time": "2023-09-05T17:57:39.750Z"
   },
   {
    "duration": 0,
    "start_time": "2023-09-05T17:57:39.751Z"
   },
   {
    "duration": 0,
    "start_time": "2023-09-05T17:57:39.752Z"
   },
   {
    "duration": 10511,
    "start_time": "2023-09-05T17:58:08.815Z"
   },
   {
    "duration": 460,
    "start_time": "2023-09-05T17:58:19.328Z"
   },
   {
    "duration": 18,
    "start_time": "2023-09-05T17:58:19.789Z"
   },
   {
    "duration": 12,
    "start_time": "2023-09-05T17:58:19.808Z"
   },
   {
    "duration": 10,
    "start_time": "2023-09-05T17:58:19.823Z"
   },
   {
    "duration": 10,
    "start_time": "2023-09-05T17:58:19.834Z"
   },
   {
    "duration": 11,
    "start_time": "2023-09-05T17:58:19.845Z"
   },
   {
    "duration": 12,
    "start_time": "2023-09-05T17:58:19.858Z"
   },
   {
    "duration": 8,
    "start_time": "2023-09-05T17:58:19.871Z"
   },
   {
    "duration": 13,
    "start_time": "2023-09-05T17:58:19.881Z"
   },
   {
    "duration": 7,
    "start_time": "2023-09-05T17:58:19.896Z"
   },
   {
    "duration": 6,
    "start_time": "2023-09-05T17:58:19.905Z"
   },
   {
    "duration": 10,
    "start_time": "2023-09-05T17:58:19.912Z"
   },
   {
    "duration": 5,
    "start_time": "2023-09-05T17:58:19.949Z"
   },
   {
    "duration": 13,
    "start_time": "2023-09-05T17:58:19.956Z"
   },
   {
    "duration": 12,
    "start_time": "2023-09-05T17:58:19.970Z"
   },
   {
    "duration": 18,
    "start_time": "2023-09-05T17:58:19.983Z"
   },
   {
    "duration": 9,
    "start_time": "2023-09-05T17:58:20.002Z"
   },
   {
    "duration": 34,
    "start_time": "2023-09-05T17:58:20.013Z"
   },
   {
    "duration": 30,
    "start_time": "2023-09-05T17:58:20.049Z"
   },
   {
    "duration": 24,
    "start_time": "2023-09-05T17:58:20.080Z"
   },
   {
    "duration": 35,
    "start_time": "2023-09-05T17:58:20.105Z"
   },
   {
    "duration": 9,
    "start_time": "2023-09-05T17:58:20.142Z"
   },
   {
    "duration": 18,
    "start_time": "2023-09-05T17:58:20.152Z"
   },
   {
    "duration": 16,
    "start_time": "2023-09-05T17:58:20.173Z"
   },
   {
    "duration": 21,
    "start_time": "2023-09-05T17:58:20.191Z"
   },
   {
    "duration": 18,
    "start_time": "2023-09-05T17:58:20.214Z"
   },
   {
    "duration": 6,
    "start_time": "2023-09-05T17:58:20.235Z"
   },
   {
    "duration": 4,
    "start_time": "2023-09-05T17:58:20.242Z"
   },
   {
    "duration": 180,
    "start_time": "2023-09-05T17:58:20.247Z"
   },
   {
    "duration": 179,
    "start_time": "2023-09-05T17:58:20.429Z"
   },
   {
    "duration": 22,
    "start_time": "2023-09-05T17:58:20.610Z"
   },
   {
    "duration": 19,
    "start_time": "2023-09-05T17:58:20.633Z"
   },
   {
    "duration": 331,
    "start_time": "2023-09-05T17:58:20.654Z"
   },
   {
    "duration": 174,
    "start_time": "2023-09-05T17:58:20.986Z"
   },
   {
    "duration": 2658,
    "start_time": "2023-09-05T17:58:21.161Z"
   },
   {
    "duration": 2,
    "start_time": "2023-09-05T17:58:23.821Z"
   },
   {
    "duration": 36,
    "start_time": "2023-09-05T17:58:23.825Z"
   },
   {
    "duration": 25,
    "start_time": "2023-09-05T17:58:23.863Z"
   },
   {
    "duration": 19,
    "start_time": "2023-09-05T17:58:23.890Z"
   },
   {
    "duration": 16,
    "start_time": "2023-09-05T17:58:23.910Z"
   },
   {
    "duration": 4012,
    "start_time": "2023-09-05T17:58:23.928Z"
   },
   {
    "duration": 5,
    "start_time": "2023-09-05T17:58:27.942Z"
   },
   {
    "duration": 13,
    "start_time": "2023-09-05T17:58:27.949Z"
   },
   {
    "duration": 15,
    "start_time": "2023-09-05T17:58:27.964Z"
   },
   {
    "duration": 11,
    "start_time": "2023-09-05T17:58:27.981Z"
   },
   {
    "duration": 5,
    "start_time": "2023-09-05T17:58:27.994Z"
   },
   {
    "duration": 5,
    "start_time": "2023-09-05T17:58:28.000Z"
   },
   {
    "duration": 9,
    "start_time": "2023-09-05T17:58:28.007Z"
   },
   {
    "duration": 3,
    "start_time": "2023-09-05T17:58:28.017Z"
   },
   {
    "duration": 5,
    "start_time": "2023-09-05T17:58:28.021Z"
   },
   {
    "duration": 39,
    "start_time": "2023-09-05T17:58:32.388Z"
   },
   {
    "duration": 3,
    "start_time": "2023-09-05T17:58:36.894Z"
   },
   {
    "duration": 32,
    "start_time": "2023-09-05T17:58:38.641Z"
   },
   {
    "duration": 13,
    "start_time": "2023-09-05T17:59:01.237Z"
   },
   {
    "duration": 12,
    "start_time": "2023-09-05T17:59:38.236Z"
   },
   {
    "duration": 4,
    "start_time": "2023-09-05T18:00:14.401Z"
   },
   {
    "duration": 17,
    "start_time": "2023-09-05T18:03:25.901Z"
   },
   {
    "duration": 26,
    "start_time": "2023-09-05T18:03:46.122Z"
   },
   {
    "duration": 31,
    "start_time": "2023-09-05T18:07:40.815Z"
   },
   {
    "duration": 62,
    "start_time": "2023-09-05T18:07:48.018Z"
   },
   {
    "duration": 20,
    "start_time": "2023-09-05T18:08:00.576Z"
   },
   {
    "duration": 7996,
    "start_time": "2023-09-05T18:08:20.832Z"
   },
   {
    "duration": 289,
    "start_time": "2023-09-05T18:08:28.830Z"
   },
   {
    "duration": 22,
    "start_time": "2023-09-05T18:08:29.121Z"
   },
   {
    "duration": 24,
    "start_time": "2023-09-05T18:08:29.146Z"
   },
   {
    "duration": 24,
    "start_time": "2023-09-05T18:08:29.171Z"
   },
   {
    "duration": 13,
    "start_time": "2023-09-05T18:08:29.197Z"
   },
   {
    "duration": 31,
    "start_time": "2023-09-05T18:08:29.212Z"
   },
   {
    "duration": 16,
    "start_time": "2023-09-05T18:08:29.245Z"
   },
   {
    "duration": 10,
    "start_time": "2023-09-05T18:08:29.263Z"
   },
   {
    "duration": 23,
    "start_time": "2023-09-05T18:08:29.275Z"
   },
   {
    "duration": 14,
    "start_time": "2023-09-05T18:08:29.299Z"
   },
   {
    "duration": 8,
    "start_time": "2023-09-05T18:08:29.314Z"
   },
   {
    "duration": 19,
    "start_time": "2023-09-05T18:08:29.323Z"
   },
   {
    "duration": 20,
    "start_time": "2023-09-05T18:08:29.344Z"
   },
   {
    "duration": 7,
    "start_time": "2023-09-05T18:08:29.365Z"
   },
   {
    "duration": 7,
    "start_time": "2023-09-05T18:08:29.373Z"
   },
   {
    "duration": 9,
    "start_time": "2023-09-05T18:08:29.381Z"
   },
   {
    "duration": 6,
    "start_time": "2023-09-05T18:08:29.392Z"
   },
   {
    "duration": 8,
    "start_time": "2023-09-05T18:08:29.399Z"
   },
   {
    "duration": 21,
    "start_time": "2023-09-05T18:08:29.409Z"
   },
   {
    "duration": 23,
    "start_time": "2023-09-05T18:08:29.431Z"
   },
   {
    "duration": 29,
    "start_time": "2023-09-05T18:08:29.456Z"
   },
   {
    "duration": 2,
    "start_time": "2023-09-05T18:08:29.487Z"
   },
   {
    "duration": 12,
    "start_time": "2023-09-05T18:08:29.491Z"
   },
   {
    "duration": 6,
    "start_time": "2023-09-05T18:08:29.504Z"
   },
   {
    "duration": 14,
    "start_time": "2023-09-05T18:08:29.511Z"
   },
   {
    "duration": 17,
    "start_time": "2023-09-05T18:08:29.526Z"
   },
   {
    "duration": 18,
    "start_time": "2023-09-05T18:08:29.546Z"
   },
   {
    "duration": 4,
    "start_time": "2023-09-05T18:08:29.567Z"
   },
   {
    "duration": 185,
    "start_time": "2023-09-05T18:08:29.573Z"
   },
   {
    "duration": 175,
    "start_time": "2023-09-05T18:08:29.760Z"
   },
   {
    "duration": 31,
    "start_time": "2023-09-05T18:08:29.937Z"
   },
   {
    "duration": 4,
    "start_time": "2023-09-05T18:08:29.970Z"
   },
   {
    "duration": 354,
    "start_time": "2023-09-05T18:08:29.975Z"
   },
   {
    "duration": 211,
    "start_time": "2023-09-05T18:08:30.330Z"
   },
   {
    "duration": 2733,
    "start_time": "2023-09-05T18:08:30.542Z"
   },
   {
    "duration": 2,
    "start_time": "2023-09-05T18:08:33.277Z"
   },
   {
    "duration": 26,
    "start_time": "2023-09-05T18:08:33.281Z"
   },
   {
    "duration": 25,
    "start_time": "2023-09-05T18:08:33.309Z"
   },
   {
    "duration": 26,
    "start_time": "2023-09-05T18:08:33.336Z"
   },
   {
    "duration": 15,
    "start_time": "2023-09-05T18:08:33.364Z"
   },
   {
    "duration": 4319,
    "start_time": "2023-09-05T18:08:33.381Z"
   },
   {
    "duration": 5,
    "start_time": "2023-09-05T18:08:37.702Z"
   },
   {
    "duration": 9,
    "start_time": "2023-09-05T18:08:37.708Z"
   },
   {
    "duration": 7,
    "start_time": "2023-09-05T18:08:37.718Z"
   },
   {
    "duration": 11,
    "start_time": "2023-09-05T18:08:37.727Z"
   },
   {
    "duration": 5,
    "start_time": "2023-09-05T18:08:37.739Z"
   },
   {
    "duration": 8,
    "start_time": "2023-09-05T18:08:37.746Z"
   },
   {
    "duration": 18,
    "start_time": "2023-09-05T18:08:37.755Z"
   },
   {
    "duration": 3,
    "start_time": "2023-09-05T18:08:37.775Z"
   },
   {
    "duration": 4,
    "start_time": "2023-09-05T18:08:37.779Z"
   },
   {
    "duration": 30,
    "start_time": "2023-09-05T18:08:37.784Z"
   },
   {
    "duration": 92,
    "start_time": "2023-09-05T18:08:37.815Z"
   },
   {
    "duration": 3,
    "start_time": "2023-09-05T18:08:37.908Z"
   },
   {
    "duration": 116,
    "start_time": "2023-09-05T18:08:37.912Z"
   },
   {
    "duration": 0,
    "start_time": "2023-09-05T18:08:38.029Z"
   },
   {
    "duration": 61,
    "start_time": "2023-09-05T18:08:49.629Z"
   },
   {
    "duration": 4,
    "start_time": "2023-09-05T18:08:51.718Z"
   },
   {
    "duration": 18,
    "start_time": "2023-09-05T18:08:54.930Z"
   },
   {
    "duration": 24,
    "start_time": "2023-09-05T18:09:25.305Z"
   },
   {
    "duration": 5,
    "start_time": "2023-09-05T18:09:47.911Z"
   },
   {
    "duration": 7,
    "start_time": "2023-09-05T18:09:52.749Z"
   },
   {
    "duration": 38,
    "start_time": "2023-09-05T18:09:55.673Z"
   },
   {
    "duration": 3,
    "start_time": "2023-09-05T18:10:11.205Z"
   },
   {
    "duration": 48,
    "start_time": "2023-09-05T18:10:13.212Z"
   },
   {
    "duration": 8,
    "start_time": "2023-09-05T18:10:15.655Z"
   },
   {
    "duration": 40,
    "start_time": "2023-09-05T18:10:16.322Z"
   },
   {
    "duration": 26,
    "start_time": "2023-09-05T18:10:17.058Z"
   },
   {
    "duration": 7777,
    "start_time": "2023-09-05T18:11:39.534Z"
   },
   {
    "duration": 249,
    "start_time": "2023-09-05T18:11:47.313Z"
   },
   {
    "duration": 17,
    "start_time": "2023-09-05T18:11:47.563Z"
   },
   {
    "duration": 12,
    "start_time": "2023-09-05T18:11:47.582Z"
   },
   {
    "duration": 9,
    "start_time": "2023-09-05T18:11:47.595Z"
   },
   {
    "duration": 9,
    "start_time": "2023-09-05T18:11:47.605Z"
   },
   {
    "duration": 20,
    "start_time": "2023-09-05T18:11:47.616Z"
   },
   {
    "duration": 17,
    "start_time": "2023-09-05T18:11:47.637Z"
   },
   {
    "duration": 37,
    "start_time": "2023-09-05T18:11:47.655Z"
   },
   {
    "duration": 10,
    "start_time": "2023-09-05T18:11:47.695Z"
   },
   {
    "duration": 7,
    "start_time": "2023-09-05T18:11:47.706Z"
   },
   {
    "duration": 16,
    "start_time": "2023-09-05T18:11:47.714Z"
   },
   {
    "duration": 10,
    "start_time": "2023-09-05T18:11:47.731Z"
   },
   {
    "duration": 5,
    "start_time": "2023-09-05T18:11:47.742Z"
   },
   {
    "duration": 6,
    "start_time": "2023-09-05T18:11:47.748Z"
   },
   {
    "duration": 15,
    "start_time": "2023-09-05T18:11:47.756Z"
   },
   {
    "duration": 7,
    "start_time": "2023-09-05T18:11:47.772Z"
   },
   {
    "duration": 15,
    "start_time": "2023-09-05T18:11:47.780Z"
   },
   {
    "duration": 17,
    "start_time": "2023-09-05T18:11:47.797Z"
   },
   {
    "duration": 40,
    "start_time": "2023-09-05T18:11:47.815Z"
   },
   {
    "duration": 15,
    "start_time": "2023-09-05T18:11:47.857Z"
   },
   {
    "duration": 14,
    "start_time": "2023-09-05T18:11:47.873Z"
   },
   {
    "duration": 5,
    "start_time": "2023-09-05T18:11:47.888Z"
   },
   {
    "duration": 9,
    "start_time": "2023-09-05T18:11:47.895Z"
   },
   {
    "duration": 4,
    "start_time": "2023-09-05T18:11:47.906Z"
   },
   {
    "duration": 7,
    "start_time": "2023-09-05T18:11:47.911Z"
   },
   {
    "duration": 15,
    "start_time": "2023-09-05T18:11:47.920Z"
   },
   {
    "duration": 7,
    "start_time": "2023-09-05T18:11:47.948Z"
   },
   {
    "duration": 4,
    "start_time": "2023-09-05T18:11:47.956Z"
   },
   {
    "duration": 184,
    "start_time": "2023-09-05T18:11:47.961Z"
   },
   {
    "duration": 180,
    "start_time": "2023-09-05T18:11:48.149Z"
   },
   {
    "duration": 25,
    "start_time": "2023-09-05T18:11:48.331Z"
   },
   {
    "duration": 4,
    "start_time": "2023-09-05T18:11:48.357Z"
   },
   {
    "duration": 330,
    "start_time": "2023-09-05T18:11:48.363Z"
   },
   {
    "duration": 174,
    "start_time": "2023-09-05T18:11:48.694Z"
   },
   {
    "duration": 2537,
    "start_time": "2023-09-05T18:11:48.870Z"
   },
   {
    "duration": 3,
    "start_time": "2023-09-05T18:11:51.409Z"
   },
   {
    "duration": 13,
    "start_time": "2023-09-05T18:11:51.413Z"
   },
   {
    "duration": 17,
    "start_time": "2023-09-05T18:11:51.427Z"
   },
   {
    "duration": 13,
    "start_time": "2023-09-05T18:11:51.446Z"
   },
   {
    "duration": 16,
    "start_time": "2023-09-05T18:11:51.460Z"
   },
   {
    "duration": 4079,
    "start_time": "2023-09-05T18:11:51.477Z"
   },
   {
    "duration": 5,
    "start_time": "2023-09-05T18:11:55.558Z"
   },
   {
    "duration": 15,
    "start_time": "2023-09-05T18:11:55.565Z"
   },
   {
    "duration": 14,
    "start_time": "2023-09-05T18:11:55.581Z"
   },
   {
    "duration": 5,
    "start_time": "2023-09-05T18:11:55.597Z"
   },
   {
    "duration": 9,
    "start_time": "2023-09-05T18:11:55.603Z"
   },
   {
    "duration": 17,
    "start_time": "2023-09-05T18:11:55.614Z"
   },
   {
    "duration": 9,
    "start_time": "2023-09-05T18:11:55.632Z"
   },
   {
    "duration": 3,
    "start_time": "2023-09-05T18:11:55.643Z"
   },
   {
    "duration": 3,
    "start_time": "2023-09-05T18:12:01.882Z"
   },
   {
    "duration": 51,
    "start_time": "2023-09-05T18:12:04.107Z"
   },
   {
    "duration": 3,
    "start_time": "2023-09-05T18:12:07.794Z"
   },
   {
    "duration": 39,
    "start_time": "2023-09-05T18:12:09.674Z"
   },
   {
    "duration": 9,
    "start_time": "2023-09-05T18:12:12.330Z"
   },
   {
    "duration": 27,
    "start_time": "2023-09-05T18:12:13.025Z"
   },
   {
    "duration": 26,
    "start_time": "2023-09-05T18:12:13.869Z"
   },
   {
    "duration": 26,
    "start_time": "2023-09-05T18:12:28.986Z"
   },
   {
    "duration": 7647,
    "start_time": "2023-09-05T18:14:17.565Z"
   },
   {
    "duration": 257,
    "start_time": "2023-09-05T18:14:25.214Z"
   },
   {
    "duration": 17,
    "start_time": "2023-09-05T18:14:25.473Z"
   },
   {
    "duration": 12,
    "start_time": "2023-09-05T18:14:25.491Z"
   },
   {
    "duration": 10,
    "start_time": "2023-09-05T18:14:25.504Z"
   },
   {
    "duration": 9,
    "start_time": "2023-09-05T18:14:25.516Z"
   },
   {
    "duration": 22,
    "start_time": "2023-09-05T18:14:25.527Z"
   },
   {
    "duration": 8,
    "start_time": "2023-09-05T18:14:25.551Z"
   },
   {
    "duration": 8,
    "start_time": "2023-09-05T18:14:25.560Z"
   },
   {
    "duration": 10,
    "start_time": "2023-09-05T18:14:25.571Z"
   },
   {
    "duration": 10,
    "start_time": "2023-09-05T18:14:25.583Z"
   },
   {
    "duration": 7,
    "start_time": "2023-09-05T18:14:25.597Z"
   },
   {
    "duration": 49,
    "start_time": "2023-09-05T18:14:25.606Z"
   },
   {
    "duration": 7,
    "start_time": "2023-09-05T18:14:25.656Z"
   },
   {
    "duration": 3,
    "start_time": "2023-09-05T18:14:25.664Z"
   },
   {
    "duration": 17,
    "start_time": "2023-09-05T18:14:25.668Z"
   },
   {
    "duration": 9,
    "start_time": "2023-09-05T18:14:25.686Z"
   },
   {
    "duration": 5,
    "start_time": "2023-09-05T18:14:25.696Z"
   },
   {
    "duration": 6,
    "start_time": "2023-09-05T18:14:25.703Z"
   },
   {
    "duration": 22,
    "start_time": "2023-09-05T18:14:25.711Z"
   },
   {
    "duration": 21,
    "start_time": "2023-09-05T18:14:25.735Z"
   },
   {
    "duration": 38,
    "start_time": "2023-09-05T18:14:25.758Z"
   },
   {
    "duration": 3,
    "start_time": "2023-09-05T18:14:25.798Z"
   },
   {
    "duration": 22,
    "start_time": "2023-09-05T18:14:25.803Z"
   },
   {
    "duration": 44,
    "start_time": "2023-09-05T18:14:25.827Z"
   },
   {
    "duration": 11,
    "start_time": "2023-09-05T18:14:25.872Z"
   },
   {
    "duration": 35,
    "start_time": "2023-09-05T18:14:25.884Z"
   },
   {
    "duration": 9,
    "start_time": "2023-09-05T18:14:25.923Z"
   },
   {
    "duration": 8,
    "start_time": "2023-09-05T18:14:25.933Z"
   },
   {
    "duration": 244,
    "start_time": "2023-09-05T18:14:25.943Z"
   },
   {
    "duration": 196,
    "start_time": "2023-09-05T18:14:26.189Z"
   },
   {
    "duration": 20,
    "start_time": "2023-09-05T18:14:26.386Z"
   },
   {
    "duration": 4,
    "start_time": "2023-09-05T18:14:26.408Z"
   },
   {
    "duration": 368,
    "start_time": "2023-09-05T18:14:26.413Z"
   },
   {
    "duration": 179,
    "start_time": "2023-09-05T18:14:26.783Z"
   },
   {
    "duration": 2841,
    "start_time": "2023-09-05T18:14:26.964Z"
   },
   {
    "duration": 3,
    "start_time": "2023-09-05T18:14:29.807Z"
   },
   {
    "duration": 19,
    "start_time": "2023-09-05T18:14:29.812Z"
   },
   {
    "duration": 19,
    "start_time": "2023-09-05T18:14:29.832Z"
   },
   {
    "duration": 20,
    "start_time": "2023-09-05T18:14:29.852Z"
   },
   {
    "duration": 27,
    "start_time": "2023-09-05T18:14:29.873Z"
   },
   {
    "duration": 4026,
    "start_time": "2023-09-05T18:14:29.902Z"
   },
   {
    "duration": 5,
    "start_time": "2023-09-05T18:14:33.930Z"
   },
   {
    "duration": 27,
    "start_time": "2023-09-05T18:14:33.936Z"
   },
   {
    "duration": 12,
    "start_time": "2023-09-05T18:14:33.964Z"
   },
   {
    "duration": 5,
    "start_time": "2023-09-05T18:14:33.977Z"
   },
   {
    "duration": 4,
    "start_time": "2023-09-05T18:14:33.984Z"
   },
   {
    "duration": 11,
    "start_time": "2023-09-05T18:14:33.989Z"
   },
   {
    "duration": 16,
    "start_time": "2023-09-05T18:14:34.001Z"
   },
   {
    "duration": 18,
    "start_time": "2023-09-05T18:14:34.019Z"
   },
   {
    "duration": 8,
    "start_time": "2023-09-05T18:14:34.038Z"
   },
   {
    "duration": 6,
    "start_time": "2023-09-05T18:14:34.047Z"
   },
   {
    "duration": 6,
    "start_time": "2023-09-05T18:14:34.054Z"
   },
   {
    "duration": 49,
    "start_time": "2023-09-05T18:14:34.061Z"
   },
   {
    "duration": 3,
    "start_time": "2023-09-05T18:14:34.111Z"
   },
   {
    "duration": 4,
    "start_time": "2023-09-05T18:14:34.116Z"
   },
   {
    "duration": 56,
    "start_time": "2023-09-05T18:14:34.122Z"
   },
   {
    "duration": 9,
    "start_time": "2023-09-05T18:14:34.180Z"
   },
   {
    "duration": 32,
    "start_time": "2023-09-05T18:14:34.191Z"
   },
   {
    "duration": 38,
    "start_time": "2023-09-05T18:14:34.225Z"
   },
   {
    "duration": 3,
    "start_time": "2023-09-05T18:14:34.265Z"
   },
   {
    "duration": 2788,
    "start_time": "2023-09-05T18:14:34.270Z"
   },
   {
    "duration": 90,
    "start_time": "2023-09-05T18:14:37.060Z"
   },
   {
    "duration": 237490,
    "start_time": "2023-09-05T18:14:37.152Z"
   },
   {
    "duration": 11,
    "start_time": "2023-09-05T18:18:34.645Z"
   },
   {
    "duration": 3,
    "start_time": "2023-09-05T18:18:34.664Z"
   },
   {
    "duration": 23238,
    "start_time": "2023-09-05T18:18:34.668Z"
   },
   {
    "duration": 2697,
    "start_time": "2023-09-05T18:18:57.907Z"
   },
   {
    "duration": 6,
    "start_time": "2023-09-05T18:19:00.605Z"
   },
   {
    "duration": 508,
    "start_time": "2023-09-05T18:19:00.613Z"
   },
   {
    "duration": 4,
    "start_time": "2023-09-05T18:19:01.122Z"
   },
   {
    "duration": 56,
    "start_time": "2023-09-05T18:19:01.127Z"
   },
   {
    "duration": 30,
    "start_time": "2023-09-05T18:19:01.184Z"
   },
   {
    "duration": 320,
    "start_time": "2023-09-05T18:19:01.215Z"
   },
   {
    "duration": 8062,
    "start_time": "2023-09-05T18:21:52.675Z"
   },
   {
    "duration": 327,
    "start_time": "2023-09-05T18:22:00.739Z"
   },
   {
    "duration": 18,
    "start_time": "2023-09-05T18:22:01.068Z"
   },
   {
    "duration": 86,
    "start_time": "2023-09-05T18:22:01.088Z"
   },
   {
    "duration": 48,
    "start_time": "2023-09-05T18:22:01.177Z"
   },
   {
    "duration": 52,
    "start_time": "2023-09-05T18:22:01.226Z"
   },
   {
    "duration": 61,
    "start_time": "2023-09-05T18:22:01.279Z"
   },
   {
    "duration": 135,
    "start_time": "2023-09-05T18:22:01.342Z"
   },
   {
    "duration": 144,
    "start_time": "2023-09-05T18:22:01.478Z"
   },
   {
    "duration": 55,
    "start_time": "2023-09-05T18:22:01.623Z"
   },
   {
    "duration": 32,
    "start_time": "2023-09-05T18:22:01.679Z"
   },
   {
    "duration": 57,
    "start_time": "2023-09-05T18:22:01.713Z"
   },
   {
    "duration": 47,
    "start_time": "2023-09-05T18:22:01.771Z"
   },
   {
    "duration": 58,
    "start_time": "2023-09-05T18:22:01.821Z"
   },
   {
    "duration": 22,
    "start_time": "2023-09-05T18:22:01.881Z"
   },
   {
    "duration": 31,
    "start_time": "2023-09-05T18:22:01.904Z"
   },
   {
    "duration": 57,
    "start_time": "2023-09-05T18:22:01.937Z"
   },
   {
    "duration": 27,
    "start_time": "2023-09-05T18:22:01.996Z"
   },
   {
    "duration": 17,
    "start_time": "2023-09-05T18:22:02.024Z"
   },
   {
    "duration": 54,
    "start_time": "2023-09-05T18:22:02.042Z"
   },
   {
    "duration": 18,
    "start_time": "2023-09-05T18:22:02.098Z"
   },
   {
    "duration": 51,
    "start_time": "2023-09-05T18:22:02.117Z"
   },
   {
    "duration": 27,
    "start_time": "2023-09-05T18:22:02.170Z"
   },
   {
    "duration": 34,
    "start_time": "2023-09-05T18:22:02.199Z"
   },
   {
    "duration": 17,
    "start_time": "2023-09-05T18:22:02.234Z"
   },
   {
    "duration": 19,
    "start_time": "2023-09-05T18:22:02.254Z"
   },
   {
    "duration": 27,
    "start_time": "2023-09-05T18:22:02.274Z"
   },
   {
    "duration": 31,
    "start_time": "2023-09-05T18:22:02.304Z"
   },
   {
    "duration": 34,
    "start_time": "2023-09-05T18:22:02.337Z"
   },
   {
    "duration": 224,
    "start_time": "2023-09-05T18:22:02.375Z"
   },
   {
    "duration": 192,
    "start_time": "2023-09-05T18:22:02.601Z"
   },
   {
    "duration": 18,
    "start_time": "2023-09-05T18:22:02.794Z"
   },
   {
    "duration": 11,
    "start_time": "2023-09-05T18:22:02.814Z"
   },
   {
    "duration": 365,
    "start_time": "2023-09-05T18:22:02.826Z"
   },
   {
    "duration": 192,
    "start_time": "2023-09-05T18:22:03.193Z"
   },
   {
    "duration": 2923,
    "start_time": "2023-09-05T18:22:03.387Z"
   },
   {
    "duration": 3,
    "start_time": "2023-09-05T18:22:06.312Z"
   },
   {
    "duration": 42,
    "start_time": "2023-09-05T18:22:06.316Z"
   },
   {
    "duration": 28,
    "start_time": "2023-09-05T18:22:06.362Z"
   },
   {
    "duration": 30,
    "start_time": "2023-09-05T18:22:06.392Z"
   },
   {
    "duration": 42,
    "start_time": "2023-09-05T18:22:06.426Z"
   },
   {
    "duration": 4161,
    "start_time": "2023-09-05T18:22:06.471Z"
   },
   {
    "duration": 5,
    "start_time": "2023-09-05T18:22:10.634Z"
   },
   {
    "duration": 23,
    "start_time": "2023-09-05T18:22:10.641Z"
   },
   {
    "duration": 17,
    "start_time": "2023-09-05T18:22:10.666Z"
   },
   {
    "duration": 16,
    "start_time": "2023-09-05T18:22:10.684Z"
   },
   {
    "duration": 25,
    "start_time": "2023-09-05T18:22:10.701Z"
   },
   {
    "duration": 17,
    "start_time": "2023-09-05T18:22:10.727Z"
   },
   {
    "duration": 23,
    "start_time": "2023-09-05T18:22:10.745Z"
   },
   {
    "duration": 3,
    "start_time": "2023-09-05T18:22:10.770Z"
   },
   {
    "duration": 7,
    "start_time": "2023-09-05T18:22:10.775Z"
   },
   {
    "duration": 9,
    "start_time": "2023-09-05T18:22:10.783Z"
   },
   {
    "duration": 4,
    "start_time": "2023-09-05T18:22:10.794Z"
   },
   {
    "duration": 58,
    "start_time": "2023-09-05T18:22:10.799Z"
   },
   {
    "duration": 3,
    "start_time": "2023-09-05T18:22:10.863Z"
   },
   {
    "duration": 4,
    "start_time": "2023-09-05T18:22:10.868Z"
   },
   {
    "duration": 38,
    "start_time": "2023-09-05T18:22:10.873Z"
   },
   {
    "duration": 7,
    "start_time": "2023-09-05T18:22:10.912Z"
   },
   {
    "duration": 48,
    "start_time": "2023-09-05T18:22:10.920Z"
   },
   {
    "duration": 27,
    "start_time": "2023-09-05T18:22:10.969Z"
   },
   {
    "duration": 2,
    "start_time": "2023-09-05T18:22:10.998Z"
   },
   {
    "duration": 4155,
    "start_time": "2023-09-05T18:22:11.001Z"
   },
   {
    "duration": 12,
    "start_time": "2023-09-05T18:22:15.158Z"
   },
   {
    "duration": 225373,
    "start_time": "2023-09-05T18:22:15.172Z"
   },
   {
    "duration": 2,
    "start_time": "2023-09-05T18:26:00.547Z"
   },
   {
    "duration": 33,
    "start_time": "2023-09-05T18:26:00.551Z"
   },
   {
    "duration": 22135,
    "start_time": "2023-09-05T18:26:00.586Z"
   },
   {
    "duration": 2382,
    "start_time": "2023-09-05T18:26:22.722Z"
   },
   {
    "duration": 6,
    "start_time": "2023-09-05T18:26:25.105Z"
   },
   {
    "duration": 522,
    "start_time": "2023-09-05T18:26:25.112Z"
   },
   {
    "duration": 3,
    "start_time": "2023-09-05T18:26:25.636Z"
   },
   {
    "duration": 31,
    "start_time": "2023-09-05T18:26:25.640Z"
   },
   {
    "duration": 7,
    "start_time": "2023-09-05T18:26:25.673Z"
   },
   {
    "duration": 279,
    "start_time": "2023-09-05T18:26:25.681Z"
   },
   {
    "duration": 14222,
    "start_time": "2023-09-08T19:16:33.996Z"
   },
   {
    "duration": 584,
    "start_time": "2023-09-08T19:16:48.221Z"
   },
   {
    "duration": 20,
    "start_time": "2023-09-08T19:16:48.806Z"
   },
   {
    "duration": 114,
    "start_time": "2023-09-08T19:16:48.828Z"
   },
   {
    "duration": 49,
    "start_time": "2023-09-08T19:16:48.944Z"
   },
   {
    "duration": 57,
    "start_time": "2023-09-08T19:16:48.995Z"
   },
   {
    "duration": 26,
    "start_time": "2023-09-08T19:16:49.054Z"
   },
   {
    "duration": 21,
    "start_time": "2023-09-08T19:16:49.082Z"
   },
   {
    "duration": 20,
    "start_time": "2023-09-08T19:16:49.105Z"
   },
   {
    "duration": 16,
    "start_time": "2023-09-08T19:16:49.128Z"
   },
   {
    "duration": 17,
    "start_time": "2023-09-08T19:16:49.146Z"
   },
   {
    "duration": 14,
    "start_time": "2023-09-08T19:16:49.165Z"
   },
   {
    "duration": 22,
    "start_time": "2023-09-08T19:16:49.181Z"
   },
   {
    "duration": 8,
    "start_time": "2023-09-08T19:16:49.205Z"
   },
   {
    "duration": 2,
    "start_time": "2023-09-08T19:16:49.215Z"
   },
   {
    "duration": 8,
    "start_time": "2023-09-08T19:16:49.219Z"
   },
   {
    "duration": 11,
    "start_time": "2023-09-08T19:16:49.229Z"
   },
   {
    "duration": 11,
    "start_time": "2023-09-08T19:16:49.242Z"
   },
   {
    "duration": 6,
    "start_time": "2023-09-08T19:16:49.255Z"
   },
   {
    "duration": 45,
    "start_time": "2023-09-08T19:16:49.263Z"
   },
   {
    "duration": 118,
    "start_time": "2023-09-08T19:16:49.311Z"
   },
   {
    "duration": 83,
    "start_time": "2023-09-08T19:16:49.431Z"
   },
   {
    "duration": 75,
    "start_time": "2023-09-08T19:16:49.516Z"
   },
   {
    "duration": 44,
    "start_time": "2023-09-08T19:16:49.592Z"
   },
   {
    "duration": 96,
    "start_time": "2023-09-08T19:16:49.638Z"
   },
   {
    "duration": 74,
    "start_time": "2023-09-08T19:16:49.736Z"
   },
   {
    "duration": 79,
    "start_time": "2023-09-08T19:16:49.812Z"
   },
   {
    "duration": 45,
    "start_time": "2023-09-08T19:16:49.895Z"
   },
   {
    "duration": 19,
    "start_time": "2023-09-08T19:16:49.942Z"
   },
   {
    "duration": 215,
    "start_time": "2023-09-08T19:16:49.962Z"
   },
   {
    "duration": 242,
    "start_time": "2023-09-08T19:16:50.179Z"
   },
   {
    "duration": 22,
    "start_time": "2023-09-08T19:16:50.424Z"
   },
   {
    "duration": 39,
    "start_time": "2023-09-08T19:16:50.448Z"
   },
   {
    "duration": 379,
    "start_time": "2023-09-08T19:16:50.489Z"
   },
   {
    "duration": 223,
    "start_time": "2023-09-08T19:16:50.870Z"
   },
   {
    "duration": 2944,
    "start_time": "2023-09-08T19:16:51.095Z"
   },
   {
    "duration": 3,
    "start_time": "2023-09-08T19:16:54.041Z"
   },
   {
    "duration": 78,
    "start_time": "2023-09-08T19:16:54.046Z"
   },
   {
    "duration": 197,
    "start_time": "2023-09-08T19:16:54.126Z"
   },
   {
    "duration": 151,
    "start_time": "2023-09-08T19:16:54.325Z"
   },
   {
    "duration": 64,
    "start_time": "2023-09-08T19:16:54.478Z"
   },
   {
    "duration": 4578,
    "start_time": "2023-09-08T19:16:54.544Z"
   },
   {
    "duration": 5,
    "start_time": "2023-09-08T19:16:59.124Z"
   },
   {
    "duration": 7,
    "start_time": "2023-09-08T19:16:59.131Z"
   },
   {
    "duration": 12,
    "start_time": "2023-09-08T19:16:59.139Z"
   },
   {
    "duration": 21,
    "start_time": "2023-09-08T19:16:59.153Z"
   },
   {
    "duration": 10,
    "start_time": "2023-09-08T19:16:59.176Z"
   },
   {
    "duration": 29,
    "start_time": "2023-09-08T19:16:59.188Z"
   },
   {
    "duration": 10,
    "start_time": "2023-09-08T19:16:59.219Z"
   },
   {
    "duration": 7,
    "start_time": "2023-09-08T19:16:59.231Z"
   },
   {
    "duration": 19,
    "start_time": "2023-09-08T19:16:59.240Z"
   },
   {
    "duration": 8,
    "start_time": "2023-09-08T19:16:59.262Z"
   },
   {
    "duration": 15,
    "start_time": "2023-09-08T19:16:59.272Z"
   },
   {
    "duration": 142,
    "start_time": "2023-09-08T19:16:59.290Z"
   },
   {
    "duration": 0,
    "start_time": "2023-09-08T19:16:59.435Z"
   },
   {
    "duration": 0,
    "start_time": "2023-09-08T19:16:59.436Z"
   },
   {
    "duration": 0,
    "start_time": "2023-09-08T19:16:59.438Z"
   },
   {
    "duration": 0,
    "start_time": "2023-09-08T19:16:59.439Z"
   },
   {
    "duration": 0,
    "start_time": "2023-09-08T19:16:59.441Z"
   },
   {
    "duration": 0,
    "start_time": "2023-09-08T19:16:59.442Z"
   },
   {
    "duration": 1,
    "start_time": "2023-09-08T19:16:59.443Z"
   },
   {
    "duration": 0,
    "start_time": "2023-09-08T19:16:59.445Z"
   },
   {
    "duration": 0,
    "start_time": "2023-09-08T19:16:59.447Z"
   },
   {
    "duration": 0,
    "start_time": "2023-09-08T19:16:59.448Z"
   },
   {
    "duration": 0,
    "start_time": "2023-09-08T19:16:59.449Z"
   },
   {
    "duration": 0,
    "start_time": "2023-09-08T19:16:59.451Z"
   },
   {
    "duration": 0,
    "start_time": "2023-09-08T19:16:59.452Z"
   },
   {
    "duration": 0,
    "start_time": "2023-09-08T19:16:59.454Z"
   },
   {
    "duration": 0,
    "start_time": "2023-09-08T19:16:59.455Z"
   },
   {
    "duration": 0,
    "start_time": "2023-09-08T19:16:59.457Z"
   },
   {
    "duration": 0,
    "start_time": "2023-09-08T19:16:59.458Z"
   },
   {
    "duration": 0,
    "start_time": "2023-09-08T19:16:59.460Z"
   },
   {
    "duration": 0,
    "start_time": "2023-09-08T19:16:59.461Z"
   },
   {
    "duration": 0,
    "start_time": "2023-09-08T19:16:59.463Z"
   },
   {
    "duration": 22,
    "start_time": "2023-09-08T19:18:02.892Z"
   },
   {
    "duration": 9231,
    "start_time": "2023-09-08T19:19:33.225Z"
   },
   {
    "duration": 284,
    "start_time": "2023-09-08T19:19:42.459Z"
   },
   {
    "duration": 20,
    "start_time": "2023-09-08T19:19:42.745Z"
   },
   {
    "duration": 20,
    "start_time": "2023-09-08T19:19:42.767Z"
   },
   {
    "duration": 13,
    "start_time": "2023-09-08T19:19:42.789Z"
   },
   {
    "duration": 14,
    "start_time": "2023-09-08T19:19:42.804Z"
   },
   {
    "duration": 31,
    "start_time": "2023-09-08T19:19:42.823Z"
   },
   {
    "duration": 50,
    "start_time": "2023-09-08T19:19:42.855Z"
   },
   {
    "duration": 38,
    "start_time": "2023-09-08T19:19:42.907Z"
   },
   {
    "duration": 133,
    "start_time": "2023-09-08T19:19:42.949Z"
   },
   {
    "duration": 19,
    "start_time": "2023-09-08T19:19:43.084Z"
   },
   {
    "duration": 23,
    "start_time": "2023-09-08T19:19:43.104Z"
   },
   {
    "duration": 16,
    "start_time": "2023-09-08T19:19:43.129Z"
   },
   {
    "duration": 9,
    "start_time": "2023-09-08T19:19:43.147Z"
   },
   {
    "duration": 9,
    "start_time": "2023-09-08T19:19:43.158Z"
   },
   {
    "duration": 43,
    "start_time": "2023-09-08T19:19:43.169Z"
   },
   {
    "duration": 16,
    "start_time": "2023-09-08T19:19:43.214Z"
   },
   {
    "duration": 22,
    "start_time": "2023-09-08T19:19:43.232Z"
   },
   {
    "duration": 14,
    "start_time": "2023-09-08T19:19:43.256Z"
   },
   {
    "duration": 33,
    "start_time": "2023-09-08T19:19:43.273Z"
   },
   {
    "duration": 25,
    "start_time": "2023-09-08T19:19:43.309Z"
   },
   {
    "duration": 30,
    "start_time": "2023-09-08T19:19:43.336Z"
   },
   {
    "duration": 14,
    "start_time": "2023-09-08T19:19:43.368Z"
   },
   {
    "duration": 6,
    "start_time": "2023-09-08T19:19:43.384Z"
   },
   {
    "duration": 13,
    "start_time": "2023-09-08T19:19:43.391Z"
   },
   {
    "duration": 8,
    "start_time": "2023-09-08T19:19:43.405Z"
   },
   {
    "duration": 46,
    "start_time": "2023-09-08T19:19:43.414Z"
   },
   {
    "duration": 6,
    "start_time": "2023-09-08T19:19:43.464Z"
   },
   {
    "duration": 5,
    "start_time": "2023-09-08T19:19:43.472Z"
   },
   {
    "duration": 200,
    "start_time": "2023-09-08T19:19:43.478Z"
   },
   {
    "duration": 196,
    "start_time": "2023-09-08T19:19:43.679Z"
   },
   {
    "duration": 21,
    "start_time": "2023-09-08T19:19:43.877Z"
   },
   {
    "duration": 4,
    "start_time": "2023-09-08T19:19:43.900Z"
   },
   {
    "duration": 370,
    "start_time": "2023-09-08T19:19:43.906Z"
   },
   {
    "duration": 206,
    "start_time": "2023-09-08T19:19:44.278Z"
   },
   {
    "duration": 2927,
    "start_time": "2023-09-08T19:19:44.486Z"
   },
   {
    "duration": 10,
    "start_time": "2023-09-08T19:19:47.414Z"
   },
   {
    "duration": 178,
    "start_time": "2023-09-08T19:19:47.426Z"
   },
   {
    "duration": 137,
    "start_time": "2023-09-08T19:19:47.605Z"
   },
   {
    "duration": 74,
    "start_time": "2023-09-08T19:19:47.744Z"
   },
   {
    "duration": 128,
    "start_time": "2023-09-08T19:19:47.820Z"
   },
   {
    "duration": 4624,
    "start_time": "2023-09-08T19:19:47.950Z"
   },
   {
    "duration": 5,
    "start_time": "2023-09-08T19:19:52.576Z"
   },
   {
    "duration": 113,
    "start_time": "2023-09-08T19:19:52.582Z"
   },
   {
    "duration": 161,
    "start_time": "2023-09-08T19:19:52.697Z"
   },
   {
    "duration": 24,
    "start_time": "2023-09-08T19:19:52.860Z"
   },
   {
    "duration": 81,
    "start_time": "2023-09-08T19:19:52.886Z"
   },
   {
    "duration": 26,
    "start_time": "2023-09-08T19:19:52.969Z"
   },
   {
    "duration": 18,
    "start_time": "2023-09-08T19:19:52.997Z"
   },
   {
    "duration": 12,
    "start_time": "2023-09-08T19:19:53.017Z"
   },
   {
    "duration": 34,
    "start_time": "2023-09-08T19:19:53.031Z"
   },
   {
    "duration": 38,
    "start_time": "2023-09-08T19:19:53.067Z"
   },
   {
    "duration": 210,
    "start_time": "2023-09-08T19:19:53.107Z"
   },
   {
    "duration": 148,
    "start_time": "2023-09-08T19:19:53.319Z"
   },
   {
    "duration": 26,
    "start_time": "2023-09-08T19:19:53.468Z"
   },
   {
    "duration": 28,
    "start_time": "2023-09-08T19:19:53.495Z"
   },
   {
    "duration": 80,
    "start_time": "2023-09-08T19:19:53.525Z"
   },
   {
    "duration": 76,
    "start_time": "2023-09-08T19:19:53.606Z"
   },
   {
    "duration": 104,
    "start_time": "2023-09-08T19:19:53.683Z"
   },
   {
    "duration": 29,
    "start_time": "2023-09-08T19:19:53.788Z"
   },
   {
    "duration": 9,
    "start_time": "2023-09-08T19:19:53.819Z"
   },
   {
    "duration": 2295,
    "start_time": "2023-09-08T19:19:53.830Z"
   },
   {
    "duration": 5,
    "start_time": "2023-09-08T19:19:56.128Z"
   },
   {
    "duration": 315140,
    "start_time": "2023-09-08T19:19:56.224Z"
   },
   {
    "duration": 3,
    "start_time": "2023-09-08T19:25:11.367Z"
   },
   {
    "duration": 9,
    "start_time": "2023-09-08T19:25:11.373Z"
   },
   {
    "duration": 27690,
    "start_time": "2023-09-08T19:25:11.384Z"
   },
   {
    "duration": 3361,
    "start_time": "2023-09-08T19:25:39.076Z"
   },
   {
    "duration": 7,
    "start_time": "2023-09-08T19:25:42.439Z"
   },
   {
    "duration": 523,
    "start_time": "2023-09-08T19:25:42.448Z"
   },
   {
    "duration": 4,
    "start_time": "2023-09-08T19:25:42.973Z"
   },
   {
    "duration": 53,
    "start_time": "2023-09-08T19:25:42.979Z"
   },
   {
    "duration": 8,
    "start_time": "2023-09-08T19:25:43.035Z"
   },
   {
    "duration": 226,
    "start_time": "2023-09-08T19:25:43.046Z"
   },
   {
    "duration": 5,
    "start_time": "2023-09-08T19:30:43.950Z"
   }
  ],
  "kernelspec": {
   "display_name": "Python 3 (ipykernel)",
   "language": "python",
   "name": "python3"
  },
  "language_info": {
   "codemirror_mode": {
    "name": "ipython",
    "version": 3
   },
   "file_extension": ".py",
   "mimetype": "text/x-python",
   "name": "python",
   "nbconvert_exporter": "python",
   "pygments_lexer": "ipython3",
   "version": "3.9.16"
  },
  "toc": {
   "base_numbering": 1,
   "nav_menu": {},
   "number_sections": true,
   "sideBar": true,
   "skip_h1_title": true,
   "title_cell": "Table of Contents",
   "title_sidebar": "Contents",
   "toc_cell": false,
   "toc_position": {
    "height": "calc(100% - 180px)",
    "left": "10px",
    "top": "150px",
    "width": "371px"
   },
   "toc_section_display": true,
   "toc_window_display": true
  }
 },
 "nbformat": 4,
 "nbformat_minor": 2
}
